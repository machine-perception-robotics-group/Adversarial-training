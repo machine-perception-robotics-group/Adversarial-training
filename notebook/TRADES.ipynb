{
 "cells": [
  {
   "cell_type": "markdown",
   "id": "be933234-4b51-41a5-a5a0-9b831b916f96",
   "metadata": {
    "tags": []
   },
   "source": [
    "# TRADES"
   ]
  },
  {
   "cell_type": "code",
   "execution_count": 1,
   "id": "85eb3db2-6a80-4e98-8a62-4fd714fc9189",
   "metadata": {},
   "outputs": [],
   "source": [
    "import os\n",
    "import sys\n",
    "sys.path.append('..')\n",
    "import yaml\n",
    "import shutil\n",
    "import argparse\n",
    "import numpy as np\n",
    "from tqdm import tqdm\n",
    "from collections import OrderedDict\n",
    "\n",
    "import torch\n",
    "import torch.nn as nn\n",
    "import torch.nn.functional as F\n",
    "import torch.optim as optim\n",
    "from torch.optim import lr_scheduler\n",
    "from torch.utils.data import DataLoader, random_split\n",
    "\n",
    "from utils import *"
   ]
  },
  {
   "cell_type": "markdown",
   "id": "66240c81-1be4-4a34-af22-21a6292e0ff9",
   "metadata": {},
   "source": [
    "## Parameter setting"
   ]
  },
  {
   "cell_type": "code",
   "execution_count": 2,
   "id": "01de849e-a804-4062-aef7-4cfcd5999b2c",
   "metadata": {},
   "outputs": [],
   "source": [
    "gpu = '0,1,2,3'\n",
    "dataset = 'cifar10'\n",
    "model_type = 'wrn34-10'\n",
    "checkpoint = './checkpoint/trades/%s/%s' % (model_type, dataset)\n",
    "num_classes = 10\n",
    "lr = 0.1\n",
    "momentum = 0.9\n",
    "weight_decay = 2e-4\n",
    "batch_size = 128\n",
    "total_epochs = 100\n",
    "beta = 6.0\n",
    "epsilon = 8/255\n",
    "alpha = 2/255\n",
    "num_repeats = 10"
   ]
  },
  {
   "cell_type": "markdown",
   "id": "8c102405-4d46-45e0-b957-9e7022b7ae2f",
   "metadata": {},
   "source": [
    "## Inner maximization"
   ]
  },
  {
   "cell_type": "code",
   "execution_count": 3,
   "id": "2ee44a0f-0acc-41c3-95a0-e477e167e679",
   "metadata": {},
   "outputs": [],
   "source": [
    "def inner_max(model, kl, inputs, targets, epsilon, alpha, num_repeats):\n",
    "    noise = torch.FloatTensor(inputs.shape).normal_(0, 1).cuda()\n",
    "    x = torch.clamp(inputs + 0.001*noise, min=0, max=1)\n",
    "    \n",
    "    model.eval()\n",
    "    for _ in range(num_repeats):\n",
    "        x.requires_grad_()\n",
    "        with torch.enable_grad():\n",
    "            loss = kl(torch.log_softmax(model(x), dim=1),\n",
    "                      torch.softmax(model(inputs), dim=1))\n",
    "        loss.backward()\n",
    "        grads = x.grad.data\n",
    "        x = x.detach() + alpha*torch.sign(grads).detach()\n",
    "        x = torch.min(torch.max(x, inputs-epsilon), inputs+epsilon).clamp(min=0, max=1)\n",
    "    return x"
   ]
  },
  {
   "cell_type": "markdown",
   "id": "afe2591b-4ebf-4714-a3f4-85cdac7f272d",
   "metadata": {},
   "source": [
    "## Training (Outer minimization)"
   ]
  },
  {
   "cell_type": "code",
   "execution_count": 4,
   "id": "db2276c9-d52b-4544-8448-42817161084d",
   "metadata": {},
   "outputs": [],
   "source": [
    "def training(epoch, model, dataloader, optimizer, num_classes, beta=6.0, epsilon=8/255, alpha=2/255, num_repeats=10):\n",
    "    model.train()\n",
    "    total = 0\n",
    "    total_loss = 0\n",
    "    total_correct = 0\n",
    "        \n",
    "    kl = nn.KLDivLoss(size_average=False)\n",
    "    xent = nn.CrossEntropyLoss()\n",
    "    for idx, (inputs, targets) in enumerate(dataloader):\n",
    "        inputs, targets = inputs.cuda(), targets.cuda()\n",
    "        batch = inputs.size(0)\n",
    "        \n",
    "        x = inner_max(model, kl, inputs, targets, epsilon, alpha, num_repeats)\n",
    "        model.train()\n",
    "        logits_adv = model(x)\n",
    "        logits_nat = model(inputs)\n",
    "        \n",
    "        xent_loss = xent(logits_nat, targets)\n",
    "        kl_loss = kl(F.log_softmax(logits_adv, dim=1),F.softmax(logits_nat, dim=1)) / batch\n",
    "        loss = xent_loss + beta*kl_loss\n",
    "        \n",
    "        optimizer.zero_grad()\n",
    "        loss.backward()\n",
    "        optimizer.step()\n",
    "            \n",
    "        total += batch\n",
    "        total_loss += loss.item()\n",
    "        num_correct = torch.argmax(logits_adv.data, dim=1).eq(targets.data).cpu().sum().item()\n",
    "        total_correct += num_correct\n",
    "        \n",
    "        if idx % 100 == 0:\n",
    "            print('Epoch %d [%d/%d] | loss: %.4f (avg: %.4f) | acc: %.4f (avg: %.4f) |'\\\n",
    "                  % (epoch, idx, len(dataloader), loss.item(), total_loss/len(dataloader),\n",
    "                     num_correct/batch, total_correct/total))"
   ]
  },
  {
   "cell_type": "code",
   "execution_count": 5,
   "id": "2ff1c8d2-8e9c-441c-b471-9eb237eb3bf0",
   "metadata": {},
   "outputs": [],
   "source": [
    "def evaluation(epoch, model, dataloader, alpha, epsilon, num_repeats):\n",
    "    model.eval()\n",
    "    total_correct_nat = 0\n",
    "    total_correct_adv = 0\n",
    "    \n",
    "    xent = nn.CrossEntropyLoss()\n",
    "    with tqdm(dataloader) as pbar:\n",
    "        for index, (inputs, targets) in enumerate(pbar):\n",
    "            inputs, targets = inputs.cuda(), targets.cuda()\n",
    "            batch = inputs.size(0)\n",
    "            pbar.set_description(\"[eval] %d/%d\" % (index+1, len(dataloader.dataset)))\n",
    "        \n",
    "            noise = torch.FloatTensor(inputs.shape).uniform_(-epsilon,epsilon).cuda()\n",
    "            x = torch.clamp(inputs+noise, min=0, max=1)\n",
    "            for _ in range(num_repeats):\n",
    "                x.requires_grad_()\n",
    "                logits = model(x)\n",
    "                loss = xent(logits, targets)\n",
    "                loss.backward()\n",
    "                grads = x.grad.data\n",
    "                x = x.detach() + alpha*torch.sign(grads).detach()\n",
    "                x = torch.min(torch.max(x, inputs - epsilon), inputs + epsilon).clamp(min=0, max=1)\n",
    "        \n",
    "            with torch.no_grad():\n",
    "                logits_nat = model(inputs)\n",
    "                logits_adv = model(x)\n",
    "        \n",
    "            total_correct_nat += torch.argmax(logits_nat.data, dim=1).eq(targets.data).cpu().sum().item()\n",
    "            total_correct_adv += torch.argmax(logits_adv.data, dim=1).eq(targets.data).cpu().sum().item()\n",
    "            pbar.set_postfix(OrderedDict(acc_nat=total_correct_nat / len(dataloader.dataset),\n",
    "                                         acc_rob=total_correct_adv / len(dataloader.dataset)))\n",
    "        \n",
    "    return (total_correct_nat / len(dataloader.dataset)), (total_correct_adv / len(dataloader.dataset))"
   ]
  },
  {
   "cell_type": "code",
   "execution_count": null,
   "id": "208f000e-cb35-4ad5-93d5-fe47f788b266",
   "metadata": {
    "tags": []
   },
   "outputs": [
    {
     "name": "stdout",
     "output_type": "stream",
     "text": [
      "Files already downloaded and verified\n",
      "Files already downloaded and verified\n"
     ]
    },
    {
     "name": "stderr",
     "output_type": "stream",
     "text": [
      "/usr/local/lib/python3.6/dist-packages/torch/nn/_reduction.py:42: UserWarning: size_average and reduce args will be deprecated, please use reduction='sum' instead.\n",
      "  warnings.warn(warning.format(ret))\n"
     ]
    },
    {
     "name": "stdout",
     "output_type": "stream",
     "text": [
      "Epoch 0 [0/383] | loss: 2.3491 (avg: 0.0061) | acc: 0.0938 (avg: 0.0938) |\n",
      "Epoch 0 [100/383] | loss: 1.9437 (avg: 0.5729) | acc: 0.2969 (avg: 0.2277) |\n",
      "Epoch 0 [200/383] | loss: 2.0697 (avg: 1.0878) | acc: 0.2578 (avg: 0.2701) |\n",
      "Epoch 0 [300/383] | loss: 1.9368 (avg: 1.5902) | acc: 0.3047 (avg: 0.2946) |\n"
     ]
    },
    {
     "name": "stderr",
     "output_type": "stream",
     "text": [
      "[eval] 1000/1000: 100%|██████████| 1000/1000 [03:29<00:00,  4.78it/s, acc_nat=0.401, acc_rob=0.25]\n"
     ]
    },
    {
     "name": "stdout",
     "output_type": "stream",
     "text": [
      "Epoch 1 [0/383] | loss: 1.9651 (avg: 0.0051) | acc: 0.3438 (avg: 0.3438) |\n",
      "Epoch 1 [100/383] | loss: 1.9583 (avg: 0.4820) | acc: 0.3516 (avg: 0.3932) |\n",
      "Epoch 1 [200/383] | loss: 1.8554 (avg: 0.9496) | acc: 0.3906 (avg: 0.4037) |\n",
      "Epoch 1 [300/383] | loss: 1.7049 (avg: 1.4103) | acc: 0.4219 (avg: 0.4136) |\n"
     ]
    },
    {
     "name": "stderr",
     "output_type": "stream",
     "text": [
      "[eval] 1000/1000: 100%|██████████| 1000/1000 [03:28<00:00,  4.80it/s, acc_nat=0.483, acc_rob=0.279]\n"
     ]
    },
    {
     "name": "stdout",
     "output_type": "stream",
     "text": [
      "Epoch 2 [0/383] | loss: 1.6370 (avg: 0.0043) | acc: 0.4609 (avg: 0.4609) |\n",
      "Epoch 2 [100/383] | loss: 1.6675 (avg: 0.4496) | acc: 0.5234 (avg: 0.4640) |\n",
      "Epoch 2 [200/383] | loss: 1.7741 (avg: 0.8894) | acc: 0.4375 (avg: 0.4684) |\n",
      "Epoch 2 [300/383] | loss: 1.6600 (avg: 1.3196) | acc: 0.5156 (avg: 0.4778) |\n"
     ]
    },
    {
     "name": "stderr",
     "output_type": "stream",
     "text": [
      "[eval] 1000/1000: 100%|██████████| 1000/1000 [03:29<00:00,  4.78it/s, acc_nat=0.53, acc_rob=0.325]\n"
     ]
    },
    {
     "name": "stdout",
     "output_type": "stream",
     "text": [
      "Epoch 3 [0/383] | loss: 1.6191 (avg: 0.0042) | acc: 0.5547 (avg: 0.5547) |\n",
      "Epoch 3 [100/383] | loss: 1.6647 (avg: 0.4245) | acc: 0.4844 (avg: 0.5189) |\n",
      "Epoch 3 [200/383] | loss: 1.6411 (avg: 0.8452) | acc: 0.5312 (avg: 0.5182) |\n",
      "Epoch 3 [300/383] | loss: 1.5885 (avg: 1.2579) | acc: 0.5078 (avg: 0.5225) |\n"
     ]
    },
    {
     "name": "stderr",
     "output_type": "stream",
     "text": [
      "[eval] 1000/1000: 100%|██████████| 1000/1000 [03:26<00:00,  4.85it/s, acc_nat=0.584, acc_rob=0.341]\n"
     ]
    },
    {
     "name": "stdout",
     "output_type": "stream",
     "text": [
      "Epoch 4 [0/383] | loss: 1.6173 (avg: 0.0042) | acc: 0.4922 (avg: 0.4922) |\n",
      "Epoch 4 [100/383] | loss: 1.6052 (avg: 0.4089) | acc: 0.4922 (avg: 0.5465) |\n",
      "Epoch 4 [200/383] | loss: 1.4684 (avg: 0.8142) | acc: 0.6172 (avg: 0.5458) |\n",
      "Epoch 4 [300/383] | loss: 1.6041 (avg: 1.2155) | acc: 0.5469 (avg: 0.5495) |\n"
     ]
    },
    {
     "name": "stderr",
     "output_type": "stream",
     "text": [
      "[eval] 1000/1000: 100%|██████████| 1000/1000 [03:25<00:00,  4.87it/s, acc_nat=0.642, acc_rob=0.368]\n"
     ]
    },
    {
     "name": "stdout",
     "output_type": "stream",
     "text": [
      "Epoch 5 [0/383] | loss: 1.4678 (avg: 0.0038) | acc: 0.5781 (avg: 0.5781) |\n",
      "Epoch 5 [100/383] | loss: 1.4113 (avg: 0.3959) | acc: 0.6250 (avg: 0.5702) |\n",
      "Epoch 5 [200/383] | loss: 1.5386 (avg: 0.7912) | acc: 0.5547 (avg: 0.5653) |\n",
      "Epoch 5 [300/383] | loss: 1.4415 (avg: 1.1801) | acc: 0.6250 (avg: 0.5692) |\n"
     ]
    },
    {
     "name": "stderr",
     "output_type": "stream",
     "text": [
      "[eval] 1000/1000: 100%|██████████| 1000/1000 [03:37<00:00,  4.61it/s, acc_nat=0.62, acc_rob=0.356]\n"
     ]
    },
    {
     "name": "stdout",
     "output_type": "stream",
     "text": [
      "Epoch 6 [0/383] | loss: 1.5010 (avg: 0.0039) | acc: 0.6172 (avg: 0.6172) |\n",
      "Epoch 6 [100/383] | loss: 1.4630 (avg: 0.3853) | acc: 0.6016 (avg: 0.5916) |\n",
      "Epoch 6 [200/383] | loss: 1.4210 (avg: 0.7683) | acc: 0.6406 (avg: 0.5906) |\n",
      "Epoch 6 [300/383] | loss: 1.6527 (avg: 1.1512) | acc: 0.4766 (avg: 0.5898) |\n"
     ]
    },
    {
     "name": "stderr",
     "output_type": "stream",
     "text": [
      "[eval] 1000/1000: 100%|██████████| 1000/1000 [03:31<00:00,  4.73it/s, acc_nat=0.667, acc_rob=0.386]\n"
     ]
    },
    {
     "name": "stdout",
     "output_type": "stream",
     "text": [
      "Epoch 7 [0/383] | loss: 1.4974 (avg: 0.0039) | acc: 0.5703 (avg: 0.5703) |\n",
      "Epoch 7 [100/383] | loss: 1.5695 (avg: 0.3791) | acc: 0.5625 (avg: 0.5952) |\n",
      "Epoch 7 [200/383] | loss: 1.4435 (avg: 0.7587) | acc: 0.5312 (avg: 0.5934) |\n",
      "Epoch 7 [300/383] | loss: 1.3833 (avg: 1.1310) | acc: 0.6172 (avg: 0.5961) |\n"
     ]
    },
    {
     "name": "stderr",
     "output_type": "stream",
     "text": [
      "[eval] 1000/1000: 100%|██████████| 1000/1000 [03:31<00:00,  4.74it/s, acc_nat=0.683, acc_rob=0.399]\n"
     ]
    },
    {
     "name": "stdout",
     "output_type": "stream",
     "text": [
      "Epoch 8 [0/383] | loss: 1.4073 (avg: 0.0037) | acc: 0.6016 (avg: 0.6016) |\n",
      "Epoch 8 [100/383] | loss: 1.4188 (avg: 0.3713) | acc: 0.5859 (avg: 0.6189) |\n",
      "Epoch 8 [200/383] | loss: 1.4203 (avg: 0.7428) | acc: 0.5938 (avg: 0.6121) |\n",
      "Epoch 8 [300/383] | loss: 1.5968 (avg: 1.1123) | acc: 0.5234 (avg: 0.6112) |\n"
     ]
    },
    {
     "name": "stderr",
     "output_type": "stream",
     "text": [
      "[eval] 1000/1000: 100%|██████████| 1000/1000 [03:28<00:00,  4.80it/s, acc_nat=0.683, acc_rob=0.424]\n"
     ]
    },
    {
     "name": "stdout",
     "output_type": "stream",
     "text": [
      "Epoch 9 [0/383] | loss: 1.3443 (avg: 0.0035) | acc: 0.6875 (avg: 0.6875) |\n",
      "Epoch 9 [100/383] | loss: 1.3253 (avg: 0.3657) | acc: 0.6953 (avg: 0.6230) |\n",
      "Epoch 9 [200/383] | loss: 1.4214 (avg: 0.7301) | acc: 0.5703 (avg: 0.6218) |\n",
      "Epoch 9 [300/383] | loss: 1.4753 (avg: 1.0952) | acc: 0.5859 (avg: 0.6222) |\n"
     ]
    },
    {
     "name": "stderr",
     "output_type": "stream",
     "text": [
      "[eval] 1000/1000: 100%|██████████| 1000/1000 [03:25<00:00,  4.85it/s, acc_nat=0.694, acc_rob=0.432]\n"
     ]
    },
    {
     "name": "stdout",
     "output_type": "stream",
     "text": [
      "Epoch 10 [0/383] | loss: 1.4598 (avg: 0.0038) | acc: 0.5312 (avg: 0.5312) |\n",
      "Epoch 10 [100/383] | loss: 1.3823 (avg: 0.3627) | acc: 0.6719 (avg: 0.6273) |\n",
      "Epoch 10 [200/383] | loss: 1.4127 (avg: 0.7243) | acc: 0.5859 (avg: 0.6271) |\n",
      "Epoch 10 [300/383] | loss: 1.3293 (avg: 1.0832) | acc: 0.6562 (avg: 0.6276) |\n"
     ]
    },
    {
     "name": "stderr",
     "output_type": "stream",
     "text": [
      "[eval] 1000/1000: 100%|██████████| 1000/1000 [03:28<00:00,  4.80it/s, acc_nat=0.715, acc_rob=0.433]\n"
     ]
    },
    {
     "name": "stdout",
     "output_type": "stream",
     "text": [
      "Epoch 11 [0/383] | loss: 1.3494 (avg: 0.0035) | acc: 0.6328 (avg: 0.6328) |\n",
      "Epoch 11 [100/383] | loss: 1.3157 (avg: 0.3609) | acc: 0.6797 (avg: 0.6353) |\n",
      "Epoch 11 [200/383] | loss: 1.3377 (avg: 0.7116) | acc: 0.6250 (avg: 0.6397) |\n",
      "Epoch 11 [300/383] | loss: 1.3606 (avg: 1.0678) | acc: 0.6250 (avg: 0.6381) |\n"
     ]
    },
    {
     "name": "stderr",
     "output_type": "stream",
     "text": [
      "[eval] 1000/1000: 100%|██████████| 1000/1000 [03:33<00:00,  4.68it/s, acc_nat=0.672, acc_rob=0.448]\n"
     ]
    },
    {
     "name": "stdout",
     "output_type": "stream",
     "text": [
      "Epoch 12 [0/383] | loss: 1.3494 (avg: 0.0035) | acc: 0.6250 (avg: 0.6250) |\n",
      "Epoch 12 [100/383] | loss: 1.3923 (avg: 0.3542) | acc: 0.6016 (avg: 0.6402) |\n",
      "Epoch 12 [200/383] | loss: 1.2776 (avg: 0.7013) | acc: 0.6328 (avg: 0.6455) |\n",
      "Epoch 12 [300/383] | loss: 1.3298 (avg: 1.0526) | acc: 0.6562 (avg: 0.6465) |\n"
     ]
    },
    {
     "name": "stderr",
     "output_type": "stream",
     "text": [
      "[eval] 1000/1000: 100%|██████████| 1000/1000 [03:32<00:00,  4.70it/s, acc_nat=0.721, acc_rob=0.482]\n"
     ]
    },
    {
     "name": "stdout",
     "output_type": "stream",
     "text": [
      "Epoch 13 [0/383] | loss: 1.2518 (avg: 0.0033) | acc: 0.7422 (avg: 0.7422) |\n",
      "Epoch 13 [100/383] | loss: 1.3778 (avg: 0.3494) | acc: 0.5078 (avg: 0.6494) |\n",
      "Epoch 13 [200/383] | loss: 1.3267 (avg: 0.6971) | acc: 0.6875 (avg: 0.6531) |\n",
      "Epoch 13 [300/383] | loss: 1.2755 (avg: 1.0437) | acc: 0.6641 (avg: 0.6506) |\n"
     ]
    },
    {
     "name": "stderr",
     "output_type": "stream",
     "text": [
      "[eval] 1000/1000: 100%|██████████| 1000/1000 [03:29<00:00,  4.77it/s, acc_nat=0.714, acc_rob=0.44]\n"
     ]
    },
    {
     "name": "stdout",
     "output_type": "stream",
     "text": [
      "Epoch 14 [0/383] | loss: 1.3323 (avg: 0.0035) | acc: 0.5859 (avg: 0.5859) |\n",
      "Epoch 14 [100/383] | loss: 1.2361 (avg: 0.3439) | acc: 0.6250 (avg: 0.6627) |\n",
      "Epoch 14 [200/383] | loss: 1.2829 (avg: 0.6898) | acc: 0.7031 (avg: 0.6599) |\n",
      "Epoch 14 [300/383] | loss: 1.2872 (avg: 1.0343) | acc: 0.7266 (avg: 0.6575) |\n"
     ]
    },
    {
     "name": "stderr",
     "output_type": "stream",
     "text": [
      "[eval] 1000/1000: 100%|██████████| 1000/1000 [03:28<00:00,  4.80it/s, acc_nat=0.727, acc_rob=0.466]\n"
     ]
    },
    {
     "name": "stdout",
     "output_type": "stream",
     "text": [
      "Epoch 15 [0/383] | loss: 1.4146 (avg: 0.0037) | acc: 0.6094 (avg: 0.6094) |\n",
      "Epoch 15 [100/383] | loss: 1.2453 (avg: 0.3410) | acc: 0.6719 (avg: 0.6716) |\n",
      "Epoch 15 [200/383] | loss: 1.2316 (avg: 0.6826) | acc: 0.6719 (avg: 0.6663) |\n",
      "Epoch 15 [300/383] | loss: 1.2982 (avg: 1.0205) | acc: 0.6797 (avg: 0.6658) |\n"
     ]
    },
    {
     "name": "stderr",
     "output_type": "stream",
     "text": [
      "[eval] 1000/1000: 100%|██████████| 1000/1000 [03:32<00:00,  4.71it/s, acc_nat=0.727, acc_rob=0.49]\n"
     ]
    },
    {
     "name": "stdout",
     "output_type": "stream",
     "text": [
      "Epoch 16 [0/383] | loss: 1.2777 (avg: 0.0033) | acc: 0.6328 (avg: 0.6328) |\n",
      "Epoch 16 [100/383] | loss: 1.2624 (avg: 0.3385) | acc: 0.6641 (avg: 0.6748) |\n",
      "Epoch 16 [200/383] | loss: 1.2440 (avg: 0.6767) | acc: 0.6875 (avg: 0.6709) |\n",
      "Epoch 16 [300/383] | loss: 1.3596 (avg: 1.0144) | acc: 0.6250 (avg: 0.6704) |\n"
     ]
    },
    {
     "name": "stderr",
     "output_type": "stream",
     "text": [
      "[eval] 1000/1000: 100%|██████████| 1000/1000 [03:34<00:00,  4.67it/s, acc_nat=0.736, acc_rob=0.46]\n"
     ]
    },
    {
     "name": "stdout",
     "output_type": "stream",
     "text": [
      "Epoch 17 [0/383] | loss: 1.2647 (avg: 0.0033) | acc: 0.6875 (avg: 0.6875) |\n",
      "Epoch 17 [100/383] | loss: 1.1864 (avg: 0.3355) | acc: 0.7422 (avg: 0.6778) |\n",
      "Epoch 17 [200/383] | loss: 1.3352 (avg: 0.6672) | acc: 0.6094 (avg: 0.6790) |\n",
      "Epoch 17 [300/383] | loss: 1.2670 (avg: 0.9994) | acc: 0.7031 (avg: 0.6781) |\n"
     ]
    },
    {
     "name": "stderr",
     "output_type": "stream",
     "text": [
      "[eval] 1000/1000: 100%|██████████| 1000/1000 [03:27<00:00,  4.82it/s, acc_nat=0.751, acc_rob=0.48]\n"
     ]
    },
    {
     "name": "stdout",
     "output_type": "stream",
     "text": [
      "Epoch 18 [0/383] | loss: 1.1780 (avg: 0.0031) | acc: 0.7422 (avg: 0.7422) |\n",
      "Epoch 18 [100/383] | loss: 1.2424 (avg: 0.3315) | acc: 0.7188 (avg: 0.6822) |\n",
      "Epoch 18 [200/383] | loss: 1.1910 (avg: 0.6647) | acc: 0.7422 (avg: 0.6783) |\n",
      "Epoch 18 [300/383] | loss: 1.2357 (avg: 0.9945) | acc: 0.7266 (avg: 0.6777) |\n"
     ]
    },
    {
     "name": "stderr",
     "output_type": "stream",
     "text": [
      "[eval] 1000/1000: 100%|██████████| 1000/1000 [03:26<00:00,  4.83it/s, acc_nat=0.765, acc_rob=0.478]\n"
     ]
    },
    {
     "name": "stdout",
     "output_type": "stream",
     "text": [
      "Epoch 19 [0/383] | loss: 1.1637 (avg: 0.0030) | acc: 0.7578 (avg: 0.7578) |\n",
      "Epoch 19 [100/383] | loss: 1.2786 (avg: 0.3300) | acc: 0.7031 (avg: 0.6919) |\n",
      "Epoch 19 [200/383] | loss: 1.1697 (avg: 0.6562) | acc: 0.7188 (avg: 0.6898) |\n",
      "Epoch 19 [300/383] | loss: 1.3018 (avg: 0.9858) | acc: 0.6797 (avg: 0.6885) |\n"
     ]
    },
    {
     "name": "stderr",
     "output_type": "stream",
     "text": [
      "[eval] 1000/1000: 100%|██████████| 1000/1000 [03:29<00:00,  4.78it/s, acc_nat=0.745, acc_rob=0.461]\n"
     ]
    },
    {
     "name": "stdout",
     "output_type": "stream",
     "text": [
      "Epoch 20 [0/383] | loss: 1.3612 (avg: 0.0036) | acc: 0.6094 (avg: 0.6094) |\n",
      "Epoch 20 [100/383] | loss: 1.1762 (avg: 0.3297) | acc: 0.7109 (avg: 0.6863) |\n",
      "Epoch 20 [200/383] | loss: 1.2420 (avg: 0.6548) | acc: 0.6172 (avg: 0.6894) |\n",
      "Epoch 20 [300/383] | loss: 1.1963 (avg: 0.9824) | acc: 0.6875 (avg: 0.6871) |\n"
     ]
    },
    {
     "name": "stderr",
     "output_type": "stream",
     "text": [
      "[eval] 1000/1000: 100%|██████████| 1000/1000 [03:31<00:00,  4.72it/s, acc_nat=0.752, acc_rob=0.49]\n"
     ]
    },
    {
     "name": "stdout",
     "output_type": "stream",
     "text": [
      "Epoch 21 [0/383] | loss: 1.2095 (avg: 0.0032) | acc: 0.7344 (avg: 0.7344) |\n",
      "Epoch 21 [100/383] | loss: 1.1353 (avg: 0.3231) | acc: 0.7734 (avg: 0.7015) |\n",
      "Epoch 21 [200/383] | loss: 1.1857 (avg: 0.6484) | acc: 0.6953 (avg: 0.6940) |\n",
      "Epoch 21 [300/383] | loss: 1.3099 (avg: 0.9732) | acc: 0.6484 (avg: 0.6921) |\n"
     ]
    },
    {
     "name": "stderr",
     "output_type": "stream",
     "text": [
      "[eval] 1000/1000: 100%|██████████| 1000/1000 [03:29<00:00,  4.77it/s, acc_nat=0.764, acc_rob=0.494]\n"
     ]
    },
    {
     "name": "stdout",
     "output_type": "stream",
     "text": [
      "Epoch 22 [0/383] | loss: 1.3313 (avg: 0.0035) | acc: 0.6484 (avg: 0.6484) |\n",
      "Epoch 22 [100/383] | loss: 1.1408 (avg: 0.3231) | acc: 0.7188 (avg: 0.6924) |\n",
      "Epoch 22 [200/383] | loss: 1.2439 (avg: 0.6418) | acc: 0.6875 (avg: 0.6940) |\n",
      "Epoch 22 [300/383] | loss: 1.2424 (avg: 0.9657) | acc: 0.7031 (avg: 0.6927) |\n"
     ]
    },
    {
     "name": "stderr",
     "output_type": "stream",
     "text": [
      "[eval] 1000/1000: 100%|██████████| 1000/1000 [03:30<00:00,  4.74it/s, acc_nat=0.769, acc_rob=0.505]\n"
     ]
    },
    {
     "name": "stdout",
     "output_type": "stream",
     "text": [
      "Epoch 23 [0/383] | loss: 1.2066 (avg: 0.0032) | acc: 0.6797 (avg: 0.6797) |\n",
      "Epoch 23 [100/383] | loss: 1.1545 (avg: 0.3185) | acc: 0.7422 (avg: 0.7090) |\n",
      "Epoch 23 [200/383] | loss: 1.2686 (avg: 0.6379) | acc: 0.6797 (avg: 0.7035) |\n",
      "Epoch 23 [300/383] | loss: 1.2962 (avg: 0.9587) | acc: 0.6875 (avg: 0.7028) |\n"
     ]
    },
    {
     "name": "stderr",
     "output_type": "stream",
     "text": [
      "[eval] 1000/1000: 100%|██████████| 1000/1000 [03:44<00:00,  4.45it/s, acc_nat=0.772, acc_rob=0.497]\n"
     ]
    },
    {
     "name": "stdout",
     "output_type": "stream",
     "text": [
      "Epoch 24 [0/383] | loss: 1.1788 (avg: 0.0031) | acc: 0.6875 (avg: 0.6875) |\n",
      "Epoch 24 [100/383] | loss: 1.0666 (avg: 0.3168) | acc: 0.7500 (avg: 0.7050) |\n",
      "Epoch 24 [200/383] | loss: 1.1921 (avg: 0.6341) | acc: 0.6797 (avg: 0.7059) |\n",
      "Epoch 24 [300/383] | loss: 1.2316 (avg: 0.9525) | acc: 0.6641 (avg: 0.7042) |\n"
     ]
    },
    {
     "name": "stderr",
     "output_type": "stream",
     "text": [
      "[eval] 1000/1000: 100%|██████████| 1000/1000 [03:30<00:00,  4.74it/s, acc_nat=0.793, acc_rob=0.503]\n"
     ]
    },
    {
     "name": "stdout",
     "output_type": "stream",
     "text": [
      "Epoch 25 [0/383] | loss: 1.1835 (avg: 0.0031) | acc: 0.7500 (avg: 0.7500) |\n",
      "Epoch 25 [100/383] | loss: 1.1781 (avg: 0.3176) | acc: 0.7109 (avg: 0.7107) |\n",
      "Epoch 25 [200/383] | loss: 1.2348 (avg: 0.6339) | acc: 0.7109 (avg: 0.7077) |\n",
      "Epoch 25 [300/383] | loss: 1.1192 (avg: 0.9481) | acc: 0.7266 (avg: 0.7073) |\n"
     ]
    },
    {
     "name": "stderr",
     "output_type": "stream",
     "text": [
      "[eval] 1000/1000: 100%|██████████| 1000/1000 [03:32<00:00,  4.71it/s, acc_nat=0.781, acc_rob=0.509]\n"
     ]
    },
    {
     "name": "stdout",
     "output_type": "stream",
     "text": [
      "Epoch 26 [0/383] | loss: 1.1396 (avg: 0.0030) | acc: 0.7188 (avg: 0.7188) |\n",
      "Epoch 26 [100/383] | loss: 1.1615 (avg: 0.3123) | acc: 0.7188 (avg: 0.7158) |\n",
      "Epoch 26 [200/383] | loss: 1.1843 (avg: 0.6234) | acc: 0.7422 (avg: 0.7153) |\n",
      "Epoch 26 [300/383] | loss: 1.3122 (avg: 0.9381) | acc: 0.6484 (avg: 0.7142) |\n"
     ]
    },
    {
     "name": "stderr",
     "output_type": "stream",
     "text": [
      "[eval] 1000/1000: 100%|██████████| 1000/1000 [03:28<00:00,  4.81it/s, acc_nat=0.774, acc_rob=0.501]\n"
     ]
    },
    {
     "name": "stdout",
     "output_type": "stream",
     "text": [
      "Epoch 27 [0/383] | loss: 1.1770 (avg: 0.0031) | acc: 0.7188 (avg: 0.7188) |\n",
      "Epoch 27 [100/383] | loss: 1.2105 (avg: 0.3129) | acc: 0.6484 (avg: 0.7097) |\n",
      "Epoch 27 [200/383] | loss: 1.2737 (avg: 0.6258) | acc: 0.7266 (avg: 0.7125) |\n",
      "Epoch 27 [300/383] | loss: 1.2488 (avg: 0.9380) | acc: 0.6250 (avg: 0.7111) |\n"
     ]
    },
    {
     "name": "stderr",
     "output_type": "stream",
     "text": [
      "[eval] 1000/1000: 100%|██████████| 1000/1000 [03:31<00:00,  4.73it/s, acc_nat=0.788, acc_rob=0.505]\n"
     ]
    },
    {
     "name": "stdout",
     "output_type": "stream",
     "text": [
      "Epoch 28 [0/383] | loss: 1.1673 (avg: 0.0030) | acc: 0.7188 (avg: 0.7188) |\n",
      "Epoch 28 [100/383] | loss: 1.0870 (avg: 0.3106) | acc: 0.7109 (avg: 0.7188) |\n",
      "Epoch 28 [200/383] | loss: 1.1840 (avg: 0.6204) | acc: 0.6875 (avg: 0.7177) |\n",
      "Epoch 28 [300/383] | loss: 1.2617 (avg: 0.9317) | acc: 0.7266 (avg: 0.7171) |\n"
     ]
    },
    {
     "name": "stderr",
     "output_type": "stream",
     "text": [
      "[eval] 1000/1000: 100%|██████████| 1000/1000 [03:27<00:00,  4.83it/s, acc_nat=0.782, acc_rob=0.504]\n"
     ]
    },
    {
     "name": "stdout",
     "output_type": "stream",
     "text": [
      "Epoch 29 [0/383] | loss: 1.1890 (avg: 0.0031) | acc: 0.6875 (avg: 0.6875) |\n",
      "Epoch 29 [100/383] | loss: 1.0737 (avg: 0.3070) | acc: 0.7656 (avg: 0.7259) |\n",
      "Epoch 29 [200/383] | loss: 1.2444 (avg: 0.6173) | acc: 0.7109 (avg: 0.7156) |\n",
      "Epoch 29 [300/383] | loss: 1.1784 (avg: 0.9251) | acc: 0.7500 (avg: 0.7188) |\n"
     ]
    },
    {
     "name": "stderr",
     "output_type": "stream",
     "text": [
      "[eval] 1000/1000: 100%|██████████| 1000/1000 [03:25<00:00,  4.87it/s, acc_nat=0.794, acc_rob=0.517]\n"
     ]
    },
    {
     "name": "stdout",
     "output_type": "stream",
     "text": [
      "Epoch 30 [0/383] | loss: 1.2809 (avg: 0.0033) | acc: 0.7188 (avg: 0.7188) |\n",
      "Epoch 30 [100/383] | loss: 1.2598 (avg: 0.3093) | acc: 0.6641 (avg: 0.7205) |\n",
      "Epoch 30 [200/383] | loss: 1.1302 (avg: 0.6149) | acc: 0.6797 (avg: 0.7208) |\n",
      "Epoch 30 [300/383] | loss: 1.2012 (avg: 0.9231) | acc: 0.6719 (avg: 0.7191) |\n"
     ]
    },
    {
     "name": "stderr",
     "output_type": "stream",
     "text": [
      "[eval] 1000/1000: 100%|██████████| 1000/1000 [03:28<00:00,  4.80it/s, acc_nat=0.791, acc_rob=0.513]\n"
     ]
    },
    {
     "name": "stdout",
     "output_type": "stream",
     "text": [
      "Epoch 31 [0/383] | loss: 1.2360 (avg: 0.0032) | acc: 0.7031 (avg: 0.7031) |\n",
      "Epoch 31 [100/383] | loss: 1.1900 (avg: 0.3056) | acc: 0.7031 (avg: 0.7249) |\n",
      "Epoch 31 [200/383] | loss: 1.1539 (avg: 0.6084) | acc: 0.7578 (avg: 0.7214) |\n",
      "Epoch 31 [300/383] | loss: 1.1537 (avg: 0.9192) | acc: 0.7188 (avg: 0.7195) |\n"
     ]
    },
    {
     "name": "stderr",
     "output_type": "stream",
     "text": [
      "[eval] 1000/1000: 100%|██████████| 1000/1000 [03:22<00:00,  4.94it/s, acc_nat=0.764, acc_rob=0.496]\n"
     ]
    },
    {
     "name": "stdout",
     "output_type": "stream",
     "text": [
      "Epoch 32 [0/383] | loss: 1.1991 (avg: 0.0031) | acc: 0.7031 (avg: 0.7031) |\n",
      "Epoch 32 [100/383] | loss: 1.1125 (avg: 0.3020) | acc: 0.7188 (avg: 0.7297) |\n",
      "Epoch 32 [200/383] | loss: 1.2173 (avg: 0.6076) | acc: 0.7344 (avg: 0.7229) |\n",
      "Epoch 32 [300/383] | loss: 1.0454 (avg: 0.9136) | acc: 0.7891 (avg: 0.7207) |\n"
     ]
    },
    {
     "name": "stderr",
     "output_type": "stream",
     "text": [
      "[eval] 1000/1000: 100%|██████████| 1000/1000 [03:20<00:00,  5.00it/s, acc_nat=0.769, acc_rob=0.512]\n"
     ]
    },
    {
     "name": "stdout",
     "output_type": "stream",
     "text": [
      "Epoch 33 [0/383] | loss: 1.1591 (avg: 0.0030) | acc: 0.6719 (avg: 0.6719) |\n",
      "Epoch 33 [100/383] | loss: 1.1277 (avg: 0.3018) | acc: 0.7422 (avg: 0.7289) |\n",
      "Epoch 33 [200/383] | loss: 1.0854 (avg: 0.6045) | acc: 0.7734 (avg: 0.7280) |\n",
      "Epoch 33 [300/383] | loss: 1.2451 (avg: 0.9102) | acc: 0.7031 (avg: 0.7252) |\n"
     ]
    },
    {
     "name": "stderr",
     "output_type": "stream",
     "text": [
      "[eval] 1000/1000: 100%|██████████| 1000/1000 [03:19<00:00,  5.01it/s, acc_nat=0.79, acc_rob=0.496]\n"
     ]
    },
    {
     "name": "stdout",
     "output_type": "stream",
     "text": [
      "Epoch 34 [0/383] | loss: 1.0609 (avg: 0.0028) | acc: 0.7734 (avg: 0.7734) |\n",
      "Epoch 34 [100/383] | loss: 1.1189 (avg: 0.2984) | acc: 0.7344 (avg: 0.7389) |\n",
      "Epoch 34 [200/383] | loss: 1.0740 (avg: 0.5996) | acc: 0.7656 (avg: 0.7316) |\n",
      "Epoch 34 [300/383] | loss: 1.1217 (avg: 0.9039) | acc: 0.7578 (avg: 0.7295) |\n"
     ]
    },
    {
     "name": "stderr",
     "output_type": "stream",
     "text": [
      "[eval] 1000/1000: 100%|██████████| 1000/1000 [03:35<00:00,  4.64it/s, acc_nat=0.793, acc_rob=0.516]\n"
     ]
    },
    {
     "name": "stdout",
     "output_type": "stream",
     "text": [
      "Epoch 35 [0/383] | loss: 1.2182 (avg: 0.0032) | acc: 0.6562 (avg: 0.6562) |\n",
      "Epoch 35 [100/383] | loss: 1.0754 (avg: 0.2986) | acc: 0.7422 (avg: 0.7367) |\n",
      "Epoch 35 [200/383] | loss: 1.0537 (avg: 0.5970) | acc: 0.7344 (avg: 0.7336) |\n",
      "Epoch 35 [300/383] | loss: 1.1189 (avg: 0.9006) | acc: 0.7578 (avg: 0.7314) |\n"
     ]
    },
    {
     "name": "stderr",
     "output_type": "stream",
     "text": [
      "[eval] 1000/1000: 100%|██████████| 1000/1000 [03:38<00:00,  4.58it/s, acc_nat=0.773, acc_rob=0.501]\n"
     ]
    },
    {
     "name": "stdout",
     "output_type": "stream",
     "text": [
      "Epoch 36 [0/383] | loss: 1.1598 (avg: 0.0030) | acc: 0.7109 (avg: 0.7109) |\n",
      "Epoch 36 [100/383] | loss: 1.1416 (avg: 0.2975) | acc: 0.7188 (avg: 0.7390) |\n",
      "Epoch 36 [200/383] | loss: 1.2127 (avg: 0.5964) | acc: 0.6953 (avg: 0.7344) |\n",
      "Epoch 36 [300/383] | loss: 1.0768 (avg: 0.8947) | acc: 0.7812 (avg: 0.7330) |\n"
     ]
    },
    {
     "name": "stderr",
     "output_type": "stream",
     "text": [
      "[eval] 1000/1000: 100%|██████████| 1000/1000 [03:42<00:00,  4.49it/s, acc_nat=0.763, acc_rob=0.501]\n"
     ]
    },
    {
     "name": "stdout",
     "output_type": "stream",
     "text": [
      "Epoch 37 [0/383] | loss: 1.0534 (avg: 0.0028) | acc: 0.7422 (avg: 0.7422) |\n",
      "Epoch 37 [100/383] | loss: 1.1309 (avg: 0.2955) | acc: 0.7656 (avg: 0.7409) |\n",
      "Epoch 37 [200/383] | loss: 1.0922 (avg: 0.5940) | acc: 0.7500 (avg: 0.7378) |\n",
      "Epoch 37 [300/383] | loss: 1.1864 (avg: 0.8940) | acc: 0.7266 (avg: 0.7362) |\n"
     ]
    },
    {
     "name": "stderr",
     "output_type": "stream",
     "text": [
      "[eval] 1000/1000: 100%|██████████| 1000/1000 [03:39<00:00,  4.56it/s, acc_nat=0.806, acc_rob=0.517]\n"
     ]
    },
    {
     "name": "stdout",
     "output_type": "stream",
     "text": [
      "Epoch 38 [0/383] | loss: 1.0958 (avg: 0.0029) | acc: 0.7656 (avg: 0.7656) |\n",
      "Epoch 38 [100/383] | loss: 1.1003 (avg: 0.2965) | acc: 0.7266 (avg: 0.7434) |\n",
      "Epoch 38 [200/383] | loss: 1.0713 (avg: 0.5942) | acc: 0.7656 (avg: 0.7413) |\n",
      "Epoch 38 [300/383] | loss: 1.3322 (avg: 0.8961) | acc: 0.6562 (avg: 0.7388) |\n"
     ]
    },
    {
     "name": "stderr",
     "output_type": "stream",
     "text": [
      "[eval] 1000/1000: 100%|██████████| 1000/1000 [03:38<00:00,  4.58it/s, acc_nat=0.77, acc_rob=0.501]\n"
     ]
    },
    {
     "name": "stdout",
     "output_type": "stream",
     "text": [
      "Epoch 39 [0/383] | loss: 1.0934 (avg: 0.0029) | acc: 0.7188 (avg: 0.7188) |\n",
      "Epoch 39 [100/383] | loss: 1.1643 (avg: 0.2946) | acc: 0.7656 (avg: 0.7471) |\n",
      "Epoch 39 [200/383] | loss: 1.1761 (avg: 0.5890) | acc: 0.7344 (avg: 0.7433) |\n",
      "Epoch 39 [300/383] | loss: 1.2825 (avg: 0.8894) | acc: 0.6328 (avg: 0.7387) |\n"
     ]
    },
    {
     "name": "stderr",
     "output_type": "stream",
     "text": [
      "[eval] 1000/1000: 100%|██████████| 1000/1000 [03:44<00:00,  4.46it/s, acc_nat=0.774, acc_rob=0.498]\n"
     ]
    },
    {
     "name": "stdout",
     "output_type": "stream",
     "text": [
      "Epoch 40 [0/383] | loss: 1.0932 (avg: 0.0029) | acc: 0.7734 (avg: 0.7734) |\n",
      "Epoch 40 [100/383] | loss: 1.2106 (avg: 0.2949) | acc: 0.6719 (avg: 0.7478) |\n",
      "Epoch 40 [200/383] | loss: 1.0863 (avg: 0.5921) | acc: 0.7656 (avg: 0.7414) |\n",
      "Epoch 40 [300/383] | loss: 1.1362 (avg: 0.8900) | acc: 0.7188 (avg: 0.7382) |\n"
     ]
    },
    {
     "name": "stderr",
     "output_type": "stream",
     "text": [
      "[eval] 1000/1000: 100%|██████████| 1000/1000 [03:33<00:00,  4.68it/s, acc_nat=0.787, acc_rob=0.503]\n"
     ]
    },
    {
     "name": "stdout",
     "output_type": "stream",
     "text": [
      "Epoch 41 [0/383] | loss: 1.2209 (avg: 0.0032) | acc: 0.6797 (avg: 0.6797) |\n",
      "Epoch 41 [100/383] | loss: 1.1201 (avg: 0.2909) | acc: 0.7266 (avg: 0.7497) |\n",
      "Epoch 41 [200/383] | loss: 1.0690 (avg: 0.5828) | acc: 0.7656 (avg: 0.7476) |\n",
      "Epoch 41 [300/383] | loss: 1.0879 (avg: 0.8792) | acc: 0.7812 (avg: 0.7425) |\n"
     ]
    },
    {
     "name": "stderr",
     "output_type": "stream",
     "text": [
      "[eval] 1000/1000: 100%|██████████| 1000/1000 [03:34<00:00,  4.65it/s, acc_nat=0.793, acc_rob=0.509]\n"
     ]
    },
    {
     "name": "stdout",
     "output_type": "stream",
     "text": [
      "Epoch 42 [0/383] | loss: 1.0411 (avg: 0.0027) | acc: 0.7812 (avg: 0.7812) |\n",
      "Epoch 42 [100/383] | loss: 1.1701 (avg: 0.2923) | acc: 0.7500 (avg: 0.7510) |\n",
      "Epoch 42 [200/383] | loss: 1.1817 (avg: 0.5862) | acc: 0.7422 (avg: 0.7443) |\n",
      "Epoch 42 [300/383] | loss: 1.1558 (avg: 0.8820) | acc: 0.7656 (avg: 0.7429) |\n"
     ]
    },
    {
     "name": "stderr",
     "output_type": "stream",
     "text": [
      "[eval] 1000/1000: 100%|██████████| 1000/1000 [03:37<00:00,  4.60it/s, acc_nat=0.791, acc_rob=0.497]\n"
     ]
    },
    {
     "name": "stdout",
     "output_type": "stream",
     "text": [
      "Epoch 43 [0/383] | loss: 1.1677 (avg: 0.0030) | acc: 0.7266 (avg: 0.7266) |\n",
      "Epoch 43 [100/383] | loss: 1.1611 (avg: 0.2892) | acc: 0.7266 (avg: 0.7486) |\n",
      "Epoch 43 [200/383] | loss: 0.9953 (avg: 0.5797) | acc: 0.8203 (avg: 0.7446) |\n",
      "Epoch 43 [300/383] | loss: 1.1834 (avg: 0.8765) | acc: 0.7422 (avg: 0.7427) |\n"
     ]
    },
    {
     "name": "stderr",
     "output_type": "stream",
     "text": [
      "[eval] 1000/1000: 100%|██████████| 1000/1000 [03:42<00:00,  4.50it/s, acc_nat=0.811, acc_rob=0.524]\n"
     ]
    },
    {
     "name": "stdout",
     "output_type": "stream",
     "text": [
      "Epoch 44 [0/383] | loss: 1.1253 (avg: 0.0029) | acc: 0.7500 (avg: 0.7500) |\n",
      "Epoch 44 [100/383] | loss: 1.1752 (avg: 0.2890) | acc: 0.6797 (avg: 0.7495) |\n",
      "Epoch 44 [200/383] | loss: 1.0872 (avg: 0.5797) | acc: 0.7734 (avg: 0.7503) |\n",
      "Epoch 44 [300/383] | loss: 1.1224 (avg: 0.8730) | acc: 0.7344 (avg: 0.7470) |\n"
     ]
    },
    {
     "name": "stderr",
     "output_type": "stream",
     "text": [
      "[eval] 1000/1000: 100%|██████████| 1000/1000 [03:37<00:00,  4.59it/s, acc_nat=0.813, acc_rob=0.521]\n"
     ]
    },
    {
     "name": "stdout",
     "output_type": "stream",
     "text": [
      "Epoch 45 [0/383] | loss: 0.9566 (avg: 0.0025) | acc: 0.8047 (avg: 0.8047) |\n",
      "Epoch 45 [100/383] | loss: 1.1077 (avg: 0.2885) | acc: 0.7656 (avg: 0.7543) |\n",
      "Epoch 45 [200/383] | loss: 1.0389 (avg: 0.5788) | acc: 0.7422 (avg: 0.7526) |\n",
      "Epoch 45 [300/383] | loss: 1.1376 (avg: 0.8708) | acc: 0.7266 (avg: 0.7482) |\n"
     ]
    },
    {
     "name": "stderr",
     "output_type": "stream",
     "text": [
      "[eval] 1000/1000: 100%|██████████| 1000/1000 [03:42<00:00,  4.48it/s, acc_nat=0.82, acc_rob=0.521]\n"
     ]
    },
    {
     "name": "stdout",
     "output_type": "stream",
     "text": [
      "Epoch 46 [0/383] | loss: 1.0146 (avg: 0.0026) | acc: 0.7656 (avg: 0.7656) |\n",
      "Epoch 46 [100/383] | loss: 1.1118 (avg: 0.2895) | acc: 0.7266 (avg: 0.7522) |\n",
      "Epoch 46 [200/383] | loss: 1.1758 (avg: 0.5777) | acc: 0.7031 (avg: 0.7524) |\n",
      "Epoch 46 [300/383] | loss: 1.0143 (avg: 0.8726) | acc: 0.8203 (avg: 0.7491) |\n"
     ]
    },
    {
     "name": "stderr",
     "output_type": "stream",
     "text": [
      "[eval] 1000/1000: 100%|██████████| 1000/1000 [03:34<00:00,  4.67it/s, acc_nat=0.806, acc_rob=0.514]\n"
     ]
    },
    {
     "name": "stdout",
     "output_type": "stream",
     "text": [
      "Epoch 47 [0/383] | loss: 1.0526 (avg: 0.0027) | acc: 0.8047 (avg: 0.8047) |\n",
      "Epoch 47 [100/383] | loss: 1.0270 (avg: 0.2869) | acc: 0.7812 (avg: 0.7556) |\n",
      "Epoch 47 [200/383] | loss: 1.0627 (avg: 0.5779) | acc: 0.7812 (avg: 0.7491) |\n",
      "Epoch 47 [300/383] | loss: 0.9932 (avg: 0.8696) | acc: 0.8281 (avg: 0.7475) |\n"
     ]
    },
    {
     "name": "stderr",
     "output_type": "stream",
     "text": [
      "[eval] 1000/1000: 100%|██████████| 1000/1000 [03:34<00:00,  4.65it/s, acc_nat=0.801, acc_rob=0.517]\n"
     ]
    },
    {
     "name": "stdout",
     "output_type": "stream",
     "text": [
      "Epoch 48 [0/383] | loss: 1.1167 (avg: 0.0029) | acc: 0.7578 (avg: 0.7578) |\n",
      "Epoch 48 [100/383] | loss: 1.1333 (avg: 0.2854) | acc: 0.7656 (avg: 0.7600) |\n",
      "Epoch 48 [200/383] | loss: 1.0978 (avg: 0.5748) | acc: 0.7109 (avg: 0.7543) |\n",
      "Epoch 48 [300/383] | loss: 1.0426 (avg: 0.8629) | acc: 0.7812 (avg: 0.7522) |\n"
     ]
    },
    {
     "name": "stderr",
     "output_type": "stream",
     "text": [
      "[eval] 1000/1000: 100%|██████████| 1000/1000 [03:40<00:00,  4.54it/s, acc_nat=0.811, acc_rob=0.514]\n"
     ]
    },
    {
     "name": "stdout",
     "output_type": "stream",
     "text": [
      "Epoch 49 [0/383] | loss: 1.0977 (avg: 0.0029) | acc: 0.7422 (avg: 0.7422) |\n",
      "Epoch 49 [100/383] | loss: 1.0998 (avg: 0.2857) | acc: 0.7656 (avg: 0.7560) |\n",
      "Epoch 49 [200/383] | loss: 1.2170 (avg: 0.5740) | acc: 0.6953 (avg: 0.7532) |\n",
      "Epoch 49 [300/383] | loss: 1.1462 (avg: 0.8654) | acc: 0.7578 (avg: 0.7492) |\n"
     ]
    },
    {
     "name": "stderr",
     "output_type": "stream",
     "text": [
      "[eval] 1000/1000: 100%|██████████| 1000/1000 [03:43<00:00,  4.47it/s, acc_nat=0.803, acc_rob=0.538]\n"
     ]
    },
    {
     "name": "stdout",
     "output_type": "stream",
     "text": [
      "Epoch 50 [0/383] | loss: 1.0649 (avg: 0.0028) | acc: 0.7656 (avg: 0.7656) |\n",
      "Epoch 50 [100/383] | loss: 1.0637 (avg: 0.2860) | acc: 0.7734 (avg: 0.7573) |\n",
      "Epoch 50 [200/383] | loss: 1.2148 (avg: 0.5717) | acc: 0.7500 (avg: 0.7542) |\n",
      "Epoch 50 [300/383] | loss: 1.1284 (avg: 0.8573) | acc: 0.7891 (avg: 0.7539) |\n"
     ]
    },
    {
     "name": "stderr",
     "output_type": "stream",
     "text": [
      "[eval] 1000/1000: 100%|██████████| 1000/1000 [03:36<00:00,  4.63it/s, acc_nat=0.794, acc_rob=0.514]\n"
     ]
    },
    {
     "name": "stdout",
     "output_type": "stream",
     "text": [
      "Epoch 51 [0/383] | loss: 1.1003 (avg: 0.0029) | acc: 0.7656 (avg: 0.7656) |\n",
      "Epoch 51 [100/383] | loss: 0.9786 (avg: 0.2842) | acc: 0.8047 (avg: 0.7593) |\n",
      "Epoch 51 [200/383] | loss: 1.1288 (avg: 0.5711) | acc: 0.7656 (avg: 0.7579) |\n",
      "Epoch 51 [300/383] | loss: 1.1388 (avg: 0.8570) | acc: 0.6641 (avg: 0.7562) |\n"
     ]
    },
    {
     "name": "stderr",
     "output_type": "stream",
     "text": [
      "[eval] 1000/1000: 100%|██████████| 1000/1000 [03:37<00:00,  4.60it/s, acc_nat=0.796, acc_rob=0.516]\n"
     ]
    },
    {
     "name": "stdout",
     "output_type": "stream",
     "text": [
      "Epoch 52 [0/383] | loss: 1.0771 (avg: 0.0028) | acc: 0.7578 (avg: 0.7578) |\n",
      "Epoch 52 [100/383] | loss: 1.2196 (avg: 0.2857) | acc: 0.7344 (avg: 0.7595) |\n",
      "Epoch 52 [200/383] | loss: 1.1970 (avg: 0.5724) | acc: 0.6953 (avg: 0.7571) |\n",
      "Epoch 52 [300/383] | loss: 1.0532 (avg: 0.8575) | acc: 0.7500 (avg: 0.7560) |\n"
     ]
    },
    {
     "name": "stderr",
     "output_type": "stream",
     "text": [
      "[eval] 1000/1000: 100%|██████████| 1000/1000 [03:37<00:00,  4.59it/s, acc_nat=0.811, acc_rob=0.556]\n"
     ]
    },
    {
     "name": "stdout",
     "output_type": "stream",
     "text": [
      "Epoch 53 [0/383] | loss: 1.0324 (avg: 0.0027) | acc: 0.8359 (avg: 0.8359) |\n",
      "Epoch 53 [100/383] | loss: 1.0613 (avg: 0.2839) | acc: 0.8047 (avg: 0.7605) |\n",
      "Epoch 53 [200/383] | loss: 1.0779 (avg: 0.5693) | acc: 0.8125 (avg: 0.7568) |\n",
      "Epoch 53 [300/383] | loss: 1.1405 (avg: 0.8543) | acc: 0.7422 (avg: 0.7562) |\n"
     ]
    },
    {
     "name": "stderr",
     "output_type": "stream",
     "text": [
      "[eval] 1000/1000: 100%|██████████| 1000/1000 [03:42<00:00,  4.50it/s, acc_nat=0.821, acc_rob=0.505]\n"
     ]
    },
    {
     "name": "stdout",
     "output_type": "stream",
     "text": [
      "Epoch 54 [0/383] | loss: 1.0788 (avg: 0.0028) | acc: 0.7266 (avg: 0.7266) |\n",
      "Epoch 54 [100/383] | loss: 1.0528 (avg: 0.2833) | acc: 0.7344 (avg: 0.7633) |\n",
      "Epoch 54 [200/383] | loss: 1.0419 (avg: 0.5677) | acc: 0.7422 (avg: 0.7580) |\n",
      "Epoch 54 [300/383] | loss: 0.9790 (avg: 0.8511) | acc: 0.7969 (avg: 0.7581) |\n"
     ]
    },
    {
     "name": "stderr",
     "output_type": "stream",
     "text": [
      "[eval] 1000/1000: 100%|██████████| 1000/1000 [03:36<00:00,  4.63it/s, acc_nat=0.791, acc_rob=0.515]\n"
     ]
    },
    {
     "name": "stdout",
     "output_type": "stream",
     "text": [
      "Epoch 55 [0/383] | loss: 1.0704 (avg: 0.0028) | acc: 0.7656 (avg: 0.7656) |\n",
      "Epoch 55 [100/383] | loss: 1.1531 (avg: 0.2800) | acc: 0.7344 (avg: 0.7650) |\n",
      "Epoch 55 [200/383] | loss: 1.1520 (avg: 0.5662) | acc: 0.7266 (avg: 0.7605) |\n",
      "Epoch 55 [300/383] | loss: 1.1772 (avg: 0.8521) | acc: 0.7109 (avg: 0.7584) |\n"
     ]
    },
    {
     "name": "stderr",
     "output_type": "stream",
     "text": [
      "[eval] 1000/1000: 100%|██████████| 1000/1000 [03:40<00:00,  4.54it/s, acc_nat=0.797, acc_rob=0.519]\n"
     ]
    },
    {
     "name": "stdout",
     "output_type": "stream",
     "text": [
      "Epoch 56 [0/383] | loss: 1.0127 (avg: 0.0026) | acc: 0.7812 (avg: 0.7812) |\n",
      "Epoch 56 [100/383] | loss: 1.0442 (avg: 0.2805) | acc: 0.7422 (avg: 0.7686) |\n",
      "Epoch 56 [200/383] | loss: 1.2005 (avg: 0.5655) | acc: 0.7578 (avg: 0.7629) |\n",
      "Epoch 56 [300/383] | loss: 1.1328 (avg: 0.8488) | acc: 0.7344 (avg: 0.7612) |\n"
     ]
    },
    {
     "name": "stderr",
     "output_type": "stream",
     "text": [
      "[eval] 1000/1000: 100%|██████████| 1000/1000 [03:41<00:00,  4.52it/s, acc_nat=0.769, acc_rob=0.507]\n"
     ]
    },
    {
     "name": "stdout",
     "output_type": "stream",
     "text": [
      "Epoch 57 [0/383] | loss: 1.0011 (avg: 0.0026) | acc: 0.7891 (avg: 0.7891) |\n",
      "Epoch 57 [100/383] | loss: 1.0535 (avg: 0.2782) | acc: 0.7500 (avg: 0.7674) |\n",
      "Epoch 57 [200/383] | loss: 1.0119 (avg: 0.5609) | acc: 0.8203 (avg: 0.7619) |\n",
      "Epoch 57 [300/383] | loss: 1.0187 (avg: 0.8457) | acc: 0.7734 (avg: 0.7601) |\n"
     ]
    },
    {
     "name": "stderr",
     "output_type": "stream",
     "text": [
      "[eval] 1000/1000: 100%|██████████| 1000/1000 [03:38<00:00,  4.57it/s, acc_nat=0.802, acc_rob=0.514]\n"
     ]
    },
    {
     "name": "stdout",
     "output_type": "stream",
     "text": [
      "Epoch 58 [0/383] | loss: 1.0956 (avg: 0.0029) | acc: 0.7422 (avg: 0.7422) |\n",
      "Epoch 58 [100/383] | loss: 1.0350 (avg: 0.2789) | acc: 0.7031 (avg: 0.7699) |\n",
      "Epoch 58 [200/383] | loss: 1.0682 (avg: 0.5594) | acc: 0.7812 (avg: 0.7676) |\n",
      "Epoch 58 [300/383] | loss: 0.9834 (avg: 0.8423) | acc: 0.7812 (avg: 0.7649) |\n"
     ]
    },
    {
     "name": "stderr",
     "output_type": "stream",
     "text": [
      "[eval] 1000/1000: 100%|██████████| 1000/1000 [03:42<00:00,  4.49it/s, acc_nat=0.794, acc_rob=0.533]\n"
     ]
    },
    {
     "name": "stdout",
     "output_type": "stream",
     "text": [
      "Epoch 59 [0/383] | loss: 1.0961 (avg: 0.0029) | acc: 0.7109 (avg: 0.7109) |\n",
      "Epoch 59 [100/383] | loss: 1.0397 (avg: 0.2805) | acc: 0.7969 (avg: 0.7702) |\n",
      "Epoch 59 [200/383] | loss: 0.9882 (avg: 0.5641) | acc: 0.7969 (avg: 0.7640) |\n",
      "Epoch 59 [300/383] | loss: 1.0603 (avg: 0.8478) | acc: 0.7656 (avg: 0.7631) |\n"
     ]
    },
    {
     "name": "stderr",
     "output_type": "stream",
     "text": [
      "[eval] 1000/1000: 100%|██████████| 1000/1000 [03:32<00:00,  4.71it/s, acc_nat=0.797, acc_rob=0.522]\n"
     ]
    },
    {
     "name": "stdout",
     "output_type": "stream",
     "text": [
      "Epoch 60 [0/383] | loss: 0.9877 (avg: 0.0026) | acc: 0.7422 (avg: 0.7422) |\n",
      "Epoch 60 [100/383] | loss: 1.0558 (avg: 0.2778) | acc: 0.8047 (avg: 0.7691) |\n",
      "Epoch 60 [200/383] | loss: 1.0007 (avg: 0.5616) | acc: 0.8203 (avg: 0.7640) |\n",
      "Epoch 60 [300/383] | loss: 1.1063 (avg: 0.8413) | acc: 0.7734 (avg: 0.7630) |\n"
     ]
    },
    {
     "name": "stderr",
     "output_type": "stream",
     "text": [
      "[eval] 1000/1000: 100%|██████████| 1000/1000 [03:39<00:00,  4.55it/s, acc_nat=0.795, acc_rob=0.506]\n"
     ]
    },
    {
     "name": "stdout",
     "output_type": "stream",
     "text": [
      "Epoch 61 [0/383] | loss: 1.0810 (avg: 0.0028) | acc: 0.7500 (avg: 0.7500) |\n",
      "Epoch 61 [100/383] | loss: 0.9946 (avg: 0.2803) | acc: 0.8203 (avg: 0.7645) |\n",
      "Epoch 61 [200/383] | loss: 0.9776 (avg: 0.5608) | acc: 0.7969 (avg: 0.7633) |\n",
      "Epoch 61 [300/383] | loss: 1.0600 (avg: 0.8414) | acc: 0.7969 (avg: 0.7646) |\n"
     ]
    },
    {
     "name": "stderr",
     "output_type": "stream",
     "text": [
      "[eval] 1000/1000: 100%|██████████| 1000/1000 [03:38<00:00,  4.57it/s, acc_nat=0.8, acc_rob=0.519] \n"
     ]
    },
    {
     "name": "stdout",
     "output_type": "stream",
     "text": [
      "Epoch 62 [0/383] | loss: 1.1614 (avg: 0.0030) | acc: 0.7500 (avg: 0.7500) |\n",
      "Epoch 62 [100/383] | loss: 1.1387 (avg: 0.2777) | acc: 0.7031 (avg: 0.7727) |\n",
      "Epoch 62 [200/383] | loss: 1.0586 (avg: 0.5569) | acc: 0.7969 (avg: 0.7698) |\n",
      "Epoch 62 [300/383] | loss: 1.0849 (avg: 0.8382) | acc: 0.7422 (avg: 0.7661) |\n"
     ]
    },
    {
     "name": "stderr",
     "output_type": "stream",
     "text": [
      "[eval] 1000/1000: 100%|██████████| 1000/1000 [03:40<00:00,  4.53it/s, acc_nat=0.799, acc_rob=0.509]\n"
     ]
    },
    {
     "name": "stdout",
     "output_type": "stream",
     "text": [
      "Epoch 63 [0/383] | loss: 1.2227 (avg: 0.0032) | acc: 0.7188 (avg: 0.7188) |\n",
      "Epoch 63 [100/383] | loss: 1.1019 (avg: 0.2762) | acc: 0.7344 (avg: 0.7744) |\n",
      "Epoch 63 [200/383] | loss: 1.0447 (avg: 0.5556) | acc: 0.7969 (avg: 0.7696) |\n",
      "Epoch 63 [300/383] | loss: 1.0480 (avg: 0.8380) | acc: 0.7734 (avg: 0.7659) |\n"
     ]
    },
    {
     "name": "stderr",
     "output_type": "stream",
     "text": [
      "[eval] 1000/1000: 100%|██████████| 1000/1000 [03:36<00:00,  4.62it/s, acc_nat=0.799, acc_rob=0.531]\n"
     ]
    },
    {
     "name": "stdout",
     "output_type": "stream",
     "text": [
      "Epoch 64 [0/383] | loss: 1.0110 (avg: 0.0026) | acc: 0.7422 (avg: 0.7422) |\n",
      "Epoch 64 [100/383] | loss: 0.9149 (avg: 0.2758) | acc: 0.7812 (avg: 0.7702) |\n",
      "Epoch 64 [200/383] | loss: 1.0496 (avg: 0.5537) | acc: 0.7891 (avg: 0.7661) |\n",
      "Epoch 64 [300/383] | loss: 1.0598 (avg: 0.8336) | acc: 0.8203 (avg: 0.7656) |\n"
     ]
    },
    {
     "name": "stderr",
     "output_type": "stream",
     "text": [
      "[eval] 1000/1000: 100%|██████████| 1000/1000 [03:44<00:00,  4.46it/s, acc_nat=0.805, acc_rob=0.523]\n"
     ]
    },
    {
     "name": "stdout",
     "output_type": "stream",
     "text": [
      "Epoch 65 [0/383] | loss: 0.9964 (avg: 0.0026) | acc: 0.8125 (avg: 0.8125) |\n",
      "Epoch 65 [100/383] | loss: 1.0854 (avg: 0.2750) | acc: 0.7891 (avg: 0.7775) |\n",
      "Epoch 65 [200/383] | loss: 0.9797 (avg: 0.5530) | acc: 0.7812 (avg: 0.7705) |\n",
      "Epoch 65 [300/383] | loss: 1.1222 (avg: 0.8324) | acc: 0.7578 (avg: 0.7693) |\n"
     ]
    },
    {
     "name": "stderr",
     "output_type": "stream",
     "text": [
      "[eval] 1000/1000: 100%|██████████| 1000/1000 [03:38<00:00,  4.58it/s, acc_nat=0.796, acc_rob=0.501]\n"
     ]
    },
    {
     "name": "stdout",
     "output_type": "stream",
     "text": [
      "Epoch 66 [0/383] | loss: 1.0023 (avg: 0.0026) | acc: 0.7578 (avg: 0.7578) |\n",
      "Epoch 66 [100/383] | loss: 1.1127 (avg: 0.2754) | acc: 0.7734 (avg: 0.7739) |\n",
      "Epoch 66 [200/383] | loss: 1.0186 (avg: 0.5526) | acc: 0.7500 (avg: 0.7708) |\n",
      "Epoch 66 [300/383] | loss: 1.0034 (avg: 0.8349) | acc: 0.8047 (avg: 0.7664) |\n"
     ]
    },
    {
     "name": "stderr",
     "output_type": "stream",
     "text": [
      "[eval] 1000/1000: 100%|██████████| 1000/1000 [03:45<00:00,  4.43it/s, acc_nat=0.814, acc_rob=0.522]\n"
     ]
    },
    {
     "name": "stdout",
     "output_type": "stream",
     "text": [
      "Epoch 67 [0/383] | loss: 0.9666 (avg: 0.0025) | acc: 0.8125 (avg: 0.8125) |\n",
      "Epoch 67 [100/383] | loss: 0.9950 (avg: 0.2714) | acc: 0.7812 (avg: 0.7763) |\n",
      "Epoch 67 [200/383] | loss: 1.1006 (avg: 0.5485) | acc: 0.7266 (avg: 0.7710) |\n",
      "Epoch 67 [300/383] | loss: 0.9922 (avg: 0.8284) | acc: 0.8047 (avg: 0.7700) |\n"
     ]
    },
    {
     "name": "stderr",
     "output_type": "stream",
     "text": [
      "[eval] 1000/1000: 100%|██████████| 1000/1000 [03:40<00:00,  4.54it/s, acc_nat=0.799, acc_rob=0.523]\n"
     ]
    },
    {
     "name": "stdout",
     "output_type": "stream",
     "text": [
      "Epoch 68 [0/383] | loss: 1.0833 (avg: 0.0028) | acc: 0.7578 (avg: 0.7578) |\n",
      "Epoch 68 [100/383] | loss: 1.0747 (avg: 0.2753) | acc: 0.7500 (avg: 0.7761) |\n",
      "Epoch 68 [200/383] | loss: 1.1752 (avg: 0.5542) | acc: 0.6875 (avg: 0.7724) |\n",
      "Epoch 68 [300/383] | loss: 1.0937 (avg: 0.8350) | acc: 0.7656 (avg: 0.7704) |\n"
     ]
    },
    {
     "name": "stderr",
     "output_type": "stream",
     "text": [
      "[eval] 1000/1000: 100%|██████████| 1000/1000 [03:43<00:00,  4.48it/s, acc_nat=0.787, acc_rob=0.528]\n"
     ]
    },
    {
     "name": "stdout",
     "output_type": "stream",
     "text": [
      "Epoch 69 [0/383] | loss: 1.0659 (avg: 0.0028) | acc: 0.7734 (avg: 0.7734) |\n",
      "Epoch 69 [100/383] | loss: 1.0999 (avg: 0.2725) | acc: 0.7656 (avg: 0.7805) |\n",
      "Epoch 69 [200/383] | loss: 1.0606 (avg: 0.5500) | acc: 0.7500 (avg: 0.7747) |\n",
      "Epoch 69 [300/383] | loss: 1.0298 (avg: 0.8283) | acc: 0.8203 (avg: 0.7720) |\n"
     ]
    },
    {
     "name": "stderr",
     "output_type": "stream",
     "text": [
      "[eval] 1000/1000: 100%|██████████| 1000/1000 [03:36<00:00,  4.61it/s, acc_nat=0.806, acc_rob=0.528]\n"
     ]
    },
    {
     "name": "stdout",
     "output_type": "stream",
     "text": [
      "Epoch 70 [0/383] | loss: 0.9939 (avg: 0.0026) | acc: 0.8281 (avg: 0.8281) |\n",
      "Epoch 70 [100/383] | loss: 0.9869 (avg: 0.2733) | acc: 0.8359 (avg: 0.7773) |\n",
      "Epoch 70 [200/383] | loss: 1.0441 (avg: 0.5489) | acc: 0.7031 (avg: 0.7741) |\n",
      "Epoch 70 [300/383] | loss: 1.0614 (avg: 0.8277) | acc: 0.7422 (avg: 0.7723) |\n"
     ]
    },
    {
     "name": "stderr",
     "output_type": "stream",
     "text": [
      "[eval] 1000/1000: 100%|██████████| 1000/1000 [03:44<00:00,  4.45it/s, acc_nat=0.796, acc_rob=0.534]\n"
     ]
    },
    {
     "name": "stdout",
     "output_type": "stream",
     "text": [
      "Epoch 71 [0/383] | loss: 1.0574 (avg: 0.0028) | acc: 0.7812 (avg: 0.7812) |\n",
      "Epoch 71 [100/383] | loss: 1.0349 (avg: 0.2777) | acc: 0.7656 (avg: 0.7744) |\n",
      "Epoch 71 [200/383] | loss: 1.1214 (avg: 0.5514) | acc: 0.7734 (avg: 0.7716) |\n",
      "Epoch 71 [300/383] | loss: 1.0472 (avg: 0.8288) | acc: 0.7969 (avg: 0.7712) |\n"
     ]
    },
    {
     "name": "stderr",
     "output_type": "stream",
     "text": [
      "[eval] 1000/1000: 100%|██████████| 1000/1000 [03:42<00:00,  4.50it/s, acc_nat=0.801, acc_rob=0.513]\n"
     ]
    },
    {
     "name": "stdout",
     "output_type": "stream",
     "text": [
      "Epoch 72 [0/383] | loss: 1.0069 (avg: 0.0026) | acc: 0.7891 (avg: 0.7891) |\n",
      "Epoch 72 [100/383] | loss: 1.0714 (avg: 0.2729) | acc: 0.7578 (avg: 0.7864) |\n",
      "Epoch 72 [200/383] | loss: 1.0992 (avg: 0.5507) | acc: 0.7109 (avg: 0.7753) |\n",
      "Epoch 72 [300/383] | loss: 1.0285 (avg: 0.8292) | acc: 0.7734 (avg: 0.7710) |\n"
     ]
    },
    {
     "name": "stderr",
     "output_type": "stream",
     "text": [
      "[eval] 1000/1000: 100%|██████████| 1000/1000 [03:40<00:00,  4.54it/s, acc_nat=0.823, acc_rob=0.513]\n"
     ]
    },
    {
     "name": "stdout",
     "output_type": "stream",
     "text": [
      "Epoch 73 [0/383] | loss: 0.9980 (avg: 0.0026) | acc: 0.8359 (avg: 0.8359) |\n",
      "Epoch 73 [100/383] | loss: 0.9836 (avg: 0.2694) | acc: 0.7891 (avg: 0.7859) |\n",
      "Epoch 73 [200/383] | loss: 1.0620 (avg: 0.5443) | acc: 0.6953 (avg: 0.7775) |\n",
      "Epoch 73 [300/383] | loss: 1.0562 (avg: 0.8217) | acc: 0.7578 (avg: 0.7760) |\n"
     ]
    },
    {
     "name": "stderr",
     "output_type": "stream",
     "text": [
      "[eval] 1000/1000: 100%|██████████| 1000/1000 [03:41<00:00,  4.51it/s, acc_nat=0.82, acc_rob=0.536]\n"
     ]
    },
    {
     "name": "stdout",
     "output_type": "stream",
     "text": [
      "Epoch 74 [0/383] | loss: 0.9907 (avg: 0.0026) | acc: 0.7969 (avg: 0.7969) |\n",
      "Epoch 74 [100/383] | loss: 1.0620 (avg: 0.2693) | acc: 0.7656 (avg: 0.7822) |\n",
      "Epoch 74 [200/383] | loss: 1.1081 (avg: 0.5459) | acc: 0.7188 (avg: 0.7750) |\n",
      "Epoch 74 [300/383] | loss: 1.0202 (avg: 0.8194) | acc: 0.7734 (avg: 0.7753) |\n"
     ]
    },
    {
     "name": "stderr",
     "output_type": "stream",
     "text": [
      "[eval] 1000/1000: 100%|██████████| 1000/1000 [03:35<00:00,  4.64it/s, acc_nat=0.811, acc_rob=0.526]\n"
     ]
    },
    {
     "name": "stdout",
     "output_type": "stream",
     "text": [
      "Epoch 75 [0/383] | loss: 1.0867 (avg: 0.0028) | acc: 0.7891 (avg: 0.7891) |\n",
      "Epoch 75 [100/383] | loss: 0.9106 (avg: 0.2435) | acc: 0.8047 (avg: 0.8178) |\n",
      "Epoch 75 [200/383] | loss: 0.8779 (avg: 0.4697) | acc: 0.7891 (avg: 0.8262) |\n",
      "Epoch 75 [300/383] | loss: 0.8847 (avg: 0.6900) | acc: 0.8359 (avg: 0.8320) |\n"
     ]
    },
    {
     "name": "stderr",
     "output_type": "stream",
     "text": [
      "[eval] 1000/1000: 100%|██████████| 1000/1000 [03:40<00:00,  4.54it/s, acc_nat=0.852, acc_rob=0.56]\n"
     ]
    },
    {
     "name": "stdout",
     "output_type": "stream",
     "text": [
      "Epoch 76 [0/383] | loss: 0.7586 (avg: 0.0020) | acc: 0.8750 (avg: 0.8750) |\n",
      "Epoch 76 [100/383] | loss: 0.8831 (avg: 0.2109) | acc: 0.8359 (avg: 0.8554) |\n",
      "Epoch 76 [200/383] | loss: 0.8222 (avg: 0.4197) | acc: 0.8672 (avg: 0.8562) |\n",
      "Epoch 76 [300/383] | loss: 0.7182 (avg: 0.6295) | acc: 0.9062 (avg: 0.8545) |\n"
     ]
    },
    {
     "name": "stderr",
     "output_type": "stream",
     "text": [
      "[eval] 1000/1000: 100%|██████████| 1000/1000 [03:39<00:00,  4.57it/s, acc_nat=0.844, acc_rob=0.559]\n"
     ]
    },
    {
     "name": "stdout",
     "output_type": "stream",
     "text": [
      "Epoch 77 [0/383] | loss: 0.8883 (avg: 0.0023) | acc: 0.8047 (avg: 0.8047) |\n",
      "Epoch 77 [100/383] | loss: 0.8509 (avg: 0.2023) | acc: 0.8203 (avg: 0.8597) |\n",
      "Epoch 77 [200/383] | loss: 0.7091 (avg: 0.4041) | acc: 0.8828 (avg: 0.8608) |\n",
      "Epoch 77 [300/383] | loss: 0.9338 (avg: 0.6078) | acc: 0.7891 (avg: 0.8601) |\n"
     ]
    },
    {
     "name": "stderr",
     "output_type": "stream",
     "text": [
      "[eval] 1000/1000: 100%|██████████| 1000/1000 [03:42<00:00,  4.50it/s, acc_nat=0.85, acc_rob=0.572]\n"
     ]
    },
    {
     "name": "stdout",
     "output_type": "stream",
     "text": [
      "Epoch 78 [0/383] | loss: 0.7733 (avg: 0.0020) | acc: 0.8438 (avg: 0.8438) |\n",
      "Epoch 78 [100/383] | loss: 0.7831 (avg: 0.1963) | acc: 0.8906 (avg: 0.8739) |\n",
      "Epoch 78 [200/383] | loss: 0.7613 (avg: 0.3932) | acc: 0.8906 (avg: 0.8704) |\n",
      "Epoch 78 [300/383] | loss: 0.7988 (avg: 0.5889) | acc: 0.8750 (avg: 0.8702) |\n"
     ]
    },
    {
     "name": "stderr",
     "output_type": "stream",
     "text": [
      "[eval] 1000/1000: 100%|██████████| 1000/1000 [03:37<00:00,  4.60it/s, acc_nat=0.844, acc_rob=0.568]\n"
     ]
    },
    {
     "name": "stdout",
     "output_type": "stream",
     "text": [
      "Epoch 79 [0/383] | loss: 0.6931 (avg: 0.0018) | acc: 0.9141 (avg: 0.9141) |\n",
      "Epoch 79 [100/383] | loss: 0.7064 (avg: 0.1883) | acc: 0.8984 (avg: 0.8816) |\n",
      "Epoch 79 [200/383] | loss: 0.6951 (avg: 0.3803) | acc: 0.8672 (avg: 0.8791) |\n",
      "Epoch 79 [300/383] | loss: 0.8830 (avg: 0.5722) | acc: 0.8438 (avg: 0.8772) |\n"
     ]
    },
    {
     "name": "stderr",
     "output_type": "stream",
     "text": [
      "[eval] 1000/1000: 100%|██████████| 1000/1000 [03:41<00:00,  4.52it/s, acc_nat=0.853, acc_rob=0.567]\n"
     ]
    },
    {
     "name": "stdout",
     "output_type": "stream",
     "text": [
      "Epoch 80 [0/383] | loss: 0.6868 (avg: 0.0018) | acc: 0.8906 (avg: 0.8906) |\n",
      "Epoch 80 [100/383] | loss: 0.6878 (avg: 0.1857) | acc: 0.8672 (avg: 0.8827) |\n",
      "Epoch 80 [200/383] | loss: 0.7215 (avg: 0.3722) | acc: 0.8828 (avg: 0.8816) |\n",
      "Epoch 80 [300/383] | loss: 0.7589 (avg: 0.5590) | acc: 0.8594 (avg: 0.8808) |\n"
     ]
    },
    {
     "name": "stderr",
     "output_type": "stream",
     "text": [
      "[eval] 1000/1000: 100%|██████████| 1000/1000 [03:38<00:00,  4.57it/s, acc_nat=0.846, acc_rob=0.549]\n"
     ]
    },
    {
     "name": "stdout",
     "output_type": "stream",
     "text": [
      "Epoch 81 [0/383] | loss: 0.5888 (avg: 0.0015) | acc: 0.9297 (avg: 0.9297) |\n",
      "Epoch 81 [100/383] | loss: 0.6861 (avg: 0.1814) | acc: 0.8828 (avg: 0.8893) |\n",
      "Epoch 81 [200/383] | loss: 0.6985 (avg: 0.3647) | acc: 0.9219 (avg: 0.8860) |\n",
      "Epoch 81 [300/383] | loss: 0.5795 (avg: 0.5473) | acc: 0.9219 (avg: 0.8856) |\n"
     ]
    },
    {
     "name": "stderr",
     "output_type": "stream",
     "text": [
      "[eval] 1000/1000: 100%|██████████| 1000/1000 [03:49<00:00,  4.37it/s, acc_nat=0.849, acc_rob=0.562]\n"
     ]
    },
    {
     "name": "stdout",
     "output_type": "stream",
     "text": [
      "Epoch 82 [0/383] | loss: 0.6067 (avg: 0.0016) | acc: 0.8984 (avg: 0.8984) |\n",
      "Epoch 82 [100/383] | loss: 0.5504 (avg: 0.1790) | acc: 0.9453 (avg: 0.8883) |\n",
      "Epoch 82 [200/383] | loss: 0.7720 (avg: 0.3601) | acc: 0.8438 (avg: 0.8867) |\n",
      "Epoch 82 [300/383] | loss: 0.6545 (avg: 0.5408) | acc: 0.8984 (avg: 0.8866) |\n"
     ]
    },
    {
     "name": "stderr",
     "output_type": "stream",
     "text": [
      "[eval] 1000/1000: 100%|██████████| 1000/1000 [03:37<00:00,  4.60it/s, acc_nat=0.847, acc_rob=0.548]\n"
     ]
    },
    {
     "name": "stdout",
     "output_type": "stream",
     "text": [
      "Epoch 83 [0/383] | loss: 0.6103 (avg: 0.0016) | acc: 0.9219 (avg: 0.9219) |\n",
      "Epoch 83 [100/383] | loss: 0.7015 (avg: 0.1754) | acc: 0.8984 (avg: 0.8955) |\n",
      "Epoch 83 [200/383] | loss: 0.7295 (avg: 0.3552) | acc: 0.8828 (avg: 0.8936) |\n",
      "Epoch 83 [300/383] | loss: 0.7729 (avg: 0.5330) | acc: 0.8516 (avg: 0.8905) |\n"
     ]
    },
    {
     "name": "stderr",
     "output_type": "stream",
     "text": [
      "[eval] 1000/1000: 100%|██████████| 1000/1000 [03:39<00:00,  4.56it/s, acc_nat=0.851, acc_rob=0.551]\n"
     ]
    },
    {
     "name": "stdout",
     "output_type": "stream",
     "text": [
      "Epoch 84 [0/383] | loss: 0.7499 (avg: 0.0020) | acc: 0.8906 (avg: 0.8906) |\n",
      "Epoch 84 [100/383] | loss: 0.5832 (avg: 0.1762) | acc: 0.9453 (avg: 0.8970) |\n",
      "Epoch 84 [200/383] | loss: 0.7244 (avg: 0.3518) | acc: 0.8828 (avg: 0.8959) |\n",
      "Epoch 84 [300/383] | loss: 0.6518 (avg: 0.5284) | acc: 0.9062 (avg: 0.8942) |\n"
     ]
    },
    {
     "name": "stderr",
     "output_type": "stream",
     "text": [
      "[eval] 1000/1000: 100%|██████████| 1000/1000 [03:38<00:00,  4.58it/s, acc_nat=0.855, acc_rob=0.538]\n"
     ]
    },
    {
     "name": "stdout",
     "output_type": "stream",
     "text": [
      "Epoch 85 [0/383] | loss: 0.5949 (avg: 0.0016) | acc: 0.9297 (avg: 0.9297) |\n",
      "Epoch 85 [100/383] | loss: 0.6781 (avg: 0.1692) | acc: 0.9141 (avg: 0.8987) |\n",
      "Epoch 85 [200/383] | loss: 0.6583 (avg: 0.3441) | acc: 0.8906 (avg: 0.8974) |\n",
      "Epoch 85 [300/383] | loss: 0.5414 (avg: 0.5184) | acc: 0.9219 (avg: 0.8962) |\n"
     ]
    },
    {
     "name": "stderr",
     "output_type": "stream",
     "text": [
      "[eval] 1000/1000: 100%|██████████| 1000/1000 [03:37<00:00,  4.59it/s, acc_nat=0.85, acc_rob=0.561]\n"
     ]
    },
    {
     "name": "stdout",
     "output_type": "stream",
     "text": [
      "Epoch 86 [0/383] | loss: 0.5255 (avg: 0.0014) | acc: 0.9453 (avg: 0.9453) |\n",
      "Epoch 86 [100/383] | loss: 0.5794 (avg: 0.1694) | acc: 0.9297 (avg: 0.9008) |\n",
      "Epoch 86 [200/383] | loss: 0.7884 (avg: 0.3432) | acc: 0.8906 (avg: 0.8984) |\n",
      "Epoch 86 [300/383] | loss: 0.8762 (avg: 0.5177) | acc: 0.8516 (avg: 0.8967) |\n"
     ]
    },
    {
     "name": "stderr",
     "output_type": "stream",
     "text": [
      "[eval] 1000/1000: 100%|██████████| 1000/1000 [03:40<00:00,  4.53it/s, acc_nat=0.854, acc_rob=0.548]\n"
     ]
    },
    {
     "name": "stdout",
     "output_type": "stream",
     "text": [
      "Epoch 87 [0/383] | loss: 0.5941 (avg: 0.0016) | acc: 0.9219 (avg: 0.9219) |\n",
      "Epoch 87 [100/383] | loss: 0.6817 (avg: 0.1711) | acc: 0.9062 (avg: 0.8983) |\n",
      "Epoch 87 [200/383] | loss: 0.5437 (avg: 0.3421) | acc: 0.9062 (avg: 0.8980) |\n",
      "Epoch 87 [300/383] | loss: 0.6282 (avg: 0.5199) | acc: 0.9297 (avg: 0.8973) |\n"
     ]
    },
    {
     "name": "stderr",
     "output_type": "stream",
     "text": [
      "[eval] 1000/1000: 100%|██████████| 1000/1000 [03:39<00:00,  4.56it/s, acc_nat=0.84, acc_rob=0.543]\n"
     ]
    },
    {
     "name": "stdout",
     "output_type": "stream",
     "text": [
      "Epoch 88 [0/383] | loss: 0.7437 (avg: 0.0019) | acc: 0.8281 (avg: 0.8281) |\n",
      "Epoch 88 [100/383] | loss: 0.6367 (avg: 0.1686) | acc: 0.9219 (avg: 0.9000) |\n",
      "Epoch 88 [200/383] | loss: 0.5805 (avg: 0.3399) | acc: 0.9141 (avg: 0.8985) |\n",
      "Epoch 88 [300/383] | loss: 0.6219 (avg: 0.5116) | acc: 0.9141 (avg: 0.8983) |\n"
     ]
    },
    {
     "name": "stderr",
     "output_type": "stream",
     "text": [
      "[eval] 1000/1000: 100%|██████████| 1000/1000 [03:36<00:00,  4.63it/s, acc_nat=0.845, acc_rob=0.532]\n"
     ]
    },
    {
     "name": "stdout",
     "output_type": "stream",
     "text": [
      "Epoch 89 [0/383] | loss: 0.5092 (avg: 0.0013) | acc: 0.9375 (avg: 0.9375) |\n",
      "Epoch 89 [100/383] | loss: 0.6082 (avg: 0.1672) | acc: 0.8984 (avg: 0.9025) |\n",
      "Epoch 89 [200/383] | loss: 0.7082 (avg: 0.3347) | acc: 0.8516 (avg: 0.9012) |\n",
      "Epoch 89 [300/383] | loss: 0.6611 (avg: 0.5076) | acc: 0.8906 (avg: 0.8992) |\n"
     ]
    },
    {
     "name": "stderr",
     "output_type": "stream",
     "text": [
      "[eval] 1000/1000: 100%|██████████| 1000/1000 [03:33<00:00,  4.69it/s, acc_nat=0.855, acc_rob=0.536]\n"
     ]
    },
    {
     "name": "stdout",
     "output_type": "stream",
     "text": [
      "Epoch 90 [0/383] | loss: 0.7064 (avg: 0.0018) | acc: 0.8594 (avg: 0.8594) |\n",
      "Epoch 90 [100/383] | loss: 0.4472 (avg: 0.1588) | acc: 0.9844 (avg: 0.9110) |\n",
      "Epoch 90 [200/383] | loss: 0.5656 (avg: 0.3116) | acc: 0.9062 (avg: 0.9128) |\n",
      "Epoch 90 [300/383] | loss: 0.5533 (avg: 0.4557) | acc: 0.9141 (avg: 0.9150) |\n"
     ]
    },
    {
     "name": "stderr",
     "output_type": "stream",
     "text": [
      "[eval] 1000/1000: 100%|██████████| 1000/1000 [03:39<00:00,  4.56it/s, acc_nat=0.86, acc_rob=0.545]\n"
     ]
    },
    {
     "name": "stdout",
     "output_type": "stream",
     "text": [
      "Epoch 91 [0/383] | loss: 0.5071 (avg: 0.0013) | acc: 0.9219 (avg: 0.9219) |\n",
      "Epoch 91 [100/383] | loss: 0.5899 (avg: 0.1472) | acc: 0.8828 (avg: 0.9170) |\n",
      "Epoch 91 [200/383] | loss: 0.5131 (avg: 0.2859) | acc: 0.9375 (avg: 0.9214) |\n",
      "Epoch 91 [300/383] | loss: 0.4436 (avg: 0.4227) | acc: 0.9453 (avg: 0.9223) |\n"
     ]
    },
    {
     "name": "stderr",
     "output_type": "stream",
     "text": [
      "[eval] 1000/1000: 100%|██████████| 1000/1000 [03:41<00:00,  4.52it/s, acc_nat=0.869, acc_rob=0.549]\n"
     ]
    },
    {
     "name": "stdout",
     "output_type": "stream",
     "text": [
      "Epoch 92 [0/383] | loss: 0.6260 (avg: 0.0016) | acc: 0.8906 (avg: 0.8906) |\n",
      "Epoch 92 [100/383] | loss: 0.4887 (avg: 0.1394) | acc: 0.9531 (avg: 0.9232) |\n",
      "Epoch 92 [200/383] | loss: 0.4960 (avg: 0.2747) | acc: 0.9297 (avg: 0.9256) |\n",
      "Epoch 92 [300/383] | loss: 0.4804 (avg: 0.4084) | acc: 0.9375 (avg: 0.9254) |\n"
     ]
    },
    {
     "name": "stderr",
     "output_type": "stream",
     "text": [
      "[eval] 1000/1000: 100%|██████████| 1000/1000 [03:41<00:00,  4.52it/s, acc_nat=0.858, acc_rob=0.551]\n"
     ]
    },
    {
     "name": "stdout",
     "output_type": "stream",
     "text": [
      "Epoch 93 [0/383] | loss: 0.4110 (avg: 0.0011) | acc: 0.9531 (avg: 0.9531) |\n",
      "Epoch 93 [100/383] | loss: 0.5595 (avg: 0.1331) | acc: 0.9219 (avg: 0.9288) |\n",
      "Epoch 93 [200/383] | loss: 0.5466 (avg: 0.2642) | acc: 0.9297 (avg: 0.9303) |\n",
      "Epoch 93 [300/383] | loss: 0.3568 (avg: 0.3982) | acc: 0.9766 (avg: 0.9291) |\n"
     ]
    },
    {
     "name": "stderr",
     "output_type": "stream",
     "text": [
      "[eval] 1000/1000: 100%|██████████| 1000/1000 [03:34<00:00,  4.66it/s, acc_nat=0.848, acc_rob=0.531]\n"
     ]
    },
    {
     "name": "stdout",
     "output_type": "stream",
     "text": [
      "Epoch 94 [0/383] | loss: 0.4873 (avg: 0.0013) | acc: 0.9219 (avg: 0.9219) |\n",
      "Epoch 94 [100/383] | loss: 0.4550 (avg: 0.1334) | acc: 0.9375 (avg: 0.9270) |\n",
      "Epoch 94 [200/383] | loss: 0.4410 (avg: 0.2605) | acc: 0.9453 (avg: 0.9290) |\n",
      "Epoch 94 [300/383] | loss: 0.4400 (avg: 0.3887) | acc: 0.9297 (avg: 0.9304) |\n"
     ]
    },
    {
     "name": "stderr",
     "output_type": "stream",
     "text": [
      "[eval] 1000/1000: 100%|██████████| 1000/1000 [03:43<00:00,  4.48it/s, acc_nat=0.864, acc_rob=0.531]\n"
     ]
    },
    {
     "name": "stdout",
     "output_type": "stream",
     "text": [
      "Epoch 95 [0/383] | loss: 0.5015 (avg: 0.0013) | acc: 0.9453 (avg: 0.9453) |\n",
      "Epoch 95 [100/383] | loss: 0.5113 (avg: 0.1286) | acc: 0.9219 (avg: 0.9310) |\n",
      "Epoch 95 [200/383] | loss: 0.4467 (avg: 0.2549) | acc: 0.9219 (avg: 0.9315) |\n",
      "Epoch 95 [300/383] | loss: 0.3625 (avg: 0.3839) | acc: 0.9609 (avg: 0.9316) |\n"
     ]
    },
    {
     "name": "stderr",
     "output_type": "stream",
     "text": [
      "[eval] 980/1000:  98%|█████████▊| 980/1000 [03:33<00:04,  4.42it/s, acc_nat=0.841, acc_rob=0.532]"
     ]
    },
    {
     "name": "stdout",
     "output_type": "stream",
     "text": [
      "Epoch 96 [100/383] | loss: 0.3718 (avg: 0.1255) | acc: 0.9453 (avg: 0.9325) |\n",
      "Epoch 96 [200/383] | loss: 0.4739 (avg: 0.2511) | acc: 0.9219 (avg: 0.9328) |\n",
      "Epoch 96 [300/383] | loss: 0.5039 (avg: 0.3780) | acc: 0.9453 (avg: 0.9324) |\n"
     ]
    },
    {
     "name": "stderr",
     "output_type": "stream",
     "text": [
      "[eval] 1000/1000: 100%|██████████| 1000/1000 [03:41<00:00,  4.51it/s, acc_nat=0.877, acc_rob=0.54]\n"
     ]
    },
    {
     "name": "stdout",
     "output_type": "stream",
     "text": [
      "Epoch 97 [0/383] | loss: 0.5263 (avg: 0.0014) | acc: 0.9297 (avg: 0.9297) |\n",
      "Epoch 97 [100/383] | loss: 0.3853 (avg: 0.1255) | acc: 0.9766 (avg: 0.9341) |\n",
      "Epoch 97 [200/383] | loss: 0.4610 (avg: 0.2498) | acc: 0.9531 (avg: 0.9330) |\n",
      "Epoch 97 [300/383] | loss: 0.5055 (avg: 0.3713) | acc: 0.9297 (avg: 0.9348) |\n"
     ]
    },
    {
     "name": "stderr",
     "output_type": "stream",
     "text": [
      "[eval] 1000/1000: 100%|██████████| 1000/1000 [03:40<00:00,  4.54it/s, acc_nat=0.864, acc_rob=0.552]\n"
     ]
    },
    {
     "name": "stdout",
     "output_type": "stream",
     "text": [
      "Epoch 98 [0/383] | loss: 0.4340 (avg: 0.0011) | acc: 0.9219 (avg: 0.9219) |\n",
      "Epoch 98 [100/383] | loss: 0.5482 (avg: 0.1250) | acc: 0.8906 (avg: 0.9347) |\n",
      "Epoch 98 [200/383] | loss: 0.4353 (avg: 0.2447) | acc: 0.9375 (avg: 0.9349) |\n",
      "Epoch 98 [300/383] | loss: 0.6128 (avg: 0.3633) | acc: 0.9219 (avg: 0.9352) |\n"
     ]
    },
    {
     "name": "stderr",
     "output_type": "stream",
     "text": [
      "[eval] 1000/1000: 100%|██████████| 1000/1000 [03:35<00:00,  4.63it/s, acc_nat=0.863, acc_rob=0.538]\n"
     ]
    },
    {
     "name": "stdout",
     "output_type": "stream",
     "text": [
      "Epoch 99 [0/383] | loss: 0.4306 (avg: 0.0011) | acc: 0.9453 (avg: 0.9453) |\n",
      "Epoch 99 [100/383] | loss: 0.3438 (avg: 0.1226) | acc: 0.9609 (avg: 0.9373) |\n",
      "Epoch 99 [200/383] | loss: 0.4252 (avg: 0.2429) | acc: 0.9375 (avg: 0.9367) |\n",
      "Epoch 99 [300/383] | loss: 0.4694 (avg: 0.3604) | acc: 0.9297 (avg: 0.9385) |\n"
     ]
    },
    {
     "name": "stderr",
     "output_type": "stream",
     "text": [
      "[eval] 847/1000:  85%|████████▍ | 846/1000 [03:00<00:31,  4.94it/s, acc_nat=0.731, acc_rob=0.462]"
     ]
    }
   ],
   "source": [
    "os.environ['CUDA_VISIBLE_DEVICES'] = gpu\n",
    "os.makedirs(checkpoint, exist_ok=True)\n",
    "\n",
    "train_transform = transforms.Compose([\n",
    "    transforms.RandomCrop(32, padding=4),\n",
    "    transforms.RandomHorizontalFlip(),\n",
    "    transforms.ToTensor()])\n",
    "train_dataset, _ = get_dataloader(dataset, batch_size)\n",
    "num_samples = len(train_dataset)\n",
    "num_samples_for_train = int(num_samples * 0.98)\n",
    "num_samples_for_valid = num_samples - num_samples_for_train\n",
    "train_set, valid_set = random_split(train_dataset, [num_samples_for_train, num_samples_for_valid])\n",
    "train_dataloader = DataLoader(train_set, batch_size=batch_size, shuffle=True, drop_last=False)\n",
    "valid_dataloader = DataLoader(valid_set, batch_size=1, shuffle=True, drop_last=False)\n",
    "\n",
    "model = nn.DataParallel(get_network(model_type, num_classes).cuda())\n",
    "optimizer = optim.SGD(model.parameters(),lr=lr, momentum=momentum, weight_decay=weight_decay)\n",
    "\n",
    "scheduler = [75, 90]\n",
    "adjust_learning_rate = lr_scheduler.MultiStepLR(optimizer, scheduler, gamma=0.1)\n",
    "best_acc_nat, best_acc_rob = 0, 0\n",
    "\n",
    "for epoch in range(total_epochs):\n",
    "    training(epoch, model, train_dataloader, optimizer, num_classes, beta, epsilon, alpha, num_repeats)\n",
    "    test_acc_nat, test_acc_rob = evaluation(epoch, model, valid_dataloader, alpha, epsilon, num_repeats)\n",
    "        \n",
    "    is_best = best_acc_nat < test_acc_nat and best_acc_rob < test_acc_rob\n",
    "    best_acc_nat = max(best_acc_nat, test_acc_nat)\n",
    "    best_acc_rob = max(best_acc_rob, test_acc_rob)\n",
    "    save_checkpoint = {'state_dict': model.state_dict(),\n",
    "                       'best_acc_nat': best_acc_nat,\n",
    "                       'best_acc_rob': best_acc_rob,\n",
    "                       'optimizer': optimizer.state_dict(),\n",
    "                       'model_type': model_type,\n",
    "                       'dataset': dataset}\n",
    "    torch.save(save_checkpoint, os.path.join(checkpoint, 'model'))\n",
    "    if is_best:\n",
    "        torch.save(save_checkpoint, os.path.join(checkpoint, 'best_model'))\n",
    "    adjust_learning_rate.step()"
   ]
  },
  {
   "cell_type": "code",
   "execution_count": null,
   "id": "67273057-ddb6-4294-b7ae-3aa932ab0cea",
   "metadata": {},
   "outputs": [],
   "source": []
  },
  {
   "cell_type": "code",
   "execution_count": null,
   "id": "235f36f1-0ae2-4722-9eb7-f5b6f11bdb9e",
   "metadata": {},
   "outputs": [],
   "source": []
  }
 ],
 "metadata": {
  "kernelspec": {
   "display_name": "Python 3",
   "language": "python",
   "name": "python3"
  },
  "language_info": {
   "codemirror_mode": {
    "name": "ipython",
    "version": 3
   },
   "file_extension": ".py",
   "mimetype": "text/x-python",
   "name": "python",
   "nbconvert_exporter": "python",
   "pygments_lexer": "ipython3",
   "version": "3.6.9"
  }
 },
 "nbformat": 4,
 "nbformat_minor": 5
}
