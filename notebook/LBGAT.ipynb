{
 "cells": [
  {
   "cell_type": "markdown",
   "id": "be933234-4b51-41a5-a5a0-9b831b916f96",
   "metadata": {
    "tags": []
   },
   "source": [
    "# Learnable Boundary Guided Adversarial Training"
   ]
  },
  {
   "cell_type": "code",
   "execution_count": 1,
   "id": "85eb3db2-6a80-4e98-8a62-4fd714fc9189",
   "metadata": {},
   "outputs": [],
   "source": [
    "import os\n",
    "import sys\n",
    "sys.path.append('..')\n",
    "import yaml\n",
    "import shutil\n",
    "import argparse\n",
    "import numpy as np\n",
    "from tqdm import tqdm\n",
    "from collections import OrderedDict\n",
    "\n",
    "import torch\n",
    "import torch.nn as nn\n",
    "import torch.nn.functional as F\n",
    "import torch.optim as optim\n",
    "from torch.optim import lr_scheduler\n",
    "from torch.utils.data import DataLoader, random_split\n",
    "\n",
    "from utils import *"
   ]
  },
  {
   "cell_type": "markdown",
   "id": "66240c81-1be4-4a34-af22-21a6292e0ff9",
   "metadata": {},
   "source": [
    "## Parameter setting"
   ]
  },
  {
   "cell_type": "code",
   "execution_count": 2,
   "id": "01de849e-a804-4062-aef7-4cfcd5999b2c",
   "metadata": {},
   "outputs": [],
   "source": [
    "gpu = '4,5,6,7'\n",
    "dataset = 'cifar10'\n",
    "model_type = 'wrn34-10'\n",
    "checkpoint = './checkpoint/lbgat/%s/%s' % (model_type, dataset)\n",
    "num_classes = 10\n",
    "lr = 0.1\n",
    "momentum = 0.9\n",
    "weight_decay = 2e-4\n",
    "batch_size = 128\n",
    "total_epochs = 100\n",
    "lam = 1\n",
    "epsilon = 0.031\n",
    "alpha = 0.007\n",
    "num_repeats = 10"
   ]
  },
  {
   "cell_type": "markdown",
   "id": "8c102405-4d46-45e0-b957-9e7022b7ae2f",
   "metadata": {},
   "source": [
    "## Inner maximization"
   ]
  },
  {
   "cell_type": "code",
   "execution_count": 3,
   "id": "2ee44a0f-0acc-41c3-95a0-e477e167e679",
   "metadata": {},
   "outputs": [],
   "source": [
    "def inner_max(model, xent, inputs, targets, epsilon, alpha, num_repeats):\n",
    "    noise = torch.FloatTensor(inputs.shape).uniform_(-epsilon, epsilon).cuda()\n",
    "    x = torch.clamp(inputs + noise, min=0, max=1)\n",
    "    \n",
    "    for _ in range(num_repeats):\n",
    "        x.requires_grad_()\n",
    "        logits = model(x)\n",
    "        loss = xent(logits, targets)\n",
    "        loss.backward()\n",
    "        grads = x.grad.data\n",
    "        x = x.detach() + alpha*torch.sign(grads).detach()\n",
    "        x = torch.min(torch.max(x, inputs-epsilon), inputs+epsilon).clamp(min=0, max=1)\n",
    "    return x"
   ]
  },
  {
   "cell_type": "markdown",
   "id": "afe2591b-4ebf-4714-a3f4-85cdac7f272d",
   "metadata": {},
   "source": [
    "## Training (Outer minimization)"
   ]
  },
  {
   "cell_type": "code",
   "execution_count": 4,
   "id": "db2276c9-d52b-4544-8448-42817161084d",
   "metadata": {},
   "outputs": [],
   "source": [
    "def training(epoch, model_nat, model_rob, dataloader, optimizer, num_classes, \n",
    "             lam=1, epsilon=8/255, alpha=2/255, num_repeats=10):\n",
    "    model_nat.train()\n",
    "    model_rob.train()\n",
    "    total = 0\n",
    "    total_loss = 0\n",
    "    total_correct_nat = 0\n",
    "    total_correct_rob = 0\n",
    "        \n",
    "    mse = nn.MSELoss()\n",
    "    xent = nn.CrossEntropyLoss()\n",
    "    for idx, (inputs, targets) in enumerate(dataloader):\n",
    "        inputs, targets = inputs.cuda(), targets.cuda()\n",
    "        batch = inputs.size(0)\n",
    "        \n",
    "        logits_nat = model_nat(inputs)\n",
    "        x = inner_max(model_rob, xent, inputs, targets, epsilon, alpha, num_repeats)\n",
    "        logits_rob = model_rob(x)\n",
    "        \n",
    "        loss = 0.5*mse(logits_rob, logits_nat) + lam*xent(logits_nat, targets)\n",
    "        \n",
    "        optimizer.zero_grad()\n",
    "        loss.backward()\n",
    "        optimizer.step()\n",
    "            \n",
    "        total += batch\n",
    "        total_loss += loss.item()\n",
    "        num_correct_nat = torch.argmax(logits_nat.data, dim=1).eq(targets.data).cpu().sum()\n",
    "        total_correct_nat += num_correct_nat\n",
    "        num_correct_rob = torch.argmax(logits_rob.data, dim=1).eq(targets.data).cpu().sum()\n",
    "        total_correct_rob += num_correct_rob\n",
    "        \n",
    "        if idx % 100 == 0:\n",
    "            print('Epoch %d [%d/%d] | loss: %.4f (avg: %.4f) | acc nat: %.4f (avg: %.4f) | acc rob: %.4f (avg: %.4f) |'\\\n",
    "                  % (epoch, idx, len(dataloader), loss.item(), \n",
    "                     total_loss/len(dataloader), \n",
    "                     num_correct_nat/batch, total_correct_nat/total,\n",
    "                     num_correct_rob/batch, total_correct_rob/total))"
   ]
  },
  {
   "cell_type": "code",
   "execution_count": 5,
   "id": "2ff1c8d2-8e9c-441c-b471-9eb237eb3bf0",
   "metadata": {},
   "outputs": [],
   "source": [
    "def evaluation(epoch, model, dataloader, alpha, epsilon, num_repeats):\n",
    "    model.eval()\n",
    "    total_correct_nat = 0\n",
    "    total_correct_adv = 0\n",
    "    \n",
    "    xent = nn.CrossEntropyLoss()\n",
    "    with tqdm(dataloader) as pbar:\n",
    "        for index, (inputs, targets) in enumerate(pbar):\n",
    "            inputs, targets = inputs.cuda(), targets.cuda()\n",
    "            batch = inputs.size(0)\n",
    "            pbar.set_description(\"[eval] %d/%d\" % (index+1, len(dataloader.dataset)))\n",
    "            with torch.enable_grad():\n",
    "                x = inner_max(model, xent, inputs, targets, epsilon, alpha, num_repeats)\n",
    "            \n",
    "            with torch.no_grad():\n",
    "                logits_nat = model(inputs)\n",
    "                logits_adv = model(x)\n",
    "            total_correct_nat += torch.argmax(logits_nat.data, dim=1).eq(targets.data).cpu().sum().item()\n",
    "            total_correct_adv += torch.argmax(logits_adv.data, dim=1).eq(targets.data).cpu().sum().item()\n",
    "            pbar.set_postfix(OrderedDict(acc_nat=total_correct_nat / len(dataloader.dataset),\n",
    "                                         acc_rob=total_correct_adv / len(dataloader.dataset)))\n",
    "    \n",
    "    return (total_correct_nat / len(dataloader.dataset)), (total_correct_adv / len(dataloader.dataset))"
   ]
  },
  {
   "cell_type": "code",
   "execution_count": 6,
   "id": "208f000e-cb35-4ad5-93d5-fe47f788b266",
   "metadata": {
    "tags": []
   },
   "outputs": [
    {
     "name": "stdout",
     "output_type": "stream",
     "text": [
      "Files already downloaded and verified\n",
      "Files already downloaded and verified\n",
      "Epoch 0 [0/383] | loss: 2.4413 (avg: 0.0064) | acc nat: 0.0859 (avg: 0.0859) | acc rob: 0.0000 (avg: 0.0000) |\n",
      "Epoch 0 [100/383] | loss: 1.8231 (avg: 0.5491) | acc nat: 0.3984 (avg: 0.3147) | acc rob: 0.1484 (avg: 0.1294) |\n",
      "Epoch 0 [200/383] | loss: 1.6855 (avg: 1.0141) | acc nat: 0.5000 (avg: 0.3830) | acc rob: 0.1875 (avg: 0.1550) |\n",
      "Epoch 0 [300/383] | loss: 1.6060 (avg: 1.4452) | acc nat: 0.4688 (avg: 0.4254) | acc rob: 0.2656 (avg: 0.1683) |\n"
     ]
    },
    {
     "name": "stderr",
     "output_type": "stream",
     "text": [
      "[eval] 1000/1000: 100%|██████████| 1000/1000 [04:08<00:00,  4.03it/s, acc_nat=0.341, acc_rob=0.2]\n"
     ]
    },
    {
     "name": "stdout",
     "output_type": "stream",
     "text": [
      "Epoch 1 [0/383] | loss: 1.4902 (avg: 0.0039) | acc nat: 0.5781 (avg: 0.5781) | acc rob: 0.1797 (avg: 0.1797) |\n",
      "Epoch 1 [100/383] | loss: 1.4410 (avg: 0.3898) | acc nat: 0.6172 (avg: 0.6076) | acc rob: 0.2109 (avg: 0.2257) |\n",
      "Epoch 1 [200/383] | loss: 1.3150 (avg: 0.7554) | acc nat: 0.6797 (avg: 0.6278) | acc rob: 0.2578 (avg: 0.2271) |\n",
      "Epoch 1 [300/383] | loss: 1.3708 (avg: 1.1035) | acc nat: 0.6562 (avg: 0.6429) | acc rob: 0.2656 (avg: 0.2333) |\n"
     ]
    },
    {
     "name": "stderr",
     "output_type": "stream",
     "text": [
      "[eval] 1000/1000: 100%|██████████| 1000/1000 [04:07<00:00,  4.05it/s, acc_nat=0.448, acc_rob=0.243]\n"
     ]
    },
    {
     "name": "stdout",
     "output_type": "stream",
     "text": [
      "Epoch 2 [0/383] | loss: 1.4073 (avg: 0.0037) | acc nat: 0.6719 (avg: 0.6719) | acc rob: 0.2266 (avg: 0.2266) |\n",
      "Epoch 2 [100/383] | loss: 1.1222 (avg: 0.3308) | acc nat: 0.8281 (avg: 0.7191) | acc rob: 0.3125 (avg: 0.2560) |\n",
      "Epoch 2 [200/383] | loss: 1.2651 (avg: 0.6453) | acc nat: 0.7188 (avg: 0.7280) | acc rob: 0.2344 (avg: 0.2633) |\n",
      "Epoch 2 [300/383] | loss: 1.1526 (avg: 0.9540) | acc nat: 0.7812 (avg: 0.7353) | acc rob: 0.2656 (avg: 0.2658) |\n"
     ]
    },
    {
     "name": "stderr",
     "output_type": "stream",
     "text": [
      "[eval] 1000/1000: 100%|██████████| 1000/1000 [04:13<00:00,  3.95it/s, acc_nat=0.477, acc_rob=0.296]\n"
     ]
    },
    {
     "name": "stdout",
     "output_type": "stream",
     "text": [
      "Epoch 3 [0/383] | loss: 1.0934 (avg: 0.0029) | acc nat: 0.7969 (avg: 0.7969) | acc rob: 0.2812 (avg: 0.2812) |\n",
      "Epoch 3 [100/383] | loss: 1.1440 (avg: 0.2927) | acc nat: 0.7656 (avg: 0.7814) | acc rob: 0.2734 (avg: 0.2888) |\n",
      "Epoch 3 [200/383] | loss: 1.1776 (avg: 0.5814) | acc nat: 0.7500 (avg: 0.7783) | acc rob: 0.2969 (avg: 0.2928) |\n",
      "Epoch 3 [300/383] | loss: 1.0188 (avg: 0.8621) | acc nat: 0.8438 (avg: 0.7829) | acc rob: 0.3359 (avg: 0.2951) |\n"
     ]
    },
    {
     "name": "stderr",
     "output_type": "stream",
     "text": [
      "[eval] 1000/1000: 100%|██████████| 1000/1000 [05:00<00:00,  3.32it/s, acc_nat=0.555, acc_rob=0.306]\n"
     ]
    },
    {
     "name": "stdout",
     "output_type": "stream",
     "text": [
      "Epoch 4 [0/383] | loss: 0.9806 (avg: 0.0026) | acc nat: 0.8516 (avg: 0.8516) | acc rob: 0.2969 (avg: 0.2969) |\n",
      "Epoch 4 [100/383] | loss: 0.9617 (avg: 0.2657) | acc nat: 0.8359 (avg: 0.8179) | acc rob: 0.3672 (avg: 0.3158) |\n",
      "Epoch 4 [200/383] | loss: 1.0823 (avg: 0.5323) | acc nat: 0.7891 (avg: 0.8136) | acc rob: 0.3672 (avg: 0.3174) |\n",
      "Epoch 4 [300/383] | loss: 0.9600 (avg: 0.7894) | acc nat: 0.8516 (avg: 0.8162) | acc rob: 0.3359 (avg: 0.3227) |\n"
     ]
    },
    {
     "name": "stderr",
     "output_type": "stream",
     "text": [
      "[eval] 1000/1000: 100%|██████████| 1000/1000 [05:03<00:00,  3.29it/s, acc_nat=0.59, acc_rob=0.314]\n"
     ]
    },
    {
     "name": "stdout",
     "output_type": "stream",
     "text": [
      "Epoch 5 [0/383] | loss: 1.0209 (avg: 0.0027) | acc nat: 0.7891 (avg: 0.7891) | acc rob: 0.3438 (avg: 0.3438) |\n",
      "Epoch 5 [100/383] | loss: 0.9873 (avg: 0.2525) | acc nat: 0.8203 (avg: 0.8366) | acc rob: 0.2969 (avg: 0.3379) |\n",
      "Epoch 5 [200/383] | loss: 0.8528 (avg: 0.5014) | acc nat: 0.9062 (avg: 0.8375) | acc rob: 0.3203 (avg: 0.3411) |\n",
      "Epoch 5 [300/383] | loss: 0.9562 (avg: 0.7467) | acc nat: 0.8047 (avg: 0.8377) | acc rob: 0.3984 (avg: 0.3396) |\n"
     ]
    },
    {
     "name": "stderr",
     "output_type": "stream",
     "text": [
      "[eval] 1000/1000: 100%|██████████| 1000/1000 [05:05<00:00,  3.28it/s, acc_nat=0.609, acc_rob=0.332]\n"
     ]
    },
    {
     "name": "stdout",
     "output_type": "stream",
     "text": [
      "Epoch 6 [0/383] | loss: 0.9028 (avg: 0.0024) | acc nat: 0.8516 (avg: 0.8516) | acc rob: 0.3594 (avg: 0.3594) |\n",
      "Epoch 6 [100/383] | loss: 0.9945 (avg: 0.2404) | acc nat: 0.8047 (avg: 0.8532) | acc rob: 0.3125 (avg: 0.3549) |\n",
      "Epoch 6 [200/383] | loss: 0.8388 (avg: 0.4763) | acc nat: 0.8750 (avg: 0.8544) | acc rob: 0.4062 (avg: 0.3585) |\n",
      "Epoch 6 [300/383] | loss: 0.8068 (avg: 0.7147) | acc nat: 0.9062 (avg: 0.8530) | acc rob: 0.3594 (avg: 0.3606) |\n"
     ]
    },
    {
     "name": "stderr",
     "output_type": "stream",
     "text": [
      "[eval] 1000/1000: 100%|██████████| 1000/1000 [05:04<00:00,  3.28it/s, acc_nat=0.599, acc_rob=0.364]\n"
     ]
    },
    {
     "name": "stdout",
     "output_type": "stream",
     "text": [
      "Epoch 7 [0/383] | loss: 0.8342 (avg: 0.0022) | acc nat: 0.9219 (avg: 0.9219) | acc rob: 0.3359 (avg: 0.3359) |\n",
      "Epoch 7 [100/383] | loss: 0.7957 (avg: 0.2291) | acc nat: 0.9141 (avg: 0.8660) | acc rob: 0.4453 (avg: 0.3755) |\n",
      "Epoch 7 [200/383] | loss: 0.7745 (avg: 0.4588) | acc nat: 0.8984 (avg: 0.8644) | acc rob: 0.4922 (avg: 0.3727) |\n",
      "Epoch 7 [300/383] | loss: 0.9214 (avg: 0.6851) | acc nat: 0.8203 (avg: 0.8645) | acc rob: 0.3281 (avg: 0.3768) |\n"
     ]
    },
    {
     "name": "stderr",
     "output_type": "stream",
     "text": [
      "[eval] 1000/1000: 100%|██████████| 1000/1000 [05:04<00:00,  3.29it/s, acc_nat=0.644, acc_rob=0.392]\n"
     ]
    },
    {
     "name": "stdout",
     "output_type": "stream",
     "text": [
      "Epoch 8 [0/383] | loss: 0.8219 (avg: 0.0021) | acc nat: 0.8750 (avg: 0.8750) | acc rob: 0.4609 (avg: 0.4609) |\n",
      "Epoch 8 [100/383] | loss: 0.8321 (avg: 0.2190) | acc nat: 0.8438 (avg: 0.8820) | acc rob: 0.4375 (avg: 0.3968) |\n",
      "Epoch 8 [200/383] | loss: 0.8728 (avg: 0.4396) | acc nat: 0.8828 (avg: 0.8785) | acc rob: 0.4219 (avg: 0.3903) |\n",
      "Epoch 8 [300/383] | loss: 0.7776 (avg: 0.6610) | acc nat: 0.9062 (avg: 0.8762) | acc rob: 0.4375 (avg: 0.3901) |\n"
     ]
    },
    {
     "name": "stderr",
     "output_type": "stream",
     "text": [
      "[eval] 1000/1000: 100%|██████████| 1000/1000 [05:05<00:00,  3.27it/s, acc_nat=0.656, acc_rob=0.376]\n"
     ]
    },
    {
     "name": "stdout",
     "output_type": "stream",
     "text": [
      "Epoch 9 [0/383] | loss: 0.7694 (avg: 0.0020) | acc nat: 0.8906 (avg: 0.8906) | acc rob: 0.5312 (avg: 0.5312) |\n",
      "Epoch 9 [100/383] | loss: 0.8263 (avg: 0.2134) | acc nat: 0.8516 (avg: 0.8862) | acc rob: 0.3594 (avg: 0.4061) |\n",
      "Epoch 9 [200/383] | loss: 0.7633 (avg: 0.4276) | acc nat: 0.9062 (avg: 0.8850) | acc rob: 0.4062 (avg: 0.4020) |\n",
      "Epoch 9 [300/383] | loss: 0.7540 (avg: 0.6422) | acc nat: 0.9141 (avg: 0.8840) | acc rob: 0.4609 (avg: 0.4015) |\n"
     ]
    },
    {
     "name": "stderr",
     "output_type": "stream",
     "text": [
      "[eval] 1000/1000: 100%|██████████| 1000/1000 [05:05<00:00,  3.28it/s, acc_nat=0.687, acc_rob=0.407]\n"
     ]
    },
    {
     "name": "stdout",
     "output_type": "stream",
     "text": [
      "Epoch 10 [0/383] | loss: 0.9259 (avg: 0.0024) | acc nat: 0.8594 (avg: 0.8594) | acc rob: 0.2969 (avg: 0.2969) |\n",
      "Epoch 10 [100/383] | loss: 0.8201 (avg: 0.2069) | acc nat: 0.8672 (avg: 0.8987) | acc rob: 0.3828 (avg: 0.4136) |\n",
      "Epoch 10 [200/383] | loss: 0.8052 (avg: 0.4149) | acc nat: 0.8828 (avg: 0.8938) | acc rob: 0.3438 (avg: 0.4123) |\n",
      "Epoch 10 [300/383] | loss: 0.7366 (avg: 0.6276) | acc nat: 0.9297 (avg: 0.8909) | acc rob: 0.4453 (avg: 0.4092) |\n"
     ]
    },
    {
     "name": "stderr",
     "output_type": "stream",
     "text": [
      "[eval] 1000/1000: 100%|██████████| 1000/1000 [05:04<00:00,  3.29it/s, acc_nat=0.688, acc_rob=0.421]\n"
     ]
    },
    {
     "name": "stdout",
     "output_type": "stream",
     "text": [
      "Epoch 11 [0/383] | loss: 0.7651 (avg: 0.0020) | acc nat: 0.8984 (avg: 0.8984) | acc rob: 0.4219 (avg: 0.4219) |\n",
      "Epoch 11 [100/383] | loss: 0.6432 (avg: 0.2007) | acc nat: 0.9297 (avg: 0.9043) | acc rob: 0.3984 (avg: 0.4240) |\n",
      "Epoch 11 [200/383] | loss: 0.7751 (avg: 0.4054) | acc nat: 0.8984 (avg: 0.9000) | acc rob: 0.4375 (avg: 0.4222) |\n",
      "Epoch 11 [300/383] | loss: 0.7610 (avg: 0.6067) | acc nat: 0.9141 (avg: 0.8993) | acc rob: 0.4141 (avg: 0.4233) |\n"
     ]
    },
    {
     "name": "stderr",
     "output_type": "stream",
     "text": [
      "[eval] 1000/1000: 100%|██████████| 1000/1000 [05:03<00:00,  3.29it/s, acc_nat=0.679, acc_rob=0.409]\n"
     ]
    },
    {
     "name": "stdout",
     "output_type": "stream",
     "text": [
      "Epoch 12 [0/383] | loss: 0.8140 (avg: 0.0021) | acc nat: 0.8984 (avg: 0.8984) | acc rob: 0.3281 (avg: 0.3281) |\n",
      "Epoch 12 [100/383] | loss: 0.7661 (avg: 0.2024) | acc nat: 0.9375 (avg: 0.9003) | acc rob: 0.4062 (avg: 0.4286) |\n",
      "Epoch 12 [200/383] | loss: 0.7332 (avg: 0.4011) | acc nat: 0.8672 (avg: 0.9032) | acc rob: 0.4844 (avg: 0.4296) |\n",
      "Epoch 12 [300/383] | loss: 0.7818 (avg: 0.6029) | acc nat: 0.9062 (avg: 0.9021) | acc rob: 0.4375 (avg: 0.4298) |\n"
     ]
    },
    {
     "name": "stderr",
     "output_type": "stream",
     "text": [
      "[eval] 1000/1000: 100%|██████████| 1000/1000 [05:05<00:00,  3.28it/s, acc_nat=0.713, acc_rob=0.431]\n"
     ]
    },
    {
     "name": "stdout",
     "output_type": "stream",
     "text": [
      "Epoch 13 [0/383] | loss: 0.6541 (avg: 0.0017) | acc nat: 0.9609 (avg: 0.9609) | acc rob: 0.4141 (avg: 0.4141) |\n",
      "Epoch 13 [100/383] | loss: 0.7965 (avg: 0.1946) | acc nat: 0.8984 (avg: 0.9134) | acc rob: 0.3906 (avg: 0.4321) |\n",
      "Epoch 13 [200/383] | loss: 0.6938 (avg: 0.3896) | acc nat: 0.9219 (avg: 0.9112) | acc rob: 0.5156 (avg: 0.4358) |\n",
      "Epoch 13 [300/383] | loss: 0.7421 (avg: 0.5864) | acc nat: 0.9219 (avg: 0.9085) | acc rob: 0.3906 (avg: 0.4358) |\n"
     ]
    },
    {
     "name": "stderr",
     "output_type": "stream",
     "text": [
      "[eval] 1000/1000: 100%|██████████| 1000/1000 [05:04<00:00,  3.29it/s, acc_nat=0.692, acc_rob=0.434]\n"
     ]
    },
    {
     "name": "stdout",
     "output_type": "stream",
     "text": [
      "Epoch 14 [0/383] | loss: 0.7948 (avg: 0.0021) | acc nat: 0.8828 (avg: 0.8828) | acc rob: 0.4531 (avg: 0.4531) |\n",
      "Epoch 14 [100/383] | loss: 0.8340 (avg: 0.1924) | acc nat: 0.8672 (avg: 0.9148) | acc rob: 0.4844 (avg: 0.4540) |\n",
      "Epoch 14 [200/383] | loss: 0.7852 (avg: 0.3824) | acc nat: 0.8672 (avg: 0.9148) | acc rob: 0.3984 (avg: 0.4508) |\n",
      "Epoch 14 [300/383] | loss: 0.8222 (avg: 0.5722) | acc nat: 0.8828 (avg: 0.9141) | acc rob: 0.3984 (avg: 0.4499) |\n"
     ]
    },
    {
     "name": "stderr",
     "output_type": "stream",
     "text": [
      "[eval] 1000/1000: 100%|██████████| 1000/1000 [05:00<00:00,  3.32it/s, acc_nat=0.708, acc_rob=0.424]\n"
     ]
    },
    {
     "name": "stdout",
     "output_type": "stream",
     "text": [
      "Epoch 15 [0/383] | loss: 0.7222 (avg: 0.0019) | acc nat: 0.9609 (avg: 0.9609) | acc rob: 0.4062 (avg: 0.4062) |\n",
      "Epoch 15 [100/383] | loss: 0.7332 (avg: 0.1856) | acc nat: 0.9141 (avg: 0.9230) | acc rob: 0.4375 (avg: 0.4669) |\n",
      "Epoch 15 [200/383] | loss: 0.7359 (avg: 0.3737) | acc nat: 0.9141 (avg: 0.9213) | acc rob: 0.4922 (avg: 0.4579) |\n",
      "Epoch 15 [300/383] | loss: 0.7095 (avg: 0.5656) | acc nat: 0.9141 (avg: 0.9181) | acc rob: 0.4922 (avg: 0.4555) |\n"
     ]
    },
    {
     "name": "stderr",
     "output_type": "stream",
     "text": [
      "[eval] 1000/1000: 100%|██████████| 1000/1000 [04:58<00:00,  3.35it/s, acc_nat=0.711, acc_rob=0.44]\n"
     ]
    },
    {
     "name": "stdout",
     "output_type": "stream",
     "text": [
      "Epoch 16 [0/383] | loss: 0.7205 (avg: 0.0019) | acc nat: 0.9062 (avg: 0.9062) | acc rob: 0.4531 (avg: 0.4531) |\n",
      "Epoch 16 [100/383] | loss: 0.6077 (avg: 0.1827) | acc nat: 0.9688 (avg: 0.9270) | acc rob: 0.4844 (avg: 0.4681) |\n",
      "Epoch 16 [200/383] | loss: 0.6597 (avg: 0.3655) | acc nat: 0.9609 (avg: 0.9258) | acc rob: 0.4766 (avg: 0.4651) |\n",
      "Epoch 16 [300/383] | loss: 0.7359 (avg: 0.5540) | acc nat: 0.9062 (avg: 0.9219) | acc rob: 0.3672 (avg: 0.4625) |\n"
     ]
    },
    {
     "name": "stderr",
     "output_type": "stream",
     "text": [
      "[eval] 1000/1000: 100%|██████████| 1000/1000 [04:54<00:00,  3.39it/s, acc_nat=0.704, acc_rob=0.434]\n"
     ]
    },
    {
     "name": "stdout",
     "output_type": "stream",
     "text": [
      "Epoch 17 [0/383] | loss: 0.6253 (avg: 0.0016) | acc nat: 0.9375 (avg: 0.9375) | acc rob: 0.4531 (avg: 0.4531) |\n",
      "Epoch 17 [100/383] | loss: 0.7379 (avg: 0.1822) | acc nat: 0.9219 (avg: 0.9264) | acc rob: 0.4844 (avg: 0.4657) |\n",
      "Epoch 17 [200/383] | loss: 0.6559 (avg: 0.3653) | acc nat: 0.9531 (avg: 0.9230) | acc rob: 0.4219 (avg: 0.4670) |\n",
      "Epoch 17 [300/383] | loss: 0.7595 (avg: 0.5497) | acc nat: 0.8984 (avg: 0.9223) | acc rob: 0.5078 (avg: 0.4657) |\n"
     ]
    },
    {
     "name": "stderr",
     "output_type": "stream",
     "text": [
      "[eval] 1000/1000: 100%|██████████| 1000/1000 [04:51<00:00,  3.43it/s, acc_nat=0.743, acc_rob=0.435]\n"
     ]
    },
    {
     "name": "stdout",
     "output_type": "stream",
     "text": [
      "Epoch 18 [0/383] | loss: 0.6832 (avg: 0.0018) | acc nat: 0.9141 (avg: 0.9141) | acc rob: 0.4141 (avg: 0.4141) |\n",
      "Epoch 18 [100/383] | loss: 0.7264 (avg: 0.1813) | acc nat: 0.9062 (avg: 0.9267) | acc rob: 0.4375 (avg: 0.4779) |\n",
      "Epoch 18 [200/383] | loss: 0.6738 (avg: 0.3625) | acc nat: 0.9375 (avg: 0.9258) | acc rob: 0.4688 (avg: 0.4750) |\n",
      "Epoch 18 [300/383] | loss: 0.6097 (avg: 0.5417) | acc nat: 0.9453 (avg: 0.9254) | acc rob: 0.5156 (avg: 0.4749) |\n"
     ]
    },
    {
     "name": "stderr",
     "output_type": "stream",
     "text": [
      "[eval] 1000/1000: 100%|██████████| 1000/1000 [04:47<00:00,  3.48it/s, acc_nat=0.749, acc_rob=0.438]\n"
     ]
    },
    {
     "name": "stdout",
     "output_type": "stream",
     "text": [
      "Epoch 19 [0/383] | loss: 0.6543 (avg: 0.0017) | acc nat: 0.9531 (avg: 0.9531) | acc rob: 0.5078 (avg: 0.5078) |\n",
      "Epoch 19 [100/383] | loss: 0.6982 (avg: 0.1789) | acc nat: 0.9375 (avg: 0.9316) | acc rob: 0.4375 (avg: 0.4778) |\n",
      "Epoch 19 [200/383] | loss: 0.5773 (avg: 0.3571) | acc nat: 0.9609 (avg: 0.9265) | acc rob: 0.5391 (avg: 0.4824) |\n",
      "Epoch 19 [300/383] | loss: 0.6728 (avg: 0.5359) | acc nat: 0.9219 (avg: 0.9257) | acc rob: 0.5078 (avg: 0.4809) |\n"
     ]
    },
    {
     "name": "stderr",
     "output_type": "stream",
     "text": [
      "[eval] 1000/1000: 100%|██████████| 1000/1000 [04:45<00:00,  3.51it/s, acc_nat=0.73, acc_rob=0.462]\n"
     ]
    },
    {
     "name": "stdout",
     "output_type": "stream",
     "text": [
      "Epoch 20 [0/383] | loss: 0.6204 (avg: 0.0016) | acc nat: 0.9219 (avg: 0.9219) | acc rob: 0.5391 (avg: 0.5391) |\n",
      "Epoch 20 [100/383] | loss: 0.6673 (avg: 0.1764) | acc nat: 0.9375 (avg: 0.9296) | acc rob: 0.4688 (avg: 0.4862) |\n",
      "Epoch 20 [200/383] | loss: 0.7355 (avg: 0.3535) | acc nat: 0.9219 (avg: 0.9295) | acc rob: 0.4297 (avg: 0.4818) |\n",
      "Epoch 20 [300/383] | loss: 0.6500 (avg: 0.5306) | acc nat: 0.9219 (avg: 0.9289) | acc rob: 0.5859 (avg: 0.4832) |\n"
     ]
    },
    {
     "name": "stderr",
     "output_type": "stream",
     "text": [
      "[eval] 1000/1000: 100%|██████████| 1000/1000 [04:42<00:00,  3.54it/s, acc_nat=0.763, acc_rob=0.469]\n"
     ]
    },
    {
     "name": "stdout",
     "output_type": "stream",
     "text": [
      "Epoch 21 [0/383] | loss: 0.7029 (avg: 0.0018) | acc nat: 0.9062 (avg: 0.9062) | acc rob: 0.5156 (avg: 0.5156) |\n",
      "Epoch 21 [100/383] | loss: 0.7042 (avg: 0.1726) | acc nat: 0.9297 (avg: 0.9368) | acc rob: 0.4062 (avg: 0.4937) |\n",
      "Epoch 21 [200/383] | loss: 0.6915 (avg: 0.3472) | acc nat: 0.9375 (avg: 0.9342) | acc rob: 0.4375 (avg: 0.4907) |\n",
      "Epoch 21 [300/383] | loss: 0.6797 (avg: 0.5224) | acc nat: 0.9141 (avg: 0.9316) | acc rob: 0.5469 (avg: 0.4922) |\n"
     ]
    },
    {
     "name": "stderr",
     "output_type": "stream",
     "text": [
      "[eval] 1000/1000: 100%|██████████| 1000/1000 [04:37<00:00,  3.60it/s, acc_nat=0.758, acc_rob=0.45]\n"
     ]
    },
    {
     "name": "stdout",
     "output_type": "stream",
     "text": [
      "Epoch 22 [0/383] | loss: 0.7105 (avg: 0.0019) | acc nat: 0.9375 (avg: 0.9375) | acc rob: 0.4453 (avg: 0.4453) |\n",
      "Epoch 22 [100/383] | loss: 0.6901 (avg: 0.1761) | acc nat: 0.9219 (avg: 0.9278) | acc rob: 0.5078 (avg: 0.4909) |\n",
      "Epoch 22 [200/383] | loss: 0.6123 (avg: 0.3491) | acc nat: 0.9453 (avg: 0.9287) | acc rob: 0.5312 (avg: 0.4923) |\n",
      "Epoch 22 [300/383] | loss: 0.6919 (avg: 0.5217) | acc nat: 0.9141 (avg: 0.9300) | acc rob: 0.4922 (avg: 0.4939) |\n"
     ]
    },
    {
     "name": "stderr",
     "output_type": "stream",
     "text": [
      "[eval] 1000/1000: 100%|██████████| 1000/1000 [04:37<00:00,  3.60it/s, acc_nat=0.728, acc_rob=0.461]\n"
     ]
    },
    {
     "name": "stdout",
     "output_type": "stream",
     "text": [
      "Epoch 23 [0/383] | loss: 0.6262 (avg: 0.0016) | acc nat: 0.9297 (avg: 0.9297) | acc rob: 0.5391 (avg: 0.5391) |\n",
      "Epoch 23 [100/383] | loss: 0.6969 (avg: 0.1709) | acc nat: 0.9219 (avg: 0.9360) | acc rob: 0.4531 (avg: 0.5005) |\n",
      "Epoch 23 [200/383] | loss: 0.6538 (avg: 0.3427) | acc nat: 0.9375 (avg: 0.9344) | acc rob: 0.4688 (avg: 0.5001) |\n",
      "Epoch 23 [300/383] | loss: 0.7958 (avg: 0.5159) | acc nat: 0.8906 (avg: 0.9325) | acc rob: 0.4141 (avg: 0.4996) |\n"
     ]
    },
    {
     "name": "stderr",
     "output_type": "stream",
     "text": [
      "[eval] 1000/1000: 100%|██████████| 1000/1000 [04:41<00:00,  3.55it/s, acc_nat=0.77, acc_rob=0.476]\n"
     ]
    },
    {
     "name": "stdout",
     "output_type": "stream",
     "text": [
      "Epoch 24 [0/383] | loss: 0.5650 (avg: 0.0015) | acc nat: 0.9609 (avg: 0.9609) | acc rob: 0.5547 (avg: 0.5547) |\n",
      "Epoch 24 [100/383] | loss: 0.5614 (avg: 0.1724) | acc nat: 0.9766 (avg: 0.9332) | acc rob: 0.5547 (avg: 0.4995) |\n",
      "Epoch 24 [200/383] | loss: 0.6194 (avg: 0.3416) | acc nat: 0.9375 (avg: 0.9344) | acc rob: 0.5312 (avg: 0.5022) |\n",
      "Epoch 24 [300/383] | loss: 0.6962 (avg: 0.5090) | acc nat: 0.9297 (avg: 0.9354) | acc rob: 0.4766 (avg: 0.5046) |\n"
     ]
    },
    {
     "name": "stderr",
     "output_type": "stream",
     "text": [
      "[eval] 1000/1000: 100%|██████████| 1000/1000 [04:45<00:00,  3.50it/s, acc_nat=0.748, acc_rob=0.494]\n"
     ]
    },
    {
     "name": "stdout",
     "output_type": "stream",
     "text": [
      "Epoch 25 [0/383] | loss: 0.6078 (avg: 0.0016) | acc nat: 0.9531 (avg: 0.9531) | acc rob: 0.5859 (avg: 0.5859) |\n",
      "Epoch 25 [100/383] | loss: 0.6752 (avg: 0.1669) | acc nat: 0.9297 (avg: 0.9394) | acc rob: 0.5078 (avg: 0.5142) |\n",
      "Epoch 25 [200/383] | loss: 0.6578 (avg: 0.3336) | acc nat: 0.9375 (avg: 0.9396) | acc rob: 0.4453 (avg: 0.5133) |\n",
      "Epoch 25 [300/383] | loss: 0.6058 (avg: 0.5019) | acc nat: 0.9609 (avg: 0.9386) | acc rob: 0.4766 (avg: 0.5110) |\n"
     ]
    },
    {
     "name": "stderr",
     "output_type": "stream",
     "text": [
      "[eval] 1000/1000: 100%|██████████| 1000/1000 [04:48<00:00,  3.46it/s, acc_nat=0.761, acc_rob=0.462]\n"
     ]
    },
    {
     "name": "stdout",
     "output_type": "stream",
     "text": [
      "Epoch 26 [0/383] | loss: 0.6236 (avg: 0.0016) | acc nat: 0.9375 (avg: 0.9375) | acc rob: 0.5156 (avg: 0.5156) |\n",
      "Epoch 26 [100/383] | loss: 0.6292 (avg: 0.1683) | acc nat: 0.9453 (avg: 0.9397) | acc rob: 0.5312 (avg: 0.5061) |\n",
      "Epoch 26 [200/383] | loss: 0.7835 (avg: 0.3357) | acc nat: 0.8906 (avg: 0.9384) | acc rob: 0.4766 (avg: 0.5093) |\n",
      "Epoch 26 [300/383] | loss: 0.6308 (avg: 0.5038) | acc nat: 0.9375 (avg: 0.9360) | acc rob: 0.4844 (avg: 0.5116) |\n"
     ]
    },
    {
     "name": "stderr",
     "output_type": "stream",
     "text": [
      "[eval] 1000/1000: 100%|██████████| 1000/1000 [04:53<00:00,  3.41it/s, acc_nat=0.762, acc_rob=0.467]\n"
     ]
    },
    {
     "name": "stdout",
     "output_type": "stream",
     "text": [
      "Epoch 27 [0/383] | loss: 0.5456 (avg: 0.0014) | acc nat: 0.9453 (avg: 0.9453) | acc rob: 0.5391 (avg: 0.5391) |\n",
      "Epoch 27 [100/383] | loss: 0.5449 (avg: 0.1639) | acc nat: 0.9766 (avg: 0.9425) | acc rob: 0.5234 (avg: 0.5213) |\n",
      "Epoch 27 [200/383] | loss: 0.5926 (avg: 0.3299) | acc nat: 0.9688 (avg: 0.9405) | acc rob: 0.5391 (avg: 0.5180) |\n",
      "Epoch 27 [300/383] | loss: 0.6596 (avg: 0.4981) | acc nat: 0.9531 (avg: 0.9378) | acc rob: 0.4688 (avg: 0.5162) |\n"
     ]
    },
    {
     "name": "stderr",
     "output_type": "stream",
     "text": [
      "[eval] 1000/1000: 100%|██████████| 1000/1000 [04:55<00:00,  3.38it/s, acc_nat=0.747, acc_rob=0.481]\n"
     ]
    },
    {
     "name": "stdout",
     "output_type": "stream",
     "text": [
      "Epoch 28 [0/383] | loss: 0.6129 (avg: 0.0016) | acc nat: 0.9219 (avg: 0.9219) | acc rob: 0.5703 (avg: 0.5703) |\n",
      "Epoch 28 [100/383] | loss: 0.6114 (avg: 0.1640) | acc nat: 0.9375 (avg: 0.9438) | acc rob: 0.5547 (avg: 0.5256) |\n",
      "Epoch 28 [200/383] | loss: 0.6753 (avg: 0.3271) | acc nat: 0.9297 (avg: 0.9421) | acc rob: 0.5391 (avg: 0.5253) |\n",
      "Epoch 28 [300/383] | loss: 0.6465 (avg: 0.4938) | acc nat: 0.9453 (avg: 0.9392) | acc rob: 0.4766 (avg: 0.5220) |\n"
     ]
    },
    {
     "name": "stderr",
     "output_type": "stream",
     "text": [
      "[eval] 1000/1000: 100%|██████████| 1000/1000 [04:59<00:00,  3.34it/s, acc_nat=0.779, acc_rob=0.486]\n"
     ]
    },
    {
     "name": "stdout",
     "output_type": "stream",
     "text": [
      "Epoch 29 [0/383] | loss: 0.5938 (avg: 0.0016) | acc nat: 0.9531 (avg: 0.9531) | acc rob: 0.5000 (avg: 0.5000) |\n",
      "Epoch 29 [100/383] | loss: 0.5720 (avg: 0.1601) | acc nat: 0.9609 (avg: 0.9430) | acc rob: 0.5312 (avg: 0.5364) |\n",
      "Epoch 29 [200/383] | loss: 0.6082 (avg: 0.3225) | acc nat: 0.9609 (avg: 0.9419) | acc rob: 0.4375 (avg: 0.5293) |\n",
      "Epoch 29 [300/383] | loss: 0.5848 (avg: 0.4890) | acc nat: 0.9609 (avg: 0.9396) | acc rob: 0.5547 (avg: 0.5241) |\n"
     ]
    },
    {
     "name": "stderr",
     "output_type": "stream",
     "text": [
      "[eval] 1000/1000: 100%|██████████| 1000/1000 [05:02<00:00,  3.30it/s, acc_nat=0.79, acc_rob=0.504]\n"
     ]
    },
    {
     "name": "stdout",
     "output_type": "stream",
     "text": [
      "Epoch 30 [0/383] | loss: 0.6358 (avg: 0.0017) | acc nat: 0.9141 (avg: 0.9141) | acc rob: 0.5312 (avg: 0.5312) |\n",
      "Epoch 30 [100/383] | loss: 0.6542 (avg: 0.1626) | acc nat: 0.9609 (avg: 0.9407) | acc rob: 0.4609 (avg: 0.5346) |\n",
      "Epoch 30 [200/383] | loss: 0.6310 (avg: 0.3231) | acc nat: 0.9453 (avg: 0.9430) | acc rob: 0.5078 (avg: 0.5305) |\n",
      "Epoch 30 [300/383] | loss: 0.5518 (avg: 0.4853) | acc nat: 0.9922 (avg: 0.9428) | acc rob: 0.4844 (avg: 0.5283) |\n"
     ]
    },
    {
     "name": "stderr",
     "output_type": "stream",
     "text": [
      "[eval] 1000/1000: 100%|██████████| 1000/1000 [05:04<00:00,  3.28it/s, acc_nat=0.765, acc_rob=0.485]\n"
     ]
    },
    {
     "name": "stdout",
     "output_type": "stream",
     "text": [
      "Epoch 31 [0/383] | loss: 0.5895 (avg: 0.0015) | acc nat: 0.9531 (avg: 0.9531) | acc rob: 0.5312 (avg: 0.5312) |\n",
      "Epoch 31 [100/383] | loss: 0.5125 (avg: 0.1605) | acc nat: 0.9844 (avg: 0.9443) | acc rob: 0.5703 (avg: 0.5391) |\n",
      "Epoch 31 [200/383] | loss: 0.5399 (avg: 0.3206) | acc nat: 0.9688 (avg: 0.9433) | acc rob: 0.5938 (avg: 0.5364) |\n",
      "Epoch 31 [300/383] | loss: 0.6324 (avg: 0.4841) | acc nat: 0.9219 (avg: 0.9425) | acc rob: 0.5547 (avg: 0.5345) |\n"
     ]
    },
    {
     "name": "stderr",
     "output_type": "stream",
     "text": [
      "[eval] 1000/1000: 100%|██████████| 1000/1000 [05:03<00:00,  3.30it/s, acc_nat=0.784, acc_rob=0.494]\n"
     ]
    },
    {
     "name": "stdout",
     "output_type": "stream",
     "text": [
      "Epoch 32 [0/383] | loss: 0.5642 (avg: 0.0015) | acc nat: 0.9609 (avg: 0.9609) | acc rob: 0.5469 (avg: 0.5469) |\n",
      "Epoch 32 [100/383] | loss: 0.5682 (avg: 0.1598) | acc nat: 0.9531 (avg: 0.9461) | acc rob: 0.5391 (avg: 0.5386) |\n",
      "Epoch 32 [200/383] | loss: 0.6418 (avg: 0.3198) | acc nat: 0.9453 (avg: 0.9443) | acc rob: 0.5078 (avg: 0.5373) |\n",
      "Epoch 32 [300/383] | loss: 0.6459 (avg: 0.4828) | acc nat: 0.9141 (avg: 0.9419) | acc rob: 0.5547 (avg: 0.5353) |\n"
     ]
    },
    {
     "name": "stderr",
     "output_type": "stream",
     "text": [
      "[eval] 1000/1000: 100%|██████████| 1000/1000 [05:04<00:00,  3.28it/s, acc_nat=0.766, acc_rob=0.478]\n"
     ]
    },
    {
     "name": "stdout",
     "output_type": "stream",
     "text": [
      "Epoch 33 [0/383] | loss: 0.6446 (avg: 0.0017) | acc nat: 0.9297 (avg: 0.9297) | acc rob: 0.5547 (avg: 0.5547) |\n",
      "Epoch 33 [100/383] | loss: 0.6647 (avg: 0.1568) | acc nat: 0.9688 (avg: 0.9506) | acc rob: 0.4375 (avg: 0.5452) |\n",
      "Epoch 33 [200/383] | loss: 0.6166 (avg: 0.3124) | acc nat: 0.9219 (avg: 0.9501) | acc rob: 0.5312 (avg: 0.5432) |\n",
      "Epoch 33 [300/383] | loss: 0.6756 (avg: 0.4738) | acc nat: 0.9219 (avg: 0.9467) | acc rob: 0.5781 (avg: 0.5404) |\n"
     ]
    },
    {
     "name": "stderr",
     "output_type": "stream",
     "text": [
      "[eval] 1000/1000: 100%|██████████| 1000/1000 [05:04<00:00,  3.28it/s, acc_nat=0.768, acc_rob=0.48]\n"
     ]
    },
    {
     "name": "stdout",
     "output_type": "stream",
     "text": [
      "Epoch 34 [0/383] | loss: 0.6202 (avg: 0.0016) | acc nat: 0.9219 (avg: 0.9219) | acc rob: 0.5703 (avg: 0.5703) |\n",
      "Epoch 34 [100/383] | loss: 0.6084 (avg: 0.1595) | acc nat: 0.9609 (avg: 0.9428) | acc rob: 0.5078 (avg: 0.5453) |\n",
      "Epoch 34 [200/383] | loss: 0.5760 (avg: 0.3181) | acc nat: 0.9609 (avg: 0.9421) | acc rob: 0.5469 (avg: 0.5447) |\n",
      "Epoch 34 [300/383] | loss: 0.5626 (avg: 0.4785) | acc nat: 0.9688 (avg: 0.9415) | acc rob: 0.6016 (avg: 0.5421) |\n"
     ]
    },
    {
     "name": "stderr",
     "output_type": "stream",
     "text": [
      "[eval] 1000/1000: 100%|██████████| 1000/1000 [05:04<00:00,  3.28it/s, acc_nat=0.766, acc_rob=0.485]\n"
     ]
    },
    {
     "name": "stdout",
     "output_type": "stream",
     "text": [
      "Epoch 35 [0/383] | loss: 0.6467 (avg: 0.0017) | acc nat: 0.9297 (avg: 0.9297) | acc rob: 0.4844 (avg: 0.4844) |\n",
      "Epoch 35 [100/383] | loss: 0.5896 (avg: 0.1578) | acc nat: 0.9375 (avg: 0.9472) | acc rob: 0.6016 (avg: 0.5448) |\n",
      "Epoch 35 [200/383] | loss: 0.6019 (avg: 0.3127) | acc nat: 0.9375 (avg: 0.9470) | acc rob: 0.6250 (avg: 0.5457) |\n",
      "Epoch 35 [300/383] | loss: 0.6464 (avg: 0.4729) | acc nat: 0.9062 (avg: 0.9455) | acc rob: 0.5000 (avg: 0.5426) |\n"
     ]
    },
    {
     "name": "stderr",
     "output_type": "stream",
     "text": [
      "[eval] 1000/1000: 100%|██████████| 1000/1000 [05:03<00:00,  3.29it/s, acc_nat=0.771, acc_rob=0.485]\n"
     ]
    },
    {
     "name": "stdout",
     "output_type": "stream",
     "text": [
      "Epoch 36 [0/383] | loss: 0.6050 (avg: 0.0016) | acc nat: 0.9453 (avg: 0.9453) | acc rob: 0.5859 (avg: 0.5859) |\n",
      "Epoch 36 [100/383] | loss: 0.6399 (avg: 0.1549) | acc nat: 0.9297 (avg: 0.9504) | acc rob: 0.5469 (avg: 0.5534) |\n",
      "Epoch 36 [200/383] | loss: 0.5743 (avg: 0.3116) | acc nat: 0.9531 (avg: 0.9472) | acc rob: 0.4844 (avg: 0.5501) |\n",
      "Epoch 36 [300/383] | loss: 0.5606 (avg: 0.4725) | acc nat: 0.9688 (avg: 0.9447) | acc rob: 0.5312 (avg: 0.5452) |\n"
     ]
    },
    {
     "name": "stderr",
     "output_type": "stream",
     "text": [
      "[eval] 1000/1000: 100%|██████████| 1000/1000 [05:03<00:00,  3.29it/s, acc_nat=0.777, acc_rob=0.486]\n"
     ]
    },
    {
     "name": "stdout",
     "output_type": "stream",
     "text": [
      "Epoch 37 [0/383] | loss: 0.5738 (avg: 0.0015) | acc nat: 0.9453 (avg: 0.9453) | acc rob: 0.5703 (avg: 0.5703) |\n",
      "Epoch 37 [100/383] | loss: 0.5754 (avg: 0.1519) | acc nat: 0.9766 (avg: 0.9507) | acc rob: 0.4766 (avg: 0.5623) |\n",
      "Epoch 37 [200/383] | loss: 0.5583 (avg: 0.3084) | acc nat: 0.9531 (avg: 0.9479) | acc rob: 0.5547 (avg: 0.5543) |\n",
      "Epoch 37 [300/383] | loss: 0.5760 (avg: 0.4659) | acc nat: 0.9297 (avg: 0.9469) | acc rob: 0.5781 (avg: 0.5497) |\n"
     ]
    },
    {
     "name": "stderr",
     "output_type": "stream",
     "text": [
      "[eval] 1000/1000: 100%|██████████| 1000/1000 [05:04<00:00,  3.28it/s, acc_nat=0.783, acc_rob=0.5] \n"
     ]
    },
    {
     "name": "stdout",
     "output_type": "stream",
     "text": [
      "Epoch 38 [0/383] | loss: 0.5921 (avg: 0.0015) | acc nat: 0.9531 (avg: 0.9531) | acc rob: 0.5391 (avg: 0.5391) |\n",
      "Epoch 38 [100/383] | loss: 0.6735 (avg: 0.1536) | acc nat: 0.9219 (avg: 0.9481) | acc rob: 0.5781 (avg: 0.5573) |\n",
      "Epoch 38 [200/383] | loss: 0.6249 (avg: 0.3094) | acc nat: 0.9609 (avg: 0.9475) | acc rob: 0.5547 (avg: 0.5562) |\n",
      "Epoch 38 [300/383] | loss: 0.6577 (avg: 0.4649) | acc nat: 0.9297 (avg: 0.9472) | acc rob: 0.4688 (avg: 0.5546) |\n"
     ]
    },
    {
     "name": "stderr",
     "output_type": "stream",
     "text": [
      "[eval] 1000/1000: 100%|██████████| 1000/1000 [05:04<00:00,  3.29it/s, acc_nat=0.779, acc_rob=0.502]\n"
     ]
    },
    {
     "name": "stdout",
     "output_type": "stream",
     "text": [
      "Epoch 39 [0/383] | loss: 0.5230 (avg: 0.0014) | acc nat: 0.9766 (avg: 0.9766) | acc rob: 0.6172 (avg: 0.6172) |\n",
      "Epoch 39 [100/383] | loss: 0.6098 (avg: 0.1518) | acc nat: 0.9062 (avg: 0.9502) | acc rob: 0.5938 (avg: 0.5599) |\n",
      "Epoch 39 [200/383] | loss: 0.6408 (avg: 0.3050) | acc nat: 0.9375 (avg: 0.9494) | acc rob: 0.5391 (avg: 0.5552) |\n",
      "Epoch 39 [300/383] | loss: 0.5954 (avg: 0.4579) | acc nat: 0.9375 (avg: 0.9483) | acc rob: 0.5469 (avg: 0.5545) |\n"
     ]
    },
    {
     "name": "stderr",
     "output_type": "stream",
     "text": [
      "[eval] 1000/1000: 100%|██████████| 1000/1000 [05:04<00:00,  3.28it/s, acc_nat=0.764, acc_rob=0.51]\n"
     ]
    },
    {
     "name": "stdout",
     "output_type": "stream",
     "text": [
      "Epoch 40 [0/383] | loss: 0.6074 (avg: 0.0016) | acc nat: 0.9453 (avg: 0.9453) | acc rob: 0.5625 (avg: 0.5625) |\n",
      "Epoch 40 [100/383] | loss: 0.5691 (avg: 0.1513) | acc nat: 0.9453 (avg: 0.9519) | acc rob: 0.6250 (avg: 0.5630) |\n",
      "Epoch 40 [200/383] | loss: 0.5597 (avg: 0.3054) | acc nat: 0.9766 (avg: 0.9500) | acc rob: 0.5938 (avg: 0.5596) |\n",
      "Epoch 40 [300/383] | loss: 0.6035 (avg: 0.4585) | acc nat: 0.9453 (avg: 0.9491) | acc rob: 0.6094 (avg: 0.5585) |\n"
     ]
    },
    {
     "name": "stderr",
     "output_type": "stream",
     "text": [
      "[eval] 1000/1000: 100%|██████████| 1000/1000 [05:01<00:00,  3.31it/s, acc_nat=0.793, acc_rob=0.494]\n"
     ]
    },
    {
     "name": "stdout",
     "output_type": "stream",
     "text": [
      "Epoch 41 [0/383] | loss: 0.5012 (avg: 0.0013) | acc nat: 0.9609 (avg: 0.9609) | acc rob: 0.5859 (avg: 0.5859) |\n",
      "Epoch 41 [100/383] | loss: 0.5299 (avg: 0.1497) | acc nat: 0.9766 (avg: 0.9538) | acc rob: 0.6016 (avg: 0.5641) |\n",
      "Epoch 41 [200/383] | loss: 0.6283 (avg: 0.3025) | acc nat: 0.9062 (avg: 0.9505) | acc rob: 0.5156 (avg: 0.5632) |\n",
      "Epoch 41 [300/383] | loss: 0.5852 (avg: 0.4556) | acc nat: 0.9297 (avg: 0.9497) | acc rob: 0.5703 (avg: 0.5604) |\n"
     ]
    },
    {
     "name": "stderr",
     "output_type": "stream",
     "text": [
      "[eval] 1000/1000: 100%|██████████| 1000/1000 [04:58<00:00,  3.35it/s, acc_nat=0.76, acc_rob=0.488]\n"
     ]
    },
    {
     "name": "stdout",
     "output_type": "stream",
     "text": [
      "Epoch 42 [0/383] | loss: 0.5557 (avg: 0.0015) | acc nat: 0.9531 (avg: 0.9531) | acc rob: 0.6719 (avg: 0.6719) |\n",
      "Epoch 42 [100/383] | loss: 0.5385 (avg: 0.1538) | acc nat: 0.9531 (avg: 0.9450) | acc rob: 0.6094 (avg: 0.5685) |\n",
      "Epoch 42 [200/383] | loss: 0.6375 (avg: 0.3065) | acc nat: 0.9141 (avg: 0.9476) | acc rob: 0.5625 (avg: 0.5646) |\n",
      "Epoch 42 [300/383] | loss: 0.6100 (avg: 0.4576) | acc nat: 0.9453 (avg: 0.9480) | acc rob: 0.5312 (avg: 0.5651) |\n"
     ]
    },
    {
     "name": "stderr",
     "output_type": "stream",
     "text": [
      "[eval] 1000/1000: 100%|██████████| 1000/1000 [04:53<00:00,  3.40it/s, acc_nat=0.812, acc_rob=0.509]\n"
     ]
    },
    {
     "name": "stdout",
     "output_type": "stream",
     "text": [
      "Epoch 43 [0/383] | loss: 0.5736 (avg: 0.0015) | acc nat: 0.9375 (avg: 0.9375) | acc rob: 0.5781 (avg: 0.5781) |\n",
      "Epoch 43 [100/383] | loss: 0.6256 (avg: 0.1516) | acc nat: 0.9453 (avg: 0.9483) | acc rob: 0.5234 (avg: 0.5676) |\n",
      "Epoch 43 [200/383] | loss: 0.5762 (avg: 0.3030) | acc nat: 0.9531 (avg: 0.9493) | acc rob: 0.5078 (avg: 0.5665) |\n",
      "Epoch 43 [300/383] | loss: 0.6379 (avg: 0.4565) | acc nat: 0.9453 (avg: 0.9479) | acc rob: 0.5312 (avg: 0.5638) |\n"
     ]
    },
    {
     "name": "stderr",
     "output_type": "stream",
     "text": [
      "[eval] 1000/1000: 100%|██████████| 1000/1000 [04:50<00:00,  3.44it/s, acc_nat=0.811, acc_rob=0.497]\n"
     ]
    },
    {
     "name": "stdout",
     "output_type": "stream",
     "text": [
      "Epoch 44 [0/383] | loss: 0.6198 (avg: 0.0016) | acc nat: 0.9609 (avg: 0.9609) | acc rob: 0.5234 (avg: 0.5234) |\n",
      "Epoch 44 [100/383] | loss: 0.5367 (avg: 0.1473) | acc nat: 0.9531 (avg: 0.9544) | acc rob: 0.5859 (avg: 0.5818) |\n",
      "Epoch 44 [200/383] | loss: 0.5806 (avg: 0.2961) | acc nat: 0.9688 (avg: 0.9528) | acc rob: 0.5469 (avg: 0.5737) |\n",
      "Epoch 44 [300/383] | loss: 0.5727 (avg: 0.4468) | acc nat: 0.9453 (avg: 0.9516) | acc rob: 0.6094 (avg: 0.5699) |\n"
     ]
    },
    {
     "name": "stderr",
     "output_type": "stream",
     "text": [
      "[eval] 1000/1000: 100%|██████████| 1000/1000 [04:47<00:00,  3.48it/s, acc_nat=0.807, acc_rob=0.513]\n"
     ]
    },
    {
     "name": "stdout",
     "output_type": "stream",
     "text": [
      "Epoch 45 [0/383] | loss: 0.5186 (avg: 0.0014) | acc nat: 0.9766 (avg: 0.9766) | acc rob: 0.5703 (avg: 0.5703) |\n",
      "Epoch 45 [100/383] | loss: 0.5609 (avg: 0.1486) | acc nat: 0.9375 (avg: 0.9510) | acc rob: 0.5625 (avg: 0.5753) |\n",
      "Epoch 45 [200/383] | loss: 0.5438 (avg: 0.2991) | acc nat: 0.9375 (avg: 0.9496) | acc rob: 0.5781 (avg: 0.5698) |\n",
      "Epoch 45 [300/383] | loss: 0.6541 (avg: 0.4498) | acc nat: 0.9375 (avg: 0.9495) | acc rob: 0.5547 (avg: 0.5683) |\n"
     ]
    },
    {
     "name": "stderr",
     "output_type": "stream",
     "text": [
      "[eval] 1000/1000: 100%|██████████| 1000/1000 [04:44<00:00,  3.52it/s, acc_nat=0.801, acc_rob=0.496]\n"
     ]
    },
    {
     "name": "stdout",
     "output_type": "stream",
     "text": [
      "Epoch 46 [0/383] | loss: 0.5953 (avg: 0.0016) | acc nat: 0.9375 (avg: 0.9375) | acc rob: 0.5703 (avg: 0.5703) |\n",
      "Epoch 46 [100/383] | loss: 0.6605 (avg: 0.1466) | acc nat: 0.9062 (avg: 0.9538) | acc rob: 0.5156 (avg: 0.5795) |\n",
      "Epoch 46 [200/383] | loss: 0.5646 (avg: 0.2941) | acc nat: 0.9531 (avg: 0.9535) | acc rob: 0.5469 (avg: 0.5722) |\n",
      "Epoch 46 [300/383] | loss: 0.5510 (avg: 0.4448) | acc nat: 0.9531 (avg: 0.9508) | acc rob: 0.5781 (avg: 0.5701) |\n"
     ]
    },
    {
     "name": "stderr",
     "output_type": "stream",
     "text": [
      "[eval] 1000/1000: 100%|██████████| 1000/1000 [04:42<00:00,  3.54it/s, acc_nat=0.787, acc_rob=0.5] \n"
     ]
    },
    {
     "name": "stdout",
     "output_type": "stream",
     "text": [
      "Epoch 47 [0/383] | loss: 0.5834 (avg: 0.0015) | acc nat: 0.9219 (avg: 0.9219) | acc rob: 0.6406 (avg: 0.6406) |\n",
      "Epoch 47 [100/383] | loss: 0.5527 (avg: 0.1455) | acc nat: 0.9609 (avg: 0.9545) | acc rob: 0.5234 (avg: 0.5840) |\n",
      "Epoch 47 [200/383] | loss: 0.4757 (avg: 0.2965) | acc nat: 0.9688 (avg: 0.9510) | acc rob: 0.6328 (avg: 0.5758) |\n",
      "Epoch 47 [300/383] | loss: 0.6223 (avg: 0.4464) | acc nat: 0.9141 (avg: 0.9507) | acc rob: 0.6641 (avg: 0.5743) |\n"
     ]
    },
    {
     "name": "stderr",
     "output_type": "stream",
     "text": [
      "[eval] 1000/1000: 100%|██████████| 1000/1000 [04:37<00:00,  3.60it/s, acc_nat=0.804, acc_rob=0.513]\n"
     ]
    },
    {
     "name": "stdout",
     "output_type": "stream",
     "text": [
      "Epoch 48 [0/383] | loss: 0.5535 (avg: 0.0014) | acc nat: 0.9688 (avg: 0.9688) | acc rob: 0.6172 (avg: 0.6172) |\n",
      "Epoch 48 [100/383] | loss: 0.5894 (avg: 0.1470) | acc nat: 0.9375 (avg: 0.9517) | acc rob: 0.5703 (avg: 0.5856) |\n",
      "Epoch 48 [200/383] | loss: 0.5110 (avg: 0.2956) | acc nat: 0.9609 (avg: 0.9522) | acc rob: 0.6797 (avg: 0.5793) |\n",
      "Epoch 48 [300/383] | loss: 0.6120 (avg: 0.4444) | acc nat: 0.9531 (avg: 0.9520) | acc rob: 0.5000 (avg: 0.5778) |\n"
     ]
    },
    {
     "name": "stderr",
     "output_type": "stream",
     "text": [
      "[eval] 1000/1000: 100%|██████████| 1000/1000 [04:37<00:00,  3.60it/s, acc_nat=0.803, acc_rob=0.502]\n"
     ]
    },
    {
     "name": "stdout",
     "output_type": "stream",
     "text": [
      "Epoch 49 [0/383] | loss: 0.5897 (avg: 0.0015) | acc nat: 0.9609 (avg: 0.9609) | acc rob: 0.5312 (avg: 0.5312) |\n",
      "Epoch 49 [100/383] | loss: 0.5441 (avg: 0.1447) | acc nat: 0.9609 (avg: 0.9547) | acc rob: 0.5781 (avg: 0.5877) |\n",
      "Epoch 49 [200/383] | loss: 0.5619 (avg: 0.2929) | acc nat: 0.9531 (avg: 0.9531) | acc rob: 0.5703 (avg: 0.5813) |\n",
      "Epoch 49 [300/383] | loss: 0.5017 (avg: 0.4398) | acc nat: 0.9688 (avg: 0.9532) | acc rob: 0.5859 (avg: 0.5799) |\n"
     ]
    },
    {
     "name": "stderr",
     "output_type": "stream",
     "text": [
      "[eval] 1000/1000: 100%|██████████| 1000/1000 [04:41<00:00,  3.55it/s, acc_nat=0.803, acc_rob=0.516]\n"
     ]
    },
    {
     "name": "stdout",
     "output_type": "stream",
     "text": [
      "Epoch 50 [0/383] | loss: 0.5199 (avg: 0.0014) | acc nat: 0.9688 (avg: 0.9688) | acc rob: 0.6328 (avg: 0.6328) |\n",
      "Epoch 50 [100/383] | loss: 0.5741 (avg: 0.1446) | acc nat: 0.9375 (avg: 0.9551) | acc rob: 0.6016 (avg: 0.5879) |\n",
      "Epoch 50 [200/383] | loss: 0.5512 (avg: 0.2927) | acc nat: 0.9531 (avg: 0.9535) | acc rob: 0.6094 (avg: 0.5814) |\n",
      "Epoch 50 [300/383] | loss: 0.6060 (avg: 0.4406) | acc nat: 0.9219 (avg: 0.9521) | acc rob: 0.5938 (avg: 0.5803) |\n"
     ]
    },
    {
     "name": "stderr",
     "output_type": "stream",
     "text": [
      "[eval] 1000/1000: 100%|██████████| 1000/1000 [04:45<00:00,  3.51it/s, acc_nat=0.806, acc_rob=0.515]\n"
     ]
    },
    {
     "name": "stdout",
     "output_type": "stream",
     "text": [
      "Epoch 51 [0/383] | loss: 0.5590 (avg: 0.0015) | acc nat: 0.9453 (avg: 0.9453) | acc rob: 0.5547 (avg: 0.5547) |\n",
      "Epoch 51 [100/383] | loss: 0.5365 (avg: 0.1442) | acc nat: 0.9531 (avg: 0.9575) | acc rob: 0.6250 (avg: 0.5803) |\n",
      "Epoch 51 [200/383] | loss: 0.6721 (avg: 0.2899) | acc nat: 0.9219 (avg: 0.9552) | acc rob: 0.4844 (avg: 0.5810) |\n",
      "Epoch 51 [300/383] | loss: 0.5198 (avg: 0.4373) | acc nat: 0.9609 (avg: 0.9536) | acc rob: 0.6875 (avg: 0.5794) |\n"
     ]
    },
    {
     "name": "stderr",
     "output_type": "stream",
     "text": [
      "[eval] 1000/1000: 100%|██████████| 1000/1000 [04:49<00:00,  3.45it/s, acc_nat=0.815, acc_rob=0.492]\n"
     ]
    },
    {
     "name": "stdout",
     "output_type": "stream",
     "text": [
      "Epoch 52 [0/383] | loss: 0.5777 (avg: 0.0015) | acc nat: 0.9688 (avg: 0.9688) | acc rob: 0.5938 (avg: 0.5938) |\n",
      "Epoch 52 [100/383] | loss: 0.5929 (avg: 0.1444) | acc nat: 0.9297 (avg: 0.9555) | acc rob: 0.6094 (avg: 0.5905) |\n",
      "Epoch 52 [200/383] | loss: 0.5462 (avg: 0.2918) | acc nat: 0.9609 (avg: 0.9522) | acc rob: 0.6016 (avg: 0.5887) |\n",
      "Epoch 52 [300/383] | loss: 0.5628 (avg: 0.4412) | acc nat: 0.9375 (avg: 0.9514) | acc rob: 0.5859 (avg: 0.5857) |\n"
     ]
    },
    {
     "name": "stderr",
     "output_type": "stream",
     "text": [
      "[eval] 1000/1000: 100%|██████████| 1000/1000 [04:53<00:00,  3.41it/s, acc_nat=0.802, acc_rob=0.506]\n"
     ]
    },
    {
     "name": "stdout",
     "output_type": "stream",
     "text": [
      "Epoch 53 [0/383] | loss: 0.6040 (avg: 0.0016) | acc nat: 0.9453 (avg: 0.9453) | acc rob: 0.5312 (avg: 0.5312) |\n",
      "Epoch 53 [100/383] | loss: 0.5734 (avg: 0.1437) | acc nat: 0.9688 (avg: 0.9571) | acc rob: 0.5859 (avg: 0.5913) |\n",
      "Epoch 53 [200/383] | loss: 0.5428 (avg: 0.2864) | acc nat: 0.9688 (avg: 0.9568) | acc rob: 0.5703 (avg: 0.5890) |\n",
      "Epoch 53 [300/383] | loss: 0.5333 (avg: 0.4295) | acc nat: 0.9766 (avg: 0.9571) | acc rob: 0.5078 (avg: 0.5870) |\n"
     ]
    },
    {
     "name": "stderr",
     "output_type": "stream",
     "text": [
      "[eval] 1000/1000: 100%|██████████| 1000/1000 [04:56<00:00,  3.37it/s, acc_nat=0.819, acc_rob=0.513]\n"
     ]
    },
    {
     "name": "stdout",
     "output_type": "stream",
     "text": [
      "Epoch 54 [0/383] | loss: 0.5484 (avg: 0.0014) | acc nat: 0.9375 (avg: 0.9375) | acc rob: 0.6250 (avg: 0.6250) |\n",
      "Epoch 54 [100/383] | loss: 0.5433 (avg: 0.1435) | acc nat: 0.9531 (avg: 0.9574) | acc rob: 0.5938 (avg: 0.5889) |\n",
      "Epoch 54 [200/383] | loss: 0.4907 (avg: 0.2863) | acc nat: 0.9766 (avg: 0.9569) | acc rob: 0.6953 (avg: 0.5906) |\n",
      "Epoch 54 [300/383] | loss: 0.5225 (avg: 0.4324) | acc nat: 0.9609 (avg: 0.9557) | acc rob: 0.6328 (avg: 0.5878) |\n"
     ]
    },
    {
     "name": "stderr",
     "output_type": "stream",
     "text": [
      "[eval] 1000/1000: 100%|██████████| 1000/1000 [04:59<00:00,  3.34it/s, acc_nat=0.812, acc_rob=0.493]\n"
     ]
    },
    {
     "name": "stdout",
     "output_type": "stream",
     "text": [
      "Epoch 55 [0/383] | loss: 0.5372 (avg: 0.0014) | acc nat: 0.9531 (avg: 0.9531) | acc rob: 0.6328 (avg: 0.6328) |\n",
      "Epoch 55 [100/383] | loss: 0.5231 (avg: 0.1457) | acc nat: 0.9688 (avg: 0.9529) | acc rob: 0.6797 (avg: 0.5895) |\n",
      "Epoch 55 [200/383] | loss: 0.5952 (avg: 0.2892) | acc nat: 0.9375 (avg: 0.9532) | acc rob: 0.5547 (avg: 0.5895) |\n",
      "Epoch 55 [300/383] | loss: 0.5478 (avg: 0.4376) | acc nat: 0.9531 (avg: 0.9510) | acc rob: 0.5391 (avg: 0.5884) |\n"
     ]
    },
    {
     "name": "stderr",
     "output_type": "stream",
     "text": [
      "[eval] 1000/1000: 100%|██████████| 1000/1000 [05:03<00:00,  3.29it/s, acc_nat=0.822, acc_rob=0.519]\n"
     ]
    },
    {
     "name": "stdout",
     "output_type": "stream",
     "text": [
      "Epoch 56 [0/383] | loss: 0.5201 (avg: 0.0014) | acc nat: 0.9531 (avg: 0.9531) | acc rob: 0.6719 (avg: 0.6719) |\n",
      "Epoch 56 [100/383] | loss: 0.6399 (avg: 0.1437) | acc nat: 0.9062 (avg: 0.9567) | acc rob: 0.5547 (avg: 0.5954) |\n",
      "Epoch 56 [200/383] | loss: 0.4998 (avg: 0.2855) | acc nat: 0.9609 (avg: 0.9563) | acc rob: 0.6484 (avg: 0.5944) |\n",
      "Epoch 56 [300/383] | loss: 0.5223 (avg: 0.4316) | acc nat: 0.9531 (avg: 0.9547) | acc rob: 0.5703 (avg: 0.5928) |\n"
     ]
    },
    {
     "name": "stderr",
     "output_type": "stream",
     "text": [
      "[eval] 1000/1000: 100%|██████████| 1000/1000 [05:04<00:00,  3.28it/s, acc_nat=0.803, acc_rob=0.509]\n"
     ]
    },
    {
     "name": "stdout",
     "output_type": "stream",
     "text": [
      "Epoch 57 [0/383] | loss: 0.5055 (avg: 0.0013) | acc nat: 0.9844 (avg: 0.9844) | acc rob: 0.6250 (avg: 0.6250) |\n",
      "Epoch 57 [100/383] | loss: 0.5849 (avg: 0.1407) | acc nat: 0.9375 (avg: 0.9575) | acc rob: 0.5938 (avg: 0.5981) |\n",
      "Epoch 57 [200/383] | loss: 0.5326 (avg: 0.2837) | acc nat: 0.9531 (avg: 0.9559) | acc rob: 0.6562 (avg: 0.5939) |\n",
      "Epoch 57 [300/383] | loss: 0.6457 (avg: 0.4276) | acc nat: 0.9062 (avg: 0.9543) | acc rob: 0.5234 (avg: 0.5947) |\n"
     ]
    },
    {
     "name": "stderr",
     "output_type": "stream",
     "text": [
      "[eval] 1000/1000: 100%|██████████| 1000/1000 [05:04<00:00,  3.28it/s, acc_nat=0.797, acc_rob=0.515]\n"
     ]
    },
    {
     "name": "stdout",
     "output_type": "stream",
     "text": [
      "Epoch 58 [0/383] | loss: 0.4933 (avg: 0.0013) | acc nat: 0.9844 (avg: 0.9844) | acc rob: 0.6562 (avg: 0.6562) |\n",
      "Epoch 58 [100/383] | loss: 0.5159 (avg: 0.1408) | acc nat: 0.9766 (avg: 0.9592) | acc rob: 0.6484 (avg: 0.6051) |\n",
      "Epoch 58 [200/383] | loss: 0.5962 (avg: 0.2842) | acc nat: 0.9219 (avg: 0.9560) | acc rob: 0.6250 (avg: 0.5986) |\n",
      "Epoch 58 [300/383] | loss: 0.5115 (avg: 0.4276) | acc nat: 0.9609 (avg: 0.9554) | acc rob: 0.5781 (avg: 0.5976) |\n"
     ]
    },
    {
     "name": "stderr",
     "output_type": "stream",
     "text": [
      "[eval] 1000/1000: 100%|██████████| 1000/1000 [05:05<00:00,  3.28it/s, acc_nat=0.801, acc_rob=0.493]\n"
     ]
    },
    {
     "name": "stdout",
     "output_type": "stream",
     "text": [
      "Epoch 59 [0/383] | loss: 0.4875 (avg: 0.0013) | acc nat: 0.9531 (avg: 0.9531) | acc rob: 0.6016 (avg: 0.6016) |\n",
      "Epoch 59 [100/383] | loss: 0.5007 (avg: 0.1425) | acc nat: 0.9609 (avg: 0.9561) | acc rob: 0.6562 (avg: 0.6002) |\n",
      "Epoch 59 [200/383] | loss: 0.4959 (avg: 0.2833) | acc nat: 0.9766 (avg: 0.9564) | acc rob: 0.6172 (avg: 0.6001) |\n",
      "Epoch 59 [300/383] | loss: 0.5077 (avg: 0.4253) | acc nat: 0.9609 (avg: 0.9556) | acc rob: 0.6562 (avg: 0.5981) |\n"
     ]
    },
    {
     "name": "stderr",
     "output_type": "stream",
     "text": [
      "[eval] 1000/1000: 100%|██████████| 1000/1000 [05:05<00:00,  3.28it/s, acc_nat=0.813, acc_rob=0.526]\n"
     ]
    },
    {
     "name": "stdout",
     "output_type": "stream",
     "text": [
      "Epoch 60 [0/383] | loss: 0.4696 (avg: 0.0012) | acc nat: 0.9688 (avg: 0.9688) | acc rob: 0.6641 (avg: 0.6641) |\n",
      "Epoch 60 [100/383] | loss: 0.5840 (avg: 0.1419) | acc nat: 0.9375 (avg: 0.9561) | acc rob: 0.6406 (avg: 0.6048) |\n",
      "Epoch 60 [200/383] | loss: 0.6088 (avg: 0.2836) | acc nat: 0.9531 (avg: 0.9554) | acc rob: 0.5781 (avg: 0.6022) |\n",
      "Epoch 60 [300/383] | loss: 0.5447 (avg: 0.4302) | acc nat: 0.9531 (avg: 0.9527) | acc rob: 0.6406 (avg: 0.5982) |\n"
     ]
    },
    {
     "name": "stderr",
     "output_type": "stream",
     "text": [
      "[eval] 1000/1000: 100%|██████████| 1000/1000 [05:04<00:00,  3.28it/s, acc_nat=0.809, acc_rob=0.51]\n"
     ]
    },
    {
     "name": "stdout",
     "output_type": "stream",
     "text": [
      "Epoch 61 [0/383] | loss: 0.5736 (avg: 0.0015) | acc nat: 0.9297 (avg: 0.9297) | acc rob: 0.6172 (avg: 0.6172) |\n",
      "Epoch 61 [100/383] | loss: 0.5300 (avg: 0.1407) | acc nat: 0.9531 (avg: 0.9578) | acc rob: 0.6250 (avg: 0.6034) |\n",
      "Epoch 61 [200/383] | loss: 0.6144 (avg: 0.2841) | acc nat: 0.9453 (avg: 0.9556) | acc rob: 0.5703 (avg: 0.6013) |\n",
      "Epoch 61 [300/383] | loss: 0.5852 (avg: 0.4279) | acc nat: 0.9375 (avg: 0.9540) | acc rob: 0.5781 (avg: 0.6005) |\n"
     ]
    },
    {
     "name": "stderr",
     "output_type": "stream",
     "text": [
      "[eval] 1000/1000: 100%|██████████| 1000/1000 [05:04<00:00,  3.28it/s, acc_nat=0.799, acc_rob=0.502]\n"
     ]
    },
    {
     "name": "stdout",
     "output_type": "stream",
     "text": [
      "Epoch 62 [0/383] | loss: 0.5670 (avg: 0.0015) | acc nat: 0.9297 (avg: 0.9297) | acc rob: 0.5469 (avg: 0.5469) |\n",
      "Epoch 62 [100/383] | loss: 0.4985 (avg: 0.1421) | acc nat: 0.9766 (avg: 0.9548) | acc rob: 0.6172 (avg: 0.6036) |\n",
      "Epoch 62 [200/383] | loss: 0.6098 (avg: 0.2820) | acc nat: 0.9453 (avg: 0.9553) | acc rob: 0.5938 (avg: 0.6018) |\n",
      "Epoch 62 [300/383] | loss: 0.5447 (avg: 0.4251) | acc nat: 0.9609 (avg: 0.9545) | acc rob: 0.5781 (avg: 0.5986) |\n"
     ]
    },
    {
     "name": "stderr",
     "output_type": "stream",
     "text": [
      "[eval] 1000/1000: 100%|██████████| 1000/1000 [05:05<00:00,  3.28it/s, acc_nat=0.797, acc_rob=0.493]\n"
     ]
    },
    {
     "name": "stdout",
     "output_type": "stream",
     "text": [
      "Epoch 63 [0/383] | loss: 0.5457 (avg: 0.0014) | acc nat: 0.9688 (avg: 0.9688) | acc rob: 0.6016 (avg: 0.6016) |\n",
      "Epoch 63 [100/383] | loss: 0.5491 (avg: 0.1392) | acc nat: 0.9531 (avg: 0.9588) | acc rob: 0.5703 (avg: 0.6079) |\n",
      "Epoch 63 [200/383] | loss: 0.5342 (avg: 0.2813) | acc nat: 0.9531 (avg: 0.9558) | acc rob: 0.6094 (avg: 0.6059) |\n",
      "Epoch 63 [300/383] | loss: 0.6480 (avg: 0.4255) | acc nat: 0.8828 (avg: 0.9537) | acc rob: 0.5859 (avg: 0.6025) |\n"
     ]
    },
    {
     "name": "stderr",
     "output_type": "stream",
     "text": [
      "[eval] 1000/1000: 100%|██████████| 1000/1000 [05:04<00:00,  3.28it/s, acc_nat=0.807, acc_rob=0.504]\n"
     ]
    },
    {
     "name": "stdout",
     "output_type": "stream",
     "text": [
      "Epoch 64 [0/383] | loss: 0.4988 (avg: 0.0013) | acc nat: 0.9688 (avg: 0.9688) | acc rob: 0.6016 (avg: 0.6016) |\n",
      "Epoch 64 [100/383] | loss: 0.5363 (avg: 0.1376) | acc nat: 0.9688 (avg: 0.9611) | acc rob: 0.6016 (avg: 0.6127) |\n",
      "Epoch 64 [200/383] | loss: 0.5316 (avg: 0.2775) | acc nat: 0.9531 (avg: 0.9587) | acc rob: 0.6094 (avg: 0.6067) |\n",
      "Epoch 64 [300/383] | loss: 0.5249 (avg: 0.4191) | acc nat: 0.9609 (avg: 0.9581) | acc rob: 0.6094 (avg: 0.6034) |\n"
     ]
    },
    {
     "name": "stderr",
     "output_type": "stream",
     "text": [
      "[eval] 1000/1000: 100%|██████████| 1000/1000 [05:05<00:00,  3.27it/s, acc_nat=0.787, acc_rob=0.506]\n"
     ]
    },
    {
     "name": "stdout",
     "output_type": "stream",
     "text": [
      "Epoch 65 [0/383] | loss: 0.5586 (avg: 0.0015) | acc nat: 0.9609 (avg: 0.9609) | acc rob: 0.6562 (avg: 0.6562) |\n",
      "Epoch 65 [100/383] | loss: 0.6478 (avg: 0.1389) | acc nat: 0.8828 (avg: 0.9604) | acc rob: 0.5547 (avg: 0.6139) |\n",
      "Epoch 65 [200/383] | loss: 0.5715 (avg: 0.2787) | acc nat: 0.9609 (avg: 0.9593) | acc rob: 0.5391 (avg: 0.6114) |\n",
      "Epoch 65 [300/383] | loss: 0.5498 (avg: 0.4211) | acc nat: 0.9609 (avg: 0.9570) | acc rob: 0.5625 (avg: 0.6052) |\n"
     ]
    },
    {
     "name": "stderr",
     "output_type": "stream",
     "text": [
      "[eval] 1000/1000: 100%|██████████| 1000/1000 [05:04<00:00,  3.28it/s, acc_nat=0.802, acc_rob=0.512]\n"
     ]
    },
    {
     "name": "stdout",
     "output_type": "stream",
     "text": [
      "Epoch 66 [0/383] | loss: 0.5666 (avg: 0.0015) | acc nat: 0.9609 (avg: 0.9609) | acc rob: 0.5078 (avg: 0.5078) |\n",
      "Epoch 66 [100/383] | loss: 0.4931 (avg: 0.1362) | acc nat: 0.9766 (avg: 0.9628) | acc rob: 0.6250 (avg: 0.6107) |\n",
      "Epoch 66 [200/383] | loss: 0.5069 (avg: 0.2745) | acc nat: 0.9609 (avg: 0.9597) | acc rob: 0.6094 (avg: 0.6080) |\n",
      "Epoch 66 [300/383] | loss: 0.5767 (avg: 0.4163) | acc nat: 0.9688 (avg: 0.9580) | acc rob: 0.4844 (avg: 0.6045) |\n"
     ]
    },
    {
     "name": "stderr",
     "output_type": "stream",
     "text": [
      "[eval] 1000/1000: 100%|██████████| 1000/1000 [05:00<00:00,  3.33it/s, acc_nat=0.821, acc_rob=0.502]\n"
     ]
    },
    {
     "name": "stdout",
     "output_type": "stream",
     "text": [
      "Epoch 67 [0/383] | loss: 0.4886 (avg: 0.0013) | acc nat: 0.9609 (avg: 0.9609) | acc rob: 0.6484 (avg: 0.6484) |\n",
      "Epoch 67 [100/383] | loss: 0.5379 (avg: 0.1400) | acc nat: 0.9453 (avg: 0.9576) | acc rob: 0.6406 (avg: 0.6104) |\n",
      "Epoch 67 [200/383] | loss: 0.5162 (avg: 0.2807) | acc nat: 0.9766 (avg: 0.9568) | acc rob: 0.6250 (avg: 0.6094) |\n",
      "Epoch 67 [300/383] | loss: 0.4935 (avg: 0.4218) | acc nat: 0.9609 (avg: 0.9559) | acc rob: 0.6328 (avg: 0.6079) |\n"
     ]
    },
    {
     "name": "stderr",
     "output_type": "stream",
     "text": [
      "[eval] 1000/1000: 100%|██████████| 1000/1000 [04:57<00:00,  3.36it/s, acc_nat=0.819, acc_rob=0.497]\n"
     ]
    },
    {
     "name": "stdout",
     "output_type": "stream",
     "text": [
      "Epoch 68 [0/383] | loss: 0.4954 (avg: 0.0013) | acc nat: 0.9766 (avg: 0.9766) | acc rob: 0.6641 (avg: 0.6641) |\n",
      "Epoch 68 [100/383] | loss: 0.5404 (avg: 0.1402) | acc nat: 0.9375 (avg: 0.9565) | acc rob: 0.6406 (avg: 0.6163) |\n",
      "Epoch 68 [200/383] | loss: 0.5412 (avg: 0.2799) | acc nat: 0.9609 (avg: 0.9569) | acc rob: 0.6172 (avg: 0.6102) |\n",
      "Epoch 68 [300/383] | loss: 0.5385 (avg: 0.4197) | acc nat: 0.9531 (avg: 0.9567) | acc rob: 0.6094 (avg: 0.6063) |\n"
     ]
    },
    {
     "name": "stderr",
     "output_type": "stream",
     "text": [
      "[eval] 1000/1000: 100%|██████████| 1000/1000 [04:52<00:00,  3.41it/s, acc_nat=0.819, acc_rob=0.522]\n"
     ]
    },
    {
     "name": "stdout",
     "output_type": "stream",
     "text": [
      "Epoch 69 [0/383] | loss: 0.5123 (avg: 0.0013) | acc nat: 0.9609 (avg: 0.9609) | acc rob: 0.6328 (avg: 0.6328) |\n",
      "Epoch 69 [100/383] | loss: 0.5239 (avg: 0.1373) | acc nat: 0.9609 (avg: 0.9593) | acc rob: 0.5781 (avg: 0.6175) |\n",
      "Epoch 69 [200/383] | loss: 0.5748 (avg: 0.2754) | acc nat: 0.9453 (avg: 0.9601) | acc rob: 0.6172 (avg: 0.6120) |\n",
      "Epoch 69 [300/383] | loss: 0.5544 (avg: 0.4146) | acc nat: 0.9297 (avg: 0.9597) | acc rob: 0.6328 (avg: 0.6112) |\n"
     ]
    },
    {
     "name": "stderr",
     "output_type": "stream",
     "text": [
      "[eval] 1000/1000: 100%|██████████| 1000/1000 [04:50<00:00,  3.45it/s, acc_nat=0.806, acc_rob=0.525]\n"
     ]
    },
    {
     "name": "stdout",
     "output_type": "stream",
     "text": [
      "Epoch 70 [0/383] | loss: 0.5068 (avg: 0.0013) | acc nat: 0.9609 (avg: 0.9609) | acc rob: 0.6875 (avg: 0.6875) |\n",
      "Epoch 70 [100/383] | loss: 0.5564 (avg: 0.1381) | acc nat: 0.9688 (avg: 0.9587) | acc rob: 0.5625 (avg: 0.6217) |\n",
      "Epoch 70 [200/383] | loss: 0.5072 (avg: 0.2745) | acc nat: 0.9609 (avg: 0.9589) | acc rob: 0.6094 (avg: 0.6175) |\n",
      "Epoch 70 [300/383] | loss: 0.4888 (avg: 0.4144) | acc nat: 0.9688 (avg: 0.9575) | acc rob: 0.6172 (avg: 0.6151) |\n"
     ]
    },
    {
     "name": "stderr",
     "output_type": "stream",
     "text": [
      "[eval] 1000/1000: 100%|██████████| 1000/1000 [04:47<00:00,  3.48it/s, acc_nat=0.81, acc_rob=0.528]\n"
     ]
    },
    {
     "name": "stdout",
     "output_type": "stream",
     "text": [
      "Epoch 71 [0/383] | loss: 0.4828 (avg: 0.0013) | acc nat: 0.9922 (avg: 0.9922) | acc rob: 0.6484 (avg: 0.6484) |\n",
      "Epoch 71 [100/383] | loss: 0.5590 (avg: 0.1385) | acc nat: 0.9688 (avg: 0.9567) | acc rob: 0.5703 (avg: 0.6166) |\n",
      "Epoch 71 [200/383] | loss: 0.5384 (avg: 0.2745) | acc nat: 0.9688 (avg: 0.9581) | acc rob: 0.5859 (avg: 0.6142) |\n",
      "Epoch 71 [300/383] | loss: 0.5471 (avg: 0.4152) | acc nat: 0.9609 (avg: 0.9571) | acc rob: 0.5547 (avg: 0.6121) |\n"
     ]
    },
    {
     "name": "stderr",
     "output_type": "stream",
     "text": [
      "[eval] 1000/1000: 100%|██████████| 1000/1000 [04:42<00:00,  3.54it/s, acc_nat=0.803, acc_rob=0.496]\n"
     ]
    },
    {
     "name": "stdout",
     "output_type": "stream",
     "text": [
      "Epoch 72 [0/383] | loss: 0.4503 (avg: 0.0012) | acc nat: 0.9844 (avg: 0.9844) | acc rob: 0.6797 (avg: 0.6797) |\n",
      "Epoch 72 [100/383] | loss: 0.5835 (avg: 0.1353) | acc nat: 0.9375 (avg: 0.9618) | acc rob: 0.6094 (avg: 0.6189) |\n",
      "Epoch 72 [200/383] | loss: 0.5252 (avg: 0.2731) | acc nat: 0.9375 (avg: 0.9597) | acc rob: 0.6406 (avg: 0.6147) |\n",
      "Epoch 72 [300/383] | loss: 0.6181 (avg: 0.4125) | acc nat: 0.9531 (avg: 0.9584) | acc rob: 0.5781 (avg: 0.6112) |\n"
     ]
    },
    {
     "name": "stderr",
     "output_type": "stream",
     "text": [
      "[eval] 1000/1000: 100%|██████████| 1000/1000 [04:39<00:00,  3.58it/s, acc_nat=0.814, acc_rob=0.495]\n"
     ]
    },
    {
     "name": "stdout",
     "output_type": "stream",
     "text": [
      "Epoch 73 [0/383] | loss: 0.5267 (avg: 0.0014) | acc nat: 0.9609 (avg: 0.9609) | acc rob: 0.5781 (avg: 0.5781) |\n",
      "Epoch 73 [100/383] | loss: 0.5439 (avg: 0.1379) | acc nat: 0.9219 (avg: 0.9570) | acc rob: 0.6172 (avg: 0.6201) |\n",
      "Epoch 73 [200/383] | loss: 0.5092 (avg: 0.2750) | acc nat: 0.9609 (avg: 0.9572) | acc rob: 0.5781 (avg: 0.6171) |\n",
      "Epoch 73 [300/383] | loss: 0.5971 (avg: 0.4150) | acc nat: 0.9297 (avg: 0.9562) | acc rob: 0.6406 (avg: 0.6132) |\n"
     ]
    },
    {
     "name": "stderr",
     "output_type": "stream",
     "text": [
      "[eval] 1000/1000: 100%|██████████| 1000/1000 [04:34<00:00,  3.64it/s, acc_nat=0.823, acc_rob=0.498]\n"
     ]
    },
    {
     "name": "stdout",
     "output_type": "stream",
     "text": [
      "Epoch 74 [0/383] | loss: 0.5397 (avg: 0.0014) | acc nat: 0.9688 (avg: 0.9688) | acc rob: 0.6328 (avg: 0.6328) |\n",
      "Epoch 74 [100/383] | loss: 0.5572 (avg: 0.1374) | acc nat: 0.9531 (avg: 0.9571) | acc rob: 0.6016 (avg: 0.6234) |\n",
      "Epoch 74 [200/383] | loss: 0.5660 (avg: 0.2734) | acc nat: 0.9688 (avg: 0.9585) | acc rob: 0.5703 (avg: 0.6214) |\n",
      "Epoch 74 [300/383] | loss: 0.5387 (avg: 0.4139) | acc nat: 0.9297 (avg: 0.9572) | acc rob: 0.6406 (avg: 0.6173) |\n"
     ]
    },
    {
     "name": "stderr",
     "output_type": "stream",
     "text": [
      "[eval] 1000/1000: 100%|██████████| 1000/1000 [04:37<00:00,  3.60it/s, acc_nat=0.82, acc_rob=0.505]\n"
     ]
    },
    {
     "name": "stdout",
     "output_type": "stream",
     "text": [
      "Epoch 75 [0/383] | loss: 0.4311 (avg: 0.0011) | acc nat: 0.9844 (avg: 0.9844) | acc rob: 0.7031 (avg: 0.7031) |\n",
      "Epoch 75 [100/383] | loss: 0.4230 (avg: 0.1137) | acc nat: 0.9844 (avg: 0.9762) | acc rob: 0.6562 (avg: 0.6680) |\n",
      "Epoch 75 [200/383] | loss: 0.4054 (avg: 0.2151) | acc nat: 0.9688 (avg: 0.9805) | acc rob: 0.6875 (avg: 0.6806) |\n",
      "Epoch 75 [300/383] | loss: 0.3437 (avg: 0.3133) | acc nat: 0.9922 (avg: 0.9818) | acc rob: 0.6797 (avg: 0.6860) |\n"
     ]
    },
    {
     "name": "stderr",
     "output_type": "stream",
     "text": [
      "[eval] 1000/1000: 100%|██████████| 1000/1000 [04:42<00:00,  3.54it/s, acc_nat=0.851, acc_rob=0.548]\n"
     ]
    },
    {
     "name": "stdout",
     "output_type": "stream",
     "text": [
      "Epoch 76 [0/383] | loss: 0.3845 (avg: 0.0010) | acc nat: 0.9922 (avg: 0.9922) | acc rob: 0.6562 (avg: 0.6562) |\n",
      "Epoch 76 [100/383] | loss: 0.3279 (avg: 0.0923) | acc nat: 1.0000 (avg: 0.9933) | acc rob: 0.7422 (avg: 0.7143) |\n",
      "Epoch 76 [200/383] | loss: 0.3351 (avg: 0.1833) | acc nat: 1.0000 (avg: 0.9919) | acc rob: 0.7422 (avg: 0.7156) |\n",
      "Epoch 76 [300/383] | loss: 0.3198 (avg: 0.2736) | acc nat: 0.9922 (avg: 0.9920) | acc rob: 0.7031 (avg: 0.7149) |\n"
     ]
    },
    {
     "name": "stderr",
     "output_type": "stream",
     "text": [
      "[eval] 1000/1000: 100%|██████████| 1000/1000 [04:46<00:00,  3.49it/s, acc_nat=0.856, acc_rob=0.56]\n"
     ]
    },
    {
     "name": "stdout",
     "output_type": "stream",
     "text": [
      "Epoch 77 [0/383] | loss: 0.2872 (avg: 0.0007) | acc nat: 1.0000 (avg: 1.0000) | acc rob: 0.7344 (avg: 0.7344) |\n",
      "Epoch 77 [100/383] | loss: 0.3593 (avg: 0.0856) | acc nat: 0.9922 (avg: 0.9944) | acc rob: 0.6797 (avg: 0.7300) |\n",
      "Epoch 77 [200/383] | loss: 0.3279 (avg: 0.1716) | acc nat: 1.0000 (avg: 0.9943) | acc rob: 0.7031 (avg: 0.7297) |\n",
      "Epoch 77 [300/383] | loss: 0.3074 (avg: 0.2567) | acc nat: 1.0000 (avg: 0.9940) | acc rob: 0.7969 (avg: 0.7318) |\n"
     ]
    },
    {
     "name": "stderr",
     "output_type": "stream",
     "text": [
      "[eval] 1000/1000: 100%|██████████| 1000/1000 [04:51<00:00,  3.43it/s, acc_nat=0.855, acc_rob=0.558]\n"
     ]
    },
    {
     "name": "stdout",
     "output_type": "stream",
     "text": [
      "Epoch 78 [0/383] | loss: 0.3163 (avg: 0.0008) | acc nat: 1.0000 (avg: 1.0000) | acc rob: 0.7344 (avg: 0.7344) |\n",
      "Epoch 78 [100/383] | loss: 0.3781 (avg: 0.0815) | acc nat: 1.0000 (avg: 0.9944) | acc rob: 0.6484 (avg: 0.7471) |\n",
      "Epoch 78 [200/383] | loss: 0.2912 (avg: 0.1624) | acc nat: 1.0000 (avg: 0.9946) | acc rob: 0.7422 (avg: 0.7458) |\n",
      "Epoch 78 [300/383] | loss: 0.3585 (avg: 0.2440) | acc nat: 0.9922 (avg: 0.9950) | acc rob: 0.7109 (avg: 0.7455) |\n"
     ]
    },
    {
     "name": "stderr",
     "output_type": "stream",
     "text": [
      "[eval] 1000/1000: 100%|██████████| 1000/1000 [04:54<00:00,  3.40it/s, acc_nat=0.844, acc_rob=0.561]\n"
     ]
    },
    {
     "name": "stdout",
     "output_type": "stream",
     "text": [
      "Epoch 79 [0/383] | loss: 0.2721 (avg: 0.0007) | acc nat: 1.0000 (avg: 1.0000) | acc rob: 0.7812 (avg: 0.7812) |\n",
      "Epoch 79 [100/383] | loss: 0.3258 (avg: 0.0786) | acc nat: 0.9844 (avg: 0.9964) | acc rob: 0.7734 (avg: 0.7587) |\n",
      "Epoch 79 [200/383] | loss: 0.3468 (avg: 0.1566) | acc nat: 0.9766 (avg: 0.9966) | acc rob: 0.7188 (avg: 0.7564) |\n",
      "Epoch 79 [300/383] | loss: 0.2819 (avg: 0.2367) | acc nat: 1.0000 (avg: 0.9964) | acc rob: 0.7422 (avg: 0.7539) |\n"
     ]
    },
    {
     "name": "stderr",
     "output_type": "stream",
     "text": [
      "[eval] 1000/1000: 100%|██████████| 1000/1000 [04:57<00:00,  3.37it/s, acc_nat=0.853, acc_rob=0.552]\n"
     ]
    },
    {
     "name": "stdout",
     "output_type": "stream",
     "text": [
      "Epoch 80 [0/383] | loss: 0.2766 (avg: 0.0007) | acc nat: 0.9922 (avg: 0.9922) | acc rob: 0.8281 (avg: 0.8281) |\n",
      "Epoch 80 [100/383] | loss: 0.3146 (avg: 0.0772) | acc nat: 1.0000 (avg: 0.9957) | acc rob: 0.6875 (avg: 0.7631) |\n",
      "Epoch 80 [200/383] | loss: 0.2929 (avg: 0.1518) | acc nat: 0.9922 (avg: 0.9964) | acc rob: 0.7578 (avg: 0.7641) |\n",
      "Epoch 80 [300/383] | loss: 0.2933 (avg: 0.2300) | acc nat: 0.9922 (avg: 0.9965) | acc rob: 0.7578 (avg: 0.7604) |\n"
     ]
    },
    {
     "name": "stderr",
     "output_type": "stream",
     "text": [
      "[eval] 1000/1000: 100%|██████████| 1000/1000 [05:02<00:00,  3.31it/s, acc_nat=0.845, acc_rob=0.55]\n"
     ]
    },
    {
     "name": "stdout",
     "output_type": "stream",
     "text": [
      "Epoch 81 [0/383] | loss: 0.2711 (avg: 0.0007) | acc nat: 1.0000 (avg: 1.0000) | acc rob: 0.7734 (avg: 0.7734) |\n",
      "Epoch 81 [100/383] | loss: 0.2933 (avg: 0.0747) | acc nat: 1.0000 (avg: 0.9963) | acc rob: 0.7422 (avg: 0.7681) |\n",
      "Epoch 81 [200/383] | loss: 0.2686 (avg: 0.1480) | acc nat: 1.0000 (avg: 0.9968) | acc rob: 0.8047 (avg: 0.7713) |\n",
      "Epoch 81 [300/383] | loss: 0.2986 (avg: 0.2219) | acc nat: 1.0000 (avg: 0.9970) | acc rob: 0.7578 (avg: 0.7696) |\n"
     ]
    },
    {
     "name": "stderr",
     "output_type": "stream",
     "text": [
      "[eval] 1000/1000: 100%|██████████| 1000/1000 [05:03<00:00,  3.29it/s, acc_nat=0.856, acc_rob=0.564]\n"
     ]
    },
    {
     "name": "stdout",
     "output_type": "stream",
     "text": [
      "Epoch 82 [0/383] | loss: 0.3001 (avg: 0.0008) | acc nat: 0.9844 (avg: 0.9844) | acc rob: 0.7734 (avg: 0.7734) |\n",
      "Epoch 82 [100/383] | loss: 0.3403 (avg: 0.0721) | acc nat: 1.0000 (avg: 0.9971) | acc rob: 0.7031 (avg: 0.7782) |\n",
      "Epoch 82 [200/383] | loss: 0.2584 (avg: 0.1453) | acc nat: 1.0000 (avg: 0.9969) | acc rob: 0.7891 (avg: 0.7773) |\n",
      "Epoch 82 [300/383] | loss: 0.2422 (avg: 0.2169) | acc nat: 1.0000 (avg: 0.9969) | acc rob: 0.8203 (avg: 0.7778) |\n"
     ]
    },
    {
     "name": "stderr",
     "output_type": "stream",
     "text": [
      "[eval] 1000/1000: 100%|██████████| 1000/1000 [05:04<00:00,  3.29it/s, acc_nat=0.845, acc_rob=0.541]\n"
     ]
    },
    {
     "name": "stdout",
     "output_type": "stream",
     "text": [
      "Epoch 83 [0/383] | loss: 0.2474 (avg: 0.0006) | acc nat: 0.9922 (avg: 0.9922) | acc rob: 0.8281 (avg: 0.8281) |\n",
      "Epoch 83 [100/383] | loss: 0.2916 (avg: 0.0716) | acc nat: 0.9922 (avg: 0.9969) | acc rob: 0.7734 (avg: 0.7831) |\n",
      "Epoch 83 [200/383] | loss: 0.2939 (avg: 0.1407) | acc nat: 1.0000 (avg: 0.9975) | acc rob: 0.7656 (avg: 0.7836) |\n",
      "Epoch 83 [300/383] | loss: 0.2562 (avg: 0.2122) | acc nat: 0.9922 (avg: 0.9975) | acc rob: 0.8281 (avg: 0.7820) |\n"
     ]
    },
    {
     "name": "stderr",
     "output_type": "stream",
     "text": [
      "[eval] 1000/1000: 100%|██████████| 1000/1000 [05:04<00:00,  3.28it/s, acc_nat=0.843, acc_rob=0.535]\n"
     ]
    },
    {
     "name": "stdout",
     "output_type": "stream",
     "text": [
      "Epoch 84 [0/383] | loss: 0.2530 (avg: 0.0007) | acc nat: 1.0000 (avg: 1.0000) | acc rob: 0.8125 (avg: 0.8125) |\n",
      "Epoch 84 [100/383] | loss: 0.2118 (avg: 0.0692) | acc nat: 1.0000 (avg: 0.9974) | acc rob: 0.8359 (avg: 0.7885) |\n",
      "Epoch 84 [200/383] | loss: 0.2852 (avg: 0.1370) | acc nat: 1.0000 (avg: 0.9980) | acc rob: 0.7734 (avg: 0.7874) |\n",
      "Epoch 84 [300/383] | loss: 0.2550 (avg: 0.2066) | acc nat: 1.0000 (avg: 0.9977) | acc rob: 0.7812 (avg: 0.7873) |\n"
     ]
    },
    {
     "name": "stderr",
     "output_type": "stream",
     "text": [
      "[eval] 1000/1000: 100%|██████████| 1000/1000 [05:04<00:00,  3.28it/s, acc_nat=0.857, acc_rob=0.544]\n"
     ]
    },
    {
     "name": "stdout",
     "output_type": "stream",
     "text": [
      "Epoch 85 [0/383] | loss: 0.2263 (avg: 0.0006) | acc nat: 1.0000 (avg: 1.0000) | acc rob: 0.8281 (avg: 0.8281) |\n",
      "Epoch 85 [100/383] | loss: 0.2768 (avg: 0.0669) | acc nat: 0.9922 (avg: 0.9981) | acc rob: 0.7578 (avg: 0.7957) |\n",
      "Epoch 85 [200/383] | loss: 0.2211 (avg: 0.1332) | acc nat: 1.0000 (avg: 0.9984) | acc rob: 0.8672 (avg: 0.7959) |\n",
      "Epoch 85 [300/383] | loss: 0.2819 (avg: 0.2005) | acc nat: 1.0000 (avg: 0.9981) | acc rob: 0.7891 (avg: 0.7956) |\n"
     ]
    },
    {
     "name": "stderr",
     "output_type": "stream",
     "text": [
      "[eval] 1000/1000: 100%|██████████| 1000/1000 [05:04<00:00,  3.29it/s, acc_nat=0.84, acc_rob=0.531]\n"
     ]
    },
    {
     "name": "stdout",
     "output_type": "stream",
     "text": [
      "Epoch 86 [0/383] | loss: 0.2386 (avg: 0.0006) | acc nat: 1.0000 (avg: 1.0000) | acc rob: 0.8125 (avg: 0.8125) |\n",
      "Epoch 86 [100/383] | loss: 0.2022 (avg: 0.0655) | acc nat: 1.0000 (avg: 0.9978) | acc rob: 0.8516 (avg: 0.8065) |\n",
      "Epoch 86 [200/383] | loss: 0.2631 (avg: 0.1309) | acc nat: 0.9922 (avg: 0.9979) | acc rob: 0.7500 (avg: 0.8006) |\n",
      "Epoch 86 [300/383] | loss: 0.2897 (avg: 0.1964) | acc nat: 1.0000 (avg: 0.9981) | acc rob: 0.7344 (avg: 0.7992) |\n"
     ]
    },
    {
     "name": "stderr",
     "output_type": "stream",
     "text": [
      "[eval] 1000/1000: 100%|██████████| 1000/1000 [05:04<00:00,  3.28it/s, acc_nat=0.863, acc_rob=0.53]\n"
     ]
    },
    {
     "name": "stdout",
     "output_type": "stream",
     "text": [
      "Epoch 87 [0/383] | loss: 0.2397 (avg: 0.0006) | acc nat: 1.0000 (avg: 1.0000) | acc rob: 0.8125 (avg: 0.8125) |\n",
      "Epoch 87 [100/383] | loss: 0.2394 (avg: 0.0634) | acc nat: 1.0000 (avg: 0.9986) | acc rob: 0.7812 (avg: 0.8062) |\n",
      "Epoch 87 [200/383] | loss: 0.1900 (avg: 0.1277) | acc nat: 1.0000 (avg: 0.9985) | acc rob: 0.8438 (avg: 0.8046) |\n",
      "Epoch 87 [300/383] | loss: 0.2646 (avg: 0.1922) | acc nat: 0.9922 (avg: 0.9984) | acc rob: 0.7344 (avg: 0.8038) |\n"
     ]
    },
    {
     "name": "stderr",
     "output_type": "stream",
     "text": [
      "[eval] 1000/1000: 100%|██████████| 1000/1000 [05:03<00:00,  3.29it/s, acc_nat=0.87, acc_rob=0.531]\n"
     ]
    },
    {
     "name": "stdout",
     "output_type": "stream",
     "text": [
      "Epoch 88 [0/383] | loss: 0.2601 (avg: 0.0007) | acc nat: 1.0000 (avg: 1.0000) | acc rob: 0.7812 (avg: 0.7812) |\n",
      "Epoch 88 [100/383] | loss: 0.2364 (avg: 0.0612) | acc nat: 0.9922 (avg: 0.9984) | acc rob: 0.8281 (avg: 0.8151) |\n",
      "Epoch 88 [200/383] | loss: 0.2585 (avg: 0.1245) | acc nat: 1.0000 (avg: 0.9982) | acc rob: 0.7734 (avg: 0.8112) |\n",
      "Epoch 88 [300/383] | loss: 0.2141 (avg: 0.1887) | acc nat: 1.0000 (avg: 0.9981) | acc rob: 0.8516 (avg: 0.8109) |\n"
     ]
    },
    {
     "name": "stderr",
     "output_type": "stream",
     "text": [
      "[eval] 1000/1000: 100%|██████████| 1000/1000 [05:03<00:00,  3.29it/s, acc_nat=0.859, acc_rob=0.536]\n"
     ]
    },
    {
     "name": "stdout",
     "output_type": "stream",
     "text": [
      "Epoch 89 [0/383] | loss: 0.2035 (avg: 0.0005) | acc nat: 1.0000 (avg: 1.0000) | acc rob: 0.8516 (avg: 0.8516) |\n",
      "Epoch 89 [100/383] | loss: 0.1908 (avg: 0.0619) | acc nat: 1.0000 (avg: 0.9983) | acc rob: 0.8516 (avg: 0.8195) |\n",
      "Epoch 89 [200/383] | loss: 0.2454 (avg: 0.1253) | acc nat: 1.0000 (avg: 0.9983) | acc rob: 0.8047 (avg: 0.8144) |\n",
      "Epoch 89 [300/383] | loss: 0.2023 (avg: 0.1899) | acc nat: 1.0000 (avg: 0.9980) | acc rob: 0.8594 (avg: 0.8106) |\n"
     ]
    },
    {
     "name": "stderr",
     "output_type": "stream",
     "text": [
      "[eval] 1000/1000: 100%|██████████| 1000/1000 [05:03<00:00,  3.30it/s, acc_nat=0.851, acc_rob=0.538]\n"
     ]
    },
    {
     "name": "stdout",
     "output_type": "stream",
     "text": [
      "Epoch 90 [0/383] | loss: 0.2375 (avg: 0.0006) | acc nat: 1.0000 (avg: 1.0000) | acc rob: 0.8203 (avg: 0.8203) |\n",
      "Epoch 90 [100/383] | loss: 0.2450 (avg: 0.0580) | acc nat: 1.0000 (avg: 0.9985) | acc rob: 0.7891 (avg: 0.8293) |\n",
      "Epoch 90 [200/383] | loss: 0.2233 (avg: 0.1139) | acc nat: 1.0000 (avg: 0.9983) | acc rob: 0.8203 (avg: 0.8308) |\n",
      "Epoch 90 [300/383] | loss: 0.2224 (avg: 0.1707) | acc nat: 1.0000 (avg: 0.9982) | acc rob: 0.8281 (avg: 0.8319) |\n"
     ]
    },
    {
     "name": "stderr",
     "output_type": "stream",
     "text": [
      "[eval] 1000/1000: 100%|██████████| 1000/1000 [05:04<00:00,  3.29it/s, acc_nat=0.867, acc_rob=0.543]\n"
     ]
    },
    {
     "name": "stdout",
     "output_type": "stream",
     "text": [
      "Epoch 91 [0/383] | loss: 0.2484 (avg: 0.0006) | acc nat: 1.0000 (avg: 1.0000) | acc rob: 0.7891 (avg: 0.7891) |\n",
      "Epoch 91 [100/383] | loss: 0.1914 (avg: 0.0545) | acc nat: 1.0000 (avg: 0.9991) | acc rob: 0.8594 (avg: 0.8377) |\n",
      "Epoch 91 [200/383] | loss: 0.2143 (avg: 0.1093) | acc nat: 1.0000 (avg: 0.9988) | acc rob: 0.8203 (avg: 0.8387) |\n",
      "Epoch 91 [300/383] | loss: 0.1930 (avg: 0.1634) | acc nat: 1.0000 (avg: 0.9989) | acc rob: 0.8828 (avg: 0.8391) |\n"
     ]
    },
    {
     "name": "stderr",
     "output_type": "stream",
     "text": [
      "[eval] 1000/1000: 100%|██████████| 1000/1000 [05:01<00:00,  3.32it/s, acc_nat=0.863, acc_rob=0.523]\n"
     ]
    },
    {
     "name": "stdout",
     "output_type": "stream",
     "text": [
      "Epoch 92 [0/383] | loss: 0.2202 (avg: 0.0006) | acc nat: 1.0000 (avg: 1.0000) | acc rob: 0.8672 (avg: 0.8672) |\n",
      "Epoch 92 [100/383] | loss: 0.1721 (avg: 0.0538) | acc nat: 1.0000 (avg: 0.9991) | acc rob: 0.9062 (avg: 0.8431) |\n",
      "Epoch 92 [200/383] | loss: 0.2171 (avg: 0.1065) | acc nat: 0.9922 (avg: 0.9988) | acc rob: 0.8438 (avg: 0.8443) |\n",
      "Epoch 92 [300/383] | loss: 0.2288 (avg: 0.1591) | acc nat: 1.0000 (avg: 0.9988) | acc rob: 0.8281 (avg: 0.8436) |\n"
     ]
    },
    {
     "name": "stderr",
     "output_type": "stream",
     "text": [
      "[eval] 1000/1000: 100%|██████████| 1000/1000 [04:58<00:00,  3.35it/s, acc_nat=0.871, acc_rob=0.539]\n"
     ]
    },
    {
     "name": "stdout",
     "output_type": "stream",
     "text": [
      "Epoch 93 [0/383] | loss: 0.1791 (avg: 0.0005) | acc nat: 1.0000 (avg: 1.0000) | acc rob: 0.8750 (avg: 0.8750) |\n",
      "Epoch 93 [100/383] | loss: 0.2283 (avg: 0.0528) | acc nat: 1.0000 (avg: 0.9985) | acc rob: 0.8281 (avg: 0.8469) |\n",
      "Epoch 93 [200/383] | loss: 0.2045 (avg: 0.1051) | acc nat: 1.0000 (avg: 0.9986) | acc rob: 0.8359 (avg: 0.8467) |\n",
      "Epoch 93 [300/383] | loss: 0.1651 (avg: 0.1572) | acc nat: 1.0000 (avg: 0.9987) | acc rob: 0.8750 (avg: 0.8461) |\n"
     ]
    },
    {
     "name": "stderr",
     "output_type": "stream",
     "text": [
      "[eval] 1000/1000: 100%|██████████| 1000/1000 [04:54<00:00,  3.39it/s, acc_nat=0.86, acc_rob=0.534]\n"
     ]
    },
    {
     "name": "stdout",
     "output_type": "stream",
     "text": [
      "Epoch 94 [0/383] | loss: 0.1788 (avg: 0.0005) | acc nat: 1.0000 (avg: 1.0000) | acc rob: 0.8906 (avg: 0.8906) |\n",
      "Epoch 94 [100/383] | loss: 0.2068 (avg: 0.0525) | acc nat: 1.0000 (avg: 0.9990) | acc rob: 0.8359 (avg: 0.8456) |\n",
      "Epoch 94 [200/383] | loss: 0.2039 (avg: 0.1038) | acc nat: 1.0000 (avg: 0.9990) | acc rob: 0.8438 (avg: 0.8477) |\n",
      "Epoch 94 [300/383] | loss: 0.1817 (avg: 0.1558) | acc nat: 1.0000 (avg: 0.9988) | acc rob: 0.8438 (avg: 0.8474) |\n"
     ]
    },
    {
     "name": "stderr",
     "output_type": "stream",
     "text": [
      "[eval] 1000/1000: 100%|██████████| 1000/1000 [04:50<00:00,  3.44it/s, acc_nat=0.869, acc_rob=0.527]\n"
     ]
    },
    {
     "name": "stdout",
     "output_type": "stream",
     "text": [
      "Epoch 95 [0/383] | loss: 0.2066 (avg: 0.0005) | acc nat: 1.0000 (avg: 1.0000) | acc rob: 0.8438 (avg: 0.8438) |\n",
      "Epoch 95 [100/383] | loss: 0.2006 (avg: 0.0511) | acc nat: 1.0000 (avg: 0.9991) | acc rob: 0.8438 (avg: 0.8497) |\n",
      "Epoch 95 [200/383] | loss: 0.1813 (avg: 0.1014) | acc nat: 1.0000 (avg: 0.9991) | acc rob: 0.8281 (avg: 0.8512) |\n",
      "Epoch 95 [300/383] | loss: 0.1754 (avg: 0.1522) | acc nat: 1.0000 (avg: 0.9991) | acc rob: 0.8828 (avg: 0.8507) |\n"
     ]
    },
    {
     "name": "stderr",
     "output_type": "stream",
     "text": [
      "[eval] 1000/1000: 100%|██████████| 1000/1000 [04:47<00:00,  3.47it/s, acc_nat=0.856, acc_rob=0.531]\n"
     ]
    },
    {
     "name": "stdout",
     "output_type": "stream",
     "text": [
      "Epoch 96 [0/383] | loss: 0.1863 (avg: 0.0005) | acc nat: 1.0000 (avg: 1.0000) | acc rob: 0.8750 (avg: 0.8750) |\n",
      "Epoch 96 [100/383] | loss: 0.1730 (avg: 0.0520) | acc nat: 1.0000 (avg: 0.9990) | acc rob: 0.8594 (avg: 0.8496) |\n",
      "Epoch 96 [200/383] | loss: 0.1661 (avg: 0.1010) | acc nat: 1.0000 (avg: 0.9990) | acc rob: 0.8828 (avg: 0.8530) |\n",
      "Epoch 96 [300/383] | loss: 0.1819 (avg: 0.1517) | acc nat: 1.0000 (avg: 0.9990) | acc rob: 0.8516 (avg: 0.8532) |\n"
     ]
    },
    {
     "name": "stderr",
     "output_type": "stream",
     "text": [
      "[eval] 1000/1000: 100%|██████████| 1000/1000 [04:43<00:00,  3.53it/s, acc_nat=0.862, acc_rob=0.547]\n"
     ]
    },
    {
     "name": "stdout",
     "output_type": "stream",
     "text": [
      "Epoch 97 [0/383] | loss: 0.2132 (avg: 0.0006) | acc nat: 1.0000 (avg: 1.0000) | acc rob: 0.8125 (avg: 0.8125) |\n",
      "Epoch 97 [100/383] | loss: 0.1959 (avg: 0.0506) | acc nat: 1.0000 (avg: 0.9987) | acc rob: 0.8516 (avg: 0.8539) |\n",
      "Epoch 97 [200/383] | loss: 0.1729 (avg: 0.1002) | acc nat: 1.0000 (avg: 0.9988) | acc rob: 0.8594 (avg: 0.8525) |\n",
      "Epoch 97 [300/383] | loss: 0.2254 (avg: 0.1494) | acc nat: 1.0000 (avg: 0.9989) | acc rob: 0.8359 (avg: 0.8534) |\n"
     ]
    },
    {
     "name": "stderr",
     "output_type": "stream",
     "text": [
      "[eval] 1000/1000: 100%|██████████| 1000/1000 [04:38<00:00,  3.59it/s, acc_nat=0.863, acc_rob=0.527]\n"
     ]
    },
    {
     "name": "stdout",
     "output_type": "stream",
     "text": [
      "Epoch 98 [0/383] | loss: 0.1903 (avg: 0.0005) | acc nat: 0.9922 (avg: 0.9922) | acc rob: 0.8438 (avg: 0.8438) |\n",
      "Epoch 98 [100/383] | loss: 0.1669 (avg: 0.0502) | acc nat: 1.0000 (avg: 0.9991) | acc rob: 0.8203 (avg: 0.8553) |\n",
      "Epoch 98 [200/383] | loss: 0.1836 (avg: 0.0999) | acc nat: 1.0000 (avg: 0.9991) | acc rob: 0.8594 (avg: 0.8563) |\n",
      "Epoch 98 [300/383] | loss: 0.1792 (avg: 0.1482) | acc nat: 1.0000 (avg: 0.9992) | acc rob: 0.8516 (avg: 0.8561) |\n"
     ]
    },
    {
     "name": "stderr",
     "output_type": "stream",
     "text": [
      "[eval] 1000/1000: 100%|██████████| 1000/1000 [04:36<00:00,  3.62it/s, acc_nat=0.868, acc_rob=0.534]\n"
     ]
    },
    {
     "name": "stdout",
     "output_type": "stream",
     "text": [
      "Epoch 99 [0/383] | loss: 0.1518 (avg: 0.0004) | acc nat: 1.0000 (avg: 1.0000) | acc rob: 0.8906 (avg: 0.8906) |\n",
      "Epoch 99 [100/383] | loss: 0.2199 (avg: 0.0494) | acc nat: 0.9922 (avg: 0.9989) | acc rob: 0.8594 (avg: 0.8560) |\n",
      "Epoch 99 [200/383] | loss: 0.1848 (avg: 0.0976) | acc nat: 1.0000 (avg: 0.9991) | acc rob: 0.8125 (avg: 0.8569) |\n",
      "Epoch 99 [300/383] | loss: 0.1661 (avg: 0.1452) | acc nat: 1.0000 (avg: 0.9989) | acc rob: 0.8828 (avg: 0.8589) |\n"
     ]
    },
    {
     "name": "stderr",
     "output_type": "stream",
     "text": [
      "[eval] 1000/1000: 100%|██████████| 1000/1000 [04:30<00:00,  3.70it/s, acc_nat=0.871, acc_rob=0.528]\n"
     ]
    }
   ],
   "source": [
    "os.environ['CUDA_VISIBLE_DEVICES'] = gpu\n",
    "os.makedirs(checkpoint, exist_ok=True)\n",
    "\n",
    "train_transform = transforms.Compose([\n",
    "    transforms.RandomCrop(32, padding=4),\n",
    "    transforms.RandomHorizontalFlip(),\n",
    "    transforms.ToTensor()])\n",
    "train_dataset, _ = get_dataloader(dataset, batch_size)\n",
    "num_samples = len(train_dataset)\n",
    "num_samples_for_train = int(num_samples * 0.98)\n",
    "num_samples_for_valid = num_samples - num_samples_for_train\n",
    "train_set, valid_set = random_split(train_dataset, [num_samples_for_train, num_samples_for_valid])\n",
    "train_dataloader = DataLoader(train_set, batch_size=batch_size, shuffle=True, drop_last=False)\n",
    "valid_dataloader = DataLoader(valid_set, batch_size=1, shuffle=True, drop_last=False)\n",
    "\n",
    "model_nat = nn.DataParallel(get_network(model_type, num_classes).cuda())\n",
    "model_rob = nn.DataParallel(get_network(model_type, num_classes).cuda())\n",
    "optimizer = optim.SGD([{'params': model_nat.parameters()},\n",
    "                       {'params': model_rob.parameters()}], \n",
    "                      lr=lr, momentum=momentum, weight_decay=weight_decay)\n",
    "\n",
    "scheduler = [75, 90]\n",
    "adjust_learning_rate = lr_scheduler.MultiStepLR(optimizer, scheduler, gamma=0.1)\n",
    "best_acc_nat, best_acc_rob = 0, 0\n",
    "\n",
    "for epoch in range(total_epochs):\n",
    "    training(epoch, model_nat, model_rob, train_dataloader, optimizer, num_classes, lam, epsilon, alpha, num_repeats)\n",
    "    test_acc_nat, test_acc_rob = evaluation(epoch, model_rob, valid_dataloader, alpha, epsilon, num_repeats)\n",
    "        \n",
    "    is_best = best_acc_nat < test_acc_nat and best_acc_rob < test_acc_rob\n",
    "    best_acc_nat = max(best_acc_nat, test_acc_nat)\n",
    "    best_acc_rob = max(best_acc_rob, test_acc_rob)\n",
    "    save_checkpoint = {'state_dict_nat': model_nat.state_dict(),\n",
    "                       'state_dict_rob': model_rob.state_dict(),\n",
    "                       'best_acc_nat': best_acc_nat,\n",
    "                       'best_acc_rob': best_acc_rob,\n",
    "                       'optimizer': optimizer.state_dict(),\n",
    "                       'model_type': model_type,\n",
    "                       'dataset': dataset}\n",
    "    torch.save(save_checkpoint, os.path.join(checkpoint, 'model'))\n",
    "    if is_best:\n",
    "        torch.save(save_checkpoint, os.path.join(checkpoint, 'best_model'))\n",
    "    adjust_learning_rate.step()"
   ]
  },
  {
   "cell_type": "code",
   "execution_count": null,
   "id": "67273057-ddb6-4294-b7ae-3aa932ab0cea",
   "metadata": {},
   "outputs": [],
   "source": []
  },
  {
   "cell_type": "code",
   "execution_count": null,
   "id": "8d35c3a0-6ed0-4416-9ee2-ec315604411d",
   "metadata": {},
   "outputs": [],
   "source": []
  }
 ],
 "metadata": {
  "kernelspec": {
   "display_name": "Python 3",
   "language": "python",
   "name": "python3"
  },
  "language_info": {
   "codemirror_mode": {
    "name": "ipython",
    "version": 3
   },
   "file_extension": ".py",
   "mimetype": "text/x-python",
   "name": "python",
   "nbconvert_exporter": "python",
   "pygments_lexer": "ipython3",
   "version": "3.6.9"
  }
 },
 "nbformat": 4,
 "nbformat_minor": 5
}
