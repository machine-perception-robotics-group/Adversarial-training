{
 "cells": [
  {
   "cell_type": "markdown",
   "id": "be933234-4b51-41a5-a5a0-9b831b916f96",
   "metadata": {
    "tags": []
   },
   "source": [
    "# Standard adversarial training "
   ]
  },
  {
   "cell_type": "code",
   "execution_count": 1,
   "id": "85eb3db2-6a80-4e98-8a62-4fd714fc9189",
   "metadata": {},
   "outputs": [],
   "source": [
    "import os\n",
    "import sys\n",
    "sys.path.append('..')\n",
    "import yaml\n",
    "import shutil\n",
    "import argparse\n",
    "import numpy as np\n",
    "from tqdm import tqdm\n",
    "from collections import OrderedDict\n",
    "\n",
    "import torch\n",
    "import torch.nn as nn\n",
    "import torch.nn.functional as F\n",
    "import torch.optim as optim\n",
    "from torch.optim import lr_scheduler\n",
    "from torch.utils.data import DataLoader, random_split\n",
    "\n",
    "from utils import *"
   ]
  },
  {
   "cell_type": "markdown",
   "id": "66240c81-1be4-4a34-af22-21a6292e0ff9",
   "metadata": {},
   "source": [
    "## Parameter setting"
   ]
  },
  {
   "cell_type": "code",
   "execution_count": 2,
   "id": "01de849e-a804-4062-aef7-4cfcd5999b2c",
   "metadata": {},
   "outputs": [],
   "source": [
    "gpu = '4,5,6,7'\n",
    "dataset = 'cifar10'\n",
    "model_type = 'wrn34-10'\n",
    "checkpoint = './checkpoint/standard/%s/%s' % (model_type, dataset)\n",
    "num_classes = 10\n",
    "lr = 0.1\n",
    "momentum = 0.9\n",
    "batch_size = 128\n",
    "total_epochs = 100\n",
    "epsilon = 8/255\n",
    "alpha = 2/255\n",
    "num_repeats = 10"
   ]
  },
  {
   "cell_type": "markdown",
   "id": "8c102405-4d46-45e0-b957-9e7022b7ae2f",
   "metadata": {},
   "source": [
    "## Inner maximization"
   ]
  },
  {
   "cell_type": "code",
   "execution_count": 3,
   "id": "2ee44a0f-0acc-41c3-95a0-e477e167e679",
   "metadata": {},
   "outputs": [],
   "source": [
    "def inner_max(model, xent, inputs, targets, epsilon, alpha, num_repeats):\n",
    "    noise = torch.FloatTensor(inputs.shape).uniform_(-1, 1).cuda()\n",
    "    x = torch.clamp(inputs + noise, min=0, max=1)\n",
    "    for _ in range(num_repeats):\n",
    "        x.requires_grad_()\n",
    "        logits = model(x)\n",
    "        loss = xent(logits, targets)\n",
    "        loss.backward()\n",
    "        grads = x.grad.data\n",
    "        x = x.detach() + alpha*torch.sign(grads).detach()\n",
    "        x = torch.min(torch.max(x, inputs - epsilon), inputs + epsilon).clamp(min=0, max=1)\n",
    "    return x"
   ]
  },
  {
   "cell_type": "markdown",
   "id": "afe2591b-4ebf-4714-a3f4-85cdac7f272d",
   "metadata": {},
   "source": [
    "## Training (Outer minimization)"
   ]
  },
  {
   "cell_type": "code",
   "execution_count": 4,
   "id": "db2276c9-d52b-4544-8448-42817161084d",
   "metadata": {},
   "outputs": [],
   "source": [
    "def training(epoch, model, dataloader, optimizer, num_classes, \n",
    "             epsilon=8/255, alpha=2/255, num_repeats=10):\n",
    "    model.train()\n",
    "    total = 0\n",
    "    total_loss = 0\n",
    "    total_correct = 0\n",
    "    xent = nn.CrossEntropyLoss()\n",
    "    for idx, (inputs, targets) in enumerate(dataloader):\n",
    "        inputs, targets = inputs.cuda(), targets.cuda()\n",
    "        batch = inputs.size(0)\n",
    "        \n",
    "        x = inner_max(model, xent, inputs, targets, epsilon, alpha, num_repeats)\n",
    "        logits = model(x)\n",
    "        \n",
    "        loss = xent(logits, targets)\n",
    "        \n",
    "        optimizer.zero_grad()\n",
    "        loss.backward()\n",
    "        optimizer.step()\n",
    "            \n",
    "        total += batch\n",
    "        total_loss += loss.item()\n",
    "        num_correct = torch.argmax(logits.data, dim=1).eq(targets.data).cpu().sum().item()\n",
    "        total_correct += num_correct\n",
    "        \n",
    "        if idx % 100 == 0:\n",
    "            print('Epoch %d [%d/%d] | loss: %.4f (avg: %.4f) | acc: %.4f (avg: %.4f) |'\\\n",
    "                  % (epoch, idx, len(dataloader), loss.item(), total_loss/len(dataloader),\n",
    "                     num_correct/batch, total_correct/total))"
   ]
  },
  {
   "cell_type": "code",
   "execution_count": 5,
   "id": "2ff1c8d2-8e9c-441c-b471-9eb237eb3bf0",
   "metadata": {},
   "outputs": [],
   "source": [
    "def evaluation(epoch, model, dataloader, alpha, epsilon, num_repeats):\n",
    "    model.eval()\n",
    "    total_correct_nat = 0\n",
    "    total_correct_adv = 0\n",
    "    \n",
    "    xent = nn.CrossEntropyLoss()\n",
    "    with tqdm(dataloader) as pbar:\n",
    "        for index, (inputs, targets) in enumerate(pbar):\n",
    "            inputs, targets = inputs.cuda(), targets.cuda()\n",
    "            batch = inputs.size(0)\n",
    "            pbar.set_description(\"[eval] %d/%d\" % (index+1, len(dataloader.dataset)))\n",
    "            \n",
    "            x = inner_max(model, xent, inputs, targets, epsilon, alpha, num_repeats)\n",
    "            with torch.no_grad():\n",
    "                logits_nat = model(inputs)\n",
    "                logits_adv = model(x)\n",
    "            total_correct_nat += torch.argmax(logits_nat.data, dim=1).eq(targets.data).cpu().sum().item()\n",
    "            total_correct_adv += torch.argmax(logits_adv.data, dim=1).eq(targets.data).cpu().sum().item()\n",
    "            pbar.set_postfix(OrderedDict(acc_nat=total_correct_nat / len(dataloader.dataset),\n",
    "                                         acc_rob=total_correct_adv / len(dataloader.dataset)))\n",
    "    \n",
    "    return (total_correct_nat / len(dataloader.dataset)), (total_correct_adv / len(dataloader.dataset))"
   ]
  },
  {
   "cell_type": "code",
   "execution_count": 6,
   "id": "208f000e-cb35-4ad5-93d5-fe47f788b266",
   "metadata": {
    "tags": []
   },
   "outputs": [
    {
     "name": "stdout",
     "output_type": "stream",
     "text": [
      "Files already downloaded and verified\n",
      "Files already downloaded and verified\n",
      "Epoch 0 [0/383] | loss: 3.0080 (avg: 0.0079) | acc: 0.0000 (avg: 0.0000) |\n",
      "Epoch 0 [100/383] | loss: 2.1082 (avg: 0.6022) | acc: 0.1875 (avg: 0.1586) |\n",
      "Epoch 0 [200/383] | loss: 2.0898 (avg: 1.1583) | acc: 0.2422 (avg: 0.1837) |\n",
      "Epoch 0 [300/383] | loss: 2.1045 (avg: 1.6998) | acc: 0.2031 (avg: 0.1958) |\n"
     ]
    },
    {
     "name": "stderr",
     "output_type": "stream",
     "text": [
      "[eval] 1000/1000: 100%|██████████| 1000/1000 [03:18<00:00,  5.04it/s, acc_nat=0.39, acc_rob=0.263]\n"
     ]
    },
    {
     "name": "stdout",
     "output_type": "stream",
     "text": [
      "Epoch 1 [0/383] | loss: 2.0385 (avg: 0.0053) | acc: 0.2266 (avg: 0.2266) |\n",
      "Epoch 1 [100/383] | loss: 1.9600 (avg: 0.5276) | acc: 0.2734 (avg: 0.2527) |\n",
      "Epoch 1 [200/383] | loss: 2.0297 (avg: 1.0432) | acc: 0.2109 (avg: 0.2589) |\n",
      "Epoch 1 [300/383] | loss: 1.9485 (avg: 1.5545) | acc: 0.2031 (avg: 0.2606) |\n"
     ]
    },
    {
     "name": "stderr",
     "output_type": "stream",
     "text": [
      "[eval] 1000/1000: 100%|██████████| 1000/1000 [03:21<00:00,  4.96it/s, acc_nat=0.446, acc_rob=0.295]\n"
     ]
    },
    {
     "name": "stdout",
     "output_type": "stream",
     "text": [
      "Epoch 2 [0/383] | loss: 1.9274 (avg: 0.0050) | acc: 0.2344 (avg: 0.2344) |\n",
      "Epoch 2 [100/383] | loss: 2.0152 (avg: 0.5023) | acc: 0.2500 (avg: 0.2922) |\n",
      "Epoch 2 [200/383] | loss: 1.8145 (avg: 0.9957) | acc: 0.3047 (avg: 0.2918) |\n",
      "Epoch 2 [300/383] | loss: 1.8529 (avg: 1.4825) | acc: 0.2578 (avg: 0.2943) |\n"
     ]
    },
    {
     "name": "stderr",
     "output_type": "stream",
     "text": [
      "[eval] 1000/1000: 100%|██████████| 1000/1000 [03:20<00:00,  4.99it/s, acc_nat=0.492, acc_rob=0.336]\n"
     ]
    },
    {
     "name": "stdout",
     "output_type": "stream",
     "text": [
      "Epoch 3 [0/383] | loss: 1.7625 (avg: 0.0046) | acc: 0.3359 (avg: 0.3359) |\n",
      "Epoch 3 [100/383] | loss: 1.6702 (avg: 0.4811) | acc: 0.3594 (avg: 0.3205) |\n",
      "Epoch 3 [200/383] | loss: 1.9011 (avg: 0.9512) | acc: 0.2578 (avg: 0.3233) |\n",
      "Epoch 3 [300/383] | loss: 1.8553 (avg: 1.4133) | acc: 0.2969 (avg: 0.3271) |\n"
     ]
    },
    {
     "name": "stderr",
     "output_type": "stream",
     "text": [
      "[eval] 1000/1000: 100%|██████████| 1000/1000 [03:20<00:00,  4.99it/s, acc_nat=0.56, acc_rob=0.381]\n"
     ]
    },
    {
     "name": "stdout",
     "output_type": "stream",
     "text": [
      "Epoch 4 [0/383] | loss: 1.7337 (avg: 0.0045) | acc: 0.3359 (avg: 0.3359) |\n",
      "Epoch 4 [100/383] | loss: 1.6789 (avg: 0.4604) | acc: 0.3672 (avg: 0.3438) |\n",
      "Epoch 4 [200/383] | loss: 1.7514 (avg: 0.9097) | acc: 0.3125 (avg: 0.3496) |\n",
      "Epoch 4 [300/383] | loss: 1.6701 (avg: 1.3571) | acc: 0.3359 (avg: 0.3506) |\n"
     ]
    },
    {
     "name": "stderr",
     "output_type": "stream",
     "text": [
      "[eval] 1000/1000: 100%|██████████| 1000/1000 [03:20<00:00,  5.00it/s, acc_nat=0.573, acc_rob=0.375]\n"
     ]
    },
    {
     "name": "stdout",
     "output_type": "stream",
     "text": [
      "Epoch 5 [0/383] | loss: 1.7184 (avg: 0.0045) | acc: 0.3359 (avg: 0.3359) |\n",
      "Epoch 5 [100/383] | loss: 1.5396 (avg: 0.4391) | acc: 0.4531 (avg: 0.3752) |\n",
      "Epoch 5 [200/383] | loss: 1.7494 (avg: 0.8755) | acc: 0.3125 (avg: 0.3731) |\n",
      "Epoch 5 [300/383] | loss: 1.6073 (avg: 1.3086) | acc: 0.3516 (avg: 0.3732) |\n"
     ]
    },
    {
     "name": "stderr",
     "output_type": "stream",
     "text": [
      "[eval] 1000/1000: 100%|██████████| 1000/1000 [03:16<00:00,  5.09it/s, acc_nat=0.648, acc_rob=0.414]\n"
     ]
    },
    {
     "name": "stdout",
     "output_type": "stream",
     "text": [
      "Epoch 6 [0/383] | loss: 1.6736 (avg: 0.0044) | acc: 0.3906 (avg: 0.3906) |\n",
      "Epoch 6 [100/383] | loss: 1.5365 (avg: 0.4301) | acc: 0.3828 (avg: 0.3831) |\n",
      "Epoch 6 [200/383] | loss: 1.5858 (avg: 0.8539) | acc: 0.4297 (avg: 0.3862) |\n",
      "Epoch 6 [300/383] | loss: 1.5645 (avg: 1.2686) | acc: 0.4375 (avg: 0.3927) |\n"
     ]
    },
    {
     "name": "stderr",
     "output_type": "stream",
     "text": [
      "[eval] 1000/1000: 100%|██████████| 1000/1000 [03:20<00:00,  5.00it/s, acc_nat=0.634, acc_rob=0.415]\n"
     ]
    },
    {
     "name": "stdout",
     "output_type": "stream",
     "text": [
      "Epoch 7 [0/383] | loss: 1.4960 (avg: 0.0039) | acc: 0.4297 (avg: 0.4297) |\n",
      "Epoch 7 [100/383] | loss: 1.6447 (avg: 0.4153) | acc: 0.3594 (avg: 0.4134) |\n",
      "Epoch 7 [200/383] | loss: 1.6202 (avg: 0.8266) | acc: 0.3828 (avg: 0.4130) |\n",
      "Epoch 7 [300/383] | loss: 1.4040 (avg: 1.2377) | acc: 0.5625 (avg: 0.4104) |\n"
     ]
    },
    {
     "name": "stderr",
     "output_type": "stream",
     "text": [
      "[eval] 1000/1000: 100%|██████████| 1000/1000 [03:18<00:00,  5.04it/s, acc_nat=0.663, acc_rob=0.415]\n"
     ]
    },
    {
     "name": "stdout",
     "output_type": "stream",
     "text": [
      "Epoch 8 [0/383] | loss: 1.4425 (avg: 0.0038) | acc: 0.4609 (avg: 0.4609) |\n",
      "Epoch 8 [100/383] | loss: 1.6574 (avg: 0.4061) | acc: 0.3594 (avg: 0.4174) |\n",
      "Epoch 8 [200/383] | loss: 1.6091 (avg: 0.8048) | acc: 0.4297 (avg: 0.4206) |\n",
      "Epoch 8 [300/383] | loss: 1.6488 (avg: 1.2028) | acc: 0.3672 (avg: 0.4206) |\n"
     ]
    },
    {
     "name": "stderr",
     "output_type": "stream",
     "text": [
      "[eval] 1000/1000: 100%|██████████| 1000/1000 [03:18<00:00,  5.05it/s, acc_nat=0.707, acc_rob=0.45]\n"
     ]
    },
    {
     "name": "stdout",
     "output_type": "stream",
     "text": [
      "Epoch 9 [0/383] | loss: 1.5483 (avg: 0.0040) | acc: 0.4766 (avg: 0.4766) |\n",
      "Epoch 9 [100/383] | loss: 1.4504 (avg: 0.3951) | acc: 0.4609 (avg: 0.4329) |\n",
      "Epoch 9 [200/383] | loss: 1.5003 (avg: 0.7845) | acc: 0.4375 (avg: 0.4358) |\n",
      "Epoch 9 [300/383] | loss: 1.5117 (avg: 1.1784) | acc: 0.3906 (avg: 0.4344) |\n"
     ]
    },
    {
     "name": "stderr",
     "output_type": "stream",
     "text": [
      "[eval] 1000/1000: 100%|██████████| 1000/1000 [03:18<00:00,  5.05it/s, acc_nat=0.699, acc_rob=0.432]\n"
     ]
    },
    {
     "name": "stdout",
     "output_type": "stream",
     "text": [
      "Epoch 10 [0/383] | loss: 1.5265 (avg: 0.0040) | acc: 0.4297 (avg: 0.4297) |\n",
      "Epoch 10 [100/383] | loss: 1.3313 (avg: 0.3841) | acc: 0.5156 (avg: 0.4421) |\n",
      "Epoch 10 [200/383] | loss: 1.5599 (avg: 0.7685) | acc: 0.4062 (avg: 0.4464) |\n",
      "Epoch 10 [300/383] | loss: 1.4341 (avg: 1.1520) | acc: 0.5156 (avg: 0.4482) |\n"
     ]
    },
    {
     "name": "stderr",
     "output_type": "stream",
     "text": [
      "[eval] 1000/1000: 100%|██████████| 1000/1000 [03:21<00:00,  4.97it/s, acc_nat=0.738, acc_rob=0.461]\n"
     ]
    },
    {
     "name": "stdout",
     "output_type": "stream",
     "text": [
      "Epoch 11 [0/383] | loss: 1.4317 (avg: 0.0037) | acc: 0.4219 (avg: 0.4219) |\n",
      "Epoch 11 [100/383] | loss: 1.5574 (avg: 0.3758) | acc: 0.3750 (avg: 0.4622) |\n",
      "Epoch 11 [200/383] | loss: 1.3055 (avg: 0.7514) | acc: 0.5391 (avg: 0.4620) |\n",
      "Epoch 11 [300/383] | loss: 1.4622 (avg: 1.1264) | acc: 0.4453 (avg: 0.4601) |\n"
     ]
    },
    {
     "name": "stderr",
     "output_type": "stream",
     "text": [
      "[eval] 1000/1000: 100%|██████████| 1000/1000 [03:17<00:00,  5.07it/s, acc_nat=0.736, acc_rob=0.47]\n"
     ]
    },
    {
     "name": "stdout",
     "output_type": "stream",
     "text": [
      "Epoch 12 [0/383] | loss: 1.3839 (avg: 0.0036) | acc: 0.5078 (avg: 0.5078) |\n",
      "Epoch 12 [100/383] | loss: 1.4154 (avg: 0.3704) | acc: 0.4375 (avg: 0.4691) |\n",
      "Epoch 12 [200/383] | loss: 1.2549 (avg: 0.7381) | acc: 0.5156 (avg: 0.4663) |\n",
      "Epoch 12 [300/383] | loss: 1.4982 (avg: 1.1060) | acc: 0.4609 (avg: 0.4673) |\n"
     ]
    },
    {
     "name": "stderr",
     "output_type": "stream",
     "text": [
      "[eval] 1000/1000: 100%|██████████| 1000/1000 [03:17<00:00,  5.06it/s, acc_nat=0.7, acc_rob=0.474] \n"
     ]
    },
    {
     "name": "stdout",
     "output_type": "stream",
     "text": [
      "Epoch 13 [0/383] | loss: 1.3966 (avg: 0.0036) | acc: 0.4531 (avg: 0.4531) |\n",
      "Epoch 13 [100/383] | loss: 1.4087 (avg: 0.3636) | acc: 0.4609 (avg: 0.4797) |\n",
      "Epoch 13 [200/383] | loss: 1.4152 (avg: 0.7269) | acc: 0.4688 (avg: 0.4760) |\n",
      "Epoch 13 [300/383] | loss: 1.6330 (avg: 1.0869) | acc: 0.3906 (avg: 0.4782) |\n"
     ]
    },
    {
     "name": "stderr",
     "output_type": "stream",
     "text": [
      "[eval] 1000/1000: 100%|██████████| 1000/1000 [03:19<00:00,  5.02it/s, acc_nat=0.756, acc_rob=0.471]\n"
     ]
    },
    {
     "name": "stdout",
     "output_type": "stream",
     "text": [
      "Epoch 14 [0/383] | loss: 1.3902 (avg: 0.0036) | acc: 0.4062 (avg: 0.4062) |\n",
      "Epoch 14 [100/383] | loss: 1.3298 (avg: 0.3560) | acc: 0.5000 (avg: 0.4931) |\n",
      "Epoch 14 [200/383] | loss: 1.4184 (avg: 0.7089) | acc: 0.4141 (avg: 0.4904) |\n",
      "Epoch 14 [300/383] | loss: 1.2933 (avg: 1.0635) | acc: 0.5156 (avg: 0.4882) |\n"
     ]
    },
    {
     "name": "stderr",
     "output_type": "stream",
     "text": [
      "[eval] 1000/1000: 100%|██████████| 1000/1000 [03:17<00:00,  5.06it/s, acc_nat=0.739, acc_rob=0.454]\n"
     ]
    },
    {
     "name": "stdout",
     "output_type": "stream",
     "text": [
      "Epoch 15 [0/383] | loss: 1.2239 (avg: 0.0032) | acc: 0.5703 (avg: 0.5703) |\n",
      "Epoch 15 [100/383] | loss: 1.2968 (avg: 0.3529) | acc: 0.5234 (avg: 0.4903) |\n",
      "Epoch 15 [200/383] | loss: 1.4534 (avg: 0.7013) | acc: 0.5000 (avg: 0.4914) |\n",
      "Epoch 15 [300/383] | loss: 1.3063 (avg: 1.0447) | acc: 0.5078 (avg: 0.4948) |\n"
     ]
    },
    {
     "name": "stderr",
     "output_type": "stream",
     "text": [
      "[eval] 1000/1000: 100%|██████████| 1000/1000 [03:19<00:00,  5.01it/s, acc_nat=0.754, acc_rob=0.502]\n"
     ]
    },
    {
     "name": "stdout",
     "output_type": "stream",
     "text": [
      "Epoch 16 [0/383] | loss: 1.3988 (avg: 0.0037) | acc: 0.5547 (avg: 0.5547) |\n",
      "Epoch 16 [100/383] | loss: 1.2104 (avg: 0.3464) | acc: 0.5312 (avg: 0.5009) |\n",
      "Epoch 16 [200/383] | loss: 1.2602 (avg: 0.6870) | acc: 0.4844 (avg: 0.5023) |\n",
      "Epoch 16 [300/383] | loss: 1.3326 (avg: 1.0289) | acc: 0.4531 (avg: 0.5031) |\n"
     ]
    },
    {
     "name": "stderr",
     "output_type": "stream",
     "text": [
      "[eval] 1000/1000: 100%|██████████| 1000/1000 [03:15<00:00,  5.11it/s, acc_nat=0.766, acc_rob=0.492]\n"
     ]
    },
    {
     "name": "stdout",
     "output_type": "stream",
     "text": [
      "Epoch 17 [0/383] | loss: 1.1780 (avg: 0.0031) | acc: 0.5469 (avg: 0.5469) |\n",
      "Epoch 17 [100/383] | loss: 1.3032 (avg: 0.3394) | acc: 0.5312 (avg: 0.5055) |\n",
      "Epoch 17 [200/383] | loss: 1.4081 (avg: 0.6735) | acc: 0.4609 (avg: 0.5090) |\n",
      "Epoch 17 [300/383] | loss: 1.3304 (avg: 1.0073) | acc: 0.5156 (avg: 0.5090) |\n"
     ]
    },
    {
     "name": "stderr",
     "output_type": "stream",
     "text": [
      "[eval] 1000/1000: 100%|██████████| 1000/1000 [03:18<00:00,  5.03it/s, acc_nat=0.768, acc_rob=0.499]\n"
     ]
    },
    {
     "name": "stdout",
     "output_type": "stream",
     "text": [
      "Epoch 18 [0/383] | loss: 1.2536 (avg: 0.0033) | acc: 0.5469 (avg: 0.5469) |\n",
      "Epoch 18 [100/383] | loss: 1.3925 (avg: 0.3300) | acc: 0.5078 (avg: 0.5225) |\n",
      "Epoch 18 [200/383] | loss: 1.1585 (avg: 0.6580) | acc: 0.6094 (avg: 0.5216) |\n",
      "Epoch 18 [300/383] | loss: 1.1721 (avg: 0.9886) | acc: 0.5703 (avg: 0.5209) |\n"
     ]
    },
    {
     "name": "stderr",
     "output_type": "stream",
     "text": [
      "[eval] 1000/1000: 100%|██████████| 1000/1000 [03:17<00:00,  5.07it/s, acc_nat=0.772, acc_rob=0.496]\n"
     ]
    },
    {
     "name": "stdout",
     "output_type": "stream",
     "text": [
      "Epoch 19 [0/383] | loss: 1.2854 (avg: 0.0034) | acc: 0.5156 (avg: 0.5156) |\n",
      "Epoch 19 [100/383] | loss: 1.3111 (avg: 0.3234) | acc: 0.4688 (avg: 0.5333) |\n",
      "Epoch 19 [200/383] | loss: 1.2081 (avg: 0.6474) | acc: 0.5078 (avg: 0.5301) |\n",
      "Epoch 19 [300/383] | loss: 1.3758 (avg: 0.9727) | acc: 0.4609 (avg: 0.5281) |\n"
     ]
    },
    {
     "name": "stderr",
     "output_type": "stream",
     "text": [
      "[eval] 1000/1000: 100%|██████████| 1000/1000 [03:19<00:00,  5.02it/s, acc_nat=0.788, acc_rob=0.516]\n"
     ]
    },
    {
     "name": "stdout",
     "output_type": "stream",
     "text": [
      "Epoch 20 [0/383] | loss: 1.3349 (avg: 0.0035) | acc: 0.4844 (avg: 0.4844) |\n",
      "Epoch 20 [100/383] | loss: 1.3818 (avg: 0.3183) | acc: 0.4922 (avg: 0.5359) |\n",
      "Epoch 20 [200/383] | loss: 1.1897 (avg: 0.6360) | acc: 0.5391 (avg: 0.5338) |\n",
      "Epoch 20 [300/383] | loss: 1.2431 (avg: 0.9565) | acc: 0.5781 (avg: 0.5325) |\n"
     ]
    },
    {
     "name": "stderr",
     "output_type": "stream",
     "text": [
      "[eval] 1000/1000: 100%|██████████| 1000/1000 [03:19<00:00,  5.02it/s, acc_nat=0.783, acc_rob=0.514]\n"
     ]
    },
    {
     "name": "stdout",
     "output_type": "stream",
     "text": [
      "Epoch 21 [0/383] | loss: 1.1569 (avg: 0.0030) | acc: 0.5859 (avg: 0.5859) |\n",
      "Epoch 21 [100/383] | loss: 1.0999 (avg: 0.3159) | acc: 0.5781 (avg: 0.5325) |\n",
      "Epoch 21 [200/383] | loss: 1.0658 (avg: 0.6286) | acc: 0.6172 (avg: 0.5369) |\n",
      "Epoch 21 [300/383] | loss: 1.1350 (avg: 0.9436) | acc: 0.5703 (avg: 0.5359) |\n"
     ]
    },
    {
     "name": "stderr",
     "output_type": "stream",
     "text": [
      "[eval] 1000/1000: 100%|██████████| 1000/1000 [03:18<00:00,  5.05it/s, acc_nat=0.782, acc_rob=0.5]\n"
     ]
    },
    {
     "name": "stdout",
     "output_type": "stream",
     "text": [
      "Epoch 22 [0/383] | loss: 1.0156 (avg: 0.0027) | acc: 0.6484 (avg: 0.6484) |\n",
      "Epoch 22 [100/383] | loss: 1.1267 (avg: 0.3071) | acc: 0.5547 (avg: 0.5506) |\n",
      "Epoch 22 [200/383] | loss: 1.1903 (avg: 0.6161) | acc: 0.5781 (avg: 0.5439) |\n",
      "Epoch 22 [300/383] | loss: 1.1479 (avg: 0.9286) | acc: 0.5625 (avg: 0.5437) |\n"
     ]
    },
    {
     "name": "stderr",
     "output_type": "stream",
     "text": [
      "[eval] 1000/1000: 100%|██████████| 1000/1000 [03:20<00:00,  5.00it/s, acc_nat=0.803, acc_rob=0.529]\n"
     ]
    },
    {
     "name": "stdout",
     "output_type": "stream",
     "text": [
      "Epoch 23 [0/383] | loss: 1.0166 (avg: 0.0027) | acc: 0.6094 (avg: 0.6094) |\n",
      "Epoch 23 [100/383] | loss: 1.0259 (avg: 0.3001) | acc: 0.5781 (avg: 0.5603) |\n",
      "Epoch 23 [200/383] | loss: 1.1841 (avg: 0.6026) | acc: 0.5469 (avg: 0.5557) |\n",
      "Epoch 23 [300/383] | loss: 1.2175 (avg: 0.9066) | acc: 0.5234 (avg: 0.5544) |\n"
     ]
    },
    {
     "name": "stderr",
     "output_type": "stream",
     "text": [
      "[eval] 1000/1000: 100%|██████████| 1000/1000 [03:17<00:00,  5.07it/s, acc_nat=0.791, acc_rob=0.504]\n"
     ]
    },
    {
     "name": "stdout",
     "output_type": "stream",
     "text": [
      "Epoch 24 [0/383] | loss: 1.1518 (avg: 0.0030) | acc: 0.5391 (avg: 0.5391) |\n",
      "Epoch 24 [100/383] | loss: 1.0278 (avg: 0.2955) | acc: 0.6328 (avg: 0.5661) |\n",
      "Epoch 24 [200/383] | loss: 1.0754 (avg: 0.5918) | acc: 0.6172 (avg: 0.5639) |\n",
      "Epoch 24 [300/383] | loss: 1.1623 (avg: 0.8890) | acc: 0.5469 (avg: 0.5627) |\n"
     ]
    },
    {
     "name": "stderr",
     "output_type": "stream",
     "text": [
      "[eval] 1000/1000: 100%|██████████| 1000/1000 [03:19<00:00,  5.01it/s, acc_nat=0.781, acc_rob=0.527]\n"
     ]
    },
    {
     "name": "stdout",
     "output_type": "stream",
     "text": [
      "Epoch 25 [0/383] | loss: 1.1051 (avg: 0.0029) | acc: 0.5938 (avg: 0.5938) |\n",
      "Epoch 25 [100/383] | loss: 1.1122 (avg: 0.2955) | acc: 0.5547 (avg: 0.5594) |\n",
      "Epoch 25 [200/383] | loss: 1.2064 (avg: 0.5853) | acc: 0.4844 (avg: 0.5630) |\n",
      "Epoch 25 [300/383] | loss: 1.0652 (avg: 0.8773) | acc: 0.6094 (avg: 0.5640) |\n"
     ]
    },
    {
     "name": "stderr",
     "output_type": "stream",
     "text": [
      "[eval] 1000/1000: 100%|██████████| 1000/1000 [03:19<00:00,  5.01it/s, acc_nat=0.814, acc_rob=0.525]\n"
     ]
    },
    {
     "name": "stdout",
     "output_type": "stream",
     "text": [
      "Epoch 26 [0/383] | loss: 1.1271 (avg: 0.0029) | acc: 0.5625 (avg: 0.5625) |\n",
      "Epoch 26 [100/383] | loss: 1.1753 (avg: 0.2866) | acc: 0.4766 (avg: 0.5708) |\n",
      "Epoch 26 [200/383] | loss: 1.1639 (avg: 0.5718) | acc: 0.5938 (avg: 0.5735) |\n",
      "Epoch 26 [300/383] | loss: 0.9749 (avg: 0.8584) | acc: 0.5859 (avg: 0.5738) |\n"
     ]
    },
    {
     "name": "stderr",
     "output_type": "stream",
     "text": [
      "[eval] 1000/1000: 100%|██████████| 1000/1000 [03:18<00:00,  5.03it/s, acc_nat=0.8, acc_rob=0.53] \n"
     ]
    },
    {
     "name": "stdout",
     "output_type": "stream",
     "text": [
      "Epoch 27 [0/383] | loss: 1.0138 (avg: 0.0026) | acc: 0.5547 (avg: 0.5547) |\n",
      "Epoch 27 [100/383] | loss: 1.0200 (avg: 0.2773) | acc: 0.6328 (avg: 0.5856) |\n",
      "Epoch 27 [200/383] | loss: 0.9198 (avg: 0.5583) | acc: 0.6953 (avg: 0.5806) |\n",
      "Epoch 27 [300/383] | loss: 1.0876 (avg: 0.8422) | acc: 0.5781 (avg: 0.5787) |\n"
     ]
    },
    {
     "name": "stderr",
     "output_type": "stream",
     "text": [
      "[eval] 1000/1000: 100%|██████████| 1000/1000 [03:16<00:00,  5.09it/s, acc_nat=0.807, acc_rob=0.519]\n"
     ]
    },
    {
     "name": "stdout",
     "output_type": "stream",
     "text": [
      "Epoch 28 [0/383] | loss: 0.8520 (avg: 0.0022) | acc: 0.7031 (avg: 0.7031) |\n",
      "Epoch 28 [100/383] | loss: 1.0595 (avg: 0.2755) | acc: 0.5547 (avg: 0.5907) |\n",
      "Epoch 28 [200/383] | loss: 1.1729 (avg: 0.5535) | acc: 0.5547 (avg: 0.5864) |\n",
      "Epoch 28 [300/383] | loss: 1.0099 (avg: 0.8282) | acc: 0.5547 (avg: 0.5864) |\n"
     ]
    },
    {
     "name": "stderr",
     "output_type": "stream",
     "text": [
      "[eval] 1000/1000: 100%|██████████| 1000/1000 [03:22<00:00,  4.93it/s, acc_nat=0.808, acc_rob=0.526]\n"
     ]
    },
    {
     "name": "stdout",
     "output_type": "stream",
     "text": [
      "Epoch 29 [0/383] | loss: 1.0280 (avg: 0.0027) | acc: 0.5859 (avg: 0.5859) |\n",
      "Epoch 29 [100/383] | loss: 1.0729 (avg: 0.2667) | acc: 0.5703 (avg: 0.6026) |\n",
      "Epoch 29 [200/383] | loss: 1.0536 (avg: 0.5347) | acc: 0.5547 (avg: 0.5974) |\n",
      "Epoch 29 [300/383] | loss: 0.9541 (avg: 0.8071) | acc: 0.6875 (avg: 0.5940) |\n"
     ]
    },
    {
     "name": "stderr",
     "output_type": "stream",
     "text": [
      "[eval] 1000/1000: 100%|██████████| 1000/1000 [03:16<00:00,  5.10it/s, acc_nat=0.823, acc_rob=0.527]\n"
     ]
    },
    {
     "name": "stdout",
     "output_type": "stream",
     "text": [
      "Epoch 30 [0/383] | loss: 0.9683 (avg: 0.0025) | acc: 0.6172 (avg: 0.6172) |\n",
      "Epoch 30 [100/383] | loss: 0.9781 (avg: 0.2608) | acc: 0.6328 (avg: 0.6067) |\n",
      "Epoch 30 [200/383] | loss: 1.0217 (avg: 0.5229) | acc: 0.5859 (avg: 0.6063) |\n",
      "Epoch 30 [300/383] | loss: 1.0567 (avg: 0.7923) | acc: 0.6172 (avg: 0.6004) |\n"
     ]
    },
    {
     "name": "stderr",
     "output_type": "stream",
     "text": [
      "[eval] 1000/1000: 100%|██████████| 1000/1000 [03:21<00:00,  4.96it/s, acc_nat=0.805, acc_rob=0.528]\n"
     ]
    },
    {
     "name": "stdout",
     "output_type": "stream",
     "text": [
      "Epoch 31 [0/383] | loss: 0.9710 (avg: 0.0025) | acc: 0.5938 (avg: 0.5938) |\n",
      "Epoch 31 [100/383] | loss: 1.0652 (avg: 0.2582) | acc: 0.6094 (avg: 0.6093) |\n",
      "Epoch 31 [200/383] | loss: 1.1302 (avg: 0.5193) | acc: 0.5234 (avg: 0.6063) |\n",
      "Epoch 31 [300/383] | loss: 0.9897 (avg: 0.7799) | acc: 0.6094 (avg: 0.6067) |\n"
     ]
    },
    {
     "name": "stderr",
     "output_type": "stream",
     "text": [
      "[eval] 1000/1000: 100%|██████████| 1000/1000 [03:19<00:00,  5.01it/s, acc_nat=0.825, acc_rob=0.535]\n"
     ]
    },
    {
     "name": "stdout",
     "output_type": "stream",
     "text": [
      "Epoch 32 [0/383] | loss: 1.0034 (avg: 0.0026) | acc: 0.6016 (avg: 0.6016) |\n",
      "Epoch 32 [100/383] | loss: 0.9068 (avg: 0.2518) | acc: 0.6719 (avg: 0.6196) |\n",
      "Epoch 32 [200/383] | loss: 0.9564 (avg: 0.5064) | acc: 0.6016 (avg: 0.6157) |\n",
      "Epoch 32 [300/383] | loss: 1.0029 (avg: 0.7619) | acc: 0.5859 (avg: 0.6135) |\n"
     ]
    },
    {
     "name": "stderr",
     "output_type": "stream",
     "text": [
      "[eval] 1000/1000: 100%|██████████| 1000/1000 [03:17<00:00,  5.06it/s, acc_nat=0.809, acc_rob=0.528]\n"
     ]
    },
    {
     "name": "stdout",
     "output_type": "stream",
     "text": [
      "Epoch 33 [0/383] | loss: 0.9548 (avg: 0.0025) | acc: 0.5391 (avg: 0.5391) |\n",
      "Epoch 33 [100/383] | loss: 0.8559 (avg: 0.2453) | acc: 0.7109 (avg: 0.6253) |\n",
      "Epoch 33 [200/383] | loss: 0.8492 (avg: 0.4955) | acc: 0.7031 (avg: 0.6218) |\n",
      "Epoch 33 [300/383] | loss: 0.8527 (avg: 0.7442) | acc: 0.6719 (avg: 0.6208) |\n"
     ]
    },
    {
     "name": "stderr",
     "output_type": "stream",
     "text": [
      "[eval] 1000/1000: 100%|██████████| 1000/1000 [03:19<00:00,  5.02it/s, acc_nat=0.835, acc_rob=0.515]\n"
     ]
    },
    {
     "name": "stdout",
     "output_type": "stream",
     "text": [
      "Epoch 34 [0/383] | loss: 0.8805 (avg: 0.0023) | acc: 0.6641 (avg: 0.6641) |\n",
      "Epoch 34 [100/383] | loss: 1.1358 (avg: 0.2443) | acc: 0.5781 (avg: 0.6290) |\n",
      "Epoch 34 [200/383] | loss: 0.9146 (avg: 0.4889) | acc: 0.6328 (avg: 0.6283) |\n",
      "Epoch 34 [300/383] | loss: 1.0721 (avg: 0.7314) | acc: 0.5547 (avg: 0.6282) |\n"
     ]
    },
    {
     "name": "stderr",
     "output_type": "stream",
     "text": [
      "[eval] 1000/1000: 100%|██████████| 1000/1000 [03:21<00:00,  4.97it/s, acc_nat=0.829, acc_rob=0.522]\n"
     ]
    },
    {
     "name": "stdout",
     "output_type": "stream",
     "text": [
      "Epoch 35 [0/383] | loss: 0.8248 (avg: 0.0022) | acc: 0.7031 (avg: 0.7031) |\n",
      "Epoch 35 [100/383] | loss: 0.8395 (avg: 0.2364) | acc: 0.6641 (avg: 0.6403) |\n",
      "Epoch 35 [200/383] | loss: 0.8652 (avg: 0.4756) | acc: 0.6250 (avg: 0.6355) |\n",
      "Epoch 35 [300/383] | loss: 1.1587 (avg: 0.7157) | acc: 0.5938 (avg: 0.6352) |\n"
     ]
    },
    {
     "name": "stderr",
     "output_type": "stream",
     "text": [
      "[eval] 1000/1000: 100%|██████████| 1000/1000 [03:22<00:00,  4.95it/s, acc_nat=0.826, acc_rob=0.504]\n"
     ]
    },
    {
     "name": "stdout",
     "output_type": "stream",
     "text": [
      "Epoch 36 [0/383] | loss: 0.8253 (avg: 0.0022) | acc: 0.6562 (avg: 0.6562) |\n",
      "Epoch 36 [100/383] | loss: 0.8240 (avg: 0.2272) | acc: 0.6719 (avg: 0.6556) |\n",
      "Epoch 36 [200/383] | loss: 0.8765 (avg: 0.4574) | acc: 0.6172 (avg: 0.6482) |\n",
      "Epoch 36 [300/383] | loss: 0.8752 (avg: 0.6944) | acc: 0.6719 (avg: 0.6433) |\n"
     ]
    },
    {
     "name": "stderr",
     "output_type": "stream",
     "text": [
      "[eval] 1000/1000: 100%|██████████| 1000/1000 [03:17<00:00,  5.05it/s, acc_nat=0.83, acc_rob=0.502]\n"
     ]
    },
    {
     "name": "stdout",
     "output_type": "stream",
     "text": [
      "Epoch 37 [0/383] | loss: 0.7611 (avg: 0.0020) | acc: 0.6875 (avg: 0.6875) |\n",
      "Epoch 37 [100/383] | loss: 0.8460 (avg: 0.2271) | acc: 0.6406 (avg: 0.6487) |\n",
      "Epoch 37 [200/383] | loss: 0.7247 (avg: 0.4550) | acc: 0.7109 (avg: 0.6479) |\n",
      "Epoch 37 [300/383] | loss: 0.8750 (avg: 0.6825) | acc: 0.6172 (avg: 0.6484) |\n"
     ]
    },
    {
     "name": "stderr",
     "output_type": "stream",
     "text": [
      "[eval] 1000/1000: 100%|██████████| 1000/1000 [03:18<00:00,  5.04it/s, acc_nat=0.833, acc_rob=0.533]\n"
     ]
    },
    {
     "name": "stdout",
     "output_type": "stream",
     "text": [
      "Epoch 38 [0/383] | loss: 0.8883 (avg: 0.0023) | acc: 0.6172 (avg: 0.6172) |\n",
      "Epoch 38 [100/383] | loss: 0.8308 (avg: 0.2203) | acc: 0.7188 (avg: 0.6610) |\n",
      "Epoch 38 [200/383] | loss: 0.8512 (avg: 0.4411) | acc: 0.7188 (avg: 0.6593) |\n",
      "Epoch 38 [300/383] | loss: 0.7550 (avg: 0.6628) | acc: 0.6875 (avg: 0.6570) |\n"
     ]
    },
    {
     "name": "stderr",
     "output_type": "stream",
     "text": [
      "[eval] 1000/1000: 100%|██████████| 1000/1000 [03:18<00:00,  5.03it/s, acc_nat=0.823, acc_rob=0.522]\n"
     ]
    },
    {
     "name": "stdout",
     "output_type": "stream",
     "text": [
      "Epoch 39 [0/383] | loss: 0.8247 (avg: 0.0022) | acc: 0.6406 (avg: 0.6406) |\n",
      "Epoch 39 [100/383] | loss: 0.8281 (avg: 0.2128) | acc: 0.6875 (avg: 0.6723) |\n",
      "Epoch 39 [200/383] | loss: 0.8619 (avg: 0.4291) | acc: 0.6953 (avg: 0.6646) |\n",
      "Epoch 39 [300/383] | loss: 0.8960 (avg: 0.6490) | acc: 0.6562 (avg: 0.6625) |\n"
     ]
    },
    {
     "name": "stderr",
     "output_type": "stream",
     "text": [
      "[eval] 1000/1000: 100%|██████████| 1000/1000 [03:20<00:00,  5.00it/s, acc_nat=0.838, acc_rob=0.534]\n"
     ]
    },
    {
     "name": "stdout",
     "output_type": "stream",
     "text": [
      "Epoch 40 [0/383] | loss: 0.7998 (avg: 0.0021) | acc: 0.6641 (avg: 0.6641) |\n",
      "Epoch 40 [100/383] | loss: 0.6706 (avg: 0.2059) | acc: 0.7422 (avg: 0.6809) |\n",
      "Epoch 40 [200/383] | loss: 0.7765 (avg: 0.4164) | acc: 0.6875 (avg: 0.6764) |\n",
      "Epoch 40 [300/383] | loss: 0.7504 (avg: 0.6346) | acc: 0.7109 (avg: 0.6701) |\n"
     ]
    },
    {
     "name": "stderr",
     "output_type": "stream",
     "text": [
      "[eval] 1000/1000: 100%|██████████| 1000/1000 [03:21<00:00,  4.97it/s, acc_nat=0.826, acc_rob=0.518]\n"
     ]
    },
    {
     "name": "stdout",
     "output_type": "stream",
     "text": [
      "Epoch 41 [0/383] | loss: 0.9001 (avg: 0.0024) | acc: 0.5859 (avg: 0.5859) |\n",
      "Epoch 41 [100/383] | loss: 0.7080 (avg: 0.2040) | acc: 0.7109 (avg: 0.6837) |\n",
      "Epoch 41 [200/383] | loss: 0.7385 (avg: 0.4112) | acc: 0.6641 (avg: 0.6784) |\n",
      "Epoch 41 [300/383] | loss: 0.8228 (avg: 0.6183) | acc: 0.6484 (avg: 0.6792) |\n"
     ]
    },
    {
     "name": "stderr",
     "output_type": "stream",
     "text": [
      "[eval] 1000/1000: 100%|██████████| 1000/1000 [03:20<00:00,  4.98it/s, acc_nat=0.829, acc_rob=0.512]\n"
     ]
    },
    {
     "name": "stdout",
     "output_type": "stream",
     "text": [
      "Epoch 42 [0/383] | loss: 0.7551 (avg: 0.0020) | acc: 0.6875 (avg: 0.6875) |\n",
      "Epoch 42 [100/383] | loss: 0.6416 (avg: 0.1958) | acc: 0.7344 (avg: 0.6929) |\n",
      "Epoch 42 [200/383] | loss: 0.7097 (avg: 0.3947) | acc: 0.6641 (avg: 0.6919) |\n",
      "Epoch 42 [300/383] | loss: 0.9107 (avg: 0.5996) | acc: 0.6094 (avg: 0.6866) |\n"
     ]
    },
    {
     "name": "stderr",
     "output_type": "stream",
     "text": [
      "[eval] 1000/1000: 100%|██████████| 1000/1000 [03:16<00:00,  5.08it/s, acc_nat=0.842, acc_rob=0.517]\n"
     ]
    },
    {
     "name": "stdout",
     "output_type": "stream",
     "text": [
      "Epoch 43 [0/383] | loss: 0.7320 (avg: 0.0019) | acc: 0.7188 (avg: 0.7188) |\n",
      "Epoch 43 [100/383] | loss: 0.7725 (avg: 0.1927) | acc: 0.6875 (avg: 0.6943) |\n",
      "Epoch 43 [200/383] | loss: 0.8210 (avg: 0.3897) | acc: 0.6562 (avg: 0.6927) |\n",
      "Epoch 43 [300/383] | loss: 0.6350 (avg: 0.5894) | acc: 0.6719 (avg: 0.6894) |\n"
     ]
    },
    {
     "name": "stderr",
     "output_type": "stream",
     "text": [
      "[eval] 1000/1000: 100%|██████████| 1000/1000 [03:16<00:00,  5.08it/s, acc_nat=0.84, acc_rob=0.505]\n"
     ]
    },
    {
     "name": "stdout",
     "output_type": "stream",
     "text": [
      "Epoch 44 [0/383] | loss: 0.7451 (avg: 0.0019) | acc: 0.6562 (avg: 0.6562) |\n",
      "Epoch 44 [100/383] | loss: 0.7468 (avg: 0.1875) | acc: 0.6797 (avg: 0.7020) |\n",
      "Epoch 44 [200/383] | loss: 0.7907 (avg: 0.3786) | acc: 0.6875 (avg: 0.7006) |\n",
      "Epoch 44 [300/383] | loss: 0.9161 (avg: 0.5778) | acc: 0.6094 (avg: 0.6958) |\n"
     ]
    },
    {
     "name": "stderr",
     "output_type": "stream",
     "text": [
      "[eval] 1000/1000: 100%|██████████| 1000/1000 [03:16<00:00,  5.09it/s, acc_nat=0.82, acc_rob=0.495]\n"
     ]
    },
    {
     "name": "stdout",
     "output_type": "stream",
     "text": [
      "Epoch 45 [0/383] | loss: 0.6823 (avg: 0.0018) | acc: 0.6953 (avg: 0.6953) |\n",
      "Epoch 45 [100/383] | loss: 0.6280 (avg: 0.1807) | acc: 0.7422 (avg: 0.7158) |\n",
      "Epoch 45 [200/383] | loss: 0.6572 (avg: 0.3696) | acc: 0.7344 (avg: 0.7090) |\n",
      "Epoch 45 [300/383] | loss: 0.7447 (avg: 0.5599) | acc: 0.6406 (avg: 0.7055) |\n"
     ]
    },
    {
     "name": "stderr",
     "output_type": "stream",
     "text": [
      "[eval] 1000/1000: 100%|██████████| 1000/1000 [03:18<00:00,  5.03it/s, acc_nat=0.828, acc_rob=0.504]\n"
     ]
    },
    {
     "name": "stdout",
     "output_type": "stream",
     "text": [
      "Epoch 46 [0/383] | loss: 0.6307 (avg: 0.0016) | acc: 0.7109 (avg: 0.7109) |\n",
      "Epoch 46 [100/383] | loss: 0.8124 (avg: 0.1805) | acc: 0.7109 (avg: 0.7170) |\n",
      "Epoch 46 [200/383] | loss: 0.6664 (avg: 0.3638) | acc: 0.7109 (avg: 0.7104) |\n",
      "Epoch 46 [300/383] | loss: 0.6452 (avg: 0.5469) | acc: 0.7656 (avg: 0.7101) |\n"
     ]
    },
    {
     "name": "stderr",
     "output_type": "stream",
     "text": [
      "[eval] 1000/1000: 100%|██████████| 1000/1000 [03:16<00:00,  5.09it/s, acc_nat=0.843, acc_rob=0.499]\n"
     ]
    },
    {
     "name": "stdout",
     "output_type": "stream",
     "text": [
      "Epoch 47 [0/383] | loss: 0.6593 (avg: 0.0017) | acc: 0.7344 (avg: 0.7344) |\n",
      "Epoch 47 [100/383] | loss: 0.7001 (avg: 0.1752) | acc: 0.7656 (avg: 0.7215) |\n",
      "Epoch 47 [200/383] | loss: 0.7970 (avg: 0.3518) | acc: 0.6484 (avg: 0.7198) |\n",
      "Epoch 47 [300/383] | loss: 0.6934 (avg: 0.5324) | acc: 0.7656 (avg: 0.7170) |\n"
     ]
    },
    {
     "name": "stderr",
     "output_type": "stream",
     "text": [
      "[eval] 1000/1000: 100%|██████████| 1000/1000 [03:16<00:00,  5.08it/s, acc_nat=0.82, acc_rob=0.509]\n"
     ]
    },
    {
     "name": "stdout",
     "output_type": "stream",
     "text": [
      "Epoch 48 [0/383] | loss: 0.6885 (avg: 0.0018) | acc: 0.7031 (avg: 0.7031) |\n",
      "Epoch 48 [100/383] | loss: 0.5672 (avg: 0.1662) | acc: 0.7734 (avg: 0.7328) |\n",
      "Epoch 48 [200/383] | loss: 0.6452 (avg: 0.3370) | acc: 0.6719 (avg: 0.7271) |\n",
      "Epoch 48 [300/383] | loss: 0.6668 (avg: 0.5146) | acc: 0.6875 (avg: 0.7227) |\n"
     ]
    },
    {
     "name": "stderr",
     "output_type": "stream",
     "text": [
      "[eval] 1000/1000: 100%|██████████| 1000/1000 [03:22<00:00,  4.93it/s, acc_nat=0.85, acc_rob=0.515]\n"
     ]
    },
    {
     "name": "stdout",
     "output_type": "stream",
     "text": [
      "Epoch 49 [0/383] | loss: 0.5373 (avg: 0.0014) | acc: 0.8203 (avg: 0.8203) |\n",
      "Epoch 49 [100/383] | loss: 0.5974 (avg: 0.1623) | acc: 0.7578 (avg: 0.7372) |\n",
      "Epoch 49 [200/383] | loss: 0.5810 (avg: 0.3285) | acc: 0.7734 (avg: 0.7328) |\n",
      "Epoch 49 [300/383] | loss: 0.6199 (avg: 0.5027) | acc: 0.7656 (avg: 0.7298) |\n"
     ]
    },
    {
     "name": "stderr",
     "output_type": "stream",
     "text": [
      "[eval] 1000/1000: 100%|██████████| 1000/1000 [03:20<00:00,  4.98it/s, acc_nat=0.83, acc_rob=0.504]\n"
     ]
    },
    {
     "name": "stdout",
     "output_type": "stream",
     "text": [
      "Epoch 50 [0/383] | loss: 0.6122 (avg: 0.0016) | acc: 0.7500 (avg: 0.7500) |\n",
      "Epoch 50 [100/383] | loss: 0.5239 (avg: 0.1598) | acc: 0.7734 (avg: 0.7420) |\n",
      "Epoch 50 [200/383] | loss: 0.6257 (avg: 0.3196) | acc: 0.7578 (avg: 0.7425) |\n",
      "Epoch 50 [300/383] | loss: 0.6563 (avg: 0.4847) | acc: 0.7266 (avg: 0.7394) |\n"
     ]
    },
    {
     "name": "stderr",
     "output_type": "stream",
     "text": [
      "[eval] 1000/1000: 100%|██████████| 1000/1000 [03:19<00:00,  5.00it/s, acc_nat=0.843, acc_rob=0.514]\n"
     ]
    },
    {
     "name": "stdout",
     "output_type": "stream",
     "text": [
      "Epoch 51 [0/383] | loss: 0.4934 (avg: 0.0013) | acc: 0.7734 (avg: 0.7734) |\n",
      "Epoch 51 [100/383] | loss: 0.6691 (avg: 0.1548) | acc: 0.6797 (avg: 0.7468) |\n",
      "Epoch 51 [200/383] | loss: 0.5064 (avg: 0.3111) | acc: 0.7969 (avg: 0.7483) |\n",
      "Epoch 51 [300/383] | loss: 0.5117 (avg: 0.4709) | acc: 0.7891 (avg: 0.7465) |\n"
     ]
    },
    {
     "name": "stderr",
     "output_type": "stream",
     "text": [
      "[eval] 1000/1000: 100%|██████████| 1000/1000 [03:16<00:00,  5.10it/s, acc_nat=0.849, acc_rob=0.496]\n"
     ]
    },
    {
     "name": "stdout",
     "output_type": "stream",
     "text": [
      "Epoch 52 [0/383] | loss: 0.5300 (avg: 0.0014) | acc: 0.7656 (avg: 0.7656) |\n",
      "Epoch 52 [100/383] | loss: 0.5957 (avg: 0.1488) | acc: 0.7500 (avg: 0.7590) |\n",
      "Epoch 52 [200/383] | loss: 0.6394 (avg: 0.3034) | acc: 0.6797 (avg: 0.7543) |\n",
      "Epoch 52 [300/383] | loss: 0.5242 (avg: 0.4610) | acc: 0.7734 (avg: 0.7510) |\n"
     ]
    },
    {
     "name": "stderr",
     "output_type": "stream",
     "text": [
      "[eval] 1000/1000: 100%|██████████| 1000/1000 [03:20<00:00,  5.00it/s, acc_nat=0.834, acc_rob=0.488]\n"
     ]
    },
    {
     "name": "stdout",
     "output_type": "stream",
     "text": [
      "Epoch 53 [0/383] | loss: 0.5624 (avg: 0.0015) | acc: 0.7656 (avg: 0.7656) |\n",
      "Epoch 53 [100/383] | loss: 0.5573 (avg: 0.1463) | acc: 0.7891 (avg: 0.7625) |\n",
      "Epoch 53 [200/383] | loss: 0.6052 (avg: 0.2974) | acc: 0.7578 (avg: 0.7565) |\n",
      "Epoch 53 [300/383] | loss: 0.5947 (avg: 0.4505) | acc: 0.7422 (avg: 0.7545) |\n"
     ]
    },
    {
     "name": "stderr",
     "output_type": "stream",
     "text": [
      "[eval] 1000/1000: 100%|██████████| 1000/1000 [03:21<00:00,  4.97it/s, acc_nat=0.841, acc_rob=0.497]\n"
     ]
    },
    {
     "name": "stdout",
     "output_type": "stream",
     "text": [
      "Epoch 54 [0/383] | loss: 0.4908 (avg: 0.0013) | acc: 0.7656 (avg: 0.7656) |\n",
      "Epoch 54 [100/383] | loss: 0.5906 (avg: 0.1425) | acc: 0.7344 (avg: 0.7672) |\n",
      "Epoch 54 [200/383] | loss: 0.6063 (avg: 0.2870) | acc: 0.7109 (avg: 0.7658) |\n",
      "Epoch 54 [300/383] | loss: 0.5886 (avg: 0.4349) | acc: 0.7266 (avg: 0.7623) |\n"
     ]
    },
    {
     "name": "stderr",
     "output_type": "stream",
     "text": [
      "[eval] 1000/1000: 100%|██████████| 1000/1000 [03:21<00:00,  4.97it/s, acc_nat=0.832, acc_rob=0.497]\n"
     ]
    },
    {
     "name": "stdout",
     "output_type": "stream",
     "text": [
      "Epoch 55 [0/383] | loss: 0.5596 (avg: 0.0015) | acc: 0.7266 (avg: 0.7266) |\n",
      "Epoch 55 [100/383] | loss: 0.5596 (avg: 0.1381) | acc: 0.7656 (avg: 0.7756) |\n",
      "Epoch 55 [200/383] | loss: 0.5458 (avg: 0.2789) | acc: 0.7578 (avg: 0.7725) |\n",
      "Epoch 55 [300/383] | loss: 0.7344 (avg: 0.4274) | acc: 0.6719 (avg: 0.7679) |\n"
     ]
    },
    {
     "name": "stderr",
     "output_type": "stream",
     "text": [
      "[eval] 1000/1000: 100%|██████████| 1000/1000 [03:18<00:00,  5.03it/s, acc_nat=0.844, acc_rob=0.476]\n"
     ]
    },
    {
     "name": "stdout",
     "output_type": "stream",
     "text": [
      "Epoch 56 [0/383] | loss: 0.5374 (avg: 0.0014) | acc: 0.7734 (avg: 0.7734) |\n",
      "Epoch 56 [100/383] | loss: 0.5189 (avg: 0.1355) | acc: 0.7891 (avg: 0.7813) |\n",
      "Epoch 56 [200/383] | loss: 0.5481 (avg: 0.2707) | acc: 0.7734 (avg: 0.7784) |\n",
      "Epoch 56 [300/383] | loss: 0.4936 (avg: 0.4128) | acc: 0.7656 (avg: 0.7746) |\n"
     ]
    },
    {
     "name": "stderr",
     "output_type": "stream",
     "text": [
      "[eval] 1000/1000: 100%|██████████| 1000/1000 [03:16<00:00,  5.08it/s, acc_nat=0.849, acc_rob=0.476]\n"
     ]
    },
    {
     "name": "stdout",
     "output_type": "stream",
     "text": [
      "Epoch 57 [0/383] | loss: 0.5798 (avg: 0.0015) | acc: 0.7500 (avg: 0.7500) |\n",
      "Epoch 57 [100/383] | loss: 0.4469 (avg: 0.1269) | acc: 0.7891 (avg: 0.7942) |\n",
      "Epoch 57 [200/383] | loss: 0.5223 (avg: 0.2617) | acc: 0.7578 (avg: 0.7861) |\n",
      "Epoch 57 [300/383] | loss: 0.5260 (avg: 0.3979) | acc: 0.7656 (avg: 0.7834) |\n"
     ]
    },
    {
     "name": "stderr",
     "output_type": "stream",
     "text": [
      "[eval] 1000/1000: 100%|██████████| 1000/1000 [03:22<00:00,  4.94it/s, acc_nat=0.843, acc_rob=0.492]\n"
     ]
    },
    {
     "name": "stdout",
     "output_type": "stream",
     "text": [
      "Epoch 58 [0/383] | loss: 0.4527 (avg: 0.0012) | acc: 0.8125 (avg: 0.8125) |\n",
      "Epoch 58 [100/383] | loss: 0.5001 (avg: 0.1276) | acc: 0.7500 (avg: 0.7903) |\n",
      "Epoch 58 [200/383] | loss: 0.4299 (avg: 0.2567) | acc: 0.8438 (avg: 0.7897) |\n",
      "Epoch 58 [300/383] | loss: 0.3297 (avg: 0.3900) | acc: 0.8906 (avg: 0.7866) |\n"
     ]
    },
    {
     "name": "stderr",
     "output_type": "stream",
     "text": [
      "[eval] 1000/1000: 100%|██████████| 1000/1000 [03:18<00:00,  5.03it/s, acc_nat=0.836, acc_rob=0.482]\n"
     ]
    },
    {
     "name": "stdout",
     "output_type": "stream",
     "text": [
      "Epoch 59 [0/383] | loss: 0.4163 (avg: 0.0011) | acc: 0.8359 (avg: 0.8359) |\n",
      "Epoch 59 [100/383] | loss: 0.4370 (avg: 0.1230) | acc: 0.7500 (avg: 0.8031) |\n",
      "Epoch 59 [200/383] | loss: 0.4425 (avg: 0.2490) | acc: 0.7969 (avg: 0.7967) |\n",
      "Epoch 59 [300/383] | loss: 0.4531 (avg: 0.3808) | acc: 0.8203 (avg: 0.7907) |\n"
     ]
    },
    {
     "name": "stderr",
     "output_type": "stream",
     "text": [
      "[eval] 1000/1000: 100%|██████████| 1000/1000 [03:18<00:00,  5.04it/s, acc_nat=0.826, acc_rob=0.481]\n"
     ]
    },
    {
     "name": "stdout",
     "output_type": "stream",
     "text": [
      "Epoch 60 [0/383] | loss: 0.4326 (avg: 0.0011) | acc: 0.8438 (avg: 0.8438) |\n",
      "Epoch 60 [100/383] | loss: 0.4479 (avg: 0.1168) | acc: 0.7969 (avg: 0.8074) |\n",
      "Epoch 60 [200/383] | loss: 0.5024 (avg: 0.2396) | acc: 0.7812 (avg: 0.8020) |\n",
      "Epoch 60 [300/383] | loss: 0.5200 (avg: 0.3654) | acc: 0.7578 (avg: 0.7996) |\n"
     ]
    },
    {
     "name": "stderr",
     "output_type": "stream",
     "text": [
      "[eval] 1000/1000: 100%|██████████| 1000/1000 [03:17<00:00,  5.06it/s, acc_nat=0.833, acc_rob=0.478]\n"
     ]
    },
    {
     "name": "stdout",
     "output_type": "stream",
     "text": [
      "Epoch 61 [0/383] | loss: 0.4222 (avg: 0.0011) | acc: 0.8281 (avg: 0.8281) |\n",
      "Epoch 61 [100/383] | loss: 0.3615 (avg: 0.1191) | acc: 0.8125 (avg: 0.8033) |\n",
      "Epoch 61 [200/383] | loss: 0.4254 (avg: 0.2379) | acc: 0.8203 (avg: 0.8012) |\n",
      "Epoch 61 [300/383] | loss: 0.4676 (avg: 0.3626) | acc: 0.8359 (avg: 0.7995) |\n"
     ]
    },
    {
     "name": "stderr",
     "output_type": "stream",
     "text": [
      "[eval] 1000/1000: 100%|██████████| 1000/1000 [03:22<00:00,  4.94it/s, acc_nat=0.844, acc_rob=0.499]\n"
     ]
    },
    {
     "name": "stdout",
     "output_type": "stream",
     "text": [
      "Epoch 62 [0/383] | loss: 0.3958 (avg: 0.0010) | acc: 0.8359 (avg: 0.8359) |\n",
      "Epoch 62 [100/383] | loss: 0.4706 (avg: 0.1146) | acc: 0.7656 (avg: 0.8137) |\n",
      "Epoch 62 [200/383] | loss: 0.5068 (avg: 0.2302) | acc: 0.7812 (avg: 0.8076) |\n",
      "Epoch 62 [300/383] | loss: 0.4920 (avg: 0.3508) | acc: 0.7578 (avg: 0.8051) |\n"
     ]
    },
    {
     "name": "stderr",
     "output_type": "stream",
     "text": [
      "[eval] 1000/1000: 100%|██████████| 1000/1000 [03:21<00:00,  4.96it/s, acc_nat=0.848, acc_rob=0.498]\n"
     ]
    },
    {
     "name": "stdout",
     "output_type": "stream",
     "text": [
      "Epoch 63 [0/383] | loss: 0.4412 (avg: 0.0012) | acc: 0.8125 (avg: 0.8125) |\n",
      "Epoch 63 [100/383] | loss: 0.4583 (avg: 0.1100) | acc: 0.8047 (avg: 0.8204) |\n",
      "Epoch 63 [200/383] | loss: 0.4243 (avg: 0.2238) | acc: 0.8047 (avg: 0.8142) |\n",
      "Epoch 63 [300/383] | loss: 0.4706 (avg: 0.3389) | acc: 0.7812 (avg: 0.8129) |\n"
     ]
    },
    {
     "name": "stderr",
     "output_type": "stream",
     "text": [
      "[eval] 1000/1000: 100%|██████████| 1000/1000 [03:24<00:00,  4.90it/s, acc_nat=0.831, acc_rob=0.456]\n"
     ]
    },
    {
     "name": "stdout",
     "output_type": "stream",
     "text": [
      "Epoch 64 [0/383] | loss: 0.3826 (avg: 0.0010) | acc: 0.8906 (avg: 0.8906) |\n",
      "Epoch 64 [100/383] | loss: 0.3150 (avg: 0.1103) | acc: 0.8672 (avg: 0.8189) |\n",
      "Epoch 64 [200/383] | loss: 0.4064 (avg: 0.2199) | acc: 0.8359 (avg: 0.8184) |\n",
      "Epoch 64 [300/383] | loss: 0.5037 (avg: 0.3342) | acc: 0.7578 (avg: 0.8149) |\n"
     ]
    },
    {
     "name": "stderr",
     "output_type": "stream",
     "text": [
      "[eval] 1000/1000: 100%|██████████| 1000/1000 [03:20<00:00,  4.99it/s, acc_nat=0.852, acc_rob=0.485]\n"
     ]
    },
    {
     "name": "stdout",
     "output_type": "stream",
     "text": [
      "Epoch 65 [0/383] | loss: 0.3059 (avg: 0.0008) | acc: 0.8828 (avg: 0.8828) |\n",
      "Epoch 65 [100/383] | loss: 0.4409 (avg: 0.1037) | acc: 0.8125 (avg: 0.8293) |\n",
      "Epoch 65 [200/383] | loss: 0.3973 (avg: 0.2078) | acc: 0.8281 (avg: 0.8281) |\n",
      "Epoch 65 [300/383] | loss: 0.3818 (avg: 0.3209) | acc: 0.8203 (avg: 0.8237) |\n"
     ]
    },
    {
     "name": "stderr",
     "output_type": "stream",
     "text": [
      "[eval] 1000/1000: 100%|██████████| 1000/1000 [03:17<00:00,  5.06it/s, acc_nat=0.853, acc_rob=0.469]\n"
     ]
    },
    {
     "name": "stdout",
     "output_type": "stream",
     "text": [
      "Epoch 66 [0/383] | loss: 0.3949 (avg: 0.0010) | acc: 0.8203 (avg: 0.8203) |\n",
      "Epoch 66 [100/383] | loss: 0.3390 (avg: 0.1012) | acc: 0.8438 (avg: 0.8361) |\n",
      "Epoch 66 [200/383] | loss: 0.3442 (avg: 0.2056) | acc: 0.8438 (avg: 0.8313) |\n",
      "Epoch 66 [300/383] | loss: 0.3701 (avg: 0.3128) | acc: 0.7969 (avg: 0.8288) |\n"
     ]
    },
    {
     "name": "stderr",
     "output_type": "stream",
     "text": [
      "[eval] 1000/1000: 100%|██████████| 1000/1000 [03:16<00:00,  5.08it/s, acc_nat=0.843, acc_rob=0.492]\n"
     ]
    },
    {
     "name": "stdout",
     "output_type": "stream",
     "text": [
      "Epoch 67 [0/383] | loss: 0.3134 (avg: 0.0008) | acc: 0.9062 (avg: 0.9062) |\n",
      "Epoch 67 [100/383] | loss: 0.4616 (avg: 0.0993) | acc: 0.7734 (avg: 0.8359) |\n",
      "Epoch 67 [200/383] | loss: 0.4652 (avg: 0.1986) | acc: 0.8125 (avg: 0.8347) |\n",
      "Epoch 67 [300/383] | loss: 0.4004 (avg: 0.3025) | acc: 0.8125 (avg: 0.8323) |\n"
     ]
    },
    {
     "name": "stderr",
     "output_type": "stream",
     "text": [
      "[eval] 1000/1000: 100%|██████████| 1000/1000 [03:18<00:00,  5.04it/s, acc_nat=0.843, acc_rob=0.475]\n"
     ]
    },
    {
     "name": "stdout",
     "output_type": "stream",
     "text": [
      "Epoch 68 [0/383] | loss: 0.3619 (avg: 0.0009) | acc: 0.8281 (avg: 0.8281) |\n",
      "Epoch 68 [100/383] | loss: 0.3223 (avg: 0.0966) | acc: 0.8750 (avg: 0.8424) |\n",
      "Epoch 68 [200/383] | loss: 0.4229 (avg: 0.1963) | acc: 0.8203 (avg: 0.8385) |\n",
      "Epoch 68 [300/383] | loss: 0.3541 (avg: 0.2988) | acc: 0.8203 (avg: 0.8352) |\n"
     ]
    },
    {
     "name": "stderr",
     "output_type": "stream",
     "text": [
      "[eval] 1000/1000: 100%|██████████| 1000/1000 [03:16<00:00,  5.08it/s, acc_nat=0.832, acc_rob=0.47]\n"
     ]
    },
    {
     "name": "stdout",
     "output_type": "stream",
     "text": [
      "Epoch 69 [0/383] | loss: 0.3437 (avg: 0.0009) | acc: 0.8047 (avg: 0.8047) |\n",
      "Epoch 69 [100/383] | loss: 0.3567 (avg: 0.0931) | acc: 0.8594 (avg: 0.8455) |\n",
      "Epoch 69 [200/383] | loss: 0.3584 (avg: 0.1891) | acc: 0.7969 (avg: 0.8408) |\n",
      "Epoch 69 [300/383] | loss: 0.4575 (avg: 0.2866) | acc: 0.8359 (avg: 0.8415) |\n"
     ]
    },
    {
     "name": "stderr",
     "output_type": "stream",
     "text": [
      "[eval] 1000/1000: 100%|██████████| 1000/1000 [03:16<00:00,  5.10it/s, acc_nat=0.85, acc_rob=0.459]\n"
     ]
    },
    {
     "name": "stdout",
     "output_type": "stream",
     "text": [
      "Epoch 70 [0/383] | loss: 0.3293 (avg: 0.0009) | acc: 0.8672 (avg: 0.8672) |\n",
      "Epoch 70 [100/383] | loss: 0.3215 (avg: 0.0911) | acc: 0.8516 (avg: 0.8516) |\n",
      "Epoch 70 [200/383] | loss: 0.4326 (avg: 0.1865) | acc: 0.8047 (avg: 0.8474) |\n",
      "Epoch 70 [300/383] | loss: 0.3663 (avg: 0.2832) | acc: 0.8359 (avg: 0.8440) |\n"
     ]
    },
    {
     "name": "stderr",
     "output_type": "stream",
     "text": [
      "[eval] 1000/1000: 100%|██████████| 1000/1000 [03:14<00:00,  5.13it/s, acc_nat=0.832, acc_rob=0.473]\n"
     ]
    },
    {
     "name": "stdout",
     "output_type": "stream",
     "text": [
      "Epoch 71 [0/383] | loss: 0.3410 (avg: 0.0009) | acc: 0.8438 (avg: 0.8438) |\n",
      "Epoch 71 [100/383] | loss: 0.2843 (avg: 0.0878) | acc: 0.8750 (avg: 0.8562) |\n",
      "Epoch 71 [200/383] | loss: 0.2804 (avg: 0.1793) | acc: 0.9062 (avg: 0.8532) |\n",
      "Epoch 71 [300/383] | loss: 0.3864 (avg: 0.2724) | acc: 0.8516 (avg: 0.8497) |\n"
     ]
    },
    {
     "name": "stderr",
     "output_type": "stream",
     "text": [
      "[eval] 1000/1000: 100%|██████████| 1000/1000 [03:17<00:00,  5.07it/s, acc_nat=0.837, acc_rob=0.476]\n"
     ]
    },
    {
     "name": "stdout",
     "output_type": "stream",
     "text": [
      "Epoch 72 [0/383] | loss: 0.3002 (avg: 0.0008) | acc: 0.8750 (avg: 0.8750) |\n",
      "Epoch 72 [100/383] | loss: 0.3779 (avg: 0.0872) | acc: 0.8594 (avg: 0.8592) |\n",
      "Epoch 72 [200/383] | loss: 0.3799 (avg: 0.1780) | acc: 0.7812 (avg: 0.8541) |\n",
      "Epoch 72 [300/383] | loss: 0.3698 (avg: 0.2677) | acc: 0.8516 (avg: 0.8519) |\n"
     ]
    },
    {
     "name": "stderr",
     "output_type": "stream",
     "text": [
      "[eval] 1000/1000: 100%|██████████| 1000/1000 [03:19<00:00,  5.00it/s, acc_nat=0.837, acc_rob=0.479]\n"
     ]
    },
    {
     "name": "stdout",
     "output_type": "stream",
     "text": [
      "Epoch 73 [0/383] | loss: 0.2652 (avg: 0.0007) | acc: 0.8984 (avg: 0.8984) |\n",
      "Epoch 73 [100/383] | loss: 0.3307 (avg: 0.0852) | acc: 0.8203 (avg: 0.8563) |\n",
      "Epoch 73 [200/383] | loss: 0.4816 (avg: 0.1703) | acc: 0.7656 (avg: 0.8560) |\n",
      "Epoch 73 [300/383] | loss: 0.3149 (avg: 0.2630) | acc: 0.8750 (avg: 0.8528) |\n"
     ]
    },
    {
     "name": "stderr",
     "output_type": "stream",
     "text": [
      "[eval] 1000/1000: 100%|██████████| 1000/1000 [03:20<00:00,  4.99it/s, acc_nat=0.84, acc_rob=0.447]\n"
     ]
    },
    {
     "name": "stdout",
     "output_type": "stream",
     "text": [
      "Epoch 74 [0/383] | loss: 0.3222 (avg: 0.0008) | acc: 0.8594 (avg: 0.8594) |\n",
      "Epoch 74 [100/383] | loss: 0.3550 (avg: 0.0816) | acc: 0.8281 (avg: 0.8634) |\n",
      "Epoch 74 [200/383] | loss: 0.3878 (avg: 0.1641) | acc: 0.8281 (avg: 0.8639) |\n",
      "Epoch 74 [300/383] | loss: 0.3071 (avg: 0.2483) | acc: 0.8750 (avg: 0.8621) |\n"
     ]
    },
    {
     "name": "stderr",
     "output_type": "stream",
     "text": [
      "[eval] 1000/1000: 100%|██████████| 1000/1000 [03:17<00:00,  5.06it/s, acc_nat=0.844, acc_rob=0.447]\n"
     ]
    },
    {
     "name": "stdout",
     "output_type": "stream",
     "text": [
      "Epoch 75 [0/383] | loss: 0.3644 (avg: 0.0010) | acc: 0.8438 (avg: 0.8438) |\n",
      "Epoch 75 [100/383] | loss: 0.2106 (avg: 0.0672) | acc: 0.9141 (avg: 0.8913) |\n",
      "Epoch 75 [200/383] | loss: 0.1971 (avg: 0.1246) | acc: 0.9219 (avg: 0.8989) |\n",
      "Epoch 75 [300/383] | loss: 0.2109 (avg: 0.1786) | acc: 0.8750 (avg: 0.9024) |\n"
     ]
    },
    {
     "name": "stderr",
     "output_type": "stream",
     "text": [
      "[eval] 1000/1000: 100%|██████████| 1000/1000 [03:18<00:00,  5.04it/s, acc_nat=0.844, acc_rob=0.496]\n"
     ]
    },
    {
     "name": "stdout",
     "output_type": "stream",
     "text": [
      "Epoch 76 [0/383] | loss: 0.1896 (avg: 0.0005) | acc: 0.8984 (avg: 0.8984) |\n",
      "Epoch 76 [100/383] | loss: 0.1351 (avg: 0.0499) | acc: 0.9531 (avg: 0.9170) |\n",
      "Epoch 76 [200/383] | loss: 0.1808 (avg: 0.0979) | acc: 0.9062 (avg: 0.9169) |\n",
      "Epoch 76 [300/383] | loss: 0.1327 (avg: 0.1452) | acc: 0.9609 (avg: 0.9178) |\n"
     ]
    },
    {
     "name": "stderr",
     "output_type": "stream",
     "text": [
      "[eval] 1000/1000: 100%|██████████| 1000/1000 [03:18<00:00,  5.03it/s, acc_nat=0.853, acc_rob=0.47]\n"
     ]
    },
    {
     "name": "stdout",
     "output_type": "stream",
     "text": [
      "Epoch 77 [0/383] | loss: 0.1653 (avg: 0.0004) | acc: 0.9297 (avg: 0.9297) |\n",
      "Epoch 77 [100/383] | loss: 0.1645 (avg: 0.0452) | acc: 0.9297 (avg: 0.9241) |\n",
      "Epoch 77 [200/383] | loss: 0.1794 (avg: 0.0895) | acc: 0.8984 (avg: 0.9236) |\n",
      "Epoch 77 [300/383] | loss: 0.1962 (avg: 0.1361) | acc: 0.9062 (avg: 0.9225) |\n"
     ]
    },
    {
     "name": "stderr",
     "output_type": "stream",
     "text": [
      "[eval] 1000/1000: 100%|██████████| 1000/1000 [03:19<00:00,  5.01it/s, acc_nat=0.856, acc_rob=0.479]\n"
     ]
    },
    {
     "name": "stdout",
     "output_type": "stream",
     "text": [
      "Epoch 78 [0/383] | loss: 0.1721 (avg: 0.0004) | acc: 0.9297 (avg: 0.9297) |\n",
      "Epoch 78 [100/383] | loss: 0.1271 (avg: 0.0427) | acc: 0.9453 (avg: 0.9277) |\n",
      "Epoch 78 [200/383] | loss: 0.1875 (avg: 0.0851) | acc: 0.9062 (avg: 0.9279) |\n",
      "Epoch 78 [300/383] | loss: 0.1508 (avg: 0.1274) | acc: 0.9141 (avg: 0.9274) |\n"
     ]
    },
    {
     "name": "stderr",
     "output_type": "stream",
     "text": [
      "[eval] 1000/1000: 100%|██████████| 1000/1000 [03:17<00:00,  5.05it/s, acc_nat=0.857, acc_rob=0.475]\n"
     ]
    },
    {
     "name": "stdout",
     "output_type": "stream",
     "text": [
      "Epoch 79 [0/383] | loss: 0.1206 (avg: 0.0003) | acc: 0.9609 (avg: 0.9609) |\n",
      "Epoch 79 [100/383] | loss: 0.1741 (avg: 0.0414) | acc: 0.8984 (avg: 0.9313) |\n",
      "Epoch 79 [200/383] | loss: 0.1630 (avg: 0.0815) | acc: 0.9219 (avg: 0.9313) |\n",
      "Epoch 79 [300/383] | loss: 0.1390 (avg: 0.1209) | acc: 0.9375 (avg: 0.9318) |\n"
     ]
    },
    {
     "name": "stderr",
     "output_type": "stream",
     "text": [
      "[eval] 1000/1000: 100%|██████████| 1000/1000 [03:17<00:00,  5.07it/s, acc_nat=0.854, acc_rob=0.471]\n"
     ]
    },
    {
     "name": "stdout",
     "output_type": "stream",
     "text": [
      "Epoch 80 [0/383] | loss: 0.1797 (avg: 0.0005) | acc: 0.9375 (avg: 0.9375) |\n",
      "Epoch 80 [100/383] | loss: 0.0907 (avg: 0.0376) | acc: 0.9609 (avg: 0.9364) |\n",
      "Epoch 80 [200/383] | loss: 0.1684 (avg: 0.0768) | acc: 0.9141 (avg: 0.9351) |\n",
      "Epoch 80 [300/383] | loss: 0.1647 (avg: 0.1159) | acc: 0.9141 (avg: 0.9337) |\n"
     ]
    },
    {
     "name": "stderr",
     "output_type": "stream",
     "text": [
      "[eval] 1000/1000: 100%|██████████| 1000/1000 [03:17<00:00,  5.07it/s, acc_nat=0.869, acc_rob=0.484]\n"
     ]
    },
    {
     "name": "stdout",
     "output_type": "stream",
     "text": [
      "Epoch 81 [0/383] | loss: 0.1374 (avg: 0.0004) | acc: 0.9375 (avg: 0.9375) |\n",
      "Epoch 81 [100/383] | loss: 0.1633 (avg: 0.0384) | acc: 0.9375 (avg: 0.9336) |\n",
      "Epoch 81 [200/383] | loss: 0.1795 (avg: 0.0752) | acc: 0.9219 (avg: 0.9352) |\n",
      "Epoch 81 [300/383] | loss: 0.1143 (avg: 0.1127) | acc: 0.9375 (avg: 0.9352) |\n"
     ]
    },
    {
     "name": "stderr",
     "output_type": "stream",
     "text": [
      "[eval] 1000/1000: 100%|██████████| 1000/1000 [03:20<00:00,  4.99it/s, acc_nat=0.862, acc_rob=0.468]\n"
     ]
    },
    {
     "name": "stdout",
     "output_type": "stream",
     "text": [
      "Epoch 82 [0/383] | loss: 0.1062 (avg: 0.0003) | acc: 0.9531 (avg: 0.9531) |\n",
      "Epoch 82 [100/383] | loss: 0.1604 (avg: 0.0367) | acc: 0.9141 (avg: 0.9387) |\n",
      "Epoch 82 [200/383] | loss: 0.1338 (avg: 0.0722) | acc: 0.9297 (avg: 0.9385) |\n",
      "Epoch 82 [300/383] | loss: 0.1592 (avg: 0.1083) | acc: 0.9062 (avg: 0.9380) |\n"
     ]
    },
    {
     "name": "stderr",
     "output_type": "stream",
     "text": [
      "[eval] 1000/1000: 100%|██████████| 1000/1000 [03:15<00:00,  5.13it/s, acc_nat=0.844, acc_rob=0.468]\n"
     ]
    },
    {
     "name": "stdout",
     "output_type": "stream",
     "text": [
      "Epoch 83 [0/383] | loss: 0.1604 (avg: 0.0004) | acc: 0.9375 (avg: 0.9375) |\n",
      "Epoch 83 [100/383] | loss: 0.1419 (avg: 0.0358) | acc: 0.9297 (avg: 0.9394) |\n",
      "Epoch 83 [200/383] | loss: 0.1233 (avg: 0.0703) | acc: 0.9375 (avg: 0.9394) |\n",
      "Epoch 83 [300/383] | loss: 0.1047 (avg: 0.1047) | acc: 0.9609 (avg: 0.9397) |\n"
     ]
    },
    {
     "name": "stderr",
     "output_type": "stream",
     "text": [
      "[eval] 1000/1000: 100%|██████████| 1000/1000 [03:16<00:00,  5.08it/s, acc_nat=0.859, acc_rob=0.481]\n"
     ]
    },
    {
     "name": "stdout",
     "output_type": "stream",
     "text": [
      "Epoch 84 [0/383] | loss: 0.1141 (avg: 0.0003) | acc: 0.9609 (avg: 0.9609) |\n",
      "Epoch 84 [100/383] | loss: 0.1372 (avg: 0.0348) | acc: 0.9453 (avg: 0.9423) |\n",
      "Epoch 84 [200/383] | loss: 0.1739 (avg: 0.0693) | acc: 0.9453 (avg: 0.9416) |\n",
      "Epoch 84 [300/383] | loss: 0.1046 (avg: 0.1019) | acc: 0.9609 (avg: 0.9427) |\n"
     ]
    },
    {
     "name": "stderr",
     "output_type": "stream",
     "text": [
      "[eval] 1000/1000: 100%|██████████| 1000/1000 [03:20<00:00,  4.98it/s, acc_nat=0.858, acc_rob=0.47]\n"
     ]
    },
    {
     "name": "stdout",
     "output_type": "stream",
     "text": [
      "Epoch 85 [0/383] | loss: 0.1206 (avg: 0.0003) | acc: 0.9375 (avg: 0.9375) |\n",
      "Epoch 85 [100/383] | loss: 0.1522 (avg: 0.0329) | acc: 0.9219 (avg: 0.9434) |\n",
      "Epoch 85 [200/383] | loss: 0.1040 (avg: 0.0666) | acc: 0.9531 (avg: 0.9428) |\n",
      "Epoch 85 [300/383] | loss: 0.1255 (avg: 0.0988) | acc: 0.9453 (avg: 0.9434) |\n"
     ]
    },
    {
     "name": "stderr",
     "output_type": "stream",
     "text": [
      "[eval] 1000/1000: 100%|██████████| 1000/1000 [03:17<00:00,  5.06it/s, acc_nat=0.847, acc_rob=0.477]\n"
     ]
    },
    {
     "name": "stdout",
     "output_type": "stream",
     "text": [
      "Epoch 86 [0/383] | loss: 0.1131 (avg: 0.0003) | acc: 0.9531 (avg: 0.9531) |\n",
      "Epoch 86 [100/383] | loss: 0.1177 (avg: 0.0329) | acc: 0.9453 (avg: 0.9442) |\n",
      "Epoch 86 [200/383] | loss: 0.1206 (avg: 0.0656) | acc: 0.9219 (avg: 0.9440) |\n",
      "Epoch 86 [300/383] | loss: 0.1179 (avg: 0.0978) | acc: 0.9453 (avg: 0.9436) |\n"
     ]
    },
    {
     "name": "stderr",
     "output_type": "stream",
     "text": [
      "[eval] 1000/1000: 100%|██████████| 1000/1000 [03:18<00:00,  5.03it/s, acc_nat=0.848, acc_rob=0.468]\n"
     ]
    },
    {
     "name": "stdout",
     "output_type": "stream",
     "text": [
      "Epoch 87 [0/383] | loss: 0.1246 (avg: 0.0003) | acc: 0.9375 (avg: 0.9375) |\n",
      "Epoch 87 [100/383] | loss: 0.0887 (avg: 0.0318) | acc: 0.9375 (avg: 0.9456) |\n",
      "Epoch 87 [200/383] | loss: 0.0882 (avg: 0.0630) | acc: 0.9688 (avg: 0.9461) |\n",
      "Epoch 87 [300/383] | loss: 0.1209 (avg: 0.0962) | acc: 0.9375 (avg: 0.9443) |\n"
     ]
    },
    {
     "name": "stderr",
     "output_type": "stream",
     "text": [
      "[eval] 1000/1000: 100%|██████████| 1000/1000 [03:16<00:00,  5.09it/s, acc_nat=0.861, acc_rob=0.47]\n"
     ]
    },
    {
     "name": "stdout",
     "output_type": "stream",
     "text": [
      "Epoch 88 [0/383] | loss: 0.1117 (avg: 0.0003) | acc: 0.9453 (avg: 0.9453) |\n",
      "Epoch 88 [100/383] | loss: 0.1072 (avg: 0.0313) | acc: 0.9531 (avg: 0.9473) |\n",
      "Epoch 88 [200/383] | loss: 0.1137 (avg: 0.0625) | acc: 0.9531 (avg: 0.9462) |\n",
      "Epoch 88 [300/383] | loss: 0.1179 (avg: 0.0936) | acc: 0.9375 (avg: 0.9463) |\n"
     ]
    },
    {
     "name": "stderr",
     "output_type": "stream",
     "text": [
      "[eval] 1000/1000: 100%|██████████| 1000/1000 [03:17<00:00,  5.07it/s, acc_nat=0.855, acc_rob=0.478]\n"
     ]
    },
    {
     "name": "stdout",
     "output_type": "stream",
     "text": [
      "Epoch 89 [0/383] | loss: 0.1063 (avg: 0.0003) | acc: 0.9609 (avg: 0.9609) |\n",
      "Epoch 89 [100/383] | loss: 0.1288 (avg: 0.0299) | acc: 0.9297 (avg: 0.9482) |\n",
      "Epoch 89 [200/383] | loss: 0.2039 (avg: 0.0596) | acc: 0.9062 (avg: 0.9493) |\n",
      "Epoch 89 [300/383] | loss: 0.0975 (avg: 0.0895) | acc: 0.9531 (avg: 0.9490) |\n"
     ]
    },
    {
     "name": "stderr",
     "output_type": "stream",
     "text": [
      "[eval] 1000/1000: 100%|██████████| 1000/1000 [03:18<00:00,  5.05it/s, acc_nat=0.85, acc_rob=0.464]\n"
     ]
    },
    {
     "name": "stdout",
     "output_type": "stream",
     "text": [
      "Epoch 90 [0/383] | loss: 0.0587 (avg: 0.0002) | acc: 0.9766 (avg: 0.9766) |\n",
      "Epoch 90 [100/383] | loss: 0.1277 (avg: 0.0290) | acc: 0.9609 (avg: 0.9512) |\n",
      "Epoch 90 [200/383] | loss: 0.0756 (avg: 0.0570) | acc: 0.9688 (avg: 0.9510) |\n",
      "Epoch 90 [300/383] | loss: 0.0874 (avg: 0.0870) | acc: 0.9609 (avg: 0.9500) |\n"
     ]
    },
    {
     "name": "stderr",
     "output_type": "stream",
     "text": [
      "[eval] 1000/1000: 100%|██████████| 1000/1000 [03:18<00:00,  5.04it/s, acc_nat=0.851, acc_rob=0.462]\n"
     ]
    },
    {
     "name": "stdout",
     "output_type": "stream",
     "text": [
      "Epoch 91 [0/383] | loss: 0.1589 (avg: 0.0004) | acc: 0.9219 (avg: 0.9219) |\n",
      "Epoch 91 [100/383] | loss: 0.1341 (avg: 0.0283) | acc: 0.9062 (avg: 0.9512) |\n",
      "Epoch 91 [200/383] | loss: 0.0969 (avg: 0.0574) | acc: 0.9609 (avg: 0.9502) |\n",
      "Epoch 91 [300/383] | loss: 0.0833 (avg: 0.0853) | acc: 0.9688 (avg: 0.9506) |\n"
     ]
    },
    {
     "name": "stderr",
     "output_type": "stream",
     "text": [
      "[eval] 1000/1000: 100%|██████████| 1000/1000 [03:19<00:00,  5.02it/s, acc_nat=0.85, acc_rob=0.487]\n"
     ]
    },
    {
     "name": "stdout",
     "output_type": "stream",
     "text": [
      "Epoch 92 [0/383] | loss: 0.1482 (avg: 0.0004) | acc: 0.9141 (avg: 0.9141) |\n",
      "Epoch 92 [100/383] | loss: 0.1253 (avg: 0.0295) | acc: 0.9609 (avg: 0.9493) |\n",
      "Epoch 92 [200/383] | loss: 0.0890 (avg: 0.0573) | acc: 0.9609 (avg: 0.9510) |\n",
      "Epoch 92 [300/383] | loss: 0.0905 (avg: 0.0854) | acc: 0.9531 (avg: 0.9516) |\n"
     ]
    },
    {
     "name": "stderr",
     "output_type": "stream",
     "text": [
      "[eval] 1000/1000: 100%|██████████| 1000/1000 [03:17<00:00,  5.07it/s, acc_nat=0.851, acc_rob=0.47]\n"
     ]
    },
    {
     "name": "stdout",
     "output_type": "stream",
     "text": [
      "Epoch 93 [0/383] | loss: 0.0867 (avg: 0.0002) | acc: 0.9688 (avg: 0.9688) |\n",
      "Epoch 93 [100/383] | loss: 0.1127 (avg: 0.0276) | acc: 0.9297 (avg: 0.9539) |\n",
      "Epoch 93 [200/383] | loss: 0.0861 (avg: 0.0567) | acc: 0.9844 (avg: 0.9504) |\n",
      "Epoch 93 [300/383] | loss: 0.0897 (avg: 0.0840) | acc: 0.9531 (avg: 0.9510) |\n"
     ]
    },
    {
     "name": "stderr",
     "output_type": "stream",
     "text": [
      "[eval] 1000/1000: 100%|██████████| 1000/1000 [03:19<00:00,  5.01it/s, acc_nat=0.855, acc_rob=0.466]\n"
     ]
    },
    {
     "name": "stdout",
     "output_type": "stream",
     "text": [
      "Epoch 94 [0/383] | loss: 0.1090 (avg: 0.0003) | acc: 0.9531 (avg: 0.9531) |\n",
      "Epoch 94 [100/383] | loss: 0.1295 (avg: 0.0297) | acc: 0.9453 (avg: 0.9477) |\n",
      "Epoch 94 [200/383] | loss: 0.1151 (avg: 0.0579) | acc: 0.9531 (avg: 0.9489) |\n",
      "Epoch 94 [300/383] | loss: 0.0802 (avg: 0.0855) | acc: 0.9531 (avg: 0.9495) |\n"
     ]
    },
    {
     "name": "stderr",
     "output_type": "stream",
     "text": [
      "[eval] 1000/1000: 100%|██████████| 1000/1000 [03:21<00:00,  4.96it/s, acc_nat=0.857, acc_rob=0.47]\n"
     ]
    },
    {
     "name": "stdout",
     "output_type": "stream",
     "text": [
      "Epoch 95 [0/383] | loss: 0.0979 (avg: 0.0003) | acc: 0.9531 (avg: 0.9531) |\n",
      "Epoch 95 [100/383] | loss: 0.1078 (avg: 0.0279) | acc: 0.9453 (avg: 0.9520) |\n",
      "Epoch 95 [200/383] | loss: 0.0612 (avg: 0.0558) | acc: 0.9688 (avg: 0.9525) |\n",
      "Epoch 95 [300/383] | loss: 0.0843 (avg: 0.0836) | acc: 0.9609 (avg: 0.9521) |\n"
     ]
    },
    {
     "name": "stderr",
     "output_type": "stream",
     "text": [
      "[eval] 1000/1000: 100%|██████████| 1000/1000 [03:21<00:00,  4.96it/s, acc_nat=0.855, acc_rob=0.451]\n"
     ]
    },
    {
     "name": "stdout",
     "output_type": "stream",
     "text": [
      "Epoch 96 [0/383] | loss: 0.0834 (avg: 0.0002) | acc: 0.9609 (avg: 0.9609) |\n",
      "Epoch 96 [100/383] | loss: 0.1293 (avg: 0.0282) | acc: 0.9531 (avg: 0.9497) |\n",
      "Epoch 96 [200/383] | loss: 0.0804 (avg: 0.0566) | acc: 0.9375 (avg: 0.9495) |\n",
      "Epoch 96 [300/383] | loss: 0.1041 (avg: 0.0835) | acc: 0.9609 (avg: 0.9511) |\n"
     ]
    },
    {
     "name": "stderr",
     "output_type": "stream",
     "text": [
      "[eval] 1000/1000: 100%|██████████| 1000/1000 [03:19<00:00,  5.02it/s, acc_nat=0.844, acc_rob=0.455]\n"
     ]
    },
    {
     "name": "stdout",
     "output_type": "stream",
     "text": [
      "Epoch 97 [0/383] | loss: 0.0853 (avg: 0.0002) | acc: 0.9688 (avg: 0.9688) |\n",
      "Epoch 97 [100/383] | loss: 0.1831 (avg: 0.0288) | acc: 0.9141 (avg: 0.9484) |\n",
      "Epoch 97 [200/383] | loss: 0.0926 (avg: 0.0551) | acc: 0.9609 (avg: 0.9510) |\n",
      "Epoch 97 [300/383] | loss: 0.0850 (avg: 0.0834) | acc: 0.9609 (avg: 0.9509) |\n"
     ]
    },
    {
     "name": "stderr",
     "output_type": "stream",
     "text": [
      "[eval] 1000/1000: 100%|██████████| 1000/1000 [03:20<00:00,  5.00it/s, acc_nat=0.855, acc_rob=0.456]\n"
     ]
    },
    {
     "name": "stdout",
     "output_type": "stream",
     "text": [
      "Epoch 98 [0/383] | loss: 0.0703 (avg: 0.0002) | acc: 0.9609 (avg: 0.9609) |\n",
      "Epoch 98 [100/383] | loss: 0.0727 (avg: 0.0274) | acc: 0.9688 (avg: 0.9516) |\n",
      "Epoch 98 [200/383] | loss: 0.0832 (avg: 0.0557) | acc: 0.9609 (avg: 0.9506) |\n",
      "Epoch 98 [300/383] | loss: 0.0901 (avg: 0.0825) | acc: 0.9766 (avg: 0.9511) |\n"
     ]
    },
    {
     "name": "stderr",
     "output_type": "stream",
     "text": [
      "[eval] 1000/1000: 100%|██████████| 1000/1000 [03:20<00:00,  4.98it/s, acc_nat=0.851, acc_rob=0.475]\n"
     ]
    },
    {
     "name": "stdout",
     "output_type": "stream",
     "text": [
      "Epoch 99 [0/383] | loss: 0.1388 (avg: 0.0004) | acc: 0.9453 (avg: 0.9453) |\n",
      "Epoch 99 [100/383] | loss: 0.0777 (avg: 0.0288) | acc: 0.9609 (avg: 0.9508) |\n",
      "Epoch 99 [200/383] | loss: 0.1344 (avg: 0.0559) | acc: 0.9375 (avg: 0.9518) |\n",
      "Epoch 99 [300/383] | loss: 0.0692 (avg: 0.0832) | acc: 0.9844 (avg: 0.9516) |\n"
     ]
    },
    {
     "name": "stderr",
     "output_type": "stream",
     "text": [
      "[eval] 1000/1000: 100%|██████████| 1000/1000 [03:23<00:00,  4.92it/s, acc_nat=0.852, acc_rob=0.473]\n"
     ]
    }
   ],
   "source": [
    "os.environ['CUDA_VISIBLE_DEVICES'] = gpu\n",
    "os.makedirs(checkpoint, exist_ok=True)\n",
    "\n",
    "train_transform = transforms.Compose([\n",
    "    transforms.RandomCrop(32, padding=4),\n",
    "    transforms.RandomHorizontalFlip(),\n",
    "    transforms.ToTensor()])\n",
    "train_dataset, _ = get_dataloader(dataset, batch_size)\n",
    "num_samples = len(train_dataset)\n",
    "num_samples_for_train = int(num_samples * 0.98)\n",
    "num_samples_for_valid = num_samples - num_samples_for_train\n",
    "train_set, valid_set = random_split(train_dataset, [num_samples_for_train, num_samples_for_valid])\n",
    "train_dataloader = DataLoader(train_set, batch_size=batch_size, shuffle=True, drop_last=False)\n",
    "valid_dataloader = DataLoader(valid_set, batch_size=1, shuffle=True, drop_last=False)\n",
    "\n",
    "model = nn.DataParallel(get_network(model_type, num_classes).cuda())\n",
    "optimizer = optim.SGD(model.parameters(),lr=lr, momentum=momentum)\n",
    "\n",
    "scheduler = [75, 90]\n",
    "adjust_learning_rate = lr_scheduler.MultiStepLR(optimizer, scheduler, gamma=0.1)\n",
    "best_acc_nat, best_acc_rob = 0, 0\n",
    "\n",
    "for epoch in range(total_epochs):\n",
    "    training(epoch, model, train_dataloader, optimizer, num_classes, epsilon, alpha, num_repeats)\n",
    "    test_acc_nat, test_acc_rob = evaluation(epoch, model, valid_dataloader, alpha, epsilon, num_repeats)\n",
    "        \n",
    "    is_best = best_acc_nat < test_acc_nat and best_acc_rob < test_acc_rob\n",
    "    best_acc_nat = max(best_acc_nat, test_acc_nat)\n",
    "    best_acc_rob = max(best_acc_rob, test_acc_rob)\n",
    "    save_checkpoint = {'state_dict': model.state_dict(),\n",
    "                       'best_acc_nat': best_acc_nat,\n",
    "                       'best_acc_rob': best_acc_rob,\n",
    "                       'optimizer': optimizer.state_dict(),\n",
    "                       'model_type': model_type,\n",
    "                       'dataset': dataset}\n",
    "    torch.save(save_checkpoint, os.path.join(checkpoint, 'model'))\n",
    "    if is_best:\n",
    "        torch.save(save_checkpoint, os.path.join(checkpoint, 'best_model'))\n",
    "    adjust_learning_rate.step()"
   ]
  },
  {
   "cell_type": "code",
   "execution_count": null,
   "id": "67273057-ddb6-4294-b7ae-3aa932ab0cea",
   "metadata": {},
   "outputs": [],
   "source": []
  },
  {
   "cell_type": "code",
   "execution_count": null,
   "id": "f947e7ac-aa8a-4144-9e3a-bf7eb3e079a6",
   "metadata": {},
   "outputs": [],
   "source": []
  }
 ],
 "metadata": {
  "kernelspec": {
   "display_name": "Python 3",
   "language": "python",
   "name": "python3"
  },
  "language_info": {
   "codemirror_mode": {
    "name": "ipython",
    "version": 3
   },
   "file_extension": ".py",
   "mimetype": "text/x-python",
   "name": "python",
   "nbconvert_exporter": "python",
   "pygments_lexer": "ipython3",
   "version": "3.6.9"
  }
 },
 "nbformat": 4,
 "nbformat_minor": 5
}
