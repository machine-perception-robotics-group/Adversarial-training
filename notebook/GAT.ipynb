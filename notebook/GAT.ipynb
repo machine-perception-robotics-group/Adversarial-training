{
 "cells": [
  {
   "cell_type": "markdown",
   "id": "be933234-4b51-41a5-a5a0-9b831b916f96",
   "metadata": {
    "tags": []
   },
   "source": [
    "# Guided Adversarial Training (GAT)"
   ]
  },
  {
   "cell_type": "code",
   "execution_count": 1,
   "id": "85eb3db2-6a80-4e98-8a62-4fd714fc9189",
   "metadata": {},
   "outputs": [],
   "source": [
    "import os\n",
    "import sys\n",
    "sys.path.append('..')\n",
    "import yaml\n",
    "import shutil\n",
    "import argparse\n",
    "import numpy as np\n",
    "from tqdm import tqdm\n",
    "from collections import OrderedDict\n",
    "\n",
    "import torch\n",
    "import torch.nn as nn\n",
    "import torch.nn.functional as F\n",
    "import torch.optim as optim\n",
    "from torch.optim import lr_scheduler\n",
    "from torch.utils.data import DataLoader, random_split\n",
    "\n",
    "from utils import *"
   ]
  },
  {
   "cell_type": "markdown",
   "id": "66240c81-1be4-4a34-af22-21a6292e0ff9",
   "metadata": {},
   "source": [
    "## Parameter setting"
   ]
  },
  {
   "cell_type": "code",
   "execution_count": 2,
   "id": "01de849e-a804-4062-aef7-4cfcd5999b2c",
   "metadata": {},
   "outputs": [],
   "source": [
    "gpu = '0,1,2,3'\n",
    "dataset = 'cifar10'\n",
    "model_type = 'wrn34-10'\n",
    "checkpoint = './checkpoint/gat/%s/%s' % (model_type, dataset)\n",
    "num_classes = 10\n",
    "lr = 0.1\n",
    "momentum = 0.9\n",
    "weight_decay = 5e-4\n",
    "batch_size = 128\n",
    "total_epochs = 100\n",
    "lam = 3.0 # ResNet-18 10.0\n",
    "step_up = 20.0 # ResNet-18 4.0\n",
    "epsilon = 8/255\n",
    "alpha = 2/255\n",
    "num_repeats = 1"
   ]
  },
  {
   "cell_type": "markdown",
   "id": "8c102405-4d46-45e0-b957-9e7022b7ae2f",
   "metadata": {},
   "source": [
    "## Inner maximization"
   ]
  },
  {
   "cell_type": "code",
   "execution_count": 3,
   "id": "2ee44a0f-0acc-41c3-95a0-e477e167e679",
   "metadata": {},
   "outputs": [],
   "source": [
    "def inner_max(model, xent, inputs, targets, epsilon, lam, num_repeats, alt):\n",
    "    bern = torch.bernoulli(torch.empty(inputs.shape).uniform_(0, 1))\n",
    "    delta = torch.where(bern==0, -epsilon/2, epsilon/2).cuda()\n",
    "    x = torch.clamp(inputs + delta, min=0, max=1)\n",
    "    epsilon = epsilon/num_repeats\n",
    "    for _ in range(num_repeats):\n",
    "        x.requires_grad_()\n",
    "        logits_nat = model(inputs)\n",
    "        logits_adv = model(x)\n",
    "        prob_nat = logits_nat.softmax(dim=-1)\n",
    "        prob_adv = logits_adv.softmax(dim=-1)\n",
    "        loss = xent(logits_adv, targets) + alt*lam*torch.sum((prob_adv-prob_nat)**2, dim=1).mean(dim=0)\n",
    "        loss.backward()\n",
    "        grads = x.grad.data\n",
    "        x = x.detach() + epsilon*torch.sign(grads).detach()\n",
    "        #x = torch.min(torch.max(x, inputs-epsilon), inputs+epsilon).clamp(min=0, max=1)\n",
    "        x = torch.clamp(x, min=0, max=1)\n",
    "    return x"
   ]
  },
  {
   "cell_type": "markdown",
   "id": "afe2591b-4ebf-4714-a3f4-85cdac7f272d",
   "metadata": {},
   "source": [
    "## Training (Outer minimization)"
   ]
  },
  {
   "cell_type": "code",
   "execution_count": 4,
   "id": "db2276c9-d52b-4544-8448-42817161084d",
   "metadata": {},
   "outputs": [],
   "source": [
    "def training(epoch, model, dataloader, optimizer, num_classes, epsilon=8/255, lam=10, num_repeats=1):\n",
    "    model.train()\n",
    "    counter = 0\n",
    "    total = 0\n",
    "    total_loss = 0\n",
    "    total_correct = 0\n",
    "        \n",
    "    xent = nn.CrossEntropyLoss()\n",
    "    for idx, (inputs, targets) in enumerate(dataloader):\n",
    "        inputs, targets = inputs.cuda(), targets.cuda()\n",
    "        batch = inputs.size(0)\n",
    "        \n",
    "        x = inner_max(model, xent, inputs, targets, epsilon, lam, num_repeats, alt=counter%2)\n",
    "        logits_nat = model(inputs)\n",
    "        logits_adv = model(x)\n",
    "        \n",
    "        prob_nat = logits_nat.softmax(dim=1)\n",
    "        prob_adv = logits_adv.softmax(dim=1)\n",
    "        loss = xent(logits_nat, targets) + lam*torch.sum((prob_adv-prob_nat)**2, dim=1).mean(dim=0)\n",
    "        \n",
    "        optimizer.zero_grad()\n",
    "        loss.backward()\n",
    "        optimizer.step()\n",
    "            \n",
    "        total += batch\n",
    "        total_loss += loss.item()\n",
    "        num_correct = torch.argmax(logits_adv.data, dim=1).eq(targets.data).cpu().sum().item()\n",
    "        total_correct += num_correct\n",
    "        \n",
    "        counter = counter + 1\n",
    "        \n",
    "        if idx % 100 == 0:\n",
    "            print('Epoch %d [%d/%d] | loss: %.4f (avg: %.4f) | acc: %.4f (avg: %.4f) |'\\\n",
    "                  % (epoch, idx, len(dataloader), loss.item(), total_loss/(idx+1),\n",
    "                     num_correct/batch, total_correct/total))"
   ]
  },
  {
   "cell_type": "code",
   "execution_count": 5,
   "id": "2ff1c8d2-8e9c-441c-b471-9eb237eb3bf0",
   "metadata": {},
   "outputs": [],
   "source": [
    "def evaluation(epoch, model, dataloader, alpha, epsilon, num_repeats):\n",
    "    model.eval()\n",
    "    total_correct_nat = 0\n",
    "    total_correct_adv = 0\n",
    "    \n",
    "    xent = nn.CrossEntropyLoss()\n",
    "    with tqdm(dataloader) as pbar:\n",
    "        for index, (inputs, targets) in enumerate(pbar):\n",
    "            inputs, targets = inputs.cuda(), targets.cuda()\n",
    "            batch = inputs.size(0)\n",
    "            pbar.set_description(\"[eval] %d/%d\" % (index+1, len(dataloader.dataset)))\n",
    "        \n",
    "            noise = torch.FloatTensor(inputs.shape).uniform_(-epsilon,epsilon).cuda()\n",
    "            x = torch.clamp(inputs+noise, min=0, max=1)\n",
    "            for _ in range(num_repeats):\n",
    "                x.requires_grad_()\n",
    "                logits = model(x)\n",
    "                loss = xent(logits, targets)\n",
    "                loss.backward()\n",
    "                grads = x.grad.data\n",
    "                x = x.detach() + alpha*torch.sign(grads).detach()\n",
    "                x = torch.min(torch.max(x, inputs - epsilon), inputs + epsilon).clamp(min=0, max=1)\n",
    "        \n",
    "            with torch.no_grad():\n",
    "                logits_nat = model(inputs)\n",
    "                logits_adv = model(x)\n",
    "        \n",
    "            total_correct_nat += torch.argmax(logits_nat.data, dim=1).eq(targets.data).cpu().sum().item()\n",
    "            total_correct_adv += torch.argmax(logits_adv.data, dim=1).eq(targets.data).cpu().sum().item()\n",
    "            pbar.set_postfix(OrderedDict(acc_nat=total_correct_nat / len(dataloader.dataset),\n",
    "                                         acc_rob=total_correct_adv / len(dataloader.dataset)))\n",
    "        \n",
    "    return (total_correct_nat / len(dataloader.dataset)), (total_correct_adv / len(dataloader.dataset))"
   ]
  },
  {
   "cell_type": "code",
   "execution_count": 6,
   "id": "208f000e-cb35-4ad5-93d5-fe47f788b266",
   "metadata": {
    "tags": []
   },
   "outputs": [
    {
     "name": "stdout",
     "output_type": "stream",
     "text": [
      "Files already downloaded and verified\n",
      "Files already downloaded and verified\n",
      "Epoch 0 [0/383] | loss: 2.3218 (avg: 2.3218) | acc: 0.0625 (avg: 0.0625) |\n",
      "Epoch 0 [100/383] | loss: 1.7272 (avg: 2.0287) | acc: 0.1719 (avg: 0.1407) |\n",
      "Epoch 0 [200/383] | loss: 1.7385 (avg: 1.8983) | acc: 0.1797 (avg: 0.1538) |\n",
      "Epoch 0 [300/383] | loss: 1.6398 (avg: 1.8149) | acc: 0.1797 (avg: 0.1655) |\n"
     ]
    },
    {
     "name": "stderr",
     "output_type": "stream",
     "text": [
      "[eval] 1000/1000: 100%|██████████| 1000/1000 [03:43<00:00,  4.48it/s, acc_nat=0.495, acc_rob=0.161]\n"
     ]
    },
    {
     "name": "stdout",
     "output_type": "stream",
     "text": [
      "Epoch 1 [0/383] | loss: 1.5420 (avg: 1.5420) | acc: 0.2109 (avg: 0.2109) |\n",
      "Epoch 1 [100/383] | loss: 1.5591 (avg: 1.5026) | acc: 0.1797 (avg: 0.2125) |\n",
      "Epoch 1 [200/383] | loss: 1.4320 (avg: 1.4822) | acc: 0.2422 (avg: 0.2205) |\n",
      "Epoch 1 [300/383] | loss: 1.2705 (avg: 1.4561) | acc: 0.3281 (avg: 0.2289) |\n"
     ]
    },
    {
     "name": "stderr",
     "output_type": "stream",
     "text": [
      "[eval] 1000/1000: 100%|██████████| 1000/1000 [03:42<00:00,  4.49it/s, acc_nat=0.604, acc_rob=0.228]\n"
     ]
    },
    {
     "name": "stdout",
     "output_type": "stream",
     "text": [
      "Epoch 2 [0/383] | loss: 1.3840 (avg: 1.3840) | acc: 0.2734 (avg: 0.2734) |\n",
      "Epoch 2 [100/383] | loss: 1.3693 (avg: 1.3468) | acc: 0.2344 (avg: 0.2577) |\n",
      "Epoch 2 [200/383] | loss: 1.2661 (avg: 1.3257) | acc: 0.3438 (avg: 0.2641) |\n",
      "Epoch 2 [300/383] | loss: 1.2594 (avg: 1.3167) | acc: 0.3516 (avg: 0.2684) |\n"
     ]
    },
    {
     "name": "stderr",
     "output_type": "stream",
     "text": [
      "[eval] 1000/1000: 100%|██████████| 1000/1000 [03:43<00:00,  4.47it/s, acc_nat=0.653, acc_rob=0.208]\n"
     ]
    },
    {
     "name": "stdout",
     "output_type": "stream",
     "text": [
      "Epoch 3 [0/383] | loss: 1.2193 (avg: 1.2193) | acc: 0.3438 (avg: 0.3438) |\n",
      "Epoch 3 [100/383] | loss: 1.2596 (avg: 1.2441) | acc: 0.2578 (avg: 0.2990) |\n",
      "Epoch 3 [200/383] | loss: 1.1169 (avg: 1.2379) | acc: 0.3594 (avg: 0.2973) |\n",
      "Epoch 3 [300/383] | loss: 1.1790 (avg: 1.2298) | acc: 0.3047 (avg: 0.3027) |\n"
     ]
    },
    {
     "name": "stderr",
     "output_type": "stream",
     "text": [
      "[eval] 1000/1000: 100%|██████████| 1000/1000 [03:40<00:00,  4.54it/s, acc_nat=0.67, acc_rob=0.255]\n"
     ]
    },
    {
     "name": "stdout",
     "output_type": "stream",
     "text": [
      "Epoch 4 [0/383] | loss: 1.1630 (avg: 1.1630) | acc: 0.3672 (avg: 0.3672) |\n",
      "Epoch 4 [100/383] | loss: 1.0959 (avg: 1.1847) | acc: 0.3828 (avg: 0.3212) |\n",
      "Epoch 4 [200/383] | loss: 1.1799 (avg: 1.1825) | acc: 0.3672 (avg: 0.3219) |\n",
      "Epoch 4 [300/383] | loss: 1.1574 (avg: 1.1755) | acc: 0.3438 (avg: 0.3276) |\n"
     ]
    },
    {
     "name": "stderr",
     "output_type": "stream",
     "text": [
      "[eval] 1000/1000: 100%|██████████| 1000/1000 [03:26<00:00,  4.84it/s, acc_nat=0.677, acc_rob=0.254]\n"
     ]
    },
    {
     "name": "stdout",
     "output_type": "stream",
     "text": [
      "Epoch 5 [0/383] | loss: 1.1979 (avg: 1.1979) | acc: 0.2891 (avg: 0.2891) |\n",
      "Epoch 5 [100/383] | loss: 1.2044 (avg: 1.1520) | acc: 0.3203 (avg: 0.3397) |\n",
      "Epoch 5 [200/383] | loss: 1.1177 (avg: 1.1469) | acc: 0.3672 (avg: 0.3443) |\n",
      "Epoch 5 [300/383] | loss: 1.1259 (avg: 1.1393) | acc: 0.3203 (avg: 0.3486) |\n"
     ]
    },
    {
     "name": "stderr",
     "output_type": "stream",
     "text": [
      "[eval] 1000/1000: 100%|██████████| 1000/1000 [03:38<00:00,  4.57it/s, acc_nat=0.731, acc_rob=0.333]\n"
     ]
    },
    {
     "name": "stdout",
     "output_type": "stream",
     "text": [
      "Epoch 6 [0/383] | loss: 1.0493 (avg: 1.0493) | acc: 0.4297 (avg: 0.4297) |\n",
      "Epoch 6 [100/383] | loss: 1.1999 (avg: 1.1184) | acc: 0.3125 (avg: 0.3547) |\n",
      "Epoch 6 [200/383] | loss: 1.0483 (avg: 1.1137) | acc: 0.4219 (avg: 0.3578) |\n",
      "Epoch 6 [300/383] | loss: 1.0896 (avg: 1.1090) | acc: 0.3672 (avg: 0.3604) |\n"
     ]
    },
    {
     "name": "stderr",
     "output_type": "stream",
     "text": [
      "[eval] 1000/1000: 100%|██████████| 1000/1000 [03:20<00:00,  4.98it/s, acc_nat=0.727, acc_rob=0.261]\n"
     ]
    },
    {
     "name": "stdout",
     "output_type": "stream",
     "text": [
      "Epoch 7 [0/383] | loss: 1.1132 (avg: 1.1132) | acc: 0.3438 (avg: 0.3438) |\n",
      "Epoch 7 [100/383] | loss: 1.0729 (avg: 1.0897) | acc: 0.3828 (avg: 0.3743) |\n",
      "Epoch 7 [200/383] | loss: 1.0375 (avg: 1.0813) | acc: 0.4297 (avg: 0.3774) |\n",
      "Epoch 7 [300/383] | loss: 1.0006 (avg: 1.0806) | acc: 0.4297 (avg: 0.3775) |\n"
     ]
    },
    {
     "name": "stderr",
     "output_type": "stream",
     "text": [
      "[eval] 1000/1000: 100%|██████████| 1000/1000 [03:17<00:00,  5.05it/s, acc_nat=0.702, acc_rob=0.296]\n"
     ]
    },
    {
     "name": "stdout",
     "output_type": "stream",
     "text": [
      "Epoch 8 [0/383] | loss: 0.9914 (avg: 0.9914) | acc: 0.4141 (avg: 0.4141) |\n",
      "Epoch 8 [100/383] | loss: 1.0770 (avg: 1.0510) | acc: 0.3516 (avg: 0.3926) |\n",
      "Epoch 8 [200/383] | loss: 1.1600 (avg: 1.0539) | acc: 0.3750 (avg: 0.3907) |\n",
      "Epoch 8 [300/383] | loss: 1.0726 (avg: 1.0585) | acc: 0.3438 (avg: 0.3880) |\n"
     ]
    },
    {
     "name": "stderr",
     "output_type": "stream",
     "text": [
      "[eval] 1000/1000: 100%|██████████| 1000/1000 [03:26<00:00,  4.84it/s, acc_nat=0.732, acc_rob=0.307]\n"
     ]
    },
    {
     "name": "stdout",
     "output_type": "stream",
     "text": [
      "Epoch 9 [0/383] | loss: 1.0527 (avg: 1.0527) | acc: 0.3906 (avg: 0.3906) |\n",
      "Epoch 9 [100/383] | loss: 0.9512 (avg: 1.0371) | acc: 0.4688 (avg: 0.4018) |\n",
      "Epoch 9 [200/383] | loss: 1.0361 (avg: 1.0360) | acc: 0.4375 (avg: 0.3990) |\n",
      "Epoch 9 [300/383] | loss: 0.9520 (avg: 1.0353) | acc: 0.4609 (avg: 0.4018) |\n"
     ]
    },
    {
     "name": "stderr",
     "output_type": "stream",
     "text": [
      "[eval] 613/1000:  61%|██████    | 612/1000 [02:02<01:17,  5.00it/s, acc_nat=0.448, acc_rob=0.192]"
     ]
    },
    {
     "name": "stdout",
     "output_type": "stream",
     "text": [
      "Epoch 10 [100/383] | loss: 0.9669 (avg: 1.0080) | acc: 0.4844 (avg: 0.4128) |\n",
      "Epoch 10 [200/383] | loss: 1.0679 (avg: 1.0146) | acc: 0.3750 (avg: 0.4095) |\n",
      "Epoch 10 [300/383] | loss: 1.0227 (avg: 1.0190) | acc: 0.4141 (avg: 0.4072) |\n"
     ]
    },
    {
     "name": "stderr",
     "output_type": "stream",
     "text": [
      "[eval] 1000/1000: 100%|██████████| 1000/1000 [03:26<00:00,  4.84it/s, acc_nat=0.755, acc_rob=0.335]\n"
     ]
    },
    {
     "name": "stdout",
     "output_type": "stream",
     "text": [
      "Epoch 11 [0/383] | loss: 0.9849 (avg: 0.9849) | acc: 0.4297 (avg: 0.4297) |\n",
      "Epoch 11 [100/383] | loss: 1.0314 (avg: 0.9951) | acc: 0.3984 (avg: 0.4211) |\n",
      "Epoch 11 [200/383] | loss: 1.1168 (avg: 1.0000) | acc: 0.3828 (avg: 0.4203) |\n",
      "Epoch 11 [300/383] | loss: 1.0159 (avg: 1.0019) | acc: 0.4297 (avg: 0.4217) |\n"
     ]
    },
    {
     "name": "stderr",
     "output_type": "stream",
     "text": [
      "[eval] 1000/1000: 100%|██████████| 1000/1000 [03:25<00:00,  4.87it/s, acc_nat=0.763, acc_rob=0.337]\n"
     ]
    },
    {
     "name": "stdout",
     "output_type": "stream",
     "text": [
      "Epoch 12 [0/383] | loss: 1.0224 (avg: 1.0224) | acc: 0.3516 (avg: 0.3516) |\n",
      "Epoch 12 [100/383] | loss: 1.0115 (avg: 0.9847) | acc: 0.4297 (avg: 0.4284) |\n",
      "Epoch 12 [200/383] | loss: 0.8910 (avg: 0.9829) | acc: 0.4922 (avg: 0.4328) |\n",
      "Epoch 12 [300/383] | loss: 0.9615 (avg: 0.9849) | acc: 0.4219 (avg: 0.4307) |\n"
     ]
    },
    {
     "name": "stderr",
     "output_type": "stream",
     "text": [
      "[eval] 1000/1000: 100%|██████████| 1000/1000 [03:19<00:00,  5.00it/s, acc_nat=0.765, acc_rob=0.345]\n"
     ]
    },
    {
     "name": "stdout",
     "output_type": "stream",
     "text": [
      "Epoch 13 [0/383] | loss: 1.0571 (avg: 1.0571) | acc: 0.4375 (avg: 0.4375) |\n",
      "Epoch 13 [100/383] | loss: 0.9132 (avg: 0.9629) | acc: 0.5000 (avg: 0.4421) |\n",
      "Epoch 13 [200/383] | loss: 1.1836 (avg: 0.9762) | acc: 0.3672 (avg: 0.4391) |\n",
      "Epoch 13 [300/383] | loss: 1.0493 (avg: 0.9770) | acc: 0.3906 (avg: 0.4356) |\n"
     ]
    },
    {
     "name": "stderr",
     "output_type": "stream",
     "text": [
      "[eval] 1000/1000: 100%|██████████| 1000/1000 [03:21<00:00,  4.97it/s, acc_nat=0.781, acc_rob=0.347]\n"
     ]
    },
    {
     "name": "stdout",
     "output_type": "stream",
     "text": [
      "Epoch 14 [0/383] | loss: 0.9697 (avg: 0.9697) | acc: 0.4453 (avg: 0.4453) |\n",
      "Epoch 14 [100/383] | loss: 0.9100 (avg: 0.9589) | acc: 0.4609 (avg: 0.4453) |\n",
      "Epoch 14 [200/383] | loss: 1.0272 (avg: 0.9638) | acc: 0.4062 (avg: 0.4420) |\n",
      "Epoch 14 [300/383] | loss: 0.9161 (avg: 0.9650) | acc: 0.4609 (avg: 0.4421) |\n"
     ]
    },
    {
     "name": "stderr",
     "output_type": "stream",
     "text": [
      "[eval] 1000/1000: 100%|██████████| 1000/1000 [03:25<00:00,  4.86it/s, acc_nat=0.742, acc_rob=0.329]\n"
     ]
    },
    {
     "name": "stdout",
     "output_type": "stream",
     "text": [
      "Epoch 15 [0/383] | loss: 0.9125 (avg: 0.9125) | acc: 0.4922 (avg: 0.4922) |\n",
      "Epoch 15 [100/383] | loss: 0.9699 (avg: 0.9421) | acc: 0.4531 (avg: 0.4551) |\n",
      "Epoch 15 [200/383] | loss: 0.8893 (avg: 0.9476) | acc: 0.5156 (avg: 0.4500) |\n",
      "Epoch 15 [300/383] | loss: 0.9531 (avg: 0.9494) | acc: 0.4297 (avg: 0.4497) |\n"
     ]
    },
    {
     "name": "stderr",
     "output_type": "stream",
     "text": [
      "[eval] 1000/1000: 100%|██████████| 1000/1000 [03:40<00:00,  4.54it/s, acc_nat=0.771, acc_rob=0.358]\n"
     ]
    },
    {
     "name": "stdout",
     "output_type": "stream",
     "text": [
      "Epoch 16 [0/383] | loss: 0.8615 (avg: 0.8615) | acc: 0.5078 (avg: 0.5078) |\n",
      "Epoch 16 [100/383] | loss: 0.9359 (avg: 0.9525) | acc: 0.4219 (avg: 0.4456) |\n",
      "Epoch 16 [200/383] | loss: 0.8848 (avg: 0.9547) | acc: 0.5078 (avg: 0.4424) |\n",
      "Epoch 16 [300/383] | loss: 1.0221 (avg: 0.9607) | acc: 0.3828 (avg: 0.4396) |\n"
     ]
    },
    {
     "name": "stderr",
     "output_type": "stream",
     "text": [
      "[eval] 1000/1000: 100%|██████████| 1000/1000 [03:24<00:00,  4.88it/s, acc_nat=0.759, acc_rob=0.363]\n"
     ]
    },
    {
     "name": "stdout",
     "output_type": "stream",
     "text": [
      "Epoch 17 [0/383] | loss: 0.9548 (avg: 0.9548) | acc: 0.4297 (avg: 0.4297) |\n",
      "Epoch 17 [100/383] | loss: 0.9265 (avg: 0.9386) | acc: 0.4531 (avg: 0.4482) |\n",
      "Epoch 17 [200/383] | loss: 1.0066 (avg: 0.9491) | acc: 0.4062 (avg: 0.4457) |\n",
      "Epoch 17 [300/383] | loss: 1.0232 (avg: 0.9519) | acc: 0.3906 (avg: 0.4440) |\n"
     ]
    },
    {
     "name": "stderr",
     "output_type": "stream",
     "text": [
      "[eval] 1000/1000: 100%|██████████| 1000/1000 [03:22<00:00,  4.94it/s, acc_nat=0.764, acc_rob=0.386]\n"
     ]
    },
    {
     "name": "stdout",
     "output_type": "stream",
     "text": [
      "Epoch 18 [0/383] | loss: 0.9971 (avg: 0.9971) | acc: 0.3984 (avg: 0.3984) |\n",
      "Epoch 18 [100/383] | loss: 1.0029 (avg: 0.9386) | acc: 0.3906 (avg: 0.4476) |\n",
      "Epoch 18 [200/383] | loss: 1.0188 (avg: 0.9456) | acc: 0.4375 (avg: 0.4449) |\n",
      "Epoch 18 [300/383] | loss: 0.9446 (avg: 0.9484) | acc: 0.4141 (avg: 0.4449) |\n"
     ]
    },
    {
     "name": "stderr",
     "output_type": "stream",
     "text": [
      "[eval] 1000/1000: 100%|██████████| 1000/1000 [03:16<00:00,  5.08it/s, acc_nat=0.785, acc_rob=0.384]\n"
     ]
    },
    {
     "name": "stdout",
     "output_type": "stream",
     "text": [
      "Epoch 19 [0/383] | loss: 0.9531 (avg: 0.9531) | acc: 0.4297 (avg: 0.4297) |\n",
      "Epoch 19 [100/383] | loss: 0.9467 (avg: 0.9297) | acc: 0.4688 (avg: 0.4508) |\n",
      "Epoch 19 [200/383] | loss: 0.8833 (avg: 0.9374) | acc: 0.4766 (avg: 0.4489) |\n",
      "Epoch 19 [300/383] | loss: 0.8943 (avg: 0.9394) | acc: 0.4688 (avg: 0.4490) |\n"
     ]
    },
    {
     "name": "stderr",
     "output_type": "stream",
     "text": [
      "[eval] 1000/1000: 100%|██████████| 1000/1000 [03:19<00:00,  5.01it/s, acc_nat=0.798, acc_rob=0.381]\n"
     ]
    },
    {
     "name": "stdout",
     "output_type": "stream",
     "text": [
      "Epoch 20 [0/383] | loss: 0.9543 (avg: 0.9543) | acc: 0.4141 (avg: 0.4141) |\n",
      "Epoch 20 [100/383] | loss: 0.9528 (avg: 0.9255) | acc: 0.4219 (avg: 0.4548) |\n",
      "Epoch 20 [200/383] | loss: 0.9631 (avg: 0.9251) | acc: 0.4688 (avg: 0.4572) |\n",
      "Epoch 20 [300/383] | loss: 1.0699 (avg: 0.9311) | acc: 0.3750 (avg: 0.4558) |\n"
     ]
    },
    {
     "name": "stderr",
     "output_type": "stream",
     "text": [
      "[eval] 1000/1000: 100%|██████████| 1000/1000 [03:18<00:00,  5.05it/s, acc_nat=0.781, acc_rob=0.386]\n"
     ]
    },
    {
     "name": "stdout",
     "output_type": "stream",
     "text": [
      "Epoch 21 [0/383] | loss: 0.7477 (avg: 0.7477) | acc: 0.5469 (avg: 0.5469) |\n",
      "Epoch 21 [100/383] | loss: 0.9549 (avg: 0.9187) | acc: 0.4375 (avg: 0.4571) |\n",
      "Epoch 21 [200/383] | loss: 0.9297 (avg: 0.9206) | acc: 0.4688 (avg: 0.4583) |\n",
      "Epoch 21 [300/383] | loss: 0.9706 (avg: 0.9264) | acc: 0.4531 (avg: 0.4573) |\n"
     ]
    },
    {
     "name": "stderr",
     "output_type": "stream",
     "text": [
      "[eval] 1000/1000: 100%|██████████| 1000/1000 [03:18<00:00,  5.04it/s, acc_nat=0.795, acc_rob=0.369]\n"
     ]
    },
    {
     "name": "stdout",
     "output_type": "stream",
     "text": [
      "Epoch 22 [0/383] | loss: 0.9777 (avg: 0.9777) | acc: 0.3359 (avg: 0.3359) |\n",
      "Epoch 22 [100/383] | loss: 0.8762 (avg: 0.9122) | acc: 0.4688 (avg: 0.4584) |\n",
      "Epoch 22 [200/383] | loss: 0.8166 (avg: 0.9131) | acc: 0.5391 (avg: 0.4611) |\n",
      "Epoch 22 [300/383] | loss: 0.9634 (avg: 0.9151) | acc: 0.4219 (avg: 0.4620) |\n"
     ]
    },
    {
     "name": "stderr",
     "output_type": "stream",
     "text": [
      "[eval] 1000/1000: 100%|██████████| 1000/1000 [03:22<00:00,  4.94it/s, acc_nat=0.76, acc_rob=0.344]\n"
     ]
    },
    {
     "name": "stdout",
     "output_type": "stream",
     "text": [
      "Epoch 23 [0/383] | loss: 0.8847 (avg: 0.8847) | acc: 0.5000 (avg: 0.5000) |\n",
      "Epoch 23 [100/383] | loss: 0.9390 (avg: 0.9006) | acc: 0.4531 (avg: 0.4691) |\n",
      "Epoch 23 [200/383] | loss: 0.8734 (avg: 0.9027) | acc: 0.4531 (avg: 0.4702) |\n",
      "Epoch 23 [300/383] | loss: 0.8930 (avg: 0.9113) | acc: 0.4609 (avg: 0.4653) |\n"
     ]
    },
    {
     "name": "stderr",
     "output_type": "stream",
     "text": [
      "[eval] 1000/1000: 100%|██████████| 1000/1000 [03:24<00:00,  4.90it/s, acc_nat=0.794, acc_rob=0.4]\n"
     ]
    },
    {
     "name": "stdout",
     "output_type": "stream",
     "text": [
      "Epoch 24 [0/383] | loss: 0.9530 (avg: 0.9530) | acc: 0.4297 (avg: 0.4297) |\n",
      "Epoch 24 [100/383] | loss: 0.9556 (avg: 0.9010) | acc: 0.4297 (avg: 0.4768) |\n",
      "Epoch 24 [200/383] | loss: 0.8289 (avg: 0.9088) | acc: 0.5156 (avg: 0.4693) |\n",
      "Epoch 24 [300/383] | loss: 0.9942 (avg: 0.9119) | acc: 0.4375 (avg: 0.4684) |\n"
     ]
    },
    {
     "name": "stderr",
     "output_type": "stream",
     "text": [
      "[eval] 1000/1000: 100%|██████████| 1000/1000 [03:33<00:00,  4.69it/s, acc_nat=0.774, acc_rob=0.387]\n"
     ]
    },
    {
     "name": "stdout",
     "output_type": "stream",
     "text": [
      "Epoch 25 [0/383] | loss: 0.8280 (avg: 0.8280) | acc: 0.5000 (avg: 0.5000) |\n",
      "Epoch 25 [100/383] | loss: 0.8841 (avg: 0.8937) | acc: 0.5234 (avg: 0.4700) |\n",
      "Epoch 25 [200/383] | loss: 0.9136 (avg: 0.8977) | acc: 0.4766 (avg: 0.4680) |\n",
      "Epoch 25 [300/383] | loss: 0.8602 (avg: 0.9032) | acc: 0.4219 (avg: 0.4672) |\n"
     ]
    },
    {
     "name": "stderr",
     "output_type": "stream",
     "text": [
      "[eval] 1000/1000: 100%|██████████| 1000/1000 [03:22<00:00,  4.93it/s, acc_nat=0.796, acc_rob=0.398]\n"
     ]
    },
    {
     "name": "stdout",
     "output_type": "stream",
     "text": [
      "Epoch 26 [0/383] | loss: 0.9098 (avg: 0.9098) | acc: 0.4844 (avg: 0.4844) |\n",
      "Epoch 26 [100/383] | loss: 0.9396 (avg: 0.8827) | acc: 0.4453 (avg: 0.4759) |\n",
      "Epoch 26 [200/383] | loss: 0.8524 (avg: 0.8924) | acc: 0.4922 (avg: 0.4741) |\n",
      "Epoch 26 [300/383] | loss: 0.8736 (avg: 0.8975) | acc: 0.4844 (avg: 0.4717) |\n"
     ]
    },
    {
     "name": "stderr",
     "output_type": "stream",
     "text": [
      "[eval] 1000/1000: 100%|██████████| 1000/1000 [03:19<00:00,  5.00it/s, acc_nat=0.791, acc_rob=0.38]\n"
     ]
    },
    {
     "name": "stdout",
     "output_type": "stream",
     "text": [
      "Epoch 27 [0/383] | loss: 0.8780 (avg: 0.8780) | acc: 0.5312 (avg: 0.5312) |\n",
      "Epoch 27 [100/383] | loss: 0.9875 (avg: 0.8918) | acc: 0.4375 (avg: 0.4774) |\n",
      "Epoch 27 [200/383] | loss: 0.9004 (avg: 0.8963) | acc: 0.5000 (avg: 0.4749) |\n",
      "Epoch 27 [300/383] | loss: 0.9295 (avg: 0.8990) | acc: 0.4141 (avg: 0.4729) |\n"
     ]
    },
    {
     "name": "stderr",
     "output_type": "stream",
     "text": [
      "[eval] 1000/1000: 100%|██████████| 1000/1000 [03:22<00:00,  4.94it/s, acc_nat=0.808, acc_rob=0.429]\n"
     ]
    },
    {
     "name": "stdout",
     "output_type": "stream",
     "text": [
      "Epoch 28 [0/383] | loss: 0.8812 (avg: 0.8812) | acc: 0.4688 (avg: 0.4688) |\n",
      "Epoch 28 [100/383] | loss: 0.8545 (avg: 0.8741) | acc: 0.5156 (avg: 0.4807) |\n",
      "Epoch 28 [200/383] | loss: 0.9366 (avg: 0.8808) | acc: 0.3906 (avg: 0.4793) |\n",
      "Epoch 28 [300/383] | loss: 0.9111 (avg: 0.8869) | acc: 0.4375 (avg: 0.4765) |\n"
     ]
    },
    {
     "name": "stderr",
     "output_type": "stream",
     "text": [
      "[eval] 1000/1000: 100%|██████████| 1000/1000 [03:21<00:00,  4.96it/s, acc_nat=0.787, acc_rob=0.393]\n"
     ]
    },
    {
     "name": "stdout",
     "output_type": "stream",
     "text": [
      "Epoch 29 [0/383] | loss: 0.8685 (avg: 0.8685) | acc: 0.4375 (avg: 0.4375) |\n",
      "Epoch 29 [100/383] | loss: 0.8712 (avg: 0.8764) | acc: 0.4844 (avg: 0.4822) |\n",
      "Epoch 29 [200/383] | loss: 0.8539 (avg: 0.8796) | acc: 0.4766 (avg: 0.4808) |\n",
      "Epoch 29 [300/383] | loss: 0.8883 (avg: 0.8839) | acc: 0.4219 (avg: 0.4785) |\n"
     ]
    },
    {
     "name": "stderr",
     "output_type": "stream",
     "text": [
      "[eval] 1000/1000: 100%|██████████| 1000/1000 [03:22<00:00,  4.94it/s, acc_nat=0.79, acc_rob=0.425]\n"
     ]
    },
    {
     "name": "stdout",
     "output_type": "stream",
     "text": [
      "Epoch 30 [0/383] | loss: 0.9571 (avg: 0.9571) | acc: 0.4453 (avg: 0.4453) |\n",
      "Epoch 30 [100/383] | loss: 0.8478 (avg: 0.8755) | acc: 0.5078 (avg: 0.4867) |\n",
      "Epoch 30 [200/383] | loss: 0.8575 (avg: 0.8772) | acc: 0.5469 (avg: 0.4846) |\n",
      "Epoch 30 [300/383] | loss: 0.8696 (avg: 0.8792) | acc: 0.4922 (avg: 0.4833) |\n"
     ]
    },
    {
     "name": "stderr",
     "output_type": "stream",
     "text": [
      "[eval] 1000/1000: 100%|██████████| 1000/1000 [03:21<00:00,  4.96it/s, acc_nat=0.798, acc_rob=0.39]\n"
     ]
    },
    {
     "name": "stdout",
     "output_type": "stream",
     "text": [
      "Epoch 31 [0/383] | loss: 0.9033 (avg: 0.9033) | acc: 0.4922 (avg: 0.4922) |\n",
      "Epoch 31 [100/383] | loss: 0.8612 (avg: 0.8676) | acc: 0.5234 (avg: 0.4913) |\n",
      "Epoch 31 [200/383] | loss: 0.9116 (avg: 0.8709) | acc: 0.5156 (avg: 0.4872) |\n",
      "Epoch 31 [300/383] | loss: 0.8271 (avg: 0.8783) | acc: 0.5156 (avg: 0.4838) |\n"
     ]
    },
    {
     "name": "stderr",
     "output_type": "stream",
     "text": [
      "[eval] 1000/1000: 100%|██████████| 1000/1000 [03:23<00:00,  4.91it/s, acc_nat=0.789, acc_rob=0.408]\n"
     ]
    },
    {
     "name": "stdout",
     "output_type": "stream",
     "text": [
      "Epoch 32 [0/383] | loss: 0.9175 (avg: 0.9175) | acc: 0.4375 (avg: 0.4375) |\n",
      "Epoch 32 [100/383] | loss: 0.8282 (avg: 0.8693) | acc: 0.5234 (avg: 0.4868) |\n",
      "Epoch 32 [200/383] | loss: 0.8658 (avg: 0.8697) | acc: 0.4844 (avg: 0.4818) |\n",
      "Epoch 32 [300/383] | loss: 0.9033 (avg: 0.8757) | acc: 0.4453 (avg: 0.4813) |\n"
     ]
    },
    {
     "name": "stderr",
     "output_type": "stream",
     "text": [
      "[eval] 1000/1000: 100%|██████████| 1000/1000 [03:24<00:00,  4.90it/s, acc_nat=0.812, acc_rob=0.414]\n"
     ]
    },
    {
     "name": "stdout",
     "output_type": "stream",
     "text": [
      "Epoch 36 [0/383] | loss: 0.8269 (avg: 0.8269) | acc: 0.4688 (avg: 0.4688) |\n",
      "Epoch 36 [100/383] | loss: 0.8851 (avg: 0.8567) | acc: 0.5156 (avg: 0.4893) |\n",
      "Epoch 36 [200/383] | loss: 0.8672 (avg: 0.8673) | acc: 0.4375 (avg: 0.4865) |\n",
      "Epoch 36 [300/383] | loss: 0.8895 (avg: 0.8669) | acc: 0.4844 (avg: 0.4884) |\n"
     ]
    },
    {
     "name": "stderr",
     "output_type": "stream",
     "text": [
      "[eval] 1000/1000: 100%|██████████| 1000/1000 [03:24<00:00,  4.90it/s, acc_nat=0.797, acc_rob=0.421]\n"
     ]
    },
    {
     "name": "stdout",
     "output_type": "stream",
     "text": [
      "Epoch 37 [0/383] | loss: 0.9117 (avg: 0.9117) | acc: 0.4297 (avg: 0.4297) |\n",
      "Epoch 37 [100/383] | loss: 0.8749 (avg: 0.8543) | acc: 0.5000 (avg: 0.4898) |\n",
      "Epoch 37 [200/383] | loss: 0.8147 (avg: 0.8568) | acc: 0.5469 (avg: 0.4895) |\n",
      "Epoch 37 [300/383] | loss: 0.8758 (avg: 0.8582) | acc: 0.5078 (avg: 0.4910) |\n"
     ]
    },
    {
     "name": "stderr",
     "output_type": "stream",
     "text": [
      "[eval] 1000/1000: 100%|██████████| 1000/1000 [03:18<00:00,  5.04it/s, acc_nat=0.822, acc_rob=0.424]\n"
     ]
    },
    {
     "name": "stdout",
     "output_type": "stream",
     "text": [
      "Epoch 38 [0/383] | loss: 0.8372 (avg: 0.8372) | acc: 0.4609 (avg: 0.4609) |\n",
      "Epoch 38 [100/383] | loss: 0.7582 (avg: 0.8427) | acc: 0.5234 (avg: 0.4995) |\n",
      "Epoch 38 [200/383] | loss: 0.7892 (avg: 0.8434) | acc: 0.5000 (avg: 0.4985) |\n",
      "Epoch 38 [300/383] | loss: 0.9144 (avg: 0.8531) | acc: 0.3984 (avg: 0.4955) |\n"
     ]
    },
    {
     "name": "stderr",
     "output_type": "stream",
     "text": [
      "[eval] 1000/1000: 100%|██████████| 1000/1000 [03:21<00:00,  4.97it/s, acc_nat=0.82, acc_rob=0.419]\n"
     ]
    },
    {
     "name": "stdout",
     "output_type": "stream",
     "text": [
      "Epoch 39 [0/383] | loss: 0.9185 (avg: 0.9185) | acc: 0.4844 (avg: 0.4844) |\n",
      "Epoch 39 [100/383] | loss: 0.8302 (avg: 0.8433) | acc: 0.4609 (avg: 0.5005) |\n",
      "Epoch 39 [200/383] | loss: 0.7938 (avg: 0.8551) | acc: 0.5078 (avg: 0.4976) |\n",
      "Epoch 39 [300/383] | loss: 0.9999 (avg: 0.8588) | acc: 0.4375 (avg: 0.4937) |\n"
     ]
    },
    {
     "name": "stderr",
     "output_type": "stream",
     "text": [
      "[eval] 1000/1000: 100%|██████████| 1000/1000 [03:21<00:00,  4.96it/s, acc_nat=0.785, acc_rob=0.414]\n"
     ]
    },
    {
     "name": "stdout",
     "output_type": "stream",
     "text": [
      "Epoch 40 [0/383] | loss: 0.7742 (avg: 0.7742) | acc: 0.5625 (avg: 0.5625) |\n",
      "Epoch 40 [100/383] | loss: 0.7735 (avg: 0.8347) | acc: 0.5312 (avg: 0.5091) |\n",
      "Epoch 40 [200/383] | loss: 0.8900 (avg: 0.8472) | acc: 0.4531 (avg: 0.4995) |\n",
      "Epoch 40 [300/383] | loss: 0.8667 (avg: 0.8547) | acc: 0.4375 (avg: 0.4962) |\n"
     ]
    },
    {
     "name": "stderr",
     "output_type": "stream",
     "text": [
      "[eval] 1000/1000: 100%|██████████| 1000/1000 [03:21<00:00,  4.96it/s, acc_nat=0.791, acc_rob=0.381]\n"
     ]
    },
    {
     "name": "stdout",
     "output_type": "stream",
     "text": [
      "Epoch 41 [0/383] | loss: 0.7652 (avg: 0.7652) | acc: 0.5156 (avg: 0.5156) |\n",
      "Epoch 41 [100/383] | loss: 0.8510 (avg: 0.8459) | acc: 0.5156 (avg: 0.5002) |\n",
      "Epoch 41 [200/383] | loss: 0.8479 (avg: 0.8499) | acc: 0.4531 (avg: 0.4980) |\n",
      "Epoch 41 [300/383] | loss: 0.9183 (avg: 0.8538) | acc: 0.4922 (avg: 0.4978) |\n"
     ]
    },
    {
     "name": "stderr",
     "output_type": "stream",
     "text": [
      "[eval] 1000/1000: 100%|██████████| 1000/1000 [03:22<00:00,  4.93it/s, acc_nat=0.787, acc_rob=0.424]\n"
     ]
    },
    {
     "name": "stdout",
     "output_type": "stream",
     "text": [
      "Epoch 42 [0/383] | loss: 0.7023 (avg: 0.7023) | acc: 0.6250 (avg: 0.6250) |\n",
      "Epoch 42 [100/383] | loss: 0.8237 (avg: 0.8314) | acc: 0.5156 (avg: 0.5082) |\n",
      "Epoch 42 [200/383] | loss: 0.8727 (avg: 0.8484) | acc: 0.4766 (avg: 0.4982) |\n",
      "Epoch 42 [300/383] | loss: 0.7766 (avg: 0.8544) | acc: 0.5391 (avg: 0.4969) |\n"
     ]
    },
    {
     "name": "stderr",
     "output_type": "stream",
     "text": [
      "[eval] 1000/1000: 100%|██████████| 1000/1000 [03:21<00:00,  4.95it/s, acc_nat=0.801, acc_rob=0.407]\n"
     ]
    },
    {
     "name": "stdout",
     "output_type": "stream",
     "text": [
      "Epoch 43 [0/383] | loss: 0.8569 (avg: 0.8569) | acc: 0.4844 (avg: 0.4844) |\n",
      "Epoch 43 [100/383] | loss: 0.8756 (avg: 0.8382) | acc: 0.5078 (avg: 0.5033) |\n",
      "Epoch 43 [200/383] | loss: 0.9100 (avg: 0.8512) | acc: 0.4375 (avg: 0.4963) |\n",
      "Epoch 43 [300/383] | loss: 0.8681 (avg: 0.8542) | acc: 0.5234 (avg: 0.4974) |\n"
     ]
    },
    {
     "name": "stderr",
     "output_type": "stream",
     "text": [
      "[eval] 1000/1000: 100%|██████████| 1000/1000 [03:18<00:00,  5.04it/s, acc_nat=0.815, acc_rob=0.424]\n"
     ]
    },
    {
     "name": "stdout",
     "output_type": "stream",
     "text": [
      "Epoch 44 [0/383] | loss: 0.8647 (avg: 0.8647) | acc: 0.4609 (avg: 0.4609) |\n",
      "Epoch 44 [100/383] | loss: 0.8063 (avg: 0.8206) | acc: 0.5078 (avg: 0.5144) |\n",
      "Epoch 44 [200/383] | loss: 0.8918 (avg: 0.8358) | acc: 0.5000 (avg: 0.5060) |\n",
      "Epoch 44 [300/383] | loss: 0.8745 (avg: 0.8440) | acc: 0.5312 (avg: 0.5027) |\n"
     ]
    },
    {
     "name": "stderr",
     "output_type": "stream",
     "text": [
      "[eval] 1000/1000: 100%|██████████| 1000/1000 [03:30<00:00,  4.74it/s, acc_nat=0.823, acc_rob=0.428]\n"
     ]
    },
    {
     "name": "stdout",
     "output_type": "stream",
     "text": [
      "Epoch 47 [0/383] | loss: 0.7707 (avg: 0.7707) | acc: 0.5469 (avg: 0.5469) |\n",
      "Epoch 47 [100/383] | loss: 0.8361 (avg: 0.8325) | acc: 0.5156 (avg: 0.5040) |\n",
      "Epoch 47 [200/383] | loss: 0.8317 (avg: 0.8430) | acc: 0.5391 (avg: 0.5011) |\n",
      "Epoch 47 [300/383] | loss: 0.7683 (avg: 0.8447) | acc: 0.5156 (avg: 0.5004) |\n"
     ]
    },
    {
     "name": "stderr",
     "output_type": "stream",
     "text": [
      "[eval] 1000/1000: 100%|██████████| 1000/1000 [03:27<00:00,  4.82it/s, acc_nat=0.809, acc_rob=0.416]\n"
     ]
    },
    {
     "name": "stdout",
     "output_type": "stream",
     "text": [
      "Epoch 48 [0/383] | loss: 0.8614 (avg: 0.8614) | acc: 0.4922 (avg: 0.4922) |\n",
      "Epoch 48 [100/383] | loss: 0.7844 (avg: 0.8268) | acc: 0.4922 (avg: 0.5094) |\n",
      "Epoch 48 [200/383] | loss: 0.7834 (avg: 0.8354) | acc: 0.5078 (avg: 0.5042) |\n",
      "Epoch 48 [300/383] | loss: 0.9522 (avg: 0.8447) | acc: 0.4219 (avg: 0.4996) |\n"
     ]
    },
    {
     "name": "stderr",
     "output_type": "stream",
     "text": [
      "[eval] 1000/1000: 100%|██████████| 1000/1000 [03:21<00:00,  4.97it/s, acc_nat=0.811, acc_rob=0.453]\n"
     ]
    },
    {
     "name": "stdout",
     "output_type": "stream",
     "text": [
      "Epoch 49 [0/383] | loss: 0.8411 (avg: 0.8411) | acc: 0.5000 (avg: 0.5000) |\n",
      "Epoch 49 [100/383] | loss: 0.9535 (avg: 0.8231) | acc: 0.4531 (avg: 0.5119) |\n",
      "Epoch 49 [200/383] | loss: 0.8390 (avg: 0.8358) | acc: 0.5078 (avg: 0.5030) |\n",
      "Epoch 49 [300/383] | loss: 0.8214 (avg: 0.8397) | acc: 0.5469 (avg: 0.5021) |\n"
     ]
    },
    {
     "name": "stderr",
     "output_type": "stream",
     "text": [
      "[eval] 1000/1000: 100%|██████████| 1000/1000 [03:20<00:00,  5.00it/s, acc_nat=0.81, acc_rob=0.453]\n"
     ]
    },
    {
     "name": "stdout",
     "output_type": "stream",
     "text": [
      "Epoch 50 [0/383] | loss: 0.8456 (avg: 0.8456) | acc: 0.5000 (avg: 0.5000) |\n",
      "Epoch 50 [100/383] | loss: 0.9197 (avg: 0.8275) | acc: 0.4453 (avg: 0.5123) |\n",
      "Epoch 50 [200/383] | loss: 0.8408 (avg: 0.8253) | acc: 0.5000 (avg: 0.5123) |\n",
      "Epoch 50 [300/383] | loss: 0.8750 (avg: 0.8345) | acc: 0.4609 (avg: 0.5085) |\n"
     ]
    },
    {
     "name": "stderr",
     "output_type": "stream",
     "text": [
      "[eval] 1000/1000: 100%|██████████| 1000/1000 [03:25<00:00,  4.86it/s, acc_nat=0.807, acc_rob=0.424]\n"
     ]
    },
    {
     "name": "stdout",
     "output_type": "stream",
     "text": [
      "Epoch 51 [0/383] | loss: 0.8298 (avg: 0.8298) | acc: 0.5156 (avg: 0.5156) |\n",
      "Epoch 51 [100/383] | loss: 0.9194 (avg: 0.8164) | acc: 0.4531 (avg: 0.5165) |\n",
      "Epoch 51 [200/383] | loss: 0.8856 (avg: 0.8255) | acc: 0.4375 (avg: 0.5108) |\n",
      "Epoch 51 [300/383] | loss: 0.8719 (avg: 0.8325) | acc: 0.5078 (avg: 0.5077) |\n"
     ]
    },
    {
     "name": "stderr",
     "output_type": "stream",
     "text": [
      "[eval] 1000/1000: 100%|██████████| 1000/1000 [03:19<00:00,  5.01it/s, acc_nat=0.806, acc_rob=0.441]\n"
     ]
    },
    {
     "name": "stdout",
     "output_type": "stream",
     "text": [
      "Epoch 52 [0/383] | loss: 0.7422 (avg: 0.7422) | acc: 0.6016 (avg: 0.6016) |\n",
      "Epoch 52 [100/383] | loss: 0.7469 (avg: 0.8233) | acc: 0.5469 (avg: 0.5108) |\n",
      "Epoch 52 [200/383] | loss: 0.8846 (avg: 0.8323) | acc: 0.5078 (avg: 0.5061) |\n",
      "Epoch 52 [300/383] | loss: 0.8073 (avg: 0.8394) | acc: 0.5234 (avg: 0.5033) |\n"
     ]
    },
    {
     "name": "stderr",
     "output_type": "stream",
     "text": [
      "[eval] 1000/1000: 100%|██████████| 1000/1000 [03:22<00:00,  4.94it/s, acc_nat=0.8, acc_rob=0.408] \n"
     ]
    },
    {
     "name": "stdout",
     "output_type": "stream",
     "text": [
      "Epoch 53 [0/383] | loss: 0.8721 (avg: 0.8721) | acc: 0.4844 (avg: 0.4844) |\n",
      "Epoch 53 [100/383] | loss: 0.7555 (avg: 0.8293) | acc: 0.5625 (avg: 0.5136) |\n",
      "Epoch 53 [200/383] | loss: 0.8362 (avg: 0.8207) | acc: 0.5000 (avg: 0.5164) |\n",
      "Epoch 53 [300/383] | loss: 0.9108 (avg: 0.8300) | acc: 0.4844 (avg: 0.5085) |\n"
     ]
    },
    {
     "name": "stderr",
     "output_type": "stream",
     "text": [
      "[eval] 1000/1000: 100%|██████████| 1000/1000 [03:20<00:00,  4.98it/s, acc_nat=0.803, acc_rob=0.406]\n"
     ]
    },
    {
     "name": "stdout",
     "output_type": "stream",
     "text": [
      "Epoch 54 [0/383] | loss: 0.8382 (avg: 0.8382) | acc: 0.5312 (avg: 0.5312) |\n",
      "Epoch 54 [100/383] | loss: 0.8130 (avg: 0.8319) | acc: 0.5469 (avg: 0.5115) |\n",
      "Epoch 54 [200/383] | loss: 0.8006 (avg: 0.8305) | acc: 0.5625 (avg: 0.5103) |\n",
      "Epoch 54 [300/383] | loss: 0.7848 (avg: 0.8291) | acc: 0.5547 (avg: 0.5119) |\n"
     ]
    },
    {
     "name": "stderr",
     "output_type": "stream",
     "text": [
      "[eval] 289/1000:  29%|██▉       | 288/1000 [00:59<02:35,  4.58it/s, acc_nat=0.256, acc_rob=0.163]"
     ]
    },
    {
     "name": "stdout",
     "output_type": "stream",
     "text": [
      "Epoch 58 [0/383] | loss: 0.5957 (avg: 0.5957) | acc: 0.6562 (avg: 0.6562) |\n",
      "Epoch 58 [100/383] | loss: 0.5060 (avg: 0.5401) | acc: 0.7266 (avg: 0.6869) |\n",
      "Epoch 58 [200/383] | loss: 0.4872 (avg: 0.5422) | acc: 0.7344 (avg: 0.6846) |\n",
      "Epoch 58 [300/383] | loss: 0.5985 (avg: 0.5438) | acc: 0.6328 (avg: 0.6844) |\n"
     ]
    },
    {
     "name": "stderr",
     "output_type": "stream",
     "text": [
      "[eval] 1000/1000: 100%|██████████| 1000/1000 [03:21<00:00,  4.96it/s, acc_nat=0.88, acc_rob=0.55]\n"
     ]
    },
    {
     "name": "stdout",
     "output_type": "stream",
     "text": [
      "Epoch 59 [0/383] | loss: 0.5030 (avg: 0.5030) | acc: 0.6641 (avg: 0.6641) |\n",
      "Epoch 59 [100/383] | loss: 0.5011 (avg: 0.5240) | acc: 0.7188 (avg: 0.6972) |\n",
      "Epoch 59 [200/383] | loss: 0.4653 (avg: 0.5252) | acc: 0.7656 (avg: 0.6980) |\n",
      "Epoch 59 [300/383] | loss: 0.5225 (avg: 0.5258) | acc: 0.6797 (avg: 0.6973) |\n"
     ]
    },
    {
     "name": "stderr",
     "output_type": "stream",
     "text": [
      "[eval] 1000/1000: 100%|██████████| 1000/1000 [03:19<00:00,  5.02it/s, acc_nat=0.878, acc_rob=0.56]\n"
     ]
    },
    {
     "name": "stdout",
     "output_type": "stream",
     "text": [
      "Epoch 60 [0/383] | loss: 0.5352 (avg: 0.5352) | acc: 0.6953 (avg: 0.6953) |\n",
      "Epoch 60 [100/383] | loss: 0.4345 (avg: 0.5085) | acc: 0.7812 (avg: 0.7081) |\n",
      "Epoch 60 [200/383] | loss: 0.4729 (avg: 0.5103) | acc: 0.8047 (avg: 0.7078) |\n",
      "Epoch 60 [300/383] | loss: 0.5438 (avg: 0.5070) | acc: 0.6797 (avg: 0.7106) |\n"
     ]
    },
    {
     "name": "stderr",
     "output_type": "stream",
     "text": [
      "[eval] 1000/1000: 100%|██████████| 1000/1000 [03:18<00:00,  5.03it/s, acc_nat=0.893, acc_rob=0.551]\n"
     ]
    },
    {
     "name": "stdout",
     "output_type": "stream",
     "text": [
      "Epoch 61 [0/383] | loss: 0.4866 (avg: 0.4866) | acc: 0.7031 (avg: 0.7031) |\n",
      "Epoch 61 [100/383] | loss: 0.4281 (avg: 0.4473) | acc: 0.7188 (avg: 0.7511) |\n",
      "Epoch 61 [200/383] | loss: 0.2465 (avg: 0.3743) | acc: 0.8828 (avg: 0.8029) |\n",
      "Epoch 61 [300/383] | loss: 0.1866 (avg: 0.3156) | acc: 0.9219 (avg: 0.8428) |\n"
     ]
    },
    {
     "name": "stderr",
     "output_type": "stream",
     "text": [
      "[eval] 230/1000:  23%|██▎       | 230/1000 [00:46<02:36,  4.91it/s, acc_nat=0.205, acc_rob=0.072]"
     ]
    },
    {
     "name": "stdout",
     "output_type": "stream",
     "text": [
      "Epoch 62 [200/383] | loss: 0.1366 (avg: 0.1549) | acc: 0.9531 (avg: 0.9439) |\n",
      "Epoch 62 [300/383] | loss: 0.2031 (avg: 0.1527) | acc: 0.9375 (avg: 0.9441) |\n"
     ]
    },
    {
     "name": "stderr",
     "output_type": "stream",
     "text": [
      "[eval] 758/1000:  76%|███████▌  | 758/1000 [02:31<00:48,  5.02it/s, acc_nat=0.697, acc_rob=0.279]"
     ]
    },
    {
     "name": "stdout",
     "output_type": "stream",
     "text": [
      "Epoch 63 [300/383] | loss: 0.1344 (avg: 0.1306) | acc: 0.9531 (avg: 0.9461) |\n"
     ]
    },
    {
     "name": "stderr",
     "output_type": "stream",
     "text": [
      "[eval] 1000/1000: 100%|██████████| 1000/1000 [03:23<00:00,  4.90it/s, acc_nat=0.899, acc_rob=0.372]\n"
     ]
    },
    {
     "name": "stdout",
     "output_type": "stream",
     "text": [
      "Epoch 64 [0/383] | loss: 0.0944 (avg: 0.0944) | acc: 0.9609 (avg: 0.9609) |\n",
      "Epoch 64 [100/383] | loss: 0.1287 (avg: 0.1096) | acc: 0.9375 (avg: 0.9583) |\n",
      "Epoch 64 [200/383] | loss: 0.1433 (avg: 0.1152) | acc: 0.9453 (avg: 0.9567) |\n",
      "Epoch 64 [300/383] | loss: 0.1541 (avg: 0.1171) | acc: 0.9375 (avg: 0.9562) |\n"
     ]
    },
    {
     "name": "stderr",
     "output_type": "stream",
     "text": [
      "[eval] 1000/1000: 100%|██████████| 1000/1000 [03:26<00:00,  4.84it/s, acc_nat=0.908, acc_rob=0.328]\n"
     ]
    },
    {
     "name": "stdout",
     "output_type": "stream",
     "text": [
      "Epoch 65 [0/383] | loss: 0.0961 (avg: 0.0961) | acc: 0.9844 (avg: 0.9844) |\n",
      "Epoch 65 [100/383] | loss: 0.1443 (avg: 0.1211) | acc: 0.9453 (avg: 0.9569) |\n",
      "Epoch 65 [200/383] | loss: 0.1749 (avg: 0.1155) | acc: 0.9453 (avg: 0.9584) |\n",
      "Epoch 65 [300/383] | loss: 0.1520 (avg: 0.1169) | acc: 0.9375 (avg: 0.9586) |\n"
     ]
    },
    {
     "name": "stderr",
     "output_type": "stream",
     "text": [
      "[eval] 541/1000:  54%|█████▍    | 541/1000 [01:46<01:30,  5.10it/s, acc_nat=0.495, acc_rob=0.162]"
     ]
    },
    {
     "name": "stdout",
     "output_type": "stream",
     "text": [
      "Epoch 66 [200/383] | loss: 0.0858 (avg: 0.1025) | acc: 0.9688 (avg: 0.9638) |\n",
      "Epoch 66 [300/383] | loss: 0.1400 (avg: 0.1082) | acc: 0.9688 (avg: 0.9606) |\n"
     ]
    },
    {
     "name": "stderr",
     "output_type": "stream",
     "text": [
      "[eval] 1000/1000: 100%|██████████| 1000/1000 [03:20<00:00,  4.99it/s, acc_nat=0.898, acc_rob=0.33]\n"
     ]
    },
    {
     "name": "stdout",
     "output_type": "stream",
     "text": [
      "Epoch 67 [0/383] | loss: 0.0900 (avg: 0.0900) | acc: 0.9766 (avg: 0.9766) |\n",
      "Epoch 67 [100/383] | loss: 0.0950 (avg: 0.0987) | acc: 0.9688 (avg: 0.9653) |\n",
      "Epoch 67 [200/383] | loss: 0.1249 (avg: 0.0997) | acc: 0.9375 (avg: 0.9641) |\n",
      "Epoch 67 [300/383] | loss: 0.0891 (avg: 0.1053) | acc: 0.9688 (avg: 0.9618) |\n"
     ]
    },
    {
     "name": "stderr",
     "output_type": "stream",
     "text": [
      "[eval] 1000/1000: 100%|██████████| 1000/1000 [03:21<00:00,  4.97it/s, acc_nat=0.913, acc_rob=0.374]\n"
     ]
    },
    {
     "name": "stdout",
     "output_type": "stream",
     "text": [
      "Epoch 69 [0/383] | loss: 0.0828 (avg: 0.0828) | acc: 0.9844 (avg: 0.9844) |\n",
      "Epoch 69 [100/383] | loss: 0.0970 (avg: 0.0989) | acc: 0.9688 (avg: 0.9675) |\n",
      "Epoch 69 [200/383] | loss: 0.0549 (avg: 0.0998) | acc: 0.9844 (avg: 0.9665) |\n",
      "Epoch 69 [300/383] | loss: 0.1074 (avg: 0.1032) | acc: 0.9844 (avg: 0.9650) |\n"
     ]
    },
    {
     "name": "stderr",
     "output_type": "stream",
     "text": [
      "[eval] 433/1000:  43%|████▎     | 432/1000 [01:30<01:53,  5.02it/s, acc_nat=0.389, acc_rob=0.19] "
     ]
    },
    {
     "name": "stdout",
     "output_type": "stream",
     "text": [
      "Epoch 71 [200/383] | loss: 0.0878 (avg: 0.1860) | acc: 0.9922 (avg: 0.9874) |\n",
      "Epoch 71 [300/383] | loss: 0.2399 (avg: 0.1949) | acc: 0.9844 (avg: 0.9866) |\n"
     ]
    },
    {
     "name": "stderr",
     "output_type": "stream",
     "text": [
      "[eval] 1000/1000: 100%|██████████| 1000/1000 [03:20<00:00,  4.98it/s, acc_nat=0.911, acc_rob=0.431]\n"
     ]
    },
    {
     "name": "stdout",
     "output_type": "stream",
     "text": [
      "Epoch 72 [0/383] | loss: 0.2676 (avg: 0.2676) | acc: 0.9844 (avg: 0.9844) |\n",
      "Epoch 72 [100/383] | loss: 0.1141 (avg: 0.1739) | acc: 0.9922 (avg: 0.9872) |\n",
      "Epoch 72 [200/383] | loss: 0.3801 (avg: 0.1741) | acc: 0.9922 (avg: 0.9876) |\n",
      "Epoch 72 [300/383] | loss: 0.1891 (avg: 0.1985) | acc: 0.9844 (avg: 0.9854) |\n"
     ]
    },
    {
     "name": "stderr",
     "output_type": "stream",
     "text": [
      "[eval] 472/1000:  47%|████▋     | 471/1000 [01:35<01:48,  4.89it/s, acc_nat=0.427, acc_rob=0.189]"
     ]
    },
    {
     "name": "stdout",
     "output_type": "stream",
     "text": [
      "Epoch 73 [300/383] | loss: 0.1584 (avg: 0.1850) | acc: 0.9766 (avg: 0.9868) |\n"
     ]
    },
    {
     "name": "stderr",
     "output_type": "stream",
     "text": [
      "[eval] 211/1000:  21%|██        | 210/1000 [00:41<02:35,  5.07it/s, acc_nat=0.192, acc_rob=0.083]"
     ]
    },
    {
     "name": "stdout",
     "output_type": "stream",
     "text": [
      "Epoch 74 [200/383] | loss: 0.1225 (avg: 0.2025) | acc: 0.9922 (avg: 0.9845) |\n",
      "Epoch 74 [300/383] | loss: 0.2288 (avg: 0.1917) | acc: 0.9609 (avg: 0.9859) |\n"
     ]
    },
    {
     "name": "stderr",
     "output_type": "stream",
     "text": [
      "[eval] 590/1000:  59%|█████▉    | 590/1000 [02:01<01:24,  4.83it/s, acc_nat=0.552, acc_rob=0.256]"
     ]
    },
    {
     "name": "stdout",
     "output_type": "stream",
     "text": [
      "Epoch 78 [100/383] | loss: 0.2104 (avg: 0.0934) | acc: 0.9844 (avg: 0.9944) |\n",
      "Epoch 78 [200/383] | loss: 0.0550 (avg: 0.0938) | acc: 0.9922 (avg: 0.9946) |\n",
      "Epoch 78 [300/383] | loss: 0.0262 (avg: 0.0937) | acc: 1.0000 (avg: 0.9944) |\n"
     ]
    },
    {
     "name": "stderr",
     "output_type": "stream",
     "text": [
      "[eval] 234/1000:  23%|██▎       | 233/1000 [00:46<02:36,  4.89it/s, acc_nat=0.218, acc_rob=0.11] "
     ]
    },
    {
     "name": "stdout",
     "output_type": "stream",
     "text": [
      "Epoch 79 [100/383] | loss: 0.2234 (avg: 0.0895) | acc: 0.9922 (avg: 0.9945) |\n",
      "Epoch 79 [200/383] | loss: 0.0557 (avg: 0.0869) | acc: 0.9922 (avg: 0.9945) |\n",
      "Epoch 79 [300/383] | loss: 0.0780 (avg: 0.0836) | acc: 1.0000 (avg: 0.9945) |\n"
     ]
    },
    {
     "name": "stderr",
     "output_type": "stream",
     "text": [
      "[eval] 833/1000:  83%|████████▎ | 833/1000 [02:45<00:33,  5.02it/s, acc_nat=0.768, acc_rob=0.375]"
     ]
    },
    {
     "name": "stdout",
     "output_type": "stream",
     "text": [
      "Epoch 81 [200/383] | loss: 0.0694 (avg: 0.0731) | acc: 0.9922 (avg: 0.9966) |\n",
      "Epoch 81 [300/383] | loss: 0.0762 (avg: 0.0736) | acc: 1.0000 (avg: 0.9963) |\n"
     ]
    },
    {
     "name": "stderr",
     "output_type": "stream",
     "text": [
      "[eval] 219/1000:  22%|██▏       | 218/1000 [00:42<02:31,  5.15it/s, acc_nat=0.198, acc_rob=0.104]"
     ]
    },
    {
     "name": "stdout",
     "output_type": "stream",
     "text": [
      "Epoch 82 [100/383] | loss: 0.0685 (avg: 0.0758) | acc: 0.9922 (avg: 0.9954) |\n",
      "Epoch 82 [200/383] | loss: 0.0182 (avg: 0.0736) | acc: 1.0000 (avg: 0.9956) |\n",
      "Epoch 82 [300/383] | loss: 0.0899 (avg: 0.0721) | acc: 1.0000 (avg: 0.9957) |\n"
     ]
    },
    {
     "name": "stderr",
     "output_type": "stream",
     "text": [
      "[eval] 210/1000:  21%|██        | 209/1000 [00:41<02:34,  5.12it/s, acc_nat=0.194, acc_rob=0.096]"
     ]
    },
    {
     "name": "stdout",
     "output_type": "stream",
     "text": [
      "Epoch 85 [300/383] | loss: 0.0658 (avg: 0.0624) | acc: 0.9922 (avg: 0.9965) |\n"
     ]
    },
    {
     "name": "stderr",
     "output_type": "stream",
     "text": [
      "[eval] 1000/1000: 100%|██████████| 1000/1000 [03:26<00:00,  4.85it/s, acc_nat=0.926, acc_rob=0.503]\n"
     ]
    },
    {
     "name": "stdout",
     "output_type": "stream",
     "text": [
      "Epoch 86 [0/383] | loss: 0.0264 (avg: 0.0264) | acc: 1.0000 (avg: 1.0000) |\n",
      "Epoch 86 [100/383] | loss: 0.1378 (avg: 0.0575) | acc: 1.0000 (avg: 0.9969) |\n",
      "Epoch 86 [200/383] | loss: 0.0946 (avg: 0.0602) | acc: 1.0000 (avg: 0.9966) |\n",
      "Epoch 86 [300/383] | loss: 0.0358 (avg: 0.0601) | acc: 0.9922 (avg: 0.9964) |\n"
     ]
    },
    {
     "name": "stderr",
     "output_type": "stream",
     "text": [
      "[eval] 1000/1000: 100%|██████████| 1000/1000 [03:27<00:00,  4.83it/s, acc_nat=0.917, acc_rob=0.476]\n"
     ]
    },
    {
     "name": "stdout",
     "output_type": "stream",
     "text": [
      "Epoch 87 [0/383] | loss: 0.0249 (avg: 0.0249) | acc: 1.0000 (avg: 1.0000) |\n",
      "Epoch 87 [100/383] | loss: 0.0319 (avg: 0.0619) | acc: 0.9922 (avg: 0.9974) |\n",
      "Epoch 87 [200/383] | loss: 0.0441 (avg: 0.0641) | acc: 0.9922 (avg: 0.9965) |\n",
      "Epoch 87 [300/383] | loss: 0.0898 (avg: 0.0637) | acc: 1.0000 (avg: 0.9963) |\n"
     ]
    },
    {
     "name": "stderr",
     "output_type": "stream",
     "text": [
      "[eval] 619/1000:  62%|██████▏   | 618/1000 [02:07<01:18,  4.85it/s, acc_nat=0.572, acc_rob=0.285]"
     ]
    },
    {
     "name": "stdout",
     "output_type": "stream",
     "text": [
      "Epoch 89 [300/383] | loss: 0.0421 (avg: 0.0593) | acc: 1.0000 (avg: 0.9969) |\n"
     ]
    },
    {
     "name": "stderr",
     "output_type": "stream",
     "text": [
      "[eval] 357/1000:  36%|███▌      | 356/1000 [01:11<02:08,  5.03it/s, acc_nat=0.327, acc_rob=0.164]"
     ]
    },
    {
     "name": "stdout",
     "output_type": "stream",
     "text": [
      "Epoch 90 [300/383] | loss: 0.0179 (avg: 0.0604) | acc: 1.0000 (avg: 0.9974) |\n"
     ]
    },
    {
     "name": "stderr",
     "output_type": "stream",
     "text": [
      "[eval] 1000/1000: 100%|██████████| 1000/1000 [03:22<00:00,  4.94it/s, acc_nat=0.92, acc_rob=0.487]\n"
     ]
    },
    {
     "name": "stdout",
     "output_type": "stream",
     "text": [
      "Epoch 92 [0/383] | loss: 0.0130 (avg: 0.0130) | acc: 1.0000 (avg: 1.0000) |\n",
      "Epoch 92 [100/383] | loss: 0.0893 (avg: 0.0474) | acc: 1.0000 (avg: 0.9974) |\n",
      "Epoch 92 [200/383] | loss: 0.0422 (avg: 0.0479) | acc: 0.9922 (avg: 0.9975) |\n",
      "Epoch 92 [300/383] | loss: 0.0377 (avg: 0.0502) | acc: 0.9922 (avg: 0.9972) |\n"
     ]
    },
    {
     "name": "stderr",
     "output_type": "stream",
     "text": [
      "[eval] 1000/1000: 100%|██████████| 1000/1000 [03:24<00:00,  4.90it/s, acc_nat=0.925, acc_rob=0.465]\n"
     ]
    },
    {
     "name": "stdout",
     "output_type": "stream",
     "text": [
      "Epoch 93 [0/383] | loss: 0.0791 (avg: 0.0791) | acc: 0.9922 (avg: 0.9922) |\n",
      "Epoch 93 [100/383] | loss: 0.0149 (avg: 0.0616) | acc: 1.0000 (avg: 0.9976) |\n",
      "Epoch 93 [200/383] | loss: 0.0390 (avg: 0.0615) | acc: 1.0000 (avg: 0.9974) |\n",
      "Epoch 93 [300/383] | loss: 0.0779 (avg: 0.0577) | acc: 1.0000 (avg: 0.9974) |\n"
     ]
    },
    {
     "name": "stderr",
     "output_type": "stream",
     "text": [
      "[eval] 1000/1000: 100%|██████████| 1000/1000 [03:21<00:00,  4.97it/s, acc_nat=0.923, acc_rob=0.505]\n"
     ]
    },
    {
     "name": "stdout",
     "output_type": "stream",
     "text": [
      "Epoch 94 [0/383] | loss: 0.1065 (avg: 0.1065) | acc: 1.0000 (avg: 1.0000) |\n",
      "Epoch 94 [100/383] | loss: 0.0708 (avg: 0.0542) | acc: 0.9922 (avg: 0.9969) |\n",
      "Epoch 94 [200/383] | loss: 0.0908 (avg: 0.0559) | acc: 1.0000 (avg: 0.9970) |\n",
      "Epoch 94 [300/383] | loss: 0.0141 (avg: 0.0541) | acc: 1.0000 (avg: 0.9973) |\n"
     ]
    },
    {
     "name": "stderr",
     "output_type": "stream",
     "text": [
      "[eval] 1000/1000: 100%|██████████| 1000/1000 [03:22<00:00,  4.95it/s, acc_nat=0.913, acc_rob=0.485]\n"
     ]
    },
    {
     "name": "stdout",
     "output_type": "stream",
     "text": [
      "Epoch 95 [0/383] | loss: 0.0566 (avg: 0.0566) | acc: 1.0000 (avg: 1.0000) |\n",
      "Epoch 95 [100/383] | loss: 0.0242 (avg: 0.0503) | acc: 1.0000 (avg: 0.9978) |\n",
      "Epoch 95 [200/383] | loss: 0.0260 (avg: 0.0478) | acc: 1.0000 (avg: 0.9980) |\n",
      "Epoch 95 [300/383] | loss: 0.0494 (avg: 0.0473) | acc: 1.0000 (avg: 0.9979) |\n"
     ]
    },
    {
     "name": "stderr",
     "output_type": "stream",
     "text": [
      "[eval] 339/1000:  34%|███▍      | 338/1000 [01:07<02:12,  5.00it/s, acc_nat=0.301, acc_rob=0.155]"
     ]
    },
    {
     "name": "stdout",
     "output_type": "stream",
     "text": [
      "Epoch 96 [300/383] | loss: 0.0604 (avg: 0.0475) | acc: 0.9922 (avg: 0.9975) |\n"
     ]
    },
    {
     "name": "stderr",
     "output_type": "stream",
     "text": [
      "[eval] 1000/1000: 100%|██████████| 1000/1000 [03:26<00:00,  4.84it/s, acc_nat=0.923, acc_rob=0.515]\n"
     ]
    },
    {
     "name": "stdout",
     "output_type": "stream",
     "text": [
      "Epoch 97 [0/383] | loss: 0.0158 (avg: 0.0158) | acc: 1.0000 (avg: 1.0000) |\n",
      "Epoch 97 [100/383] | loss: 0.0169 (avg: 0.0410) | acc: 1.0000 (avg: 0.9981) |\n",
      "Epoch 97 [200/383] | loss: 0.0248 (avg: 0.0396) | acc: 1.0000 (avg: 0.9980) |\n",
      "Epoch 97 [300/383] | loss: 0.0260 (avg: 0.0406) | acc: 1.0000 (avg: 0.9979) |\n"
     ]
    },
    {
     "name": "stderr",
     "output_type": "stream",
     "text": [
      "[eval] 1000/1000: 100%|██████████| 1000/1000 [03:24<00:00,  4.89it/s, acc_nat=0.931, acc_rob=0.501]\n"
     ]
    },
    {
     "name": "stdout",
     "output_type": "stream",
     "text": [
      "Epoch 98 [0/383] | loss: 0.0127 (avg: 0.0127) | acc: 1.0000 (avg: 1.0000) |\n",
      "Epoch 98 [100/383] | loss: 0.0336 (avg: 0.0372) | acc: 1.0000 (avg: 0.9983) |\n",
      "Epoch 98 [200/383] | loss: 0.0095 (avg: 0.0372) | acc: 1.0000 (avg: 0.9981) |\n",
      "Epoch 98 [300/383] | loss: 0.0327 (avg: 0.0421) | acc: 1.0000 (avg: 0.9978) |\n"
     ]
    },
    {
     "name": "stderr",
     "output_type": "stream",
     "text": [
      "[eval] 379/1000:  38%|███▊      | 379/1000 [01:15<02:03,  5.05it/s, acc_nat=0.353, acc_rob=0.195]"
     ]
    },
    {
     "name": "stdout",
     "output_type": "stream",
     "text": [
      "Epoch 99 [100/383] | loss: 0.0186 (avg: 0.0392) | acc: 1.0000 (avg: 0.9979) |\n",
      "Epoch 99 [200/383] | loss: 0.0130 (avg: 0.0420) | acc: 1.0000 (avg: 0.9978) |\n",
      "Epoch 99 [300/383] | loss: 0.0175 (avg: 0.0400) | acc: 1.0000 (avg: 0.9982) |\n"
     ]
    },
    {
     "name": "stderr",
     "output_type": "stream",
     "text": [
      "[eval] 1000/1000: 100%|██████████| 1000/1000 [03:21<00:00,  4.97it/s, acc_nat=0.923, acc_rob=0.511]\n"
     ]
    }
   ],
   "source": [
    "os.environ['CUDA_VISIBLE_DEVICES'] = gpu\n",
    "os.makedirs(checkpoint, exist_ok=True)\n",
    "\n",
    "train_transform = transforms.Compose([\n",
    "    transforms.RandomCrop(32, padding=4),\n",
    "    transforms.RandomHorizontalFlip(),\n",
    "    transforms.ToTensor()])\n",
    "train_dataset, _ = get_dataloader(dataset, batch_size)\n",
    "num_samples = len(train_dataset)\n",
    "num_samples_for_train = int(num_samples * 0.98)\n",
    "num_samples_for_valid = num_samples - num_samples_for_train\n",
    "train_set, valid_set = random_split(train_dataset, [num_samples_for_train, num_samples_for_valid])\n",
    "train_dataloader = DataLoader(train_set, batch_size=batch_size, shuffle=True, drop_last=False)\n",
    "valid_dataloader = DataLoader(valid_set, batch_size=1, shuffle=True, drop_last=False)\n",
    "\n",
    "model = nn.DataParallel(get_network(model_type, num_classes).cuda())\n",
    "optimizer = optim.SGD(model.parameters(),lr=lr, momentum=momentum, weight_decay=weight_decay)\n",
    "\n",
    "scheduler = [55, 70, 75] # ResNet-18 [70, 85]\n",
    "adjust_learning_rate = lr_scheduler.MultiStepLR(optimizer, scheduler, gamma=0.1)\n",
    "best_acc_nat, best_acc_rob = 0, 0\n",
    "\n",
    "for epoch in range(total_epochs):\n",
    "    training(epoch, model, train_dataloader, optimizer, num_classes, epsilon, lam, num_repeats)\n",
    "    test_acc_nat, test_acc_rob = evaluation(epoch, model, valid_dataloader, alpha, epsilon, num_repeats=10)\n",
    "        \n",
    "    is_best = best_acc_nat < test_acc_nat and best_acc_rob < test_acc_rob\n",
    "    best_acc_nat = max(best_acc_nat, test_acc_nat)\n",
    "    best_acc_rob = max(best_acc_rob, test_acc_rob)\n",
    "    save_checkpoint = {'state_dict': model.state_dict(),\n",
    "                       'best_acc_nat': best_acc_nat,\n",
    "                       'best_acc_rob': best_acc_rob,\n",
    "                       'optimizer': optimizer.state_dict(),\n",
    "                       'model_type': model_type,\n",
    "                       'dataset': dataset}\n",
    "    torch.save(save_checkpoint, os.path.join(checkpoint, 'model'))\n",
    "    if is_best:\n",
    "        torch.save(save_checkpoint, os.path.join(checkpoint, 'best_model'))\n",
    "    adjust_learning_rate.step()\n",
    "    if epoch+1 == scheduler[1]:\n",
    "        lam = lam*step_up"
   ]
  },
  {
   "cell_type": "code",
   "execution_count": null,
   "id": "67273057-ddb6-4294-b7ae-3aa932ab0cea",
   "metadata": {},
   "outputs": [],
   "source": []
  },
  {
   "cell_type": "code",
   "execution_count": null,
   "id": "bd54ee32-6d4e-46ad-a0ab-3283c0dcec01",
   "metadata": {},
   "outputs": [],
   "source": []
  }
 ],
 "metadata": {
  "kernelspec": {
   "display_name": "Python 3",
   "language": "python",
   "name": "python3"
  },
  "language_info": {
   "codemirror_mode": {
    "name": "ipython",
    "version": 3
   },
   "file_extension": ".py",
   "mimetype": "text/x-python",
   "name": "python",
   "nbconvert_exporter": "python",
   "pygments_lexer": "ipython3",
   "version": "3.6.9"
  }
 },
 "nbformat": 4,
 "nbformat_minor": 5
}
