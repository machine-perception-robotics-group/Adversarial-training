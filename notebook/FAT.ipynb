{
 "cells": [
  {
   "cell_type": "markdown",
   "id": "be933234-4b51-41a5-a5a0-9b831b916f96",
   "metadata": {
    "tags": []
   },
   "source": [
    "# Friendly Adversarial Training (FAT)"
   ]
  },
  {
   "cell_type": "code",
   "execution_count": 3,
   "id": "85eb3db2-6a80-4e98-8a62-4fd714fc9189",
   "metadata": {},
   "outputs": [],
   "source": [
    "import os\n",
    "import sys\n",
    "sys.path.append('..')\n",
    "import yaml\n",
    "import shutil\n",
    "import argparse\n",
    "import numpy as np\n",
    "from tqdm import tqdm_notebook as tqdm\n",
    "from collections import OrderedDict\n",
    "\n",
    "import torch\n",
    "import torch.nn as nn\n",
    "import torch.nn.functional as F\n",
    "import torch.optim as optim\n",
    "from torch.optim import lr_scheduler\n",
    "from torch.utils.data import DataLoader, random_split\n",
    "\n",
    "from utils import *"
   ]
  },
  {
   "cell_type": "markdown",
   "id": "66240c81-1be4-4a34-af22-21a6292e0ff9",
   "metadata": {},
   "source": [
    "## Parameter setting"
   ]
  },
  {
   "cell_type": "code",
   "execution_count": 2,
   "id": "01de849e-a804-4062-aef7-4cfcd5999b2c",
   "metadata": {},
   "outputs": [],
   "source": [
    "gpu = '0,1,2,3'\n",
    "dataset = 'cifar10'\n",
    "model_type = 'wrn34-10'\n",
    "checkpoint = './checkpoint/fat/%s/%s' % (dataset, model_type)\n",
    "num_classes = 10\n",
    "lr = 0.1\n",
    "momentum = 0.9\n",
    "weight_decay = 2e-4\n",
    "batch_size = 128\n",
    "total_epochs = 120\n",
    "epsilon = 8/255\n",
    "alpha = 2/255\n",
    "num_repeats = 10\n",
    "tau = 0\n",
    "omega = 0\n",
    "dynamictau = True"
   ]
  },
  {
   "cell_type": "markdown",
   "id": "8c102405-4d46-45e0-b957-9e7022b7ae2f",
   "metadata": {},
   "source": [
    "## Inner maximization"
   ]
  },
  {
   "cell_type": "code",
   "execution_count": 3,
   "id": "2ee44a0f-0acc-41c3-95a0-e477e167e679",
   "metadata": {},
   "outputs": [],
   "source": [
    "def earlystop_pgd(model, xent, inputs, targets, epsilon, alpha, num_repeats, tau, omega=0):\n",
    "    K = num_repeats\n",
    "    count = 0\n",
    "    output_target = []\n",
    "    output_adv = []\n",
    "    output_nat = []\n",
    "    control = (torch.ones(len(targets)) * tau).cuda()\n",
    "    \n",
    "    noise = torch.FloatTensor(inputs.shape).uniform_(-epsilon, epsilon).cuda()\n",
    "    x = torch.clamp(inputs + noise, min=0, max=1)\n",
    "    \n",
    "    iter_clean_data = inputs.cuda().detach()\n",
    "    iter_target = targets.cuda().detach()\n",
    "    output_iter_clean_data = model(inputs)\n",
    "    \n",
    "    while K > 0:\n",
    "        x.requires_grad_()\n",
    "        output = model(x)\n",
    "        pred = output.softmax(dim=1).max(1, keepdim=True)[1]\n",
    "        output_index = []\n",
    "        iter_index = []\n",
    "        \n",
    "        for idx in range(len(pred)):\n",
    "            if pred[idx] != iter_target[idx]:\n",
    "                if control[idx] == 0:\n",
    "                    output_index.append(idx)\n",
    "                else:\n",
    "                    control[idx] -= 1\n",
    "                    iter_index.append(idx)\n",
    "            else:\n",
    "                iter_index.append(idx)\n",
    "        \n",
    "        if len(output_index) != 0:\n",
    "            if len(output_target) == 0:\n",
    "                output_adv = x[output_index].reshape(-1,3,32,32).cuda()\n",
    "                output_nat = iter_clean_data[output_index].reshape(-1,3,32,32).cuda()\n",
    "                output_target = iter_target[output_index].reshape(-1).cuda()\n",
    "            else:\n",
    "                output_adv = torch.cat((output_adv, x[output_index].reshape(-1,3,32,32).cuda()), dim=0)\n",
    "                output_nat = torch.cat((output_nat, iter_clean_data[output_index].reshape(-1,3,32,32).cuda()), dim=0)\n",
    "                output_target = torch.cat((output_target, iter_target[output_index].reshape(-1).cuda()), dim=0)\n",
    "        \n",
    "        loss = xent(output, iter_target)\n",
    "        loss.backward()\n",
    "        grads = x.grad.data\n",
    "        \n",
    "        if len(iter_index) != 0:\n",
    "            control = control[iter_index]\n",
    "            x = x[iter_index]\n",
    "            iter_clean_data = iter_clean_data[iter_index]\n",
    "            iter_target = iter_target[iter_index]\n",
    "            output_iter_clean_data = output_iter_clean_data[iter_index]\n",
    "            grads = grads[iter_index]\n",
    "            eta = alpha * grads.sign()\n",
    "            \n",
    "            x = x.detach() + eta + omega * torch.randn(x.shape).detach().cuda()\n",
    "            x = torch.min(torch.max(x, iter_clean_data-epsilon), iter_clean_data+epsilon).clamp(min=0, max=1)\n",
    "            count += len(iter_target)\n",
    "        else:\n",
    "            output_adv = output_adv.detach()\n",
    "            return output_adv, output_target, output_nat, count\n",
    "        \n",
    "        K = K - 1\n",
    "    \n",
    "    if len(output_target) == 0:\n",
    "        output_target = iter_target.reshape(-1,3,32,32).cuda()\n",
    "        output_adv = x.reshape(-1,3,32,32).cuda()\n",
    "        output_nat = iter_clean_data.reshape(-1,3,32,32).cuda()\n",
    "    else:\n",
    "        output_adv = torch.cat((output_adv, x.reshape(-1,3,32,32)), dim=0).cuda()\n",
    "        output_target = torch.cat((output_target, iter_target.reshape(-1)), dim=0).squeeze().cuda()\n",
    "        output_nat = torch.cat((output_nat, iter_clean_data.reshape(-1,3,32,32).cuda()), dim=0).cuda()\n",
    "    output_adv = output_adv.detach()\n",
    "    return output_adv, output_target, output_nat, count"
   ]
  },
  {
   "cell_type": "markdown",
   "id": "afe2591b-4ebf-4714-a3f4-85cdac7f272d",
   "metadata": {},
   "source": [
    "## Training (Outer minimization)"
   ]
  },
  {
   "cell_type": "code",
   "execution_count": 4,
   "id": "db2276c9-d52b-4544-8448-42817161084d",
   "metadata": {},
   "outputs": [],
   "source": [
    "def training(epoch, model, dataloader, optimizer, num_classes,\n",
    "             tau, epsilon=8/255, alpha=2/255, num_repeats=10):\n",
    "    model.train()\n",
    "    total = 0\n",
    "    total_loss = 0\n",
    "    total_correct = 0\n",
    "        \n",
    "    xent = nn.CrossEntropyLoss()\n",
    "    for idx, (inputs, targets) in enumerate(dataloader):\n",
    "        inputs, targets = inputs.cuda(), targets.cuda()\n",
    "        batch = inputs.size(0)\n",
    "        \n",
    "        x_adv, y, x_nat, count  = earlystop_pgd(model, xent, inputs, targets, epsilon, alpha, num_repeats, tau, omega=0)\n",
    "        logits = model(x_adv)\n",
    "        loss = xent(logits, y)\n",
    "        \n",
    "        optimizer.zero_grad()\n",
    "        loss.backward()\n",
    "        optimizer.step()\n",
    "            \n",
    "        total += batch\n",
    "        total_loss += loss.item()\n",
    "        num_correct = torch.argmax(logits.data, dim=1).eq(y.data).cpu().sum().item()\n",
    "        total_correct += num_correct\n",
    "        \n",
    "        if idx % 100 == 0:\n",
    "            print('Epoch %d [%d/%d] | loss: %.4f (avg: %.4f) | acc: %.4f (avg: %.4f) |'\\\n",
    "                  % (epoch, idx, len(dataloader), loss.item(), total_loss/len(dataloader),\n",
    "                     num_correct/batch, total_correct/total))"
   ]
  },
  {
   "cell_type": "code",
   "execution_count": 5,
   "id": "2ff1c8d2-8e9c-441c-b471-9eb237eb3bf0",
   "metadata": {},
   "outputs": [],
   "source": [
    "def evaluation(epoch, model, dataloader, alpha, epsilon, num_repeats):\n",
    "    model.eval()\n",
    "    total_correct_nat = 0\n",
    "    total_correct_adv = 0\n",
    "    \n",
    "    xent = nn.CrossEntropyLoss()\n",
    "    with tqdm(dataloader) as pbar:\n",
    "        for index, (inputs, targets) in enumerate(pbar):\n",
    "            inputs, targets = inputs.cuda(), targets.cuda()\n",
    "            batch = inputs.size(0)\n",
    "            pbar.set_description(\"[eval] %d/%d\" % (index+1, len(dataloader.dataset)))\n",
    "        \n",
    "            noise = torch.FloatTensor(inputs.shape).uniform_(-epsilon,epsilon).cuda()\n",
    "            x = torch.clamp(inputs+noise, min=0, max=1)\n",
    "            for _ in range(num_repeats):\n",
    "                x.requires_grad_()\n",
    "                logits = model(x)\n",
    "                loss = xent(logits, targets)\n",
    "                loss.backward()\n",
    "                grads = x.grad.data\n",
    "                x = x.detach() + alpha*torch.sign(grads).detach()\n",
    "                x = torch.min(torch.max(x, inputs - epsilon), inputs + epsilon).clamp(min=0, max=1)\n",
    "        \n",
    "            with torch.no_grad():\n",
    "                logits_nat = model(inputs)\n",
    "                logits_adv = model(x)\n",
    "        \n",
    "            total_correct_nat += torch.argmax(logits_nat.data, dim=1).eq(targets.data).cpu().sum().item()\n",
    "            total_correct_adv += torch.argmax(logits_adv.data, dim=1).eq(targets.data).cpu().sum().item()\n",
    "            pbar.set_postfix(OrderedDict(acc_nat=total_correct_nat / len(dataloader.dataset),\n",
    "                                         acc_rob=total_correct_adv / len(dataloader.dataset)))\n",
    "        \n",
    "    return (total_correct_nat / len(dataloader.dataset)), (total_correct_adv / len(dataloader.dataset))"
   ]
  },
  {
   "cell_type": "code",
   "execution_count": 6,
   "id": "5d9584a8-5e51-4095-a62e-c599b1990777",
   "metadata": {},
   "outputs": [],
   "source": [
    "def adjust_tau(epoch, dynamictau, tau):\n",
    "    if dynamictau:\n",
    "        if epoch <= 50:\n",
    "            tau = 0\n",
    "        elif epoch <= 90:\n",
    "            tau = 1\n",
    "        else:\n",
    "            tau = 2\n",
    "    return tau\n",
    "\n",
    "def adjust_learning_rate(optimizer, epoch, lr):\n",
    "    \"\"\"decrease the learning rate\"\"\"\n",
    "    if epoch >= 60:\n",
    "        lr = lr * 0.1\n",
    "    if epoch >= 90:\n",
    "        lr = lr * 0.01\n",
    "    if epoch >= 110:\n",
    "        lr = lr * 0.005\n",
    "    for param_group in optimizer.param_groups:\n",
    "        param_group['lr'] = lr"
   ]
  },
  {
   "cell_type": "code",
   "execution_count": 7,
   "id": "208f000e-cb35-4ad5-93d5-fe47f788b266",
   "metadata": {
    "tags": []
   },
   "outputs": [
    {
     "name": "stdout",
     "output_type": "stream",
     "text": [
      "Files already downloaded and verified\n",
      "Files already downloaded and verified\n",
      "Epoch 0 [0/383] | loss: 2.3641 (avg: 0.0062) | acc: 0.0078 (avg: 0.0078) |\n",
      "Epoch 0 [100/383] | loss: 1.7517 (avg: 0.5451) | acc: 0.3125 (avg: 0.2057) |\n",
      "Epoch 0 [200/383] | loss: 1.7780 (avg: 1.0135) | acc: 0.2812 (avg: 0.2451) |\n",
      "Epoch 0 [300/383] | loss: 1.7770 (avg: 1.4558) | acc: 0.2422 (avg: 0.2680) |\n"
     ]
    },
    {
     "name": "stderr",
     "output_type": "stream",
     "text": [
      "[eval] 1000/1000: 100%|██████████| 1000/1000 [03:34<00:00,  4.65it/s, acc_nat=0.475, acc_rob=0.138]\n"
     ]
    },
    {
     "name": "stdout",
     "output_type": "stream",
     "text": [
      "Epoch 1 [0/383] | loss: 1.6750 (avg: 0.0044) | acc: 0.3359 (avg: 0.3359) |\n",
      "Epoch 1 [100/383] | loss: 1.4029 (avg: 0.4104) | acc: 0.4297 (avg: 0.3555) |\n",
      "Epoch 1 [200/383] | loss: 1.5228 (avg: 0.7964) | acc: 0.3828 (avg: 0.3707) |\n",
      "Epoch 1 [300/383] | loss: 1.3119 (avg: 1.1661) | acc: 0.4531 (avg: 0.3801) |\n"
     ]
    },
    {
     "name": "stderr",
     "output_type": "stream",
     "text": [
      "[eval] 1000/1000: 100%|██████████| 1000/1000 [03:39<00:00,  4.56it/s, acc_nat=0.53, acc_rob=0.204]\n"
     ]
    },
    {
     "name": "stdout",
     "output_type": "stream",
     "text": [
      "Epoch 2 [0/383] | loss: 1.3621 (avg: 0.0036) | acc: 0.3906 (avg: 0.3906) |\n",
      "Epoch 2 [100/383] | loss: 1.3016 (avg: 0.3405) | acc: 0.4375 (avg: 0.4501) |\n",
      "Epoch 2 [200/383] | loss: 1.0360 (avg: 0.6681) | acc: 0.5938 (avg: 0.4615) |\n",
      "Epoch 2 [300/383] | loss: 1.1709 (avg: 0.9925) | acc: 0.5312 (avg: 0.4651) |\n"
     ]
    },
    {
     "name": "stderr",
     "output_type": "stream",
     "text": [
      "[eval] 1000/1000: 100%|██████████| 1000/1000 [03:37<00:00,  4.59it/s, acc_nat=0.676, acc_rob=0.196]\n"
     ]
    },
    {
     "name": "stdout",
     "output_type": "stream",
     "text": [
      "Epoch 3 [0/383] | loss: 1.1097 (avg: 0.0029) | acc: 0.5312 (avg: 0.5312) |\n",
      "Epoch 3 [100/383] | loss: 1.2981 (avg: 0.3078) | acc: 0.4922 (avg: 0.5059) |\n",
      "Epoch 3 [200/383] | loss: 0.9496 (avg: 0.6018) | acc: 0.6250 (avg: 0.5130) |\n",
      "Epoch 3 [300/383] | loss: 1.0096 (avg: 0.8828) | acc: 0.5859 (avg: 0.5228) |\n"
     ]
    },
    {
     "name": "stderr",
     "output_type": "stream",
     "text": [
      "[eval] 1000/1000: 100%|██████████| 1000/1000 [03:35<00:00,  4.64it/s, acc_nat=0.607, acc_rob=0.282]\n"
     ]
    },
    {
     "name": "stdout",
     "output_type": "stream",
     "text": [
      "Epoch 4 [0/383] | loss: 0.8282 (avg: 0.0022) | acc: 0.6016 (avg: 0.6016) |\n",
      "Epoch 4 [100/383] | loss: 1.0720 (avg: 0.2676) | acc: 0.4766 (avg: 0.5746) |\n",
      "Epoch 4 [200/383] | loss: 0.8150 (avg: 0.5294) | acc: 0.6641 (avg: 0.5811) |\n",
      "Epoch 4 [300/383] | loss: 0.9254 (avg: 0.7898) | acc: 0.6250 (avg: 0.5789) |\n"
     ]
    },
    {
     "name": "stderr",
     "output_type": "stream",
     "text": [
      "[eval] 1000/1000: 100%|██████████| 1000/1000 [03:31<00:00,  4.72it/s, acc_nat=0.715, acc_rob=0.255]\n"
     ]
    },
    {
     "name": "stdout",
     "output_type": "stream",
     "text": [
      "Epoch 5 [0/383] | loss: 1.2596 (avg: 0.0033) | acc: 0.4375 (avg: 0.4375) |\n",
      "Epoch 5 [100/383] | loss: 0.9278 (avg: 0.2587) | acc: 0.5938 (avg: 0.5872) |\n",
      "Epoch 5 [200/383] | loss: 1.0323 (avg: 0.5046) | acc: 0.5703 (avg: 0.5939) |\n",
      "Epoch 5 [300/383] | loss: 0.9194 (avg: 0.7553) | acc: 0.6562 (avg: 0.5943) |\n"
     ]
    },
    {
     "name": "stderr",
     "output_type": "stream",
     "text": [
      "[eval] 1000/1000: 100%|██████████| 1000/1000 [03:34<00:00,  4.67it/s, acc_nat=0.679, acc_rob=0.279]\n"
     ]
    },
    {
     "name": "stdout",
     "output_type": "stream",
     "text": [
      "Epoch 6 [0/383] | loss: 0.8577 (avg: 0.0022) | acc: 0.6641 (avg: 0.6641) |\n",
      "Epoch 6 [100/383] | loss: 0.9289 (avg: 0.2382) | acc: 0.5703 (avg: 0.6202) |\n",
      "Epoch 6 [200/383] | loss: 0.8124 (avg: 0.4689) | acc: 0.6797 (avg: 0.6199) |\n",
      "Epoch 6 [300/383] | loss: 0.8016 (avg: 0.7062) | acc: 0.6641 (avg: 0.6165) |\n"
     ]
    },
    {
     "name": "stderr",
     "output_type": "stream",
     "text": [
      "[eval] 1000/1000: 100%|██████████| 1000/1000 [03:35<00:00,  4.64it/s, acc_nat=0.742, acc_rob=0.27]\n"
     ]
    },
    {
     "name": "stdout",
     "output_type": "stream",
     "text": [
      "Epoch 7 [0/383] | loss: 0.8560 (avg: 0.0022) | acc: 0.6406 (avg: 0.6406) |\n",
      "Epoch 7 [100/383] | loss: 0.6945 (avg: 0.2246) | acc: 0.7031 (avg: 0.6387) |\n",
      "Epoch 7 [200/383] | loss: 0.7514 (avg: 0.4544) | acc: 0.6797 (avg: 0.6290) |\n",
      "Epoch 7 [300/383] | loss: 0.8449 (avg: 0.6758) | acc: 0.6484 (avg: 0.6346) |\n"
     ]
    },
    {
     "name": "stderr",
     "output_type": "stream",
     "text": [
      "[eval] 1000/1000: 100%|██████████| 1000/1000 [03:33<00:00,  4.69it/s, acc_nat=0.723, acc_rob=0.312]\n"
     ]
    },
    {
     "name": "stdout",
     "output_type": "stream",
     "text": [
      "Epoch 8 [0/383] | loss: 0.8821 (avg: 0.0023) | acc: 0.6250 (avg: 0.6250) |\n",
      "Epoch 8 [100/383] | loss: 0.7421 (avg: 0.2143) | acc: 0.6875 (avg: 0.6561) |\n",
      "Epoch 8 [200/383] | loss: 0.9074 (avg: 0.4292) | acc: 0.6641 (avg: 0.6553) |\n",
      "Epoch 8 [300/383] | loss: 0.8072 (avg: 0.6448) | acc: 0.6797 (avg: 0.6523) |\n"
     ]
    },
    {
     "name": "stderr",
     "output_type": "stream",
     "text": [
      "[eval] 1000/1000: 100%|██████████| 1000/1000 [03:37<00:00,  4.60it/s, acc_nat=0.71, acc_rob=0.329]\n"
     ]
    },
    {
     "name": "stdout",
     "output_type": "stream",
     "text": [
      "Epoch 9 [0/383] | loss: 0.8796 (avg: 0.0023) | acc: 0.6016 (avg: 0.6016) |\n",
      "Epoch 9 [100/383] | loss: 0.6809 (avg: 0.2152) | acc: 0.7031 (avg: 0.6465) |\n",
      "Epoch 9 [200/383] | loss: 0.6825 (avg: 0.4126) | acc: 0.6953 (avg: 0.6657) |\n",
      "Epoch 9 [300/383] | loss: 0.7560 (avg: 0.6153) | acc: 0.6719 (avg: 0.6683) |\n"
     ]
    },
    {
     "name": "stderr",
     "output_type": "stream",
     "text": [
      "[eval] 1000/1000: 100%|██████████| 1000/1000 [03:34<00:00,  4.67it/s, acc_nat=0.752, acc_rob=0.326]\n"
     ]
    },
    {
     "name": "stdout",
     "output_type": "stream",
     "text": [
      "Epoch 10 [0/383] | loss: 0.8945 (avg: 0.0023) | acc: 0.6484 (avg: 0.6484) |\n",
      "Epoch 10 [100/383] | loss: 0.6697 (avg: 0.2001) | acc: 0.7188 (avg: 0.6768) |\n",
      "Epoch 10 [200/383] | loss: 0.7616 (avg: 0.3937) | acc: 0.6719 (avg: 0.6812) |\n",
      "Epoch 10 [300/383] | loss: 0.6710 (avg: 0.5860) | acc: 0.7188 (avg: 0.6856) |\n"
     ]
    },
    {
     "name": "stderr",
     "output_type": "stream",
     "text": [
      "[eval] 1000/1000: 100%|██████████| 1000/1000 [03:34<00:00,  4.66it/s, acc_nat=0.759, acc_rob=0.243]\n"
     ]
    },
    {
     "name": "stdout",
     "output_type": "stream",
     "text": [
      "Epoch 11 [0/383] | loss: 0.7523 (avg: 0.0020) | acc: 0.7266 (avg: 0.7266) |\n",
      "Epoch 11 [100/383] | loss: 0.6802 (avg: 0.1954) | acc: 0.7500 (avg: 0.6853) |\n",
      "Epoch 11 [200/383] | loss: 0.6377 (avg: 0.3849) | acc: 0.7578 (avg: 0.6905) |\n",
      "Epoch 11 [300/383] | loss: 0.6874 (avg: 0.5793) | acc: 0.7031 (avg: 0.6880) |\n"
     ]
    },
    {
     "name": "stderr",
     "output_type": "stream",
     "text": [
      "[eval] 1000/1000: 100%|██████████| 1000/1000 [03:30<00:00,  4.75it/s, acc_nat=0.786, acc_rob=0.314]\n"
     ]
    },
    {
     "name": "stdout",
     "output_type": "stream",
     "text": [
      "Epoch 12 [0/383] | loss: 0.6713 (avg: 0.0018) | acc: 0.7344 (avg: 0.7344) |\n",
      "Epoch 12 [100/383] | loss: 0.6678 (avg: 0.1834) | acc: 0.6875 (avg: 0.7116) |\n",
      "Epoch 12 [200/383] | loss: 0.6663 (avg: 0.3636) | acc: 0.7422 (avg: 0.7109) |\n",
      "Epoch 12 [300/383] | loss: 0.7315 (avg: 0.5496) | acc: 0.7344 (avg: 0.7080) |\n"
     ]
    },
    {
     "name": "stderr",
     "output_type": "stream",
     "text": [
      "[eval] 1000/1000: 100%|██████████| 1000/1000 [03:25<00:00,  4.87it/s, acc_nat=0.786, acc_rob=0.34]\n"
     ]
    },
    {
     "name": "stdout",
     "output_type": "stream",
     "text": [
      "Epoch 13 [0/383] | loss: 0.5522 (avg: 0.0014) | acc: 0.7656 (avg: 0.7656) |\n",
      "Epoch 13 [100/383] | loss: 0.5996 (avg: 0.1863) | acc: 0.7812 (avg: 0.7007) |\n",
      "Epoch 13 [200/383] | loss: 0.7167 (avg: 0.3640) | acc: 0.6484 (avg: 0.7083) |\n",
      "Epoch 13 [300/383] | loss: 0.7117 (avg: 0.5335) | acc: 0.7500 (avg: 0.7163) |\n"
     ]
    },
    {
     "name": "stderr",
     "output_type": "stream",
     "text": [
      "[eval] 1000/1000: 100%|██████████| 1000/1000 [03:31<00:00,  4.73it/s, acc_nat=0.782, acc_rob=0.329]\n"
     ]
    },
    {
     "name": "stdout",
     "output_type": "stream",
     "text": [
      "Epoch 14 [0/383] | loss: 0.4878 (avg: 0.0013) | acc: 0.7891 (avg: 0.7891) |\n",
      "Epoch 14 [100/383] | loss: 0.6134 (avg: 0.1657) | acc: 0.7578 (avg: 0.7381) |\n",
      "Epoch 14 [200/383] | loss: 0.5877 (avg: 0.3395) | acc: 0.7188 (avg: 0.7278) |\n",
      "Epoch 14 [300/383] | loss: 0.6440 (avg: 0.5075) | acc: 0.7266 (avg: 0.7302) |\n"
     ]
    },
    {
     "name": "stderr",
     "output_type": "stream",
     "text": [
      "[eval] 1000/1000: 100%|██████████| 1000/1000 [03:30<00:00,  4.75it/s, acc_nat=0.796, acc_rob=0.342]\n"
     ]
    },
    {
     "name": "stdout",
     "output_type": "stream",
     "text": [
      "Epoch 15 [0/383] | loss: 0.4917 (avg: 0.0013) | acc: 0.8203 (avg: 0.8203) |\n",
      "Epoch 15 [100/383] | loss: 0.6021 (avg: 0.1578) | acc: 0.7109 (avg: 0.7474) |\n",
      "Epoch 15 [200/383] | loss: 0.6786 (avg: 0.3367) | acc: 0.7266 (avg: 0.7290) |\n",
      "Epoch 15 [300/383] | loss: 0.5954 (avg: 0.5049) | acc: 0.7734 (avg: 0.7295) |\n"
     ]
    },
    {
     "name": "stderr",
     "output_type": "stream",
     "text": [
      "[eval] 1000/1000: 100%|██████████| 1000/1000 [03:35<00:00,  4.65it/s, acc_nat=0.786, acc_rob=0.348]\n"
     ]
    },
    {
     "name": "stdout",
     "output_type": "stream",
     "text": [
      "Epoch 16 [0/383] | loss: 0.6277 (avg: 0.0016) | acc: 0.7109 (avg: 0.7109) |\n",
      "Epoch 16 [100/383] | loss: 0.5995 (avg: 0.1646) | acc: 0.7656 (avg: 0.7322) |\n",
      "Epoch 16 [200/383] | loss: 0.6723 (avg: 0.3283) | acc: 0.7344 (avg: 0.7335) |\n",
      "Epoch 16 [300/383] | loss: 0.8378 (avg: 0.4980) | acc: 0.6328 (avg: 0.7299) |\n"
     ]
    },
    {
     "name": "stderr",
     "output_type": "stream",
     "text": [
      "[eval] 1000/1000: 100%|██████████| 1000/1000 [03:36<00:00,  4.62it/s, acc_nat=0.787, acc_rob=0.318]\n"
     ]
    },
    {
     "name": "stdout",
     "output_type": "stream",
     "text": [
      "Epoch 17 [0/383] | loss: 0.5289 (avg: 0.0014) | acc: 0.7578 (avg: 0.7578) |\n",
      "Epoch 17 [100/383] | loss: 0.6191 (avg: 0.1565) | acc: 0.7109 (avg: 0.7500) |\n",
      "Epoch 17 [200/383] | loss: 0.5777 (avg: 0.3115) | acc: 0.7422 (avg: 0.7519) |\n",
      "Epoch 17 [300/383] | loss: 0.5517 (avg: 0.4694) | acc: 0.8125 (avg: 0.7493) |\n"
     ]
    },
    {
     "name": "stderr",
     "output_type": "stream",
     "text": [
      "[eval] 1000/1000: 100%|██████████| 1000/1000 [03:33<00:00,  4.69it/s, acc_nat=0.815, acc_rob=0.34]\n"
     ]
    },
    {
     "name": "stdout",
     "output_type": "stream",
     "text": [
      "Epoch 18 [0/383] | loss: 0.5881 (avg: 0.0015) | acc: 0.7578 (avg: 0.7578) |\n",
      "Epoch 18 [100/383] | loss: 0.5729 (avg: 0.1483) | acc: 0.7656 (avg: 0.7632) |\n",
      "Epoch 18 [200/383] | loss: 0.6142 (avg: 0.3108) | acc: 0.7500 (avg: 0.7490) |\n",
      "Epoch 18 [300/383] | loss: 0.5363 (avg: 0.4716) | acc: 0.7734 (avg: 0.7443) |\n"
     ]
    },
    {
     "name": "stderr",
     "output_type": "stream",
     "text": [
      "[eval] 1000/1000: 100%|██████████| 1000/1000 [03:34<00:00,  4.66it/s, acc_nat=0.783, acc_rob=0.351]\n"
     ]
    },
    {
     "name": "stdout",
     "output_type": "stream",
     "text": [
      "Epoch 19 [0/383] | loss: 0.4472 (avg: 0.0012) | acc: 0.8125 (avg: 0.8125) |\n",
      "Epoch 19 [100/383] | loss: 0.4890 (avg: 0.1518) | acc: 0.7891 (avg: 0.7587) |\n",
      "Epoch 19 [200/383] | loss: 0.4053 (avg: 0.3002) | acc: 0.8203 (avg: 0.7584) |\n",
      "Epoch 19 [300/383] | loss: 0.6811 (avg: 0.4578) | acc: 0.6875 (avg: 0.7539) |\n"
     ]
    },
    {
     "name": "stderr",
     "output_type": "stream",
     "text": [
      "[eval] 1000/1000: 100%|██████████| 1000/1000 [03:32<00:00,  4.70it/s, acc_nat=0.805, acc_rob=0.319]\n"
     ]
    },
    {
     "name": "stdout",
     "output_type": "stream",
     "text": [
      "Epoch 20 [0/383] | loss: 0.6652 (avg: 0.0017) | acc: 0.7500 (avg: 0.7500) |\n",
      "Epoch 20 [100/383] | loss: 0.5397 (avg: 0.1451) | acc: 0.7656 (avg: 0.7640) |\n",
      "Epoch 20 [200/383] | loss: 0.5763 (avg: 0.2939) | acc: 0.7500 (avg: 0.7639) |\n",
      "Epoch 20 [300/383] | loss: 0.4493 (avg: 0.4509) | acc: 0.8203 (avg: 0.7577) |\n"
     ]
    },
    {
     "name": "stderr",
     "output_type": "stream",
     "text": [
      "[eval] 1000/1000: 100%|██████████| 1000/1000 [03:30<00:00,  4.76it/s, acc_nat=0.816, acc_rob=0.354]\n"
     ]
    },
    {
     "name": "stdout",
     "output_type": "stream",
     "text": [
      "Epoch 21 [0/383] | loss: 0.5986 (avg: 0.0016) | acc: 0.7500 (avg: 0.7500) |\n",
      "Epoch 21 [100/383] | loss: 0.4831 (avg: 0.1444) | acc: 0.8203 (avg: 0.7736) |\n",
      "Epoch 21 [200/383] | loss: 0.5626 (avg: 0.2928) | acc: 0.7578 (avg: 0.7686) |\n",
      "Epoch 21 [300/383] | loss: 0.5722 (avg: 0.4509) | acc: 0.7031 (avg: 0.7590) |\n"
     ]
    },
    {
     "name": "stderr",
     "output_type": "stream",
     "text": [
      "[eval] 1000/1000: 100%|██████████| 1000/1000 [03:33<00:00,  4.69it/s, acc_nat=0.812, acc_rob=0.353]\n"
     ]
    },
    {
     "name": "stdout",
     "output_type": "stream",
     "text": [
      "Epoch 22 [0/383] | loss: 0.5674 (avg: 0.0015) | acc: 0.7344 (avg: 0.7344) |\n",
      "Epoch 22 [100/383] | loss: 0.3714 (avg: 0.1447) | acc: 0.8516 (avg: 0.7597) |\n",
      "Epoch 22 [200/383] | loss: 0.5258 (avg: 0.2843) | acc: 0.7891 (avg: 0.7657) |\n",
      "Epoch 22 [300/383] | loss: 0.5319 (avg: 0.4339) | acc: 0.8203 (avg: 0.7618) |\n"
     ]
    },
    {
     "name": "stderr",
     "output_type": "stream",
     "text": [
      "[eval] 1000/1000: 100%|██████████| 1000/1000 [03:29<00:00,  4.78it/s, acc_nat=0.792, acc_rob=0.344]\n"
     ]
    },
    {
     "name": "stdout",
     "output_type": "stream",
     "text": [
      "Epoch 23 [0/383] | loss: 0.5609 (avg: 0.0015) | acc: 0.7656 (avg: 0.7656) |\n",
      "Epoch 23 [100/383] | loss: 0.5331 (avg: 0.1375) | acc: 0.8047 (avg: 0.7781) |\n",
      "Epoch 23 [200/383] | loss: 0.5208 (avg: 0.2806) | acc: 0.7734 (avg: 0.7705) |\n",
      "Epoch 23 [300/383] | loss: 0.5778 (avg: 0.4272) | acc: 0.7656 (avg: 0.7687) |\n"
     ]
    },
    {
     "name": "stderr",
     "output_type": "stream",
     "text": [
      "[eval] 1000/1000: 100%|██████████| 1000/1000 [03:31<00:00,  4.74it/s, acc_nat=0.819, acc_rob=0.373]\n"
     ]
    },
    {
     "name": "stdout",
     "output_type": "stream",
     "text": [
      "Epoch 24 [0/383] | loss: 0.4590 (avg: 0.0012) | acc: 0.7734 (avg: 0.7734) |\n",
      "Epoch 24 [100/383] | loss: 0.6270 (avg: 0.1472) | acc: 0.7266 (avg: 0.7578) |\n",
      "Epoch 24 [200/383] | loss: 0.4608 (avg: 0.2907) | acc: 0.8281 (avg: 0.7591) |\n",
      "Epoch 24 [300/383] | loss: 0.7180 (avg: 0.4357) | acc: 0.6328 (avg: 0.7599) |\n"
     ]
    },
    {
     "name": "stderr",
     "output_type": "stream",
     "text": [
      "[eval] 1000/1000: 100%|██████████| 1000/1000 [03:32<00:00,  4.71it/s, acc_nat=0.815, acc_rob=0.355]\n"
     ]
    },
    {
     "name": "stdout",
     "output_type": "stream",
     "text": [
      "Epoch 25 [0/383] | loss: 0.5378 (avg: 0.0014) | acc: 0.7891 (avg: 0.7891) |\n",
      "Epoch 25 [100/383] | loss: 0.5217 (avg: 0.1450) | acc: 0.7812 (avg: 0.7586) |\n",
      "Epoch 25 [200/383] | loss: 0.4950 (avg: 0.2775) | acc: 0.8047 (avg: 0.7717) |\n",
      "Epoch 25 [300/383] | loss: 0.6371 (avg: 0.4341) | acc: 0.6953 (avg: 0.7604) |\n"
     ]
    },
    {
     "name": "stderr",
     "output_type": "stream",
     "text": [
      "[eval] 1000/1000: 100%|██████████| 1000/1000 [03:30<00:00,  4.76it/s, acc_nat=0.818, acc_rob=0.372]\n"
     ]
    },
    {
     "name": "stdout",
     "output_type": "stream",
     "text": [
      "Epoch 26 [0/383] | loss: 0.4213 (avg: 0.0011) | acc: 0.8047 (avg: 0.8047) |\n",
      "Epoch 26 [100/383] | loss: 0.5546 (avg: 0.1314) | acc: 0.7734 (avg: 0.7852) |\n",
      "Epoch 26 [200/383] | loss: 0.3811 (avg: 0.2610) | acc: 0.8203 (avg: 0.7858) |\n",
      "Epoch 26 [300/383] | loss: 0.4973 (avg: 0.4005) | acc: 0.7578 (avg: 0.7804) |\n"
     ]
    },
    {
     "name": "stderr",
     "output_type": "stream",
     "text": [
      "[eval] 1000/1000: 100%|██████████| 1000/1000 [03:34<00:00,  4.66it/s, acc_nat=0.841, acc_rob=0.366]\n"
     ]
    },
    {
     "name": "stdout",
     "output_type": "stream",
     "text": [
      "Epoch 27 [0/383] | loss: 0.4269 (avg: 0.0011) | acc: 0.7969 (avg: 0.7969) |\n",
      "Epoch 27 [100/383] | loss: 0.4635 (avg: 0.1204) | acc: 0.7969 (avg: 0.8092) |\n",
      "Epoch 27 [200/383] | loss: 0.5799 (avg: 0.2547) | acc: 0.7266 (avg: 0.7936) |\n",
      "Epoch 27 [300/383] | loss: 0.6427 (avg: 0.3951) | acc: 0.7266 (avg: 0.7838) |\n"
     ]
    },
    {
     "name": "stderr",
     "output_type": "stream",
     "text": [
      "[eval] 1000/1000: 100%|██████████| 1000/1000 [03:28<00:00,  4.79it/s, acc_nat=0.797, acc_rob=0.352]\n"
     ]
    },
    {
     "name": "stdout",
     "output_type": "stream",
     "text": [
      "Epoch 28 [0/383] | loss: 0.4513 (avg: 0.0012) | acc: 0.8125 (avg: 0.8125) |\n",
      "Epoch 28 [100/383] | loss: 0.3767 (avg: 0.1296) | acc: 0.8594 (avg: 0.7835) |\n",
      "Epoch 28 [200/383] | loss: 0.4377 (avg: 0.2580) | acc: 0.8359 (avg: 0.7867) |\n",
      "Epoch 28 [300/383] | loss: 0.3864 (avg: 0.3954) | acc: 0.8359 (avg: 0.7822) |\n"
     ]
    },
    {
     "name": "stderr",
     "output_type": "stream",
     "text": [
      "[eval] 1000/1000: 100%|██████████| 1000/1000 [03:35<00:00,  4.65it/s, acc_nat=0.829, acc_rob=0.357]\n"
     ]
    },
    {
     "name": "stdout",
     "output_type": "stream",
     "text": [
      "Epoch 29 [0/383] | loss: 0.4752 (avg: 0.0012) | acc: 0.8203 (avg: 0.8203) |\n",
      "Epoch 29 [100/383] | loss: 0.6614 (avg: 0.1271) | acc: 0.7109 (avg: 0.7875) |\n",
      "Epoch 29 [200/383] | loss: 0.5021 (avg: 0.2594) | acc: 0.8047 (avg: 0.7846) |\n",
      "Epoch 29 [300/383] | loss: 0.3686 (avg: 0.3887) | acc: 0.8281 (avg: 0.7856) |\n"
     ]
    },
    {
     "name": "stderr",
     "output_type": "stream",
     "text": [
      "[eval] 1000/1000: 100%|██████████| 1000/1000 [03:35<00:00,  4.65it/s, acc_nat=0.843, acc_rob=0.294]\n"
     ]
    },
    {
     "name": "stdout",
     "output_type": "stream",
     "text": [
      "Epoch 30 [0/383] | loss: 0.4425 (avg: 0.0012) | acc: 0.8203 (avg: 0.8203) |\n",
      "Epoch 30 [100/383] | loss: 0.5651 (avg: 0.1293) | acc: 0.7734 (avg: 0.7860) |\n",
      "Epoch 30 [200/383] | loss: 0.4489 (avg: 0.2540) | acc: 0.7656 (avg: 0.7873) |\n",
      "Epoch 30 [300/383] | loss: 0.4912 (avg: 0.3870) | acc: 0.7969 (avg: 0.7824) |\n"
     ]
    },
    {
     "name": "stderr",
     "output_type": "stream",
     "text": [
      "[eval] 1000/1000: 100%|██████████| 1000/1000 [03:27<00:00,  4.83it/s, acc_nat=0.833, acc_rob=0.374]\n"
     ]
    },
    {
     "name": "stdout",
     "output_type": "stream",
     "text": [
      "Epoch 31 [0/383] | loss: 0.3906 (avg: 0.0010) | acc: 0.8359 (avg: 0.8359) |\n",
      "Epoch 31 [100/383] | loss: 0.5704 (avg: 0.1347) | acc: 0.7891 (avg: 0.7761) |\n",
      "Epoch 31 [200/383] | loss: 0.5058 (avg: 0.2671) | acc: 0.7500 (avg: 0.7746) |\n",
      "Epoch 31 [300/383] | loss: 0.5196 (avg: 0.4024) | acc: 0.7656 (avg: 0.7729) |\n"
     ]
    },
    {
     "name": "stderr",
     "output_type": "stream",
     "text": [
      "[eval] 1000/1000: 100%|██████████| 1000/1000 [03:29<00:00,  4.78it/s, acc_nat=0.822, acc_rob=0.368]\n"
     ]
    },
    {
     "name": "stdout",
     "output_type": "stream",
     "text": [
      "Epoch 32 [0/383] | loss: 0.3824 (avg: 0.0010) | acc: 0.8047 (avg: 0.8047) |\n",
      "Epoch 32 [100/383] | loss: 0.3819 (avg: 0.1264) | acc: 0.8516 (avg: 0.7884) |\n",
      "Epoch 32 [200/383] | loss: 0.6018 (avg: 0.2540) | acc: 0.7109 (avg: 0.7887) |\n",
      "Epoch 32 [300/383] | loss: 0.4512 (avg: 0.3795) | acc: 0.7578 (avg: 0.7890) |\n"
     ]
    },
    {
     "name": "stderr",
     "output_type": "stream",
     "text": [
      "[eval] 1000/1000: 100%|██████████| 1000/1000 [03:26<00:00,  4.85it/s, acc_nat=0.829, acc_rob=0.354]\n"
     ]
    },
    {
     "name": "stdout",
     "output_type": "stream",
     "text": [
      "Epoch 33 [0/383] | loss: 0.3973 (avg: 0.0010) | acc: 0.8281 (avg: 0.8281) |\n",
      "Epoch 33 [100/383] | loss: 0.5219 (avg: 0.1265) | acc: 0.7656 (avg: 0.7930) |\n",
      "Epoch 33 [200/383] | loss: 0.4730 (avg: 0.2497) | acc: 0.7891 (avg: 0.7935) |\n",
      "Epoch 33 [300/383] | loss: 0.8112 (avg: 0.3833) | acc: 0.6797 (avg: 0.7876) |\n"
     ]
    },
    {
     "name": "stderr",
     "output_type": "stream",
     "text": [
      "[eval] 1000/1000: 100%|██████████| 1000/1000 [03:34<00:00,  4.67it/s, acc_nat=0.846, acc_rob=0.379]\n"
     ]
    },
    {
     "name": "stdout",
     "output_type": "stream",
     "text": [
      "Epoch 34 [0/383] | loss: 0.4948 (avg: 0.0013) | acc: 0.7578 (avg: 0.7578) |\n",
      "Epoch 34 [100/383] | loss: 0.4275 (avg: 0.1277) | acc: 0.7812 (avg: 0.7874) |\n",
      "Epoch 34 [200/383] | loss: 0.5620 (avg: 0.2597) | acc: 0.7578 (avg: 0.7817) |\n",
      "Epoch 34 [300/383] | loss: 0.4129 (avg: 0.3891) | acc: 0.8125 (avg: 0.7815) |\n"
     ]
    },
    {
     "name": "stderr",
     "output_type": "stream",
     "text": [
      "[eval] 1000/1000: 100%|██████████| 1000/1000 [03:25<00:00,  4.87it/s, acc_nat=0.845, acc_rob=0.372]\n"
     ]
    },
    {
     "name": "stdout",
     "output_type": "stream",
     "text": [
      "Epoch 35 [0/383] | loss: 0.4671 (avg: 0.0012) | acc: 0.7734 (avg: 0.7734) |\n",
      "Epoch 35 [100/383] | loss: 0.4815 (avg: 0.1304) | acc: 0.8203 (avg: 0.7726) |\n",
      "Epoch 35 [200/383] | loss: 0.4025 (avg: 0.2545) | acc: 0.8359 (avg: 0.7833) |\n",
      "Epoch 35 [300/383] | loss: 0.3962 (avg: 0.3816) | acc: 0.8281 (avg: 0.7838) |\n"
     ]
    },
    {
     "name": "stderr",
     "output_type": "stream",
     "text": [
      "[eval] 1000/1000: 100%|██████████| 1000/1000 [03:36<00:00,  4.61it/s, acc_nat=0.81, acc_rob=0.374]\n"
     ]
    },
    {
     "name": "stdout",
     "output_type": "stream",
     "text": [
      "Epoch 36 [0/383] | loss: 0.4827 (avg: 0.0013) | acc: 0.8125 (avg: 0.8125) |\n",
      "Epoch 36 [100/383] | loss: 0.4761 (avg: 0.1240) | acc: 0.7969 (avg: 0.7959) |\n",
      "Epoch 36 [200/383] | loss: 0.4201 (avg: 0.2527) | acc: 0.8359 (avg: 0.7898) |\n",
      "Epoch 36 [300/383] | loss: 0.6404 (avg: 0.3780) | acc: 0.7344 (avg: 0.7902) |\n"
     ]
    },
    {
     "name": "stderr",
     "output_type": "stream",
     "text": [
      "[eval] 1000/1000: 100%|██████████| 1000/1000 [03:29<00:00,  4.76it/s, acc_nat=0.86, acc_rob=0.329]\n"
     ]
    },
    {
     "name": "stdout",
     "output_type": "stream",
     "text": [
      "Epoch 37 [0/383] | loss: 0.3330 (avg: 0.0009) | acc: 0.8438 (avg: 0.8438) |\n",
      "Epoch 37 [100/383] | loss: 0.4075 (avg: 0.1232) | acc: 0.8516 (avg: 0.7896) |\n",
      "Epoch 37 [200/383] | loss: 0.4086 (avg: 0.2445) | acc: 0.8125 (avg: 0.7910) |\n",
      "Epoch 37 [300/383] | loss: 0.5348 (avg: 0.3740) | acc: 0.7891 (avg: 0.7878) |\n"
     ]
    },
    {
     "name": "stderr",
     "output_type": "stream",
     "text": [
      "[eval] 1000/1000: 100%|██████████| 1000/1000 [03:30<00:00,  4.76it/s, acc_nat=0.861, acc_rob=0.356]\n"
     ]
    },
    {
     "name": "stdout",
     "output_type": "stream",
     "text": [
      "Epoch 38 [0/383] | loss: 0.4553 (avg: 0.0012) | acc: 0.7812 (avg: 0.7812) |\n",
      "Epoch 38 [100/383] | loss: 0.4261 (avg: 0.1212) | acc: 0.7891 (avg: 0.7979) |\n",
      "Epoch 38 [200/383] | loss: 0.3847 (avg: 0.2492) | acc: 0.8281 (avg: 0.7917) |\n",
      "Epoch 38 [300/383] | loss: 0.4493 (avg: 0.3808) | acc: 0.8047 (avg: 0.7873) |\n"
     ]
    },
    {
     "name": "stderr",
     "output_type": "stream",
     "text": [
      "[eval] 1000/1000: 100%|██████████| 1000/1000 [03:31<00:00,  4.73it/s, acc_nat=0.823, acc_rob=0.37]\n"
     ]
    },
    {
     "name": "stdout",
     "output_type": "stream",
     "text": [
      "Epoch 39 [0/383] | loss: 0.4073 (avg: 0.0011) | acc: 0.7812 (avg: 0.7812) |\n",
      "Epoch 39 [100/383] | loss: 0.3816 (avg: 0.1204) | acc: 0.8594 (avg: 0.7994) |\n",
      "Epoch 39 [200/383] | loss: 0.5021 (avg: 0.2433) | acc: 0.7578 (avg: 0.7950) |\n",
      "Epoch 39 [300/383] | loss: 0.5227 (avg: 0.3749) | acc: 0.7891 (avg: 0.7872) |\n"
     ]
    },
    {
     "name": "stderr",
     "output_type": "stream",
     "text": [
      "[eval] 1000/1000: 100%|██████████| 1000/1000 [03:27<00:00,  4.81it/s, acc_nat=0.86, acc_rob=0.365]\n"
     ]
    },
    {
     "name": "stdout",
     "output_type": "stream",
     "text": [
      "Epoch 40 [0/383] | loss: 0.4540 (avg: 0.0012) | acc: 0.7891 (avg: 0.7891) |\n",
      "Epoch 40 [100/383] | loss: 0.4637 (avg: 0.1234) | acc: 0.8125 (avg: 0.7848) |\n",
      "Epoch 40 [200/383] | loss: 0.6358 (avg: 0.2424) | acc: 0.7344 (avg: 0.7921) |\n",
      "Epoch 40 [300/383] | loss: 0.5181 (avg: 0.3624) | acc: 0.7344 (avg: 0.7956) |\n"
     ]
    },
    {
     "name": "stderr",
     "output_type": "stream",
     "text": [
      "[eval] 1000/1000: 100%|██████████| 1000/1000 [03:43<00:00,  4.47it/s, acc_nat=0.847, acc_rob=0.365]\n"
     ]
    },
    {
     "name": "stdout",
     "output_type": "stream",
     "text": [
      "Epoch 41 [0/383] | loss: 0.4443 (avg: 0.0012) | acc: 0.8359 (avg: 0.8359) |\n",
      "Epoch 41 [100/383] | loss: 0.4290 (avg: 0.1165) | acc: 0.7891 (avg: 0.8049) |\n",
      "Epoch 41 [200/383] | loss: 0.5223 (avg: 0.2339) | acc: 0.7656 (avg: 0.8027) |\n",
      "Epoch 41 [300/383] | loss: 0.5178 (avg: 0.3597) | acc: 0.7734 (avg: 0.7957) |\n"
     ]
    },
    {
     "name": "stderr",
     "output_type": "stream",
     "text": [
      "[eval] 1000/1000: 100%|██████████| 1000/1000 [03:27<00:00,  4.83it/s, acc_nat=0.82, acc_rob=0.392]\n"
     ]
    },
    {
     "name": "stdout",
     "output_type": "stream",
     "text": [
      "Epoch 42 [0/383] | loss: 0.3737 (avg: 0.0010) | acc: 0.8281 (avg: 0.8281) |\n",
      "Epoch 42 [100/383] | loss: 0.4412 (avg: 0.1189) | acc: 0.7812 (avg: 0.7910) |\n",
      "Epoch 42 [200/383] | loss: 0.3988 (avg: 0.2396) | acc: 0.7969 (avg: 0.7923) |\n",
      "Epoch 42 [300/383] | loss: 0.4523 (avg: 0.3684) | acc: 0.7656 (avg: 0.7879) |\n"
     ]
    },
    {
     "name": "stderr",
     "output_type": "stream",
     "text": [
      "[eval] 1000/1000: 100%|██████████| 1000/1000 [03:33<00:00,  4.68it/s, acc_nat=0.838, acc_rob=0.393]\n"
     ]
    },
    {
     "name": "stdout",
     "output_type": "stream",
     "text": [
      "Epoch 43 [0/383] | loss: 0.4796 (avg: 0.0013) | acc: 0.7891 (avg: 0.7891) |\n",
      "Epoch 43 [100/383] | loss: 0.4518 (avg: 0.1182) | acc: 0.8047 (avg: 0.7975) |\n",
      "Epoch 43 [200/383] | loss: 0.3891 (avg: 0.2399) | acc: 0.8047 (avg: 0.7926) |\n",
      "Epoch 43 [300/383] | loss: 0.4659 (avg: 0.3648) | acc: 0.8125 (avg: 0.7887) |\n"
     ]
    },
    {
     "name": "stderr",
     "output_type": "stream",
     "text": [
      "[eval] 1000/1000: 100%|██████████| 1000/1000 [03:29<00:00,  4.78it/s, acc_nat=0.838, acc_rob=0.366]\n"
     ]
    },
    {
     "name": "stdout",
     "output_type": "stream",
     "text": [
      "Epoch 44 [0/383] | loss: 0.3509 (avg: 0.0009) | acc: 0.8438 (avg: 0.8438) |\n",
      "Epoch 44 [100/383] | loss: 0.3951 (avg: 0.1194) | acc: 0.7969 (avg: 0.7975) |\n",
      "Epoch 44 [200/383] | loss: 0.3730 (avg: 0.2415) | acc: 0.8594 (avg: 0.7924) |\n",
      "Epoch 44 [300/383] | loss: 0.4790 (avg: 0.3624) | acc: 0.8125 (avg: 0.7916) |\n"
     ]
    },
    {
     "name": "stderr",
     "output_type": "stream",
     "text": [
      "[eval] 1000/1000: 100%|██████████| 1000/1000 [03:29<00:00,  4.78it/s, acc_nat=0.821, acc_rob=0.334]\n"
     ]
    },
    {
     "name": "stdout",
     "output_type": "stream",
     "text": [
      "Epoch 45 [0/383] | loss: 0.3954 (avg: 0.0010) | acc: 0.8125 (avg: 0.8125) |\n",
      "Epoch 45 [100/383] | loss: 0.4254 (avg: 0.1201) | acc: 0.7969 (avg: 0.7944) |\n",
      "Epoch 45 [200/383] | loss: 0.5204 (avg: 0.2390) | acc: 0.7266 (avg: 0.7966) |\n",
      "Epoch 45 [300/383] | loss: 0.5595 (avg: 0.3586) | acc: 0.7578 (avg: 0.7955) |\n"
     ]
    },
    {
     "name": "stderr",
     "output_type": "stream",
     "text": [
      "[eval] 1000/1000: 100%|██████████| 1000/1000 [03:31<00:00,  4.74it/s, acc_nat=0.841, acc_rob=0.406]\n"
     ]
    },
    {
     "name": "stdout",
     "output_type": "stream",
     "text": [
      "Epoch 46 [0/383] | loss: 0.3809 (avg: 0.0010) | acc: 0.8359 (avg: 0.8359) |\n",
      "Epoch 46 [100/383] | loss: 0.5056 (avg: 0.1243) | acc: 0.7578 (avg: 0.7890) |\n",
      "Epoch 46 [200/383] | loss: 0.5782 (avg: 0.2435) | acc: 0.7422 (avg: 0.7894) |\n",
      "Epoch 46 [300/383] | loss: 0.4556 (avg: 0.3682) | acc: 0.7891 (avg: 0.7881) |\n"
     ]
    },
    {
     "name": "stderr",
     "output_type": "stream",
     "text": [
      "[eval] 1000/1000: 100%|██████████| 1000/1000 [03:22<00:00,  4.94it/s, acc_nat=0.842, acc_rob=0.362]\n"
     ]
    },
    {
     "name": "stdout",
     "output_type": "stream",
     "text": [
      "Epoch 47 [0/383] | loss: 0.4306 (avg: 0.0011) | acc: 0.8203 (avg: 0.8203) |\n",
      "Epoch 47 [100/383] | loss: 0.3808 (avg: 0.1216) | acc: 0.8359 (avg: 0.7916) |\n",
      "Epoch 47 [200/383] | loss: 0.3490 (avg: 0.2384) | acc: 0.8516 (avg: 0.7943) |\n",
      "Epoch 47 [300/383] | loss: 0.3606 (avg: 0.3562) | acc: 0.8516 (avg: 0.7951) |\n"
     ]
    },
    {
     "name": "stderr",
     "output_type": "stream",
     "text": [
      "[eval] 1000/1000: 100%|██████████| 1000/1000 [03:16<00:00,  5.08it/s, acc_nat=0.852, acc_rob=0.371]\n"
     ]
    },
    {
     "name": "stdout",
     "output_type": "stream",
     "text": [
      "Epoch 48 [0/383] | loss: 0.3796 (avg: 0.0010) | acc: 0.8125 (avg: 0.8125) |\n",
      "Epoch 48 [100/383] | loss: 0.3872 (avg: 0.1139) | acc: 0.8203 (avg: 0.8065) |\n",
      "Epoch 48 [200/383] | loss: 0.4691 (avg: 0.2371) | acc: 0.7266 (avg: 0.7948) |\n",
      "Epoch 48 [300/383] | loss: 0.5346 (avg: 0.3515) | acc: 0.7656 (avg: 0.7973) |\n"
     ]
    },
    {
     "name": "stderr",
     "output_type": "stream",
     "text": [
      "[eval] 1000/1000: 100%|██████████| 1000/1000 [03:17<00:00,  5.06it/s, acc_nat=0.842, acc_rob=0.354]\n"
     ]
    },
    {
     "name": "stdout",
     "output_type": "stream",
     "text": [
      "Epoch 49 [0/383] | loss: 0.4758 (avg: 0.0012) | acc: 0.7891 (avg: 0.7891) |\n",
      "Epoch 49 [100/383] | loss: 0.3627 (avg: 0.1214) | acc: 0.8438 (avg: 0.7901) |\n",
      "Epoch 49 [200/383] | loss: 0.4360 (avg: 0.2287) | acc: 0.7734 (avg: 0.8030) |\n",
      "Epoch 49 [300/383] | loss: 0.4223 (avg: 0.3497) | acc: 0.8516 (avg: 0.7997) |\n"
     ]
    },
    {
     "name": "stderr",
     "output_type": "stream",
     "text": [
      "[eval] 1000/1000: 100%|██████████| 1000/1000 [03:22<00:00,  4.93it/s, acc_nat=0.842, acc_rob=0.376]\n"
     ]
    },
    {
     "name": "stdout",
     "output_type": "stream",
     "text": [
      "Epoch 50 [0/383] | loss: 0.3829 (avg: 0.0010) | acc: 0.8438 (avg: 0.8438) |\n",
      "Epoch 50 [100/383] | loss: 0.4601 (avg: 0.1196) | acc: 0.8203 (avg: 0.7955) |\n",
      "Epoch 50 [200/383] | loss: 0.4586 (avg: 0.2350) | acc: 0.7812 (avg: 0.8013) |\n",
      "Epoch 50 [300/383] | loss: 0.3919 (avg: 0.3570) | acc: 0.8516 (avg: 0.7990) |\n"
     ]
    },
    {
     "name": "stderr",
     "output_type": "stream",
     "text": [
      "[eval] 1000/1000: 100%|██████████| 1000/1000 [03:19<00:00,  5.01it/s, acc_nat=0.852, acc_rob=0.379]\n"
     ]
    },
    {
     "name": "stdout",
     "output_type": "stream",
     "text": [
      "Epoch 51 [0/383] | loss: 0.4902 (avg: 0.0013) | acc: 0.7891 (avg: 0.7891) |\n",
      "Epoch 51 [100/383] | loss: 0.6616 (avg: 0.1618) | acc: 0.7266 (avg: 0.7254) |\n",
      "Epoch 51 [200/383] | loss: 0.5549 (avg: 0.3189) | acc: 0.7812 (avg: 0.7279) |\n",
      "Epoch 51 [300/383] | loss: 0.5611 (avg: 0.4788) | acc: 0.7656 (avg: 0.7262) |\n"
     ]
    },
    {
     "name": "stderr",
     "output_type": "stream",
     "text": [
      "[eval] 1000/1000: 100%|██████████| 1000/1000 [03:23<00:00,  4.91it/s, acc_nat=0.843, acc_rob=0.395]\n"
     ]
    },
    {
     "name": "stdout",
     "output_type": "stream",
     "text": [
      "Epoch 52 [0/383] | loss: 0.4922 (avg: 0.0013) | acc: 0.7812 (avg: 0.7812) |\n",
      "Epoch 52 [100/383] | loss: 0.6572 (avg: 0.1523) | acc: 0.6641 (avg: 0.7280) |\n",
      "Epoch 52 [200/383] | loss: 0.6000 (avg: 0.3157) | acc: 0.7422 (avg: 0.7156) |\n",
      "Epoch 52 [300/383] | loss: 0.7044 (avg: 0.4742) | acc: 0.6875 (avg: 0.7175) |\n"
     ]
    },
    {
     "name": "stderr",
     "output_type": "stream",
     "text": [
      "[eval] 1000/1000: 100%|██████████| 1000/1000 [03:22<00:00,  4.93it/s, acc_nat=0.842, acc_rob=0.422]\n"
     ]
    },
    {
     "name": "stdout",
     "output_type": "stream",
     "text": [
      "Epoch 53 [0/383] | loss: 0.4611 (avg: 0.0012) | acc: 0.7578 (avg: 0.7578) |\n",
      "Epoch 53 [100/383] | loss: 0.5232 (avg: 0.1541) | acc: 0.7266 (avg: 0.7317) |\n",
      "Epoch 53 [200/383] | loss: 0.5503 (avg: 0.3020) | acc: 0.7578 (avg: 0.7360) |\n",
      "Epoch 53 [300/383] | loss: 0.4828 (avg: 0.4625) | acc: 0.8125 (avg: 0.7300) |\n"
     ]
    },
    {
     "name": "stderr",
     "output_type": "stream",
     "text": [
      "[eval] 1000/1000: 100%|██████████| 1000/1000 [03:21<00:00,  4.97it/s, acc_nat=0.825, acc_rob=0.411]\n"
     ]
    },
    {
     "name": "stdout",
     "output_type": "stream",
     "text": [
      "Epoch 54 [0/383] | loss: 0.5957 (avg: 0.0016) | acc: 0.7031 (avg: 0.7031) |\n",
      "Epoch 54 [100/383] | loss: 0.7061 (avg: 0.1512) | acc: 0.6719 (avg: 0.7331) |\n",
      "Epoch 54 [200/383] | loss: 0.5027 (avg: 0.3119) | acc: 0.7812 (avg: 0.7256) |\n",
      "Epoch 54 [300/383] | loss: 0.4883 (avg: 0.4728) | acc: 0.8203 (avg: 0.7228) |\n"
     ]
    },
    {
     "name": "stderr",
     "output_type": "stream",
     "text": [
      "[eval] 1000/1000: 100%|██████████| 1000/1000 [03:36<00:00,  4.62it/s, acc_nat=0.839, acc_rob=0.406]\n"
     ]
    },
    {
     "name": "stdout",
     "output_type": "stream",
     "text": [
      "Epoch 55 [0/383] | loss: 0.6117 (avg: 0.0016) | acc: 0.7109 (avg: 0.7109) |\n",
      "Epoch 55 [100/383] | loss: 0.6009 (avg: 0.1516) | acc: 0.7344 (avg: 0.7348) |\n",
      "Epoch 55 [200/383] | loss: 0.4896 (avg: 0.3129) | acc: 0.7734 (avg: 0.7261) |\n",
      "Epoch 55 [300/383] | loss: 0.5146 (avg: 0.4705) | acc: 0.7891 (avg: 0.7245) |\n"
     ]
    },
    {
     "name": "stderr",
     "output_type": "stream",
     "text": [
      "[eval] 1000/1000: 100%|██████████| 1000/1000 [03:23<00:00,  4.92it/s, acc_nat=0.839, acc_rob=0.419]\n"
     ]
    },
    {
     "name": "stdout",
     "output_type": "stream",
     "text": [
      "Epoch 56 [0/383] | loss: 0.4744 (avg: 0.0012) | acc: 0.7500 (avg: 0.7500) |\n",
      "Epoch 56 [100/383] | loss: 0.4755 (avg: 0.1566) | acc: 0.7734 (avg: 0.7199) |\n",
      "Epoch 56 [200/383] | loss: 0.6003 (avg: 0.3115) | acc: 0.7109 (avg: 0.7236) |\n",
      "Epoch 56 [300/383] | loss: 0.6044 (avg: 0.4738) | acc: 0.7344 (avg: 0.7198) |\n"
     ]
    },
    {
     "name": "stderr",
     "output_type": "stream",
     "text": [
      "[eval] 1000/1000: 100%|██████████| 1000/1000 [03:20<00:00,  4.99it/s, acc_nat=0.816, acc_rob=0.411]\n"
     ]
    },
    {
     "name": "stdout",
     "output_type": "stream",
     "text": [
      "Epoch 57 [0/383] | loss: 0.5556 (avg: 0.0015) | acc: 0.7188 (avg: 0.7188) |\n",
      "Epoch 57 [100/383] | loss: 0.5782 (avg: 0.1545) | acc: 0.6875 (avg: 0.7198) |\n",
      "Epoch 57 [200/383] | loss: 0.5478 (avg: 0.3120) | acc: 0.7266 (avg: 0.7199) |\n",
      "Epoch 57 [300/383] | loss: 0.4700 (avg: 0.4795) | acc: 0.7812 (avg: 0.7134) |\n"
     ]
    },
    {
     "name": "stderr",
     "output_type": "stream",
     "text": [
      "[eval] 1000/1000: 100%|██████████| 1000/1000 [03:17<00:00,  5.08it/s, acc_nat=0.825, acc_rob=0.39]\n"
     ]
    },
    {
     "name": "stdout",
     "output_type": "stream",
     "text": [
      "Epoch 58 [0/383] | loss: 0.4997 (avg: 0.0013) | acc: 0.7422 (avg: 0.7422) |\n",
      "Epoch 58 [100/383] | loss: 0.5135 (avg: 0.1578) | acc: 0.7500 (avg: 0.7191) |\n",
      "Epoch 58 [200/383] | loss: 0.5677 (avg: 0.3123) | acc: 0.7812 (avg: 0.7211) |\n",
      "Epoch 58 [300/383] | loss: 0.6501 (avg: 0.4679) | acc: 0.7031 (avg: 0.7236) |\n"
     ]
    },
    {
     "name": "stderr",
     "output_type": "stream",
     "text": [
      "[eval] 1000/1000: 100%|██████████| 1000/1000 [03:24<00:00,  4.89it/s, acc_nat=0.809, acc_rob=0.423]\n"
     ]
    },
    {
     "name": "stdout",
     "output_type": "stream",
     "text": [
      "Epoch 59 [0/383] | loss: 0.5473 (avg: 0.0014) | acc: 0.7344 (avg: 0.7344) |\n",
      "Epoch 59 [100/383] | loss: 0.7068 (avg: 0.1502) | acc: 0.6797 (avg: 0.7336) |\n",
      "Epoch 59 [200/383] | loss: 0.5145 (avg: 0.3036) | acc: 0.7344 (avg: 0.7275) |\n",
      "Epoch 59 [300/383] | loss: 0.6505 (avg: 0.4628) | acc: 0.6797 (avg: 0.7248) |\n"
     ]
    },
    {
     "name": "stderr",
     "output_type": "stream",
     "text": [
      "[eval] 1000/1000: 100%|██████████| 1000/1000 [03:23<00:00,  4.92it/s, acc_nat=0.809, acc_rob=0.37]\n"
     ]
    },
    {
     "name": "stdout",
     "output_type": "stream",
     "text": [
      "Epoch 60 [0/383] | loss: 0.6681 (avg: 0.0017) | acc: 0.6562 (avg: 0.6562) |\n",
      "Epoch 60 [100/383] | loss: 0.5130 (avg: 0.1650) | acc: 0.8047 (avg: 0.6983) |\n",
      "Epoch 60 [200/383] | loss: 0.4672 (avg: 0.3214) | acc: 0.8203 (avg: 0.7104) |\n",
      "Epoch 60 [300/383] | loss: 0.5270 (avg: 0.4820) | acc: 0.7891 (avg: 0.7103) |\n"
     ]
    },
    {
     "name": "stderr",
     "output_type": "stream",
     "text": [
      "[eval] 1000/1000: 100%|██████████| 1000/1000 [03:24<00:00,  4.90it/s, acc_nat=0.811, acc_rob=0.39]\n"
     ]
    },
    {
     "name": "stdout",
     "output_type": "stream",
     "text": [
      "Epoch 61 [0/383] | loss: 0.5360 (avg: 0.0014) | acc: 0.7188 (avg: 0.7188) |\n",
      "Epoch 61 [100/383] | loss: 0.5662 (avg: 0.1148) | acc: 0.7188 (avg: 0.8005) |\n",
      "Epoch 61 [200/383] | loss: 0.3844 (avg: 0.2182) | acc: 0.8203 (avg: 0.8041) |\n",
      "Epoch 61 [300/383] | loss: 0.4228 (avg: 0.3179) | acc: 0.7969 (avg: 0.8081) |\n"
     ]
    },
    {
     "name": "stderr",
     "output_type": "stream",
     "text": [
      "[eval] 1000/1000: 100%|██████████| 1000/1000 [03:16<00:00,  5.08it/s, acc_nat=0.876, acc_rob=0.488]\n"
     ]
    },
    {
     "name": "stdout",
     "output_type": "stream",
     "text": [
      "Epoch 62 [0/383] | loss: 0.3958 (avg: 0.0010) | acc: 0.8359 (avg: 0.8359) |\n",
      "Epoch 62 [100/383] | loss: 0.2881 (avg: 0.0933) | acc: 0.8672 (avg: 0.8284) |\n",
      "Epoch 62 [200/383] | loss: 0.3060 (avg: 0.1814) | acc: 0.8203 (avg: 0.8334) |\n",
      "Epoch 62 [300/383] | loss: 0.3228 (avg: 0.2721) | acc: 0.8438 (avg: 0.8333) |\n"
     ]
    },
    {
     "name": "stderr",
     "output_type": "stream",
     "text": [
      "[eval] 1000/1000: 100%|██████████| 1000/1000 [03:20<00:00,  4.98it/s, acc_nat=0.885, acc_rob=0.455]\n"
     ]
    },
    {
     "name": "stdout",
     "output_type": "stream",
     "text": [
      "Epoch 63 [0/383] | loss: 0.3286 (avg: 0.0009) | acc: 0.8438 (avg: 0.8438) |\n",
      "Epoch 63 [100/383] | loss: 0.2310 (avg: 0.0800) | acc: 0.8906 (avg: 0.8550) |\n",
      "Epoch 63 [200/383] | loss: 0.3034 (avg: 0.1562) | acc: 0.8359 (avg: 0.8582) |\n",
      "Epoch 63 [300/383] | loss: 0.3514 (avg: 0.2395) | acc: 0.8125 (avg: 0.8538) |\n"
     ]
    },
    {
     "name": "stderr",
     "output_type": "stream",
     "text": [
      "[eval] 1000/1000: 100%|██████████| 1000/1000 [03:17<00:00,  5.06it/s, acc_nat=0.88, acc_rob=0.481]\n"
     ]
    },
    {
     "name": "stdout",
     "output_type": "stream",
     "text": [
      "Epoch 64 [0/383] | loss: 0.2010 (avg: 0.0005) | acc: 0.9141 (avg: 0.9141) |\n",
      "Epoch 64 [100/383] | loss: 0.2131 (avg: 0.0773) | acc: 0.9062 (avg: 0.8595) |\n",
      "Epoch 64 [200/383] | loss: 0.1772 (avg: 0.1523) | acc: 0.9531 (avg: 0.8616) |\n",
      "Epoch 64 [300/383] | loss: 0.2296 (avg: 0.2283) | acc: 0.8984 (avg: 0.8610) |\n"
     ]
    },
    {
     "name": "stderr",
     "output_type": "stream",
     "text": [
      "[eval] 1000/1000: 100%|██████████| 1000/1000 [03:17<00:00,  5.07it/s, acc_nat=0.859, acc_rob=0.502]\n"
     ]
    },
    {
     "name": "stdout",
     "output_type": "stream",
     "text": [
      "Epoch 65 [0/383] | loss: 0.3059 (avg: 0.0008) | acc: 0.8359 (avg: 0.8359) |\n",
      "Epoch 65 [100/383] | loss: 0.2690 (avg: 0.0733) | acc: 0.8828 (avg: 0.8669) |\n",
      "Epoch 65 [200/383] | loss: 0.2868 (avg: 0.1469) | acc: 0.8516 (avg: 0.8645) |\n",
      "Epoch 65 [300/383] | loss: 0.2352 (avg: 0.2171) | acc: 0.9141 (avg: 0.8671) |\n"
     ]
    },
    {
     "name": "stderr",
     "output_type": "stream",
     "text": [
      "[eval] 1000/1000: 100%|██████████| 1000/1000 [03:32<00:00,  4.71it/s, acc_nat=0.886, acc_rob=0.464]\n"
     ]
    },
    {
     "name": "stdout",
     "output_type": "stream",
     "text": [
      "Epoch 66 [0/383] | loss: 0.3141 (avg: 0.0008) | acc: 0.8281 (avg: 0.8281) |\n",
      "Epoch 66 [100/383] | loss: 0.3509 (avg: 0.0694) | acc: 0.8359 (avg: 0.8746) |\n",
      "Epoch 66 [200/383] | loss: 0.2304 (avg: 0.1368) | acc: 0.8906 (avg: 0.8764) |\n",
      "Epoch 66 [300/383] | loss: 0.2829 (avg: 0.2067) | acc: 0.8594 (avg: 0.8751) |\n"
     ]
    },
    {
     "name": "stderr",
     "output_type": "stream",
     "text": [
      "[eval] 1000/1000: 100%|██████████| 1000/1000 [03:35<00:00,  4.64it/s, acc_nat=0.885, acc_rob=0.452]\n"
     ]
    },
    {
     "name": "stdout",
     "output_type": "stream",
     "text": [
      "Epoch 67 [0/383] | loss: 0.2377 (avg: 0.0006) | acc: 0.8984 (avg: 0.8984) |\n",
      "Epoch 67 [100/383] | loss: 0.2455 (avg: 0.0622) | acc: 0.8750 (avg: 0.8907) |\n",
      "Epoch 67 [200/383] | loss: 0.2732 (avg: 0.1298) | acc: 0.8672 (avg: 0.8837) |\n",
      "Epoch 67 [300/383] | loss: 0.2981 (avg: 0.1937) | acc: 0.8906 (avg: 0.8840) |\n"
     ]
    },
    {
     "name": "stderr",
     "output_type": "stream",
     "text": [
      "[eval] 1000/1000: 100%|██████████| 1000/1000 [03:21<00:00,  4.96it/s, acc_nat=0.893, acc_rob=0.462]\n"
     ]
    },
    {
     "name": "stdout",
     "output_type": "stream",
     "text": [
      "Epoch 68 [0/383] | loss: 0.2582 (avg: 0.0007) | acc: 0.8750 (avg: 0.8750) |\n",
      "Epoch 68 [100/383] | loss: 0.2853 (avg: 0.0617) | acc: 0.8438 (avg: 0.8892) |\n",
      "Epoch 68 [200/383] | loss: 0.2193 (avg: 0.1273) | acc: 0.9297 (avg: 0.8842) |\n",
      "Epoch 68 [300/383] | loss: 0.2634 (avg: 0.1933) | acc: 0.8672 (avg: 0.8818) |\n"
     ]
    },
    {
     "name": "stderr",
     "output_type": "stream",
     "text": [
      "[eval] 1000/1000: 100%|██████████| 1000/1000 [03:54<00:00,  4.26it/s, acc_nat=0.882, acc_rob=0.483]\n"
     ]
    },
    {
     "name": "stdout",
     "output_type": "stream",
     "text": [
      "Epoch 69 [0/383] | loss: 0.2157 (avg: 0.0006) | acc: 0.8828 (avg: 0.8828) |\n",
      "Epoch 69 [100/383] | loss: 0.2825 (avg: 0.0629) | acc: 0.8750 (avg: 0.8882) |\n",
      "Epoch 69 [200/383] | loss: 0.3287 (avg: 0.1278) | acc: 0.8594 (avg: 0.8852) |\n",
      "Epoch 69 [300/383] | loss: 0.2045 (avg: 0.1893) | acc: 0.8828 (avg: 0.8859) |\n"
     ]
    },
    {
     "name": "stderr",
     "output_type": "stream",
     "text": [
      "[eval] 1000/1000: 100%|██████████| 1000/1000 [03:28<00:00,  4.80it/s, acc_nat=0.881, acc_rob=0.469]\n"
     ]
    },
    {
     "name": "stdout",
     "output_type": "stream",
     "text": [
      "Epoch 70 [0/383] | loss: 0.2963 (avg: 0.0008) | acc: 0.8438 (avg: 0.8438) |\n",
      "Epoch 70 [100/383] | loss: 0.2954 (avg: 0.0589) | acc: 0.8750 (avg: 0.8953) |\n",
      "Epoch 70 [200/383] | loss: 0.2249 (avg: 0.1181) | acc: 0.8984 (avg: 0.8948) |\n",
      "Epoch 70 [300/383] | loss: 0.2533 (avg: 0.1805) | acc: 0.8828 (avg: 0.8930) |\n"
     ]
    },
    {
     "name": "stderr",
     "output_type": "stream",
     "text": [
      "[eval] 1000/1000: 100%|██████████| 1000/1000 [03:20<00:00,  4.98it/s, acc_nat=0.892, acc_rob=0.456]\n"
     ]
    },
    {
     "name": "stdout",
     "output_type": "stream",
     "text": [
      "Epoch 71 [0/383] | loss: 0.3250 (avg: 0.0008) | acc: 0.8281 (avg: 0.8281) |\n",
      "Epoch 71 [100/383] | loss: 0.1797 (avg: 0.0587) | acc: 0.9062 (avg: 0.8946) |\n",
      "Epoch 71 [200/383] | loss: 0.2430 (avg: 0.1163) | acc: 0.9062 (avg: 0.8964) |\n",
      "Epoch 71 [300/383] | loss: 0.3097 (avg: 0.1776) | acc: 0.8984 (avg: 0.8938) |\n"
     ]
    },
    {
     "name": "stderr",
     "output_type": "stream",
     "text": [
      "[eval] 1000/1000: 100%|██████████| 1000/1000 [03:20<00:00,  4.99it/s, acc_nat=0.892, acc_rob=0.458]\n"
     ]
    },
    {
     "name": "stdout",
     "output_type": "stream",
     "text": [
      "Epoch 72 [0/383] | loss: 0.1399 (avg: 0.0004) | acc: 0.9453 (avg: 0.9453) |\n",
      "Epoch 72 [100/383] | loss: 0.3291 (avg: 0.0617) | acc: 0.8203 (avg: 0.8904) |\n",
      "Epoch 72 [200/383] | loss: 0.1541 (avg: 0.1229) | acc: 0.9297 (avg: 0.8907) |\n",
      "Epoch 72 [300/383] | loss: 0.3239 (avg: 0.1826) | acc: 0.8047 (avg: 0.8911) |\n"
     ]
    },
    {
     "name": "stderr",
     "output_type": "stream",
     "text": [
      "[eval] 1000/1000: 100%|██████████| 1000/1000 [03:19<00:00,  5.01it/s, acc_nat=0.892, acc_rob=0.442]\n"
     ]
    },
    {
     "name": "stdout",
     "output_type": "stream",
     "text": [
      "Epoch 73 [0/383] | loss: 0.2814 (avg: 0.0007) | acc: 0.8359 (avg: 0.8359) |\n",
      "Epoch 73 [100/383] | loss: 0.1962 (avg: 0.0565) | acc: 0.8984 (avg: 0.8993) |\n",
      "Epoch 73 [200/383] | loss: 0.2064 (avg: 0.1185) | acc: 0.8984 (avg: 0.8932) |\n",
      "Epoch 73 [300/383] | loss: 0.1858 (avg: 0.1774) | acc: 0.9219 (avg: 0.8931) |\n"
     ]
    },
    {
     "name": "stderr",
     "output_type": "stream",
     "text": [
      "[eval] 1000/1000: 100%|██████████| 1000/1000 [03:19<00:00,  5.01it/s, acc_nat=0.883, acc_rob=0.47]\n"
     ]
    },
    {
     "name": "stdout",
     "output_type": "stream",
     "text": [
      "Epoch 74 [0/383] | loss: 0.1770 (avg: 0.0005) | acc: 0.9297 (avg: 0.9297) |\n",
      "Epoch 74 [100/383] | loss: 0.1227 (avg: 0.0558) | acc: 0.9609 (avg: 0.8987) |\n",
      "Epoch 74 [200/383] | loss: 0.1112 (avg: 0.1152) | acc: 0.9766 (avg: 0.8970) |\n",
      "Epoch 74 [300/383] | loss: 0.2456 (avg: 0.1753) | acc: 0.8438 (avg: 0.8950) |\n"
     ]
    },
    {
     "name": "stderr",
     "output_type": "stream",
     "text": [
      "[eval] 1000/1000: 100%|██████████| 1000/1000 [03:30<00:00,  4.74it/s, acc_nat=0.886, acc_rob=0.484]\n"
     ]
    },
    {
     "name": "stdout",
     "output_type": "stream",
     "text": [
      "Epoch 75 [0/383] | loss: 0.2131 (avg: 0.0006) | acc: 0.8984 (avg: 0.8984) |\n",
      "Epoch 75 [100/383] | loss: 0.2691 (avg: 0.0527) | acc: 0.8359 (avg: 0.9100) |\n",
      "Epoch 75 [200/383] | loss: 0.2262 (avg: 0.1096) | acc: 0.8984 (avg: 0.9037) |\n",
      "Epoch 75 [300/383] | loss: 0.2215 (avg: 0.1651) | acc: 0.8750 (avg: 0.9017) |\n"
     ]
    },
    {
     "name": "stderr",
     "output_type": "stream",
     "text": [
      "[eval] 1000/1000: 100%|██████████| 1000/1000 [03:17<00:00,  5.06it/s, acc_nat=0.885, acc_rob=0.45]\n"
     ]
    },
    {
     "name": "stdout",
     "output_type": "stream",
     "text": [
      "Epoch 76 [0/383] | loss: 0.1541 (avg: 0.0004) | acc: 0.9219 (avg: 0.9219) |\n",
      "Epoch 76 [100/383] | loss: 0.2586 (avg: 0.0560) | acc: 0.8984 (avg: 0.9004) |\n",
      "Epoch 76 [200/383] | loss: 0.2063 (avg: 0.1108) | acc: 0.8750 (avg: 0.9027) |\n",
      "Epoch 76 [300/383] | loss: 0.4162 (avg: 0.1651) | acc: 0.7656 (avg: 0.9028) |\n"
     ]
    },
    {
     "name": "stderr",
     "output_type": "stream",
     "text": [
      "[eval] 1000/1000: 100%|██████████| 1000/1000 [03:19<00:00,  5.02it/s, acc_nat=0.89, acc_rob=0.458]\n"
     ]
    },
    {
     "name": "stdout",
     "output_type": "stream",
     "text": [
      "Epoch 77 [0/383] | loss: 0.1500 (avg: 0.0004) | acc: 0.9531 (avg: 0.9531) |\n",
      "Epoch 77 [100/383] | loss: 0.1981 (avg: 0.0541) | acc: 0.9062 (avg: 0.9075) |\n",
      "Epoch 77 [200/383] | loss: 0.1656 (avg: 0.1118) | acc: 0.9219 (avg: 0.9044) |\n",
      "Epoch 77 [300/383] | loss: 0.1647 (avg: 0.1680) | acc: 0.9375 (avg: 0.9033) |\n"
     ]
    },
    {
     "name": "stderr",
     "output_type": "stream",
     "text": [
      "[eval] 1000/1000: 100%|██████████| 1000/1000 [03:21<00:00,  4.97it/s, acc_nat=0.862, acc_rob=0.36]\n"
     ]
    },
    {
     "name": "stdout",
     "output_type": "stream",
     "text": [
      "Epoch 78 [0/383] | loss: 0.2284 (avg: 0.0006) | acc: 0.9062 (avg: 0.9062) |\n",
      "Epoch 78 [100/383] | loss: 0.2238 (avg: 0.0554) | acc: 0.9062 (avg: 0.9032) |\n",
      "Epoch 78 [200/383] | loss: 0.1749 (avg: 0.1134) | acc: 0.9531 (avg: 0.8988) |\n",
      "Epoch 78 [300/383] | loss: 0.1959 (avg: 0.1704) | acc: 0.9219 (avg: 0.8990) |\n"
     ]
    },
    {
     "name": "stderr",
     "output_type": "stream",
     "text": [
      "[eval] 1000/1000: 100%|██████████| 1000/1000 [03:25<00:00,  4.88it/s, acc_nat=0.88, acc_rob=0.449]\n"
     ]
    },
    {
     "name": "stdout",
     "output_type": "stream",
     "text": [
      "Epoch 79 [0/383] | loss: 0.2781 (avg: 0.0007) | acc: 0.8672 (avg: 0.8672) |\n",
      "Epoch 79 [100/383] | loss: 0.3584 (avg: 0.0519) | acc: 0.8516 (avg: 0.9109) |\n",
      "Epoch 79 [200/383] | loss: 0.3312 (avg: 0.1111) | acc: 0.8281 (avg: 0.9038) |\n",
      "Epoch 79 [300/383] | loss: 0.1262 (avg: 0.1678) | acc: 0.9453 (avg: 0.9014) |\n"
     ]
    },
    {
     "name": "stderr",
     "output_type": "stream",
     "text": [
      "[eval] 1000/1000: 100%|██████████| 1000/1000 [03:17<00:00,  5.06it/s, acc_nat=0.885, acc_rob=0.447]\n"
     ]
    },
    {
     "name": "stdout",
     "output_type": "stream",
     "text": [
      "Epoch 80 [0/383] | loss: 0.1845 (avg: 0.0005) | acc: 0.9297 (avg: 0.9297) |\n",
      "Epoch 80 [100/383] | loss: 0.2847 (avg: 0.0558) | acc: 0.8438 (avg: 0.9022) |\n",
      "Epoch 80 [200/383] | loss: 0.2134 (avg: 0.1102) | acc: 0.9141 (avg: 0.9024) |\n",
      "Epoch 80 [300/383] | loss: 0.1963 (avg: 0.1611) | acc: 0.9062 (avg: 0.9050) |\n"
     ]
    },
    {
     "name": "stderr",
     "output_type": "stream",
     "text": [
      "[eval] 1000/1000: 100%|██████████| 1000/1000 [03:23<00:00,  4.91it/s, acc_nat=0.888, acc_rob=0.434]\n"
     ]
    },
    {
     "name": "stdout",
     "output_type": "stream",
     "text": [
      "Epoch 81 [0/383] | loss: 0.1731 (avg: 0.0005) | acc: 0.9375 (avg: 0.9375) |\n",
      "Epoch 81 [100/383] | loss: 0.2530 (avg: 0.0477) | acc: 0.8828 (avg: 0.9219) |\n",
      "Epoch 81 [200/383] | loss: 0.1311 (avg: 0.1026) | acc: 0.9531 (avg: 0.9116) |\n",
      "Epoch 81 [300/383] | loss: 0.2538 (avg: 0.1585) | acc: 0.8750 (avg: 0.9084) |\n"
     ]
    },
    {
     "name": "stderr",
     "output_type": "stream",
     "text": [
      "[eval] 1000/1000: 100%|██████████| 1000/1000 [03:19<00:00,  5.00it/s, acc_nat=0.888, acc_rob=0.457]\n"
     ]
    },
    {
     "name": "stdout",
     "output_type": "stream",
     "text": [
      "Epoch 82 [0/383] | loss: 0.2320 (avg: 0.0006) | acc: 0.9062 (avg: 0.9062) |\n",
      "Epoch 82 [100/383] | loss: 0.2445 (avg: 0.0556) | acc: 0.8750 (avg: 0.9001) |\n",
      "Epoch 82 [200/383] | loss: 0.2042 (avg: 0.1097) | acc: 0.9062 (avg: 0.9031) |\n",
      "Epoch 82 [300/383] | loss: 0.1851 (avg: 0.1668) | acc: 0.9219 (avg: 0.9019) |\n"
     ]
    },
    {
     "name": "stderr",
     "output_type": "stream",
     "text": [
      "[eval] 1000/1000: 100%|██████████| 1000/1000 [03:24<00:00,  4.90it/s, acc_nat=0.88, acc_rob=0.439]\n"
     ]
    },
    {
     "name": "stdout",
     "output_type": "stream",
     "text": [
      "Epoch 83 [0/383] | loss: 0.1545 (avg: 0.0004) | acc: 0.9609 (avg: 0.9609) |\n",
      "Epoch 83 [100/383] | loss: 0.3600 (avg: 0.0529) | acc: 0.8281 (avg: 0.9089) |\n",
      "Epoch 83 [200/383] | loss: 0.2279 (avg: 0.1056) | acc: 0.8750 (avg: 0.9086) |\n",
      "Epoch 83 [300/383] | loss: 0.2971 (avg: 0.1593) | acc: 0.8438 (avg: 0.9080) |\n"
     ]
    },
    {
     "name": "stderr",
     "output_type": "stream",
     "text": [
      "[eval] 1000/1000: 100%|██████████| 1000/1000 [03:20<00:00,  4.98it/s, acc_nat=0.873, acc_rob=0.467]\n"
     ]
    },
    {
     "name": "stdout",
     "output_type": "stream",
     "text": [
      "Epoch 84 [0/383] | loss: 0.2540 (avg: 0.0007) | acc: 0.8828 (avg: 0.8828) |\n",
      "Epoch 84 [100/383] | loss: 0.2520 (avg: 0.0503) | acc: 0.8750 (avg: 0.9151) |\n",
      "Epoch 84 [200/383] | loss: 0.2108 (avg: 0.1015) | acc: 0.8984 (avg: 0.9115) |\n",
      "Epoch 84 [300/383] | loss: 0.1734 (avg: 0.1584) | acc: 0.9297 (avg: 0.9086) |\n"
     ]
    },
    {
     "name": "stderr",
     "output_type": "stream",
     "text": [
      "[eval] 1000/1000: 100%|██████████| 1000/1000 [03:19<00:00,  5.01it/s, acc_nat=0.878, acc_rob=0.442]\n"
     ]
    },
    {
     "name": "stdout",
     "output_type": "stream",
     "text": [
      "Epoch 85 [0/383] | loss: 0.1474 (avg: 0.0004) | acc: 0.9453 (avg: 0.9453) |\n",
      "Epoch 85 [100/383] | loss: 0.2321 (avg: 0.0560) | acc: 0.8828 (avg: 0.9017) |\n",
      "Epoch 85 [200/383] | loss: 0.3050 (avg: 0.1117) | acc: 0.8594 (avg: 0.9015) |\n",
      "Epoch 85 [300/383] | loss: 0.2084 (avg: 0.1697) | acc: 0.9062 (avg: 0.9005) |\n"
     ]
    },
    {
     "name": "stderr",
     "output_type": "stream",
     "text": [
      "[eval] 1000/1000: 100%|██████████| 1000/1000 [03:20<00:00,  4.99it/s, acc_nat=0.882, acc_rob=0.438]\n"
     ]
    },
    {
     "name": "stdout",
     "output_type": "stream",
     "text": [
      "Epoch 86 [0/383] | loss: 0.1927 (avg: 0.0005) | acc: 0.9141 (avg: 0.9141) |\n",
      "Epoch 86 [100/383] | loss: 0.1180 (avg: 0.0559) | acc: 0.9375 (avg: 0.9062) |\n",
      "Epoch 86 [200/383] | loss: 0.1717 (avg: 0.1049) | acc: 0.9375 (avg: 0.9101) |\n",
      "Epoch 86 [300/383] | loss: 0.1810 (avg: 0.1612) | acc: 0.9453 (avg: 0.9068) |\n"
     ]
    },
    {
     "name": "stderr",
     "output_type": "stream",
     "text": [
      "[eval] 1000/1000: 100%|██████████| 1000/1000 [03:30<00:00,  4.74it/s, acc_nat=0.889, acc_rob=0.43]\n"
     ]
    },
    {
     "name": "stdout",
     "output_type": "stream",
     "text": [
      "Epoch 87 [0/383] | loss: 0.2400 (avg: 0.0006) | acc: 0.8672 (avg: 0.8672) |\n",
      "Epoch 87 [100/383] | loss: 0.1590 (avg: 0.0564) | acc: 0.9219 (avg: 0.9038) |\n",
      "Epoch 87 [200/383] | loss: 0.1751 (avg: 0.1094) | acc: 0.9062 (avg: 0.9049) |\n",
      "Epoch 87 [300/383] | loss: 0.1367 (avg: 0.1623) | acc: 0.9531 (avg: 0.9045) |\n"
     ]
    },
    {
     "name": "stderr",
     "output_type": "stream",
     "text": [
      "[eval] 1000/1000: 100%|██████████| 1000/1000 [03:22<00:00,  4.94it/s, acc_nat=0.883, acc_rob=0.438]\n"
     ]
    },
    {
     "name": "stdout",
     "output_type": "stream",
     "text": [
      "Epoch 88 [0/383] | loss: 0.1972 (avg: 0.0005) | acc: 0.8906 (avg: 0.8906) |\n",
      "Epoch 88 [100/383] | loss: 0.4043 (avg: 0.0564) | acc: 0.8281 (avg: 0.9011) |\n",
      "Epoch 88 [200/383] | loss: 0.1416 (avg: 0.1104) | acc: 0.9531 (avg: 0.9029) |\n",
      "Epoch 88 [300/383] | loss: 0.1907 (avg: 0.1616) | acc: 0.9062 (avg: 0.9052) |\n"
     ]
    },
    {
     "name": "stderr",
     "output_type": "stream",
     "text": [
      "[eval] 1000/1000: 100%|██████████| 1000/1000 [03:22<00:00,  4.93it/s, acc_nat=0.883, acc_rob=0.415]\n"
     ]
    },
    {
     "name": "stdout",
     "output_type": "stream",
     "text": [
      "Epoch 89 [0/383] | loss: 0.1569 (avg: 0.0004) | acc: 0.9219 (avg: 0.9219) |\n",
      "Epoch 89 [100/383] | loss: 0.3289 (avg: 0.0574) | acc: 0.8516 (avg: 0.8995) |\n",
      "Epoch 89 [200/383] | loss: 0.2081 (avg: 0.1165) | acc: 0.9141 (avg: 0.8951) |\n",
      "Epoch 89 [300/383] | loss: 0.2496 (avg: 0.1703) | acc: 0.8906 (avg: 0.8987) |\n"
     ]
    },
    {
     "name": "stderr",
     "output_type": "stream",
     "text": [
      "[eval] 1000/1000: 100%|██████████| 1000/1000 [03:21<00:00,  4.96it/s, acc_nat=0.874, acc_rob=0.431]\n"
     ]
    },
    {
     "name": "stdout",
     "output_type": "stream",
     "text": [
      "Epoch 90 [0/383] | loss: 0.1335 (avg: 0.0003) | acc: 0.9531 (avg: 0.9531) |\n",
      "Epoch 90 [100/383] | loss: 0.1439 (avg: 0.0507) | acc: 0.9375 (avg: 0.9126) |\n",
      "Epoch 90 [200/383] | loss: 0.1922 (avg: 0.1074) | acc: 0.9062 (avg: 0.9060) |\n",
      "Epoch 90 [300/383] | loss: 0.2146 (avg: 0.1678) | acc: 0.8906 (avg: 0.9002) |\n"
     ]
    },
    {
     "name": "stderr",
     "output_type": "stream",
     "text": [
      "[eval] 1000/1000: 100%|██████████| 1000/1000 [03:19<00:00,  5.00it/s, acc_nat=0.882, acc_rob=0.454]\n"
     ]
    },
    {
     "name": "stdout",
     "output_type": "stream",
     "text": [
      "Epoch 91 [0/383] | loss: 0.2085 (avg: 0.0005) | acc: 0.8984 (avg: 0.8984) |\n",
      "Epoch 91 [100/383] | loss: 0.3336 (avg: 0.0674) | acc: 0.8594 (avg: 0.8870) |\n",
      "Epoch 91 [200/383] | loss: 0.2452 (avg: 0.1344) | acc: 0.8828 (avg: 0.8861) |\n",
      "Epoch 91 [300/383] | loss: 0.3513 (avg: 0.2021) | acc: 0.8594 (avg: 0.8855) |\n"
     ]
    },
    {
     "name": "stderr",
     "output_type": "stream",
     "text": [
      "[eval] 1000/1000: 100%|██████████| 1000/1000 [03:42<00:00,  4.50it/s, acc_nat=0.849, acc_rob=0.373]\n"
     ]
    },
    {
     "name": "stdout",
     "output_type": "stream",
     "text": [
      "Epoch 92 [0/383] | loss: 0.1706 (avg: 0.0004) | acc: 0.9062 (avg: 0.9062) |\n",
      "Epoch 92 [100/383] | loss: 0.1986 (avg: 0.0712) | acc: 0.9141 (avg: 0.8787) |\n",
      "Epoch 92 [200/383] | loss: 0.1889 (avg: 0.1378) | acc: 0.9141 (avg: 0.8826) |\n",
      "Epoch 92 [300/383] | loss: 0.2889 (avg: 0.2025) | acc: 0.8750 (avg: 0.8840) |\n"
     ]
    },
    {
     "name": "stderr",
     "output_type": "stream",
     "text": [
      "[eval] 1000/1000: 100%|██████████| 1000/1000 [03:19<00:00,  5.00it/s, acc_nat=0.876, acc_rob=0.44]\n"
     ]
    },
    {
     "name": "stdout",
     "output_type": "stream",
     "text": [
      "Epoch 93 [0/383] | loss: 0.5644 (avg: 0.0015) | acc: 0.7500 (avg: 0.7500) |\n",
      "Epoch 93 [100/383] | loss: 0.1432 (avg: 0.0674) | acc: 0.9219 (avg: 0.8876) |\n",
      "Epoch 93 [200/383] | loss: 0.2978 (avg: 0.1294) | acc: 0.8047 (avg: 0.8903) |\n",
      "Epoch 93 [300/383] | loss: 0.3070 (avg: 0.1934) | acc: 0.8672 (avg: 0.8905) |\n"
     ]
    },
    {
     "name": "stderr",
     "output_type": "stream",
     "text": [
      "[eval] 1000/1000: 100%|██████████| 1000/1000 [03:18<00:00,  5.05it/s, acc_nat=0.885, acc_rob=0.477]\n"
     ]
    },
    {
     "name": "stdout",
     "output_type": "stream",
     "text": [
      "Epoch 94 [0/383] | loss: 0.1486 (avg: 0.0004) | acc: 0.9375 (avg: 0.9375) |\n",
      "Epoch 94 [100/383] | loss: 0.1454 (avg: 0.0621) | acc: 0.9375 (avg: 0.8932) |\n",
      "Epoch 94 [200/383] | loss: 0.1570 (avg: 0.1267) | acc: 0.9531 (avg: 0.8916) |\n",
      "Epoch 94 [300/383] | loss: 0.2037 (avg: 0.1860) | acc: 0.9297 (avg: 0.8940) |\n"
     ]
    },
    {
     "name": "stderr",
     "output_type": "stream",
     "text": [
      "[eval] 1000/1000: 100%|██████████| 1000/1000 [03:24<00:00,  4.89it/s, acc_nat=0.874, acc_rob=0.447]\n"
     ]
    },
    {
     "name": "stdout",
     "output_type": "stream",
     "text": [
      "Epoch 95 [0/383] | loss: 0.1246 (avg: 0.0003) | acc: 0.9531 (avg: 0.9531) |\n",
      "Epoch 95 [100/383] | loss: 0.2275 (avg: 0.0642) | acc: 0.8984 (avg: 0.8898) |\n",
      "Epoch 95 [200/383] | loss: 0.2129 (avg: 0.1243) | acc: 0.8984 (avg: 0.8930) |\n",
      "Epoch 95 [300/383] | loss: 0.1936 (avg: 0.1837) | acc: 0.9219 (avg: 0.8955) |\n"
     ]
    },
    {
     "name": "stderr",
     "output_type": "stream",
     "text": [
      "[eval] 1000/1000: 100%|██████████| 1000/1000 [03:37<00:00,  4.59it/s, acc_nat=0.886, acc_rob=0.434]\n"
     ]
    },
    {
     "name": "stdout",
     "output_type": "stream",
     "text": [
      "Epoch 96 [0/383] | loss: 0.1572 (avg: 0.0004) | acc: 0.9375 (avg: 0.9375) |\n",
      "Epoch 96 [100/383] | loss: 0.3373 (avg: 0.0578) | acc: 0.8203 (avg: 0.9053) |\n",
      "Epoch 96 [200/383] | loss: 0.3371 (avg: 0.1205) | acc: 0.8438 (avg: 0.8988) |\n",
      "Epoch 96 [300/383] | loss: 0.1752 (avg: 0.1804) | acc: 0.9062 (avg: 0.8978) |\n"
     ]
    },
    {
     "name": "stderr",
     "output_type": "stream",
     "text": [
      "[eval] 1000/1000: 100%|██████████| 1000/1000 [03:26<00:00,  4.83it/s, acc_nat=0.893, acc_rob=0.473]\n"
     ]
    },
    {
     "name": "stdout",
     "output_type": "stream",
     "text": [
      "Epoch 97 [0/383] | loss: 0.3772 (avg: 0.0010) | acc: 0.8203 (avg: 0.8203) |\n",
      "Epoch 97 [100/383] | loss: 0.2444 (avg: 0.0597) | acc: 0.8438 (avg: 0.8991) |\n",
      "Epoch 97 [200/383] | loss: 0.1959 (avg: 0.1218) | acc: 0.8984 (avg: 0.8974) |\n",
      "Epoch 97 [300/383] | loss: 0.2810 (avg: 0.1843) | acc: 0.8516 (avg: 0.8950) |\n"
     ]
    },
    {
     "name": "stderr",
     "output_type": "stream",
     "text": [
      "[eval] 1000/1000: 100%|██████████| 1000/1000 [03:24<00:00,  4.88it/s, acc_nat=0.834, acc_rob=0.312]\n"
     ]
    },
    {
     "name": "stdout",
     "output_type": "stream",
     "text": [
      "Epoch 98 [0/383] | loss: 0.1668 (avg: 0.0004) | acc: 0.9375 (avg: 0.9375) |\n",
      "Epoch 98 [100/383] | loss: 0.3075 (avg: 0.0593) | acc: 0.8516 (avg: 0.9015) |\n",
      "Epoch 98 [200/383] | loss: 0.2318 (avg: 0.1204) | acc: 0.8828 (avg: 0.8994) |\n",
      "Epoch 98 [300/383] | loss: 0.1542 (avg: 0.1779) | acc: 0.9297 (avg: 0.9006) |\n"
     ]
    },
    {
     "name": "stderr",
     "output_type": "stream",
     "text": [
      "[eval] 1000/1000: 100%|██████████| 1000/1000 [03:22<00:00,  4.93it/s, acc_nat=0.877, acc_rob=0.431]\n"
     ]
    },
    {
     "name": "stdout",
     "output_type": "stream",
     "text": [
      "Epoch 99 [0/383] | loss: 0.1879 (avg: 0.0005) | acc: 0.9141 (avg: 0.9141) |\n",
      "Epoch 99 [100/383] | loss: 0.2229 (avg: 0.0576) | acc: 0.9141 (avg: 0.9058) |\n",
      "Epoch 99 [200/383] | loss: 0.2037 (avg: 0.1175) | acc: 0.9219 (avg: 0.9021) |\n",
      "Epoch 99 [300/383] | loss: 0.1673 (avg: 0.1779) | acc: 0.9219 (avg: 0.9002) |\n"
     ]
    },
    {
     "name": "stderr",
     "output_type": "stream",
     "text": [
      "[eval] 1000/1000: 100%|██████████| 1000/1000 [03:25<00:00,  4.87it/s, acc_nat=0.877, acc_rob=0.448]\n"
     ]
    },
    {
     "name": "stdout",
     "output_type": "stream",
     "text": [
      "Epoch 100 [0/383] | loss: 0.1718 (avg: 0.0004) | acc: 0.9141 (avg: 0.9141) |\n",
      "Epoch 100 [100/383] | loss: 0.2005 (avg: 0.0597) | acc: 0.9375 (avg: 0.9020) |\n",
      "Epoch 100 [200/383] | loss: 0.2132 (avg: 0.1227) | acc: 0.9062 (avg: 0.8977) |\n",
      "Epoch 100 [300/383] | loss: 0.1484 (avg: 0.1784) | acc: 0.9219 (avg: 0.9000) |\n"
     ]
    },
    {
     "name": "stderr",
     "output_type": "stream",
     "text": [
      "[eval] 1000/1000: 100%|██████████| 1000/1000 [03:21<00:00,  4.97it/s, acc_nat=0.879, acc_rob=0.398]\n"
     ]
    },
    {
     "name": "stdout",
     "output_type": "stream",
     "text": [
      "Epoch 101 [0/383] | loss: 0.2986 (avg: 0.0008) | acc: 0.8438 (avg: 0.8438) |\n",
      "Epoch 101 [100/383] | loss: 0.1531 (avg: 0.0564) | acc: 0.9141 (avg: 0.9050) |\n",
      "Epoch 101 [200/383] | loss: 0.3251 (avg: 0.1119) | acc: 0.8594 (avg: 0.9058) |\n",
      "Epoch 101 [300/383] | loss: 0.1483 (avg: 0.1731) | acc: 0.9531 (avg: 0.9027) |\n"
     ]
    },
    {
     "name": "stderr",
     "output_type": "stream",
     "text": [
      "[eval] 1000/1000: 100%|██████████| 1000/1000 [03:23<00:00,  4.92it/s, acc_nat=0.879, acc_rob=0.428]\n"
     ]
    },
    {
     "name": "stdout",
     "output_type": "stream",
     "text": [
      "Epoch 102 [0/383] | loss: 0.1397 (avg: 0.0004) | acc: 0.9609 (avg: 0.9609) |\n",
      "Epoch 102 [100/383] | loss: 0.8499 (avg: 0.0595) | acc: 0.5703 (avg: 0.8995) |\n",
      "Epoch 102 [200/383] | loss: 0.1253 (avg: 0.1183) | acc: 0.9375 (avg: 0.8995) |\n",
      "Epoch 102 [300/383] | loss: 0.1368 (avg: 0.1765) | acc: 0.9609 (avg: 0.9009) |\n"
     ]
    },
    {
     "name": "stderr",
     "output_type": "stream",
     "text": [
      "[eval] 1000/1000: 100%|██████████| 1000/1000 [03:27<00:00,  4.81it/s, acc_nat=0.883, acc_rob=0.462]\n"
     ]
    },
    {
     "name": "stdout",
     "output_type": "stream",
     "text": [
      "Epoch 103 [0/383] | loss: 0.4225 (avg: 0.0011) | acc: 0.8047 (avg: 0.8047) |\n",
      "Epoch 103 [100/383] | loss: 0.1256 (avg: 0.0598) | acc: 0.9609 (avg: 0.8993) |\n",
      "Epoch 103 [200/383] | loss: 0.3360 (avg: 0.1136) | acc: 0.8594 (avg: 0.9057) |\n",
      "Epoch 103 [300/383] | loss: 0.4484 (avg: 0.1685) | acc: 0.7891 (avg: 0.9059) |\n"
     ]
    },
    {
     "name": "stderr",
     "output_type": "stream",
     "text": [
      "[eval] 1000/1000: 100%|██████████| 1000/1000 [03:25<00:00,  4.87it/s, acc_nat=0.882, acc_rob=0.43]\n"
     ]
    },
    {
     "name": "stdout",
     "output_type": "stream",
     "text": [
      "Epoch 104 [0/383] | loss: 0.3693 (avg: 0.0010) | acc: 0.8359 (avg: 0.8359) |\n",
      "Epoch 104 [100/383] | loss: 0.2017 (avg: 0.0564) | acc: 0.9062 (avg: 0.9063) |\n",
      "Epoch 104 [200/383] | loss: 0.2010 (avg: 0.1164) | acc: 0.9219 (avg: 0.9016) |\n",
      "Epoch 104 [300/383] | loss: 0.2776 (avg: 0.1744) | acc: 0.8672 (avg: 0.9019) |\n"
     ]
    },
    {
     "name": "stderr",
     "output_type": "stream",
     "text": [
      "[eval] 1000/1000: 100%|██████████| 1000/1000 [03:20<00:00,  5.00it/s, acc_nat=0.874, acc_rob=0.446]\n"
     ]
    },
    {
     "name": "stdout",
     "output_type": "stream",
     "text": [
      "Epoch 105 [0/383] | loss: 0.4188 (avg: 0.0011) | acc: 0.8281 (avg: 0.8281) |\n",
      "Epoch 105 [100/383] | loss: 0.4053 (avg: 0.0591) | acc: 0.8438 (avg: 0.9026) |\n",
      "Epoch 105 [200/383] | loss: 0.1204 (avg: 0.1143) | acc: 0.9766 (avg: 0.9060) |\n",
      "Epoch 105 [300/383] | loss: 0.3549 (avg: 0.1682) | acc: 0.8047 (avg: 0.9077) |\n"
     ]
    },
    {
     "name": "stderr",
     "output_type": "stream",
     "text": [
      "[eval] 1000/1000: 100%|██████████| 1000/1000 [03:23<00:00,  4.91it/s, acc_nat=0.883, acc_rob=0.455]\n"
     ]
    },
    {
     "name": "stdout",
     "output_type": "stream",
     "text": [
      "Epoch 106 [0/383] | loss: 0.1335 (avg: 0.0003) | acc: 0.9609 (avg: 0.9609) |\n",
      "Epoch 106 [100/383] | loss: 0.2637 (avg: 0.0601) | acc: 0.8828 (avg: 0.8987) |\n",
      "Epoch 106 [200/383] | loss: 0.1690 (avg: 0.1153) | acc: 0.9375 (avg: 0.9024) |\n",
      "Epoch 106 [300/383] | loss: 0.1777 (avg: 0.1713) | acc: 0.9453 (avg: 0.9026) |\n"
     ]
    },
    {
     "name": "stderr",
     "output_type": "stream",
     "text": [
      "[eval] 1000/1000: 100%|██████████| 1000/1000 [03:24<00:00,  4.88it/s, acc_nat=0.887, acc_rob=0.446]\n"
     ]
    },
    {
     "name": "stdout",
     "output_type": "stream",
     "text": [
      "Epoch 107 [0/383] | loss: 0.3557 (avg: 0.0009) | acc: 0.7969 (avg: 0.7969) |\n",
      "Epoch 107 [100/383] | loss: 0.1302 (avg: 0.0585) | acc: 0.9609 (avg: 0.9027) |\n",
      "Epoch 107 [200/383] | loss: 0.1197 (avg: 0.1169) | acc: 0.9688 (avg: 0.9019) |\n",
      "Epoch 107 [300/383] | loss: 0.1448 (avg: 0.1782) | acc: 0.9375 (avg: 0.9002) |\n"
     ]
    },
    {
     "name": "stderr",
     "output_type": "stream",
     "text": [
      "[eval] 1000/1000: 100%|██████████| 1000/1000 [03:18<00:00,  5.04it/s, acc_nat=0.895, acc_rob=0.443]\n"
     ]
    },
    {
     "name": "stdout",
     "output_type": "stream",
     "text": [
      "Epoch 108 [0/383] | loss: 0.1621 (avg: 0.0004) | acc: 0.9453 (avg: 0.9453) |\n",
      "Epoch 108 [100/383] | loss: 0.2109 (avg: 0.0587) | acc: 0.8984 (avg: 0.8992) |\n",
      "Epoch 108 [200/383] | loss: 0.3212 (avg: 0.1195) | acc: 0.8516 (avg: 0.8975) |\n",
      "Epoch 108 [300/383] | loss: 0.1412 (avg: 0.1763) | acc: 0.9375 (avg: 0.9000) |\n"
     ]
    },
    {
     "name": "stderr",
     "output_type": "stream",
     "text": [
      "[eval] 1000/1000: 100%|██████████| 1000/1000 [03:38<00:00,  4.57it/s, acc_nat=0.899, acc_rob=0.48]\n"
     ]
    },
    {
     "name": "stdout",
     "output_type": "stream",
     "text": [
      "Epoch 109 [0/383] | loss: 0.1394 (avg: 0.0004) | acc: 0.9375 (avg: 0.9375) |\n",
      "Epoch 109 [100/383] | loss: 0.1554 (avg: 0.0589) | acc: 0.9531 (avg: 0.9009) |\n",
      "Epoch 109 [200/383] | loss: 0.1690 (avg: 0.1170) | acc: 0.9219 (avg: 0.9014) |\n",
      "Epoch 109 [300/383] | loss: 0.1911 (avg: 0.1734) | acc: 0.9297 (avg: 0.9021) |\n"
     ]
    },
    {
     "name": "stderr",
     "output_type": "stream",
     "text": [
      "[eval] 1000/1000: 100%|██████████| 1000/1000 [03:21<00:00,  4.95it/s, acc_nat=0.882, acc_rob=0.442]\n"
     ]
    },
    {
     "name": "stdout",
     "output_type": "stream",
     "text": [
      "Epoch 110 [0/383] | loss: 0.2829 (avg: 0.0007) | acc: 0.8672 (avg: 0.8672) |\n",
      "Epoch 110 [100/383] | loss: 0.1164 (avg: 0.0568) | acc: 0.9453 (avg: 0.9008) |\n",
      "Epoch 110 [200/383] | loss: 0.1707 (avg: 0.1167) | acc: 0.9531 (avg: 0.8991) |\n",
      "Epoch 110 [300/383] | loss: 0.4079 (avg: 0.1777) | acc: 0.7969 (avg: 0.8979) |\n"
     ]
    },
    {
     "name": "stderr",
     "output_type": "stream",
     "text": [
      "[eval] 1000/1000: 100%|██████████| 1000/1000 [03:39<00:00,  4.56it/s, acc_nat=0.869, acc_rob=0.396]\n"
     ]
    },
    {
     "name": "stdout",
     "output_type": "stream",
     "text": [
      "Epoch 111 [0/383] | loss: 0.1659 (avg: 0.0004) | acc: 0.9219 (avg: 0.9219) |\n",
      "Epoch 111 [100/383] | loss: 0.1407 (avg: 0.0594) | acc: 0.9453 (avg: 0.9004) |\n",
      "Epoch 111 [200/383] | loss: 0.3519 (avg: 0.1175) | acc: 0.8359 (avg: 0.8995) |\n",
      "Epoch 111 [300/383] | loss: 0.1910 (avg: 0.1746) | acc: 0.9141 (avg: 0.9002) |\n"
     ]
    },
    {
     "name": "stderr",
     "output_type": "stream",
     "text": [
      "[eval] 1000/1000: 100%|██████████| 1000/1000 [03:19<00:00,  5.01it/s, acc_nat=0.886, acc_rob=0.442]\n"
     ]
    },
    {
     "name": "stdout",
     "output_type": "stream",
     "text": [
      "Epoch 112 [0/383] | loss: 0.1110 (avg: 0.0003) | acc: 0.9609 (avg: 0.9609) |\n",
      "Epoch 112 [100/383] | loss: 0.3927 (avg: 0.0581) | acc: 0.8125 (avg: 0.9022) |\n",
      "Epoch 112 [200/383] | loss: 0.1450 (avg: 0.1159) | acc: 0.9531 (avg: 0.9018) |\n",
      "Epoch 112 [300/383] | loss: 0.1808 (avg: 0.1744) | acc: 0.9297 (avg: 0.9003) |\n"
     ]
    },
    {
     "name": "stderr",
     "output_type": "stream",
     "text": [
      "[eval] 1000/1000: 100%|██████████| 1000/1000 [03:20<00:00,  5.00it/s, acc_nat=0.876, acc_rob=0.459]\n"
     ]
    },
    {
     "name": "stdout",
     "output_type": "stream",
     "text": [
      "Epoch 113 [0/383] | loss: 0.3251 (avg: 0.0008) | acc: 0.8594 (avg: 0.8594) |\n",
      "Epoch 113 [100/383] | loss: 0.1806 (avg: 0.0595) | acc: 0.8984 (avg: 0.9001) |\n",
      "Epoch 113 [200/383] | loss: 0.1479 (avg: 0.1153) | acc: 0.9453 (avg: 0.9045) |\n",
      "Epoch 113 [300/383] | loss: 0.1763 (avg: 0.1715) | acc: 0.9219 (avg: 0.9049) |\n"
     ]
    },
    {
     "name": "stderr",
     "output_type": "stream",
     "text": [
      "[eval] 1000/1000: 100%|██████████| 1000/1000 [03:27<00:00,  4.83it/s, acc_nat=0.894, acc_rob=0.466]\n"
     ]
    },
    {
     "name": "stdout",
     "output_type": "stream",
     "text": [
      "Epoch 114 [0/383] | loss: 0.2972 (avg: 0.0008) | acc: 0.8828 (avg: 0.8828) |\n",
      "Epoch 114 [100/383] | loss: 0.1406 (avg: 0.0567) | acc: 0.9375 (avg: 0.9070) |\n",
      "Epoch 114 [200/383] | loss: 0.1328 (avg: 0.1133) | acc: 0.9531 (avg: 0.9061) |\n",
      "Epoch 114 [300/383] | loss: 0.1272 (avg: 0.1709) | acc: 0.9609 (avg: 0.9049) |\n"
     ]
    },
    {
     "name": "stderr",
     "output_type": "stream",
     "text": [
      "[eval] 1000/1000: 100%|██████████| 1000/1000 [03:20<00:00,  5.00it/s, acc_nat=0.88, acc_rob=0.377]\n"
     ]
    },
    {
     "name": "stdout",
     "output_type": "stream",
     "text": [
      "Epoch 115 [0/383] | loss: 0.2263 (avg: 0.0006) | acc: 0.8750 (avg: 0.8750) |\n",
      "Epoch 115 [100/383] | loss: 0.1450 (avg: 0.0541) | acc: 0.9531 (avg: 0.9114) |\n",
      "Epoch 115 [200/383] | loss: 0.1270 (avg: 0.1095) | acc: 0.9453 (avg: 0.9074) |\n",
      "Epoch 115 [300/383] | loss: 0.2565 (avg: 0.1680) | acc: 0.8750 (avg: 0.9044) |\n"
     ]
    },
    {
     "name": "stderr",
     "output_type": "stream",
     "text": [
      "[eval] 1000/1000: 100%|██████████| 1000/1000 [03:33<00:00,  4.69it/s, acc_nat=0.824, acc_rob=0.315]\n"
     ]
    },
    {
     "name": "stdout",
     "output_type": "stream",
     "text": [
      "Epoch 116 [0/383] | loss: 0.0990 (avg: 0.0003) | acc: 0.9688 (avg: 0.9688) |\n",
      "Epoch 116 [100/383] | loss: 0.1300 (avg: 0.0567) | acc: 0.9609 (avg: 0.9032) |\n",
      "Epoch 116 [200/383] | loss: 0.1721 (avg: 0.1189) | acc: 0.9297 (avg: 0.8986) |\n",
      "Epoch 116 [300/383] | loss: 0.5252 (avg: 0.1791) | acc: 0.7031 (avg: 0.8981) |\n"
     ]
    },
    {
     "name": "stderr",
     "output_type": "stream",
     "text": [
      "[eval] 1000/1000: 100%|██████████| 1000/1000 [03:18<00:00,  5.04it/s, acc_nat=0.89, acc_rob=0.44]\n"
     ]
    },
    {
     "name": "stdout",
     "output_type": "stream",
     "text": [
      "Epoch 117 [0/383] | loss: 0.2584 (avg: 0.0007) | acc: 0.8750 (avg: 0.8750) |\n",
      "Epoch 117 [100/383] | loss: 0.2121 (avg: 0.0601) | acc: 0.8984 (avg: 0.8989) |\n",
      "Epoch 117 [200/383] | loss: 0.1745 (avg: 0.1133) | acc: 0.9297 (avg: 0.9058) |\n",
      "Epoch 117 [300/383] | loss: 0.2999 (avg: 0.1704) | acc: 0.8125 (avg: 0.9053) |\n"
     ]
    },
    {
     "name": "stderr",
     "output_type": "stream",
     "text": [
      "[eval] 1000/1000: 100%|██████████| 1000/1000 [03:23<00:00,  4.90it/s, acc_nat=0.87, acc_rob=0.399]\n"
     ]
    },
    {
     "name": "stdout",
     "output_type": "stream",
     "text": [
      "Epoch 118 [0/383] | loss: 0.1283 (avg: 0.0003) | acc: 0.9531 (avg: 0.9531) |\n",
      "Epoch 118 [100/383] | loss: 0.1334 (avg: 0.0552) | acc: 0.9531 (avg: 0.9082) |\n",
      "Epoch 118 [200/383] | loss: 0.1424 (avg: 0.1210) | acc: 0.9375 (avg: 0.8984) |\n",
      "Epoch 118 [300/383] | loss: 0.1624 (avg: 0.1823) | acc: 0.9375 (avg: 0.8971) |\n"
     ]
    },
    {
     "name": "stderr",
     "output_type": "stream",
     "text": [
      "[eval] 1000/1000: 100%|██████████| 1000/1000 [03:23<00:00,  4.93it/s, acc_nat=0.892, acc_rob=0.462]\n"
     ]
    },
    {
     "name": "stdout",
     "output_type": "stream",
     "text": [
      "Epoch 119 [0/383] | loss: 0.3391 (avg: 0.0009) | acc: 0.8438 (avg: 0.8438) |\n",
      "Epoch 119 [100/383] | loss: 0.1330 (avg: 0.0539) | acc: 0.9766 (avg: 0.9112) |\n",
      "Epoch 119 [200/383] | loss: 0.2742 (avg: 0.1117) | acc: 0.8594 (avg: 0.9058) |\n",
      "Epoch 119 [300/383] | loss: 0.1904 (avg: 0.1704) | acc: 0.9219 (avg: 0.9030) |\n"
     ]
    },
    {
     "name": "stderr",
     "output_type": "stream",
     "text": [
      "[eval] 1000/1000: 100%|██████████| 1000/1000 [03:23<00:00,  4.92it/s, acc_nat=0.891, acc_rob=0.446]\n"
     ]
    }
   ],
   "source": [
    "os.environ['CUDA_VISIBLE_DEVICES'] = gpu\n",
    "os.makedirs(checkpoint, exist_ok=True)\n",
    "\n",
    "train_transform = transforms.Compose([\n",
    "    transforms.RandomCrop(32, padding=4),\n",
    "    transforms.RandomHorizontalFlip(),\n",
    "    transforms.ToTensor()])\n",
    "train_dataset, _ = get_dataloader(dataset, batch_size)\n",
    "num_samples = len(train_dataset)\n",
    "num_samples_for_train = int(num_samples * 0.98)\n",
    "num_samples_for_valid = num_samples - num_samples_for_train\n",
    "train_set, valid_set = random_split(train_dataset, [num_samples_for_train, num_samples_for_valid])\n",
    "train_dataloader = DataLoader(train_set, batch_size=batch_size, shuffle=True, drop_last=False)\n",
    "valid_dataloader = DataLoader(valid_set, batch_size=1, shuffle=True, drop_last=False)\n",
    "\n",
    "model = nn.DataParallel(get_network(model_type, num_classes).cuda())\n",
    "optimizer = optim.SGD(model.parameters(),lr=lr, momentum=momentum, weight_decay=weight_decay)\n",
    "\n",
    "#scheduler = [int(total_epochs*0.5), int(total_epochs*0.75)]\n",
    "#adjust_learning_rate = lr_scheduler.MultiStepLR(optimizer, scheduler, gamma=0.1)\n",
    "best_acc_nat, best_acc_rob = 0, 0\n",
    "\n",
    "for epoch in range(total_epochs):\n",
    "    training(epoch, model, train_dataloader, optimizer, num_classes, \n",
    "             adjust_tau(epoch, dynamictau=dynamictau, tau=tau), epsilon, alpha, num_repeats)\n",
    "    test_acc_nat, test_acc_rob = evaluation(epoch, model, valid_dataloader, alpha, epsilon, num_repeats)\n",
    "        \n",
    "    is_best = best_acc_nat < test_acc_nat and best_acc_rob < test_acc_rob\n",
    "    best_acc_nat = max(best_acc_nat, test_acc_nat)\n",
    "    best_acc_rob = max(best_acc_rob, test_acc_rob)\n",
    "    save_checkpoint = {'state_dict': model.state_dict(),\n",
    "                       'best_acc_nat': best_acc_nat,\n",
    "                       'best_acc_rob': best_acc_rob,\n",
    "                       'optimizer': optimizer.state_dict(),\n",
    "                       'model_type': model_type,\n",
    "                       'dataset': dataset}\n",
    "    torch.save(save_checkpoint, os.path.join(checkpoint, 'model'))\n",
    "    if is_best:\n",
    "        torch.save(save_checkpoint, os.path.join(checkpoint, 'best_model'))\n",
    "    adjust_learning_rate(optimizer, epoch, lr)"
   ]
  },
  {
   "cell_type": "code",
   "execution_count": null,
   "id": "85c20db4-ffa9-4f5c-8a6f-0dc44b924b6c",
   "metadata": {},
   "outputs": [],
   "source": []
  }
 ],
 "metadata": {
  "kernelspec": {
   "display_name": "Python 3",
   "language": "python",
   "name": "python3"
  },
  "language_info": {
   "codemirror_mode": {
    "name": "ipython",
    "version": 3
   },
   "file_extension": ".py",
   "mimetype": "text/x-python",
   "name": "python",
   "nbconvert_exporter": "python",
   "pygments_lexer": "ipython3",
   "version": "3.6.9"
  }
 },
 "nbformat": 4,
 "nbformat_minor": 5
}
