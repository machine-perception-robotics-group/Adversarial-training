{
 "cells": [
  {
   "cell_type": "markdown",
   "id": "be933234-4b51-41a5-a5a0-9b831b916f96",
   "metadata": {
    "tags": []
   },
   "source": [
    "# Adversarial logits pairing (ALP)"
   ]
  },
  {
   "cell_type": "code",
   "execution_count": 1,
   "id": "85eb3db2-6a80-4e98-8a62-4fd714fc9189",
   "metadata": {},
   "outputs": [],
   "source": [
    "import os\n",
    "import sys\n",
    "sys.path.append('..')\n",
    "import yaml\n",
    "import shutil\n",
    "import argparse\n",
    "import numpy as np\n",
    "from tqdm import tqdm\n",
    "from collections import OrderedDict\n",
    "\n",
    "import torch\n",
    "import torch.nn as nn\n",
    "import torch.nn.functional as F\n",
    "import torch.optim as optim\n",
    "from torch.optim import lr_scheduler\n",
    "from torch.utils.data import DataLoader, random_split\n",
    "\n",
    "from utils import *"
   ]
  },
  {
   "cell_type": "markdown",
   "id": "66240c81-1be4-4a34-af22-21a6292e0ff9",
   "metadata": {},
   "source": [
    "## Parameter setting"
   ]
  },
  {
   "cell_type": "code",
   "execution_count": 2,
   "id": "01de849e-a804-4062-aef7-4cfcd5999b2c",
   "metadata": {},
   "outputs": [],
   "source": [
    "gpu = '0,1,2,3'\n",
    "dataset = 'cifar10'\n",
    "model_type = 'wrn34-10'\n",
    "checkpoint = './checkpoint/alp/%s/%s' % (model_type, dataset)\n",
    "num_classes = 10\n",
    "lr = 0.01\n",
    "momentum = 0.9\n",
    "weight_decay = 0.0035\n",
    "batch_size = 128\n",
    "total_epochs = 100\n",
    "epsilon = 8/255\n",
    "alpha = 2/255\n",
    "num_repeats = 10\n",
    "lam = 0.5"
   ]
  },
  {
   "cell_type": "markdown",
   "id": "8c102405-4d46-45e0-b957-9e7022b7ae2f",
   "metadata": {},
   "source": [
    "## Inner maximization"
   ]
  },
  {
   "cell_type": "code",
   "execution_count": 3,
   "id": "2ee44a0f-0acc-41c3-95a0-e477e167e679",
   "metadata": {},
   "outputs": [],
   "source": [
    "def inner_max(model, xent, inputs, targets, epsilon, alpha, num_repeats):\n",
    "    noise = torch.FloatTensor(inputs.shape).uniform_(-1, 1).cuda()\n",
    "    x = torch.clamp(inputs + noise, min=0, max=1)\n",
    "    for _ in range(num_repeats):\n",
    "        x.requires_grad_()\n",
    "        logits = model(x)\n",
    "        loss = xent(logits, targets)\n",
    "        loss.backward()\n",
    "        grads = x.grad.data\n",
    "        x = x.detach() + alpha*torch.sign(grads).detach()\n",
    "        x = torch.min(torch.max(x, inputs - epsilon), inputs + epsilon).clamp(min=0, max=1)\n",
    "    return x"
   ]
  },
  {
   "cell_type": "markdown",
   "id": "afe2591b-4ebf-4714-a3f4-85cdac7f272d",
   "metadata": {},
   "source": [
    "## Training (Outer minimization)"
   ]
  },
  {
   "cell_type": "code",
   "execution_count": 4,
   "id": "db2276c9-d52b-4544-8448-42817161084d",
   "metadata": {},
   "outputs": [],
   "source": [
    "def training(epoch, model, dataloader, optimizer, num_classes, \n",
    "             epsilon=8/255, alpha=2/255, num_repeats=10, lam=0.5):\n",
    "    model.train()\n",
    "    total = 0\n",
    "    total_loss = 0\n",
    "    total_correct = 0\n",
    "    xent = nn.CrossEntropyLoss()\n",
    "    for idx, (inputs, targets) in enumerate(dataloader):\n",
    "        inputs, targets = inputs.cuda(), targets.cuda()\n",
    "        batch = inputs.size(0)\n",
    "        \n",
    "        x = inner_max(model, xent, inputs, targets, epsilon, alpha, num_repeats)\n",
    "        logits_adv = model(x)\n",
    "        logits_nat = model(inputs)\n",
    "        \n",
    "        loss_xent = xent(logits_adv, targets)\n",
    "        loss_lp = torch.norm(logits_nat - logits_adv, p=2, dim=-1).sum()/batch\n",
    "        loss = loss_xent + lam*loss_lp\n",
    "        \n",
    "        optimizer.zero_grad()\n",
    "        loss.backward()\n",
    "        optimizer.step()\n",
    "            \n",
    "        total += batch\n",
    "        total_loss += loss.item()\n",
    "        num_correct = torch.argmax(logits_adv.data, dim=1).eq(targets.data).cpu().sum().item()\n",
    "        total_correct += num_correct\n",
    "        \n",
    "        if idx % 100 == 0:\n",
    "            print('Epoch %d [%d/%d] | loss: %.4f (avg: %.4f) | acc: %.4f (avg: %.4f) |'\\\n",
    "                  % (epoch, idx, len(dataloader), loss.item(), total_loss/(idx+1),\n",
    "                     num_correct/batch, total_correct/total))"
   ]
  },
  {
   "cell_type": "code",
   "execution_count": 5,
   "id": "2ff1c8d2-8e9c-441c-b471-9eb237eb3bf0",
   "metadata": {},
   "outputs": [],
   "source": [
    "def evaluation(epoch, model, dataloader, alpha, epsilon, num_repeats):\n",
    "    model.eval()\n",
    "    total_correct_nat = 0\n",
    "    total_correct_adv = 0\n",
    "    \n",
    "    xent = nn.CrossEntropyLoss()\n",
    "    with tqdm(dataloader) as pbar:\n",
    "        for index, (inputs, targets) in enumerate(pbar):\n",
    "            inputs, targets = inputs.cuda(), targets.cuda()\n",
    "            batch = inputs.size(0)\n",
    "            pbar.set_description(\"[eval] %d/%d\" % (index+1, len(dataloader.dataset)))\n",
    "            \n",
    "            x = inner_max(model, xent, inputs, targets, epsilon, alpha, num_repeats)\n",
    "            with torch.no_grad():\n",
    "                logits_nat = model(inputs)\n",
    "                logits_adv = model(x)\n",
    "            total_correct_nat += torch.argmax(logits_nat.data, dim=1).eq(targets.data).cpu().sum().item()\n",
    "            total_correct_adv += torch.argmax(logits_adv.data, dim=1).eq(targets.data).cpu().sum().item()\n",
    "            pbar.set_postfix(OrderedDict(acc_nat=total_correct_nat / len(dataloader.dataset),\n",
    "                                         acc_rob=total_correct_adv / len(dataloader.dataset)))\n",
    "    \n",
    "    return (total_correct_nat / len(dataloader.dataset)), (total_correct_adv / len(dataloader.dataset))"
   ]
  },
  {
   "cell_type": "code",
   "execution_count": 6,
   "id": "208f000e-cb35-4ad5-93d5-fe47f788b266",
   "metadata": {
    "tags": []
   },
   "outputs": [
    {
     "name": "stdout",
     "output_type": "stream",
     "text": [
      "Files already downloaded and verified\n",
      "Files already downloaded and verified\n",
      "Epoch 0 [0/383] | loss: 3.3305 (avg: 3.3305) | acc: 0.0000 (avg: 0.0000) |\n",
      "Epoch 0 [100/383] | loss: 2.3102 (avg: 2.4285) | acc: 0.1562 (avg: 0.1143) |\n",
      "Epoch 0 [200/383] | loss: 2.2877 (avg: 2.3627) | acc: 0.1641 (avg: 0.1391) |\n",
      "Epoch 0 [300/383] | loss: 2.1955 (avg: 2.3338) | acc: 0.2031 (avg: 0.1524) |\n"
     ]
    },
    {
     "name": "stderr",
     "output_type": "stream",
     "text": [
      "[eval] 1000/1000: 100%|██████████| 1000/1000 [03:37<00:00,  4.60it/s, acc_nat=0.231, acc_rob=0.197]\n"
     ]
    },
    {
     "name": "stdout",
     "output_type": "stream",
     "text": [
      "Epoch 1 [0/383] | loss: 2.2477 (avg: 2.2477) | acc: 0.1875 (avg: 0.1875) |\n",
      "Epoch 1 [100/383] | loss: 2.2308 (avg: 2.2499) | acc: 0.2344 (avg: 0.1943) |\n",
      "Epoch 1 [200/383] | loss: 2.1912 (avg: 2.2426) | acc: 0.1797 (avg: 0.1966) |\n",
      "Epoch 1 [300/383] | loss: 2.2142 (avg: 2.2368) | acc: 0.2344 (avg: 0.2006) |\n"
     ]
    },
    {
     "name": "stderr",
     "output_type": "stream",
     "text": [
      "[eval] 1000/1000: 100%|██████████| 1000/1000 [03:34<00:00,  4.65it/s, acc_nat=0.235, acc_rob=0.207]\n"
     ]
    },
    {
     "name": "stdout",
     "output_type": "stream",
     "text": [
      "Epoch 2 [0/383] | loss: 2.1902 (avg: 2.1902) | acc: 0.2109 (avg: 0.2109) |\n",
      "Epoch 2 [100/383] | loss: 2.2109 (avg: 2.2183) | acc: 0.2734 (avg: 0.2098) |\n",
      "Epoch 2 [200/383] | loss: 2.2176 (avg: 2.2148) | acc: 0.2031 (avg: 0.2160) |\n",
      "Epoch 2 [300/383] | loss: 2.2350 (avg: 2.2091) | acc: 0.2188 (avg: 0.2201) |\n"
     ]
    },
    {
     "name": "stderr",
     "output_type": "stream",
     "text": [
      "[eval] 1000/1000: 100%|██████████| 1000/1000 [03:34<00:00,  4.67it/s, acc_nat=0.307, acc_rob=0.233]\n"
     ]
    },
    {
     "name": "stdout",
     "output_type": "stream",
     "text": [
      "Epoch 3 [0/383] | loss: 2.1848 (avg: 2.1848) | acc: 0.2500 (avg: 0.2500) |\n",
      "Epoch 3 [100/383] | loss: 2.1403 (avg: 2.1880) | acc: 0.2891 (avg: 0.2310) |\n",
      "Epoch 3 [200/383] | loss: 2.2569 (avg: 2.1875) | acc: 0.1797 (avg: 0.2361) |\n",
      "Epoch 3 [300/383] | loss: 2.2085 (avg: 2.1905) | acc: 0.1875 (avg: 0.2344) |\n"
     ]
    },
    {
     "name": "stderr",
     "output_type": "stream",
     "text": [
      "[eval] 1000/1000: 100%|██████████| 1000/1000 [03:31<00:00,  4.72it/s, acc_nat=0.291, acc_rob=0.226]\n"
     ]
    },
    {
     "name": "stdout",
     "output_type": "stream",
     "text": [
      "Epoch 4 [0/383] | loss: 2.1674 (avg: 2.1674) | acc: 0.2500 (avg: 0.2500) |\n",
      "Epoch 4 [100/383] | loss: 2.2280 (avg: 2.1745) | acc: 0.2109 (avg: 0.2389) |\n",
      "Epoch 4 [200/383] | loss: 2.1794 (avg: 2.1769) | acc: 0.2500 (avg: 0.2402) |\n",
      "Epoch 4 [300/383] | loss: 2.2132 (avg: 2.1756) | acc: 0.2109 (avg: 0.2409) |\n"
     ]
    },
    {
     "name": "stderr",
     "output_type": "stream",
     "text": [
      "[eval] 1000/1000: 100%|██████████| 1000/1000 [03:32<00:00,  4.71it/s, acc_nat=0.295, acc_rob=0.241]\n"
     ]
    },
    {
     "name": "stdout",
     "output_type": "stream",
     "text": [
      "Epoch 5 [0/383] | loss: 2.1188 (avg: 2.1188) | acc: 0.1875 (avg: 0.1875) |\n",
      "Epoch 5 [100/383] | loss: 2.1910 (avg: 2.1605) | acc: 0.2344 (avg: 0.2459) |\n",
      "Epoch 5 [200/383] | loss: 2.1732 (avg: 2.1621) | acc: 0.2188 (avg: 0.2463) |\n",
      "Epoch 5 [300/383] | loss: 2.1562 (avg: 2.1586) | acc: 0.2578 (avg: 0.2491) |\n"
     ]
    },
    {
     "name": "stderr",
     "output_type": "stream",
     "text": [
      "[eval] 1000/1000: 100%|██████████| 1000/1000 [03:29<00:00,  4.78it/s, acc_nat=0.319, acc_rob=0.255]\n"
     ]
    },
    {
     "name": "stdout",
     "output_type": "stream",
     "text": [
      "Epoch 6 [0/383] | loss: 2.1302 (avg: 2.1302) | acc: 0.2656 (avg: 0.2656) |\n",
      "Epoch 6 [100/383] | loss: 2.1787 (avg: 2.1593) | acc: 0.2109 (avg: 0.2513) |\n",
      "Epoch 6 [200/383] | loss: 2.0987 (avg: 2.1543) | acc: 0.2188 (avg: 0.2528) |\n",
      "Epoch 6 [300/383] | loss: 2.0796 (avg: 2.1506) | acc: 0.3047 (avg: 0.2560) |\n"
     ]
    },
    {
     "name": "stderr",
     "output_type": "stream",
     "text": [
      "[eval] 1000/1000: 100%|██████████| 1000/1000 [03:35<00:00,  4.65it/s, acc_nat=0.342, acc_rob=0.269]\n"
     ]
    },
    {
     "name": "stdout",
     "output_type": "stream",
     "text": [
      "Epoch 7 [0/383] | loss: 2.1173 (avg: 2.1173) | acc: 0.2266 (avg: 0.2266) |\n",
      "Epoch 7 [100/383] | loss: 2.1426 (avg: 2.1392) | acc: 0.2812 (avg: 0.2641) |\n",
      "Epoch 7 [200/383] | loss: 2.1494 (avg: 2.1404) | acc: 0.2891 (avg: 0.2675) |\n",
      "Epoch 7 [300/383] | loss: 2.1369 (avg: 2.1379) | acc: 0.2734 (avg: 0.2686) |\n"
     ]
    },
    {
     "name": "stderr",
     "output_type": "stream",
     "text": [
      "[eval] 1000/1000: 100%|██████████| 1000/1000 [03:37<00:00,  4.59it/s, acc_nat=0.36, acc_rob=0.269]\n"
     ]
    },
    {
     "name": "stdout",
     "output_type": "stream",
     "text": [
      "Epoch 8 [0/383] | loss: 2.1900 (avg: 2.1900) | acc: 0.2188 (avg: 0.2188) |\n",
      "Epoch 8 [100/383] | loss: 2.0601 (avg: 2.1353) | acc: 0.3672 (avg: 0.2752) |\n",
      "Epoch 8 [200/383] | loss: 2.0790 (avg: 2.1328) | acc: 0.3516 (avg: 0.2713) |\n",
      "Epoch 8 [300/383] | loss: 2.1550 (avg: 2.1310) | acc: 0.2734 (avg: 0.2699) |\n"
     ]
    },
    {
     "name": "stderr",
     "output_type": "stream",
     "text": [
      "[eval] 1000/1000: 100%|██████████| 1000/1000 [03:33<00:00,  4.68it/s, acc_nat=0.361, acc_rob=0.28]\n"
     ]
    },
    {
     "name": "stdout",
     "output_type": "stream",
     "text": [
      "Epoch 9 [0/383] | loss: 2.1075 (avg: 2.1075) | acc: 0.2969 (avg: 0.2969) |\n",
      "Epoch 9 [100/383] | loss: 2.0665 (avg: 2.1257) | acc: 0.2656 (avg: 0.2799) |\n",
      "Epoch 9 [200/383] | loss: 2.1069 (avg: 2.1189) | acc: 0.2891 (avg: 0.2811) |\n",
      "Epoch 9 [300/383] | loss: 2.1362 (avg: 2.1184) | acc: 0.3047 (avg: 0.2821) |\n"
     ]
    },
    {
     "name": "stderr",
     "output_type": "stream",
     "text": [
      "[eval] 1000/1000: 100%|██████████| 1000/1000 [03:34<00:00,  4.67it/s, acc_nat=0.397, acc_rob=0.293]\n"
     ]
    },
    {
     "name": "stdout",
     "output_type": "stream",
     "text": [
      "Epoch 10 [0/383] | loss: 2.0920 (avg: 2.0920) | acc: 0.2266 (avg: 0.2266) |\n",
      "Epoch 10 [100/383] | loss: 1.9832 (avg: 2.1126) | acc: 0.3750 (avg: 0.2789) |\n",
      "Epoch 10 [200/383] | loss: 2.0752 (avg: 2.1137) | acc: 0.2969 (avg: 0.2810) |\n",
      "Epoch 10 [300/383] | loss: 2.2240 (avg: 2.1089) | acc: 0.2031 (avg: 0.2842) |\n"
     ]
    },
    {
     "name": "stderr",
     "output_type": "stream",
     "text": [
      "[eval] 1000/1000: 100%|██████████| 1000/1000 [03:30<00:00,  4.75it/s, acc_nat=0.364, acc_rob=0.269]\n"
     ]
    },
    {
     "name": "stdout",
     "output_type": "stream",
     "text": [
      "Epoch 11 [0/383] | loss: 2.1425 (avg: 2.1425) | acc: 0.2969 (avg: 0.2969) |\n",
      "Epoch 11 [100/383] | loss: 2.1625 (avg: 2.0972) | acc: 0.3047 (avg: 0.2908) |\n",
      "Epoch 11 [200/383] | loss: 2.0730 (avg: 2.0966) | acc: 0.3672 (avg: 0.2915) |\n",
      "Epoch 11 [300/383] | loss: 2.1069 (avg: 2.0966) | acc: 0.2969 (avg: 0.2922) |\n"
     ]
    },
    {
     "name": "stderr",
     "output_type": "stream",
     "text": [
      "[eval] 1000/1000: 100%|██████████| 1000/1000 [03:29<00:00,  4.77it/s, acc_nat=0.404, acc_rob=0.304]\n"
     ]
    },
    {
     "name": "stdout",
     "output_type": "stream",
     "text": [
      "Epoch 12 [0/383] | loss: 2.0751 (avg: 2.0751) | acc: 0.3203 (avg: 0.3203) |\n",
      "Epoch 12 [100/383] | loss: 2.0434 (avg: 2.0895) | acc: 0.2734 (avg: 0.2970) |\n",
      "Epoch 12 [200/383] | loss: 2.1775 (avg: 2.0891) | acc: 0.2578 (avg: 0.2984) |\n",
      "Epoch 12 [300/383] | loss: 2.1528 (avg: 2.0897) | acc: 0.2734 (avg: 0.2984) |\n"
     ]
    },
    {
     "name": "stderr",
     "output_type": "stream",
     "text": [
      "[eval] 1000/1000: 100%|██████████| 1000/1000 [03:29<00:00,  4.78it/s, acc_nat=0.416, acc_rob=0.317]\n"
     ]
    },
    {
     "name": "stdout",
     "output_type": "stream",
     "text": [
      "Epoch 13 [0/383] | loss: 2.0546 (avg: 2.0546) | acc: 0.3438 (avg: 0.3438) |\n",
      "Epoch 13 [100/383] | loss: 2.1071 (avg: 2.0819) | acc: 0.2812 (avg: 0.2996) |\n",
      "Epoch 13 [200/383] | loss: 1.9686 (avg: 2.0823) | acc: 0.3594 (avg: 0.3002) |\n",
      "Epoch 13 [300/383] | loss: 2.0272 (avg: 2.0804) | acc: 0.2891 (avg: 0.3007) |\n"
     ]
    },
    {
     "name": "stderr",
     "output_type": "stream",
     "text": [
      "[eval] 1000/1000: 100%|██████████| 1000/1000 [03:30<00:00,  4.75it/s, acc_nat=0.416, acc_rob=0.316]\n"
     ]
    },
    {
     "name": "stdout",
     "output_type": "stream",
     "text": [
      "Epoch 14 [0/383] | loss: 2.0245 (avg: 2.0245) | acc: 0.2969 (avg: 0.2969) |\n",
      "Epoch 14 [100/383] | loss: 2.0944 (avg: 2.0744) | acc: 0.3047 (avg: 0.3091) |\n",
      "Epoch 14 [200/383] | loss: 2.0332 (avg: 2.0758) | acc: 0.2812 (avg: 0.3067) |\n",
      "Epoch 14 [300/383] | loss: 2.0550 (avg: 2.0732) | acc: 0.3516 (avg: 0.3078) |\n"
     ]
    },
    {
     "name": "stderr",
     "output_type": "stream",
     "text": [
      "[eval] 1000/1000: 100%|██████████| 1000/1000 [03:31<00:00,  4.74it/s, acc_nat=0.406, acc_rob=0.33]\n"
     ]
    },
    {
     "name": "stdout",
     "output_type": "stream",
     "text": [
      "Epoch 15 [0/383] | loss: 2.0203 (avg: 2.0203) | acc: 0.3438 (avg: 0.3438) |\n",
      "Epoch 15 [100/383] | loss: 2.1343 (avg: 2.0641) | acc: 0.2500 (avg: 0.3150) |\n",
      "Epoch 15 [200/383] | loss: 1.9975 (avg: 2.0623) | acc: 0.3828 (avg: 0.3160) |\n",
      "Epoch 15 [300/383] | loss: 2.1172 (avg: 2.0620) | acc: 0.2812 (avg: 0.3155) |\n"
     ]
    },
    {
     "name": "stderr",
     "output_type": "stream",
     "text": [
      "[eval] 1000/1000: 100%|██████████| 1000/1000 [03:31<00:00,  4.73it/s, acc_nat=0.455, acc_rob=0.337]\n"
     ]
    },
    {
     "name": "stdout",
     "output_type": "stream",
     "text": [
      "Epoch 16 [0/383] | loss: 2.1896 (avg: 2.1896) | acc: 0.2578 (avg: 0.2578) |\n",
      "Epoch 16 [100/383] | loss: 2.1526 (avg: 2.0487) | acc: 0.2969 (avg: 0.3219) |\n",
      "Epoch 16 [200/383] | loss: 2.1193 (avg: 2.0503) | acc: 0.2266 (avg: 0.3200) |\n",
      "Epoch 16 [300/383] | loss: 2.1599 (avg: 2.0484) | acc: 0.2812 (avg: 0.3228) |\n"
     ]
    },
    {
     "name": "stderr",
     "output_type": "stream",
     "text": [
      "[eval] 1000/1000: 100%|██████████| 1000/1000 [03:29<00:00,  4.77it/s, acc_nat=0.442, acc_rob=0.327]\n"
     ]
    },
    {
     "name": "stdout",
     "output_type": "stream",
     "text": [
      "Epoch 17 [0/383] | loss: 2.0955 (avg: 2.0955) | acc: 0.3359 (avg: 0.3359) |\n",
      "Epoch 17 [100/383] | loss: 2.0694 (avg: 2.0440) | acc: 0.3359 (avg: 0.3229) |\n",
      "Epoch 17 [200/383] | loss: 2.0772 (avg: 2.0398) | acc: 0.2734 (avg: 0.3247) |\n",
      "Epoch 17 [300/383] | loss: 1.9507 (avg: 2.0410) | acc: 0.3594 (avg: 0.3246) |\n"
     ]
    },
    {
     "name": "stderr",
     "output_type": "stream",
     "text": [
      "[eval] 1000/1000: 100%|██████████| 1000/1000 [03:31<00:00,  4.73it/s, acc_nat=0.434, acc_rob=0.316]\n"
     ]
    },
    {
     "name": "stdout",
     "output_type": "stream",
     "text": [
      "Epoch 18 [0/383] | loss: 2.2164 (avg: 2.2164) | acc: 0.1875 (avg: 0.1875) |\n",
      "Epoch 18 [100/383] | loss: 2.0009 (avg: 2.0362) | acc: 0.3672 (avg: 0.3316) |\n",
      "Epoch 18 [200/383] | loss: 2.0094 (avg: 2.0354) | acc: 0.3203 (avg: 0.3308) |\n",
      "Epoch 18 [300/383] | loss: 2.0729 (avg: 2.0339) | acc: 0.3438 (avg: 0.3326) |\n"
     ]
    },
    {
     "name": "stderr",
     "output_type": "stream",
     "text": [
      "[eval] 1000/1000: 100%|██████████| 1000/1000 [03:30<00:00,  4.75it/s, acc_nat=0.48, acc_rob=0.346]\n"
     ]
    },
    {
     "name": "stdout",
     "output_type": "stream",
     "text": [
      "Epoch 19 [0/383] | loss: 1.9980 (avg: 1.9980) | acc: 0.3516 (avg: 0.3516) |\n",
      "Epoch 19 [100/383] | loss: 2.0435 (avg: 2.0213) | acc: 0.3438 (avg: 0.3427) |\n",
      "Epoch 19 [200/383] | loss: 2.0313 (avg: 2.0236) | acc: 0.3438 (avg: 0.3372) |\n",
      "Epoch 19 [300/383] | loss: 1.9743 (avg: 2.0243) | acc: 0.3828 (avg: 0.3366) |\n"
     ]
    },
    {
     "name": "stderr",
     "output_type": "stream",
     "text": [
      "[eval] 1000/1000: 100%|██████████| 1000/1000 [03:31<00:00,  4.72it/s, acc_nat=0.45, acc_rob=0.317]\n"
     ]
    },
    {
     "name": "stdout",
     "output_type": "stream",
     "text": [
      "Epoch 20 [0/383] | loss: 2.0702 (avg: 2.0702) | acc: 0.3203 (avg: 0.3203) |\n",
      "Epoch 20 [100/383] | loss: 1.9700 (avg: 2.0127) | acc: 0.3984 (avg: 0.3415) |\n",
      "Epoch 20 [200/383] | loss: 2.0734 (avg: 2.0135) | acc: 0.3359 (avg: 0.3424) |\n",
      "Epoch 20 [300/383] | loss: 2.0604 (avg: 2.0174) | acc: 0.2891 (avg: 0.3404) |\n"
     ]
    },
    {
     "name": "stderr",
     "output_type": "stream",
     "text": [
      "[eval] 1000/1000: 100%|██████████| 1000/1000 [03:35<00:00,  4.63it/s, acc_nat=0.476, acc_rob=0.344]\n"
     ]
    },
    {
     "name": "stdout",
     "output_type": "stream",
     "text": [
      "Epoch 21 [0/383] | loss: 1.9508 (avg: 1.9508) | acc: 0.3828 (avg: 0.3828) |\n",
      "Epoch 21 [100/383] | loss: 2.0694 (avg: 2.0132) | acc: 0.3438 (avg: 0.3402) |\n",
      "Epoch 21 [200/383] | loss: 1.9624 (avg: 2.0069) | acc: 0.3672 (avg: 0.3453) |\n",
      "Epoch 21 [300/383] | loss: 1.9305 (avg: 2.0040) | acc: 0.4062 (avg: 0.3476) |\n"
     ]
    },
    {
     "name": "stderr",
     "output_type": "stream",
     "text": [
      "[eval] 1000/1000: 100%|██████████| 1000/1000 [03:29<00:00,  4.76it/s, acc_nat=0.489, acc_rob=0.36]\n"
     ]
    },
    {
     "name": "stdout",
     "output_type": "stream",
     "text": [
      "Epoch 22 [0/383] | loss: 1.9771 (avg: 1.9771) | acc: 0.3594 (avg: 0.3594) |\n",
      "Epoch 22 [100/383] | loss: 1.9838 (avg: 2.0030) | acc: 0.3203 (avg: 0.3478) |\n",
      "Epoch 22 [200/383] | loss: 1.9299 (avg: 1.9984) | acc: 0.4141 (avg: 0.3514) |\n",
      "Epoch 22 [300/383] | loss: 1.9948 (avg: 1.9954) | acc: 0.3594 (avg: 0.3507) |\n"
     ]
    },
    {
     "name": "stderr",
     "output_type": "stream",
     "text": [
      "[eval] 1000/1000: 100%|██████████| 1000/1000 [03:33<00:00,  4.69it/s, acc_nat=0.478, acc_rob=0.357]\n"
     ]
    },
    {
     "name": "stdout",
     "output_type": "stream",
     "text": [
      "Epoch 23 [0/383] | loss: 2.0284 (avg: 2.0284) | acc: 0.3359 (avg: 0.3359) |\n",
      "Epoch 23 [100/383] | loss: 1.8895 (avg: 1.9897) | acc: 0.3828 (avg: 0.3606) |\n",
      "Epoch 23 [200/383] | loss: 2.0338 (avg: 1.9918) | acc: 0.3125 (avg: 0.3561) |\n",
      "Epoch 23 [300/383] | loss: 1.8736 (avg: 1.9869) | acc: 0.4531 (avg: 0.3588) |\n"
     ]
    },
    {
     "name": "stderr",
     "output_type": "stream",
     "text": [
      "[eval] 1000/1000: 100%|██████████| 1000/1000 [03:34<00:00,  4.65it/s, acc_nat=0.51, acc_rob=0.372]\n"
     ]
    },
    {
     "name": "stdout",
     "output_type": "stream",
     "text": [
      "Epoch 24 [0/383] | loss: 2.0161 (avg: 2.0161) | acc: 0.3594 (avg: 0.3594) |\n",
      "Epoch 24 [100/383] | loss: 1.9289 (avg: 1.9806) | acc: 0.4219 (avg: 0.3636) |\n",
      "Epoch 24 [200/383] | loss: 2.0607 (avg: 1.9822) | acc: 0.2891 (avg: 0.3607) |\n",
      "Epoch 24 [300/383] | loss: 1.9589 (avg: 1.9788) | acc: 0.3516 (avg: 0.3620) |\n"
     ]
    },
    {
     "name": "stderr",
     "output_type": "stream",
     "text": [
      "[eval] 1000/1000: 100%|██████████| 1000/1000 [03:33<00:00,  4.69it/s, acc_nat=0.519, acc_rob=0.366]\n"
     ]
    },
    {
     "name": "stdout",
     "output_type": "stream",
     "text": [
      "Epoch 25 [0/383] | loss: 1.9691 (avg: 1.9691) | acc: 0.4141 (avg: 0.4141) |\n",
      "Epoch 25 [100/383] | loss: 1.8729 (avg: 1.9713) | acc: 0.3984 (avg: 0.3662) |\n",
      "Epoch 25 [200/383] | loss: 1.9546 (avg: 1.9675) | acc: 0.3203 (avg: 0.3687) |\n",
      "Epoch 25 [300/383] | loss: 1.9743 (avg: 1.9684) | acc: 0.3516 (avg: 0.3692) |\n"
     ]
    },
    {
     "name": "stderr",
     "output_type": "stream",
     "text": [
      "[eval] 1000/1000: 100%|██████████| 1000/1000 [03:34<00:00,  4.65it/s, acc_nat=0.511, acc_rob=0.363]\n"
     ]
    },
    {
     "name": "stdout",
     "output_type": "stream",
     "text": [
      "Epoch 26 [0/383] | loss: 2.0464 (avg: 2.0464) | acc: 0.3516 (avg: 0.3516) |\n",
      "Epoch 26 [100/383] | loss: 1.9822 (avg: 1.9578) | acc: 0.3750 (avg: 0.3789) |\n",
      "Epoch 26 [200/383] | loss: 1.9852 (avg: 1.9602) | acc: 0.3516 (avg: 0.3759) |\n",
      "Epoch 26 [300/383] | loss: 1.8930 (avg: 1.9592) | acc: 0.3984 (avg: 0.3751) |\n"
     ]
    },
    {
     "name": "stderr",
     "output_type": "stream",
     "text": [
      "[eval] 1000/1000: 100%|██████████| 1000/1000 [03:34<00:00,  4.67it/s, acc_nat=0.49, acc_rob=0.362]\n"
     ]
    },
    {
     "name": "stdout",
     "output_type": "stream",
     "text": [
      "Epoch 27 [0/383] | loss: 1.9435 (avg: 1.9435) | acc: 0.3438 (avg: 0.3438) |\n",
      "Epoch 27 [100/383] | loss: 1.9651 (avg: 1.9480) | acc: 0.3516 (avg: 0.3769) |\n",
      "Epoch 27 [200/383] | loss: 1.9902 (avg: 1.9505) | acc: 0.3594 (avg: 0.3744) |\n",
      "Epoch 27 [300/383] | loss: 1.8772 (avg: 1.9506) | acc: 0.3906 (avg: 0.3754) |\n"
     ]
    },
    {
     "name": "stderr",
     "output_type": "stream",
     "text": [
      "[eval] 1000/1000: 100%|██████████| 1000/1000 [03:36<00:00,  4.61it/s, acc_nat=0.551, acc_rob=0.394]\n"
     ]
    },
    {
     "name": "stdout",
     "output_type": "stream",
     "text": [
      "Epoch 28 [0/383] | loss: 2.0525 (avg: 2.0525) | acc: 0.3672 (avg: 0.3672) |\n",
      "Epoch 28 [100/383] | loss: 1.9981 (avg: 1.9353) | acc: 0.3359 (avg: 0.3871) |\n",
      "Epoch 28 [200/383] | loss: 1.9473 (avg: 1.9394) | acc: 0.3828 (avg: 0.3860) |\n",
      "Epoch 28 [300/383] | loss: 1.8955 (avg: 1.9420) | acc: 0.3906 (avg: 0.3827) |\n"
     ]
    },
    {
     "name": "stderr",
     "output_type": "stream",
     "text": [
      "[eval] 1000/1000: 100%|██████████| 1000/1000 [03:33<00:00,  4.69it/s, acc_nat=0.532, acc_rob=0.385]\n"
     ]
    },
    {
     "name": "stdout",
     "output_type": "stream",
     "text": [
      "Epoch 29 [0/383] | loss: 2.0185 (avg: 2.0185) | acc: 0.3438 (avg: 0.3438) |\n",
      "Epoch 29 [100/383] | loss: 1.9746 (avg: 1.9367) | acc: 0.4219 (avg: 0.3811) |\n",
      "Epoch 29 [200/383] | loss: 2.0494 (avg: 1.9324) | acc: 0.3359 (avg: 0.3870) |\n",
      "Epoch 29 [300/383] | loss: 1.9600 (avg: 1.9341) | acc: 0.4062 (avg: 0.3850) |\n"
     ]
    },
    {
     "name": "stderr",
     "output_type": "stream",
     "text": [
      "[eval] 1000/1000: 100%|██████████| 1000/1000 [03:33<00:00,  4.68it/s, acc_nat=0.551, acc_rob=0.386]\n"
     ]
    },
    {
     "name": "stdout",
     "output_type": "stream",
     "text": [
      "Epoch 30 [0/383] | loss: 1.8374 (avg: 1.8374) | acc: 0.3828 (avg: 0.3828) |\n",
      "Epoch 30 [100/383] | loss: 1.9099 (avg: 1.9251) | acc: 0.4141 (avg: 0.3950) |\n",
      "Epoch 30 [200/383] | loss: 2.0730 (avg: 1.9269) | acc: 0.3438 (avg: 0.3926) |\n",
      "Epoch 30 [300/383] | loss: 2.0362 (avg: 1.9255) | acc: 0.3281 (avg: 0.3912) |\n"
     ]
    },
    {
     "name": "stderr",
     "output_type": "stream",
     "text": [
      "[eval] 1000/1000: 100%|██████████| 1000/1000 [03:32<00:00,  4.71it/s, acc_nat=0.562, acc_rob=0.408]\n"
     ]
    },
    {
     "name": "stdout",
     "output_type": "stream",
     "text": [
      "Epoch 31 [0/383] | loss: 1.9286 (avg: 1.9286) | acc: 0.3750 (avg: 0.3750) |\n",
      "Epoch 31 [100/383] | loss: 1.9159 (avg: 1.9118) | acc: 0.4219 (avg: 0.4007) |\n",
      "Epoch 31 [200/383] | loss: 2.0142 (avg: 1.9163) | acc: 0.3672 (avg: 0.3956) |\n",
      "Epoch 31 [300/383] | loss: 2.0288 (avg: 1.9174) | acc: 0.3281 (avg: 0.3949) |\n"
     ]
    },
    {
     "name": "stderr",
     "output_type": "stream",
     "text": [
      "[eval] 1000/1000: 100%|██████████| 1000/1000 [03:36<00:00,  4.62it/s, acc_nat=0.558, acc_rob=0.421]\n"
     ]
    },
    {
     "name": "stdout",
     "output_type": "stream",
     "text": [
      "Epoch 32 [0/383] | loss: 1.9975 (avg: 1.9975) | acc: 0.3594 (avg: 0.3594) |\n",
      "Epoch 32 [100/383] | loss: 1.9413 (avg: 1.9134) | acc: 0.3594 (avg: 0.3977) |\n",
      "Epoch 32 [200/383] | loss: 1.8717 (avg: 1.9086) | acc: 0.4688 (avg: 0.3938) |\n",
      "Epoch 32 [300/383] | loss: 1.8900 (avg: 1.9101) | acc: 0.3516 (avg: 0.3958) |\n"
     ]
    },
    {
     "name": "stderr",
     "output_type": "stream",
     "text": [
      "[eval] 1000/1000: 100%|██████████| 1000/1000 [03:30<00:00,  4.74it/s, acc_nat=0.598, acc_rob=0.421]\n"
     ]
    },
    {
     "name": "stdout",
     "output_type": "stream",
     "text": [
      "Epoch 33 [0/383] | loss: 1.8323 (avg: 1.8323) | acc: 0.4453 (avg: 0.4453) |\n",
      "Epoch 33 [100/383] | loss: 1.9794 (avg: 1.8975) | acc: 0.3359 (avg: 0.4010) |\n",
      "Epoch 33 [200/383] | loss: 1.9178 (avg: 1.9025) | acc: 0.4062 (avg: 0.3982) |\n",
      "Epoch 33 [300/383] | loss: 1.8037 (avg: 1.9048) | acc: 0.4531 (avg: 0.3983) |\n"
     ]
    },
    {
     "name": "stderr",
     "output_type": "stream",
     "text": [
      "[eval] 1000/1000: 100%|██████████| 1000/1000 [03:33<00:00,  4.68it/s, acc_nat=0.601, acc_rob=0.425]\n"
     ]
    },
    {
     "name": "stdout",
     "output_type": "stream",
     "text": [
      "Epoch 34 [0/383] | loss: 1.8996 (avg: 1.8996) | acc: 0.4062 (avg: 0.4062) |\n",
      "Epoch 34 [100/383] | loss: 1.9463 (avg: 1.8951) | acc: 0.4141 (avg: 0.4083) |\n",
      "Epoch 34 [200/383] | loss: 1.9060 (avg: 1.8941) | acc: 0.4297 (avg: 0.4074) |\n",
      "Epoch 34 [300/383] | loss: 1.9231 (avg: 1.8961) | acc: 0.3359 (avg: 0.4062) |\n"
     ]
    },
    {
     "name": "stderr",
     "output_type": "stream",
     "text": [
      "[eval] 1000/1000: 100%|██████████| 1000/1000 [03:39<00:00,  4.57it/s, acc_nat=0.583, acc_rob=0.408]\n"
     ]
    },
    {
     "name": "stdout",
     "output_type": "stream",
     "text": [
      "Epoch 35 [0/383] | loss: 1.8966 (avg: 1.8966) | acc: 0.4219 (avg: 0.4219) |\n",
      "Epoch 35 [100/383] | loss: 1.9776 (avg: 1.8873) | acc: 0.3906 (avg: 0.4059) |\n",
      "Epoch 35 [200/383] | loss: 1.7411 (avg: 1.8850) | acc: 0.5000 (avg: 0.4117) |\n",
      "Epoch 35 [300/383] | loss: 1.9477 (avg: 1.8852) | acc: 0.4062 (avg: 0.4111) |\n"
     ]
    },
    {
     "name": "stderr",
     "output_type": "stream",
     "text": [
      "[eval] 1000/1000: 100%|██████████| 1000/1000 [03:30<00:00,  4.74it/s, acc_nat=0.609, acc_rob=0.431]\n"
     ]
    },
    {
     "name": "stdout",
     "output_type": "stream",
     "text": [
      "Epoch 36 [0/383] | loss: 1.9120 (avg: 1.9120) | acc: 0.4453 (avg: 0.4453) |\n",
      "Epoch 36 [100/383] | loss: 2.0546 (avg: 1.8915) | acc: 0.3516 (avg: 0.4148) |\n",
      "Epoch 36 [200/383] | loss: 1.9191 (avg: 1.8791) | acc: 0.3906 (avg: 0.4167) |\n",
      "Epoch 36 [300/383] | loss: 1.9487 (avg: 1.8808) | acc: 0.3828 (avg: 0.4168) |\n"
     ]
    },
    {
     "name": "stderr",
     "output_type": "stream",
     "text": [
      "[eval] 1000/1000: 100%|██████████| 1000/1000 [03:34<00:00,  4.65it/s, acc_nat=0.602, acc_rob=0.436]\n"
     ]
    },
    {
     "name": "stdout",
     "output_type": "stream",
     "text": [
      "Epoch 37 [0/383] | loss: 1.8199 (avg: 1.8199) | acc: 0.5078 (avg: 0.5078) |\n",
      "Epoch 37 [100/383] | loss: 1.8038 (avg: 1.8726) | acc: 0.4844 (avg: 0.4167) |\n",
      "Epoch 37 [200/383] | loss: 1.8659 (avg: 1.8723) | acc: 0.4688 (avg: 0.4184) |\n",
      "Epoch 37 [300/383] | loss: 1.7915 (avg: 1.8719) | acc: 0.4453 (avg: 0.4171) |\n"
     ]
    },
    {
     "name": "stderr",
     "output_type": "stream",
     "text": [
      "[eval] 1000/1000: 100%|██████████| 1000/1000 [03:34<00:00,  4.67it/s, acc_nat=0.594, acc_rob=0.429]\n"
     ]
    },
    {
     "name": "stdout",
     "output_type": "stream",
     "text": [
      "Epoch 38 [0/383] | loss: 1.7931 (avg: 1.7931) | acc: 0.4688 (avg: 0.4688) |\n",
      "Epoch 38 [100/383] | loss: 1.8359 (avg: 1.8650) | acc: 0.4453 (avg: 0.4231) |\n",
      "Epoch 38 [200/383] | loss: 1.9002 (avg: 1.8633) | acc: 0.3438 (avg: 0.4222) |\n",
      "Epoch 38 [300/383] | loss: 1.8080 (avg: 1.8623) | acc: 0.4688 (avg: 0.4241) |\n"
     ]
    },
    {
     "name": "stderr",
     "output_type": "stream",
     "text": [
      "[eval] 1000/1000: 100%|██████████| 1000/1000 [03:34<00:00,  4.66it/s, acc_nat=0.577, acc_rob=0.417]\n"
     ]
    },
    {
     "name": "stdout",
     "output_type": "stream",
     "text": [
      "Epoch 39 [0/383] | loss: 1.7952 (avg: 1.7952) | acc: 0.5078 (avg: 0.5078) |\n",
      "Epoch 39 [100/383] | loss: 1.8581 (avg: 1.8537) | acc: 0.4062 (avg: 0.4295) |\n",
      "Epoch 39 [200/383] | loss: 1.9431 (avg: 1.8549) | acc: 0.4219 (avg: 0.4268) |\n",
      "Epoch 39 [300/383] | loss: 1.9511 (avg: 1.8542) | acc: 0.3672 (avg: 0.4251) |\n"
     ]
    },
    {
     "name": "stderr",
     "output_type": "stream",
     "text": [
      "[eval] 1000/1000: 100%|██████████| 1000/1000 [03:31<00:00,  4.72it/s, acc_nat=0.598, acc_rob=0.438]\n"
     ]
    },
    {
     "name": "stdout",
     "output_type": "stream",
     "text": [
      "Epoch 40 [0/383] | loss: 1.7998 (avg: 1.7998) | acc: 0.4531 (avg: 0.4531) |\n",
      "Epoch 40 [100/383] | loss: 1.8073 (avg: 1.8469) | acc: 0.4922 (avg: 0.4254) |\n",
      "Epoch 40 [200/383] | loss: 1.7619 (avg: 1.8490) | acc: 0.4375 (avg: 0.4295) |\n",
      "Epoch 40 [300/383] | loss: 1.8818 (avg: 1.8499) | acc: 0.4219 (avg: 0.4281) |\n"
     ]
    },
    {
     "name": "stderr",
     "output_type": "stream",
     "text": [
      "[eval] 1000/1000: 100%|██████████| 1000/1000 [03:31<00:00,  4.72it/s, acc_nat=0.62, acc_rob=0.452]\n"
     ]
    },
    {
     "name": "stdout",
     "output_type": "stream",
     "text": [
      "Epoch 41 [0/383] | loss: 1.8673 (avg: 1.8673) | acc: 0.3984 (avg: 0.3984) |\n",
      "Epoch 41 [100/383] | loss: 1.7540 (avg: 1.8542) | acc: 0.5234 (avg: 0.4266) |\n",
      "Epoch 41 [200/383] | loss: 1.8703 (avg: 1.8481) | acc: 0.5000 (avg: 0.4283) |\n",
      "Epoch 41 [300/383] | loss: 1.8332 (avg: 1.8472) | acc: 0.5234 (avg: 0.4292) |\n"
     ]
    },
    {
     "name": "stderr",
     "output_type": "stream",
     "text": [
      "[eval] 1000/1000: 100%|██████████| 1000/1000 [03:31<00:00,  4.73it/s, acc_nat=0.607, acc_rob=0.441]\n"
     ]
    },
    {
     "name": "stdout",
     "output_type": "stream",
     "text": [
      "Epoch 42 [0/383] | loss: 1.7819 (avg: 1.7819) | acc: 0.4844 (avg: 0.4844) |\n",
      "Epoch 42 [100/383] | loss: 1.6963 (avg: 1.8434) | acc: 0.5312 (avg: 0.4331) |\n",
      "Epoch 42 [200/383] | loss: 1.8366 (avg: 1.8406) | acc: 0.4609 (avg: 0.4349) |\n",
      "Epoch 42 [300/383] | loss: 1.8708 (avg: 1.8351) | acc: 0.4766 (avg: 0.4370) |\n"
     ]
    },
    {
     "name": "stderr",
     "output_type": "stream",
     "text": [
      "[eval] 1000/1000: 100%|██████████| 1000/1000 [03:32<00:00,  4.71it/s, acc_nat=0.589, acc_rob=0.407]\n"
     ]
    },
    {
     "name": "stdout",
     "output_type": "stream",
     "text": [
      "Epoch 43 [0/383] | loss: 1.8634 (avg: 1.8634) | acc: 0.3984 (avg: 0.3984) |\n",
      "Epoch 43 [100/383] | loss: 1.7707 (avg: 1.8295) | acc: 0.4531 (avg: 0.4372) |\n",
      "Epoch 43 [200/383] | loss: 1.8951 (avg: 1.8281) | acc: 0.4062 (avg: 0.4392) |\n",
      "Epoch 43 [300/383] | loss: 1.8033 (avg: 1.8262) | acc: 0.4453 (avg: 0.4414) |\n"
     ]
    },
    {
     "name": "stderr",
     "output_type": "stream",
     "text": [
      "[eval] 1000/1000: 100%|██████████| 1000/1000 [03:32<00:00,  4.70it/s, acc_nat=0.616, acc_rob=0.446]\n"
     ]
    },
    {
     "name": "stdout",
     "output_type": "stream",
     "text": [
      "Epoch 44 [0/383] | loss: 1.8770 (avg: 1.8770) | acc: 0.3359 (avg: 0.3359) |\n",
      "Epoch 44 [100/383] | loss: 1.8893 (avg: 1.8334) | acc: 0.4531 (avg: 0.4367) |\n",
      "Epoch 44 [200/383] | loss: 1.7647 (avg: 1.8202) | acc: 0.3906 (avg: 0.4435) |\n",
      "Epoch 44 [300/383] | loss: 1.9141 (avg: 1.8253) | acc: 0.4219 (avg: 0.4400) |\n"
     ]
    },
    {
     "name": "stderr",
     "output_type": "stream",
     "text": [
      "[eval] 1000/1000: 100%|██████████| 1000/1000 [03:32<00:00,  4.71it/s, acc_nat=0.586, acc_rob=0.428]\n"
     ]
    },
    {
     "name": "stdout",
     "output_type": "stream",
     "text": [
      "Epoch 45 [0/383] | loss: 1.7096 (avg: 1.7096) | acc: 0.4688 (avg: 0.4688) |\n",
      "Epoch 45 [100/383] | loss: 1.8466 (avg: 1.8148) | acc: 0.4609 (avg: 0.4414) |\n",
      "Epoch 45 [200/383] | loss: 1.7521 (avg: 1.8178) | acc: 0.4375 (avg: 0.4429) |\n",
      "Epoch 45 [300/383] | loss: 1.8435 (avg: 1.8155) | acc: 0.4375 (avg: 0.4438) |\n"
     ]
    },
    {
     "name": "stderr",
     "output_type": "stream",
     "text": [
      "[eval] 1000/1000: 100%|██████████| 1000/1000 [03:31<00:00,  4.73it/s, acc_nat=0.589, acc_rob=0.429]\n"
     ]
    },
    {
     "name": "stdout",
     "output_type": "stream",
     "text": [
      "Epoch 46 [0/383] | loss: 1.8264 (avg: 1.8264) | acc: 0.5234 (avg: 0.5234) |\n",
      "Epoch 46 [100/383] | loss: 1.8740 (avg: 1.8125) | acc: 0.4297 (avg: 0.4419) |\n",
      "Epoch 46 [200/383] | loss: 1.8310 (avg: 1.8122) | acc: 0.4062 (avg: 0.4448) |\n",
      "Epoch 46 [300/383] | loss: 1.8315 (avg: 1.8112) | acc: 0.4531 (avg: 0.4462) |\n"
     ]
    },
    {
     "name": "stderr",
     "output_type": "stream",
     "text": [
      "[eval] 1000/1000: 100%|██████████| 1000/1000 [03:30<00:00,  4.75it/s, acc_nat=0.638, acc_rob=0.445]\n"
     ]
    },
    {
     "name": "stdout",
     "output_type": "stream",
     "text": [
      "Epoch 47 [0/383] | loss: 1.7166 (avg: 1.7166) | acc: 0.4922 (avg: 0.4922) |\n",
      "Epoch 47 [100/383] | loss: 1.7503 (avg: 1.8007) | acc: 0.4844 (avg: 0.4504) |\n",
      "Epoch 47 [200/383] | loss: 1.8453 (avg: 1.7996) | acc: 0.4609 (avg: 0.4523) |\n",
      "Epoch 47 [300/383] | loss: 1.9152 (avg: 1.8016) | acc: 0.4375 (avg: 0.4521) |\n"
     ]
    },
    {
     "name": "stderr",
     "output_type": "stream",
     "text": [
      "[eval] 1000/1000: 100%|██████████| 1000/1000 [03:33<00:00,  4.69it/s, acc_nat=0.658, acc_rob=0.458]\n"
     ]
    },
    {
     "name": "stdout",
     "output_type": "stream",
     "text": [
      "Epoch 48 [0/383] | loss: 1.7775 (avg: 1.7775) | acc: 0.5000 (avg: 0.5000) |\n",
      "Epoch 48 [100/383] | loss: 1.8871 (avg: 1.7968) | acc: 0.4609 (avg: 0.4524) |\n",
      "Epoch 48 [200/383] | loss: 1.8683 (avg: 1.8025) | acc: 0.3906 (avg: 0.4503) |\n",
      "Epoch 48 [300/383] | loss: 1.9155 (avg: 1.7986) | acc: 0.4297 (avg: 0.4517) |\n"
     ]
    },
    {
     "name": "stderr",
     "output_type": "stream",
     "text": [
      "[eval] 1000/1000: 100%|██████████| 1000/1000 [03:33<00:00,  4.68it/s, acc_nat=0.617, acc_rob=0.44]\n"
     ]
    },
    {
     "name": "stdout",
     "output_type": "stream",
     "text": [
      "Epoch 49 [0/383] | loss: 1.8584 (avg: 1.8584) | acc: 0.4062 (avg: 0.4062) |\n",
      "Epoch 49 [100/383] | loss: 1.8156 (avg: 1.7818) | acc: 0.4141 (avg: 0.4596) |\n",
      "Epoch 49 [200/383] | loss: 1.6450 (avg: 1.7826) | acc: 0.5547 (avg: 0.4611) |\n",
      "Epoch 49 [300/383] | loss: 1.8329 (avg: 1.7880) | acc: 0.4219 (avg: 0.4575) |\n"
     ]
    },
    {
     "name": "stderr",
     "output_type": "stream",
     "text": [
      "[eval] 1000/1000: 100%|██████████| 1000/1000 [03:35<00:00,  4.64it/s, acc_nat=0.64, acc_rob=0.458]\n"
     ]
    },
    {
     "name": "stdout",
     "output_type": "stream",
     "text": [
      "Epoch 50 [0/383] | loss: 1.7554 (avg: 1.7554) | acc: 0.4766 (avg: 0.4766) |\n",
      "Epoch 50 [100/383] | loss: 1.8119 (avg: 1.7685) | acc: 0.4922 (avg: 0.4704) |\n",
      "Epoch 50 [200/383] | loss: 1.8668 (avg: 1.7803) | acc: 0.3750 (avg: 0.4623) |\n",
      "Epoch 50 [300/383] | loss: 1.8809 (avg: 1.7815) | acc: 0.3828 (avg: 0.4597) |\n"
     ]
    },
    {
     "name": "stderr",
     "output_type": "stream",
     "text": [
      "[eval] 1000/1000: 100%|██████████| 1000/1000 [03:36<00:00,  4.62it/s, acc_nat=0.632, acc_rob=0.445]\n"
     ]
    },
    {
     "name": "stdout",
     "output_type": "stream",
     "text": [
      "Epoch 51 [0/383] | loss: 1.6991 (avg: 1.6991) | acc: 0.5156 (avg: 0.5156) |\n",
      "Epoch 51 [100/383] | loss: 1.7429 (avg: 1.7683) | acc: 0.5234 (avg: 0.4666) |\n",
      "Epoch 51 [200/383] | loss: 1.8472 (avg: 1.7732) | acc: 0.4219 (avg: 0.4623) |\n",
      "Epoch 51 [300/383] | loss: 1.7520 (avg: 1.7766) | acc: 0.5000 (avg: 0.4609) |\n"
     ]
    },
    {
     "name": "stderr",
     "output_type": "stream",
     "text": [
      "[eval] 1000/1000: 100%|██████████| 1000/1000 [03:36<00:00,  4.61it/s, acc_nat=0.642, acc_rob=0.452]\n"
     ]
    },
    {
     "name": "stdout",
     "output_type": "stream",
     "text": [
      "Epoch 52 [0/383] | loss: 1.8828 (avg: 1.8828) | acc: 0.4062 (avg: 0.4062) |\n",
      "Epoch 52 [100/383] | loss: 1.7372 (avg: 1.7597) | acc: 0.4297 (avg: 0.4684) |\n",
      "Epoch 52 [200/383] | loss: 1.7692 (avg: 1.7636) | acc: 0.4688 (avg: 0.4652) |\n",
      "Epoch 52 [300/383] | loss: 1.8021 (avg: 1.7651) | acc: 0.4688 (avg: 0.4676) |\n"
     ]
    },
    {
     "name": "stderr",
     "output_type": "stream",
     "text": [
      "[eval] 1000/1000: 100%|██████████| 1000/1000 [03:35<00:00,  4.63it/s, acc_nat=0.649, acc_rob=0.469]\n"
     ]
    },
    {
     "name": "stdout",
     "output_type": "stream",
     "text": [
      "Epoch 53 [0/383] | loss: 1.8007 (avg: 1.8007) | acc: 0.4141 (avg: 0.4141) |\n",
      "Epoch 53 [100/383] | loss: 1.7904 (avg: 1.7643) | acc: 0.4219 (avg: 0.4727) |\n",
      "Epoch 53 [200/383] | loss: 1.8566 (avg: 1.7637) | acc: 0.4219 (avg: 0.4715) |\n",
      "Epoch 53 [300/383] | loss: 1.6990 (avg: 1.7643) | acc: 0.4844 (avg: 0.4711) |\n"
     ]
    },
    {
     "name": "stderr",
     "output_type": "stream",
     "text": [
      "[eval] 1000/1000: 100%|██████████| 1000/1000 [03:35<00:00,  4.65it/s, acc_nat=0.66, acc_rob=0.455]\n"
     ]
    },
    {
     "name": "stdout",
     "output_type": "stream",
     "text": [
      "Epoch 54 [0/383] | loss: 1.6435 (avg: 1.6435) | acc: 0.5234 (avg: 0.5234) |\n",
      "Epoch 54 [100/383] | loss: 1.7212 (avg: 1.7576) | acc: 0.4688 (avg: 0.4707) |\n",
      "Epoch 54 [200/383] | loss: 1.7665 (avg: 1.7526) | acc: 0.4375 (avg: 0.4726) |\n",
      "Epoch 54 [300/383] | loss: 1.6507 (avg: 1.7570) | acc: 0.5703 (avg: 0.4714) |\n"
     ]
    },
    {
     "name": "stderr",
     "output_type": "stream",
     "text": [
      "[eval] 1000/1000: 100%|██████████| 1000/1000 [03:35<00:00,  4.63it/s, acc_nat=0.634, acc_rob=0.45]\n"
     ]
    },
    {
     "name": "stdout",
     "output_type": "stream",
     "text": [
      "Epoch 55 [0/383] | loss: 1.6949 (avg: 1.6949) | acc: 0.5547 (avg: 0.5547) |\n",
      "Epoch 55 [100/383] | loss: 1.7569 (avg: 1.7503) | acc: 0.4922 (avg: 0.4702) |\n",
      "Epoch 55 [200/383] | loss: 1.6929 (avg: 1.7494) | acc: 0.4922 (avg: 0.4719) |\n",
      "Epoch 55 [300/383] | loss: 1.7902 (avg: 1.7506) | acc: 0.5156 (avg: 0.4735) |\n"
     ]
    },
    {
     "name": "stderr",
     "output_type": "stream",
     "text": [
      "[eval] 1000/1000: 100%|██████████| 1000/1000 [03:32<00:00,  4.70it/s, acc_nat=0.619, acc_rob=0.448]\n"
     ]
    },
    {
     "name": "stdout",
     "output_type": "stream",
     "text": [
      "Epoch 56 [0/383] | loss: 1.7571 (avg: 1.7571) | acc: 0.4609 (avg: 0.4609) |\n",
      "Epoch 56 [100/383] | loss: 1.7717 (avg: 1.7342) | acc: 0.4531 (avg: 0.4822) |\n",
      "Epoch 56 [200/383] | loss: 1.7127 (avg: 1.7411) | acc: 0.4531 (avg: 0.4778) |\n",
      "Epoch 56 [300/383] | loss: 1.7543 (avg: 1.7460) | acc: 0.4844 (avg: 0.4760) |\n"
     ]
    },
    {
     "name": "stderr",
     "output_type": "stream",
     "text": [
      "[eval] 1000/1000: 100%|██████████| 1000/1000 [03:36<00:00,  4.63it/s, acc_nat=0.581, acc_rob=0.4]\n"
     ]
    },
    {
     "name": "stdout",
     "output_type": "stream",
     "text": [
      "Epoch 57 [0/383] | loss: 1.6940 (avg: 1.6940) | acc: 0.5078 (avg: 0.5078) |\n",
      "Epoch 57 [100/383] | loss: 1.6792 (avg: 1.7343) | acc: 0.5391 (avg: 0.4824) |\n",
      "Epoch 57 [200/383] | loss: 1.7006 (avg: 1.7366) | acc: 0.4297 (avg: 0.4812) |\n",
      "Epoch 57 [300/383] | loss: 1.6686 (avg: 1.7374) | acc: 0.5234 (avg: 0.4820) |\n"
     ]
    },
    {
     "name": "stderr",
     "output_type": "stream",
     "text": [
      "[eval] 1000/1000: 100%|██████████| 1000/1000 [03:36<00:00,  4.61it/s, acc_nat=0.658, acc_rob=0.474]\n"
     ]
    },
    {
     "name": "stdout",
     "output_type": "stream",
     "text": [
      "Epoch 58 [0/383] | loss: 1.6197 (avg: 1.6197) | acc: 0.5234 (avg: 0.5234) |\n",
      "Epoch 58 [100/383] | loss: 1.7620 (avg: 1.7243) | acc: 0.5000 (avg: 0.4940) |\n",
      "Epoch 58 [200/383] | loss: 1.6609 (avg: 1.7307) | acc: 0.5000 (avg: 0.4854) |\n",
      "Epoch 58 [300/383] | loss: 1.6682 (avg: 1.7317) | acc: 0.5234 (avg: 0.4831) |\n"
     ]
    },
    {
     "name": "stderr",
     "output_type": "stream",
     "text": [
      "[eval] 1000/1000: 100%|██████████| 1000/1000 [03:18<00:00,  5.05it/s, acc_nat=0.675, acc_rob=0.454]\n"
     ]
    },
    {
     "name": "stdout",
     "output_type": "stream",
     "text": [
      "Epoch 59 [0/383] | loss: 1.7698 (avg: 1.7698) | acc: 0.4141 (avg: 0.4141) |\n",
      "Epoch 59 [100/383] | loss: 1.8047 (avg: 1.7204) | acc: 0.4375 (avg: 0.4855) |\n",
      "Epoch 59 [200/383] | loss: 1.7155 (avg: 1.7206) | acc: 0.4609 (avg: 0.4869) |\n",
      "Epoch 59 [300/383] | loss: 1.7297 (avg: 1.7240) | acc: 0.4688 (avg: 0.4850) |\n"
     ]
    },
    {
     "name": "stderr",
     "output_type": "stream",
     "text": [
      "[eval] 1000/1000: 100%|██████████| 1000/1000 [05:02<00:00,  3.31it/s, acc_nat=0.663, acc_rob=0.469]\n"
     ]
    },
    {
     "name": "stdout",
     "output_type": "stream",
     "text": [
      "Epoch 60 [0/383] | loss: 1.6065 (avg: 1.6065) | acc: 0.5703 (avg: 0.5703) |\n",
      "Epoch 60 [100/383] | loss: 1.7205 (avg: 1.7007) | acc: 0.5312 (avg: 0.5003) |\n",
      "Epoch 60 [200/383] | loss: 1.7532 (avg: 1.7135) | acc: 0.4844 (avg: 0.4906) |\n",
      "Epoch 60 [300/383] | loss: 1.7563 (avg: 1.7154) | acc: 0.5312 (avg: 0.4903) |\n"
     ]
    },
    {
     "name": "stderr",
     "output_type": "stream",
     "text": [
      "[eval] 1000/1000: 100%|██████████| 1000/1000 [03:17<00:00,  5.06it/s, acc_nat=0.65, acc_rob=0.459]\n"
     ]
    },
    {
     "name": "stdout",
     "output_type": "stream",
     "text": [
      "Epoch 61 [0/383] | loss: 1.6310 (avg: 1.6310) | acc: 0.5000 (avg: 0.5000) |\n",
      "Epoch 61 [100/383] | loss: 1.7753 (avg: 1.7011) | acc: 0.4688 (avg: 0.4981) |\n",
      "Epoch 61 [200/383] | loss: 1.7893 (avg: 1.7049) | acc: 0.4375 (avg: 0.4950) |\n",
      "Epoch 61 [300/383] | loss: 1.7072 (avg: 1.7097) | acc: 0.4688 (avg: 0.4921) |\n"
     ]
    },
    {
     "name": "stderr",
     "output_type": "stream",
     "text": [
      "[eval] 1000/1000: 100%|██████████| 1000/1000 [03:32<00:00,  4.71it/s, acc_nat=0.65, acc_rob=0.465]\n"
     ]
    },
    {
     "name": "stdout",
     "output_type": "stream",
     "text": [
      "Epoch 62 [0/383] | loss: 1.6693 (avg: 1.6693) | acc: 0.5078 (avg: 0.5078) |\n",
      "Epoch 62 [100/383] | loss: 1.7318 (avg: 1.7013) | acc: 0.4375 (avg: 0.5028) |\n",
      "Epoch 62 [200/383] | loss: 1.7421 (avg: 1.7043) | acc: 0.3984 (avg: 0.4980) |\n",
      "Epoch 62 [300/383] | loss: 1.6619 (avg: 1.7028) | acc: 0.4844 (avg: 0.4981) |\n"
     ]
    },
    {
     "name": "stderr",
     "output_type": "stream",
     "text": [
      "[eval] 1000/1000: 100%|██████████| 1000/1000 [03:20<00:00,  4.98it/s, acc_nat=0.684, acc_rob=0.486]\n"
     ]
    },
    {
     "name": "stdout",
     "output_type": "stream",
     "text": [
      "Epoch 63 [0/383] | loss: 1.7074 (avg: 1.7074) | acc: 0.5625 (avg: 0.5625) |\n",
      "Epoch 63 [100/383] | loss: 1.7649 (avg: 1.6907) | acc: 0.4219 (avg: 0.5013) |\n",
      "Epoch 63 [200/383] | loss: 1.7183 (avg: 1.7026) | acc: 0.4531 (avg: 0.4955) |\n",
      "Epoch 63 [300/383] | loss: 1.8022 (avg: 1.7008) | acc: 0.4766 (avg: 0.4973) |\n"
     ]
    },
    {
     "name": "stderr",
     "output_type": "stream",
     "text": [
      "[eval] 1000/1000: 100%|██████████| 1000/1000 [03:18<00:00,  5.03it/s, acc_nat=0.653, acc_rob=0.463]\n"
     ]
    },
    {
     "name": "stdout",
     "output_type": "stream",
     "text": [
      "Epoch 64 [0/383] | loss: 1.6754 (avg: 1.6754) | acc: 0.5469 (avg: 0.5469) |\n",
      "Epoch 64 [100/383] | loss: 1.6318 (avg: 1.6908) | acc: 0.5469 (avg: 0.5012) |\n",
      "Epoch 64 [200/383] | loss: 1.7762 (avg: 1.6977) | acc: 0.4844 (avg: 0.4973) |\n",
      "Epoch 64 [300/383] | loss: 1.7574 (avg: 1.7009) | acc: 0.4844 (avg: 0.4962) |\n"
     ]
    },
    {
     "name": "stderr",
     "output_type": "stream",
     "text": [
      "[eval] 1000/1000: 100%|██████████| 1000/1000 [03:21<00:00,  4.96it/s, acc_nat=0.679, acc_rob=0.477]\n"
     ]
    },
    {
     "name": "stdout",
     "output_type": "stream",
     "text": [
      "Epoch 65 [0/383] | loss: 1.8246 (avg: 1.8246) | acc: 0.5078 (avg: 0.5078) |\n",
      "Epoch 65 [100/383] | loss: 1.6385 (avg: 1.6765) | acc: 0.4922 (avg: 0.5037) |\n",
      "Epoch 65 [200/383] | loss: 1.7269 (avg: 1.6801) | acc: 0.5078 (avg: 0.5048) |\n",
      "Epoch 65 [300/383] | loss: 1.6683 (avg: 1.6851) | acc: 0.5312 (avg: 0.5032) |\n"
     ]
    },
    {
     "name": "stderr",
     "output_type": "stream",
     "text": [
      "[eval] 1000/1000: 100%|██████████| 1000/1000 [03:19<00:00,  5.02it/s, acc_nat=0.664, acc_rob=0.457]\n"
     ]
    },
    {
     "name": "stdout",
     "output_type": "stream",
     "text": [
      "Epoch 66 [0/383] | loss: 1.6688 (avg: 1.6688) | acc: 0.5391 (avg: 0.5391) |\n",
      "Epoch 66 [100/383] | loss: 1.8979 (avg: 1.6840) | acc: 0.3828 (avg: 0.5056) |\n",
      "Epoch 66 [200/383] | loss: 1.7052 (avg: 1.6817) | acc: 0.4375 (avg: 0.5023) |\n",
      "Epoch 66 [300/383] | loss: 1.6370 (avg: 1.6815) | acc: 0.5469 (avg: 0.5045) |\n"
     ]
    },
    {
     "name": "stderr",
     "output_type": "stream",
     "text": [
      "[eval] 1000/1000: 100%|██████████| 1000/1000 [03:29<00:00,  4.78it/s, acc_nat=0.63, acc_rob=0.44]\n"
     ]
    },
    {
     "name": "stdout",
     "output_type": "stream",
     "text": [
      "Epoch 67 [0/383] | loss: 1.6787 (avg: 1.6787) | acc: 0.5312 (avg: 0.5312) |\n",
      "Epoch 67 [100/383] | loss: 1.6383 (avg: 1.6624) | acc: 0.5391 (avg: 0.5152) |\n",
      "Epoch 67 [200/383] | loss: 1.6252 (avg: 1.6726) | acc: 0.4766 (avg: 0.5087) |\n",
      "Epoch 67 [300/383] | loss: 1.7388 (avg: 1.6734) | acc: 0.4688 (avg: 0.5102) |\n"
     ]
    },
    {
     "name": "stderr",
     "output_type": "stream",
     "text": [
      "[eval] 1000/1000: 100%|██████████| 1000/1000 [03:22<00:00,  4.93it/s, acc_nat=0.654, acc_rob=0.478]\n"
     ]
    },
    {
     "name": "stdout",
     "output_type": "stream",
     "text": [
      "Epoch 68 [0/383] | loss: 1.6251 (avg: 1.6251) | acc: 0.5859 (avg: 0.5859) |\n",
      "Epoch 68 [100/383] | loss: 1.6125 (avg: 1.6579) | acc: 0.5312 (avg: 0.5110) |\n",
      "Epoch 68 [200/383] | loss: 1.7006 (avg: 1.6632) | acc: 0.4766 (avg: 0.5108) |\n",
      "Epoch 68 [300/383] | loss: 1.6268 (avg: 1.6680) | acc: 0.5078 (avg: 0.5090) |\n"
     ]
    },
    {
     "name": "stderr",
     "output_type": "stream",
     "text": [
      "[eval] 1000/1000: 100%|██████████| 1000/1000 [03:21<00:00,  4.97it/s, acc_nat=0.692, acc_rob=0.497]\n"
     ]
    },
    {
     "name": "stdout",
     "output_type": "stream",
     "text": [
      "Epoch 69 [0/383] | loss: 1.7864 (avg: 1.7864) | acc: 0.4297 (avg: 0.4297) |\n",
      "Epoch 69 [100/383] | loss: 1.6934 (avg: 1.6545) | acc: 0.4844 (avg: 0.5182) |\n",
      "Epoch 69 [200/383] | loss: 1.7274 (avg: 1.6589) | acc: 0.5312 (avg: 0.5187) |\n",
      "Epoch 69 [300/383] | loss: 1.6399 (avg: 1.6593) | acc: 0.4766 (avg: 0.5160) |\n"
     ]
    },
    {
     "name": "stderr",
     "output_type": "stream",
     "text": [
      "[eval] 1000/1000: 100%|██████████| 1000/1000 [03:24<00:00,  4.90it/s, acc_nat=0.68, acc_rob=0.474]\n"
     ]
    },
    {
     "name": "stdout",
     "output_type": "stream",
     "text": [
      "Epoch 70 [0/383] | loss: 1.6945 (avg: 1.6945) | acc: 0.4688 (avg: 0.4688) |\n",
      "Epoch 70 [100/383] | loss: 1.6146 (avg: 1.6569) | acc: 0.5781 (avg: 0.5150) |\n",
      "Epoch 70 [200/383] | loss: 1.5637 (avg: 1.6498) | acc: 0.6016 (avg: 0.5184) |\n",
      "Epoch 70 [300/383] | loss: 1.7161 (avg: 1.6526) | acc: 0.4844 (avg: 0.5179) |\n"
     ]
    },
    {
     "name": "stderr",
     "output_type": "stream",
     "text": [
      "[eval] 1000/1000: 100%|██████████| 1000/1000 [03:23<00:00,  4.91it/s, acc_nat=0.646, acc_rob=0.471]\n"
     ]
    },
    {
     "name": "stdout",
     "output_type": "stream",
     "text": [
      "Epoch 71 [0/383] | loss: 1.6326 (avg: 1.6326) | acc: 0.5547 (avg: 0.5547) |\n",
      "Epoch 71 [100/383] | loss: 1.6696 (avg: 1.6444) | acc: 0.5000 (avg: 0.5196) |\n",
      "Epoch 71 [200/383] | loss: 1.6359 (avg: 1.6453) | acc: 0.5391 (avg: 0.5212) |\n",
      "Epoch 71 [300/383] | loss: 1.6657 (avg: 1.6473) | acc: 0.5078 (avg: 0.5195) |\n"
     ]
    },
    {
     "name": "stderr",
     "output_type": "stream",
     "text": [
      "[eval] 1000/1000: 100%|██████████| 1000/1000 [03:19<00:00,  5.02it/s, acc_nat=0.687, acc_rob=0.492]\n"
     ]
    },
    {
     "name": "stdout",
     "output_type": "stream",
     "text": [
      "Epoch 72 [0/383] | loss: 1.7208 (avg: 1.7208) | acc: 0.4844 (avg: 0.4844) |\n",
      "Epoch 72 [100/383] | loss: 1.6899 (avg: 1.6454) | acc: 0.5000 (avg: 0.5204) |\n",
      "Epoch 72 [200/383] | loss: 1.6246 (avg: 1.6470) | acc: 0.5312 (avg: 0.5200) |\n",
      "Epoch 72 [300/383] | loss: 1.6991 (avg: 1.6421) | acc: 0.5156 (avg: 0.5215) |\n"
     ]
    },
    {
     "name": "stderr",
     "output_type": "stream",
     "text": [
      "[eval] 1000/1000: 100%|██████████| 1000/1000 [03:20<00:00,  4.99it/s, acc_nat=0.681, acc_rob=0.473]\n"
     ]
    },
    {
     "name": "stdout",
     "output_type": "stream",
     "text": [
      "Epoch 73 [0/383] | loss: 1.6030 (avg: 1.6030) | acc: 0.5078 (avg: 0.5078) |\n",
      "Epoch 73 [100/383] | loss: 1.6696 (avg: 1.6327) | acc: 0.5156 (avg: 0.5251) |\n",
      "Epoch 73 [200/383] | loss: 1.6199 (avg: 1.6316) | acc: 0.5234 (avg: 0.5273) |\n",
      "Epoch 73 [300/383] | loss: 1.6036 (avg: 1.6366) | acc: 0.5156 (avg: 0.5258) |\n"
     ]
    },
    {
     "name": "stderr",
     "output_type": "stream",
     "text": [
      "[eval] 1000/1000: 100%|██████████| 1000/1000 [03:26<00:00,  4.83it/s, acc_nat=0.671, acc_rob=0.483]\n"
     ]
    },
    {
     "name": "stdout",
     "output_type": "stream",
     "text": [
      "Epoch 74 [0/383] | loss: 1.6262 (avg: 1.6262) | acc: 0.5547 (avg: 0.5547) |\n",
      "Epoch 74 [100/383] | loss: 1.5180 (avg: 1.6201) | acc: 0.6250 (avg: 0.5312) |\n",
      "Epoch 74 [200/383] | loss: 1.7554 (avg: 1.6298) | acc: 0.4609 (avg: 0.5274) |\n",
      "Epoch 74 [300/383] | loss: 1.7361 (avg: 1.6300) | acc: 0.4688 (avg: 0.5279) |\n"
     ]
    },
    {
     "name": "stderr",
     "output_type": "stream",
     "text": [
      "[eval] 1000/1000: 100%|██████████| 1000/1000 [03:40<00:00,  4.53it/s, acc_nat=0.694, acc_rob=0.478]\n"
     ]
    },
    {
     "name": "stdout",
     "output_type": "stream",
     "text": [
      "Epoch 75 [0/383] | loss: 1.6205 (avg: 1.6205) | acc: 0.5391 (avg: 0.5391) |\n",
      "Epoch 75 [100/383] | loss: 1.4970 (avg: 1.5734) | acc: 0.5312 (avg: 0.5558) |\n",
      "Epoch 75 [200/383] | loss: 1.4926 (avg: 1.5796) | acc: 0.6094 (avg: 0.5507) |\n",
      "Epoch 75 [300/383] | loss: 1.4617 (avg: 1.5726) | acc: 0.6172 (avg: 0.5529) |\n"
     ]
    },
    {
     "name": "stderr",
     "output_type": "stream",
     "text": [
      "[eval] 1000/1000: 100%|██████████| 1000/1000 [03:22<00:00,  4.94it/s, acc_nat=0.702, acc_rob=0.506]\n"
     ]
    },
    {
     "name": "stdout",
     "output_type": "stream",
     "text": [
      "Epoch 76 [0/383] | loss: 1.4896 (avg: 1.4896) | acc: 0.5703 (avg: 0.5703) |\n",
      "Epoch 76 [100/383] | loss: 1.5309 (avg: 1.5457) | acc: 0.5391 (avg: 0.5664) |\n",
      "Epoch 76 [200/383] | loss: 1.6009 (avg: 1.5448) | acc: 0.5391 (avg: 0.5673) |\n",
      "Epoch 76 [300/383] | loss: 1.6292 (avg: 1.5501) | acc: 0.5000 (avg: 0.5633) |\n"
     ]
    },
    {
     "name": "stderr",
     "output_type": "stream",
     "text": [
      "[eval] 1000/1000: 100%|██████████| 1000/1000 [03:27<00:00,  4.83it/s, acc_nat=0.698, acc_rob=0.48]\n"
     ]
    },
    {
     "name": "stdout",
     "output_type": "stream",
     "text": [
      "Epoch 77 [0/383] | loss: 1.4832 (avg: 1.4832) | acc: 0.5859 (avg: 0.5859) |\n",
      "Epoch 77 [100/383] | loss: 1.5158 (avg: 1.5489) | acc: 0.5781 (avg: 0.5671) |\n",
      "Epoch 77 [200/383] | loss: 1.6469 (avg: 1.5369) | acc: 0.4766 (avg: 0.5677) |\n",
      "Epoch 77 [300/383] | loss: 1.5064 (avg: 1.5431) | acc: 0.6016 (avg: 0.5651) |\n"
     ]
    },
    {
     "name": "stderr",
     "output_type": "stream",
     "text": [
      "[eval] 1000/1000: 100%|██████████| 1000/1000 [03:24<00:00,  4.88it/s, acc_nat=0.718, acc_rob=0.506]\n"
     ]
    },
    {
     "name": "stdout",
     "output_type": "stream",
     "text": [
      "Epoch 78 [0/383] | loss: 1.4421 (avg: 1.4421) | acc: 0.6094 (avg: 0.6094) |\n",
      "Epoch 78 [100/383] | loss: 1.5108 (avg: 1.5361) | acc: 0.5078 (avg: 0.5641) |\n",
      "Epoch 78 [200/383] | loss: 1.6225 (avg: 1.5355) | acc: 0.4766 (avg: 0.5664) |\n",
      "Epoch 78 [300/383] | loss: 1.5074 (avg: 1.5379) | acc: 0.6172 (avg: 0.5667) |\n"
     ]
    },
    {
     "name": "stderr",
     "output_type": "stream",
     "text": [
      "[eval] 1000/1000: 100%|██████████| 1000/1000 [03:19<00:00,  5.01it/s, acc_nat=0.715, acc_rob=0.484]\n"
     ]
    },
    {
     "name": "stdout",
     "output_type": "stream",
     "text": [
      "Epoch 79 [0/383] | loss: 1.6363 (avg: 1.6363) | acc: 0.5312 (avg: 0.5312) |\n",
      "Epoch 79 [100/383] | loss: 1.4124 (avg: 1.5181) | acc: 0.6016 (avg: 0.5794) |\n",
      "Epoch 79 [200/383] | loss: 1.4715 (avg: 1.5300) | acc: 0.6016 (avg: 0.5735) |\n",
      "Epoch 79 [300/383] | loss: 1.5187 (avg: 1.5327) | acc: 0.5859 (avg: 0.5705) |\n"
     ]
    },
    {
     "name": "stderr",
     "output_type": "stream",
     "text": [
      "[eval] 1000/1000: 100%|██████████| 1000/1000 [03:19<00:00,  5.01it/s, acc_nat=0.725, acc_rob=0.51]\n"
     ]
    },
    {
     "name": "stdout",
     "output_type": "stream",
     "text": [
      "Epoch 80 [0/383] | loss: 1.5239 (avg: 1.5239) | acc: 0.6094 (avg: 0.6094) |\n",
      "Epoch 80 [100/383] | loss: 1.4444 (avg: 1.5456) | acc: 0.6328 (avg: 0.5641) |\n",
      "Epoch 80 [200/383] | loss: 1.4091 (avg: 1.5340) | acc: 0.7109 (avg: 0.5687) |\n",
      "Epoch 80 [300/383] | loss: 1.5744 (avg: 1.5326) | acc: 0.5391 (avg: 0.5690) |\n"
     ]
    },
    {
     "name": "stderr",
     "output_type": "stream",
     "text": [
      "[eval] 1000/1000: 100%|██████████| 1000/1000 [03:24<00:00,  4.90it/s, acc_nat=0.722, acc_rob=0.498]\n"
     ]
    },
    {
     "name": "stdout",
     "output_type": "stream",
     "text": [
      "Epoch 81 [0/383] | loss: 1.4686 (avg: 1.4686) | acc: 0.6719 (avg: 0.6719) |\n",
      "Epoch 81 [100/383] | loss: 1.3722 (avg: 1.5233) | acc: 0.6484 (avg: 0.5766) |\n",
      "Epoch 81 [200/383] | loss: 1.5360 (avg: 1.5297) | acc: 0.6016 (avg: 0.5706) |\n",
      "Epoch 81 [300/383] | loss: 1.5039 (avg: 1.5294) | acc: 0.5469 (avg: 0.5718) |\n"
     ]
    },
    {
     "name": "stderr",
     "output_type": "stream",
     "text": [
      "[eval] 1000/1000: 100%|██████████| 1000/1000 [03:24<00:00,  4.90it/s, acc_nat=0.712, acc_rob=0.504]\n"
     ]
    },
    {
     "name": "stdout",
     "output_type": "stream",
     "text": [
      "Epoch 82 [0/383] | loss: 1.4118 (avg: 1.4118) | acc: 0.5859 (avg: 0.5859) |\n",
      "Epoch 82 [100/383] | loss: 1.4327 (avg: 1.5169) | acc: 0.6562 (avg: 0.5759) |\n",
      "Epoch 82 [200/383] | loss: 1.4920 (avg: 1.5241) | acc: 0.5859 (avg: 0.5716) |\n",
      "Epoch 82 [300/383] | loss: 1.5057 (avg: 1.5238) | acc: 0.5781 (avg: 0.5712) |\n"
     ]
    },
    {
     "name": "stderr",
     "output_type": "stream",
     "text": [
      "[eval] 1000/1000: 100%|██████████| 1000/1000 [03:20<00:00,  4.98it/s, acc_nat=0.715, acc_rob=0.502]\n"
     ]
    },
    {
     "name": "stdout",
     "output_type": "stream",
     "text": [
      "Epoch 83 [0/383] | loss: 1.4824 (avg: 1.4824) | acc: 0.5703 (avg: 0.5703) |\n",
      "Epoch 83 [100/383] | loss: 1.4966 (avg: 1.5196) | acc: 0.6094 (avg: 0.5724) |\n",
      "Epoch 83 [200/383] | loss: 1.5766 (avg: 1.5262) | acc: 0.5469 (avg: 0.5698) |\n",
      "Epoch 83 [300/383] | loss: 1.4573 (avg: 1.5255) | acc: 0.5938 (avg: 0.5723) |\n"
     ]
    },
    {
     "name": "stderr",
     "output_type": "stream",
     "text": [
      "[eval] 1000/1000: 100%|██████████| 1000/1000 [03:21<00:00,  4.96it/s, acc_nat=0.713, acc_rob=0.489]\n"
     ]
    },
    {
     "name": "stdout",
     "output_type": "stream",
     "text": [
      "Epoch 84 [0/383] | loss: 1.4682 (avg: 1.4682) | acc: 0.6250 (avg: 0.6250) |\n",
      "Epoch 84 [100/383] | loss: 1.4604 (avg: 1.5201) | acc: 0.5859 (avg: 0.5760) |\n",
      "Epoch 84 [200/383] | loss: 1.4014 (avg: 1.5185) | acc: 0.6484 (avg: 0.5740) |\n",
      "Epoch 84 [300/383] | loss: 1.4151 (avg: 1.5196) | acc: 0.6562 (avg: 0.5740) |\n"
     ]
    },
    {
     "name": "stderr",
     "output_type": "stream",
     "text": [
      "[eval] 1000/1000: 100%|██████████| 1000/1000 [03:22<00:00,  4.94it/s, acc_nat=0.721, acc_rob=0.489]\n"
     ]
    },
    {
     "name": "stdout",
     "output_type": "stream",
     "text": [
      "Epoch 85 [0/383] | loss: 1.4913 (avg: 1.4913) | acc: 0.5859 (avg: 0.5859) |\n",
      "Epoch 85 [100/383] | loss: 1.6340 (avg: 1.5180) | acc: 0.5312 (avg: 0.5774) |\n",
      "Epoch 85 [200/383] | loss: 1.5409 (avg: 1.5145) | acc: 0.5391 (avg: 0.5779) |\n",
      "Epoch 85 [300/383] | loss: 1.5092 (avg: 1.5159) | acc: 0.5625 (avg: 0.5765) |\n"
     ]
    },
    {
     "name": "stderr",
     "output_type": "stream",
     "text": [
      "[eval] 1000/1000: 100%|██████████| 1000/1000 [03:21<00:00,  4.96it/s, acc_nat=0.71, acc_rob=0.471]\n"
     ]
    },
    {
     "name": "stdout",
     "output_type": "stream",
     "text": [
      "Epoch 86 [0/383] | loss: 1.6102 (avg: 1.6102) | acc: 0.5469 (avg: 0.5469) |\n",
      "Epoch 86 [100/383] | loss: 1.5815 (avg: 1.5176) | acc: 0.5312 (avg: 0.5725) |\n",
      "Epoch 86 [200/383] | loss: 1.5065 (avg: 1.5167) | acc: 0.6562 (avg: 0.5763) |\n",
      "Epoch 86 [300/383] | loss: 1.5076 (avg: 1.5171) | acc: 0.6250 (avg: 0.5757) |\n"
     ]
    },
    {
     "name": "stderr",
     "output_type": "stream",
     "text": [
      "[eval] 1000/1000: 100%|██████████| 1000/1000 [03:35<00:00,  4.63it/s, acc_nat=0.73, acc_rob=0.496]\n"
     ]
    },
    {
     "name": "stdout",
     "output_type": "stream",
     "text": [
      "Epoch 87 [0/383] | loss: 1.4900 (avg: 1.4900) | acc: 0.6094 (avg: 0.6094) |\n",
      "Epoch 87 [100/383] | loss: 1.6908 (avg: 1.5153) | acc: 0.5312 (avg: 0.5756) |\n",
      "Epoch 87 [200/383] | loss: 1.5795 (avg: 1.5176) | acc: 0.5312 (avg: 0.5764) |\n",
      "Epoch 87 [300/383] | loss: 1.4248 (avg: 1.5171) | acc: 0.6094 (avg: 0.5775) |\n"
     ]
    },
    {
     "name": "stderr",
     "output_type": "stream",
     "text": [
      "[eval] 1000/1000: 100%|██████████| 1000/1000 [03:19<00:00,  5.02it/s, acc_nat=0.74, acc_rob=0.499]\n"
     ]
    },
    {
     "name": "stdout",
     "output_type": "stream",
     "text": [
      "Epoch 88 [0/383] | loss: 1.5645 (avg: 1.5645) | acc: 0.5859 (avg: 0.5859) |\n",
      "Epoch 88 [100/383] | loss: 1.4353 (avg: 1.5126) | acc: 0.6094 (avg: 0.5781) |\n",
      "Epoch 88 [200/383] | loss: 1.6104 (avg: 1.5132) | acc: 0.5547 (avg: 0.5775) |\n",
      "Epoch 88 [300/383] | loss: 1.4787 (avg: 1.5118) | acc: 0.6016 (avg: 0.5782) |\n"
     ]
    },
    {
     "name": "stderr",
     "output_type": "stream",
     "text": [
      "[eval] 1000/1000: 100%|██████████| 1000/1000 [03:17<00:00,  5.07it/s, acc_nat=0.723, acc_rob=0.506]\n"
     ]
    },
    {
     "name": "stdout",
     "output_type": "stream",
     "text": [
      "Epoch 89 [0/383] | loss: 1.5608 (avg: 1.5608) | acc: 0.5234 (avg: 0.5234) |\n",
      "Epoch 89 [100/383] | loss: 1.4687 (avg: 1.5079) | acc: 0.6094 (avg: 0.5749) |\n",
      "Epoch 89 [200/383] | loss: 1.4392 (avg: 1.5047) | acc: 0.6094 (avg: 0.5773) |\n",
      "Epoch 89 [300/383] | loss: 1.4563 (avg: 1.5081) | acc: 0.5625 (avg: 0.5771) |\n"
     ]
    },
    {
     "name": "stderr",
     "output_type": "stream",
     "text": [
      "[eval] 1000/1000: 100%|██████████| 1000/1000 [03:23<00:00,  4.91it/s, acc_nat=0.71, acc_rob=0.503]\n"
     ]
    },
    {
     "name": "stdout",
     "output_type": "stream",
     "text": [
      "Epoch 90 [0/383] | loss: 1.5369 (avg: 1.5369) | acc: 0.5547 (avg: 0.5547) |\n",
      "Epoch 90 [100/383] | loss: 1.5530 (avg: 1.4886) | acc: 0.5781 (avg: 0.5910) |\n",
      "Epoch 90 [200/383] | loss: 1.4914 (avg: 1.4937) | acc: 0.6172 (avg: 0.5879) |\n",
      "Epoch 90 [300/383] | loss: 1.6330 (avg: 1.5023) | acc: 0.5156 (avg: 0.5838) |\n"
     ]
    },
    {
     "name": "stderr",
     "output_type": "stream",
     "text": [
      "[eval] 1000/1000: 100%|██████████| 1000/1000 [03:20<00:00,  4.98it/s, acc_nat=0.708, acc_rob=0.496]\n"
     ]
    },
    {
     "name": "stdout",
     "output_type": "stream",
     "text": [
      "Epoch 91 [0/383] | loss: 1.4895 (avg: 1.4895) | acc: 0.6172 (avg: 0.6172) |\n",
      "Epoch 91 [100/383] | loss: 1.3731 (avg: 1.4943) | acc: 0.6641 (avg: 0.5879) |\n",
      "Epoch 91 [200/383] | loss: 1.5677 (avg: 1.4979) | acc: 0.5469 (avg: 0.5867) |\n",
      "Epoch 91 [300/383] | loss: 1.4296 (avg: 1.4977) | acc: 0.6172 (avg: 0.5844) |\n"
     ]
    },
    {
     "name": "stderr",
     "output_type": "stream",
     "text": [
      "[eval] 1000/1000: 100%|██████████| 1000/1000 [03:20<00:00,  4.98it/s, acc_nat=0.721, acc_rob=0.496]\n"
     ]
    },
    {
     "name": "stdout",
     "output_type": "stream",
     "text": [
      "Epoch 92 [0/383] | loss: 1.5760 (avg: 1.5760) | acc: 0.5234 (avg: 0.5234) |\n",
      "Epoch 92 [100/383] | loss: 1.4797 (avg: 1.4950) | acc: 0.5859 (avg: 0.5852) |\n",
      "Epoch 92 [200/383] | loss: 1.4653 (avg: 1.4946) | acc: 0.5781 (avg: 0.5841) |\n",
      "Epoch 92 [300/383] | loss: 1.4865 (avg: 1.4977) | acc: 0.5859 (avg: 0.5845) |\n"
     ]
    },
    {
     "name": "stderr",
     "output_type": "stream",
     "text": [
      "[eval] 1000/1000: 100%|██████████| 1000/1000 [03:17<00:00,  5.06it/s, acc_nat=0.729, acc_rob=0.515]\n"
     ]
    },
    {
     "name": "stdout",
     "output_type": "stream",
     "text": [
      "Epoch 93 [0/383] | loss: 1.4705 (avg: 1.4705) | acc: 0.6094 (avg: 0.6094) |\n",
      "Epoch 93 [100/383] | loss: 1.5030 (avg: 1.4832) | acc: 0.5469 (avg: 0.5917) |\n",
      "Epoch 93 [200/383] | loss: 1.3591 (avg: 1.4918) | acc: 0.6484 (avg: 0.5876) |\n",
      "Epoch 93 [300/383] | loss: 1.5182 (avg: 1.4954) | acc: 0.5703 (avg: 0.5852) |\n"
     ]
    },
    {
     "name": "stderr",
     "output_type": "stream",
     "text": [
      "[eval] 1000/1000: 100%|██████████| 1000/1000 [03:19<00:00,  5.01it/s, acc_nat=0.727, acc_rob=0.51]\n"
     ]
    },
    {
     "name": "stdout",
     "output_type": "stream",
     "text": [
      "Epoch 94 [0/383] | loss: 1.6358 (avg: 1.6358) | acc: 0.4922 (avg: 0.4922) |\n",
      "Epoch 94 [100/383] | loss: 1.4268 (avg: 1.4888) | acc: 0.6484 (avg: 0.5857) |\n",
      "Epoch 94 [200/383] | loss: 1.4150 (avg: 1.4915) | acc: 0.6406 (avg: 0.5861) |\n",
      "Epoch 94 [300/383] | loss: 1.5158 (avg: 1.4943) | acc: 0.5469 (avg: 0.5848) |\n"
     ]
    },
    {
     "name": "stderr",
     "output_type": "stream",
     "text": [
      "[eval] 1000/1000: 100%|██████████| 1000/1000 [03:20<00:00,  5.00it/s, acc_nat=0.714, acc_rob=0.513]\n"
     ]
    },
    {
     "name": "stdout",
     "output_type": "stream",
     "text": [
      "Epoch 95 [0/383] | loss: 1.4449 (avg: 1.4449) | acc: 0.5859 (avg: 0.5859) |\n",
      "Epoch 95 [100/383] | loss: 1.5664 (avg: 1.4961) | acc: 0.5859 (avg: 0.5871) |\n",
      "Epoch 95 [200/383] | loss: 1.6096 (avg: 1.4941) | acc: 0.5781 (avg: 0.5868) |\n",
      "Epoch 95 [300/383] | loss: 1.5358 (avg: 1.4972) | acc: 0.4766 (avg: 0.5858) |\n"
     ]
    },
    {
     "name": "stderr",
     "output_type": "stream",
     "text": [
      "[eval] 1000/1000: 100%|██████████| 1000/1000 [03:22<00:00,  4.94it/s, acc_nat=0.74, acc_rob=0.495]\n"
     ]
    },
    {
     "name": "stdout",
     "output_type": "stream",
     "text": [
      "Epoch 96 [0/383] | loss: 1.4380 (avg: 1.4380) | acc: 0.6250 (avg: 0.6250) |\n",
      "Epoch 96 [100/383] | loss: 1.6391 (avg: 1.5032) | acc: 0.5781 (avg: 0.5804) |\n",
      "Epoch 96 [200/383] | loss: 1.4755 (avg: 1.5022) | acc: 0.5625 (avg: 0.5825) |\n",
      "Epoch 96 [300/383] | loss: 1.5277 (avg: 1.4991) | acc: 0.5625 (avg: 0.5827) |\n"
     ]
    },
    {
     "name": "stderr",
     "output_type": "stream",
     "text": [
      "[eval] 1000/1000: 100%|██████████| 1000/1000 [03:18<00:00,  5.04it/s, acc_nat=0.718, acc_rob=0.505]\n"
     ]
    },
    {
     "name": "stdout",
     "output_type": "stream",
     "text": [
      "Epoch 97 [0/383] | loss: 1.3898 (avg: 1.3898) | acc: 0.6562 (avg: 0.6562) |\n",
      "Epoch 97 [100/383] | loss: 1.4350 (avg: 1.4998) | acc: 0.6562 (avg: 0.5875) |\n",
      "Epoch 97 [200/383] | loss: 1.4905 (avg: 1.4922) | acc: 0.6250 (avg: 0.5885) |\n",
      "Epoch 97 [300/383] | loss: 1.4523 (avg: 1.4962) | acc: 0.5547 (avg: 0.5835) |\n"
     ]
    },
    {
     "name": "stderr",
     "output_type": "stream",
     "text": [
      "[eval] 1000/1000: 100%|██████████| 1000/1000 [03:20<00:00,  4.99it/s, acc_nat=0.723, acc_rob=0.49]\n"
     ]
    },
    {
     "name": "stdout",
     "output_type": "stream",
     "text": [
      "Epoch 98 [0/383] | loss: 1.4203 (avg: 1.4203) | acc: 0.6250 (avg: 0.6250) |\n",
      "Epoch 98 [100/383] | loss: 1.5809 (avg: 1.5010) | acc: 0.6016 (avg: 0.5832) |\n",
      "Epoch 98 [200/383] | loss: 1.4985 (avg: 1.4971) | acc: 0.6094 (avg: 0.5859) |\n",
      "Epoch 98 [300/383] | loss: 1.6251 (avg: 1.4965) | acc: 0.5078 (avg: 0.5849) |\n"
     ]
    },
    {
     "name": "stderr",
     "output_type": "stream",
     "text": [
      "[eval] 1000/1000: 100%|██████████| 1000/1000 [03:22<00:00,  4.94it/s, acc_nat=0.734, acc_rob=0.5] \n"
     ]
    },
    {
     "name": "stdout",
     "output_type": "stream",
     "text": [
      "Epoch 99 [0/383] | loss: 1.5775 (avg: 1.5775) | acc: 0.5391 (avg: 0.5391) |\n",
      "Epoch 99 [100/383] | loss: 1.5427 (avg: 1.5030) | acc: 0.6172 (avg: 0.5822) |\n",
      "Epoch 99 [200/383] | loss: 1.4621 (avg: 1.4990) | acc: 0.6328 (avg: 0.5850) |\n",
      "Epoch 99 [300/383] | loss: 1.4357 (avg: 1.4965) | acc: 0.6641 (avg: 0.5843) |\n"
     ]
    },
    {
     "name": "stderr",
     "output_type": "stream",
     "text": [
      "[eval] 1000/1000: 100%|██████████| 1000/1000 [03:20<00:00,  4.99it/s, acc_nat=0.72, acc_rob=0.506]\n"
     ]
    }
   ],
   "source": [
    "os.environ['CUDA_VISIBLE_DEVICES'] = gpu\n",
    "os.makedirs(checkpoint, exist_ok=True)\n",
    "\n",
    "train_transform = transforms.Compose([\n",
    "    transforms.RandomCrop(32, padding=4),\n",
    "    transforms.RandomHorizontalFlip(),\n",
    "    transforms.ToTensor()])\n",
    "train_dataset, _ = get_dataloader(dataset, batch_size)\n",
    "num_samples = len(train_dataset)\n",
    "num_samples_for_train = int(num_samples * 0.98)\n",
    "num_samples_for_valid = num_samples - num_samples_for_train\n",
    "train_set, valid_set = random_split(train_dataset, [num_samples_for_train, num_samples_for_valid])\n",
    "train_dataloader = DataLoader(train_set, batch_size=batch_size, shuffle=True, drop_last=False)\n",
    "valid_dataloader = DataLoader(valid_set, batch_size=1, shuffle=True, drop_last=False)\n",
    "\n",
    "model = nn.DataParallel(get_network(model_type, num_classes).cuda())\n",
    "optimizer = optim.SGD(model.parameters(),lr=lr, momentum=momentum)\n",
    "\n",
    "scheduler = [75, 90]\n",
    "adjust_learning_rate = lr_scheduler.MultiStepLR(optimizer, scheduler, gamma=0.1)\n",
    "best_acc_nat, best_acc_rob = 0, 0\n",
    "\n",
    "for epoch in range(total_epochs):\n",
    "    training(epoch, model, train_dataloader, optimizer, num_classes, epsilon, alpha, num_repeats, lam)\n",
    "    test_acc_nat, test_acc_rob = evaluation(epoch, model, valid_dataloader, alpha, epsilon, num_repeats)\n",
    "        \n",
    "    is_best = best_acc_nat < test_acc_nat and best_acc_rob < test_acc_rob\n",
    "    best_acc_nat = max(best_acc_nat, test_acc_nat)\n",
    "    best_acc_rob = max(best_acc_rob, test_acc_rob)\n",
    "    save_checkpoint = {'state_dict': model.state_dict(),\n",
    "                       'best_acc_nat': best_acc_nat,\n",
    "                       'best_acc_rob': best_acc_rob,\n",
    "                       'optimizer': optimizer.state_dict(),\n",
    "                       'model_type': model_type,\n",
    "                       'dataset': dataset}\n",
    "    torch.save(save_checkpoint, os.path.join(checkpoint, 'model'))\n",
    "    if is_best:\n",
    "        torch.save(save_checkpoint, os.path.join(checkpoint, 'best_model'))\n",
    "    adjust_learning_rate.step()"
   ]
  },
  {
   "cell_type": "code",
   "execution_count": null,
   "id": "67273057-ddb6-4294-b7ae-3aa932ab0cea",
   "metadata": {},
   "outputs": [],
   "source": []
  },
  {
   "cell_type": "code",
   "execution_count": null,
   "id": "f947e7ac-aa8a-4144-9e3a-bf7eb3e079a6",
   "metadata": {},
   "outputs": [],
   "source": []
  }
 ],
 "metadata": {
  "kernelspec": {
   "display_name": "Python 3",
   "language": "python",
   "name": "python3"
  },
  "language_info": {
   "codemirror_mode": {
    "name": "ipython",
    "version": 3
   },
   "file_extension": ".py",
   "mimetype": "text/x-python",
   "name": "python",
   "nbconvert_exporter": "python",
   "pygments_lexer": "ipython3",
   "version": "3.6.9"
  }
 },
 "nbformat": 4,
 "nbformat_minor": 5
}
