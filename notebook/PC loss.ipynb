{
 "cells": [
  {
   "cell_type": "markdown",
   "id": "be933234-4b51-41a5-a5a0-9b831b916f96",
   "metadata": {
    "tags": []
   },
   "source": [
    "# Prototype Conformity loss"
   ]
  },
  {
   "cell_type": "code",
   "execution_count": 1,
   "id": "85eb3db2-6a80-4e98-8a62-4fd714fc9189",
   "metadata": {},
   "outputs": [],
   "source": [
    "import os\n",
    "import sys\n",
    "sys.path.append('..')\n",
    "import yaml\n",
    "import shutil\n",
    "import argparse\n",
    "import numpy as np\n",
    "from tqdm import tqdm\n",
    "from collections import OrderedDict\n",
    "\n",
    "import torch\n",
    "import torch.nn as nn\n",
    "import torch.nn.functional as F\n",
    "import torch.optim as optim\n",
    "from torch.optim import lr_scheduler\n",
    "from torch.utils.data import DataLoader, random_split\n",
    "\n",
    "from utils import *"
   ]
  },
  {
   "cell_type": "markdown",
   "id": "66240c81-1be4-4a34-af22-21a6292e0ff9",
   "metadata": {},
   "source": [
    "## Parameter setting"
   ]
  },
  {
   "cell_type": "code",
   "execution_count": 2,
   "id": "01de849e-a804-4062-aef7-4cfcd5999b2c",
   "metadata": {},
   "outputs": [],
   "source": [
    "gpu = '0,1,2,3'\n",
    "dataset = 'cifar10'\n",
    "model_type = 'wrn34-10'\n",
    "checkpoint = './checkpoint/pc_v2/%s/%s' % (model_type, dataset)\n",
    "num_classes = 10\n",
    "lr = 0.01\n",
    "momentum = 0.9\n",
    "batch_size = 256\n",
    "warmup_epochs = 200\n",
    "with_pc_epochs = 300\n",
    "epsilon = 8/255\n",
    "alpha = 2/255\n",
    "num_repeats = 10\n",
    "\n",
    "## PC loss parameters\n",
    "lr_prox = 0.5\n",
    "lr_conprox = 1e-5\n",
    "weight_prox = 1.0\n",
    "weight_conprox = 1e-5"
   ]
  },
  {
   "cell_type": "markdown",
   "id": "8c102405-4d46-45e0-b957-9e7022b7ae2f",
   "metadata": {},
   "source": [
    "## Inner maximization"
   ]
  },
  {
   "cell_type": "code",
   "execution_count": 1,
   "id": "2ee44a0f-0acc-41c3-95a0-e477e167e679",
   "metadata": {},
   "outputs": [],
   "source": [
    "def inner_max(model, xent, inputs, targets, epsilon, alpha, num_repeats):\n",
    "    noise = torch.FloatTensor(inputs.shape).uniform_(-1, 1).cuda()\n",
    "    x = torch.clamp(inputs + noise, min=0, max=1)\n",
    "    for _ in range(num_repeats):\n",
    "        x.requires_grad_()\n",
    "        logits = model(x)[0]\n",
    "        loss = xent(logits, targets)\n",
    "        loss.backward()\n",
    "        grads = x.grad.data\n",
    "        x = x.detach() + alpha*torch.sign(grads).detach()\n",
    "        x = torch.min(torch.max(x, inputs - epsilon), inputs + epsilon).clamp(min=0, max=1)\n",
    "    return x"
   ]
  },
  {
   "cell_type": "markdown",
   "id": "afe2591b-4ebf-4714-a3f4-85cdac7f272d",
   "metadata": {},
   "source": [
    "## Training (Outer minimization)"
   ]
  },
  {
   "cell_type": "code",
   "execution_count": 4,
   "id": "6791b2dc-ee2e-4e34-987b-a48db876a821",
   "metadata": {},
   "outputs": [],
   "source": [
    "def xent_training(epoch, model, dataloader, optimizer, num_classes):\n",
    "    model.train()\n",
    "    total = 0\n",
    "    total_loss = 0\n",
    "    total_correct = 0\n",
    "    xent = nn.CrossEntropyLoss()\n",
    "    for idx, (inputs, targets) in enumerate(dataloader):\n",
    "        inputs, targets = inputs.cuda(), targets.cuda()\n",
    "        batch = inputs.size(0)\n",
    "        \n",
    "        x = inner_max(model, xent, inputs, targets, epsilon, alpha, num_repeats)\n",
    "        logits, _ = model(x)\n",
    "        \n",
    "        loss = xent(logits, targets)\n",
    "        \n",
    "        optimizer.zero_grad()\n",
    "        loss.backward()\n",
    "        optimizer.step()\n",
    "            \n",
    "        total += batch\n",
    "        total_loss += loss.item()\n",
    "        num_correct = torch.argmax(logits.data, dim=1).eq(targets.data).cpu().sum().item()\n",
    "        total_correct += num_correct\n",
    "        \n",
    "        if idx % 100 == 0:\n",
    "            print('Epoch %d [%d/%d] | loss: %.4f (avg: %.4f) | acc: %.4f (avg: %.4f) |'\\\n",
    "                  % (epoch, idx, len(dataloader), loss.item(), total_loss/(idx+1),\n",
    "                     num_correct/batch, total_correct/total))"
   ]
  },
  {
   "cell_type": "code",
   "execution_count": 5,
   "id": "db2276c9-d52b-4544-8448-42817161084d",
   "metadata": {},
   "outputs": [],
   "source": [
    "def training(epoch, model, dataloader, optimizer, num_classes, prox, conprox,\n",
    "             optim_prox, optim_conprox, weight_prox, weight_conprox,\n",
    "             epsilon=8/255, alpha=2/255, num_repeats=10, use_at=True):\n",
    "    model.train()\n",
    "    total = 0\n",
    "    total_loss = 0\n",
    "    total_correct = 0\n",
    "    xent = nn.CrossEntropyLoss()\n",
    "    for idx, (inputs, targets) in enumerate(dataloader):\n",
    "        inputs, targets = inputs.cuda(), targets.cuda()\n",
    "        batch = inputs.size(0)\n",
    "        \n",
    "        if use_at:\n",
    "            x = inner_max(model, xent, inputs, targets, epsilon, alpha, num_repeats)\n",
    "        else:\n",
    "            x = inputs\n",
    "        logits, features = model(x)\n",
    "        \n",
    "        loss_xent = xent(logits, targets)\n",
    "        loss_prox = prox(features, targets) * weight_prox\n",
    "        loss_conprox = conprox(features, targets) * weight_conprox\n",
    "        loss = loss_xent + loss_prox - loss_conprox\n",
    "        \n",
    "        optimizer.zero_grad()\n",
    "        optim_prox.zero_grad()\n",
    "        optim_conprox.zero_grad()\n",
    "        loss.backward()\n",
    "        optimizer.step()\n",
    "        \n",
    "        # Update trainable centroid of center loss\n",
    "        for param in prox.parameters():\n",
    "            param.grad.data *= 1/weight_prox\n",
    "        optim_prox.step()\n",
    "        \n",
    "        # Update trainable centroid of pc loss\n",
    "        for param in conprox.parameters():\n",
    "            param.grad.data *= 1/weight_conprox\n",
    "        optim_conprox.step()\n",
    "            \n",
    "        total += batch\n",
    "        total_loss += loss.item()\n",
    "        num_correct = torch.argmax(logits.data, dim=1).eq(targets.data).cpu().sum().item()\n",
    "        total_correct += num_correct\n",
    "        \n",
    "        if idx % 100 == 0:\n",
    "            print('Epoch %d [%d/%d] | loss: %.4f (avg: %.4f) | acc: %.4f (avg: %.4f) |'\\\n",
    "                  % (epoch, idx, len(dataloader), loss.item(), total_loss/(idx+1),\n",
    "                     num_correct/batch, total_correct/total))"
   ]
  },
  {
   "cell_type": "code",
   "execution_count": 6,
   "id": "2ff1c8d2-8e9c-441c-b471-9eb237eb3bf0",
   "metadata": {},
   "outputs": [],
   "source": [
    "def evaluation(epoch, model, dataloader, alpha, epsilon, num_repeats):\n",
    "    model.eval()\n",
    "    total_correct_nat = 0\n",
    "    total_correct_adv = 0\n",
    "    \n",
    "    xent = nn.CrossEntropyLoss()\n",
    "    with tqdm(dataloader) as pbar:\n",
    "        for index, (inputs, targets) in enumerate(pbar):\n",
    "            inputs, targets = inputs.cuda(), targets.cuda()\n",
    "            batch = inputs.size(0)\n",
    "            pbar.set_description(\"[eval] %d/%d\" % (index+1, len(dataloader.dataset)))\n",
    "            \n",
    "            x = inner_max(model, xent, inputs, targets, epsilon, alpha, num_repeats)\n",
    "            with torch.no_grad():\n",
    "                logits_nat = model(inputs)[0]\n",
    "                logits_adv = model(x)[0]\n",
    "            total_correct_nat += torch.argmax(logits_nat.data, dim=1).eq(targets.data).cpu().sum().item()\n",
    "            total_correct_adv += torch.argmax(logits_adv.data, dim=1).eq(targets.data).cpu().sum().item()\n",
    "            pbar.set_postfix(OrderedDict(acc_nat=total_correct_nat / len(dataloader.dataset),\n",
    "                                         acc_rob=total_correct_adv / len(dataloader.dataset)))\n",
    "    \n",
    "    return (total_correct_nat / len(dataloader.dataset)), (total_correct_adv / len(dataloader.dataset))"
   ]
  },
  {
   "cell_type": "code",
   "execution_count": null,
   "id": "208f000e-cb35-4ad5-93d5-fe47f788b266",
   "metadata": {
    "tags": []
   },
   "outputs": [
    {
     "name": "stdout",
     "output_type": "stream",
     "text": [
      "Files already downloaded and verified\n",
      "Files already downloaded and verified\n",
      "Epoch 0 [0/192] | loss: 2.6742 (avg: 2.6742) | acc: 0.0000 (avg: 0.0000) |\n",
      "Epoch 0 [100/192] | loss: 2.1932 (avg: 2.3182) | acc: 0.1641 (avg: 0.1124) |\n"
     ]
    },
    {
     "name": "stderr",
     "output_type": "stream",
     "text": [
      "[eval] 1000/1000: 100%|██████████| 1000/1000 [03:28<00:00,  4.79it/s, acc_nat=0.256, acc_rob=0.204]\n"
     ]
    },
    {
     "name": "stdout",
     "output_type": "stream",
     "text": [
      "Epoch 1 [0/192] | loss: 2.1504 (avg: 2.1504) | acc: 0.1914 (avg: 0.1914) |\n",
      "Epoch 1 [100/192] | loss: 2.1140 (avg: 2.1235) | acc: 0.2227 (avg: 0.2093) |\n"
     ]
    },
    {
     "name": "stderr",
     "output_type": "stream",
     "text": [
      "[eval] 581/1000:  58%|█████▊    | 580/1000 [02:02<01:26,  4.83it/s, acc_nat=0.182, acc_rob=0.135]"
     ]
    },
    {
     "name": "stdout",
     "output_type": "stream",
     "text": [
      "Epoch 2 [100/192] | loss: 1.9669 (avg: 2.0513) | acc: 0.2500 (avg: 0.2350) |\n"
     ]
    },
    {
     "name": "stderr",
     "output_type": "stream",
     "text": [
      "[eval] 1000/1000: 100%|██████████| 1000/1000 [03:28<00:00,  4.80it/s, acc_nat=0.359, acc_rob=0.243]\n"
     ]
    },
    {
     "name": "stdout",
     "output_type": "stream",
     "text": [
      "Epoch 3 [0/192] | loss: 1.9191 (avg: 1.9191) | acc: 0.2812 (avg: 0.2812) |\n",
      "Epoch 3 [100/192] | loss: 1.9832 (avg: 2.0079) | acc: 0.2773 (avg: 0.2527) |\n"
     ]
    },
    {
     "name": "stderr",
     "output_type": "stream",
     "text": [
      "[eval] 1000/1000: 100%|██████████| 1000/1000 [03:28<00:00,  4.80it/s, acc_nat=0.355, acc_rob=0.245]\n"
     ]
    },
    {
     "name": "stdout",
     "output_type": "stream",
     "text": [
      "Epoch 4 [0/192] | loss: 1.9659 (avg: 1.9659) | acc: 0.2695 (avg: 0.2695) |\n",
      "Epoch 4 [100/192] | loss: 1.9720 (avg: 1.9663) | acc: 0.2500 (avg: 0.2635) |\n"
     ]
    },
    {
     "name": "stderr",
     "output_type": "stream",
     "text": [
      "[eval] 1000/1000: 100%|██████████| 1000/1000 [03:29<00:00,  4.78it/s, acc_nat=0.415, acc_rob=0.266]\n"
     ]
    },
    {
     "name": "stdout",
     "output_type": "stream",
     "text": [
      "Epoch 5 [0/192] | loss: 1.9466 (avg: 1.9466) | acc: 0.2461 (avg: 0.2461) |\n",
      "Epoch 5 [100/192] | loss: 1.9493 (avg: 1.9395) | acc: 0.2227 (avg: 0.2754) |\n"
     ]
    },
    {
     "name": "stderr",
     "output_type": "stream",
     "text": [
      "[eval] 1000/1000: 100%|██████████| 1000/1000 [03:28<00:00,  4.79it/s, acc_nat=0.433, acc_rob=0.26]\n"
     ]
    },
    {
     "name": "stdout",
     "output_type": "stream",
     "text": [
      "Epoch 6 [0/192] | loss: 1.8938 (avg: 1.8938) | acc: 0.2891 (avg: 0.2891) |\n",
      "Epoch 6 [100/192] | loss: 1.8848 (avg: 1.9107) | acc: 0.3203 (avg: 0.2822) |\n"
     ]
    },
    {
     "name": "stderr",
     "output_type": "stream",
     "text": [
      "[eval] 1000/1000: 100%|██████████| 1000/1000 [03:27<00:00,  4.81it/s, acc_nat=0.444, acc_rob=0.272]\n"
     ]
    },
    {
     "name": "stdout",
     "output_type": "stream",
     "text": [
      "Epoch 7 [0/192] | loss: 1.9346 (avg: 1.9346) | acc: 0.2109 (avg: 0.2109) |\n",
      "Epoch 7 [100/192] | loss: 1.9259 (avg: 1.8843) | acc: 0.2578 (avg: 0.2936) |\n"
     ]
    },
    {
     "name": "stderr",
     "output_type": "stream",
     "text": [
      "[eval] 1000/1000: 100%|██████████| 1000/1000 [03:27<00:00,  4.82it/s, acc_nat=0.425, acc_rob=0.278]\n"
     ]
    },
    {
     "name": "stdout",
     "output_type": "stream",
     "text": [
      "Epoch 9 [0/192] | loss: 1.8877 (avg: 1.8877) | acc: 0.2812 (avg: 0.2812) |\n",
      "Epoch 9 [100/192] | loss: 1.8377 (avg: 1.8428) | acc: 0.3047 (avg: 0.3075) |\n"
     ]
    },
    {
     "name": "stderr",
     "output_type": "stream",
     "text": [
      "[eval] 543/1000:  54%|█████▍    | 542/1000 [01:52<01:34,  4.85it/s, acc_nat=0.255, acc_rob=0.164]"
     ]
    },
    {
     "name": "stdout",
     "output_type": "stream",
     "text": [
      "Epoch 10 [100/192] | loss: 1.8145 (avg: 1.8137) | acc: 0.3477 (avg: 0.3204) |\n"
     ]
    },
    {
     "name": "stderr",
     "output_type": "stream",
     "text": [
      "[eval] 596/1000:  60%|█████▉    | 595/1000 [02:03<01:24,  4.78it/s, acc_nat=0.285, acc_rob=0.176]"
     ]
    },
    {
     "name": "stdout",
     "output_type": "stream",
     "text": [
      "Epoch 11 [100/192] | loss: 1.8039 (avg: 1.8014) | acc: 0.3359 (avg: 0.3248) |\n"
     ]
    },
    {
     "name": "stderr",
     "output_type": "stream",
     "text": [
      "[eval] 1000/1000: 100%|██████████| 1000/1000 [03:30<00:00,  4.74it/s, acc_nat=0.485, acc_rob=0.326]\n"
     ]
    },
    {
     "name": "stdout",
     "output_type": "stream",
     "text": [
      "Epoch 12 [0/192] | loss: 1.7149 (avg: 1.7149) | acc: 0.3398 (avg: 0.3398) |\n",
      "Epoch 12 [100/192] | loss: 1.7523 (avg: 1.7753) | acc: 0.3633 (avg: 0.3315) |\n"
     ]
    },
    {
     "name": "stderr",
     "output_type": "stream",
     "text": [
      "[eval] 1000/1000: 100%|██████████| 1000/1000 [03:29<00:00,  4.76it/s, acc_nat=0.541, acc_rob=0.332]\n"
     ]
    },
    {
     "name": "stdout",
     "output_type": "stream",
     "text": [
      "Epoch 14 [0/192] | loss: 1.6777 (avg: 1.6777) | acc: 0.3711 (avg: 0.3711) |\n",
      "Epoch 14 [100/192] | loss: 1.6932 (avg: 1.7398) | acc: 0.3750 (avg: 0.3427) |\n"
     ]
    },
    {
     "name": "stderr",
     "output_type": "stream",
     "text": [
      "[eval] 481/1000:  48%|████▊     | 480/1000 [01:39<01:47,  4.82it/s, acc_nat=0.281, acc_rob=0.169]"
     ]
    },
    {
     "name": "stdout",
     "output_type": "stream",
     "text": [
      "Epoch 15 [100/192] | loss: 1.7007 (avg: 1.7224) | acc: 0.3555 (avg: 0.3522) |\n"
     ]
    },
    {
     "name": "stderr",
     "output_type": "stream",
     "text": [
      "[eval] 1000/1000: 100%|██████████| 1000/1000 [03:29<00:00,  4.77it/s, acc_nat=0.556, acc_rob=0.34]\n"
     ]
    },
    {
     "name": "stdout",
     "output_type": "stream",
     "text": [
      "Epoch 16 [0/192] | loss: 1.7121 (avg: 1.7121) | acc: 0.3867 (avg: 0.3867) |\n",
      "Epoch 16 [100/192] | loss: 1.6648 (avg: 1.7052) | acc: 0.3750 (avg: 0.3613) |\n"
     ]
    },
    {
     "name": "stderr",
     "output_type": "stream",
     "text": [
      "[eval] 858/1000:  86%|████████▌ | 857/1000 [02:59<00:29,  4.86it/s, acc_nat=0.477, acc_rob=0.311]"
     ]
    },
    {
     "name": "stdout",
     "output_type": "stream",
     "text": [
      "Epoch 17 [100/192] | loss: 1.6564 (avg: 1.6868) | acc: 0.4023 (avg: 0.3650) |\n"
     ]
    },
    {
     "name": "stderr",
     "output_type": "stream",
     "text": [
      "[eval] 327/1000:  33%|███▎      | 327/1000 [01:07<02:18,  4.85it/s, acc_nat=0.21, acc_rob=0.122] "
     ]
    },
    {
     "name": "stdout",
     "output_type": "stream",
     "text": [
      "Epoch 19 [100/192] | loss: 1.6456 (avg: 1.6461) | acc: 0.3594 (avg: 0.3754) |\n"
     ]
    },
    {
     "name": "stderr",
     "output_type": "stream",
     "text": [
      "[eval] 1000/1000: 100%|██████████| 1000/1000 [03:26<00:00,  4.85it/s, acc_nat=0.614, acc_rob=0.361]\n"
     ]
    },
    {
     "name": "stdout",
     "output_type": "stream",
     "text": [
      "Epoch 20 [0/192] | loss: 1.6189 (avg: 1.6189) | acc: 0.4180 (avg: 0.4180) |\n",
      "Epoch 20 [100/192] | loss: 1.6069 (avg: 1.6322) | acc: 0.3906 (avg: 0.3846) |\n"
     ]
    },
    {
     "name": "stderr",
     "output_type": "stream",
     "text": [
      "[eval] 1000/1000: 100%|██████████| 1000/1000 [03:27<00:00,  4.81it/s, acc_nat=0.637, acc_rob=0.371]\n"
     ]
    },
    {
     "name": "stdout",
     "output_type": "stream",
     "text": [
      "Epoch 22 [0/192] | loss: 1.6750 (avg: 1.6750) | acc: 0.3672 (avg: 0.3672) |\n",
      "Epoch 22 [100/192] | loss: 1.7243 (avg: 1.6067) | acc: 0.3281 (avg: 0.3910) |\n"
     ]
    },
    {
     "name": "stderr",
     "output_type": "stream",
     "text": [
      "[eval] 600/1000:  60%|█████▉    | 599/1000 [02:05<01:22,  4.83it/s, acc_nat=0.384, acc_rob=0.219]"
     ]
    },
    {
     "name": "stdout",
     "output_type": "stream",
     "text": [
      "Epoch 23 [100/192] | loss: 1.6686 (avg: 1.5832) | acc: 0.4062 (avg: 0.4004) |\n"
     ]
    },
    {
     "name": "stderr",
     "output_type": "stream",
     "text": [
      "[eval] 861/1000:  86%|████████▌ | 860/1000 [02:59<00:28,  4.87it/s, acc_nat=0.556, acc_rob=0.335]"
     ]
    },
    {
     "name": "stdout",
     "output_type": "stream",
     "text": [
      "Epoch 24 [100/192] | loss: 1.6012 (avg: 1.5729) | acc: 0.3828 (avg: 0.4040) |\n"
     ]
    },
    {
     "name": "stderr",
     "output_type": "stream",
     "text": [
      "[eval] 1000/1000: 100%|██████████| 1000/1000 [03:29<00:00,  4.77it/s, acc_nat=0.617, acc_rob=0.373]\n"
     ]
    },
    {
     "name": "stdout",
     "output_type": "stream",
     "text": [
      "Epoch 26 [0/192] | loss: 1.4565 (avg: 1.4565) | acc: 0.4570 (avg: 0.4570) |\n",
      "Epoch 26 [100/192] | loss: 1.5729 (avg: 1.5375) | acc: 0.4062 (avg: 0.4161) |\n"
     ]
    },
    {
     "name": "stderr",
     "output_type": "stream",
     "text": [
      "[eval] 527/1000:  53%|█████▎    | 526/1000 [01:50<01:41,  4.69it/s, acc_nat=0.327, acc_rob=0.204]"
     ]
    },
    {
     "name": "stdout",
     "output_type": "stream",
     "text": [
      "Epoch 27 [100/192] | loss: 1.5395 (avg: 1.5285) | acc: 0.4336 (avg: 0.4219) |\n"
     ]
    },
    {
     "name": "stderr",
     "output_type": "stream",
     "text": [
      "[eval] 530/1000:  53%|█████▎    | 530/1000 [02:02<01:49,  4.29it/s, acc_nat=0.346, acc_rob=0.201]"
     ]
    },
    {
     "name": "stdout",
     "output_type": "stream",
     "text": [
      "Epoch 28 [100/192] | loss: 1.4921 (avg: 1.5110) | acc: 0.4258 (avg: 0.4267) |\n"
     ]
    },
    {
     "name": "stderr",
     "output_type": "stream",
     "text": [
      "[eval] 1000/1000: 100%|██████████| 1000/1000 [03:31<00:00,  4.73it/s, acc_nat=0.662, acc_rob=0.388]\n"
     ]
    },
    {
     "name": "stdout",
     "output_type": "stream",
     "text": [
      "Epoch 29 [0/192] | loss: 1.5839 (avg: 1.5839) | acc: 0.4062 (avg: 0.4062) |\n",
      "Epoch 29 [100/192] | loss: 1.5134 (avg: 1.4991) | acc: 0.4492 (avg: 0.4322) |\n"
     ]
    },
    {
     "name": "stderr",
     "output_type": "stream",
     "text": [
      "[eval] 1000/1000: 100%|██████████| 1000/1000 [03:49<00:00,  4.36it/s, acc_nat=0.665, acc_rob=0.403]\n"
     ]
    },
    {
     "name": "stdout",
     "output_type": "stream",
     "text": [
      "Epoch 31 [0/192] | loss: 1.4973 (avg: 1.4973) | acc: 0.4258 (avg: 0.4258) |\n",
      "Epoch 31 [100/192] | loss: 1.5559 (avg: 1.4828) | acc: 0.3828 (avg: 0.4337) |\n"
     ]
    },
    {
     "name": "stderr",
     "output_type": "stream",
     "text": [
      "[eval] 537/1000:  54%|█████▎    | 536/1000 [01:50<01:35,  4.88it/s, acc_nat=0.357, acc_rob=0.229]"
     ]
    },
    {
     "name": "stdout",
     "output_type": "stream",
     "text": [
      "Epoch 32 [100/192] | loss: 1.4933 (avg: 1.4696) | acc: 0.3867 (avg: 0.4387) |\n"
     ]
    },
    {
     "name": "stderr",
     "output_type": "stream",
     "text": [
      "[eval] 489/1000:  49%|████▉     | 489/1000 [01:42<01:47,  4.75it/s, acc_nat=0.318, acc_rob=0.192]"
     ]
    },
    {
     "name": "stdout",
     "output_type": "stream",
     "text": [
      "Epoch 33 [100/192] | loss: 1.5037 (avg: 1.4547) | acc: 0.4531 (avg: 0.4449) |\n"
     ]
    },
    {
     "name": "stderr",
     "output_type": "stream",
     "text": [
      "[eval] 1000/1000: 100%|██████████| 1000/1000 [03:31<00:00,  4.72it/s, acc_nat=0.7, acc_rob=0.41] \n"
     ]
    },
    {
     "name": "stdout",
     "output_type": "stream",
     "text": [
      "Epoch 34 [0/192] | loss: 1.5032 (avg: 1.5032) | acc: 0.4375 (avg: 0.4375) |\n",
      "Epoch 34 [100/192] | loss: 1.3860 (avg: 1.4373) | acc: 0.4414 (avg: 0.4484) |\n"
     ]
    },
    {
     "name": "stderr",
     "output_type": "stream",
     "text": [
      "[eval] 1000/1000: 100%|██████████| 1000/1000 [03:28<00:00,  4.80it/s, acc_nat=0.696, acc_rob=0.407]\n"
     ]
    },
    {
     "name": "stdout",
     "output_type": "stream",
     "text": [
      "Epoch 35 [0/192] | loss: 1.3479 (avg: 1.3479) | acc: 0.5000 (avg: 0.5000) |\n",
      "Epoch 35 [100/192] | loss: 1.4123 (avg: 1.4284) | acc: 0.5078 (avg: 0.4527) |\n"
     ]
    },
    {
     "name": "stderr",
     "output_type": "stream",
     "text": [
      "[eval] 872/1000:  87%|████████▋ | 871/1000 [03:18<00:29,  4.39it/s, acc_nat=0.588, acc_rob=0.37] "
     ]
    },
    {
     "name": "stdout",
     "output_type": "stream",
     "text": [
      "Epoch 36 [100/192] | loss: 1.4660 (avg: 1.4234) | acc: 0.4219 (avg: 0.4542) |\n"
     ]
    },
    {
     "name": "stderr",
     "output_type": "stream",
     "text": [
      "[eval] 1000/1000: 100%|██████████| 1000/1000 [03:48<00:00,  4.38it/s, acc_nat=0.685, acc_rob=0.426]\n"
     ]
    },
    {
     "name": "stdout",
     "output_type": "stream",
     "text": [
      "Epoch 37 [0/192] | loss: 1.4378 (avg: 1.4378) | acc: 0.4258 (avg: 0.4258) |\n",
      "Epoch 37 [100/192] | loss: 1.3330 (avg: 1.4028) | acc: 0.4844 (avg: 0.4674) |\n"
     ]
    },
    {
     "name": "stderr",
     "output_type": "stream",
     "text": [
      "[eval] 1000/1000: 100%|██████████| 1000/1000 [03:29<00:00,  4.78it/s, acc_nat=0.712, acc_rob=0.421]\n"
     ]
    },
    {
     "name": "stdout",
     "output_type": "stream",
     "text": [
      "Epoch 38 [0/192] | loss: 1.3712 (avg: 1.3712) | acc: 0.5039 (avg: 0.5039) |\n",
      "Epoch 38 [100/192] | loss: 1.4077 (avg: 1.4022) | acc: 0.4609 (avg: 0.4623) |\n"
     ]
    },
    {
     "name": "stderr",
     "output_type": "stream",
     "text": [
      "[eval] 1000/1000: 100%|██████████| 1000/1000 [03:21<00:00,  4.96it/s, acc_nat=0.689, acc_rob=0.411]\n"
     ]
    },
    {
     "name": "stdout",
     "output_type": "stream",
     "text": [
      "Epoch 40 [0/192] | loss: 1.4606 (avg: 1.4606) | acc: 0.4375 (avg: 0.4375) |\n",
      "Epoch 40 [100/192] | loss: 1.3953 (avg: 1.3779) | acc: 0.4922 (avg: 0.4722) |\n"
     ]
    },
    {
     "name": "stderr",
     "output_type": "stream",
     "text": [
      "[eval] 1000/1000: 100%|██████████| 1000/1000 [03:16<00:00,  5.09it/s, acc_nat=0.693, acc_rob=0.434]\n"
     ]
    },
    {
     "name": "stdout",
     "output_type": "stream",
     "text": [
      "Epoch 41 [0/192] | loss: 1.4071 (avg: 1.4071) | acc: 0.4609 (avg: 0.4609) |\n",
      "Epoch 41 [100/192] | loss: 1.3664 (avg: 1.3714) | acc: 0.4648 (avg: 0.4701) |\n"
     ]
    },
    {
     "name": "stderr",
     "output_type": "stream",
     "text": [
      "[eval] 908/1000:  91%|█████████ | 907/1000 [03:01<00:18,  4.97it/s, acc_nat=0.638, acc_rob=0.397]"
     ]
    },
    {
     "name": "stdout",
     "output_type": "stream",
     "text": [
      "Epoch 42 [100/192] | loss: 1.5167 (avg: 1.3596) | acc: 0.4180 (avg: 0.4773) |\n"
     ]
    },
    {
     "name": "stderr",
     "output_type": "stream",
     "text": [
      "[eval] 1000/1000: 100%|██████████| 1000/1000 [03:20<00:00,  4.98it/s, acc_nat=0.717, acc_rob=0.414]\n"
     ]
    },
    {
     "name": "stdout",
     "output_type": "stream",
     "text": [
      "Epoch 43 [0/192] | loss: 1.3854 (avg: 1.3854) | acc: 0.4688 (avg: 0.4688) |\n",
      "Epoch 43 [100/192] | loss: 1.2841 (avg: 1.3441) | acc: 0.4844 (avg: 0.4800) |\n"
     ]
    },
    {
     "name": "stderr",
     "output_type": "stream",
     "text": [
      "[eval] 517/1000:  52%|█████▏    | 517/1000 [01:45<01:38,  4.92it/s, acc_nat=0.364, acc_rob=0.225]"
     ]
    },
    {
     "name": "stdout",
     "output_type": "stream",
     "text": [
      "Epoch 44 [100/192] | loss: 1.4070 (avg: 1.3393) | acc: 0.4180 (avg: 0.4842) |\n"
     ]
    },
    {
     "name": "stderr",
     "output_type": "stream",
     "text": [
      "[eval] 520/1000:  52%|█████▏    | 519/1000 [01:43<01:35,  5.04it/s, acc_nat=0.36, acc_rob=0.216] "
     ]
    },
    {
     "name": "stdout",
     "output_type": "stream",
     "text": [
      "Epoch 45 [100/192] | loss: 1.3338 (avg: 1.3215) | acc: 0.4844 (avg: 0.4862) |\n"
     ]
    },
    {
     "name": "stderr",
     "output_type": "stream",
     "text": [
      "[eval] 486/1000:  49%|████▊     | 486/1000 [01:37<01:42,  5.02it/s, acc_nat=0.357, acc_rob=0.206]"
     ]
    },
    {
     "name": "stdout",
     "output_type": "stream",
     "text": [
      "Epoch 46 [100/192] | loss: 1.2968 (avg: 1.3146) | acc: 0.4844 (avg: 0.4948) |\n"
     ]
    },
    {
     "name": "stderr",
     "output_type": "stream",
     "text": [
      "[eval] 1000/1000: 100%|██████████| 1000/1000 [03:21<00:00,  4.96it/s, acc_nat=0.723, acc_rob=0.424]\n"
     ]
    },
    {
     "name": "stdout",
     "output_type": "stream",
     "text": [
      "Epoch 47 [0/192] | loss: 1.1768 (avg: 1.1768) | acc: 0.5391 (avg: 0.5391) |\n",
      "Epoch 47 [100/192] | loss: 1.3001 (avg: 1.2974) | acc: 0.4844 (avg: 0.4968) |\n"
     ]
    },
    {
     "name": "stderr",
     "output_type": "stream",
     "text": [
      "[eval] 1000/1000: 100%|██████████| 1000/1000 [03:22<00:00,  4.93it/s, acc_nat=0.736, acc_rob=0.44]\n"
     ]
    },
    {
     "name": "stdout",
     "output_type": "stream",
     "text": [
      "Epoch 49 [0/192] | loss: 1.3666 (avg: 1.3666) | acc: 0.4375 (avg: 0.4375) |\n",
      "Epoch 49 [100/192] | loss: 1.2622 (avg: 1.2864) | acc: 0.5195 (avg: 0.5033) |\n"
     ]
    },
    {
     "name": "stderr",
     "output_type": "stream",
     "text": [
      "[eval] 1000/1000: 100%|██████████| 1000/1000 [03:20<00:00,  4.98it/s, acc_nat=0.712, acc_rob=0.431]\n"
     ]
    },
    {
     "name": "stdout",
     "output_type": "stream",
     "text": [
      "Epoch 50 [0/192] | loss: 1.2697 (avg: 1.2697) | acc: 0.5117 (avg: 0.5117) |\n",
      "Epoch 50 [100/192] | loss: 1.3463 (avg: 1.2770) | acc: 0.4961 (avg: 0.5026) |\n"
     ]
    },
    {
     "name": "stderr",
     "output_type": "stream",
     "text": [
      "[eval] 334/1000:  33%|███▎      | 333/1000 [01:07<02:14,  4.96it/s, acc_nat=0.238, acc_rob=0.139]"
     ]
    },
    {
     "name": "stdout",
     "output_type": "stream",
     "text": [
      "Epoch 51 [100/192] | loss: 1.2489 (avg: 1.2600) | acc: 0.4922 (avg: 0.5057) |\n"
     ]
    },
    {
     "name": "stderr",
     "output_type": "stream",
     "text": [
      "[eval] 482/1000:  48%|████▊     | 481/1000 [01:34<01:43,  5.02it/s, acc_nat=0.338, acc_rob=0.195]"
     ]
    },
    {
     "name": "stdout",
     "output_type": "stream",
     "text": [
      "Epoch 52 [100/192] | loss: 1.1936 (avg: 1.2486) | acc: 0.5469 (avg: 0.5128) |\n"
     ]
    },
    {
     "name": "stderr",
     "output_type": "stream",
     "text": [
      "[eval] 1000/1000: 100%|██████████| 1000/1000 [03:23<00:00,  4.90it/s, acc_nat=0.731, acc_rob=0.418]\n"
     ]
    },
    {
     "name": "stdout",
     "output_type": "stream",
     "text": [
      "Epoch 53 [0/192] | loss: 1.2767 (avg: 1.2767) | acc: 0.5156 (avg: 0.5156) |\n",
      "Epoch 53 [100/192] | loss: 1.3152 (avg: 1.2423) | acc: 0.4844 (avg: 0.5162) |\n"
     ]
    },
    {
     "name": "stderr",
     "output_type": "stream",
     "text": [
      "[eval] 1000/1000: 100%|██████████| 1000/1000 [03:20<00:00,  4.98it/s, acc_nat=0.749, acc_rob=0.448]\n"
     ]
    },
    {
     "name": "stdout",
     "output_type": "stream",
     "text": [
      "Epoch 54 [0/192] | loss: 1.3252 (avg: 1.3252) | acc: 0.4688 (avg: 0.4688) |\n",
      "Epoch 54 [100/192] | loss: 1.2499 (avg: 1.2268) | acc: 0.5234 (avg: 0.5183) |\n"
     ]
    },
    {
     "name": "stderr",
     "output_type": "stream",
     "text": [
      "[eval] 327/1000:  33%|███▎      | 326/1000 [01:04<02:12,  5.09it/s, acc_nat=0.229, acc_rob=0.122]"
     ]
    },
    {
     "name": "stdout",
     "output_type": "stream",
     "text": [
      "Epoch 55 [100/192] | loss: 1.3214 (avg: 1.2228) | acc: 0.5078 (avg: 0.5205) |\n"
     ]
    },
    {
     "name": "stderr",
     "output_type": "stream",
     "text": [
      "[eval] 477/1000:  48%|████▊     | 476/1000 [01:34<01:43,  5.08it/s, acc_nat=0.348, acc_rob=0.217]"
     ]
    },
    {
     "name": "stdout",
     "output_type": "stream",
     "text": [
      "Epoch 56 [100/192] | loss: 1.2914 (avg: 1.2195) | acc: 0.4922 (avg: 0.5219) |\n"
     ]
    },
    {
     "name": "stderr",
     "output_type": "stream",
     "text": [
      "[eval] 1000/1000: 100%|██████████| 1000/1000 [03:24<00:00,  4.89it/s, acc_nat=0.742, acc_rob=0.447]\n"
     ]
    },
    {
     "name": "stdout",
     "output_type": "stream",
     "text": [
      "Epoch 57 [0/192] | loss: 1.2194 (avg: 1.2194) | acc: 0.5391 (avg: 0.5391) |\n",
      "Epoch 57 [100/192] | loss: 1.1566 (avg: 1.1993) | acc: 0.5781 (avg: 0.5282) |\n"
     ]
    },
    {
     "name": "stderr",
     "output_type": "stream",
     "text": [
      "[eval] 1000/1000: 100%|██████████| 1000/1000 [03:18<00:00,  5.04it/s, acc_nat=0.762, acc_rob=0.451]\n"
     ]
    },
    {
     "name": "stdout",
     "output_type": "stream",
     "text": [
      "Epoch 59 [0/192] | loss: 1.2021 (avg: 1.2021) | acc: 0.5195 (avg: 0.5195) |\n",
      "Epoch 59 [100/192] | loss: 1.2178 (avg: 1.1776) | acc: 0.5508 (avg: 0.5380) |\n"
     ]
    },
    {
     "name": "stderr",
     "output_type": "stream",
     "text": [
      "[eval] 1000/1000: 100%|██████████| 1000/1000 [03:19<00:00,  5.02it/s, acc_nat=0.757, acc_rob=0.445]\n"
     ]
    },
    {
     "name": "stdout",
     "output_type": "stream",
     "text": [
      "Epoch 60 [0/192] | loss: 1.1774 (avg: 1.1774) | acc: 0.5391 (avg: 0.5391) |\n",
      "Epoch 60 [100/192] | loss: 1.0871 (avg: 1.1698) | acc: 0.5938 (avg: 0.5364) |\n"
     ]
    },
    {
     "name": "stderr",
     "output_type": "stream",
     "text": [
      "[eval] 1000/1000: 100%|██████████| 1000/1000 [03:20<00:00,  4.99it/s, acc_nat=0.751, acc_rob=0.433]\n"
     ]
    },
    {
     "name": "stdout",
     "output_type": "stream",
     "text": [
      "Epoch 62 [0/192] | loss: 1.1446 (avg: 1.1446) | acc: 0.5664 (avg: 0.5664) |\n",
      "Epoch 62 [100/192] | loss: 1.3110 (avg: 1.1468) | acc: 0.5078 (avg: 0.5446) |\n"
     ]
    },
    {
     "name": "stderr",
     "output_type": "stream",
     "text": [
      "[eval] 1000/1000: 100%|██████████| 1000/1000 [03:23<00:00,  4.92it/s, acc_nat=0.761, acc_rob=0.451]\n"
     ]
    },
    {
     "name": "stdout",
     "output_type": "stream",
     "text": [
      "Epoch 63 [0/192] | loss: 1.1195 (avg: 1.1195) | acc: 0.5352 (avg: 0.5352) |\n",
      "Epoch 63 [100/192] | loss: 1.1361 (avg: 1.1377) | acc: 0.5469 (avg: 0.5509) |\n"
     ]
    },
    {
     "name": "stderr",
     "output_type": "stream",
     "text": [
      "[eval] 315/1000:  31%|███▏      | 314/1000 [01:03<02:15,  5.07it/s, acc_nat=0.242, acc_rob=0.147]"
     ]
    },
    {
     "name": "stdout",
     "output_type": "stream",
     "text": [
      "Epoch 64 [0/192] | loss: 1.0608 (avg: 1.0608) | acc: 0.5938 (avg: 0.5938) |\n",
      "Epoch 64 [100/192] | loss: 1.0414 (avg: 1.1265) | acc: 0.6094 (avg: 0.5541) |\n"
     ]
    },
    {
     "name": "stderr",
     "output_type": "stream",
     "text": [
      "[eval] 1000/1000: 100%|██████████| 1000/1000 [03:17<00:00,  5.07it/s, acc_nat=0.75, acc_rob=0.436]\n"
     ]
    },
    {
     "name": "stdout",
     "output_type": "stream",
     "text": [
      "Epoch 65 [0/192] | loss: 1.0590 (avg: 1.0590) | acc: 0.5742 (avg: 0.5742) |\n",
      "Epoch 65 [100/192] | loss: 1.0761 (avg: 1.1287) | acc: 0.5820 (avg: 0.5509) |\n"
     ]
    },
    {
     "name": "stderr",
     "output_type": "stream",
     "text": [
      "[eval] 1000/1000: 100%|██████████| 1000/1000 [03:20<00:00,  4.99it/s, acc_nat=0.755, acc_rob=0.442]\n"
     ]
    },
    {
     "name": "stdout",
     "output_type": "stream",
     "text": [
      "Epoch 67 [0/192] | loss: 1.0005 (avg: 1.0005) | acc: 0.6289 (avg: 0.6289) |\n",
      "Epoch 67 [100/192] | loss: 1.1029 (avg: 1.0945) | acc: 0.5508 (avg: 0.5620) |\n"
     ]
    },
    {
     "name": "stderr",
     "output_type": "stream",
     "text": [
      "[eval] 1000/1000: 100%|██████████| 1000/1000 [03:18<00:00,  5.03it/s, acc_nat=0.734, acc_rob=0.451]\n"
     ]
    },
    {
     "name": "stdout",
     "output_type": "stream",
     "text": [
      "Epoch 68 [0/192] | loss: 1.1351 (avg: 1.1351) | acc: 0.5234 (avg: 0.5234) |\n",
      "Epoch 68 [100/192] | loss: 1.1147 (avg: 1.0854) | acc: 0.5391 (avg: 0.5645) |\n"
     ]
    },
    {
     "name": "stderr",
     "output_type": "stream",
     "text": [
      "[eval] 306/1000:  31%|███       | 306/1000 [01:01<02:18,  5.02it/s, acc_nat=0.229, acc_rob=0.127]"
     ]
    },
    {
     "name": "stdout",
     "output_type": "stream",
     "text": [
      "Epoch 70 [100/192] | loss: 0.9784 (avg: 1.0649) | acc: 0.6172 (avg: 0.5742) |\n"
     ]
    },
    {
     "name": "stderr",
     "output_type": "stream",
     "text": [
      "[eval] 1000/1000: 100%|██████████| 1000/1000 [03:20<00:00,  4.98it/s, acc_nat=0.79, acc_rob=0.431]\n"
     ]
    },
    {
     "name": "stdout",
     "output_type": "stream",
     "text": [
      "Epoch 71 [0/192] | loss: 1.0267 (avg: 1.0267) | acc: 0.5430 (avg: 0.5430) |\n",
      "Epoch 71 [100/192] | loss: 0.9598 (avg: 1.0558) | acc: 0.5859 (avg: 0.5759) |\n"
     ]
    },
    {
     "name": "stderr",
     "output_type": "stream",
     "text": [
      "[eval] 1000/1000: 100%|██████████| 1000/1000 [03:20<00:00,  4.98it/s, acc_nat=0.776, acc_rob=0.442]\n"
     ]
    },
    {
     "name": "stdout",
     "output_type": "stream",
     "text": [
      "Epoch 72 [0/192] | loss: 0.9571 (avg: 0.9571) | acc: 0.6094 (avg: 0.6094) |\n",
      "Epoch 72 [100/192] | loss: 1.0432 (avg: 1.0490) | acc: 0.5938 (avg: 0.5788) |\n"
     ]
    },
    {
     "name": "stderr",
     "output_type": "stream",
     "text": [
      "[eval] 1000/1000: 100%|██████████| 1000/1000 [03:24<00:00,  4.90it/s, acc_nat=0.743, acc_rob=0.434]\n"
     ]
    },
    {
     "name": "stdout",
     "output_type": "stream",
     "text": [
      "Epoch 74 [0/192] | loss: 0.9827 (avg: 0.9827) | acc: 0.5977 (avg: 0.5977) |\n",
      "Epoch 74 [100/192] | loss: 0.9523 (avg: 1.0265) | acc: 0.6406 (avg: 0.5852) |\n"
     ]
    },
    {
     "name": "stderr",
     "output_type": "stream",
     "text": [
      "[eval] 1000/1000: 100%|██████████| 1000/1000 [03:18<00:00,  5.05it/s, acc_nat=0.77, acc_rob=0.438]\n"
     ]
    },
    {
     "name": "stdout",
     "output_type": "stream",
     "text": [
      "Epoch 75 [0/192] | loss: 0.9447 (avg: 0.9447) | acc: 0.6328 (avg: 0.6328) |\n",
      "Epoch 75 [100/192] | loss: 1.0553 (avg: 1.0148) | acc: 0.5664 (avg: 0.5914) |\n"
     ]
    },
    {
     "name": "stderr",
     "output_type": "stream",
     "text": [
      "[eval] 1000/1000: 100%|██████████| 1000/1000 [03:19<00:00,  5.02it/s, acc_nat=0.768, acc_rob=0.437]\n"
     ]
    },
    {
     "name": "stdout",
     "output_type": "stream",
     "text": [
      "Epoch 76 [0/192] | loss: 0.9679 (avg: 0.9679) | acc: 0.6328 (avg: 0.6328) |\n",
      "Epoch 76 [100/192] | loss: 1.0651 (avg: 1.0101) | acc: 0.5312 (avg: 0.5872) |\n"
     ]
    },
    {
     "name": "stderr",
     "output_type": "stream",
     "text": [
      "[eval] 1000/1000: 100%|██████████| 1000/1000 [03:23<00:00,  4.92it/s, acc_nat=0.75, acc_rob=0.447]\n"
     ]
    },
    {
     "name": "stdout",
     "output_type": "stream",
     "text": [
      "Epoch 77 [0/192] | loss: 1.0282 (avg: 1.0282) | acc: 0.5508 (avg: 0.5508) |\n",
      "Epoch 77 [100/192] | loss: 1.0219 (avg: 0.9829) | acc: 0.5742 (avg: 0.5999) |\n"
     ]
    },
    {
     "name": "stderr",
     "output_type": "stream",
     "text": [
      "[eval] 1000/1000: 100%|██████████| 1000/1000 [03:21<00:00,  4.96it/s, acc_nat=0.771, acc_rob=0.431]\n"
     ]
    },
    {
     "name": "stdout",
     "output_type": "stream",
     "text": [
      "Epoch 78 [0/192] | loss: 0.9896 (avg: 0.9896) | acc: 0.6133 (avg: 0.6133) |\n",
      "Epoch 78 [100/192] | loss: 1.0361 (avg: 0.9840) | acc: 0.5508 (avg: 0.5998) |\n"
     ]
    },
    {
     "name": "stderr",
     "output_type": "stream",
     "text": [
      "[eval] 1000/1000: 100%|██████████| 1000/1000 [03:20<00:00,  4.99it/s, acc_nat=0.769, acc_rob=0.42]\n"
     ]
    },
    {
     "name": "stdout",
     "output_type": "stream",
     "text": [
      "Epoch 79 [0/192] | loss: 1.0092 (avg: 1.0092) | acc: 0.5508 (avg: 0.5508) |\n",
      "Epoch 79 [100/192] | loss: 0.9185 (avg: 0.9757) | acc: 0.6211 (avg: 0.6039) |\n"
     ]
    },
    {
     "name": "stderr",
     "output_type": "stream",
     "text": [
      "[eval] 1000/1000: 100%|██████████| 1000/1000 [03:19<00:00,  5.00it/s, acc_nat=0.778, acc_rob=0.445]\n"
     ]
    },
    {
     "name": "stdout",
     "output_type": "stream",
     "text": [
      "Epoch 80 [0/192] | loss: 0.9822 (avg: 0.9822) | acc: 0.5898 (avg: 0.5898) |\n",
      "Epoch 80 [100/192] | loss: 0.9955 (avg: 0.9726) | acc: 0.5938 (avg: 0.6021) |\n"
     ]
    },
    {
     "name": "stderr",
     "output_type": "stream",
     "text": [
      "[eval] 327/1000:  33%|███▎      | 326/1000 [01:06<02:16,  4.93it/s, acc_nat=0.248, acc_rob=0.139]"
     ]
    },
    {
     "name": "stdout",
     "output_type": "stream",
     "text": [
      "Epoch 81 [100/192] | loss: 0.9519 (avg: 0.9487) | acc: 0.5742 (avg: 0.6132) |\n"
     ]
    },
    {
     "name": "stderr",
     "output_type": "stream",
     "text": [
      "[eval] 1000/1000: 100%|██████████| 1000/1000 [03:19<00:00,  5.02it/s, acc_nat=0.781, acc_rob=0.421]\n"
     ]
    },
    {
     "name": "stdout",
     "output_type": "stream",
     "text": [
      "Epoch 82 [0/192] | loss: 0.7877 (avg: 0.7877) | acc: 0.6836 (avg: 0.6836) |\n",
      "Epoch 82 [100/192] | loss: 0.9537 (avg: 0.9342) | acc: 0.5820 (avg: 0.6207) |\n"
     ]
    },
    {
     "name": "stderr",
     "output_type": "stream",
     "text": [
      "[eval] 1000/1000: 100%|██████████| 1000/1000 [03:21<00:00,  4.95it/s, acc_nat=0.787, acc_rob=0.426]\n"
     ]
    },
    {
     "name": "stdout",
     "output_type": "stream",
     "text": [
      "Epoch 83 [0/192] | loss: 0.9982 (avg: 0.9982) | acc: 0.5703 (avg: 0.5703) |\n",
      "Epoch 83 [100/192] | loss: 0.9057 (avg: 0.9298) | acc: 0.6367 (avg: 0.6193) |\n"
     ]
    },
    {
     "name": "stderr",
     "output_type": "stream",
     "text": [
      "[eval] 1000/1000: 100%|██████████| 1000/1000 [03:20<00:00,  4.98it/s, acc_nat=0.746, acc_rob=0.424]\n"
     ]
    },
    {
     "name": "stdout",
     "output_type": "stream",
     "text": [
      "Epoch 84 [0/192] | loss: 0.9429 (avg: 0.9429) | acc: 0.6016 (avg: 0.6016) |\n",
      "Epoch 84 [100/192] | loss: 0.8935 (avg: 0.9240) | acc: 0.6328 (avg: 0.6208) |\n"
     ]
    },
    {
     "name": "stderr",
     "output_type": "stream",
     "text": [
      "[eval] 1000/1000: 100%|██████████| 1000/1000 [03:19<00:00,  5.01it/s, acc_nat=0.784, acc_rob=0.431]\n"
     ]
    },
    {
     "name": "stdout",
     "output_type": "stream",
     "text": [
      "Epoch 85 [0/192] | loss: 0.9140 (avg: 0.9140) | acc: 0.6367 (avg: 0.6367) |\n",
      "Epoch 85 [100/192] | loss: 0.8543 (avg: 0.9136) | acc: 0.6250 (avg: 0.6243) |\n"
     ]
    },
    {
     "name": "stderr",
     "output_type": "stream",
     "text": [
      "[eval] 1000/1000: 100%|██████████| 1000/1000 [03:21<00:00,  4.95it/s, acc_nat=0.769, acc_rob=0.444]\n"
     ]
    },
    {
     "name": "stdout",
     "output_type": "stream",
     "text": [
      "Epoch 86 [0/192] | loss: 0.9437 (avg: 0.9437) | acc: 0.6406 (avg: 0.6406) |\n",
      "Epoch 86 [100/192] | loss: 0.9068 (avg: 0.9087) | acc: 0.6367 (avg: 0.6235) |\n"
     ]
    },
    {
     "name": "stderr",
     "output_type": "stream",
     "text": [
      "[eval] 332/1000:  33%|███▎      | 331/1000 [01:05<02:21,  4.72it/s, acc_nat=0.267, acc_rob=0.14] "
     ]
    },
    {
     "name": "stdout",
     "output_type": "stream",
     "text": [
      "Epoch 87 [100/192] | loss: 0.9285 (avg: 0.8866) | acc: 0.5859 (avg: 0.6341) |\n"
     ]
    },
    {
     "name": "stderr",
     "output_type": "stream",
     "text": [
      "[eval] 1000/1000: 100%|██████████| 1000/1000 [03:18<00:00,  5.04it/s, acc_nat=0.8, acc_rob=0.447]\n"
     ]
    },
    {
     "name": "stdout",
     "output_type": "stream",
     "text": [
      "Epoch 88 [0/192] | loss: 0.8586 (avg: 0.8586) | acc: 0.6211 (avg: 0.6211) |\n",
      "Epoch 88 [100/192] | loss: 0.8445 (avg: 0.8831) | acc: 0.6641 (avg: 0.6358) |\n"
     ]
    },
    {
     "name": "stderr",
     "output_type": "stream",
     "text": [
      "[eval] 1000/1000: 100%|██████████| 1000/1000 [03:20<00:00,  4.98it/s, acc_nat=0.777, acc_rob=0.435]\n"
     ]
    },
    {
     "name": "stdout",
     "output_type": "stream",
     "text": [
      "Epoch 89 [0/192] | loss: 0.8226 (avg: 0.8226) | acc: 0.6758 (avg: 0.6758) |\n",
      "Epoch 89 [100/192] | loss: 0.8708 (avg: 0.8634) | acc: 0.6406 (avg: 0.6414) |\n"
     ]
    },
    {
     "name": "stderr",
     "output_type": "stream",
     "text": [
      "[eval] 335/1000:  33%|███▎      | 334/1000 [01:07<02:15,  4.91it/s, acc_nat=0.27, acc_rob=0.152] "
     ]
    },
    {
     "name": "stdout",
     "output_type": "stream",
     "text": [
      "Epoch 91 [100/192] | loss: 0.7893 (avg: 0.8452) | acc: 0.6523 (avg: 0.6477) |\n"
     ]
    },
    {
     "name": "stderr",
     "output_type": "stream",
     "text": [
      "[eval] 1000/1000: 100%|██████████| 1000/1000 [03:16<00:00,  5.10it/s, acc_nat=0.767, acc_rob=0.413]\n"
     ]
    },
    {
     "name": "stdout",
     "output_type": "stream",
     "text": [
      "Epoch 92 [0/192] | loss: 1.0513 (avg: 1.0513) | acc: 0.5977 (avg: 0.5977) |\n",
      "Epoch 92 [100/192] | loss: 0.7485 (avg: 0.8545) | acc: 0.7109 (avg: 0.6446) |\n"
     ]
    },
    {
     "name": "stderr",
     "output_type": "stream",
     "text": [
      "[eval] 1000/1000: 100%|██████████| 1000/1000 [03:22<00:00,  4.93it/s, acc_nat=0.782, acc_rob=0.428]\n"
     ]
    },
    {
     "name": "stdout",
     "output_type": "stream",
     "text": [
      "Epoch 93 [0/192] | loss: 0.7982 (avg: 0.7982) | acc: 0.7031 (avg: 0.7031) |\n",
      "Epoch 93 [100/192] | loss: 0.8630 (avg: 0.8382) | acc: 0.6641 (avg: 0.6526) |\n"
     ]
    },
    {
     "name": "stderr",
     "output_type": "stream",
     "text": [
      "[eval] 327/1000:  33%|███▎      | 326/1000 [01:05<02:15,  4.97it/s, acc_nat=0.272, acc_rob=0.131]"
     ]
    },
    {
     "name": "stdout",
     "output_type": "stream",
     "text": [
      "Epoch 94 [100/192] | loss: 0.8522 (avg: 0.8404) | acc: 0.6367 (avg: 0.6513) |\n"
     ]
    },
    {
     "name": "stderr",
     "output_type": "stream",
     "text": [
      "[eval] 1000/1000: 100%|██████████| 1000/1000 [03:20<00:00,  5.00it/s, acc_nat=0.776, acc_rob=0.431]\n"
     ]
    },
    {
     "name": "stdout",
     "output_type": "stream",
     "text": [
      "Epoch 95 [0/192] | loss: 0.7224 (avg: 0.7224) | acc: 0.7148 (avg: 0.7148) |\n",
      "Epoch 95 [100/192] | loss: 0.8189 (avg: 0.8074) | acc: 0.6875 (avg: 0.6609) |\n"
     ]
    },
    {
     "name": "stderr",
     "output_type": "stream",
     "text": [
      "[eval] 1000/1000: 100%|██████████| 1000/1000 [03:20<00:00,  5.00it/s, acc_nat=0.784, acc_rob=0.404]\n"
     ]
    },
    {
     "name": "stdout",
     "output_type": "stream",
     "text": [
      "Epoch 96 [0/192] | loss: 0.7467 (avg: 0.7467) | acc: 0.6953 (avg: 0.6953) |\n",
      "Epoch 96 [100/192] | loss: 0.8377 (avg: 0.8046) | acc: 0.6641 (avg: 0.6667) |\n"
     ]
    },
    {
     "name": "stderr",
     "output_type": "stream",
     "text": [
      "[eval] 327/1000:  33%|███▎      | 326/1000 [01:05<02:18,  4.88it/s, acc_nat=0.262, acc_rob=0.138]"
     ]
    },
    {
     "name": "stdout",
     "output_type": "stream",
     "text": [
      "Epoch 97 [100/192] | loss: 0.8820 (avg: 0.8067) | acc: 0.6289 (avg: 0.6605) |\n"
     ]
    },
    {
     "name": "stderr",
     "output_type": "stream",
     "text": [
      "[eval] 477/1000:  48%|████▊     | 476/1000 [01:35<01:44,  5.01it/s, acc_nat=0.37, acc_rob=0.218] "
     ]
    },
    {
     "name": "stdout",
     "output_type": "stream",
     "text": [
      "Epoch 98 [100/192] | loss: 0.9181 (avg: 0.7802) | acc: 0.6133 (avg: 0.6738) |\n"
     ]
    },
    {
     "name": "stderr",
     "output_type": "stream",
     "text": [
      "[eval] 1000/1000: 100%|██████████| 1000/1000 [03:22<00:00,  4.93it/s, acc_nat=0.8, acc_rob=0.439] \n"
     ]
    },
    {
     "name": "stdout",
     "output_type": "stream",
     "text": [
      "Epoch 100 [0/192] | loss: 0.7606 (avg: 0.7606) | acc: 0.6797 (avg: 0.6797) |\n",
      "Epoch 100 [100/192] | loss: 0.7395 (avg: 0.7617) | acc: 0.7109 (avg: 0.6845) |\n"
     ]
    },
    {
     "name": "stderr",
     "output_type": "stream",
     "text": [
      "[eval] 1000/1000: 100%|██████████| 1000/1000 [03:19<00:00,  5.00it/s, acc_nat=0.755, acc_rob=0.421]\n"
     ]
    },
    {
     "name": "stdout",
     "output_type": "stream",
     "text": [
      "Epoch 101 [0/192] | loss: 0.7634 (avg: 0.7634) | acc: 0.6562 (avg: 0.6562) |\n",
      "Epoch 101 [100/192] | loss: 0.8078 (avg: 0.7579) | acc: 0.6797 (avg: 0.6817) |\n"
     ]
    },
    {
     "name": "stderr",
     "output_type": "stream",
     "text": [
      "[eval] 1000/1000: 100%|██████████| 1000/1000 [03:19<00:00,  5.02it/s, acc_nat=0.803, acc_rob=0.42]\n"
     ]
    },
    {
     "name": "stdout",
     "output_type": "stream",
     "text": [
      "Epoch 102 [0/192] | loss: 0.6536 (avg: 0.6536) | acc: 0.7500 (avg: 0.7500) |\n",
      "Epoch 102 [100/192] | loss: 0.7524 (avg: 0.7489) | acc: 0.7031 (avg: 0.6877) |\n"
     ]
    },
    {
     "name": "stderr",
     "output_type": "stream",
     "text": [
      "[eval] 1000/1000: 100%|██████████| 1000/1000 [03:21<00:00,  4.96it/s, acc_nat=0.795, acc_rob=0.412]\n"
     ]
    },
    {
     "name": "stdout",
     "output_type": "stream",
     "text": [
      "Epoch 103 [0/192] | loss: 0.7725 (avg: 0.7725) | acc: 0.6641 (avg: 0.6641) |\n",
      "Epoch 103 [100/192] | loss: 0.7559 (avg: 0.7392) | acc: 0.6758 (avg: 0.6885) |\n"
     ]
    },
    {
     "name": "stderr",
     "output_type": "stream",
     "text": [
      "[eval] 1000/1000: 100%|██████████| 1000/1000 [03:22<00:00,  4.93it/s, acc_nat=0.795, acc_rob=0.408]\n"
     ]
    },
    {
     "name": "stdout",
     "output_type": "stream",
     "text": [
      "Epoch 104 [0/192] | loss: 0.6752 (avg: 0.6752) | acc: 0.7500 (avg: 0.7500) |\n",
      "Epoch 104 [100/192] | loss: 0.7733 (avg: 0.7391) | acc: 0.6445 (avg: 0.6860) |\n"
     ]
    },
    {
     "name": "stderr",
     "output_type": "stream",
     "text": [
      "[eval] 1000/1000: 100%|██████████| 1000/1000 [03:18<00:00,  5.04it/s, acc_nat=0.788, acc_rob=0.429]\n"
     ]
    },
    {
     "name": "stdout",
     "output_type": "stream",
     "text": [
      "Epoch 105 [0/192] | loss: 0.6365 (avg: 0.6365) | acc: 0.7188 (avg: 0.7188) |\n",
      "Epoch 105 [100/192] | loss: 0.6958 (avg: 0.7144) | acc: 0.6953 (avg: 0.6977) |\n"
     ]
    },
    {
     "name": "stderr",
     "output_type": "stream",
     "text": [
      "[eval] 1000/1000: 100%|██████████| 1000/1000 [03:20<00:00,  4.98it/s, acc_nat=0.791, acc_rob=0.425]\n"
     ]
    },
    {
     "name": "stdout",
     "output_type": "stream",
     "text": [
      "Epoch 106 [0/192] | loss: 0.6593 (avg: 0.6593) | acc: 0.6992 (avg: 0.6992) |\n",
      "Epoch 106 [100/192] | loss: 0.6286 (avg: 0.7065) | acc: 0.7461 (avg: 0.7015) |\n"
     ]
    },
    {
     "name": "stderr",
     "output_type": "stream",
     "text": [
      "[eval] 1000/1000: 100%|██████████| 1000/1000 [03:22<00:00,  4.93it/s, acc_nat=0.769, acc_rob=0.419]\n"
     ]
    },
    {
     "name": "stdout",
     "output_type": "stream",
     "text": [
      "Epoch 107 [0/192] | loss: 0.6820 (avg: 0.6820) | acc: 0.7344 (avg: 0.7344) |\n",
      "Epoch 107 [100/192] | loss: 0.7910 (avg: 0.7046) | acc: 0.6836 (avg: 0.7014) |\n"
     ]
    },
    {
     "name": "stderr",
     "output_type": "stream",
     "text": [
      "[eval] 549/1000:  55%|█████▍    | 548/1000 [01:50<01:29,  5.07it/s, acc_nat=0.437, acc_rob=0.212]"
     ]
    },
    {
     "name": "stdout",
     "output_type": "stream",
     "text": [
      "Epoch 108 [100/192] | loss: 0.6855 (avg: 0.7054) | acc: 0.7148 (avg: 0.7051) |\n"
     ]
    },
    {
     "name": "stderr",
     "output_type": "stream",
     "text": [
      "[eval] 1000/1000: 100%|██████████| 1000/1000 [03:20<00:00,  4.99it/s, acc_nat=0.785, acc_rob=0.423]\n"
     ]
    },
    {
     "name": "stdout",
     "output_type": "stream",
     "text": [
      "Epoch 110 [0/192] | loss: 0.6922 (avg: 0.6922) | acc: 0.7305 (avg: 0.7305) |\n",
      "Epoch 110 [100/192] | loss: 0.7010 (avg: 0.6840) | acc: 0.6797 (avg: 0.7063) |\n"
     ]
    },
    {
     "name": "stderr",
     "output_type": "stream",
     "text": [
      "[eval] 1000/1000: 100%|██████████| 1000/1000 [03:25<00:00,  4.86it/s, acc_nat=0.8, acc_rob=0.415] \n"
     ]
    },
    {
     "name": "stdout",
     "output_type": "stream",
     "text": [
      "Epoch 111 [0/192] | loss: 0.6504 (avg: 0.6504) | acc: 0.7148 (avg: 0.7148) |\n",
      "Epoch 111 [100/192] | loss: 0.7260 (avg: 0.6770) | acc: 0.7148 (avg: 0.7132) |\n"
     ]
    },
    {
     "name": "stderr",
     "output_type": "stream",
     "text": [
      "[eval] 1000/1000: 100%|██████████| 1000/1000 [03:22<00:00,  4.93it/s, acc_nat=0.772, acc_rob=0.405]\n"
     ]
    },
    {
     "name": "stdout",
     "output_type": "stream",
     "text": [
      "Epoch 112 [0/192] | loss: 0.6380 (avg: 0.6380) | acc: 0.7461 (avg: 0.7461) |\n",
      "Epoch 112 [100/192] | loss: 0.6663 (avg: 0.6631) | acc: 0.7227 (avg: 0.7201) |\n"
     ]
    },
    {
     "name": "stderr",
     "output_type": "stream",
     "text": [
      "[eval] 1000/1000: 100%|██████████| 1000/1000 [03:17<00:00,  5.05it/s, acc_nat=0.816, acc_rob=0.407]\n"
     ]
    },
    {
     "name": "stdout",
     "output_type": "stream",
     "text": [
      "Epoch 113 [0/192] | loss: 0.7294 (avg: 0.7294) | acc: 0.6992 (avg: 0.6992) |\n",
      "Epoch 113 [100/192] | loss: 0.7240 (avg: 0.6474) | acc: 0.6914 (avg: 0.7248) |\n"
     ]
    },
    {
     "name": "stderr",
     "output_type": "stream",
     "text": [
      "[eval] 1000/1000: 100%|██████████| 1000/1000 [03:19<00:00,  5.01it/s, acc_nat=0.784, acc_rob=0.405]\n"
     ]
    },
    {
     "name": "stdout",
     "output_type": "stream",
     "text": [
      "Epoch 114 [0/192] | loss: 0.5857 (avg: 0.5857) | acc: 0.7188 (avg: 0.7188) |\n",
      "Epoch 114 [100/192] | loss: 0.5860 (avg: 0.6505) | acc: 0.7617 (avg: 0.7215) |\n"
     ]
    },
    {
     "name": "stderr",
     "output_type": "stream",
     "text": [
      "[eval] 1000/1000: 100%|██████████| 1000/1000 [03:21<00:00,  4.97it/s, acc_nat=0.765, acc_rob=0.425]\n"
     ]
    },
    {
     "name": "stdout",
     "output_type": "stream",
     "text": [
      "Epoch 115 [0/192] | loss: 0.6167 (avg: 0.6167) | acc: 0.7461 (avg: 0.7461) |\n",
      "Epoch 115 [100/192] | loss: 0.6632 (avg: 0.6416) | acc: 0.7031 (avg: 0.7252) |\n"
     ]
    },
    {
     "name": "stderr",
     "output_type": "stream",
     "text": [
      "[eval] 1000/1000: 100%|██████████| 1000/1000 [03:19<00:00,  5.02it/s, acc_nat=0.804, acc_rob=0.417]\n"
     ]
    },
    {
     "name": "stdout",
     "output_type": "stream",
     "text": [
      "Epoch 116 [0/192] | loss: 0.5786 (avg: 0.5786) | acc: 0.7461 (avg: 0.7461) |\n",
      "Epoch 116 [100/192] | loss: 0.7085 (avg: 0.6243) | acc: 0.7109 (avg: 0.7334) |\n"
     ]
    },
    {
     "name": "stderr",
     "output_type": "stream",
     "text": [
      "[eval] 1000/1000: 100%|██████████| 1000/1000 [03:22<00:00,  4.95it/s, acc_nat=0.797, acc_rob=0.405]\n"
     ]
    },
    {
     "name": "stdout",
     "output_type": "stream",
     "text": [
      "Epoch 117 [0/192] | loss: 0.5656 (avg: 0.5656) | acc: 0.7734 (avg: 0.7734) |\n",
      "Epoch 117 [100/192] | loss: 0.6147 (avg: 0.6385) | acc: 0.7148 (avg: 0.7274) |\n"
     ]
    },
    {
     "name": "stderr",
     "output_type": "stream",
     "text": [
      "[eval] 1000/1000: 100%|██████████| 1000/1000 [03:22<00:00,  4.95it/s, acc_nat=0.796, acc_rob=0.413]\n"
     ]
    },
    {
     "name": "stdout",
     "output_type": "stream",
     "text": [
      "Epoch 118 [0/192] | loss: 0.5860 (avg: 0.5860) | acc: 0.7422 (avg: 0.7422) |\n",
      "Epoch 118 [100/192] | loss: 0.7320 (avg: 0.6111) | acc: 0.6719 (avg: 0.7394) |\n"
     ]
    },
    {
     "name": "stderr",
     "output_type": "stream",
     "text": [
      "[eval] 1000/1000: 100%|██████████| 1000/1000 [03:23<00:00,  4.90it/s, acc_nat=0.789, acc_rob=0.407]\n"
     ]
    },
    {
     "name": "stdout",
     "output_type": "stream",
     "text": [
      "Epoch 119 [0/192] | loss: 0.5198 (avg: 0.5198) | acc: 0.8008 (avg: 0.8008) |\n",
      "Epoch 119 [100/192] | loss: 0.6314 (avg: 0.6138) | acc: 0.7422 (avg: 0.7367) |\n"
     ]
    },
    {
     "name": "stderr",
     "output_type": "stream",
     "text": [
      "[eval] 545/1000:  55%|█████▍    | 545/1000 [01:48<01:30,  5.03it/s, acc_nat=0.431, acc_rob=0.221]"
     ]
    },
    {
     "name": "stdout",
     "output_type": "stream",
     "text": [
      "Epoch 120 [100/192] | loss: 0.6980 (avg: 0.5996) | acc: 0.7031 (avg: 0.7442) |\n"
     ]
    },
    {
     "name": "stderr",
     "output_type": "stream",
     "text": [
      "[eval] 315/1000:  31%|███▏      | 314/1000 [01:02<02:14,  5.09it/s, acc_nat=0.248, acc_rob=0.119]"
     ]
    },
    {
     "name": "stdout",
     "output_type": "stream",
     "text": [
      "Epoch 122 [100/192] | loss: 0.6236 (avg: 0.5889) | acc: 0.7188 (avg: 0.7444) |\n"
     ]
    },
    {
     "name": "stderr",
     "output_type": "stream",
     "text": [
      "[eval] 1000/1000: 100%|██████████| 1000/1000 [03:20<00:00,  5.00it/s, acc_nat=0.778, acc_rob=0.417]\n"
     ]
    },
    {
     "name": "stdout",
     "output_type": "stream",
     "text": [
      "Epoch 123 [0/192] | loss: 0.6159 (avg: 0.6159) | acc: 0.7539 (avg: 0.7539) |\n",
      "Epoch 123 [100/192] | loss: 0.4962 (avg: 0.5742) | acc: 0.8008 (avg: 0.7547) |\n"
     ]
    },
    {
     "name": "stderr",
     "output_type": "stream",
     "text": [
      "[eval] 1000/1000: 100%|██████████| 1000/1000 [03:20<00:00,  4.99it/s, acc_nat=0.792, acc_rob=0.418]\n"
     ]
    },
    {
     "name": "stdout",
     "output_type": "stream",
     "text": [
      "Epoch 124 [0/192] | loss: 0.5894 (avg: 0.5894) | acc: 0.7773 (avg: 0.7773) |\n",
      "Epoch 124 [100/192] | loss: 0.5258 (avg: 0.5688) | acc: 0.7812 (avg: 0.7573) |\n"
     ]
    },
    {
     "name": "stderr",
     "output_type": "stream",
     "text": [
      "[eval] 1000/1000: 100%|██████████| 1000/1000 [03:23<00:00,  4.92it/s, acc_nat=0.803, acc_rob=0.388]\n"
     ]
    },
    {
     "name": "stdout",
     "output_type": "stream",
     "text": [
      "Epoch 125 [0/192] | loss: 0.5053 (avg: 0.5053) | acc: 0.7969 (avg: 0.7969) |\n",
      "Epoch 125 [100/192] | loss: 0.5614 (avg: 0.5639) | acc: 0.7617 (avg: 0.7587) |\n"
     ]
    },
    {
     "name": "stderr",
     "output_type": "stream",
     "text": [
      "[eval] 306/1000:  31%|███       | 306/1000 [01:01<02:19,  4.97it/s, acc_nat=0.238, acc_rob=0.118]"
     ]
    },
    {
     "name": "stdout",
     "output_type": "stream",
     "text": [
      "Epoch 127 [100/192] | loss: 0.4319 (avg: 0.5587) | acc: 0.8281 (avg: 0.7616) |\n"
     ]
    },
    {
     "name": "stderr",
     "output_type": "stream",
     "text": [
      "[eval] 504/1000:  50%|█████     | 503/1000 [01:39<01:38,  5.05it/s, acc_nat=0.393, acc_rob=0.193]"
     ]
    },
    {
     "name": "stdout",
     "output_type": "stream",
     "text": [
      "Epoch 128 [100/192] | loss: 0.6025 (avg: 0.5422) | acc: 0.7734 (avg: 0.7658) |\n"
     ]
    },
    {
     "name": "stderr",
     "output_type": "stream",
     "text": [
      "[eval] 1000/1000: 100%|██████████| 1000/1000 [03:18<00:00,  5.04it/s, acc_nat=0.785, acc_rob=0.407]\n"
     ]
    },
    {
     "name": "stdout",
     "output_type": "stream",
     "text": [
      "Epoch 129 [0/192] | loss: 0.5220 (avg: 0.5220) | acc: 0.7578 (avg: 0.7578) |\n",
      "Epoch 129 [100/192] | loss: 0.5525 (avg: 0.5300) | acc: 0.7383 (avg: 0.7695) |\n"
     ]
    },
    {
     "name": "stderr",
     "output_type": "stream",
     "text": [
      "[eval] 1000/1000: 100%|██████████| 1000/1000 [03:19<00:00,  5.02it/s, acc_nat=0.799, acc_rob=0.396]\n"
     ]
    },
    {
     "name": "stdout",
     "output_type": "stream",
     "text": [
      "Epoch 130 [0/192] | loss: 0.4275 (avg: 0.4275) | acc: 0.8242 (avg: 0.8242) |\n",
      "Epoch 130 [100/192] | loss: 0.5411 (avg: 0.5361) | acc: 0.7773 (avg: 0.7664) |\n"
     ]
    },
    {
     "name": "stderr",
     "output_type": "stream",
     "text": [
      "[eval] 524/1000:  52%|█████▏    | 523/1000 [01:45<01:40,  4.75it/s, acc_nat=0.414, acc_rob=0.207]"
     ]
    },
    {
     "name": "stdout",
     "output_type": "stream",
     "text": [
      "Epoch 131 [100/192] | loss: 0.5269 (avg: 0.5382) | acc: 0.7891 (avg: 0.7700) |\n"
     ]
    },
    {
     "name": "stderr",
     "output_type": "stream",
     "text": [
      "[eval] 326/1000:  33%|███▎      | 326/1000 [01:05<02:14,  5.02it/s, acc_nat=0.257, acc_rob=0.127]"
     ]
    },
    {
     "name": "stdout",
     "output_type": "stream",
     "text": [
      "Epoch 133 [100/192] | loss: 0.4682 (avg: 0.5178) | acc: 0.7891 (avg: 0.7758) |\n"
     ]
    },
    {
     "name": "stderr",
     "output_type": "stream",
     "text": [
      "[eval] 434/1000:  43%|████▎     | 433/1000 [01:27<01:57,  4.83it/s, acc_nat=0.338, acc_rob=0.161]"
     ]
    },
    {
     "name": "stdout",
     "output_type": "stream",
     "text": [
      "Epoch 134 [100/192] | loss: 0.5195 (avg: 0.5101) | acc: 0.7852 (avg: 0.7818) |\n"
     ]
    },
    {
     "name": "stderr",
     "output_type": "stream",
     "text": [
      "[eval] 1000/1000: 100%|██████████| 1000/1000 [03:18<00:00,  5.03it/s, acc_nat=0.771, acc_rob=0.372]\n"
     ]
    },
    {
     "name": "stdout",
     "output_type": "stream",
     "text": [
      "Epoch 135 [0/192] | loss: 0.5822 (avg: 0.5822) | acc: 0.7461 (avg: 0.7461) |\n",
      "Epoch 135 [100/192] | loss: 0.4839 (avg: 0.5045) | acc: 0.7891 (avg: 0.7860) |\n"
     ]
    },
    {
     "name": "stderr",
     "output_type": "stream",
     "text": [
      "[eval] 327/1000:  33%|███▎      | 326/1000 [01:07<02:17,  4.90it/s, acc_nat=0.261, acc_rob=0.129]"
     ]
    },
    {
     "name": "stdout",
     "output_type": "stream",
     "text": [
      "Epoch 136 [100/192] | loss: 0.4953 (avg: 0.4939) | acc: 0.7812 (avg: 0.7848) |\n"
     ]
    },
    {
     "name": "stderr",
     "output_type": "stream",
     "text": [
      "[eval] 1000/1000: 100%|██████████| 1000/1000 [03:18<00:00,  5.03it/s, acc_nat=0.787, acc_rob=0.401]\n"
     ]
    },
    {
     "name": "stdout",
     "output_type": "stream",
     "text": [
      "Epoch 137 [0/192] | loss: 0.4718 (avg: 0.4718) | acc: 0.7969 (avg: 0.7969) |\n",
      "Epoch 137 [100/192] | loss: 0.4793 (avg: 0.4922) | acc: 0.8086 (avg: 0.7841) |\n"
     ]
    },
    {
     "name": "stderr",
     "output_type": "stream",
     "text": [
      "[eval] 1000/1000: 100%|██████████| 1000/1000 [03:23<00:00,  4.91it/s, acc_nat=0.789, acc_rob=0.404]\n"
     ]
    },
    {
     "name": "stdout",
     "output_type": "stream",
     "text": [
      "Epoch 138 [0/192] | loss: 0.4364 (avg: 0.4364) | acc: 0.8242 (avg: 0.8242) |\n",
      "Epoch 138 [100/192] | loss: 0.4713 (avg: 0.4863) | acc: 0.8164 (avg: 0.7884) |\n"
     ]
    },
    {
     "name": "stderr",
     "output_type": "stream",
     "text": [
      "[eval] 1000/1000: 100%|██████████| 1000/1000 [03:21<00:00,  4.96it/s, acc_nat=0.772, acc_rob=0.407]\n"
     ]
    },
    {
     "name": "stdout",
     "output_type": "stream",
     "text": [
      "Epoch 139 [0/192] | loss: 0.4784 (avg: 0.4784) | acc: 0.8203 (avg: 0.8203) |\n",
      "Epoch 139 [100/192] | loss: 0.5137 (avg: 0.4807) | acc: 0.7773 (avg: 0.7910) |\n"
     ]
    },
    {
     "name": "stderr",
     "output_type": "stream",
     "text": [
      "[eval] 365/1000:  36%|███▋      | 364/1000 [01:12<02:04,  5.10it/s, acc_nat=0.287, acc_rob=0.142]"
     ]
    },
    {
     "name": "stdout",
     "output_type": "stream",
     "text": [
      "Epoch 140 [100/192] | loss: 0.4734 (avg: 0.4668) | acc: 0.8047 (avg: 0.7985) |\n"
     ]
    },
    {
     "name": "stderr",
     "output_type": "stream",
     "text": [
      "[eval] 1000/1000: 100%|██████████| 1000/1000 [03:19<00:00,  5.01it/s, acc_nat=0.782, acc_rob=0.399]\n"
     ]
    },
    {
     "name": "stdout",
     "output_type": "stream",
     "text": [
      "Epoch 142 [0/192] | loss: 0.4789 (avg: 0.4789) | acc: 0.7852 (avg: 0.7852) |\n",
      "Epoch 142 [100/192] | loss: 0.4642 (avg: 0.4606) | acc: 0.8008 (avg: 0.8009) |\n"
     ]
    },
    {
     "name": "stderr",
     "output_type": "stream",
     "text": [
      "[eval] 1000/1000: 100%|██████████| 1000/1000 [03:18<00:00,  5.04it/s, acc_nat=0.787, acc_rob=0.408]\n"
     ]
    },
    {
     "name": "stdout",
     "output_type": "stream",
     "text": [
      "Epoch 143 [0/192] | loss: 0.4887 (avg: 0.4887) | acc: 0.7656 (avg: 0.7656) |\n",
      "Epoch 143 [100/192] | loss: 0.4529 (avg: 0.4512) | acc: 0.7773 (avg: 0.8028) |\n"
     ]
    },
    {
     "name": "stderr",
     "output_type": "stream",
     "text": [
      "[eval] 1000/1000: 100%|██████████| 1000/1000 [03:23<00:00,  4.92it/s, acc_nat=0.803, acc_rob=0.372]\n"
     ]
    },
    {
     "name": "stdout",
     "output_type": "stream",
     "text": [
      "Epoch 144 [0/192] | loss: 0.3702 (avg: 0.3702) | acc: 0.8398 (avg: 0.8398) |\n",
      "Epoch 144 [100/192] | loss: 0.4313 (avg: 0.4529) | acc: 0.8086 (avg: 0.8036) |\n"
     ]
    },
    {
     "name": "stderr",
     "output_type": "stream",
     "text": [
      "[eval] 327/1000:  33%|███▎      | 326/1000 [01:06<02:18,  4.86it/s, acc_nat=0.264, acc_rob=0.138]"
     ]
    },
    {
     "name": "stdout",
     "output_type": "stream",
     "text": [
      "Epoch 146 [100/192] | loss: 0.4691 (avg: 0.4460) | acc: 0.7969 (avg: 0.8054) |\n"
     ]
    },
    {
     "name": "stderr",
     "output_type": "stream",
     "text": [
      "[eval] 1000/1000: 100%|██████████| 1000/1000 [03:22<00:00,  4.94it/s, acc_nat=0.804, acc_rob=0.384]\n"
     ]
    },
    {
     "name": "stdout",
     "output_type": "stream",
     "text": [
      "Epoch 147 [0/192] | loss: 0.3804 (avg: 0.3804) | acc: 0.8477 (avg: 0.8477) |\n",
      "Epoch 147 [100/192] | loss: 0.3848 (avg: 0.4321) | acc: 0.8594 (avg: 0.8139) |\n"
     ]
    },
    {
     "name": "stderr",
     "output_type": "stream",
     "text": [
      "[eval] 1000/1000: 100%|██████████| 1000/1000 [03:19<00:00,  5.02it/s, acc_nat=0.815, acc_rob=0.401]\n"
     ]
    },
    {
     "name": "stdout",
     "output_type": "stream",
     "text": [
      "Epoch 148 [0/192] | loss: 0.3694 (avg: 0.3694) | acc: 0.8359 (avg: 0.8359) |\n",
      "Epoch 148 [100/192] | loss: 0.3819 (avg: 0.4315) | acc: 0.8555 (avg: 0.8164) |\n"
     ]
    },
    {
     "name": "stderr",
     "output_type": "stream",
     "text": [
      "[eval] 1000/1000: 100%|██████████| 1000/1000 [03:20<00:00,  5.00it/s, acc_nat=0.787, acc_rob=0.388]\n"
     ]
    },
    {
     "name": "stdout",
     "output_type": "stream",
     "text": [
      "Epoch 149 [0/192] | loss: 0.4315 (avg: 0.4315) | acc: 0.8203 (avg: 0.8203) |\n",
      "Epoch 149 [100/192] | loss: 0.3815 (avg: 0.4283) | acc: 0.8203 (avg: 0.8144) |\n"
     ]
    },
    {
     "name": "stderr",
     "output_type": "stream",
     "text": [
      "[eval] 1000/1000: 100%|██████████| 1000/1000 [03:22<00:00,  4.94it/s, acc_nat=0.773, acc_rob=0.396]\n"
     ]
    },
    {
     "name": "stdout",
     "output_type": "stream",
     "text": [
      "Epoch 150 [0/192] | loss: 0.3679 (avg: 0.3679) | acc: 0.8203 (avg: 0.8203) |\n",
      "Epoch 150 [100/192] | loss: 0.4836 (avg: 0.4179) | acc: 0.7734 (avg: 0.8193) |\n"
     ]
    },
    {
     "name": "stderr",
     "output_type": "stream",
     "text": [
      "[eval] 1000/1000: 100%|██████████| 1000/1000 [03:21<00:00,  4.97it/s, acc_nat=0.783, acc_rob=0.379]\n"
     ]
    },
    {
     "name": "stdout",
     "output_type": "stream",
     "text": [
      "Epoch 151 [0/192] | loss: 0.4360 (avg: 0.4360) | acc: 0.8281 (avg: 0.8281) |\n",
      "Epoch 151 [100/192] | loss: 0.4210 (avg: 0.4160) | acc: 0.7969 (avg: 0.8189) |\n"
     ]
    },
    {
     "name": "stderr",
     "output_type": "stream",
     "text": [
      "[eval] 1000/1000: 100%|██████████| 1000/1000 [03:18<00:00,  5.03it/s, acc_nat=0.809, acc_rob=0.394]\n"
     ]
    },
    {
     "name": "stdout",
     "output_type": "stream",
     "text": [
      "Epoch 152 [0/192] | loss: 0.3352 (avg: 0.3352) | acc: 0.8711 (avg: 0.8711) |\n",
      "Epoch 152 [100/192] | loss: 0.4485 (avg: 0.4021) | acc: 0.8086 (avg: 0.8291) |\n"
     ]
    },
    {
     "name": "stderr",
     "output_type": "stream",
     "text": [
      "[eval] 1000/1000: 100%|██████████| 1000/1000 [03:18<00:00,  5.04it/s, acc_nat=0.811, acc_rob=0.403]\n"
     ]
    },
    {
     "name": "stdout",
     "output_type": "stream",
     "text": [
      "Epoch 153 [0/192] | loss: 0.4451 (avg: 0.4451) | acc: 0.8125 (avg: 0.8125) |\n",
      "Epoch 153 [100/192] | loss: 0.3995 (avg: 0.4085) | acc: 0.8477 (avg: 0.8227) |\n"
     ]
    },
    {
     "name": "stderr",
     "output_type": "stream",
     "text": [
      "[eval] 1000/1000: 100%|██████████| 1000/1000 [03:19<00:00,  5.02it/s, acc_nat=0.793, acc_rob=0.398]\n"
     ]
    },
    {
     "name": "stdout",
     "output_type": "stream",
     "text": [
      "Epoch 154 [0/192] | loss: 0.4148 (avg: 0.4148) | acc: 0.8398 (avg: 0.8398) |\n",
      "Epoch 154 [100/192] | loss: 0.3881 (avg: 0.3933) | acc: 0.8555 (avg: 0.8313) |\n"
     ]
    },
    {
     "name": "stderr",
     "output_type": "stream",
     "text": [
      "[eval] 321/1000:  32%|███▏      | 321/1000 [01:03<02:24,  4.71it/s, acc_nat=0.257, acc_rob=0.129]"
     ]
    },
    {
     "name": "stdout",
     "output_type": "stream",
     "text": [
      "Epoch 155 [100/192] | loss: 0.3615 (avg: 0.3854) | acc: 0.8086 (avg: 0.8323) |\n"
     ]
    },
    {
     "name": "stderr",
     "output_type": "stream",
     "text": [
      "[eval] 1000/1000: 100%|██████████| 1000/1000 [03:22<00:00,  4.94it/s, acc_nat=0.783, acc_rob=0.393]\n"
     ]
    },
    {
     "name": "stdout",
     "output_type": "stream",
     "text": [
      "Epoch 156 [0/192] | loss: 0.3793 (avg: 0.3793) | acc: 0.8633 (avg: 0.8633) |\n",
      "Epoch 156 [100/192] | loss: 0.4129 (avg: 0.3942) | acc: 0.8242 (avg: 0.8291) |\n"
     ]
    },
    {
     "name": "stderr",
     "output_type": "stream",
     "text": [
      "[eval] 1000/1000: 100%|██████████| 1000/1000 [03:19<00:00,  5.01it/s, acc_nat=0.79, acc_rob=0.401]\n"
     ]
    },
    {
     "name": "stdout",
     "output_type": "stream",
     "text": [
      "Epoch 157 [0/192] | loss: 0.3847 (avg: 0.3847) | acc: 0.8359 (avg: 0.8359) |\n",
      "Epoch 157 [100/192] | loss: 0.4196 (avg: 0.3738) | acc: 0.8242 (avg: 0.8360) |\n"
     ]
    },
    {
     "name": "stderr",
     "output_type": "stream",
     "text": [
      "[eval] 1000/1000: 100%|██████████| 1000/1000 [03:22<00:00,  4.95it/s, acc_nat=0.79, acc_rob=0.394]\n"
     ]
    },
    {
     "name": "stdout",
     "output_type": "stream",
     "text": [
      "Epoch 159 [0/192] | loss: 0.3341 (avg: 0.3341) | acc: 0.8398 (avg: 0.8398) |\n",
      "Epoch 159 [100/192] | loss: 0.3500 (avg: 0.3743) | acc: 0.8711 (avg: 0.8358) |\n"
     ]
    },
    {
     "name": "stderr",
     "output_type": "stream",
     "text": [
      "[eval] 1000/1000: 100%|██████████| 1000/1000 [03:23<00:00,  4.92it/s, acc_nat=0.805, acc_rob=0.4] \n"
     ]
    },
    {
     "name": "stdout",
     "output_type": "stream",
     "text": [
      "Epoch 160 [0/192] | loss: 0.3455 (avg: 0.3455) | acc: 0.8516 (avg: 0.8516) |\n",
      "Epoch 160 [100/192] | loss: 0.4176 (avg: 0.3664) | acc: 0.8398 (avg: 0.8410) |\n"
     ]
    },
    {
     "name": "stderr",
     "output_type": "stream",
     "text": [
      "[eval] 1000/1000: 100%|██████████| 1000/1000 [03:24<00:00,  4.90it/s, acc_nat=0.801, acc_rob=0.381]\n"
     ]
    },
    {
     "name": "stdout",
     "output_type": "stream",
     "text": [
      "Epoch 161 [0/192] | loss: 0.3393 (avg: 0.3393) | acc: 0.8633 (avg: 0.8633) |\n",
      "Epoch 161 [100/192] | loss: 0.4614 (avg: 0.3683) | acc: 0.7773 (avg: 0.8422) |\n"
     ]
    },
    {
     "name": "stderr",
     "output_type": "stream",
     "text": [
      "[eval] 1000/1000: 100%|██████████| 1000/1000 [03:23<00:00,  4.92it/s, acc_nat=0.796, acc_rob=0.384]\n"
     ]
    },
    {
     "name": "stdout",
     "output_type": "stream",
     "text": [
      "Epoch 163 [0/192] | loss: 0.3249 (avg: 0.3249) | acc: 0.8359 (avg: 0.8359) |\n",
      "Epoch 163 [100/192] | loss: 0.3511 (avg: 0.3627) | acc: 0.8438 (avg: 0.8426) |\n"
     ]
    },
    {
     "name": "stderr",
     "output_type": "stream",
     "text": [
      "[eval] 1000/1000: 100%|██████████| 1000/1000 [03:21<00:00,  4.96it/s, acc_nat=0.798, acc_rob=0.387]\n"
     ]
    },
    {
     "name": "stdout",
     "output_type": "stream",
     "text": [
      "Epoch 164 [0/192] | loss: 0.3241 (avg: 0.3241) | acc: 0.8750 (avg: 0.8750) |\n",
      "Epoch 164 [100/192] | loss: 0.3543 (avg: 0.3640) | acc: 0.8438 (avg: 0.8428) |\n"
     ]
    },
    {
     "name": "stderr",
     "output_type": "stream",
     "text": [
      "[eval] 335/1000:  34%|███▎      | 335/1000 [01:07<02:14,  4.96it/s, acc_nat=0.279, acc_rob=0.131]"
     ]
    },
    {
     "name": "stdout",
     "output_type": "stream",
     "text": [
      "Epoch 165 [0/192] | loss: 0.2907 (avg: 0.2907) | acc: 0.8867 (avg: 0.8867) |\n",
      "Epoch 165 [100/192] | loss: 0.3138 (avg: 0.3490) | acc: 0.8477 (avg: 0.8467) |\n"
     ]
    },
    {
     "name": "stderr",
     "output_type": "stream",
     "text": [
      "[eval] 1000/1000: 100%|██████████| 1000/1000 [03:20<00:00,  4.99it/s, acc_nat=0.799, acc_rob=0.4]\n"
     ]
    },
    {
     "name": "stdout",
     "output_type": "stream",
     "text": [
      "Epoch 167 [0/192] | loss: 0.3249 (avg: 0.3249) | acc: 0.8555 (avg: 0.8555) |\n",
      "Epoch 167 [100/192] | loss: 0.2643 (avg: 0.3407) | acc: 0.9102 (avg: 0.8515) |\n"
     ]
    },
    {
     "name": "stderr",
     "output_type": "stream",
     "text": [
      "[eval] 1000/1000: 100%|██████████| 1000/1000 [03:21<00:00,  4.97it/s, acc_nat=0.792, acc_rob=0.385]\n"
     ]
    },
    {
     "name": "stdout",
     "output_type": "stream",
     "text": [
      "Epoch 168 [0/192] | loss: 0.3841 (avg: 0.3841) | acc: 0.8281 (avg: 0.8281) |\n",
      "Epoch 168 [100/192] | loss: 0.3251 (avg: 0.3458) | acc: 0.8398 (avg: 0.8502) |\n"
     ]
    },
    {
     "name": "stderr",
     "output_type": "stream",
     "text": [
      "[eval] 1000/1000: 100%|██████████| 1000/1000 [03:24<00:00,  4.90it/s, acc_nat=0.781, acc_rob=0.382]\n"
     ]
    },
    {
     "name": "stdout",
     "output_type": "stream",
     "text": [
      "Epoch 169 [0/192] | loss: 0.4129 (avg: 0.4129) | acc: 0.8438 (avg: 0.8438) |\n",
      "Epoch 169 [100/192] | loss: 0.3015 (avg: 0.3349) | acc: 0.8711 (avg: 0.8571) |\n"
     ]
    },
    {
     "name": "stderr",
     "output_type": "stream",
     "text": [
      "[eval] 467/1000:  47%|████▋     | 466/1000 [01:33<01:45,  5.07it/s, acc_nat=0.37, acc_rob=0.173] "
     ]
    },
    {
     "name": "stdout",
     "output_type": "stream",
     "text": [
      "Epoch 170 [100/192] | loss: 0.3341 (avg: 0.3218) | acc: 0.8438 (avg: 0.8627) |\n"
     ]
    },
    {
     "name": "stderr",
     "output_type": "stream",
     "text": [
      "[eval] 1000/1000: 100%|██████████| 1000/1000 [03:23<00:00,  4.92it/s, acc_nat=0.806, acc_rob=0.394]\n"
     ]
    },
    {
     "name": "stdout",
     "output_type": "stream",
     "text": [
      "Epoch 171 [0/192] | loss: 0.3114 (avg: 0.3114) | acc: 0.8867 (avg: 0.8867) |\n",
      "Epoch 171 [100/192] | loss: 0.3853 (avg: 0.3289) | acc: 0.8242 (avg: 0.8569) |\n"
     ]
    },
    {
     "name": "stderr",
     "output_type": "stream",
     "text": [
      "[eval] 1000/1000: 100%|██████████| 1000/1000 [03:24<00:00,  4.90it/s, acc_nat=0.798, acc_rob=0.385]\n"
     ]
    },
    {
     "name": "stdout",
     "output_type": "stream",
     "text": [
      "Epoch 173 [0/192] | loss: 0.3289 (avg: 0.3289) | acc: 0.8672 (avg: 0.8672) |\n",
      "Epoch 173 [100/192] | loss: 0.3017 (avg: 0.3151) | acc: 0.8672 (avg: 0.8614) |\n"
     ]
    },
    {
     "name": "stderr",
     "output_type": "stream",
     "text": [
      "[eval] 327/1000:  33%|███▎      | 326/1000 [01:04<02:14,  5.01it/s, acc_nat=0.258, acc_rob=0.121]"
     ]
    },
    {
     "name": "stdout",
     "output_type": "stream",
     "text": [
      "Epoch 175 [100/192] | loss: 0.2777 (avg: 0.3180) | acc: 0.8828 (avg: 0.8634) |\n"
     ]
    },
    {
     "name": "stderr",
     "output_type": "stream",
     "text": [
      "[eval] 306/1000:  31%|███       | 306/1000 [01:01<02:18,  5.00it/s, acc_nat=0.243, acc_rob=0.123]"
     ]
    },
    {
     "name": "stdout",
     "output_type": "stream",
     "text": [
      "Epoch 177 [100/192] | loss: 0.2522 (avg: 0.3048) | acc: 0.8906 (avg: 0.8682) |\n"
     ]
    },
    {
     "name": "stderr",
     "output_type": "stream",
     "text": [
      "[eval] 1000/1000: 100%|██████████| 1000/1000 [03:18<00:00,  5.05it/s, acc_nat=0.794, acc_rob=0.38]\n"
     ]
    },
    {
     "name": "stdout",
     "output_type": "stream",
     "text": [
      "Epoch 178 [0/192] | loss: 0.3183 (avg: 0.3183) | acc: 0.8711 (avg: 0.8711) |\n",
      "Epoch 178 [100/192] | loss: 0.3225 (avg: 0.3188) | acc: 0.8672 (avg: 0.8652) |\n"
     ]
    },
    {
     "name": "stderr",
     "output_type": "stream",
     "text": [
      "[eval] 1000/1000: 100%|██████████| 1000/1000 [03:22<00:00,  4.95it/s, acc_nat=0.8, acc_rob=0.412] \n"
     ]
    },
    {
     "name": "stdout",
     "output_type": "stream",
     "text": [
      "Epoch 179 [0/192] | loss: 0.2540 (avg: 0.2540) | acc: 0.9141 (avg: 0.9141) |\n",
      "Epoch 179 [100/192] | loss: 0.2563 (avg: 0.2865) | acc: 0.8867 (avg: 0.8769) |\n"
     ]
    },
    {
     "name": "stderr",
     "output_type": "stream",
     "text": [
      "[eval] 1000/1000: 100%|██████████| 1000/1000 [03:20<00:00,  4.99it/s, acc_nat=0.805, acc_rob=0.39]\n"
     ]
    },
    {
     "name": "stdout",
     "output_type": "stream",
     "text": [
      "Epoch 180 [0/192] | loss: 0.2838 (avg: 0.2838) | acc: 0.8750 (avg: 0.8750) |\n",
      "Epoch 180 [100/192] | loss: 0.3440 (avg: 0.2993) | acc: 0.8359 (avg: 0.8689) |\n"
     ]
    },
    {
     "name": "stderr",
     "output_type": "stream",
     "text": [
      "[eval] 327/1000:  33%|███▎      | 326/1000 [01:04<02:22,  4.73it/s, acc_nat=0.264, acc_rob=0.144]"
     ]
    },
    {
     "name": "stdout",
     "output_type": "stream",
     "text": [
      "Epoch 181 [100/192] | loss: 0.2893 (avg: 0.3003) | acc: 0.8750 (avg: 0.8701) |\n"
     ]
    },
    {
     "name": "stderr",
     "output_type": "stream",
     "text": [
      "[eval] 1000/1000: 100%|██████████| 1000/1000 [03:17<00:00,  5.06it/s, acc_nat=0.794, acc_rob=0.384]\n"
     ]
    },
    {
     "name": "stdout",
     "output_type": "stream",
     "text": [
      "Epoch 182 [0/192] | loss: 0.3010 (avg: 0.3010) | acc: 0.8711 (avg: 0.8711) |\n",
      "Epoch 182 [100/192] | loss: 0.3058 (avg: 0.2970) | acc: 0.8516 (avg: 0.8703) |\n"
     ]
    },
    {
     "name": "stderr",
     "output_type": "stream",
     "text": [
      "[eval] 1000/1000: 100%|██████████| 1000/1000 [03:22<00:00,  4.93it/s, acc_nat=0.782, acc_rob=0.363]\n"
     ]
    },
    {
     "name": "stdout",
     "output_type": "stream",
     "text": [
      "Epoch 183 [0/192] | loss: 0.2813 (avg: 0.2813) | acc: 0.8672 (avg: 0.8672) |\n",
      "Epoch 183 [100/192] | loss: 0.2227 (avg: 0.2792) | acc: 0.9258 (avg: 0.8820) |\n"
     ]
    },
    {
     "name": "stderr",
     "output_type": "stream",
     "text": [
      "[eval] 327/1000:  33%|███▎      | 326/1000 [01:04<02:12,  5.07it/s, acc_nat=0.251, acc_rob=0.126]"
     ]
    },
    {
     "name": "stdout",
     "output_type": "stream",
     "text": [
      "Epoch 185 [100/192] | loss: 0.3113 (avg: 0.2809) | acc: 0.8867 (avg: 0.8781) |\n"
     ]
    },
    {
     "name": "stderr",
     "output_type": "stream",
     "text": [
      "[eval] 1000/1000: 100%|██████████| 1000/1000 [03:20<00:00,  4.98it/s, acc_nat=0.781, acc_rob=0.375]\n"
     ]
    },
    {
     "name": "stdout",
     "output_type": "stream",
     "text": [
      "Epoch 187 [0/192] | loss: 0.2686 (avg: 0.2686) | acc: 0.8750 (avg: 0.8750) |\n",
      "Epoch 187 [100/192] | loss: 0.2113 (avg: 0.2777) | acc: 0.9258 (avg: 0.8821) |\n"
     ]
    },
    {
     "name": "stderr",
     "output_type": "stream",
     "text": [
      "[eval] 1000/1000: 100%|██████████| 1000/1000 [03:21<00:00,  4.95it/s, acc_nat=0.807, acc_rob=0.376]\n"
     ]
    },
    {
     "name": "stdout",
     "output_type": "stream",
     "text": [
      "Epoch 188 [0/192] | loss: 0.2713 (avg: 0.2713) | acc: 0.9023 (avg: 0.9023) |\n",
      "Epoch 188 [100/192] | loss: 0.2721 (avg: 0.2676) | acc: 0.8633 (avg: 0.8861) |\n"
     ]
    },
    {
     "name": "stderr",
     "output_type": "stream",
     "text": [
      "[eval] 809/1000:  81%|████████  | 808/1000 [02:43<00:38,  4.98it/s, acc_nat=0.647, acc_rob=0.306]"
     ]
    },
    {
     "name": "stdout",
     "output_type": "stream",
     "text": [
      "Epoch 189 [100/192] | loss: 0.2973 (avg: 0.2704) | acc: 0.8516 (avg: 0.8854) |\n"
     ]
    },
    {
     "name": "stderr",
     "output_type": "stream",
     "text": [
      "[eval] 1000/1000: 100%|██████████| 1000/1000 [03:22<00:00,  4.94it/s, acc_nat=0.787, acc_rob=0.387]\n"
     ]
    },
    {
     "name": "stdout",
     "output_type": "stream",
     "text": [
      "Epoch 190 [0/192] | loss: 0.2813 (avg: 0.2813) | acc: 0.8828 (avg: 0.8828) |\n",
      "Epoch 190 [100/192] | loss: 0.2423 (avg: 0.2675) | acc: 0.8945 (avg: 0.8837) |\n"
     ]
    },
    {
     "name": "stderr",
     "output_type": "stream",
     "text": [
      "[eval] 368/1000:  37%|███▋      | 368/1000 [01:14<02:07,  4.97it/s, acc_nat=0.285, acc_rob=0.134]"
     ]
    },
    {
     "name": "stdout",
     "output_type": "stream",
     "text": [
      "Epoch 191 [0/192] | loss: 0.2305 (avg: 0.2305) | acc: 0.9102 (avg: 0.9102) |\n",
      "Epoch 191 [100/192] | loss: 0.2127 (avg: 0.2498) | acc: 0.8945 (avg: 0.8929) |\n"
     ]
    },
    {
     "name": "stderr",
     "output_type": "stream",
     "text": [
      "[eval] 1000/1000: 100%|██████████| 1000/1000 [03:19<00:00,  5.02it/s, acc_nat=0.802, acc_rob=0.373]\n"
     ]
    },
    {
     "name": "stdout",
     "output_type": "stream",
     "text": [
      "Epoch 192 [0/192] | loss: 0.2440 (avg: 0.2440) | acc: 0.8984 (avg: 0.8984) |\n",
      "Epoch 192 [100/192] | loss: 0.2820 (avg: 0.2571) | acc: 0.8711 (avg: 0.8876) |\n"
     ]
    },
    {
     "name": "stderr",
     "output_type": "stream",
     "text": [
      "[eval] 558/1000:  56%|█████▌    | 557/1000 [01:51<01:31,  4.82it/s, acc_nat=0.445, acc_rob=0.212]"
     ]
    },
    {
     "name": "stdout",
     "output_type": "stream",
     "text": [
      "Epoch 193 [100/192] | loss: 0.2493 (avg: 0.2540) | acc: 0.8789 (avg: 0.8893) |\n"
     ]
    },
    {
     "name": "stderr",
     "output_type": "stream",
     "text": [
      "[eval] 1000/1000: 100%|██████████| 1000/1000 [03:17<00:00,  5.06it/s, acc_nat=0.8, acc_rob=0.381] \n"
     ]
    },
    {
     "name": "stdout",
     "output_type": "stream",
     "text": [
      "Epoch 194 [0/192] | loss: 0.2490 (avg: 0.2490) | acc: 0.9102 (avg: 0.9102) |\n",
      "Epoch 194 [100/192] | loss: 0.2224 (avg: 0.2623) | acc: 0.9062 (avg: 0.8888) |\n"
     ]
    },
    {
     "name": "stderr",
     "output_type": "stream",
     "text": [
      "[eval] 1000/1000: 100%|██████████| 1000/1000 [03:22<00:00,  4.95it/s, acc_nat=0.802, acc_rob=0.403]\n"
     ]
    },
    {
     "name": "stdout",
     "output_type": "stream",
     "text": [
      "Epoch 195 [0/192] | loss: 0.2952 (avg: 0.2952) | acc: 0.8906 (avg: 0.8906) |\n",
      "Epoch 195 [100/192] | loss: 0.2712 (avg: 0.2500) | acc: 0.8672 (avg: 0.8924) |\n"
     ]
    },
    {
     "name": "stderr",
     "output_type": "stream",
     "text": [
      "[eval] 327/1000:  33%|███▎      | 326/1000 [01:04<02:13,  5.04it/s, acc_nat=0.256, acc_rob=0.134]"
     ]
    },
    {
     "name": "stdout",
     "output_type": "stream",
     "text": [
      "Epoch 197 [100/192] | loss: 0.2538 (avg: 0.2426) | acc: 0.8555 (avg: 0.8959) |\n"
     ]
    },
    {
     "name": "stderr",
     "output_type": "stream",
     "text": [
      "[eval] 1000/1000: 100%|██████████| 1000/1000 [03:20<00:00,  4.98it/s, acc_nat=0.81, acc_rob=0.374]\n"
     ]
    },
    {
     "name": "stdout",
     "output_type": "stream",
     "text": [
      "Epoch 198 [0/192] | loss: 0.2210 (avg: 0.2210) | acc: 0.8984 (avg: 0.8984) |\n",
      "Epoch 198 [100/192] | loss: 0.2462 (avg: 0.2376) | acc: 0.8906 (avg: 0.8970) |\n"
     ]
    },
    {
     "name": "stderr",
     "output_type": "stream",
     "text": [
      "[eval] 1000/1000: 100%|██████████| 1000/1000 [03:22<00:00,  4.93it/s, acc_nat=0.808, acc_rob=0.393]\n"
     ]
    },
    {
     "name": "stdout",
     "output_type": "stream",
     "text": [
      "Epoch 199 [0/192] | loss: 0.2364 (avg: 0.2364) | acc: 0.9141 (avg: 0.9141) |\n",
      "Epoch 199 [100/192] | loss: 0.1907 (avg: 0.2526) | acc: 0.9258 (avg: 0.8916) |\n"
     ]
    },
    {
     "name": "stderr",
     "output_type": "stream",
     "text": [
      "[eval] 1000/1000: 100%|██████████| 1000/1000 [03:19<00:00,  5.02it/s, acc_nat=0.809, acc_rob=0.389]\n"
     ]
    },
    {
     "name": "stdout",
     "output_type": "stream",
     "text": [
      "Epoch 0 [0/192] | loss: 381.3904 (avg: 381.3904) | acc: 0.9102 (avg: 0.9102) |\n",
      "Epoch 0 [100/192] | loss: 2.2733 (avg: 21.2320) | acc: 0.2188 (avg: 0.1756) |\n"
     ]
    },
    {
     "name": "stderr",
     "output_type": "stream",
     "text": [
      "[eval] 1000/1000: 100%|██████████| 1000/1000 [03:20<00:00,  5.00it/s, acc_nat=0.285, acc_rob=0.215]\n"
     ]
    },
    {
     "name": "stdout",
     "output_type": "stream",
     "text": [
      "Epoch 1 [0/192] | loss: 2.2546 (avg: 2.2546) | acc: 0.1992 (avg: 0.1992) |\n",
      "Epoch 1 [100/192] | loss: 2.2181 (avg: 2.2388) | acc: 0.2539 (avg: 0.2305) |\n"
     ]
    },
    {
     "name": "stderr",
     "output_type": "stream",
     "text": [
      "[eval] 1000/1000: 100%|██████████| 1000/1000 [03:22<00:00,  4.93it/s, acc_nat=0.333, acc_rob=0.243]\n"
     ]
    },
    {
     "name": "stdout",
     "output_type": "stream",
     "text": [
      "Epoch 2 [0/192] | loss: 2.2445 (avg: 2.2445) | acc: 0.2383 (avg: 0.2383) |\n",
      "Epoch 2 [100/192] | loss: 2.1854 (avg: 2.2120) | acc: 0.2852 (avg: 0.2498) |\n"
     ]
    },
    {
     "name": "stderr",
     "output_type": "stream",
     "text": [
      "[eval] 1000/1000: 100%|██████████| 1000/1000 [03:21<00:00,  4.95it/s, acc_nat=0.359, acc_rob=0.262]\n"
     ]
    },
    {
     "name": "stdout",
     "output_type": "stream",
     "text": [
      "Epoch 3 [0/192] | loss: 2.1639 (avg: 2.1639) | acc: 0.2734 (avg: 0.2734) |\n",
      "Epoch 3 [100/192] | loss: 2.2139 (avg: 2.1954) | acc: 0.2344 (avg: 0.2665) |\n"
     ]
    },
    {
     "name": "stderr",
     "output_type": "stream",
     "text": [
      "[eval] 1000/1000: 100%|██████████| 1000/1000 [03:20<00:00,  4.98it/s, acc_nat=0.385, acc_rob=0.279]\n"
     ]
    },
    {
     "name": "stdout",
     "output_type": "stream",
     "text": [
      "Epoch 4 [0/192] | loss: 2.1911 (avg: 2.1911) | acc: 0.2969 (avg: 0.2969) |\n",
      "Epoch 4 [100/192] | loss: 2.1642 (avg: 2.1741) | acc: 0.2617 (avg: 0.2714) |\n"
     ]
    },
    {
     "name": "stderr",
     "output_type": "stream",
     "text": [
      "[eval] 1000/1000: 100%|██████████| 1000/1000 [03:21<00:00,  4.95it/s, acc_nat=0.375, acc_rob=0.284]\n"
     ]
    },
    {
     "name": "stdout",
     "output_type": "stream",
     "text": [
      "Epoch 5 [0/192] | loss: 2.1410 (avg: 2.1410) | acc: 0.2695 (avg: 0.2695) |\n",
      "Epoch 5 [100/192] | loss: 2.1495 (avg: 2.1389) | acc: 0.2734 (avg: 0.2911) |\n"
     ]
    },
    {
     "name": "stderr",
     "output_type": "stream",
     "text": [
      "[eval] 319/1000:  32%|███▏      | 318/1000 [01:03<02:13,  5.11it/s, acc_nat=0.135, acc_rob=0.099]"
     ]
    },
    {
     "name": "stdout",
     "output_type": "stream",
     "text": [
      "Epoch 6 [100/192] | loss: 2.1334 (avg: 2.1333) | acc: 0.2930 (avg: 0.2935) |\n"
     ]
    },
    {
     "name": "stderr",
     "output_type": "stream",
     "text": [
      "[eval] 1000/1000: 100%|██████████| 1000/1000 [03:17<00:00,  5.08it/s, acc_nat=0.444, acc_rob=0.309]\n"
     ]
    },
    {
     "name": "stdout",
     "output_type": "stream",
     "text": [
      "Epoch 7 [0/192] | loss: 2.1685 (avg: 2.1685) | acc: 0.2578 (avg: 0.2578) |\n",
      "Epoch 7 [100/192] | loss: 2.0655 (avg: 2.1019) | acc: 0.2734 (avg: 0.3068) |\n"
     ]
    },
    {
     "name": "stderr",
     "output_type": "stream",
     "text": [
      "[eval] 306/1000:  31%|███       | 306/1000 [01:01<02:17,  5.04it/s, acc_nat=0.142, acc_rob=0.093]"
     ]
    },
    {
     "name": "stdout",
     "output_type": "stream",
     "text": [
      "Epoch 8 [100/192] | loss: 2.0702 (avg: 2.0805) | acc: 0.3320 (avg: 0.3120) |\n"
     ]
    },
    {
     "name": "stderr",
     "output_type": "stream",
     "text": [
      "[eval] 465/1000:  46%|████▋     | 464/1000 [01:32<01:46,  5.05it/s, acc_nat=0.209, acc_rob=0.154]"
     ]
    },
    {
     "name": "stdout",
     "output_type": "stream",
     "text": [
      "Epoch 9 [100/192] | loss: 2.0708 (avg: 2.0765) | acc: 0.2695 (avg: 0.3134) |\n"
     ]
    },
    {
     "name": "stderr",
     "output_type": "stream",
     "text": [
      "[eval] 1000/1000: 100%|██████████| 1000/1000 [03:17<00:00,  5.06it/s, acc_nat=0.464, acc_rob=0.329]\n"
     ]
    },
    {
     "name": "stdout",
     "output_type": "stream",
     "text": [
      "Epoch 10 [0/192] | loss: 2.0498 (avg: 2.0498) | acc: 0.2930 (avg: 0.2930) |\n",
      "Epoch 10 [100/192] | loss: 2.0480 (avg: 2.0419) | acc: 0.3477 (avg: 0.3276) |\n"
     ]
    },
    {
     "name": "stderr",
     "output_type": "stream",
     "text": [
      "[eval] 322/1000:  32%|███▏      | 321/1000 [01:03<02:15,  5.02it/s, acc_nat=0.161, acc_rob=0.104]"
     ]
    },
    {
     "name": "stdout",
     "output_type": "stream",
     "text": [
      "Epoch 11 [100/192] | loss: 2.0546 (avg: 2.0365) | acc: 0.3086 (avg: 0.3306) |\n"
     ]
    },
    {
     "name": "stderr",
     "output_type": "stream",
     "text": [
      "[eval] 1000/1000: 100%|██████████| 1000/1000 [03:22<00:00,  4.95it/s, acc_nat=0.479, acc_rob=0.334]\n"
     ]
    },
    {
     "name": "stdout",
     "output_type": "stream",
     "text": [
      "Epoch 12 [0/192] | loss: 1.9779 (avg: 1.9779) | acc: 0.3711 (avg: 0.3711) |\n",
      "Epoch 12 [100/192] | loss: 1.9608 (avg: 2.0028) | acc: 0.3555 (avg: 0.3430) |\n"
     ]
    },
    {
     "name": "stderr",
     "output_type": "stream",
     "text": [
      "[eval] 1000/1000: 100%|██████████| 1000/1000 [03:18<00:00,  5.03it/s, acc_nat=0.538, acc_rob=0.35]\n"
     ]
    },
    {
     "name": "stdout",
     "output_type": "stream",
     "text": [
      "Epoch 13 [0/192] | loss: 1.9741 (avg: 1.9741) | acc: 0.4219 (avg: 0.4219) |\n",
      "Epoch 13 [100/192] | loss: 1.9242 (avg: 2.0029) | acc: 0.4219 (avg: 0.3421) |\n"
     ]
    },
    {
     "name": "stderr",
     "output_type": "stream",
     "text": [
      "[eval] 1000/1000: 100%|██████████| 1000/1000 [03:20<00:00,  4.99it/s, acc_nat=0.497, acc_rob=0.322]\n"
     ]
    },
    {
     "name": "stdout",
     "output_type": "stream",
     "text": [
      "Epoch 14 [0/192] | loss: 2.0649 (avg: 2.0649) | acc: 0.3125 (avg: 0.3125) |\n",
      "Epoch 14 [100/192] | loss: 2.0009 (avg: 1.9786) | acc: 0.3359 (avg: 0.3473) |\n"
     ]
    },
    {
     "name": "stderr",
     "output_type": "stream",
     "text": [
      "[eval] 366/1000:  36%|███▋      | 365/1000 [01:12<02:07,  4.98it/s, acc_nat=0.156, acc_rob=0.09] "
     ]
    },
    {
     "name": "stdout",
     "output_type": "stream",
     "text": [
      "Epoch 15 [100/192] | loss: 1.9695 (avg: 1.9538) | acc: 0.3633 (avg: 0.3521) |\n"
     ]
    },
    {
     "name": "stderr",
     "output_type": "stream",
     "text": [
      "[eval] 317/1000:  32%|███▏      | 317/1000 [01:03<02:17,  4.97it/s, acc_nat=0.168, acc_rob=0.118]"
     ]
    },
    {
     "name": "stdout",
     "output_type": "stream",
     "text": [
      "Epoch 17 [100/192] | loss: 1.8447 (avg: 1.9053) | acc: 0.4609 (avg: 0.3724) |\n"
     ]
    },
    {
     "name": "stderr",
     "output_type": "stream",
     "text": [
      "[eval] 1000/1000: 100%|██████████| 1000/1000 [03:20<00:00,  5.00it/s, acc_nat=0.558, acc_rob=0.352]\n"
     ]
    },
    {
     "name": "stdout",
     "output_type": "stream",
     "text": [
      "Epoch 18 [0/192] | loss: 1.9574 (avg: 1.9574) | acc: 0.3281 (avg: 0.3281) |\n",
      "Epoch 18 [100/192] | loss: 1.8219 (avg: 1.9080) | acc: 0.4023 (avg: 0.3696) |\n"
     ]
    },
    {
     "name": "stderr",
     "output_type": "stream",
     "text": [
      "[eval] 327/1000:  33%|███▎      | 326/1000 [01:05<02:15,  4.97it/s, acc_nat=0.191, acc_rob=0.131]"
     ]
    },
    {
     "name": "stdout",
     "output_type": "stream",
     "text": [
      "Epoch 19 [0/192] | loss: 1.8589 (avg: 1.8589) | acc: 0.3633 (avg: 0.3633) |\n",
      "Epoch 19 [100/192] | loss: 1.9190 (avg: 1.8776) | acc: 0.3359 (avg: 0.3790) |\n"
     ]
    },
    {
     "name": "stderr",
     "output_type": "stream",
     "text": [
      "[eval] 1000/1000: 100%|██████████| 1000/1000 [03:18<00:00,  5.04it/s, acc_nat=0.556, acc_rob=0.313]\n"
     ]
    },
    {
     "name": "stdout",
     "output_type": "stream",
     "text": [
      "Epoch 20 [0/192] | loss: 1.9652 (avg: 1.9652) | acc: 0.3477 (avg: 0.3477) |\n",
      "Epoch 20 [100/192] | loss: 1.8638 (avg: 1.8836) | acc: 0.3828 (avg: 0.3787) |\n"
     ]
    },
    {
     "name": "stderr",
     "output_type": "stream",
     "text": [
      "[eval] 1000/1000: 100%|██████████| 1000/1000 [03:20<00:00,  4.99it/s, acc_nat=0.574, acc_rob=0.382]\n"
     ]
    },
    {
     "name": "stdout",
     "output_type": "stream",
     "text": [
      "Epoch 21 [0/192] | loss: 1.7628 (avg: 1.7628) | acc: 0.3945 (avg: 0.3945) |\n",
      "Epoch 21 [100/192] | loss: 1.8813 (avg: 1.8616) | acc: 0.3672 (avg: 0.3870) |\n"
     ]
    },
    {
     "name": "stderr",
     "output_type": "stream",
     "text": [
      "[eval] 318/1000:  32%|███▏      | 318/1000 [01:02<02:13,  5.10it/s, acc_nat=0.197, acc_rob=0.135]"
     ]
    },
    {
     "name": "stdout",
     "output_type": "stream",
     "text": [
      "Epoch 23 [100/192] | loss: 1.7490 (avg: 1.8225) | acc: 0.4766 (avg: 0.3965) |\n"
     ]
    },
    {
     "name": "stderr",
     "output_type": "stream",
     "text": [
      "[eval] 1000/1000: 100%|██████████| 1000/1000 [03:18<00:00,  5.04it/s, acc_nat=0.616, acc_rob=0.396]\n"
     ]
    },
    {
     "name": "stdout",
     "output_type": "stream",
     "text": [
      "Epoch 24 [0/192] | loss: 1.8173 (avg: 1.8173) | acc: 0.3711 (avg: 0.3711) |\n",
      "Epoch 24 [100/192] | loss: 1.7938 (avg: 1.8030) | acc: 0.4102 (avg: 0.4030) |\n"
     ]
    },
    {
     "name": "stderr",
     "output_type": "stream",
     "text": [
      "[eval] 417/1000:  42%|████▏     | 416/1000 [01:23<01:56,  5.02it/s, acc_nat=0.255, acc_rob=0.167]"
     ]
    },
    {
     "name": "stdout",
     "output_type": "stream",
     "text": [
      "Epoch 25 [100/192] | loss: 1.7631 (avg: 1.8037) | acc: 0.4219 (avg: 0.4037) |\n"
     ]
    },
    {
     "name": "stderr",
     "output_type": "stream",
     "text": [
      "[eval] 1000/1000: 100%|██████████| 1000/1000 [03:20<00:00,  4.98it/s, acc_nat=0.613, acc_rob=0.408]\n"
     ]
    },
    {
     "name": "stdout",
     "output_type": "stream",
     "text": [
      "Epoch 26 [0/192] | loss: 1.8258 (avg: 1.8258) | acc: 0.3984 (avg: 0.3984) |\n",
      "Epoch 26 [100/192] | loss: 1.7461 (avg: 1.7902) | acc: 0.4492 (avg: 0.4080) |\n"
     ]
    },
    {
     "name": "stderr",
     "output_type": "stream",
     "text": [
      "[eval] 459/1000:  46%|████▌     | 458/1000 [01:32<01:50,  4.91it/s, acc_nat=0.287, acc_rob=0.192]"
     ]
    },
    {
     "name": "stdout",
     "output_type": "stream",
     "text": [
      "Epoch 27 [100/192] | loss: 1.7418 (avg: 1.7613) | acc: 0.3984 (avg: 0.4181) |\n"
     ]
    },
    {
     "name": "stderr",
     "output_type": "stream",
     "text": [
      "[eval] 327/1000:  33%|███▎      | 326/1000 [01:04<02:12,  5.08it/s, acc_nat=0.191, acc_rob=0.122]"
     ]
    },
    {
     "name": "stdout",
     "output_type": "stream",
     "text": [
      "Epoch 29 [100/192] | loss: 1.7882 (avg: 1.7287) | acc: 0.3984 (avg: 0.4226) |\n"
     ]
    },
    {
     "name": "stderr",
     "output_type": "stream",
     "text": [
      "[eval] 1000/1000: 100%|██████████| 1000/1000 [03:20<00:00,  4.98it/s, acc_nat=0.66, acc_rob=0.403]\n"
     ]
    },
    {
     "name": "stdout",
     "output_type": "stream",
     "text": [
      "Epoch 30 [0/192] | loss: 1.8294 (avg: 1.8294) | acc: 0.4062 (avg: 0.4062) |\n",
      "Epoch 30 [100/192] | loss: 1.7013 (avg: 1.7248) | acc: 0.4258 (avg: 0.4246) |\n"
     ]
    },
    {
     "name": "stderr",
     "output_type": "stream",
     "text": [
      "[eval] 1000/1000: 100%|██████████| 1000/1000 [03:19<00:00,  5.01it/s, acc_nat=0.648, acc_rob=0.41]\n"
     ]
    },
    {
     "name": "stdout",
     "output_type": "stream",
     "text": [
      "Epoch 31 [0/192] | loss: 1.7612 (avg: 1.7612) | acc: 0.4727 (avg: 0.4727) |\n",
      "Epoch 31 [100/192] | loss: 1.6224 (avg: 1.7203) | acc: 0.4688 (avg: 0.4304) |\n"
     ]
    },
    {
     "name": "stderr",
     "output_type": "stream",
     "text": [
      "[eval] 1000/1000: 100%|██████████| 1000/1000 [03:19<00:00,  5.01it/s, acc_nat=0.581, acc_rob=0.335]\n"
     ]
    },
    {
     "name": "stdout",
     "output_type": "stream",
     "text": [
      "Epoch 32 [0/192] | loss: 1.7682 (avg: 1.7682) | acc: 0.3945 (avg: 0.3945) |\n",
      "Epoch 32 [100/192] | loss: 1.6421 (avg: 1.7028) | acc: 0.4688 (avg: 0.4362) |\n"
     ]
    },
    {
     "name": "stderr",
     "output_type": "stream",
     "text": [
      "[eval] 359/1000:  36%|███▌      | 358/1000 [01:11<02:07,  5.04it/s, acc_nat=0.228, acc_rob=0.143]"
     ]
    },
    {
     "name": "stdout",
     "output_type": "stream",
     "text": [
      "Epoch 33 [100/192] | loss: 1.6507 (avg: 1.6920) | acc: 0.4492 (avg: 0.4382) |\n"
     ]
    },
    {
     "name": "stderr",
     "output_type": "stream",
     "text": [
      "[eval] 1000/1000: 100%|██████████| 1000/1000 [03:22<00:00,  4.95it/s, acc_nat=0.666, acc_rob=0.406]\n"
     ]
    },
    {
     "name": "stdout",
     "output_type": "stream",
     "text": [
      "Epoch 34 [0/192] | loss: 1.5898 (avg: 1.5898) | acc: 0.4219 (avg: 0.4219) |\n",
      "Epoch 34 [100/192] | loss: 1.6653 (avg: 1.6775) | acc: 0.4492 (avg: 0.4420) |\n"
     ]
    },
    {
     "name": "stderr",
     "output_type": "stream",
     "text": [
      "[eval] 326/1000:  32%|███▎      | 325/1000 [01:04<02:13,  5.05it/s, acc_nat=0.206, acc_rob=0.135]"
     ]
    },
    {
     "name": "stdout",
     "output_type": "stream",
     "text": [
      "Epoch 35 [100/192] | loss: 1.6812 (avg: 1.6607) | acc: 0.4102 (avg: 0.4527) |\n"
     ]
    },
    {
     "name": "stderr",
     "output_type": "stream",
     "text": [
      "[eval] 1000/1000: 100%|██████████| 1000/1000 [03:20<00:00,  4.98it/s, acc_nat=0.647, acc_rob=0.447]\n"
     ]
    },
    {
     "name": "stdout",
     "output_type": "stream",
     "text": [
      "Epoch 36 [0/192] | loss: 1.6295 (avg: 1.6295) | acc: 0.4688 (avg: 0.4688) |\n",
      "Epoch 36 [100/192] | loss: 1.6910 (avg: 1.6704) | acc: 0.4414 (avg: 0.4448) |\n"
     ]
    },
    {
     "name": "stderr",
     "output_type": "stream",
     "text": [
      "[eval] 336/1000:  34%|███▎      | 335/1000 [01:06<02:11,  5.04it/s, acc_nat=0.236, acc_rob=0.14] "
     ]
    },
    {
     "name": "stdout",
     "output_type": "stream",
     "text": [
      "Epoch 37 [100/192] | loss: 1.6858 (avg: 1.6466) | acc: 0.4648 (avg: 0.4524) |\n"
     ]
    },
    {
     "name": "stderr",
     "output_type": "stream",
     "text": [
      "[eval] 1000/1000: 100%|██████████| 1000/1000 [03:18<00:00,  5.03it/s, acc_nat=0.608, acc_rob=0.381]\n"
     ]
    },
    {
     "name": "stdout",
     "output_type": "stream",
     "text": [
      "Epoch 38 [0/192] | loss: 1.7513 (avg: 1.7513) | acc: 0.4297 (avg: 0.4297) |\n",
      "Epoch 38 [100/192] | loss: 1.6845 (avg: 1.6375) | acc: 0.4531 (avg: 0.4528) |\n"
     ]
    },
    {
     "name": "stderr",
     "output_type": "stream",
     "text": [
      "[eval] 306/1000:  31%|███       | 306/1000 [01:00<02:16,  5.08it/s, acc_nat=0.193, acc_rob=0.138]"
     ]
    },
    {
     "name": "stdout",
     "output_type": "stream",
     "text": [
      "Epoch 40 [100/192] | loss: 1.6778 (avg: 1.6043) | acc: 0.4297 (avg: 0.4640) |\n"
     ]
    },
    {
     "name": "stderr",
     "output_type": "stream",
     "text": [
      "[eval] 303/1000:  30%|███       | 302/1000 [01:00<02:16,  5.11it/s, acc_nat=0.206, acc_rob=0.134]"
     ]
    },
    {
     "name": "stdout",
     "output_type": "stream",
     "text": [
      "Epoch 42 [100/192] | loss: 1.5881 (avg: 1.5972) | acc: 0.4609 (avg: 0.4674) |\n"
     ]
    },
    {
     "name": "stderr",
     "output_type": "stream",
     "text": [
      "[eval] 323/1000:  32%|███▏      | 322/1000 [01:05<02:16,  4.98it/s, acc_nat=0.199, acc_rob=0.125]"
     ]
    },
    {
     "name": "stdout",
     "output_type": "stream",
     "text": [
      "Epoch 44 [100/192] | loss: 1.6391 (avg: 1.5630) | acc: 0.4648 (avg: 0.4720) |\n"
     ]
    },
    {
     "name": "stderr",
     "output_type": "stream",
     "text": [
      "[eval] 1000/1000: 100%|██████████| 1000/1000 [03:19<00:00,  5.01it/s, acc_nat=0.677, acc_rob=0.438]\n"
     ]
    },
    {
     "name": "stdout",
     "output_type": "stream",
     "text": [
      "Epoch 45 [0/192] | loss: 1.5294 (avg: 1.5294) | acc: 0.5039 (avg: 0.5039) |\n",
      "Epoch 45 [100/192] | loss: 1.5769 (avg: 1.5621) | acc: 0.4453 (avg: 0.4783) |\n"
     ]
    },
    {
     "name": "stderr",
     "output_type": "stream",
     "text": [
      "[eval] 366/1000:  36%|███▋      | 365/1000 [01:13<02:08,  4.93it/s, acc_nat=0.247, acc_rob=0.165]"
     ]
    },
    {
     "name": "stdout",
     "output_type": "stream",
     "text": [
      "Epoch 46 [100/192] | loss: 1.5114 (avg: 1.5500) | acc: 0.5117 (avg: 0.4813) |\n"
     ]
    },
    {
     "name": "stderr",
     "output_type": "stream",
     "text": [
      "[eval] 1000/1000: 100%|██████████| 1000/1000 [03:19<00:00,  5.02it/s, acc_nat=0.725, acc_rob=0.444]\n"
     ]
    },
    {
     "name": "stdout",
     "output_type": "stream",
     "text": [
      "Epoch 47 [0/192] | loss: 1.5517 (avg: 1.5517) | acc: 0.4727 (avg: 0.4727) |\n",
      "Epoch 47 [100/192] | loss: 1.5060 (avg: 1.5440) | acc: 0.4766 (avg: 0.4814) |\n"
     ]
    },
    {
     "name": "stderr",
     "output_type": "stream",
     "text": [
      "[eval] 323/1000:  32%|███▏      | 322/1000 [01:05<02:28,  4.58it/s, acc_nat=0.205, acc_rob=0.134]"
     ]
    },
    {
     "name": "stdout",
     "output_type": "stream",
     "text": [
      "Epoch 48 [100/192] | loss: 1.5612 (avg: 1.5393) | acc: 0.4727 (avg: 0.4836) |\n"
     ]
    },
    {
     "name": "stderr",
     "output_type": "stream",
     "text": [
      "[eval] 1000/1000: 100%|██████████| 1000/1000 [03:21<00:00,  4.97it/s, acc_nat=0.717, acc_rob=0.45]\n"
     ]
    },
    {
     "name": "stdout",
     "output_type": "stream",
     "text": [
      "Epoch 49 [0/192] | loss: 1.4647 (avg: 1.4647) | acc: 0.5195 (avg: 0.5195) |\n",
      "Epoch 49 [100/192] | loss: 1.5078 (avg: 1.5192) | acc: 0.4844 (avg: 0.4892) |\n"
     ]
    },
    {
     "name": "stderr",
     "output_type": "stream",
     "text": [
      "[eval] 345/1000:  34%|███▍      | 344/1000 [01:09<02:11,  4.98it/s, acc_nat=0.233, acc_rob=0.126]"
     ]
    },
    {
     "name": "stdout",
     "output_type": "stream",
     "text": [
      "Epoch 51 [100/192] | loss: 1.4835 (avg: 1.5072) | acc: 0.5000 (avg: 0.4928) |\n"
     ]
    },
    {
     "name": "stderr",
     "output_type": "stream",
     "text": [
      "[eval] 306/1000:  31%|███       | 306/1000 [01:01<02:20,  4.92it/s, acc_nat=0.223, acc_rob=0.136]"
     ]
    },
    {
     "name": "stdout",
     "output_type": "stream",
     "text": [
      "Epoch 53 [100/192] | loss: 1.3640 (avg: 1.4951) | acc: 0.5391 (avg: 0.4996) |\n"
     ]
    },
    {
     "name": "stderr",
     "output_type": "stream",
     "text": [
      "[eval] 355/1000:  35%|███▌      | 354/1000 [01:10<02:08,  5.02it/s, acc_nat=0.242, acc_rob=0.152]"
     ]
    },
    {
     "name": "stdout",
     "output_type": "stream",
     "text": [
      "Epoch 55 [100/192] | loss: 1.4212 (avg: 1.4652) | acc: 0.5195 (avg: 0.5070) |\n"
     ]
    },
    {
     "name": "stderr",
     "output_type": "stream",
     "text": [
      "[eval] 1000/1000: 100%|██████████| 1000/1000 [03:19<00:00,  5.02it/s, acc_nat=0.702, acc_rob=0.424]\n"
     ]
    },
    {
     "name": "stdout",
     "output_type": "stream",
     "text": [
      "Epoch 56 [0/192] | loss: 1.5266 (avg: 1.5266) | acc: 0.5000 (avg: 0.5000) |\n",
      "Epoch 56 [100/192] | loss: 1.3794 (avg: 1.4616) | acc: 0.5312 (avg: 0.5067) |\n"
     ]
    },
    {
     "name": "stderr",
     "output_type": "stream",
     "text": [
      "[eval] 327/1000:  33%|███▎      | 326/1000 [01:04<02:12,  5.10it/s, acc_nat=0.24, acc_rob=0.144] "
     ]
    },
    {
     "name": "stdout",
     "output_type": "stream",
     "text": [
      "Epoch 58 [100/192] | loss: 1.5491 (avg: 1.4480) | acc: 0.4922 (avg: 0.5087) |\n"
     ]
    },
    {
     "name": "stderr",
     "output_type": "stream",
     "text": [
      "[eval] 1000/1000: 100%|██████████| 1000/1000 [03:17<00:00,  5.06it/s, acc_nat=0.73, acc_rob=0.451]\n"
     ]
    },
    {
     "name": "stdout",
     "output_type": "stream",
     "text": [
      "Epoch 59 [0/192] | loss: 1.4676 (avg: 1.4676) | acc: 0.5273 (avg: 0.5273) |\n",
      "Epoch 59 [100/192] | loss: 1.4863 (avg: 1.4373) | acc: 0.5039 (avg: 0.5147) |\n"
     ]
    },
    {
     "name": "stderr",
     "output_type": "stream",
     "text": [
      "[eval] 335/1000:  34%|███▎      | 335/1000 [01:07<02:14,  4.94it/s, acc_nat=0.255, acc_rob=0.143]"
     ]
    },
    {
     "name": "stdout",
     "output_type": "stream",
     "text": [
      "Epoch 60 [100/192] | loss: 1.3901 (avg: 1.4464) | acc: 0.5078 (avg: 0.5109) |\n"
     ]
    },
    {
     "name": "stderr",
     "output_type": "stream",
     "text": [
      "[eval] 330/1000:  33%|███▎      | 329/1000 [01:05<02:13,  5.02it/s, acc_nat=0.229, acc_rob=0.147]"
     ]
    },
    {
     "name": "stdout",
     "output_type": "stream",
     "text": [
      "Epoch 62 [100/192] | loss: 1.3621 (avg: 1.4110) | acc: 0.5508 (avg: 0.5204) |\n"
     ]
    },
    {
     "name": "stderr",
     "output_type": "stream",
     "text": [
      "[eval] 345/1000:  34%|███▍      | 344/1000 [01:09<02:11,  4.98it/s, acc_nat=0.247, acc_rob=0.163]"
     ]
    },
    {
     "name": "stdout",
     "output_type": "stream",
     "text": [
      "Epoch 64 [100/192] | loss: 1.3372 (avg: 1.3973) | acc: 0.5508 (avg: 0.5249) |\n"
     ]
    },
    {
     "name": "stderr",
     "output_type": "stream",
     "text": [
      "[eval] 1000/1000: 100%|██████████| 1000/1000 [03:20<00:00,  4.98it/s, acc_nat=0.719, acc_rob=0.447]\n"
     ]
    },
    {
     "name": "stdout",
     "output_type": "stream",
     "text": [
      "Epoch 65 [0/192] | loss: 1.4981 (avg: 1.4981) | acc: 0.5547 (avg: 0.5547) |\n",
      "Epoch 65 [100/192] | loss: 1.2514 (avg: 1.3875) | acc: 0.5391 (avg: 0.5283) |\n"
     ]
    },
    {
     "name": "stderr",
     "output_type": "stream",
     "text": [
      "[eval] 1000/1000: 100%|██████████| 1000/1000 [03:18<00:00,  5.03it/s, acc_nat=0.723, acc_rob=0.477]\n"
     ]
    },
    {
     "name": "stdout",
     "output_type": "stream",
     "text": [
      "Epoch 66 [0/192] | loss: 1.3599 (avg: 1.3599) | acc: 0.5117 (avg: 0.5117) |\n",
      "Epoch 66 [100/192] | loss: 1.4190 (avg: 1.3852) | acc: 0.5117 (avg: 0.5304) |\n"
     ]
    },
    {
     "name": "stderr",
     "output_type": "stream",
     "text": [
      "[eval] 313/1000:  31%|███       | 312/1000 [01:02<02:17,  4.99it/s, acc_nat=0.224, acc_rob=0.144]"
     ]
    },
    {
     "name": "stdout",
     "output_type": "stream",
     "text": [
      "Epoch 67 [100/192] | loss: 1.3642 (avg: 1.3697) | acc: 0.5117 (avg: 0.5320) |\n"
     ]
    },
    {
     "name": "stderr",
     "output_type": "stream",
     "text": [
      "[eval] 327/1000:  33%|███▎      | 326/1000 [01:04<02:12,  5.07it/s, acc_nat=0.219, acc_rob=0.141]"
     ]
    },
    {
     "name": "stdout",
     "output_type": "stream",
     "text": [
      "Epoch 69 [100/192] | loss: 1.3975 (avg: 1.3558) | acc: 0.5273 (avg: 0.5364) |\n"
     ]
    },
    {
     "name": "stderr",
     "output_type": "stream",
     "text": [
      "[eval] 1000/1000: 100%|██████████| 1000/1000 [03:18<00:00,  5.03it/s, acc_nat=0.767, acc_rob=0.472]\n"
     ]
    },
    {
     "name": "stdout",
     "output_type": "stream",
     "text": [
      "Epoch 70 [0/192] | loss: 1.3281 (avg: 1.3281) | acc: 0.5703 (avg: 0.5703) |\n",
      "Epoch 70 [100/192] | loss: 1.4796 (avg: 1.3532) | acc: 0.4883 (avg: 0.5388) |\n"
     ]
    },
    {
     "name": "stderr",
     "output_type": "stream",
     "text": [
      "[eval] 1000/1000: 100%|██████████| 1000/1000 [03:19<00:00,  5.02it/s, acc_nat=0.768, acc_rob=0.468]\n"
     ]
    },
    {
     "name": "stdout",
     "output_type": "stream",
     "text": [
      "Epoch 71 [0/192] | loss: 1.3547 (avg: 1.3547) | acc: 0.5391 (avg: 0.5391) |\n",
      "Epoch 71 [100/192] | loss: 1.3661 (avg: 1.3297) | acc: 0.5312 (avg: 0.5447) |\n"
     ]
    },
    {
     "name": "stderr",
     "output_type": "stream",
     "text": [
      "[eval] 442/1000:  44%|████▍     | 442/1000 [01:28<01:55,  4.85it/s, acc_nat=0.344, acc_rob=0.204]"
     ]
    },
    {
     "name": "stdout",
     "output_type": "stream",
     "text": [
      "Epoch 72 [100/192] | loss: 1.4030 (avg: 1.3230) | acc: 0.5273 (avg: 0.5478) |\n"
     ]
    },
    {
     "name": "stderr",
     "output_type": "stream",
     "text": [
      "[eval] 1000/1000: 100%|██████████| 1000/1000 [03:17<00:00,  5.05it/s, acc_nat=0.768, acc_rob=0.447]\n"
     ]
    },
    {
     "name": "stdout",
     "output_type": "stream",
     "text": [
      "Epoch 73 [0/192] | loss: 1.4072 (avg: 1.4072) | acc: 0.5195 (avg: 0.5195) |\n",
      "Epoch 73 [100/192] | loss: 1.3994 (avg: 1.3232) | acc: 0.5078 (avg: 0.5462) |\n"
     ]
    },
    {
     "name": "stderr",
     "output_type": "stream",
     "text": [
      "[eval] 327/1000:  33%|███▎      | 326/1000 [01:05<02:16,  4.92it/s, acc_nat=0.245, acc_rob=0.163]"
     ]
    },
    {
     "name": "stdout",
     "output_type": "stream",
     "text": [
      "Epoch 74 [100/192] | loss: 1.2549 (avg: 1.3136) | acc: 0.5664 (avg: 0.5532) |\n"
     ]
    },
    {
     "name": "stderr",
     "output_type": "stream",
     "text": [
      "[eval] 326/1000:  32%|███▎      | 325/1000 [01:05<02:14,  5.00it/s, acc_nat=0.238, acc_rob=0.149]"
     ]
    },
    {
     "name": "stdout",
     "output_type": "stream",
     "text": [
      "Epoch 76 [100/192] | loss: 1.3219 (avg: 1.2983) | acc: 0.5352 (avg: 0.5557) |\n"
     ]
    },
    {
     "name": "stderr",
     "output_type": "stream",
     "text": [
      "[eval] 335/1000:  34%|███▎      | 335/1000 [01:07<02:12,  5.01it/s, acc_nat=0.261, acc_rob=0.153]"
     ]
    },
    {
     "name": "stdout",
     "output_type": "stream",
     "text": [
      "Epoch 78 [100/192] | loss: 1.3204 (avg: 1.2713) | acc: 0.5312 (avg: 0.5626) |\n"
     ]
    },
    {
     "name": "stderr",
     "output_type": "stream",
     "text": [
      "[eval] 1000/1000: 100%|██████████| 1000/1000 [03:21<00:00,  4.97it/s, acc_nat=0.723, acc_rob=0.469]\n"
     ]
    },
    {
     "name": "stdout",
     "output_type": "stream",
     "text": [
      "Epoch 79 [0/192] | loss: 1.2242 (avg: 1.2242) | acc: 0.5820 (avg: 0.5820) |\n",
      "Epoch 79 [100/192] | loss: 1.3734 (avg: 1.2732) | acc: 0.4883 (avg: 0.5582) |\n"
     ]
    },
    {
     "name": "stderr",
     "output_type": "stream",
     "text": [
      "[eval] 331/1000:  33%|███▎      | 330/1000 [01:05<02:12,  5.04it/s, acc_nat=0.26, acc_rob=0.17]  "
     ]
    },
    {
     "name": "stdout",
     "output_type": "stream",
     "text": [
      "Epoch 81 [100/192] | loss: 1.2601 (avg: 1.2602) | acc: 0.5625 (avg: 0.5668) |\n"
     ]
    },
    {
     "name": "stderr",
     "output_type": "stream",
     "text": [
      "[eval] 335/1000:  34%|███▎      | 335/1000 [01:07<02:13,  4.99it/s, acc_nat=0.25, acc_rob=0.151] "
     ]
    },
    {
     "name": "stdout",
     "output_type": "stream",
     "text": [
      "Epoch 83 [100/192] | loss: 1.3152 (avg: 1.2419) | acc: 0.5352 (avg: 0.5717) |\n"
     ]
    },
    {
     "name": "stderr",
     "output_type": "stream",
     "text": [
      "[eval] 1000/1000: 100%|██████████| 1000/1000 [03:21<00:00,  4.97it/s, acc_nat=0.771, acc_rob=0.441]\n"
     ]
    },
    {
     "name": "stdout",
     "output_type": "stream",
     "text": [
      "Epoch 84 [0/192] | loss: 1.2189 (avg: 1.2189) | acc: 0.5938 (avg: 0.5938) |\n",
      "Epoch 84 [100/192] | loss: 1.3045 (avg: 1.2314) | acc: 0.5234 (avg: 0.5767) |\n"
     ]
    },
    {
     "name": "stderr",
     "output_type": "stream",
     "text": [
      "[eval] 332/1000:  33%|███▎      | 331/1000 [01:05<02:12,  5.05it/s, acc_nat=0.259, acc_rob=0.148]"
     ]
    },
    {
     "name": "stdout",
     "output_type": "stream",
     "text": [
      "Epoch 86 [100/192] | loss: 1.2246 (avg: 1.2228) | acc: 0.6250 (avg: 0.5781) |\n"
     ]
    },
    {
     "name": "stderr",
     "output_type": "stream",
     "text": [
      "[eval] 1000/1000: 100%|██████████| 1000/1000 [03:19<00:00,  5.01it/s, acc_nat=0.777, acc_rob=0.459]\n"
     ]
    },
    {
     "name": "stdout",
     "output_type": "stream",
     "text": [
      "Epoch 87 [0/192] | loss: 1.1986 (avg: 1.1986) | acc: 0.5391 (avg: 0.5391) |\n",
      "Epoch 87 [100/192] | loss: 1.1169 (avg: 1.2060) | acc: 0.6211 (avg: 0.5840) |\n"
     ]
    },
    {
     "name": "stderr",
     "output_type": "stream",
     "text": [
      "[eval] 480/1000:  48%|████▊     | 480/1000 [01:36<01:43,  5.01it/s, acc_nat=0.372, acc_rob=0.23] "
     ]
    },
    {
     "name": "stdout",
     "output_type": "stream",
     "text": [
      "Epoch 88 [100/192] | loss: 1.2960 (avg: 1.2017) | acc: 0.5625 (avg: 0.5850) |\n"
     ]
    },
    {
     "name": "stderr",
     "output_type": "stream",
     "text": [
      "[eval] 1000/1000: 100%|██████████| 1000/1000 [03:23<00:00,  4.92it/s, acc_nat=0.787, acc_rob=0.465]\n"
     ]
    },
    {
     "name": "stdout",
     "output_type": "stream",
     "text": [
      "Epoch 89 [0/192] | loss: 1.1768 (avg: 1.1768) | acc: 0.6016 (avg: 0.6016) |\n",
      "Epoch 89 [100/192] | loss: 1.2179 (avg: 1.1854) | acc: 0.5977 (avg: 0.5893) |\n"
     ]
    },
    {
     "name": "stderr",
     "output_type": "stream",
     "text": [
      "[eval] 326/1000:  32%|███▎      | 325/1000 [01:04<02:13,  5.07it/s, acc_nat=0.256, acc_rob=0.151]"
     ]
    },
    {
     "name": "stdout",
     "output_type": "stream",
     "text": [
      "Epoch 91 [100/192] | loss: 1.1243 (avg: 1.1707) | acc: 0.6328 (avg: 0.6012) |\n"
     ]
    },
    {
     "name": "stderr",
     "output_type": "stream",
     "text": [
      "[eval] 327/1000:  33%|███▎      | 326/1000 [01:05<02:16,  4.95it/s, acc_nat=0.248, acc_rob=0.137]"
     ]
    },
    {
     "name": "stdout",
     "output_type": "stream",
     "text": [
      "Epoch 93 [100/192] | loss: 1.1527 (avg: 1.1633) | acc: 0.5898 (avg: 0.5980) |\n"
     ]
    },
    {
     "name": "stderr",
     "output_type": "stream",
     "text": [
      "[eval] 1000/1000: 100%|██████████| 1000/1000 [03:20<00:00,  4.99it/s, acc_nat=0.767, acc_rob=0.455]\n"
     ]
    },
    {
     "name": "stdout",
     "output_type": "stream",
     "text": [
      "Epoch 94 [0/192] | loss: 1.1899 (avg: 1.1899) | acc: 0.5898 (avg: 0.5898) |\n",
      "Epoch 94 [100/192] | loss: 1.2332 (avg: 1.1562) | acc: 0.5820 (avg: 0.6042) |\n"
     ]
    },
    {
     "name": "stderr",
     "output_type": "stream",
     "text": [
      "[eval] 410/1000:  41%|████      | 409/1000 [01:20<01:55,  5.13it/s, acc_nat=0.325, acc_rob=0.185]"
     ]
    },
    {
     "name": "stdout",
     "output_type": "stream",
     "text": [
      "Epoch 95 [100/192] | loss: 1.1384 (avg: 1.1425) | acc: 0.6133 (avg: 0.6077) |\n"
     ]
    },
    {
     "name": "stderr",
     "output_type": "stream",
     "text": [
      "[eval] 1000/1000: 100%|██████████| 1000/1000 [03:19<00:00,  5.02it/s, acc_nat=0.773, acc_rob=0.454]\n"
     ]
    },
    {
     "name": "stdout",
     "output_type": "stream",
     "text": [
      "Epoch 96 [0/192] | loss: 1.0889 (avg: 1.0889) | acc: 0.6445 (avg: 0.6445) |\n",
      "Epoch 96 [100/192] | loss: 1.0909 (avg: 1.1368) | acc: 0.6094 (avg: 0.6051) |\n"
     ]
    },
    {
     "name": "stderr",
     "output_type": "stream",
     "text": [
      "[eval] 1000/1000: 100%|██████████| 1000/1000 [03:17<00:00,  5.05it/s, acc_nat=0.74, acc_rob=0.481]\n"
     ]
    },
    {
     "name": "stdout",
     "output_type": "stream",
     "text": [
      "Epoch 97 [0/192] | loss: 0.9869 (avg: 0.9869) | acc: 0.7031 (avg: 0.7031) |\n",
      "Epoch 97 [100/192] | loss: 1.1539 (avg: 1.1298) | acc: 0.6094 (avg: 0.6082) |\n"
     ]
    },
    {
     "name": "stderr",
     "output_type": "stream",
     "text": [
      "[eval] 327/1000:  33%|███▎      | 326/1000 [01:04<02:14,  5.01it/s, acc_nat=0.243, acc_rob=0.148]"
     ]
    },
    {
     "name": "stdout",
     "output_type": "stream",
     "text": [
      "Epoch 98 [100/192] | loss: 1.1278 (avg: 1.1275) | acc: 0.5781 (avg: 0.6093) |\n"
     ]
    },
    {
     "name": "stderr",
     "output_type": "stream",
     "text": [
      "[eval] 327/1000:  33%|███▎      | 326/1000 [01:05<02:13,  5.03it/s, acc_nat=0.247, acc_rob=0.159]"
     ]
    },
    {
     "name": "stdout",
     "output_type": "stream",
     "text": [
      "Epoch 100 [100/192] | loss: 1.0830 (avg: 1.0999) | acc: 0.6562 (avg: 0.6201) |\n"
     ]
    },
    {
     "name": "stderr",
     "output_type": "stream",
     "text": [
      "[eval] 335/1000:  33%|███▎      | 334/1000 [01:07<02:14,  4.94it/s, acc_nat=0.266, acc_rob=0.158]"
     ]
    },
    {
     "name": "stdout",
     "output_type": "stream",
     "text": [
      "Epoch 101 [100/192] | loss: 1.0608 (avg: 1.0941) | acc: 0.6172 (avg: 0.6212) |\n"
     ]
    },
    {
     "name": "stderr",
     "output_type": "stream",
     "text": [
      "[eval] 1000/1000: 100%|██████████| 1000/1000 [03:18<00:00,  5.03it/s, acc_nat=0.804, acc_rob=0.476]\n"
     ]
    },
    {
     "name": "stdout",
     "output_type": "stream",
     "text": [
      "Epoch 102 [0/192] | loss: 1.0907 (avg: 1.0907) | acc: 0.6641 (avg: 0.6641) |\n",
      "Epoch 102 [100/192] | loss: 1.0301 (avg: 1.0954) | acc: 0.6797 (avg: 0.6211) |\n"
     ]
    },
    {
     "name": "stderr",
     "output_type": "stream",
     "text": [
      "[eval] 1000/1000: 100%|██████████| 1000/1000 [03:18<00:00,  5.04it/s, acc_nat=0.814, acc_rob=0.484]\n"
     ]
    },
    {
     "name": "stdout",
     "output_type": "stream",
     "text": [
      "Epoch 103 [0/192] | loss: 1.0844 (avg: 1.0844) | acc: 0.6055 (avg: 0.6055) |\n",
      "Epoch 103 [100/192] | loss: 1.0510 (avg: 1.0806) | acc: 0.6445 (avg: 0.6234) |\n"
     ]
    },
    {
     "name": "stderr",
     "output_type": "stream",
     "text": [
      "[eval] 326/1000:  32%|███▎      | 325/1000 [01:04<02:12,  5.08it/s, acc_nat=0.259, acc_rob=0.151]"
     ]
    },
    {
     "name": "stdout",
     "output_type": "stream",
     "text": [
      "Epoch 104 [100/192] | loss: 1.0788 (avg: 1.0757) | acc: 0.6016 (avg: 0.6224) |\n"
     ]
    },
    {
     "name": "stderr",
     "output_type": "stream",
     "text": [
      "[eval] 1000/1000: 100%|██████████| 1000/1000 [03:17<00:00,  5.06it/s, acc_nat=0.797, acc_rob=0.471]\n"
     ]
    },
    {
     "name": "stdout",
     "output_type": "stream",
     "text": [
      "Epoch 105 [0/192] | loss: 0.9403 (avg: 0.9403) | acc: 0.6836 (avg: 0.6836) |\n",
      "Epoch 105 [100/192] | loss: 0.9963 (avg: 1.0676) | acc: 0.7031 (avg: 0.6312) |\n"
     ]
    },
    {
     "name": "stderr",
     "output_type": "stream",
     "text": [
      "[eval] 330/1000:  33%|███▎      | 329/1000 [01:05<02:11,  5.09it/s, acc_nat=0.267, acc_rob=0.161]"
     ]
    },
    {
     "name": "stdout",
     "output_type": "stream",
     "text": [
      "Epoch 107 [100/192] | loss: 1.0255 (avg: 1.0549) | acc: 0.6211 (avg: 0.6314) |\n"
     ]
    },
    {
     "name": "stderr",
     "output_type": "stream",
     "text": [
      "[eval] 326/1000:  32%|███▎      | 325/1000 [01:04<02:12,  5.09it/s, acc_nat=0.263, acc_rob=0.138]"
     ]
    },
    {
     "name": "stdout",
     "output_type": "stream",
     "text": [
      "Epoch 109 [100/192] | loss: 1.0520 (avg: 1.0319) | acc: 0.6172 (avg: 0.6371) |\n"
     ]
    },
    {
     "name": "stderr",
     "output_type": "stream",
     "text": [
      "[eval] 326/1000:  33%|███▎      | 326/1000 [01:05<02:16,  4.94it/s, acc_nat=0.265, acc_rob=0.168]"
     ]
    },
    {
     "name": "stdout",
     "output_type": "stream",
     "text": [
      "Epoch 110 [100/192] | loss: 1.0342 (avg: 1.0330) | acc: 0.6523 (avg: 0.6400) |\n"
     ]
    },
    {
     "name": "stderr",
     "output_type": "stream",
     "text": [
      "[eval] 1000/1000: 100%|██████████| 1000/1000 [03:23<00:00,  4.93it/s, acc_nat=0.79, acc_rob=0.48] \n"
     ]
    },
    {
     "name": "stdout",
     "output_type": "stream",
     "text": [
      "Epoch 111 [0/192] | loss: 0.9880 (avg: 0.9880) | acc: 0.6562 (avg: 0.6562) |\n",
      "Epoch 111 [100/192] | loss: 1.0563 (avg: 1.0231) | acc: 0.6250 (avg: 0.6435) |\n"
     ]
    },
    {
     "name": "stderr",
     "output_type": "stream",
     "text": [
      "[eval] 327/1000:  33%|███▎      | 326/1000 [01:04<02:12,  5.08it/s, acc_nat=0.266, acc_rob=0.157]"
     ]
    },
    {
     "name": "stdout",
     "output_type": "stream",
     "text": [
      "Epoch 112 [100/192] | loss: 1.0264 (avg: 1.0095) | acc: 0.6016 (avg: 0.6438) |\n"
     ]
    },
    {
     "name": "stderr",
     "output_type": "stream",
     "text": [
      "[eval] 319/1000:  32%|███▏      | 318/1000 [01:03<02:17,  4.95it/s, acc_nat=0.246, acc_rob=0.148]"
     ]
    },
    {
     "name": "stdout",
     "output_type": "stream",
     "text": [
      "Epoch 114 [100/192] | loss: 1.0657 (avg: 1.0015) | acc: 0.5977 (avg: 0.6474) |\n"
     ]
    },
    {
     "name": "stderr",
     "output_type": "stream",
     "text": [
      "[eval] 1000/1000: 100%|██████████| 1000/1000 [03:20<00:00,  4.99it/s, acc_nat=0.789, acc_rob=0.481]\n"
     ]
    },
    {
     "name": "stdout",
     "output_type": "stream",
     "text": [
      "Epoch 115 [0/192] | loss: 0.9027 (avg: 0.9027) | acc: 0.6992 (avg: 0.6992) |\n",
      "Epoch 115 [100/192] | loss: 1.0733 (avg: 0.9919) | acc: 0.6484 (avg: 0.6540) |\n"
     ]
    },
    {
     "name": "stderr",
     "output_type": "stream",
     "text": [
      "[eval] 315/1000:  31%|███▏      | 314/1000 [01:03<02:18,  4.96it/s, acc_nat=0.25, acc_rob=0.136] "
     ]
    },
    {
     "name": "stdout",
     "output_type": "stream",
     "text": [
      "Epoch 117 [100/192] | loss: 0.9136 (avg: 0.9768) | acc: 0.6836 (avg: 0.6590) |\n"
     ]
    },
    {
     "name": "stderr",
     "output_type": "stream",
     "text": [
      "[eval] 1000/1000: 100%|██████████| 1000/1000 [03:22<00:00,  4.94it/s, acc_nat=0.804, acc_rob=0.473]\n"
     ]
    },
    {
     "name": "stdout",
     "output_type": "stream",
     "text": [
      "Epoch 118 [0/192] | loss: 0.8415 (avg: 0.8415) | acc: 0.7188 (avg: 0.7188) |\n",
      "Epoch 118 [100/192] | loss: 1.0198 (avg: 0.9587) | acc: 0.6445 (avg: 0.6627) |\n"
     ]
    },
    {
     "name": "stderr",
     "output_type": "stream",
     "text": [
      "[eval] 602/1000:  60%|██████    | 601/1000 [02:01<01:21,  4.89it/s, acc_nat=0.487, acc_rob=0.268]"
     ]
    },
    {
     "name": "stdout",
     "output_type": "stream",
     "text": [
      "Epoch 119 [100/192] | loss: 0.9575 (avg: 0.9460) | acc: 0.6641 (avg: 0.6701) |\n"
     ]
    },
    {
     "name": "stderr",
     "output_type": "stream",
     "text": [
      "[eval] 315/1000:  31%|███▏      | 314/1000 [01:01<02:16,  5.02it/s, acc_nat=0.265, acc_rob=0.146]"
     ]
    },
    {
     "name": "stdout",
     "output_type": "stream",
     "text": [
      "Epoch 120 [100/192] | loss: 0.9388 (avg: 0.9440) | acc: 0.6680 (avg: 0.6683) |\n"
     ]
    },
    {
     "name": "stderr",
     "output_type": "stream",
     "text": [
      "[eval] 1000/1000: 100%|██████████| 1000/1000 [03:20<00:00,  4.98it/s, acc_nat=0.788, acc_rob=0.449]\n"
     ]
    },
    {
     "name": "stdout",
     "output_type": "stream",
     "text": [
      "Epoch 121 [0/192] | loss: 0.9548 (avg: 0.9548) | acc: 0.6328 (avg: 0.6328) |\n",
      "Epoch 121 [100/192] | loss: 1.0229 (avg: 0.9463) | acc: 0.6367 (avg: 0.6673) |\n"
     ]
    },
    {
     "name": "stderr",
     "output_type": "stream",
     "text": [
      "[eval] 372/1000:  37%|███▋      | 371/1000 [01:14<02:07,  4.92it/s, acc_nat=0.293, acc_rob=0.15] "
     ]
    },
    {
     "name": "stdout",
     "output_type": "stream",
     "text": [
      "Epoch 122 [100/192] | loss: 0.9055 (avg: 0.9280) | acc: 0.6719 (avg: 0.6708) |\n"
     ]
    },
    {
     "name": "stderr",
     "output_type": "stream",
     "text": [
      "[eval] 1000/1000: 100%|██████████| 1000/1000 [03:17<00:00,  5.06it/s, acc_nat=0.8, acc_rob=0.465]\n"
     ]
    },
    {
     "name": "stdout",
     "output_type": "stream",
     "text": [
      "Epoch 123 [0/192] | loss: 1.0226 (avg: 1.0226) | acc: 0.6523 (avg: 0.6523) |\n",
      "Epoch 123 [100/192] | loss: 0.8483 (avg: 0.9226) | acc: 0.6914 (avg: 0.6758) |\n"
     ]
    },
    {
     "name": "stderr",
     "output_type": "stream",
     "text": [
      "[eval] 1000/1000: 100%|██████████| 1000/1000 [03:17<00:00,  5.08it/s, acc_nat=0.799, acc_rob=0.466]\n"
     ]
    },
    {
     "name": "stdout",
     "output_type": "stream",
     "text": [
      "Epoch 124 [0/192] | loss: 0.8343 (avg: 0.8343) | acc: 0.7344 (avg: 0.7344) |\n",
      "Epoch 124 [100/192] | loss: 0.8388 (avg: 0.9145) | acc: 0.7344 (avg: 0.6797) |\n"
     ]
    },
    {
     "name": "stderr",
     "output_type": "stream",
     "text": [
      "[eval] 327/1000:  33%|███▎      | 326/1000 [01:05<02:14,  5.00it/s, acc_nat=0.266, acc_rob=0.143]"
     ]
    },
    {
     "name": "stdout",
     "output_type": "stream",
     "text": [
      "Epoch 125 [100/192] | loss: 0.9214 (avg: 0.9064) | acc: 0.6602 (avg: 0.6810) |\n"
     ]
    },
    {
     "name": "stderr",
     "output_type": "stream",
     "text": [
      "[eval] 1000/1000: 100%|██████████| 1000/1000 [03:21<00:00,  4.95it/s, acc_nat=0.796, acc_rob=0.451]\n"
     ]
    },
    {
     "name": "stdout",
     "output_type": "stream",
     "text": [
      "Epoch 126 [0/192] | loss: 1.0091 (avg: 1.0091) | acc: 0.6172 (avg: 0.6172) |\n",
      "Epoch 126 [100/192] | loss: 0.8352 (avg: 0.9021) | acc: 0.6953 (avg: 0.6853) |\n"
     ]
    },
    {
     "name": "stderr",
     "output_type": "stream",
     "text": [
      "[eval] 440/1000:  44%|████▍     | 439/1000 [01:27<01:50,  5.06it/s, acc_nat=0.355, acc_rob=0.213]"
     ]
    },
    {
     "name": "stdout",
     "output_type": "stream",
     "text": [
      "Epoch 127 [100/192] | loss: 0.8979 (avg: 0.8983) | acc: 0.7031 (avg: 0.6856) |\n"
     ]
    },
    {
     "name": "stderr",
     "output_type": "stream",
     "text": [
      "[eval] 1000/1000: 100%|██████████| 1000/1000 [03:17<00:00,  5.07it/s, acc_nat=0.805, acc_rob=0.439]\n"
     ]
    },
    {
     "name": "stdout",
     "output_type": "stream",
     "text": [
      "Epoch 128 [0/192] | loss: 0.8606 (avg: 0.8606) | acc: 0.6914 (avg: 0.6914) |\n",
      "Epoch 128 [100/192] | loss: 0.8602 (avg: 0.8799) | acc: 0.6875 (avg: 0.6905) |\n"
     ]
    },
    {
     "name": "stderr",
     "output_type": "stream",
     "text": [
      "[eval] 315/1000:  31%|███▏      | 314/1000 [01:02<02:17,  4.98it/s, acc_nat=0.257, acc_rob=0.126]"
     ]
    },
    {
     "name": "stdout",
     "output_type": "stream",
     "text": [
      "Epoch 130 [100/192] | loss: 0.9646 (avg: 0.8801) | acc: 0.6406 (avg: 0.6896) |\n"
     ]
    },
    {
     "name": "stderr",
     "output_type": "stream",
     "text": [
      "[eval] 1000/1000: 100%|██████████| 1000/1000 [03:21<00:00,  4.97it/s, acc_nat=0.81, acc_rob=0.437]\n"
     ]
    },
    {
     "name": "stdout",
     "output_type": "stream",
     "text": [
      "Epoch 131 [0/192] | loss: 0.8648 (avg: 0.8648) | acc: 0.6953 (avg: 0.6953) |\n",
      "Epoch 131 [100/192] | loss: 0.9929 (avg: 0.8616) | acc: 0.6406 (avg: 0.6956) |\n"
     ]
    },
    {
     "name": "stderr",
     "output_type": "stream",
     "text": [
      "[eval] 307/1000:  31%|███       | 306/1000 [00:59<02:14,  5.15it/s, acc_nat=0.248, acc_rob=0.146]"
     ]
    },
    {
     "name": "stdout",
     "output_type": "stream",
     "text": [
      "Epoch 133 [100/192] | loss: 0.9096 (avg: 0.8437) | acc: 0.6797 (avg: 0.7022) |\n"
     ]
    },
    {
     "name": "stderr",
     "output_type": "stream",
     "text": [
      "[eval] 326/1000:  32%|███▎      | 325/1000 [01:05<02:15,  4.98it/s, acc_nat=0.248, acc_rob=0.137]"
     ]
    },
    {
     "name": "stdout",
     "output_type": "stream",
     "text": [
      "Epoch 136 [100/192] | loss: 0.9123 (avg: 0.8356) | acc: 0.6602 (avg: 0.7066) |\n"
     ]
    },
    {
     "name": "stderr",
     "output_type": "stream",
     "text": [
      "[eval] 375/1000:  37%|███▋      | 374/1000 [01:14<02:04,  5.03it/s, acc_nat=0.297, acc_rob=0.174]"
     ]
    },
    {
     "name": "stdout",
     "output_type": "stream",
     "text": [
      "Epoch 138 [100/192] | loss: 0.8011 (avg: 0.8158) | acc: 0.7344 (avg: 0.7094) |\n"
     ]
    },
    {
     "name": "stderr",
     "output_type": "stream",
     "text": [
      "[eval] 325/1000:  32%|███▎      | 325/1000 [01:04<02:14,  5.04it/s, acc_nat=0.272, acc_rob=0.151]"
     ]
    },
    {
     "name": "stdout",
     "output_type": "stream",
     "text": [
      "Epoch 139 [100/192] | loss: 0.7784 (avg: 0.7942) | acc: 0.7305 (avg: 0.7181) |\n"
     ]
    },
    {
     "name": "stderr",
     "output_type": "stream",
     "text": [
      "[eval] 323/1000:  32%|███▏      | 322/1000 [01:03<02:12,  5.11it/s, acc_nat=0.266, acc_rob=0.165]"
     ]
    },
    {
     "name": "stdout",
     "output_type": "stream",
     "text": [
      "Epoch 141 [100/192] | loss: 0.7861 (avg: 0.7938) | acc: 0.7422 (avg: 0.7226) |\n"
     ]
    },
    {
     "name": "stderr",
     "output_type": "stream",
     "text": [
      "[eval] 1000/1000: 100%|██████████| 1000/1000 [03:18<00:00,  5.03it/s, acc_nat=0.807, acc_rob=0.454]\n"
     ]
    },
    {
     "name": "stdout",
     "output_type": "stream",
     "text": [
      "Epoch 142 [0/192] | loss: 0.7407 (avg: 0.7407) | acc: 0.7422 (avg: 0.7422) |\n",
      "Epoch 142 [100/192] | loss: 0.7064 (avg: 0.7763) | acc: 0.7500 (avg: 0.7232) |\n"
     ]
    },
    {
     "name": "stderr",
     "output_type": "stream",
     "text": [
      "[eval] 321/1000:  32%|███▏      | 320/1000 [01:03<02:13,  5.10it/s, acc_nat=0.266, acc_rob=0.135]"
     ]
    },
    {
     "name": "stdout",
     "output_type": "stream",
     "text": [
      "Epoch 144 [100/192] | loss: 0.8387 (avg: 0.7555) | acc: 0.6758 (avg: 0.7338) |\n"
     ]
    },
    {
     "name": "stderr",
     "output_type": "stream",
     "text": [
      "[eval] 320/1000:  32%|███▏      | 319/1000 [01:04<02:18,  4.91it/s, acc_nat=0.268, acc_rob=0.141]"
     ]
    },
    {
     "name": "stdout",
     "output_type": "stream",
     "text": [
      "Epoch 147 [100/192] | loss: 0.7621 (avg: 0.7478) | acc: 0.7031 (avg: 0.7347) |\n"
     ]
    },
    {
     "name": "stderr",
     "output_type": "stream",
     "text": [
      "[eval] 1000/1000: 100%|██████████| 1000/1000 [03:20<00:00,  5.00it/s, acc_nat=0.82, acc_rob=0.435]\n"
     ]
    },
    {
     "name": "stdout",
     "output_type": "stream",
     "text": [
      "Epoch 148 [0/192] | loss: 0.7009 (avg: 0.7009) | acc: 0.7617 (avg: 0.7617) |\n",
      "Epoch 148 [100/192] | loss: 0.6944 (avg: 0.7394) | acc: 0.7422 (avg: 0.7385) |\n"
     ]
    },
    {
     "name": "stderr",
     "output_type": "stream",
     "text": [
      "[eval] 469/1000:  47%|████▋     | 468/1000 [01:34<01:46,  5.01it/s, acc_nat=0.378, acc_rob=0.211]"
     ]
    },
    {
     "name": "stdout",
     "output_type": "stream",
     "text": [
      "Epoch 149 [100/192] | loss: 0.7128 (avg: 0.7320) | acc: 0.7578 (avg: 0.7410) |\n"
     ]
    },
    {
     "name": "stderr",
     "output_type": "stream",
     "text": [
      "[eval] 1000/1000: 100%|██████████| 1000/1000 [03:21<00:00,  4.95it/s, acc_nat=0.827, acc_rob=0.427]\n"
     ]
    },
    {
     "name": "stdout",
     "output_type": "stream",
     "text": [
      "Epoch 150 [0/192] | loss: 0.7815 (avg: 0.7815) | acc: 0.7148 (avg: 0.7148) |\n",
      "Epoch 150 [100/192] | loss: 0.6687 (avg: 0.7205) | acc: 0.7695 (avg: 0.7464) |\n"
     ]
    },
    {
     "name": "stderr",
     "output_type": "stream",
     "text": [
      "[eval] 1000/1000: 100%|██████████| 1000/1000 [03:20<00:00,  5.00it/s, acc_nat=0.805, acc_rob=0.455]\n"
     ]
    },
    {
     "name": "stdout",
     "output_type": "stream",
     "text": [
      "Epoch 151 [0/192] | loss: 0.6965 (avg: 0.6965) | acc: 0.7773 (avg: 0.7773) |\n",
      "Epoch 151 [100/192] | loss: 0.8297 (avg: 0.7287) | acc: 0.6875 (avg: 0.7406) |\n"
     ]
    },
    {
     "name": "stderr",
     "output_type": "stream",
     "text": [
      "[eval] 1000/1000: 100%|██████████| 1000/1000 [03:20<00:00,  5.00it/s, acc_nat=0.801, acc_rob=0.461]\n"
     ]
    },
    {
     "name": "stdout",
     "output_type": "stream",
     "text": [
      "Epoch 152 [0/192] | loss: 0.6731 (avg: 0.6731) | acc: 0.7695 (avg: 0.7695) |\n",
      "Epoch 152 [100/192] | loss: 0.7005 (avg: 0.7151) | acc: 0.7344 (avg: 0.7493) |\n"
     ]
    },
    {
     "name": "stderr",
     "output_type": "stream",
     "text": [
      "[eval] 332/1000:  33%|███▎      | 331/1000 [01:05<02:11,  5.11it/s, acc_nat=0.281, acc_rob=0.147]"
     ]
    },
    {
     "name": "stdout",
     "output_type": "stream",
     "text": [
      "Epoch 154 [100/192] | loss: 0.6854 (avg: 0.7151) | acc: 0.7422 (avg: 0.7457) |\n"
     ]
    },
    {
     "name": "stderr",
     "output_type": "stream",
     "text": [
      "[eval] 1000/1000: 100%|██████████| 1000/1000 [03:20<00:00,  5.00it/s, acc_nat=0.829, acc_rob=0.433]\n"
     ]
    },
    {
     "name": "stdout",
     "output_type": "stream",
     "text": [
      "Epoch 155 [0/192] | loss: 0.7242 (avg: 0.7242) | acc: 0.7539 (avg: 0.7539) |\n",
      "Epoch 155 [100/192] | loss: 0.6495 (avg: 0.6863) | acc: 0.7891 (avg: 0.7585) |\n"
     ]
    },
    {
     "name": "stderr",
     "output_type": "stream",
     "text": [
      "[eval] 1000/1000: 100%|██████████| 1000/1000 [03:22<00:00,  4.94it/s, acc_nat=0.804, acc_rob=0.46]\n"
     ]
    },
    {
     "name": "stdout",
     "output_type": "stream",
     "text": [
      "Epoch 156 [0/192] | loss: 0.7358 (avg: 0.7358) | acc: 0.7500 (avg: 0.7500) |\n",
      "Epoch 156 [100/192] | loss: 0.6413 (avg: 0.7031) | acc: 0.7578 (avg: 0.7527) |\n"
     ]
    },
    {
     "name": "stderr",
     "output_type": "stream",
     "text": [
      "[eval] 359/1000:  36%|███▌      | 358/1000 [01:11<02:07,  5.05it/s, acc_nat=0.289, acc_rob=0.143]"
     ]
    },
    {
     "name": "stdout",
     "output_type": "stream",
     "text": [
      "Epoch 157 [100/192] | loss: 0.7184 (avg: 0.6822) | acc: 0.7109 (avg: 0.7569) |\n"
     ]
    },
    {
     "name": "stderr",
     "output_type": "stream",
     "text": [
      "[eval] 1000/1000: 100%|██████████| 1000/1000 [03:23<00:00,  4.92it/s, acc_nat=0.81, acc_rob=0.43]\n"
     ]
    },
    {
     "name": "stdout",
     "output_type": "stream",
     "text": [
      "Epoch 158 [0/192] | loss: 0.6596 (avg: 0.6596) | acc: 0.7695 (avg: 0.7695) |\n",
      "Epoch 158 [100/192] | loss: 0.7365 (avg: 0.6628) | acc: 0.7266 (avg: 0.7655) |\n"
     ]
    },
    {
     "name": "stderr",
     "output_type": "stream",
     "text": [
      "[eval] 326/1000:  32%|███▎      | 325/1000 [01:04<02:13,  5.05it/s, acc_nat=0.251, acc_rob=0.139]"
     ]
    },
    {
     "name": "stdout",
     "output_type": "stream",
     "text": [
      "Epoch 160 [100/192] | loss: 0.6069 (avg: 0.6592) | acc: 0.8086 (avg: 0.7678) |\n"
     ]
    },
    {
     "name": "stderr",
     "output_type": "stream",
     "text": [
      "[eval] 348/1000:  35%|███▍      | 347/1000 [01:09<02:10,  4.99it/s, acc_nat=0.292, acc_rob=0.152]"
     ]
    },
    {
     "name": "stdout",
     "output_type": "stream",
     "text": [
      "Epoch 163 [100/192] | loss: 0.6062 (avg: 0.6552) | acc: 0.7812 (avg: 0.7669) |\n"
     ]
    },
    {
     "name": "stderr",
     "output_type": "stream",
     "text": [
      "[eval] 1000/1000: 100%|██████████| 1000/1000 [03:20<00:00,  4.98it/s, acc_nat=0.8, acc_rob=0.449] \n"
     ]
    },
    {
     "name": "stdout",
     "output_type": "stream",
     "text": [
      "Epoch 164 [0/192] | loss: 0.7146 (avg: 0.7146) | acc: 0.7227 (avg: 0.7227) |\n",
      "Epoch 164 [100/192] | loss: 0.5864 (avg: 0.6265) | acc: 0.7969 (avg: 0.7817) |\n"
     ]
    },
    {
     "name": "stderr",
     "output_type": "stream",
     "text": [
      "[eval] 1000/1000: 100%|██████████| 1000/1000 [03:17<00:00,  5.07it/s, acc_nat=0.829, acc_rob=0.438]\n"
     ]
    },
    {
     "name": "stdout",
     "output_type": "stream",
     "text": [
      "Epoch 165 [0/192] | loss: 0.5912 (avg: 0.5912) | acc: 0.7969 (avg: 0.7969) |\n",
      "Epoch 165 [100/192] | loss: 0.6176 (avg: 0.6336) | acc: 0.7656 (avg: 0.7773) |\n"
     ]
    },
    {
     "name": "stderr",
     "output_type": "stream",
     "text": [
      "[eval] 324/1000:  32%|███▏      | 323/1000 [01:03<02:12,  5.10it/s, acc_nat=0.267, acc_rob=0.153]"
     ]
    },
    {
     "name": "stdout",
     "output_type": "stream",
     "text": [
      "Epoch 167 [100/192] | loss: 0.5534 (avg: 0.6226) | acc: 0.8203 (avg: 0.7797) |\n"
     ]
    },
    {
     "name": "stderr",
     "output_type": "stream",
     "text": [
      "[eval] 1000/1000: 100%|██████████| 1000/1000 [03:21<00:00,  4.97it/s, acc_nat=0.807, acc_rob=0.435]\n"
     ]
    },
    {
     "name": "stdout",
     "output_type": "stream",
     "text": [
      "Epoch 168 [0/192] | loss: 0.6266 (avg: 0.6266) | acc: 0.7734 (avg: 0.7734) |\n",
      "Epoch 168 [100/192] | loss: 0.5845 (avg: 0.6185) | acc: 0.7773 (avg: 0.7827) |\n"
     ]
    },
    {
     "name": "stderr",
     "output_type": "stream",
     "text": [
      "[eval] 279/1000:  28%|██▊       | 278/1000 [00:54<02:21,  5.10it/s, acc_nat=0.226, acc_rob=0.13] "
     ]
    },
    {
     "name": "stdout",
     "output_type": "stream",
     "text": [
      "Epoch 170 [100/192] | loss: 0.5703 (avg: 0.6004) | acc: 0.8086 (avg: 0.7862) |\n"
     ]
    },
    {
     "name": "stderr",
     "output_type": "stream",
     "text": [
      "[eval] 1000/1000: 100%|██████████| 1000/1000 [03:22<00:00,  4.94it/s, acc_nat=0.822, acc_rob=0.423]\n"
     ]
    },
    {
     "name": "stdout",
     "output_type": "stream",
     "text": [
      "Epoch 171 [0/192] | loss: 0.5816 (avg: 0.5816) | acc: 0.8008 (avg: 0.8008) |\n",
      "Epoch 171 [100/192] | loss: 0.5573 (avg: 0.6029) | acc: 0.8242 (avg: 0.7867) |\n"
     ]
    },
    {
     "name": "stderr",
     "output_type": "stream",
     "text": [
      "[eval] 323/1000:  32%|███▏      | 322/1000 [01:04<02:14,  5.02it/s, acc_nat=0.261, acc_rob=0.131]"
     ]
    },
    {
     "name": "stdout",
     "output_type": "stream",
     "text": [
      "Epoch 173 [100/192] | loss: 0.5464 (avg: 0.5774) | acc: 0.8203 (avg: 0.7970) |\n"
     ]
    },
    {
     "name": "stderr",
     "output_type": "stream",
     "text": [
      "[eval] 1000/1000: 100%|██████████| 1000/1000 [03:21<00:00,  4.97it/s, acc_nat=0.823, acc_rob=0.437]\n"
     ]
    },
    {
     "name": "stdout",
     "output_type": "stream",
     "text": [
      "Epoch 174 [0/192] | loss: 0.5197 (avg: 0.5197) | acc: 0.8242 (avg: 0.8242) |\n",
      "Epoch 174 [100/192] | loss: 0.5954 (avg: 0.5798) | acc: 0.7930 (avg: 0.7957) |\n"
     ]
    },
    {
     "name": "stderr",
     "output_type": "stream",
     "text": [
      "[eval] 618/1000:  62%|██████▏   | 618/1000 [02:05<01:18,  4.87it/s, acc_nat=0.495, acc_rob=0.278]"
     ]
    },
    {
     "name": "stdout",
     "output_type": "stream",
     "text": [
      "Epoch 175 [100/192] | loss: 0.5111 (avg: 0.5791) | acc: 0.8203 (avg: 0.7987) |\n"
     ]
    },
    {
     "name": "stderr",
     "output_type": "stream",
     "text": [
      "[eval] 325/1000:  32%|███▎      | 325/1000 [01:05<02:15,  5.00it/s, acc_nat=0.26, acc_rob=0.149] "
     ]
    },
    {
     "name": "stdout",
     "output_type": "stream",
     "text": [
      "Epoch 176 [100/192] | loss: 0.5553 (avg: 0.5837) | acc: 0.8008 (avg: 0.7923) |\n"
     ]
    },
    {
     "name": "stderr",
     "output_type": "stream",
     "text": [
      "[eval] 326/1000:  32%|███▎      | 325/1000 [01:04<02:13,  5.05it/s, acc_nat=0.27, acc_rob=0.149] "
     ]
    },
    {
     "name": "stdout",
     "output_type": "stream",
     "text": [
      "Epoch 178 [100/192] | loss: 0.5445 (avg: 0.5686) | acc: 0.7969 (avg: 0.8018) |\n"
     ]
    },
    {
     "name": "stderr",
     "output_type": "stream",
     "text": [
      "[eval] 334/1000:  33%|███▎      | 333/1000 [01:05<02:10,  5.10it/s, acc_nat=0.27, acc_rob=0.149] "
     ]
    },
    {
     "name": "stdout",
     "output_type": "stream",
     "text": [
      "Epoch 179 [100/192] | loss: 0.5461 (avg: 0.5525) | acc: 0.7930 (avg: 0.8055) |\n"
     ]
    },
    {
     "name": "stderr",
     "output_type": "stream",
     "text": [
      "[eval] 334/1000:  33%|███▎      | 333/1000 [01:06<02:11,  5.07it/s, acc_nat=0.283, acc_rob=0.158]"
     ]
    },
    {
     "name": "stdout",
     "output_type": "stream",
     "text": [
      "Epoch 181 [100/192] | loss: 0.6103 (avg: 0.5351) | acc: 0.8047 (avg: 0.8159) |\n"
     ]
    },
    {
     "name": "stderr",
     "output_type": "stream",
     "text": [
      "[eval] 333/1000:  33%|███▎      | 333/1000 [01:05<02:12,  5.05it/s, acc_nat=0.271, acc_rob=0.138]"
     ]
    },
    {
     "name": "stdout",
     "output_type": "stream",
     "text": [
      "Epoch 182 [100/192] | loss: 0.4811 (avg: 0.5376) | acc: 0.8359 (avg: 0.8121) |\n"
     ]
    },
    {
     "name": "stderr",
     "output_type": "stream",
     "text": [
      "[eval] 324/1000:  32%|███▏      | 323/1000 [01:04<02:14,  5.05it/s, acc_nat=0.26, acc_rob=0.146] "
     ]
    },
    {
     "name": "stdout",
     "output_type": "stream",
     "text": [
      "Epoch 185 [100/192] | loss: 0.5602 (avg: 0.5246) | acc: 0.7891 (avg: 0.8160) |\n"
     ]
    },
    {
     "name": "stderr",
     "output_type": "stream",
     "text": [
      "[eval] 334/1000:  33%|███▎      | 334/1000 [01:07<02:13,  4.98it/s, acc_nat=0.272, acc_rob=0.135]"
     ]
    },
    {
     "name": "stdout",
     "output_type": "stream",
     "text": [
      "Epoch 188 [100/192] | loss: 0.4637 (avg: 0.5099) | acc: 0.8438 (avg: 0.8216) |\n"
     ]
    },
    {
     "name": "stderr",
     "output_type": "stream",
     "text": [
      "[eval] 1000/1000: 100%|██████████| 1000/1000 [03:21<00:00,  4.96it/s, acc_nat=0.819, acc_rob=0.423]\n"
     ]
    },
    {
     "name": "stdout",
     "output_type": "stream",
     "text": [
      "Epoch 189 [0/192] | loss: 0.5476 (avg: 0.5476) | acc: 0.8008 (avg: 0.8008) |\n",
      "Epoch 189 [100/192] | loss: 0.4811 (avg: 0.5060) | acc: 0.8320 (avg: 0.8239) |\n"
     ]
    },
    {
     "name": "stderr",
     "output_type": "stream",
     "text": [
      "[eval] 1000/1000: 100%|██████████| 1000/1000 [03:20<00:00,  5.00it/s, acc_nat=0.812, acc_rob=0.421]\n"
     ]
    },
    {
     "name": "stdout",
     "output_type": "stream",
     "text": [
      "Epoch 190 [0/192] | loss: 0.5175 (avg: 0.5175) | acc: 0.8164 (avg: 0.8164) |\n",
      "Epoch 190 [100/192] | loss: 0.5322 (avg: 0.5073) | acc: 0.8164 (avg: 0.8218) |\n"
     ]
    },
    {
     "name": "stderr",
     "output_type": "stream",
     "text": [
      "[eval] 314/1000:  31%|███▏      | 313/1000 [01:03<02:17,  4.99it/s, acc_nat=0.254, acc_rob=0.126]"
     ]
    },
    {
     "name": "stdout",
     "output_type": "stream",
     "text": [
      "Epoch 191 [100/192] | loss: 0.5468 (avg: 0.4856) | acc: 0.8164 (avg: 0.8301) |\n"
     ]
    },
    {
     "name": "stderr",
     "output_type": "stream",
     "text": [
      "[eval] 326/1000:  32%|███▎      | 325/1000 [01:05<02:15,  4.97it/s, acc_nat=0.262, acc_rob=0.141]"
     ]
    },
    {
     "name": "stdout",
     "output_type": "stream",
     "text": [
      "Epoch 194 [100/192] | loss: 0.4856 (avg: 0.4863) | acc: 0.8320 (avg: 0.8295) |\n"
     ]
    },
    {
     "name": "stderr",
     "output_type": "stream",
     "text": [
      "[eval] 1000/1000: 100%|██████████| 1000/1000 [03:22<00:00,  4.94it/s, acc_nat=0.808, acc_rob=0.405]\n"
     ]
    },
    {
     "name": "stdout",
     "output_type": "stream",
     "text": [
      "Epoch 195 [0/192] | loss: 0.4781 (avg: 0.4781) | acc: 0.8359 (avg: 0.8359) |\n",
      "Epoch 195 [100/192] | loss: 0.4654 (avg: 0.4732) | acc: 0.8281 (avg: 0.8340) |\n"
     ]
    },
    {
     "name": "stderr",
     "output_type": "stream",
     "text": [
      "[eval] 322/1000:  32%|███▏      | 321/1000 [01:03<02:24,  4.71it/s, acc_nat=0.257, acc_rob=0.136]"
     ]
    },
    {
     "name": "stdout",
     "output_type": "stream",
     "text": [
      "Epoch 197 [100/192] | loss: 0.5173 (avg: 0.4622) | acc: 0.8438 (avg: 0.8369) |\n"
     ]
    },
    {
     "name": "stderr",
     "output_type": "stream",
     "text": [
      "[eval] 1000/1000: 100%|██████████| 1000/1000 [03:18<00:00,  5.05it/s, acc_nat=0.811, acc_rob=0.421]\n"
     ]
    },
    {
     "name": "stdout",
     "output_type": "stream",
     "text": [
      "Epoch 198 [0/192] | loss: 0.4464 (avg: 0.4464) | acc: 0.8281 (avg: 0.8281) |\n",
      "Epoch 198 [100/192] | loss: 0.4713 (avg: 0.4682) | acc: 0.8203 (avg: 0.8361) |\n"
     ]
    },
    {
     "name": "stderr",
     "output_type": "stream",
     "text": [
      "[eval] 326/1000:  32%|███▎      | 325/1000 [01:05<02:14,  5.03it/s, acc_nat=0.27, acc_rob=0.147] "
     ]
    },
    {
     "name": "stdout",
     "output_type": "stream",
     "text": [
      "Epoch 201 [100/192] | loss: 0.3166 (avg: 0.3477) | acc: 0.9023 (avg: 0.8830) |\n"
     ]
    },
    {
     "name": "stderr",
     "output_type": "stream",
     "text": [
      "[eval] 297/1000:  30%|██▉       | 296/1000 [00:59<02:18,  5.07it/s, acc_nat=0.253, acc_rob=0.126]"
     ]
    }
   ],
   "source": [
    "os.environ['CUDA_VISIBLE_DEVICES'] = gpu\n",
    "os.makedirs(checkpoint, exist_ok=True)\n",
    "\n",
    "train_transform = transforms.Compose([\n",
    "    transforms.RandomCrop(32, padding=4),\n",
    "    transforms.RandomHorizontalFlip(),\n",
    "    transforms.ToTensor()])\n",
    "train_dataset, _ = get_dataloader(dataset, batch_size)\n",
    "num_samples = len(train_dataset)\n",
    "num_samples_for_train = int(num_samples * 0.98)\n",
    "num_samples_for_valid = num_samples - num_samples_for_train\n",
    "train_set, valid_set = random_split(train_dataset, [num_samples_for_train, num_samples_for_valid])\n",
    "train_dataloader = DataLoader(train_set, batch_size=batch_size, shuffle=True, drop_last=False)\n",
    "valid_dataloader = DataLoader(valid_set, batch_size=1, shuffle=True, drop_last=False)\n",
    "\n",
    "model = nn.DataParallel(get_network(model_type, num_classes, use_pc=True).cuda())\n",
    "optimizer = optim.SGD(model.parameters(),lr=lr, momentum=momentum)\n",
    "\n",
    "for epoch in range(warmup_epochs):\n",
    "    xent_training(epoch, model, train_dataloader, optimizer, num_classes)\n",
    "    test_acc_nat, test_acc_rob = evaluation(epoch, model, valid_dataloader, alpha, epsilon, num_repeats)\n",
    "\n",
    "num_hidden = model.module.fc2.in_features\n",
    "prox = Proximity(num_classes=num_classes, feat_dim=num_hidden, use_gpu=True)\n",
    "conprox = Con_Proximity(num_classes=num_classes, feat_dim=num_hidden, use_gpu=True)\n",
    "optim_prox = optim.SGD(prox.parameters(), lr=lr_prox)\n",
    "optim_conprox = optim.SGD(conprox.parameters(), lr=lr_conprox)\n",
    "\n",
    "scheduler = [200, 250]\n",
    "adjust_learning_rate = lr_scheduler.MultiStepLR(optimizer, scheduler, gamma=0.1)\n",
    "adjust_learning_rate_prox = lr_scheduler.MultiStepLR(optim_prox, scheduler, gamma=0.1)\n",
    "adjust_learning_rate_conprox = lr_scheduler.MultiStepLR(optim_conprox, scheduler, gamma=0.1)\n",
    "best_acc_nat, best_acc_rob = 0, 0\n",
    "\n",
    "for epoch in range(with_pc_epochs):\n",
    "    training(epoch, model, train_dataloader, optimizer, num_classes, prox, conprox,\n",
    "             optim_prox, optim_conprox, weight_prox, weight_conprox, epsilon, alpha, num_repeats)\n",
    "    test_acc_nat, test_acc_rob = evaluation(epoch, model, valid_dataloader, alpha, epsilon, num_repeats)\n",
    "        \n",
    "    is_best = best_acc_nat < test_acc_nat and best_acc_rob < test_acc_rob\n",
    "    best_acc_nat = max(best_acc_nat, test_acc_nat)\n",
    "    best_acc_rob = max(best_acc_rob, test_acc_rob)\n",
    "    save_checkpoint = {'state_dict': model.state_dict(),\n",
    "                       'best_acc_nat': best_acc_nat,\n",
    "                       'best_acc_rob': best_acc_rob,\n",
    "                       'optimizer': optimizer.state_dict(),\n",
    "                       'model_type': model_type,\n",
    "                       'dataset': dataset}\n",
    "    torch.save(save_checkpoint, os.path.join(checkpoint, 'model'))\n",
    "    if is_best:\n",
    "        torch.save(save_checkpoint, os.path.join(checkpoint, 'best_model'))\n",
    "    adjust_learning_rate.step()\n",
    "    adjust_learning_rate_prox.step()\n",
    "    adjust_learning_rate_conprox.step()"
   ]
  },
  {
   "cell_type": "code",
   "execution_count": null,
   "id": "67273057-ddb6-4294-b7ae-3aa932ab0cea",
   "metadata": {},
   "outputs": [],
   "source": []
  },
  {
   "cell_type": "code",
   "execution_count": null,
   "id": "c1816d1c-8d05-48d9-8954-c993447a3e53",
   "metadata": {},
   "outputs": [],
   "source": []
  }
 ],
 "metadata": {
  "kernelspec": {
   "display_name": "Python 3",
   "language": "python",
   "name": "python3"
  },
  "language_info": {
   "codemirror_mode": {
    "name": "ipython",
    "version": 3
   },
   "file_extension": ".py",
   "mimetype": "text/x-python",
   "name": "python",
   "nbconvert_exporter": "python",
   "pygments_lexer": "ipython3",
   "version": "3.6.9"
  }
 },
 "nbformat": 4,
 "nbformat_minor": 5
}
