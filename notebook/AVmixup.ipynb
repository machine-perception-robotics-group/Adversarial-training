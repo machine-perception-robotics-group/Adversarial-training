{
 "cells": [
  {
   "cell_type": "markdown",
   "id": "be933234-4b51-41a5-a5a0-9b831b916f96",
   "metadata": {
    "tags": []
   },
   "source": [
    "# Adversarial vertex mixup (AVmixup)"
   ]
  },
  {
   "cell_type": "code",
   "execution_count": 1,
   "id": "85eb3db2-6a80-4e98-8a62-4fd714fc9189",
   "metadata": {},
   "outputs": [],
   "source": [
    "import os\n",
    "import sys\n",
    "sys.path.append('..')\n",
    "import yaml\n",
    "import shutil\n",
    "import argparse\n",
    "import numpy as np\n",
    "from tqdm import tqdm\n",
    "from collections import OrderedDict\n",
    "\n",
    "import torch\n",
    "import torch.nn as nn\n",
    "import torch.nn.functional as F\n",
    "import torch.optim as optim\n",
    "from torch.optim import lr_scheduler\n",
    "from torch.utils.data import DataLoader, random_split\n",
    "\n",
    "from utils import *"
   ]
  },
  {
   "cell_type": "markdown",
   "id": "66240c81-1be4-4a34-af22-21a6292e0ff9",
   "metadata": {},
   "source": [
    "## Parameter setting"
   ]
  },
  {
   "cell_type": "code",
   "execution_count": 2,
   "id": "01de849e-a804-4062-aef7-4cfcd5999b2c",
   "metadata": {},
   "outputs": [],
   "source": [
    "gpu = '4,5,6,7'\n",
    "dataset = 'cifar10'\n",
    "model_type = 'wrn34-10'\n",
    "checkpoint = './checkpoint/avmixup/%s/%s' % (model_type, dataset)\n",
    "num_classes = 10\n",
    "lr = 0.1\n",
    "momentum = 0.9\n",
    "weight_decay = 2e-4\n",
    "batch_size = 128\n",
    "total_epochs = 210\n",
    "lam1 = 1\n",
    "lam2 = 0.1\n",
    "gamma = 2\n",
    "epsilon = 8/255\n",
    "alpha = 2/255\n",
    "num_repeats = 10"
   ]
  },
  {
   "cell_type": "markdown",
   "id": "8c102405-4d46-45e0-b957-9e7022b7ae2f",
   "metadata": {},
   "source": [
    "## Inner maximization"
   ]
  },
  {
   "cell_type": "code",
   "execution_count": 3,
   "id": "2ee44a0f-0acc-41c3-95a0-e477e167e679",
   "metadata": {},
   "outputs": [],
   "source": [
    "def inner_max(model, xent, inputs, targets, epsilon, alpha, num_repeats):\n",
    "    noise = torch.FloatTensor(inputs.shape).uniform_(-epsilon, epsilon).cuda()\n",
    "    x = torch.clamp(inputs + noise, min=0, max=1)\n",
    "    \n",
    "    for _ in range(num_repeats):\n",
    "        x.requires_grad_()\n",
    "        logits = model(x)\n",
    "        loss = xent(logits, targets)\n",
    "        loss.backward()\n",
    "        grads = x.grad.data\n",
    "        x = x.detach() + alpha*torch.sign(grads).detach()\n",
    "        x = torch.min(torch.max(x, inputs-epsilon), inputs+epsilon).clamp(min=0, max=1)\n",
    "    return x"
   ]
  },
  {
   "cell_type": "markdown",
   "id": "afe2591b-4ebf-4714-a3f4-85cdac7f272d",
   "metadata": {},
   "source": [
    "## Training (Outer minimization)"
   ]
  },
  {
   "cell_type": "code",
   "execution_count": 4,
   "id": "db2276c9-d52b-4544-8448-42817161084d",
   "metadata": {},
   "outputs": [],
   "source": [
    "def training(epoch, model, dataloader, optimizer, num_classes, lam1, lam2,\n",
    "             gamma=2, epsilon=8/255, alpha=2/255, num_repeats=10):\n",
    "    model.train()\n",
    "    total = 0\n",
    "    total_loss = 0\n",
    "    total_correct = 0\n",
    "        \n",
    "    xent = nn.CrossEntropyLoss()\n",
    "    for idx, (inputs, targets) in enumerate(dataloader):\n",
    "        inputs, targets = inputs.cuda(), targets.cuda()\n",
    "        \n",
    "        batch = inputs.size(0)\n",
    "        x = inner_max(model, xent, inputs, targets, epsilon, alpha, num_repeats)\n",
    "        pert = (x - inputs) * gamma\n",
    "        x_av = torch.clamp(inputs + pert, min=0, max=1)\n",
    "        onehot = torch.eye(num_classes)[targets].cuda()\n",
    "        y_nat = onehot * lam1 + (onehot - 1) * ((lam1 - 1)/(num_classes - 1))\n",
    "        y_adv = onehot * lam2 + (onehot - 1) * ((lam2 - 1)/(num_classes - 1))\n",
    "        weight_x = torch.from_numpy(np.random.beta(1, 1, [x.size(0), 1, 1, 1])).float().cuda()\n",
    "        weight_y = weight_x.view(batch, -1)\n",
    "        x = weight_x * inputs + (1 - weight_x) * x_av\n",
    "        y = weight_y * y_nat + (1 - weight_y) * y_adv\n",
    "        \n",
    "        logits = model(x)\n",
    "        \n",
    "        loss = torch.sum(-y * torch.log_softmax(logits, dim=1))/batch\n",
    "            \n",
    "        optimizer.zero_grad()\n",
    "        loss.backward()\n",
    "        optimizer.step()\n",
    "            \n",
    "        total += batch\n",
    "        total_loss += loss.item()\n",
    "        num_correct = logits.softmax(dim=1).argmax(dim=1).eq(targets).cpu().sum().item()\n",
    "        total_correct += num_correct\n",
    "        \n",
    "        if idx % 100 == 0:\n",
    "            print('Epoch %d [%d/%d] | loss: %.4f (avg: %.4f) | acc: %.4f (avg: %.4f) |'\\\n",
    "                  % (epoch, idx, len(dataloader), loss.item(), \n",
    "                     total_loss/(idx+1), \n",
    "                     num_correct/batch, total_correct/total))"
   ]
  },
  {
   "cell_type": "code",
   "execution_count": 5,
   "id": "2ff1c8d2-8e9c-441c-b471-9eb237eb3bf0",
   "metadata": {},
   "outputs": [],
   "source": [
    "def evaluation(epoch, model, dataloader, alpha, epsilon, num_repeats):\n",
    "    model.eval()\n",
    "    total_correct_nat = 0\n",
    "    total_correct_adv = 0\n",
    "    \n",
    "    xent = nn.CrossEntropyLoss()\n",
    "    with tqdm(dataloader) as pbar:\n",
    "        for index, (inputs, targets) in enumerate(pbar):\n",
    "            inputs, targets = inputs.cuda(), targets.cuda()\n",
    "            batch = inputs.size(0)\n",
    "            pbar.set_description(\"[eval] %d/%d\" % (index+1, len(dataloader.dataset)))\n",
    "            \n",
    "            x = inner_max(model, xent, inputs, targets, epsilon, alpha, num_repeats)\n",
    "            with torch.no_grad():\n",
    "                logits_nat = model(inputs)\n",
    "                logits_adv = model(x)\n",
    "            total_correct_nat += torch.argmax(logits_nat.data, dim=1).eq(targets.data).cpu().sum().item()\n",
    "            total_correct_adv += torch.argmax(logits_adv.data, dim=1).eq(targets.data).cpu().sum().item()\n",
    "            pbar.set_postfix(OrderedDict(acc_nat=total_correct_nat / len(dataloader.dataset),\n",
    "                                         acc_rob=total_correct_adv / len(dataloader.dataset)))\n",
    "    \n",
    "    return (total_correct_nat / len(dataloader.dataset)), (total_correct_adv / len(dataloader.dataset))"
   ]
  },
  {
   "cell_type": "code",
   "execution_count": null,
   "id": "208f000e-cb35-4ad5-93d5-fe47f788b266",
   "metadata": {
    "collapsed": true,
    "jupyter": {
     "outputs_hidden": true
    },
    "tags": []
   },
   "outputs": [
    {
     "name": "stdout",
     "output_type": "stream",
     "text": [
      "Files already downloaded and verified\n",
      "Files already downloaded and verified\n",
      "Epoch 0 [0/383] | loss: 2.5306 (avg: 2.5306) | acc: 0.0000 (avg: 0.0000) |\n",
      "Epoch 0 [100/383] | loss: 2.2604 (avg: 2.3196) | acc: 0.1562 (avg: 0.1451) |\n",
      "Epoch 0 [200/383] | loss: 2.2263 (avg: 2.2843) | acc: 0.2422 (avg: 0.1759) |\n",
      "Epoch 0 [300/383] | loss: 2.2165 (avg: 2.2676) | acc: 0.2656 (avg: 0.1935) |\n"
     ]
    },
    {
     "name": "stderr",
     "output_type": "stream",
     "text": [
      "[eval] 1000/1000: 100%|██████████| 1000/1000 [03:22<00:00,  4.93it/s, acc_nat=0.359, acc_rob=0.253]\n"
     ]
    },
    {
     "name": "stdout",
     "output_type": "stream",
     "text": [
      "Epoch 1 [0/383] | loss: 2.2059 (avg: 2.2059) | acc: 0.2422 (avg: 0.2422) |\n",
      "Epoch 1 [100/383] | loss: 2.2068 (avg: 2.2141) | acc: 0.2656 (avg: 0.2468) |\n",
      "Epoch 1 [200/383] | loss: 2.1723 (avg: 2.2101) | acc: 0.3281 (avg: 0.2512) |\n",
      "Epoch 1 [300/383] | loss: 2.1487 (avg: 2.2051) | acc: 0.3359 (avg: 0.2565) |\n"
     ]
    },
    {
     "name": "stderr",
     "output_type": "stream",
     "text": [
      "[eval] 1000/1000: 100%|██████████| 1000/1000 [03:19<00:00,  5.00it/s, acc_nat=0.421, acc_rob=0.283]\n"
     ]
    },
    {
     "name": "stdout",
     "output_type": "stream",
     "text": [
      "Epoch 2 [0/383] | loss: 2.2167 (avg: 2.2167) | acc: 0.2266 (avg: 0.2266) |\n",
      "Epoch 2 [100/383] | loss: 2.2098 (avg: 2.1836) | acc: 0.2500 (avg: 0.2808) |\n",
      "Epoch 2 [200/383] | loss: 2.1544 (avg: 2.1831) | acc: 0.3594 (avg: 0.2794) |\n",
      "Epoch 2 [300/383] | loss: 2.2269 (avg: 2.1791) | acc: 0.2109 (avg: 0.2836) |\n"
     ]
    },
    {
     "name": "stderr",
     "output_type": "stream",
     "text": [
      "[eval] 1000/1000: 100%|██████████| 1000/1000 [03:31<00:00,  4.73it/s, acc_nat=0.525, acc_rob=0.295]\n"
     ]
    },
    {
     "name": "stdout",
     "output_type": "stream",
     "text": [
      "Epoch 3 [0/383] | loss: 2.0794 (avg: 2.0794) | acc: 0.3516 (avg: 0.3516) |\n",
      "Epoch 3 [100/383] | loss: 2.1787 (avg: 2.1591) | acc: 0.2734 (avg: 0.3065) |\n",
      "Epoch 3 [200/383] | loss: 2.1062 (avg: 2.1577) | acc: 0.3828 (avg: 0.3069) |\n",
      "Epoch 3 [300/383] | loss: 2.1529 (avg: 2.1574) | acc: 0.2500 (avg: 0.3080) |\n"
     ]
    },
    {
     "name": "stderr",
     "output_type": "stream",
     "text": [
      "[eval] 1000/1000: 100%|██████████| 1000/1000 [03:19<00:00,  5.02it/s, acc_nat=0.538, acc_rob=0.316]\n"
     ]
    },
    {
     "name": "stdout",
     "output_type": "stream",
     "text": [
      "Epoch 4 [0/383] | loss: 2.1359 (avg: 2.1359) | acc: 0.3359 (avg: 0.3359) |\n",
      "Epoch 4 [100/383] | loss: 2.1432 (avg: 2.1339) | acc: 0.2812 (avg: 0.3304) |\n",
      "Epoch 4 [200/383] | loss: 2.1371 (avg: 2.1358) | acc: 0.2969 (avg: 0.3328) |\n",
      "Epoch 4 [300/383] | loss: 2.0340 (avg: 2.1329) | acc: 0.4531 (avg: 0.3348) |\n"
     ]
    },
    {
     "name": "stderr",
     "output_type": "stream",
     "text": [
      "[eval] 1000/1000: 100%|██████████| 1000/1000 [03:20<00:00,  4.98it/s, acc_nat=0.58, acc_rob=0.324]\n"
     ]
    },
    {
     "name": "stdout",
     "output_type": "stream",
     "text": [
      "Epoch 5 [0/383] | loss: 2.0922 (avg: 2.0922) | acc: 0.3594 (avg: 0.3594) |\n",
      "Epoch 5 [100/383] | loss: 2.0828 (avg: 2.1193) | acc: 0.3828 (avg: 0.3520) |\n",
      "Epoch 5 [200/383] | loss: 2.0467 (avg: 2.1155) | acc: 0.4219 (avg: 0.3544) |\n",
      "Epoch 5 [300/383] | loss: 2.1236 (avg: 2.1160) | acc: 0.3203 (avg: 0.3532) |\n"
     ]
    },
    {
     "name": "stderr",
     "output_type": "stream",
     "text": [
      "[eval] 1000/1000: 100%|██████████| 1000/1000 [03:22<00:00,  4.94it/s, acc_nat=0.613, acc_rob=0.354]\n"
     ]
    },
    {
     "name": "stdout",
     "output_type": "stream",
     "text": [
      "Epoch 6 [0/383] | loss: 2.0552 (avg: 2.0552) | acc: 0.4609 (avg: 0.4609) |\n",
      "Epoch 6 [100/383] | loss: 2.0457 (avg: 2.0971) | acc: 0.4219 (avg: 0.3687) |\n",
      "Epoch 6 [200/383] | loss: 2.0645 (avg: 2.0985) | acc: 0.3828 (avg: 0.3691) |\n",
      "Epoch 6 [300/383] | loss: 2.0633 (avg: 2.0991) | acc: 0.4141 (avg: 0.3669) |\n"
     ]
    },
    {
     "name": "stderr",
     "output_type": "stream",
     "text": [
      "[eval] 1000/1000: 100%|██████████| 1000/1000 [03:22<00:00,  4.93it/s, acc_nat=0.648, acc_rob=0.373]\n"
     ]
    },
    {
     "name": "stdout",
     "output_type": "stream",
     "text": [
      "Epoch 7 [0/383] | loss: 2.0427 (avg: 2.0427) | acc: 0.4375 (avg: 0.4375) |\n",
      "Epoch 7 [100/383] | loss: 2.0167 (avg: 2.0863) | acc: 0.4375 (avg: 0.3815) |\n",
      "Epoch 7 [200/383] | loss: 2.1168 (avg: 2.0892) | acc: 0.3594 (avg: 0.3785) |\n",
      "Epoch 7 [300/383] | loss: 2.0446 (avg: 2.0890) | acc: 0.4219 (avg: 0.3780) |\n"
     ]
    },
    {
     "name": "stderr",
     "output_type": "stream",
     "text": [
      "[eval] 1000/1000: 100%|██████████| 1000/1000 [03:17<00:00,  5.06it/s, acc_nat=0.665, acc_rob=0.347]\n"
     ]
    },
    {
     "name": "stdout",
     "output_type": "stream",
     "text": [
      "Epoch 8 [0/383] | loss: 2.0747 (avg: 2.0747) | acc: 0.3906 (avg: 0.3906) |\n",
      "Epoch 8 [100/383] | loss: 2.0304 (avg: 2.0796) | acc: 0.3750 (avg: 0.3880) |\n",
      "Epoch 8 [200/383] | loss: 2.0872 (avg: 2.0762) | acc: 0.4219 (avg: 0.3921) |\n",
      "Epoch 8 [300/383] | loss: 2.0718 (avg: 2.0754) | acc: 0.3594 (avg: 0.3932) |\n"
     ]
    },
    {
     "name": "stderr",
     "output_type": "stream",
     "text": [
      "[eval] 1000/1000: 100%|██████████| 1000/1000 [03:21<00:00,  4.96it/s, acc_nat=0.674, acc_rob=0.38]\n"
     ]
    },
    {
     "name": "stdout",
     "output_type": "stream",
     "text": [
      "Epoch 9 [0/383] | loss: 2.0768 (avg: 2.0768) | acc: 0.3984 (avg: 0.3984) |\n",
      "Epoch 9 [100/383] | loss: 2.0366 (avg: 2.0695) | acc: 0.4609 (avg: 0.4012) |\n",
      "Epoch 9 [200/383] | loss: 2.0784 (avg: 2.0708) | acc: 0.3828 (avg: 0.3996) |\n",
      "Epoch 9 [300/383] | loss: 2.0805 (avg: 2.0692) | acc: 0.3750 (avg: 0.4015) |\n"
     ]
    },
    {
     "name": "stderr",
     "output_type": "stream",
     "text": [
      "[eval] 1000/1000: 100%|██████████| 1000/1000 [03:16<00:00,  5.09it/s, acc_nat=0.687, acc_rob=0.388]\n"
     ]
    },
    {
     "name": "stdout",
     "output_type": "stream",
     "text": [
      "Epoch 10 [0/383] | loss: 2.0003 (avg: 2.0003) | acc: 0.4375 (avg: 0.4375) |\n",
      "Epoch 10 [100/383] | loss: 2.0779 (avg: 2.0645) | acc: 0.3672 (avg: 0.4093) |\n",
      "Epoch 10 [200/383] | loss: 2.0824 (avg: 2.0628) | acc: 0.3984 (avg: 0.4109) |\n",
      "Epoch 10 [300/383] | loss: 2.0873 (avg: 2.0604) | acc: 0.4219 (avg: 0.4136) |\n"
     ]
    },
    {
     "name": "stderr",
     "output_type": "stream",
     "text": [
      "[eval] 1000/1000: 100%|██████████| 1000/1000 [03:21<00:00,  4.97it/s, acc_nat=0.718, acc_rob=0.406]\n"
     ]
    },
    {
     "name": "stdout",
     "output_type": "stream",
     "text": [
      "Epoch 11 [0/383] | loss: 2.0202 (avg: 2.0202) | acc: 0.4219 (avg: 0.4219) |\n",
      "Epoch 11 [100/383] | loss: 2.0282 (avg: 2.0482) | acc: 0.4375 (avg: 0.4200) |\n",
      "Epoch 11 [200/383] | loss: 1.9556 (avg: 2.0487) | acc: 0.4453 (avg: 0.4183) |\n",
      "Epoch 11 [300/383] | loss: 2.1240 (avg: 2.0527) | acc: 0.3516 (avg: 0.4177) |\n"
     ]
    },
    {
     "name": "stderr",
     "output_type": "stream",
     "text": [
      "[eval] 1000/1000: 100%|██████████| 1000/1000 [03:14<00:00,  5.15it/s, acc_nat=0.694, acc_rob=0.37]\n"
     ]
    },
    {
     "name": "stdout",
     "output_type": "stream",
     "text": [
      "Epoch 12 [0/383] | loss: 2.0708 (avg: 2.0708) | acc: 0.4219 (avg: 0.4219) |\n",
      "Epoch 12 [100/383] | loss: 1.9984 (avg: 2.0429) | acc: 0.4766 (avg: 0.4305) |\n",
      "Epoch 12 [200/383] | loss: 1.9916 (avg: 2.0407) | acc: 0.4141 (avg: 0.4305) |\n",
      "Epoch 12 [300/383] | loss: 2.0816 (avg: 2.0409) | acc: 0.4297 (avg: 0.4284) |\n"
     ]
    },
    {
     "name": "stderr",
     "output_type": "stream",
     "text": [
      "[eval] 1000/1000: 100%|██████████| 1000/1000 [03:15<00:00,  5.11it/s, acc_nat=0.732, acc_rob=0.409]\n"
     ]
    },
    {
     "name": "stdout",
     "output_type": "stream",
     "text": [
      "Epoch 13 [0/383] | loss: 1.9671 (avg: 1.9671) | acc: 0.4766 (avg: 0.4766) |\n",
      "Epoch 13 [100/383] | loss: 1.9810 (avg: 2.0306) | acc: 0.5781 (avg: 0.4411) |\n",
      "Epoch 13 [200/383] | loss: 2.0836 (avg: 2.0330) | acc: 0.3516 (avg: 0.4348) |\n",
      "Epoch 13 [300/383] | loss: 2.0725 (avg: 2.0361) | acc: 0.3672 (avg: 0.4338) |\n"
     ]
    },
    {
     "name": "stderr",
     "output_type": "stream",
     "text": [
      "[eval] 1000/1000: 100%|██████████| 1000/1000 [03:18<00:00,  5.03it/s, acc_nat=0.725, acc_rob=0.43]\n"
     ]
    },
    {
     "name": "stdout",
     "output_type": "stream",
     "text": [
      "Epoch 14 [0/383] | loss: 2.1469 (avg: 2.1469) | acc: 0.3828 (avg: 0.3828) |\n",
      "Epoch 14 [100/383] | loss: 2.0891 (avg: 2.0359) | acc: 0.4297 (avg: 0.4407) |\n",
      "Epoch 14 [200/383] | loss: 2.1075 (avg: 2.0320) | acc: 0.3984 (avg: 0.4427) |\n",
      "Epoch 14 [300/383] | loss: 2.0327 (avg: 2.0306) | acc: 0.4297 (avg: 0.4430) |\n"
     ]
    },
    {
     "name": "stderr",
     "output_type": "stream",
     "text": [
      "[eval] 1000/1000: 100%|██████████| 1000/1000 [03:23<00:00,  4.92it/s, acc_nat=0.74, acc_rob=0.417]\n"
     ]
    },
    {
     "name": "stdout",
     "output_type": "stream",
     "text": [
      "Epoch 15 [0/383] | loss: 1.9765 (avg: 1.9765) | acc: 0.4609 (avg: 0.4609) |\n",
      "Epoch 15 [100/383] | loss: 2.0201 (avg: 2.0177) | acc: 0.3906 (avg: 0.4512) |\n",
      "Epoch 15 [200/383] | loss: 2.0131 (avg: 2.0186) | acc: 0.4297 (avg: 0.4504) |\n",
      "Epoch 15 [300/383] | loss: 1.9841 (avg: 2.0195) | acc: 0.4531 (avg: 0.4505) |\n"
     ]
    },
    {
     "name": "stderr",
     "output_type": "stream",
     "text": [
      "[eval] 1000/1000: 100%|██████████| 1000/1000 [03:17<00:00,  5.07it/s, acc_nat=0.731, acc_rob=0.443]\n"
     ]
    },
    {
     "name": "stdout",
     "output_type": "stream",
     "text": [
      "Epoch 16 [0/383] | loss: 1.9349 (avg: 1.9349) | acc: 0.5391 (avg: 0.5391) |\n",
      "Epoch 16 [100/383] | loss: 2.0721 (avg: 2.0135) | acc: 0.3906 (avg: 0.4586) |\n",
      "Epoch 16 [200/383] | loss: 1.9542 (avg: 2.0166) | acc: 0.5078 (avg: 0.4544) |\n",
      "Epoch 16 [300/383] | loss: 2.0466 (avg: 2.0167) | acc: 0.4297 (avg: 0.4557) |\n"
     ]
    },
    {
     "name": "stderr",
     "output_type": "stream",
     "text": [
      "[eval] 1000/1000: 100%|██████████| 1000/1000 [03:18<00:00,  5.03it/s, acc_nat=0.744, acc_rob=0.437]\n"
     ]
    },
    {
     "name": "stdout",
     "output_type": "stream",
     "text": [
      "Epoch 17 [0/383] | loss: 2.0264 (avg: 2.0264) | acc: 0.4141 (avg: 0.4141) |\n",
      "Epoch 17 [100/383] | loss: 2.0777 (avg: 2.0014) | acc: 0.4375 (avg: 0.4671) |\n",
      "Epoch 17 [200/383] | loss: 1.9797 (avg: 2.0074) | acc: 0.4844 (avg: 0.4607) |\n",
      "Epoch 17 [300/383] | loss: 2.0306 (avg: 2.0088) | acc: 0.4609 (avg: 0.4592) |\n"
     ]
    },
    {
     "name": "stderr",
     "output_type": "stream",
     "text": [
      "[eval] 1000/1000: 100%|██████████| 1000/1000 [03:17<00:00,  5.06it/s, acc_nat=0.761, acc_rob=0.487]\n"
     ]
    },
    {
     "name": "stdout",
     "output_type": "stream",
     "text": [
      "Epoch 18 [0/383] | loss: 1.9942 (avg: 1.9942) | acc: 0.5078 (avg: 0.5078) |\n",
      "Epoch 18 [100/383] | loss: 2.0334 (avg: 2.0066) | acc: 0.4453 (avg: 0.4643) |\n",
      "Epoch 18 [200/383] | loss: 2.0031 (avg: 2.0075) | acc: 0.5156 (avg: 0.4649) |\n",
      "Epoch 18 [300/383] | loss: 1.9398 (avg: 2.0066) | acc: 0.5000 (avg: 0.4670) |\n"
     ]
    },
    {
     "name": "stderr",
     "output_type": "stream",
     "text": [
      "[eval] 1000/1000: 100%|██████████| 1000/1000 [03:20<00:00,  4.99it/s, acc_nat=0.776, acc_rob=0.488]\n"
     ]
    },
    {
     "name": "stdout",
     "output_type": "stream",
     "text": [
      "Epoch 19 [0/383] | loss: 2.0641 (avg: 2.0641) | acc: 0.5000 (avg: 0.5000) |\n",
      "Epoch 19 [100/383] | loss: 1.9852 (avg: 1.9921) | acc: 0.5781 (avg: 0.4789) |\n",
      "Epoch 19 [200/383] | loss: 1.9871 (avg: 1.9968) | acc: 0.4766 (avg: 0.4766) |\n",
      "Epoch 19 [300/383] | loss: 2.0242 (avg: 1.9987) | acc: 0.4844 (avg: 0.4744) |\n"
     ]
    },
    {
     "name": "stderr",
     "output_type": "stream",
     "text": [
      "[eval] 1000/1000: 100%|██████████| 1000/1000 [03:19<00:00,  5.00it/s, acc_nat=0.767, acc_rob=0.468]\n"
     ]
    },
    {
     "name": "stdout",
     "output_type": "stream",
     "text": [
      "Epoch 20 [0/383] | loss: 1.9803 (avg: 1.9803) | acc: 0.4844 (avg: 0.4844) |\n",
      "Epoch 20 [100/383] | loss: 2.0830 (avg: 1.9907) | acc: 0.4453 (avg: 0.4776) |\n",
      "Epoch 20 [200/383] | loss: 1.9419 (avg: 1.9899) | acc: 0.4688 (avg: 0.4781) |\n",
      "Epoch 20 [300/383] | loss: 2.0103 (avg: 1.9894) | acc: 0.4688 (avg: 0.4798) |\n"
     ]
    },
    {
     "name": "stderr",
     "output_type": "stream",
     "text": [
      "[eval] 1000/1000: 100%|██████████| 1000/1000 [03:18<00:00,  5.05it/s, acc_nat=0.776, acc_rob=0.476]\n"
     ]
    },
    {
     "name": "stdout",
     "output_type": "stream",
     "text": [
      "Epoch 21 [0/383] | loss: 2.0277 (avg: 2.0277) | acc: 0.5234 (avg: 0.5234) |\n",
      "Epoch 21 [100/383] | loss: 1.9941 (avg: 1.9855) | acc: 0.5234 (avg: 0.4787) |\n",
      "Epoch 21 [200/383] | loss: 1.9416 (avg: 1.9858) | acc: 0.5938 (avg: 0.4831) |\n",
      "Epoch 21 [300/383] | loss: 2.0141 (avg: 1.9882) | acc: 0.4844 (avg: 0.4821) |\n"
     ]
    },
    {
     "name": "stderr",
     "output_type": "stream",
     "text": [
      "[eval] 1000/1000: 100%|██████████| 1000/1000 [03:15<00:00,  5.12it/s, acc_nat=0.785, acc_rob=0.489]\n"
     ]
    },
    {
     "name": "stdout",
     "output_type": "stream",
     "text": [
      "Epoch 22 [0/383] | loss: 1.9476 (avg: 1.9476) | acc: 0.5234 (avg: 0.5234) |\n",
      "Epoch 22 [100/383] | loss: 1.8774 (avg: 1.9737) | acc: 0.5234 (avg: 0.4965) |\n",
      "Epoch 22 [200/383] | loss: 2.0130 (avg: 1.9781) | acc: 0.4766 (avg: 0.4950) |\n",
      "Epoch 22 [300/383] | loss: 1.9578 (avg: 1.9792) | acc: 0.4844 (avg: 0.4932) |\n"
     ]
    },
    {
     "name": "stderr",
     "output_type": "stream",
     "text": [
      "[eval] 1000/1000: 100%|██████████| 1000/1000 [03:20<00:00,  4.99it/s, acc_nat=0.775, acc_rob=0.522]\n"
     ]
    },
    {
     "name": "stdout",
     "output_type": "stream",
     "text": [
      "Epoch 23 [0/383] | loss: 1.9836 (avg: 1.9836) | acc: 0.5781 (avg: 0.5781) |\n",
      "Epoch 23 [100/383] | loss: 2.0604 (avg: 1.9756) | acc: 0.4219 (avg: 0.4937) |\n",
      "Epoch 23 [200/383] | loss: 2.0929 (avg: 1.9775) | acc: 0.4141 (avg: 0.4957) |\n",
      "Epoch 23 [300/383] | loss: 2.0281 (avg: 1.9764) | acc: 0.4609 (avg: 0.4956) |\n"
     ]
    },
    {
     "name": "stderr",
     "output_type": "stream",
     "text": [
      "[eval] 1000/1000: 100%|██████████| 1000/1000 [03:16<00:00,  5.09it/s, acc_nat=0.79, acc_rob=0.481]\n"
     ]
    },
    {
     "name": "stdout",
     "output_type": "stream",
     "text": [
      "Epoch 24 [0/383] | loss: 1.9302 (avg: 1.9302) | acc: 0.4844 (avg: 0.4844) |\n",
      "Epoch 24 [100/383] | loss: 1.9908 (avg: 1.9682) | acc: 0.4766 (avg: 0.5046) |\n",
      "Epoch 24 [200/383] | loss: 1.9539 (avg: 1.9677) | acc: 0.5469 (avg: 0.5031) |\n",
      "Epoch 24 [300/383] | loss: 1.9154 (avg: 1.9689) | acc: 0.5547 (avg: 0.5012) |\n"
     ]
    },
    {
     "name": "stderr",
     "output_type": "stream",
     "text": [
      "[eval] 1000/1000: 100%|██████████| 1000/1000 [03:20<00:00,  4.98it/s, acc_nat=0.784, acc_rob=0.509]\n"
     ]
    },
    {
     "name": "stdout",
     "output_type": "stream",
     "text": [
      "Epoch 25 [0/383] | loss: 1.9622 (avg: 1.9622) | acc: 0.5469 (avg: 0.5469) |\n",
      "Epoch 25 [100/383] | loss: 1.9812 (avg: 1.9651) | acc: 0.4844 (avg: 0.5080) |\n",
      "Epoch 25 [200/383] | loss: 1.8924 (avg: 1.9634) | acc: 0.5078 (avg: 0.5066) |\n",
      "Epoch 25 [300/383] | loss: 1.9701 (avg: 1.9606) | acc: 0.4844 (avg: 0.5060) |\n"
     ]
    },
    {
     "name": "stderr",
     "output_type": "stream",
     "text": [
      "[eval] 1000/1000: 100%|██████████| 1000/1000 [03:20<00:00,  4.98it/s, acc_nat=0.806, acc_rob=0.521]\n"
     ]
    },
    {
     "name": "stdout",
     "output_type": "stream",
     "text": [
      "Epoch 26 [0/383] | loss: 1.8993 (avg: 1.8993) | acc: 0.4844 (avg: 0.4844) |\n",
      "Epoch 26 [100/383] | loss: 1.8937 (avg: 1.9524) | acc: 0.5781 (avg: 0.5086) |\n",
      "Epoch 26 [200/383] | loss: 2.0015 (avg: 1.9506) | acc: 0.4609 (avg: 0.5116) |\n",
      "Epoch 26 [300/383] | loss: 1.9998 (avg: 1.9475) | acc: 0.5000 (avg: 0.5131) |\n"
     ]
    },
    {
     "name": "stderr",
     "output_type": "stream",
     "text": [
      "[eval] 1000/1000: 100%|██████████| 1000/1000 [03:24<00:00,  4.90it/s, acc_nat=0.804, acc_rob=0.512]\n"
     ]
    },
    {
     "name": "stdout",
     "output_type": "stream",
     "text": [
      "Epoch 27 [0/383] | loss: 2.0026 (avg: 2.0026) | acc: 0.5312 (avg: 0.5312) |\n",
      "Epoch 27 [100/383] | loss: 1.9398 (avg: 1.9460) | acc: 0.4766 (avg: 0.5242) |\n",
      "Epoch 27 [200/383] | loss: 2.0668 (avg: 1.9489) | acc: 0.4219 (avg: 0.5175) |\n",
      "Epoch 27 [300/383] | loss: 1.8959 (avg: 1.9422) | acc: 0.5703 (avg: 0.5197) |\n"
     ]
    },
    {
     "name": "stderr",
     "output_type": "stream",
     "text": [
      "[eval] 1000/1000: 100%|██████████| 1000/1000 [03:17<00:00,  5.07it/s, acc_nat=0.821, acc_rob=0.544]\n"
     ]
    },
    {
     "name": "stdout",
     "output_type": "stream",
     "text": [
      "Epoch 28 [0/383] | loss: 1.9156 (avg: 1.9156) | acc: 0.5234 (avg: 0.5234) |\n",
      "Epoch 28 [100/383] | loss: 1.9748 (avg: 1.9409) | acc: 0.4844 (avg: 0.5180) |\n",
      "Epoch 28 [200/383] | loss: 1.9173 (avg: 1.9365) | acc: 0.5156 (avg: 0.5229) |\n",
      "Epoch 28 [300/383] | loss: 1.9756 (avg: 1.9386) | acc: 0.5156 (avg: 0.5237) |\n"
     ]
    },
    {
     "name": "stderr",
     "output_type": "stream",
     "text": [
      "[eval] 1000/1000: 100%|██████████| 1000/1000 [03:18<00:00,  5.03it/s, acc_nat=0.799, acc_rob=0.538]\n"
     ]
    },
    {
     "name": "stdout",
     "output_type": "stream",
     "text": [
      "Epoch 29 [0/383] | loss: 1.9911 (avg: 1.9911) | acc: 0.5156 (avg: 0.5156) |\n",
      "Epoch 29 [100/383] | loss: 1.9524 (avg: 1.9377) | acc: 0.4766 (avg: 0.5260) |\n",
      "Epoch 29 [200/383] | loss: 1.9839 (avg: 1.9424) | acc: 0.5078 (avg: 0.5247) |\n",
      "Epoch 29 [300/383] | loss: 1.9774 (avg: 1.9438) | acc: 0.5312 (avg: 0.5246) |\n"
     ]
    },
    {
     "name": "stderr",
     "output_type": "stream",
     "text": [
      "[eval] 1000/1000: 100%|██████████| 1000/1000 [03:18<00:00,  5.04it/s, acc_nat=0.825, acc_rob=0.524]\n"
     ]
    },
    {
     "name": "stdout",
     "output_type": "stream",
     "text": [
      "Epoch 30 [0/383] | loss: 1.8821 (avg: 1.8821) | acc: 0.5156 (avg: 0.5156) |\n",
      "Epoch 30 [100/383] | loss: 1.9780 (avg: 1.9093) | acc: 0.5234 (avg: 0.5379) |\n",
      "Epoch 30 [200/383] | loss: 1.9695 (avg: 1.9116) | acc: 0.6016 (avg: 0.5360) |\n",
      "Epoch 30 [300/383] | loss: 1.8720 (avg: 1.9139) | acc: 0.5781 (avg: 0.5349) |\n"
     ]
    },
    {
     "name": "stderr",
     "output_type": "stream",
     "text": [
      "[eval] 1000/1000: 100%|██████████| 1000/1000 [03:17<00:00,  5.08it/s, acc_nat=0.827, acc_rob=0.529]\n"
     ]
    },
    {
     "name": "stdout",
     "output_type": "stream",
     "text": [
      "Epoch 31 [0/383] | loss: 1.8879 (avg: 1.8879) | acc: 0.5703 (avg: 0.5703) |\n",
      "Epoch 31 [100/383] | loss: 1.9501 (avg: 1.9363) | acc: 0.5000 (avg: 0.5239) |\n",
      "Epoch 31 [200/383] | loss: 1.9770 (avg: 1.9313) | acc: 0.5625 (avg: 0.5338) |\n",
      "Epoch 31 [300/383] | loss: 1.8233 (avg: 1.9227) | acc: 0.5781 (avg: 0.5359) |\n"
     ]
    },
    {
     "name": "stderr",
     "output_type": "stream",
     "text": [
      "[eval] 1000/1000: 100%|██████████| 1000/1000 [03:14<00:00,  5.13it/s, acc_nat=0.812, acc_rob=0.49]\n"
     ]
    },
    {
     "name": "stdout",
     "output_type": "stream",
     "text": [
      "Epoch 32 [0/383] | loss: 1.8755 (avg: 1.8755) | acc: 0.5781 (avg: 0.5781) |\n",
      "Epoch 32 [100/383] | loss: 1.9293 (avg: 1.9013) | acc: 0.5078 (avg: 0.5469) |\n",
      "Epoch 32 [200/383] | loss: 1.7754 (avg: 1.9066) | acc: 0.6094 (avg: 0.5427) |\n",
      "Epoch 32 [300/383] | loss: 1.9871 (avg: 1.9100) | acc: 0.5000 (avg: 0.5394) |\n"
     ]
    },
    {
     "name": "stderr",
     "output_type": "stream",
     "text": [
      "[eval] 1000/1000: 100%|██████████| 1000/1000 [03:20<00:00,  4.99it/s, acc_nat=0.828, acc_rob=0.515]\n"
     ]
    },
    {
     "name": "stdout",
     "output_type": "stream",
     "text": [
      "Epoch 33 [0/383] | loss: 1.9467 (avg: 1.9467) | acc: 0.5391 (avg: 0.5391) |\n",
      "Epoch 33 [100/383] | loss: 1.8220 (avg: 1.9045) | acc: 0.5625 (avg: 0.5476) |\n",
      "Epoch 33 [200/383] | loss: 1.8617 (avg: 1.9019) | acc: 0.5938 (avg: 0.5469) |\n",
      "Epoch 33 [300/383] | loss: 1.8536 (avg: 1.9034) | acc: 0.5547 (avg: 0.5468) |\n"
     ]
    },
    {
     "name": "stderr",
     "output_type": "stream",
     "text": [
      "[eval] 1000/1000: 100%|██████████| 1000/1000 [03:18<00:00,  5.04it/s, acc_nat=0.858, acc_rob=0.568]\n"
     ]
    },
    {
     "name": "stdout",
     "output_type": "stream",
     "text": [
      "Epoch 34 [0/383] | loss: 1.8811 (avg: 1.8811) | acc: 0.5547 (avg: 0.5547) |\n",
      "Epoch 34 [100/383] | loss: 1.8537 (avg: 1.8900) | acc: 0.5312 (avg: 0.5531) |\n",
      "Epoch 34 [200/383] | loss: 1.8460 (avg: 1.8919) | acc: 0.5859 (avg: 0.5527) |\n",
      "Epoch 34 [300/383] | loss: 1.8844 (avg: 1.8941) | acc: 0.5312 (avg: 0.5523) |\n"
     ]
    },
    {
     "name": "stderr",
     "output_type": "stream",
     "text": [
      "[eval] 1000/1000: 100%|██████████| 1000/1000 [03:20<00:00,  5.00it/s, acc_nat=0.806, acc_rob=0.538]\n"
     ]
    },
    {
     "name": "stdout",
     "output_type": "stream",
     "text": [
      "Epoch 35 [0/383] | loss: 1.9745 (avg: 1.9745) | acc: 0.5234 (avg: 0.5234) |\n",
      "Epoch 35 [100/383] | loss: 1.8961 (avg: 1.9041) | acc: 0.6250 (avg: 0.5497) |\n",
      "Epoch 35 [200/383] | loss: 1.9904 (avg: 1.8944) | acc: 0.5234 (avg: 0.5530) |\n",
      "Epoch 35 [300/383] | loss: 1.9754 (avg: 1.8949) | acc: 0.5234 (avg: 0.5498) |\n"
     ]
    },
    {
     "name": "stderr",
     "output_type": "stream",
     "text": [
      "[eval] 1000/1000: 100%|██████████| 1000/1000 [03:21<00:00,  4.96it/s, acc_nat=0.836, acc_rob=0.498]\n"
     ]
    },
    {
     "name": "stdout",
     "output_type": "stream",
     "text": [
      "Epoch 36 [0/383] | loss: 1.8933 (avg: 1.8933) | acc: 0.5078 (avg: 0.5078) |\n",
      "Epoch 36 [100/383] | loss: 1.8810 (avg: 1.9060) | acc: 0.6016 (avg: 0.5499) |\n",
      "Epoch 36 [200/383] | loss: 1.9739 (avg: 1.8998) | acc: 0.4922 (avg: 0.5528) |\n",
      "Epoch 36 [300/383] | loss: 1.8514 (avg: 1.8935) | acc: 0.5859 (avg: 0.5542) |\n"
     ]
    },
    {
     "name": "stderr",
     "output_type": "stream",
     "text": [
      "[eval] 1000/1000: 100%|██████████| 1000/1000 [03:21<00:00,  4.97it/s, acc_nat=0.849, acc_rob=0.531]\n"
     ]
    },
    {
     "name": "stdout",
     "output_type": "stream",
     "text": [
      "Epoch 37 [0/383] | loss: 1.8651 (avg: 1.8651) | acc: 0.5703 (avg: 0.5703) |\n",
      "Epoch 37 [100/383] | loss: 1.9940 (avg: 1.8838) | acc: 0.4688 (avg: 0.5589) |\n",
      "Epoch 37 [200/383] | loss: 1.9905 (avg: 1.8886) | acc: 0.5156 (avg: 0.5587) |\n",
      "Epoch 37 [300/383] | loss: 1.8866 (avg: 1.8841) | acc: 0.5859 (avg: 0.5593) |\n"
     ]
    },
    {
     "name": "stderr",
     "output_type": "stream",
     "text": [
      "[eval] 1000/1000: 100%|██████████| 1000/1000 [03:20<00:00,  4.98it/s, acc_nat=0.816, acc_rob=0.525]\n"
     ]
    },
    {
     "name": "stdout",
     "output_type": "stream",
     "text": [
      "Epoch 38 [0/383] | loss: 1.6969 (avg: 1.6969) | acc: 0.6406 (avg: 0.6406) |\n",
      "Epoch 38 [100/383] | loss: 1.8616 (avg: 1.8776) | acc: 0.5938 (avg: 0.5595) |\n",
      "Epoch 38 [200/383] | loss: 1.9133 (avg: 1.8856) | acc: 0.5000 (avg: 0.5571) |\n",
      "Epoch 38 [300/383] | loss: 1.9065 (avg: 1.8875) | acc: 0.4844 (avg: 0.5568) |\n"
     ]
    },
    {
     "name": "stderr",
     "output_type": "stream",
     "text": [
      "[eval] 1000/1000: 100%|██████████| 1000/1000 [03:17<00:00,  5.05it/s, acc_nat=0.856, acc_rob=0.535]\n"
     ]
    },
    {
     "name": "stdout",
     "output_type": "stream",
     "text": [
      "Epoch 39 [0/383] | loss: 1.7323 (avg: 1.7323) | acc: 0.6250 (avg: 0.6250) |\n",
      "Epoch 39 [100/383] | loss: 1.8981 (avg: 1.8744) | acc: 0.6172 (avg: 0.5668) |\n",
      "Epoch 39 [200/383] | loss: 1.9070 (avg: 1.8762) | acc: 0.4141 (avg: 0.5646) |\n",
      "Epoch 39 [300/383] | loss: 1.7957 (avg: 1.8761) | acc: 0.5859 (avg: 0.5613) |\n"
     ]
    },
    {
     "name": "stderr",
     "output_type": "stream",
     "text": [
      "[eval] 1000/1000: 100%|██████████| 1000/1000 [03:17<00:00,  5.05it/s, acc_nat=0.843, acc_rob=0.528]\n"
     ]
    },
    {
     "name": "stdout",
     "output_type": "stream",
     "text": [
      "Epoch 40 [0/383] | loss: 1.8697 (avg: 1.8697) | acc: 0.5781 (avg: 0.5781) |\n",
      "Epoch 40 [100/383] | loss: 1.8427 (avg: 1.8610) | acc: 0.5859 (avg: 0.5695) |\n",
      "Epoch 40 [200/383] | loss: 1.8982 (avg: 1.8659) | acc: 0.5625 (avg: 0.5675) |\n",
      "Epoch 40 [300/383] | loss: 1.8350 (avg: 1.8702) | acc: 0.5938 (avg: 0.5629) |\n"
     ]
    },
    {
     "name": "stderr",
     "output_type": "stream",
     "text": [
      "[eval] 1000/1000: 100%|██████████| 1000/1000 [03:20<00:00,  4.98it/s, acc_nat=0.868, acc_rob=0.529]\n"
     ]
    },
    {
     "name": "stdout",
     "output_type": "stream",
     "text": [
      "Epoch 41 [0/383] | loss: 1.8298 (avg: 1.8298) | acc: 0.5703 (avg: 0.5703) |\n",
      "Epoch 41 [100/383] | loss: 1.8695 (avg: 1.8656) | acc: 0.5547 (avg: 0.5671) |\n",
      "Epoch 41 [200/383] | loss: 1.9540 (avg: 1.8699) | acc: 0.4922 (avg: 0.5643) |\n",
      "Epoch 41 [300/383] | loss: 1.8476 (avg: 1.8735) | acc: 0.5234 (avg: 0.5601) |\n"
     ]
    },
    {
     "name": "stderr",
     "output_type": "stream",
     "text": [
      "[eval] 1000/1000: 100%|██████████| 1000/1000 [03:25<00:00,  4.88it/s, acc_nat=0.873, acc_rob=0.524]\n"
     ]
    },
    {
     "name": "stdout",
     "output_type": "stream",
     "text": [
      "Epoch 42 [0/383] | loss: 1.8574 (avg: 1.8574) | acc: 0.5859 (avg: 0.5859) |\n",
      "Epoch 42 [100/383] | loss: 1.8293 (avg: 1.8689) | acc: 0.5859 (avg: 0.5608) |\n",
      "Epoch 42 [200/383] | loss: 1.8369 (avg: 1.8658) | acc: 0.5781 (avg: 0.5660) |\n",
      "Epoch 42 [300/383] | loss: 1.7589 (avg: 1.8639) | acc: 0.5938 (avg: 0.5634) |\n"
     ]
    },
    {
     "name": "stderr",
     "output_type": "stream",
     "text": [
      "[eval] 1000/1000: 100%|██████████| 1000/1000 [03:18<00:00,  5.04it/s, acc_nat=0.828, acc_rob=0.475]\n"
     ]
    },
    {
     "name": "stdout",
     "output_type": "stream",
     "text": [
      "Epoch 43 [0/383] | loss: 1.8003 (avg: 1.8003) | acc: 0.6484 (avg: 0.6484) |\n",
      "Epoch 43 [100/383] | loss: 1.8143 (avg: 1.8400) | acc: 0.6016 (avg: 0.5712) |\n",
      "Epoch 43 [200/383] | loss: 1.9214 (avg: 1.8548) | acc: 0.5234 (avg: 0.5653) |\n",
      "Epoch 43 [300/383] | loss: 1.9445 (avg: 1.8562) | acc: 0.5469 (avg: 0.5658) |\n"
     ]
    },
    {
     "name": "stderr",
     "output_type": "stream",
     "text": [
      "[eval] 1000/1000: 100%|██████████| 1000/1000 [03:18<00:00,  5.04it/s, acc_nat=0.878, acc_rob=0.514]\n"
     ]
    },
    {
     "name": "stdout",
     "output_type": "stream",
     "text": [
      "Epoch 44 [0/383] | loss: 1.7773 (avg: 1.7773) | acc: 0.5859 (avg: 0.5859) |\n",
      "Epoch 44 [100/383] | loss: 1.8371 (avg: 1.8575) | acc: 0.5781 (avg: 0.5709) |\n",
      "Epoch 44 [200/383] | loss: 1.8567 (avg: 1.8551) | acc: 0.5938 (avg: 0.5699) |\n",
      "Epoch 44 [300/383] | loss: 1.8849 (avg: 1.8580) | acc: 0.5469 (avg: 0.5661) |\n"
     ]
    },
    {
     "name": "stderr",
     "output_type": "stream",
     "text": [
      "[eval] 1000/1000: 100%|██████████| 1000/1000 [03:21<00:00,  4.96it/s, acc_nat=0.847, acc_rob=0.501]\n"
     ]
    },
    {
     "name": "stdout",
     "output_type": "stream",
     "text": [
      "Epoch 45 [0/383] | loss: 1.8330 (avg: 1.8330) | acc: 0.5859 (avg: 0.5859) |\n",
      "Epoch 45 [100/383] | loss: 1.9132 (avg: 1.8606) | acc: 0.4688 (avg: 0.5658) |\n",
      "Epoch 45 [200/383] | loss: 1.9106 (avg: 1.8569) | acc: 0.4766 (avg: 0.5668) |\n",
      "Epoch 45 [300/383] | loss: 1.8273 (avg: 1.8590) | acc: 0.5547 (avg: 0.5631) |\n"
     ]
    },
    {
     "name": "stderr",
     "output_type": "stream",
     "text": [
      "[eval] 1000/1000: 100%|██████████| 1000/1000 [03:20<00:00,  4.98it/s, acc_nat=0.86, acc_rob=0.508]\n"
     ]
    },
    {
     "name": "stdout",
     "output_type": "stream",
     "text": [
      "Epoch 46 [0/383] | loss: 1.7662 (avg: 1.7662) | acc: 0.6250 (avg: 0.6250) |\n",
      "Epoch 46 [100/383] | loss: 1.8997 (avg: 1.8428) | acc: 0.5078 (avg: 0.5770) |\n",
      "Epoch 46 [200/383] | loss: 1.8556 (avg: 1.8412) | acc: 0.6094 (avg: 0.5770) |\n",
      "Epoch 46 [300/383] | loss: 1.9297 (avg: 1.8458) | acc: 0.5312 (avg: 0.5707) |\n"
     ]
    },
    {
     "name": "stderr",
     "output_type": "stream",
     "text": [
      "[eval] 1000/1000: 100%|██████████| 1000/1000 [03:19<00:00,  5.01it/s, acc_nat=0.863, acc_rob=0.466]\n"
     ]
    },
    {
     "name": "stdout",
     "output_type": "stream",
     "text": [
      "Epoch 47 [0/383] | loss: 1.8548 (avg: 1.8548) | acc: 0.5234 (avg: 0.5234) |\n",
      "Epoch 47 [100/383] | loss: 1.9036 (avg: 1.8262) | acc: 0.5312 (avg: 0.5771) |\n",
      "Epoch 47 [200/383] | loss: 1.6871 (avg: 1.8351) | acc: 0.6719 (avg: 0.5727) |\n",
      "Epoch 47 [300/383] | loss: 1.8493 (avg: 1.8383) | acc: 0.5391 (avg: 0.5698) |\n"
     ]
    },
    {
     "name": "stderr",
     "output_type": "stream",
     "text": [
      "[eval] 1000/1000: 100%|██████████| 1000/1000 [03:19<00:00,  5.01it/s, acc_nat=0.877, acc_rob=0.523]\n"
     ]
    },
    {
     "name": "stdout",
     "output_type": "stream",
     "text": [
      "Epoch 48 [0/383] | loss: 1.7538 (avg: 1.7538) | acc: 0.6250 (avg: 0.6250) |\n",
      "Epoch 48 [100/383] | loss: 1.7757 (avg: 1.8407) | acc: 0.5781 (avg: 0.5698) |\n",
      "Epoch 48 [200/383] | loss: 1.7834 (avg: 1.8409) | acc: 0.5859 (avg: 0.5699) |\n",
      "Epoch 48 [300/383] | loss: 1.8022 (avg: 1.8368) | acc: 0.6328 (avg: 0.5711) |\n"
     ]
    },
    {
     "name": "stderr",
     "output_type": "stream",
     "text": [
      "[eval] 1000/1000: 100%|██████████| 1000/1000 [03:15<00:00,  5.11it/s, acc_nat=0.86, acc_rob=0.529]\n"
     ]
    },
    {
     "name": "stdout",
     "output_type": "stream",
     "text": [
      "Epoch 49 [0/383] | loss: 1.7679 (avg: 1.7679) | acc: 0.6094 (avg: 0.6094) |\n",
      "Epoch 49 [100/383] | loss: 1.9534 (avg: 1.8290) | acc: 0.5547 (avg: 0.5832) |\n",
      "Epoch 49 [200/383] | loss: 1.8690 (avg: 1.8361) | acc: 0.5234 (avg: 0.5760) |\n",
      "Epoch 49 [300/383] | loss: 1.9426 (avg: 1.8372) | acc: 0.4922 (avg: 0.5740) |\n"
     ]
    },
    {
     "name": "stderr",
     "output_type": "stream",
     "text": [
      "[eval] 1000/1000: 100%|██████████| 1000/1000 [03:18<00:00,  5.04it/s, acc_nat=0.872, acc_rob=0.473]\n"
     ]
    },
    {
     "name": "stdout",
     "output_type": "stream",
     "text": [
      "Epoch 50 [0/383] | loss: 1.7825 (avg: 1.7825) | acc: 0.6172 (avg: 0.6172) |\n",
      "Epoch 50 [100/383] | loss: 1.8716 (avg: 1.8352) | acc: 0.5234 (avg: 0.5761) |\n",
      "Epoch 50 [200/383] | loss: 1.8704 (avg: 1.8344) | acc: 0.5391 (avg: 0.5795) |\n",
      "Epoch 50 [300/383] | loss: 1.8405 (avg: 1.8347) | acc: 0.5859 (avg: 0.5773) |\n"
     ]
    },
    {
     "name": "stderr",
     "output_type": "stream",
     "text": [
      "[eval] 1000/1000: 100%|██████████| 1000/1000 [03:19<00:00,  5.00it/s, acc_nat=0.881, acc_rob=0.492]\n"
     ]
    },
    {
     "name": "stdout",
     "output_type": "stream",
     "text": [
      "Epoch 51 [0/383] | loss: 1.8313 (avg: 1.8313) | acc: 0.5547 (avg: 0.5547) |\n",
      "Epoch 51 [100/383] | loss: 1.7718 (avg: 1.8105) | acc: 0.5547 (avg: 0.5884) |\n",
      "Epoch 51 [200/383] | loss: 1.8655 (avg: 1.8195) | acc: 0.5781 (avg: 0.5824) |\n",
      "Epoch 51 [300/383] | loss: 1.7731 (avg: 1.8221) | acc: 0.6406 (avg: 0.5809) |\n"
     ]
    },
    {
     "name": "stderr",
     "output_type": "stream",
     "text": [
      "[eval] 1000/1000: 100%|██████████| 1000/1000 [03:14<00:00,  5.13it/s, acc_nat=0.891, acc_rob=0.515]\n"
     ]
    },
    {
     "name": "stdout",
     "output_type": "stream",
     "text": [
      "Epoch 52 [0/383] | loss: 1.8679 (avg: 1.8679) | acc: 0.5547 (avg: 0.5547) |\n",
      "Epoch 52 [100/383] | loss: 1.7666 (avg: 1.8196) | acc: 0.6172 (avg: 0.5825) |\n",
      "Epoch 52 [200/383] | loss: 1.8325 (avg: 1.8178) | acc: 0.6094 (avg: 0.5869) |\n",
      "Epoch 52 [300/383] | loss: 1.8593 (avg: 1.8181) | acc: 0.5781 (avg: 0.5852) |\n"
     ]
    },
    {
     "name": "stderr",
     "output_type": "stream",
     "text": [
      "[eval] 1000/1000: 100%|██████████| 1000/1000 [03:22<00:00,  4.95it/s, acc_nat=0.84, acc_rob=0.516]\n"
     ]
    },
    {
     "name": "stdout",
     "output_type": "stream",
     "text": [
      "Epoch 53 [0/383] | loss: 1.8148 (avg: 1.8148) | acc: 0.6094 (avg: 0.6094) |\n",
      "Epoch 53 [100/383] | loss: 1.6573 (avg: 1.8051) | acc: 0.6406 (avg: 0.5869) |\n",
      "Epoch 53 [200/383] | loss: 1.8955 (avg: 1.8190) | acc: 0.5703 (avg: 0.5842) |\n",
      "Epoch 53 [300/383] | loss: 1.8965 (avg: 1.8179) | acc: 0.5703 (avg: 0.5862) |\n"
     ]
    },
    {
     "name": "stderr",
     "output_type": "stream",
     "text": [
      "[eval] 1000/1000: 100%|██████████| 1000/1000 [03:22<00:00,  4.95it/s, acc_nat=0.89, acc_rob=0.548]\n"
     ]
    },
    {
     "name": "stdout",
     "output_type": "stream",
     "text": [
      "Epoch 54 [0/383] | loss: 1.7135 (avg: 1.7135) | acc: 0.6797 (avg: 0.6797) |\n",
      "Epoch 54 [100/383] | loss: 1.7893 (avg: 1.7958) | acc: 0.5703 (avg: 0.6081) |\n",
      "Epoch 54 [200/383] | loss: 1.7832 (avg: 1.8052) | acc: 0.6094 (avg: 0.6019) |\n",
      "Epoch 54 [300/383] | loss: 1.9333 (avg: 1.8106) | acc: 0.5156 (avg: 0.5955) |\n"
     ]
    },
    {
     "name": "stderr",
     "output_type": "stream",
     "text": [
      "[eval] 1000/1000: 100%|██████████| 1000/1000 [03:17<00:00,  5.07it/s, acc_nat=0.855, acc_rob=0.553]\n"
     ]
    },
    {
     "name": "stdout",
     "output_type": "stream",
     "text": [
      "Epoch 55 [0/383] | loss: 1.8223 (avg: 1.8223) | acc: 0.6328 (avg: 0.6328) |\n",
      "Epoch 55 [100/383] | loss: 1.8524 (avg: 1.8200) | acc: 0.5625 (avg: 0.5950) |\n",
      "Epoch 55 [200/383] | loss: 1.8119 (avg: 1.8131) | acc: 0.5469 (avg: 0.5901) |\n",
      "Epoch 55 [300/383] | loss: 1.6255 (avg: 1.8124) | acc: 0.6406 (avg: 0.5937) |\n"
     ]
    },
    {
     "name": "stderr",
     "output_type": "stream",
     "text": [
      "[eval] 1000/1000: 100%|██████████| 1000/1000 [03:25<00:00,  4.86it/s, acc_nat=0.896, acc_rob=0.538]\n"
     ]
    },
    {
     "name": "stdout",
     "output_type": "stream",
     "text": [
      "Epoch 56 [0/383] | loss: 1.6934 (avg: 1.6934) | acc: 0.6250 (avg: 0.6250) |\n",
      "Epoch 56 [100/383] | loss: 1.8343 (avg: 1.8034) | acc: 0.5781 (avg: 0.6023) |\n",
      "Epoch 56 [200/383] | loss: 1.8766 (avg: 1.7968) | acc: 0.5625 (avg: 0.6080) |\n",
      "Epoch 56 [300/383] | loss: 1.8263 (avg: 1.7988) | acc: 0.6016 (avg: 0.6058) |\n"
     ]
    },
    {
     "name": "stderr",
     "output_type": "stream",
     "text": [
      "[eval] 1000/1000: 100%|██████████| 1000/1000 [03:18<00:00,  5.03it/s, acc_nat=0.869, acc_rob=0.554]\n"
     ]
    },
    {
     "name": "stdout",
     "output_type": "stream",
     "text": [
      "Epoch 57 [0/383] | loss: 1.7563 (avg: 1.7563) | acc: 0.6484 (avg: 0.6484) |\n",
      "Epoch 57 [100/383] | loss: 1.8444 (avg: 1.7962) | acc: 0.6250 (avg: 0.6057) |\n",
      "Epoch 57 [200/383] | loss: 1.6804 (avg: 1.8013) | acc: 0.6719 (avg: 0.6018) |\n",
      "Epoch 57 [300/383] | loss: 1.7891 (avg: 1.8016) | acc: 0.6172 (avg: 0.6003) |\n"
     ]
    },
    {
     "name": "stderr",
     "output_type": "stream",
     "text": [
      "[eval] 1000/1000: 100%|██████████| 1000/1000 [03:21<00:00,  4.96it/s, acc_nat=0.865, acc_rob=0.565]\n"
     ]
    },
    {
     "name": "stdout",
     "output_type": "stream",
     "text": [
      "Epoch 58 [0/383] | loss: 1.7905 (avg: 1.7905) | acc: 0.6172 (avg: 0.6172) |\n",
      "Epoch 58 [100/383] | loss: 1.7853 (avg: 1.7922) | acc: 0.5625 (avg: 0.6052) |\n",
      "Epoch 58 [200/383] | loss: 1.7248 (avg: 1.8023) | acc: 0.6094 (avg: 0.5980) |\n",
      "Epoch 58 [300/383] | loss: 1.8417 (avg: 1.8013) | acc: 0.6172 (avg: 0.5989) |\n"
     ]
    },
    {
     "name": "stderr",
     "output_type": "stream",
     "text": [
      "[eval] 1000/1000: 100%|██████████| 1000/1000 [03:18<00:00,  5.04it/s, acc_nat=0.859, acc_rob=0.523]\n"
     ]
    },
    {
     "name": "stdout",
     "output_type": "stream",
     "text": [
      "Epoch 59 [0/383] | loss: 1.7643 (avg: 1.7643) | acc: 0.5625 (avg: 0.5625) |\n",
      "Epoch 59 [100/383] | loss: 1.8354 (avg: 1.8034) | acc: 0.6016 (avg: 0.6009) |\n",
      "Epoch 59 [200/383] | loss: 1.7760 (avg: 1.8013) | acc: 0.6406 (avg: 0.6001) |\n",
      "Epoch 59 [300/383] | loss: 1.7269 (avg: 1.8013) | acc: 0.6562 (avg: 0.5997) |\n"
     ]
    },
    {
     "name": "stderr",
     "output_type": "stream",
     "text": [
      "[eval] 1000/1000: 100%|██████████| 1000/1000 [03:19<00:00,  5.01it/s, acc_nat=0.882, acc_rob=0.543]\n"
     ]
    },
    {
     "name": "stdout",
     "output_type": "stream",
     "text": [
      "Epoch 60 [0/383] | loss: 1.6906 (avg: 1.6906) | acc: 0.7031 (avg: 0.7031) |\n",
      "Epoch 60 [100/383] | loss: 1.7259 (avg: 1.7972) | acc: 0.6484 (avg: 0.6043) |\n",
      "Epoch 60 [200/383] | loss: 1.6693 (avg: 1.7998) | acc: 0.6016 (avg: 0.5990) |\n",
      "Epoch 60 [300/383] | loss: 1.8972 (avg: 1.8017) | acc: 0.5547 (avg: 0.5961) |\n"
     ]
    },
    {
     "name": "stderr",
     "output_type": "stream",
     "text": [
      "[eval] 1000/1000: 100%|██████████| 1000/1000 [03:18<00:00,  5.04it/s, acc_nat=0.862, acc_rob=0.55]\n"
     ]
    },
    {
     "name": "stdout",
     "output_type": "stream",
     "text": [
      "Epoch 61 [0/383] | loss: 1.7890 (avg: 1.7890) | acc: 0.6094 (avg: 0.6094) |\n",
      "Epoch 61 [100/383] | loss: 1.7106 (avg: 1.8024) | acc: 0.6641 (avg: 0.6053) |\n",
      "Epoch 61 [200/383] | loss: 1.8198 (avg: 1.7963) | acc: 0.6172 (avg: 0.6062) |\n",
      "Epoch 61 [300/383] | loss: 1.7759 (avg: 1.7993) | acc: 0.6250 (avg: 0.6024) |\n"
     ]
    },
    {
     "name": "stderr",
     "output_type": "stream",
     "text": [
      "[eval] 1000/1000: 100%|██████████| 1000/1000 [03:18<00:00,  5.03it/s, acc_nat=0.888, acc_rob=0.542]\n"
     ]
    },
    {
     "name": "stdout",
     "output_type": "stream",
     "text": [
      "Epoch 62 [0/383] | loss: 1.7742 (avg: 1.7742) | acc: 0.5938 (avg: 0.5938) |\n",
      "Epoch 62 [100/383] | loss: 1.7563 (avg: 1.7860) | acc: 0.5859 (avg: 0.6088) |\n",
      "Epoch 62 [200/383] | loss: 1.8351 (avg: 1.7962) | acc: 0.5547 (avg: 0.6015) |\n",
      "Epoch 62 [300/383] | loss: 1.7309 (avg: 1.7971) | acc: 0.6094 (avg: 0.6001) |\n"
     ]
    },
    {
     "name": "stderr",
     "output_type": "stream",
     "text": [
      "[eval] 1000/1000: 100%|██████████| 1000/1000 [03:28<00:00,  4.80it/s, acc_nat=0.882, acc_rob=0.534]\n"
     ]
    },
    {
     "name": "stdout",
     "output_type": "stream",
     "text": [
      "Epoch 63 [0/383] | loss: 1.6566 (avg: 1.6566) | acc: 0.7188 (avg: 0.7188) |\n",
      "Epoch 63 [100/383] | loss: 1.7841 (avg: 1.7783) | acc: 0.6250 (avg: 0.6075) |\n",
      "Epoch 63 [200/383] | loss: 1.7155 (avg: 1.7919) | acc: 0.6719 (avg: 0.5999) |\n",
      "Epoch 63 [300/383] | loss: 1.7935 (avg: 1.7976) | acc: 0.6094 (avg: 0.5989) |\n"
     ]
    },
    {
     "name": "stderr",
     "output_type": "stream",
     "text": [
      "[eval] 1000/1000: 100%|██████████| 1000/1000 [03:21<00:00,  4.96it/s, acc_nat=0.888, acc_rob=0.563]\n"
     ]
    },
    {
     "name": "stdout",
     "output_type": "stream",
     "text": [
      "Epoch 64 [0/383] | loss: 1.6263 (avg: 1.6263) | acc: 0.6875 (avg: 0.6875) |\n",
      "Epoch 64 [100/383] | loss: 1.8684 (avg: 1.7975) | acc: 0.5312 (avg: 0.6069) |\n",
      "Epoch 64 [200/383] | loss: 1.7950 (avg: 1.7989) | acc: 0.5625 (avg: 0.6024) |\n",
      "Epoch 64 [300/383] | loss: 1.8424 (avg: 1.7994) | acc: 0.6016 (avg: 0.6028) |\n"
     ]
    },
    {
     "name": "stderr",
     "output_type": "stream",
     "text": [
      "[eval] 1000/1000: 100%|██████████| 1000/1000 [03:20<00:00,  5.00it/s, acc_nat=0.892, acc_rob=0.567]\n"
     ]
    },
    {
     "name": "stdout",
     "output_type": "stream",
     "text": [
      "Epoch 65 [0/383] | loss: 1.7136 (avg: 1.7136) | acc: 0.6250 (avg: 0.6250) |\n",
      "Epoch 65 [100/383] | loss: 1.7317 (avg: 1.7838) | acc: 0.6641 (avg: 0.6196) |\n",
      "Epoch 65 [200/383] | loss: 1.7525 (avg: 1.7885) | acc: 0.6250 (avg: 0.6114) |\n",
      "Epoch 65 [300/383] | loss: 1.8372 (avg: 1.7927) | acc: 0.5938 (avg: 0.6048) |\n"
     ]
    },
    {
     "name": "stderr",
     "output_type": "stream",
     "text": [
      "[eval] 1000/1000: 100%|██████████| 1000/1000 [03:21<00:00,  4.97it/s, acc_nat=0.901, acc_rob=0.546]\n"
     ]
    },
    {
     "name": "stdout",
     "output_type": "stream",
     "text": [
      "Epoch 66 [0/383] | loss: 1.7465 (avg: 1.7465) | acc: 0.6250 (avg: 0.6250) |\n",
      "Epoch 66 [100/383] | loss: 1.8218 (avg: 1.7775) | acc: 0.6562 (avg: 0.6204) |\n",
      "Epoch 66 [200/383] | loss: 1.8041 (avg: 1.7895) | acc: 0.6172 (avg: 0.6107) |\n",
      "Epoch 66 [300/383] | loss: 1.8277 (avg: 1.7884) | acc: 0.6484 (avg: 0.6070) |\n"
     ]
    },
    {
     "name": "stderr",
     "output_type": "stream",
     "text": [
      "[eval] 1000/1000: 100%|██████████| 1000/1000 [03:20<00:00,  4.99it/s, acc_nat=0.906, acc_rob=0.515]\n"
     ]
    },
    {
     "name": "stdout",
     "output_type": "stream",
     "text": [
      "Epoch 67 [0/383] | loss: 1.7622 (avg: 1.7622) | acc: 0.6172 (avg: 0.6172) |\n",
      "Epoch 67 [100/383] | loss: 1.7322 (avg: 1.7906) | acc: 0.6406 (avg: 0.6059) |\n",
      "Epoch 67 [200/383] | loss: 1.8040 (avg: 1.7943) | acc: 0.6016 (avg: 0.6030) |\n",
      "Epoch 67 [300/383] | loss: 1.7950 (avg: 1.7948) | acc: 0.5859 (avg: 0.6021) |\n"
     ]
    },
    {
     "name": "stderr",
     "output_type": "stream",
     "text": [
      "[eval] 1000/1000: 100%|██████████| 1000/1000 [03:16<00:00,  5.09it/s, acc_nat=0.901, acc_rob=0.551]\n"
     ]
    },
    {
     "name": "stdout",
     "output_type": "stream",
     "text": [
      "Epoch 68 [0/383] | loss: 1.9044 (avg: 1.9044) | acc: 0.5703 (avg: 0.5703) |\n",
      "Epoch 68 [100/383] | loss: 1.7824 (avg: 1.7998) | acc: 0.5781 (avg: 0.6031) |\n",
      "Epoch 68 [200/383] | loss: 1.7646 (avg: 1.7964) | acc: 0.6016 (avg: 0.6036) |\n",
      "Epoch 68 [300/383] | loss: 1.8516 (avg: 1.8008) | acc: 0.5469 (avg: 0.6010) |\n"
     ]
    },
    {
     "name": "stderr",
     "output_type": "stream",
     "text": [
      "[eval] 1000/1000: 100%|██████████| 1000/1000 [03:18<00:00,  5.04it/s, acc_nat=0.882, acc_rob=0.512]\n"
     ]
    },
    {
     "name": "stdout",
     "output_type": "stream",
     "text": [
      "Epoch 69 [0/383] | loss: 1.7533 (avg: 1.7533) | acc: 0.6328 (avg: 0.6328) |\n",
      "Epoch 69 [100/383] | loss: 1.8195 (avg: 1.7791) | acc: 0.5859 (avg: 0.6143) |\n",
      "Epoch 69 [200/383] | loss: 1.8266 (avg: 1.7860) | acc: 0.6328 (avg: 0.6116) |\n",
      "Epoch 69 [300/383] | loss: 1.8145 (avg: 1.7888) | acc: 0.5781 (avg: 0.6080) |\n"
     ]
    },
    {
     "name": "stderr",
     "output_type": "stream",
     "text": [
      "[eval] 1000/1000: 100%|██████████| 1000/1000 [03:17<00:00,  5.07it/s, acc_nat=0.871, acc_rob=0.512]\n"
     ]
    },
    {
     "name": "stdout",
     "output_type": "stream",
     "text": [
      "Epoch 70 [0/383] | loss: 1.7233 (avg: 1.7233) | acc: 0.6250 (avg: 0.6250) |\n",
      "Epoch 70 [100/383] | loss: 1.6930 (avg: 1.7853) | acc: 0.6641 (avg: 0.6076) |\n",
      "Epoch 70 [200/383] | loss: 1.7225 (avg: 1.7907) | acc: 0.6094 (avg: 0.6060) |\n",
      "Epoch 70 [300/383] | loss: 1.7568 (avg: 1.7921) | acc: 0.5938 (avg: 0.6052) |\n"
     ]
    },
    {
     "name": "stderr",
     "output_type": "stream",
     "text": [
      "[eval] 1000/1000: 100%|██████████| 1000/1000 [03:19<00:00,  5.01it/s, acc_nat=0.866, acc_rob=0.515]\n"
     ]
    },
    {
     "name": "stdout",
     "output_type": "stream",
     "text": [
      "Epoch 71 [0/383] | loss: 1.8578 (avg: 1.8578) | acc: 0.5938 (avg: 0.5938) |\n",
      "Epoch 71 [100/383] | loss: 1.6492 (avg: 1.7787) | acc: 0.6641 (avg: 0.6125) |\n",
      "Epoch 71 [200/383] | loss: 1.8004 (avg: 1.7839) | acc: 0.6562 (avg: 0.6082) |\n",
      "Epoch 71 [300/383] | loss: 1.8746 (avg: 1.7900) | acc: 0.5469 (avg: 0.6037) |\n"
     ]
    },
    {
     "name": "stderr",
     "output_type": "stream",
     "text": [
      "[eval] 1000/1000: 100%|██████████| 1000/1000 [03:18<00:00,  5.04it/s, acc_nat=0.874, acc_rob=0.571]\n"
     ]
    },
    {
     "name": "stdout",
     "output_type": "stream",
     "text": [
      "Epoch 72 [0/383] | loss: 1.8009 (avg: 1.8009) | acc: 0.6328 (avg: 0.6328) |\n",
      "Epoch 72 [100/383] | loss: 1.8374 (avg: 1.7808) | acc: 0.6250 (avg: 0.6158) |\n",
      "Epoch 72 [200/383] | loss: 1.8852 (avg: 1.7863) | acc: 0.6172 (avg: 0.6118) |\n",
      "Epoch 72 [300/383] | loss: 1.7178 (avg: 1.7868) | acc: 0.6328 (avg: 0.6072) |\n"
     ]
    },
    {
     "name": "stderr",
     "output_type": "stream",
     "text": [
      "[eval] 1000/1000: 100%|██████████| 1000/1000 [03:19<00:00,  5.01it/s, acc_nat=0.84, acc_rob=0.533]\n"
     ]
    },
    {
     "name": "stdout",
     "output_type": "stream",
     "text": [
      "Epoch 73 [0/383] | loss: 1.7421 (avg: 1.7421) | acc: 0.6172 (avg: 0.6172) |\n",
      "Epoch 73 [100/383] | loss: 1.7982 (avg: 1.7856) | acc: 0.6562 (avg: 0.6092) |\n",
      "Epoch 73 [200/383] | loss: 1.7809 (avg: 1.7911) | acc: 0.6406 (avg: 0.6091) |\n",
      "Epoch 73 [300/383] | loss: 1.8128 (avg: 1.7917) | acc: 0.5938 (avg: 0.6082) |\n"
     ]
    },
    {
     "name": "stderr",
     "output_type": "stream",
     "text": [
      "[eval] 1000/1000: 100%|██████████| 1000/1000 [03:18<00:00,  5.03it/s, acc_nat=0.838, acc_rob=0.52]\n"
     ]
    },
    {
     "name": "stdout",
     "output_type": "stream",
     "text": [
      "Epoch 74 [0/383] | loss: 1.8537 (avg: 1.8537) | acc: 0.5625 (avg: 0.5625) |\n",
      "Epoch 74 [100/383] | loss: 1.8642 (avg: 1.7834) | acc: 0.5781 (avg: 0.6207) |\n",
      "Epoch 74 [200/383] | loss: 1.7298 (avg: 1.7887) | acc: 0.5703 (avg: 0.6115) |\n",
      "Epoch 74 [300/383] | loss: 1.7775 (avg: 1.7912) | acc: 0.6562 (avg: 0.6096) |\n"
     ]
    },
    {
     "name": "stderr",
     "output_type": "stream",
     "text": [
      "[eval] 1000/1000: 100%|██████████| 1000/1000 [03:18<00:00,  5.03it/s, acc_nat=0.891, acc_rob=0.512]\n"
     ]
    },
    {
     "name": "stdout",
     "output_type": "stream",
     "text": [
      "Epoch 75 [0/383] | loss: 1.7032 (avg: 1.7032) | acc: 0.6094 (avg: 0.6094) |\n",
      "Epoch 75 [100/383] | loss: 1.7437 (avg: 1.7911) | acc: 0.6250 (avg: 0.6156) |\n",
      "Epoch 75 [200/383] | loss: 1.7941 (avg: 1.7865) | acc: 0.6172 (avg: 0.6119) |\n",
      "Epoch 75 [300/383] | loss: 1.8678 (avg: 1.7878) | acc: 0.5312 (avg: 0.6095) |\n"
     ]
    },
    {
     "name": "stderr",
     "output_type": "stream",
     "text": [
      "[eval] 1000/1000: 100%|██████████| 1000/1000 [03:25<00:00,  4.86it/s, acc_nat=0.883, acc_rob=0.52]\n"
     ]
    },
    {
     "name": "stdout",
     "output_type": "stream",
     "text": [
      "Epoch 76 [0/383] | loss: 1.7430 (avg: 1.7430) | acc: 0.7031 (avg: 0.7031) |\n",
      "Epoch 76 [100/383] | loss: 1.6631 (avg: 1.7953) | acc: 0.6875 (avg: 0.6065) |\n",
      "Epoch 76 [200/383] | loss: 1.7374 (avg: 1.7888) | acc: 0.6016 (avg: 0.6050) |\n",
      "Epoch 76 [300/383] | loss: 1.8251 (avg: 1.7933) | acc: 0.6406 (avg: 0.6026) |\n"
     ]
    },
    {
     "name": "stderr",
     "output_type": "stream",
     "text": [
      "[eval] 1000/1000: 100%|██████████| 1000/1000 [03:18<00:00,  5.04it/s, acc_nat=0.899, acc_rob=0.538]\n"
     ]
    },
    {
     "name": "stdout",
     "output_type": "stream",
     "text": [
      "Epoch 77 [0/383] | loss: 1.8642 (avg: 1.8642) | acc: 0.5859 (avg: 0.5859) |\n",
      "Epoch 77 [100/383] | loss: 1.7815 (avg: 1.7799) | acc: 0.6484 (avg: 0.6095) |\n",
      "Epoch 77 [200/383] | loss: 1.7071 (avg: 1.7875) | acc: 0.6797 (avg: 0.6052) |\n",
      "Epoch 77 [300/383] | loss: 1.7724 (avg: 1.7911) | acc: 0.6172 (avg: 0.6017) |\n"
     ]
    },
    {
     "name": "stderr",
     "output_type": "stream",
     "text": [
      "[eval] 1000/1000: 100%|██████████| 1000/1000 [03:32<00:00,  4.71it/s, acc_nat=0.907, acc_rob=0.505]\n"
     ]
    },
    {
     "name": "stdout",
     "output_type": "stream",
     "text": [
      "Epoch 78 [0/383] | loss: 1.8665 (avg: 1.8665) | acc: 0.5469 (avg: 0.5469) |\n",
      "Epoch 78 [100/383] | loss: 1.8424 (avg: 1.7729) | acc: 0.5156 (avg: 0.6112) |\n",
      "Epoch 78 [200/383] | loss: 1.8126 (avg: 1.7784) | acc: 0.6094 (avg: 0.6096) |\n",
      "Epoch 78 [300/383] | loss: 1.8930 (avg: 1.7852) | acc: 0.6484 (avg: 0.6064) |\n"
     ]
    },
    {
     "name": "stderr",
     "output_type": "stream",
     "text": [
      "[eval] 1000/1000: 100%|██████████| 1000/1000 [03:14<00:00,  5.15it/s, acc_nat=0.886, acc_rob=0.541]\n"
     ]
    },
    {
     "name": "stdout",
     "output_type": "stream",
     "text": [
      "Epoch 79 [0/383] | loss: 1.8284 (avg: 1.8284) | acc: 0.6797 (avg: 0.6797) |\n",
      "Epoch 79 [100/383] | loss: 1.6958 (avg: 1.7801) | acc: 0.6172 (avg: 0.6210) |\n",
      "Epoch 79 [200/383] | loss: 1.7982 (avg: 1.7782) | acc: 0.5859 (avg: 0.6144) |\n",
      "Epoch 79 [300/383] | loss: 1.6951 (avg: 1.7822) | acc: 0.7031 (avg: 0.6137) |\n"
     ]
    },
    {
     "name": "stderr",
     "output_type": "stream",
     "text": [
      "[eval] 1000/1000: 100%|██████████| 1000/1000 [03:16<00:00,  5.08it/s, acc_nat=0.833, acc_rob=0.487]\n"
     ]
    },
    {
     "name": "stdout",
     "output_type": "stream",
     "text": [
      "Epoch 80 [0/383] | loss: 1.7906 (avg: 1.7906) | acc: 0.6016 (avg: 0.6016) |\n",
      "Epoch 80 [100/383] | loss: 1.8100 (avg: 1.7936) | acc: 0.5547 (avg: 0.6064) |\n",
      "Epoch 80 [200/383] | loss: 1.7149 (avg: 1.7903) | acc: 0.6094 (avg: 0.6042) |\n",
      "Epoch 80 [300/383] | loss: 1.7289 (avg: 1.7896) | acc: 0.6328 (avg: 0.6058) |\n"
     ]
    },
    {
     "name": "stderr",
     "output_type": "stream",
     "text": [
      "[eval] 1000/1000: 100%|██████████| 1000/1000 [03:14<00:00,  5.14it/s, acc_nat=0.891, acc_rob=0.544]\n"
     ]
    },
    {
     "name": "stdout",
     "output_type": "stream",
     "text": [
      "Epoch 81 [0/383] | loss: 1.8028 (avg: 1.8028) | acc: 0.5625 (avg: 0.5625) |\n",
      "Epoch 81 [100/383] | loss: 1.7785 (avg: 1.7837) | acc: 0.6016 (avg: 0.6128) |\n",
      "Epoch 81 [200/383] | loss: 1.7773 (avg: 1.7863) | acc: 0.6094 (avg: 0.6068) |\n",
      "Epoch 81 [300/383] | loss: 1.8045 (avg: 1.7879) | acc: 0.6094 (avg: 0.6043) |\n"
     ]
    },
    {
     "name": "stderr",
     "output_type": "stream",
     "text": [
      "[eval] 1000/1000: 100%|██████████| 1000/1000 [03:18<00:00,  5.03it/s, acc_nat=0.899, acc_rob=0.483]\n"
     ]
    },
    {
     "name": "stdout",
     "output_type": "stream",
     "text": [
      "Epoch 82 [0/383] | loss: 1.7266 (avg: 1.7266) | acc: 0.6953 (avg: 0.6953) |\n",
      "Epoch 82 [100/383] | loss: 1.8134 (avg: 1.7801) | acc: 0.6328 (avg: 0.6150) |\n",
      "Epoch 82 [200/383] | loss: 1.8017 (avg: 1.7802) | acc: 0.5703 (avg: 0.6100) |\n",
      "Epoch 82 [300/383] | loss: 1.7958 (avg: 1.7801) | acc: 0.5938 (avg: 0.6108) |\n"
     ]
    },
    {
     "name": "stderr",
     "output_type": "stream",
     "text": [
      "[eval] 1000/1000: 100%|██████████| 1000/1000 [03:16<00:00,  5.08it/s, acc_nat=0.895, acc_rob=0.55]\n"
     ]
    },
    {
     "name": "stdout",
     "output_type": "stream",
     "text": [
      "Epoch 83 [0/383] | loss: 1.7531 (avg: 1.7531) | acc: 0.6016 (avg: 0.6016) |\n",
      "Epoch 83 [100/383] | loss: 1.8587 (avg: 1.7715) | acc: 0.5938 (avg: 0.6170) |\n",
      "Epoch 83 [200/383] | loss: 1.7066 (avg: 1.7810) | acc: 0.6172 (avg: 0.6098) |\n",
      "Epoch 83 [300/383] | loss: 1.8778 (avg: 1.7856) | acc: 0.5547 (avg: 0.6074) |\n"
     ]
    },
    {
     "name": "stderr",
     "output_type": "stream",
     "text": [
      "[eval] 1000/1000: 100%|██████████| 1000/1000 [03:19<00:00,  5.01it/s, acc_nat=0.904, acc_rob=0.491]\n"
     ]
    },
    {
     "name": "stdout",
     "output_type": "stream",
     "text": [
      "Epoch 84 [0/383] | loss: 1.7730 (avg: 1.7730) | acc: 0.6094 (avg: 0.6094) |\n",
      "Epoch 84 [100/383] | loss: 1.6989 (avg: 1.7826) | acc: 0.6641 (avg: 0.6110) |\n",
      "Epoch 84 [200/383] | loss: 1.8898 (avg: 1.7838) | acc: 0.5391 (avg: 0.6102) |\n",
      "Epoch 84 [300/383] | loss: 1.8021 (avg: 1.7888) | acc: 0.6250 (avg: 0.6029) |\n"
     ]
    },
    {
     "name": "stderr",
     "output_type": "stream",
     "text": [
      "[eval] 1000/1000: 100%|██████████| 1000/1000 [03:16<00:00,  5.09it/s, acc_nat=0.908, acc_rob=0.53]\n"
     ]
    },
    {
     "name": "stdout",
     "output_type": "stream",
     "text": [
      "Epoch 85 [0/383] | loss: 1.7591 (avg: 1.7591) | acc: 0.6250 (avg: 0.6250) |\n",
      "Epoch 85 [100/383] | loss: 1.8332 (avg: 1.7850) | acc: 0.5547 (avg: 0.6061) |\n",
      "Epoch 85 [200/383] | loss: 1.9773 (avg: 1.7896) | acc: 0.5703 (avg: 0.6039) |\n",
      "Epoch 85 [300/383] | loss: 1.7354 (avg: 1.7890) | acc: 0.6484 (avg: 0.6025) |\n"
     ]
    },
    {
     "name": "stderr",
     "output_type": "stream",
     "text": [
      "[eval] 1000/1000: 100%|██████████| 1000/1000 [03:14<00:00,  5.13it/s, acc_nat=0.843, acc_rob=0.536]\n"
     ]
    },
    {
     "name": "stdout",
     "output_type": "stream",
     "text": [
      "Epoch 86 [0/383] | loss: 1.8060 (avg: 1.8060) | acc: 0.6719 (avg: 0.6719) |\n",
      "Epoch 86 [100/383] | loss: 1.8251 (avg: 1.7753) | acc: 0.6250 (avg: 0.6160) |\n",
      "Epoch 86 [200/383] | loss: 1.7425 (avg: 1.7744) | acc: 0.6641 (avg: 0.6144) |\n",
      "Epoch 86 [300/383] | loss: 1.7945 (avg: 1.7780) | acc: 0.6016 (avg: 0.6100) |\n"
     ]
    },
    {
     "name": "stderr",
     "output_type": "stream",
     "text": [
      "[eval] 1000/1000: 100%|██████████| 1000/1000 [03:16<00:00,  5.08it/s, acc_nat=0.895, acc_rob=0.489]\n"
     ]
    },
    {
     "name": "stdout",
     "output_type": "stream",
     "text": [
      "Epoch 87 [0/383] | loss: 1.7869 (avg: 1.7869) | acc: 0.6094 (avg: 0.6094) |\n",
      "Epoch 87 [100/383] | loss: 1.7431 (avg: 1.7886) | acc: 0.6328 (avg: 0.6029) |\n",
      "Epoch 87 [200/383] | loss: 1.7695 (avg: 1.7912) | acc: 0.6406 (avg: 0.5982) |\n",
      "Epoch 87 [300/383] | loss: 1.8061 (avg: 1.7894) | acc: 0.5625 (avg: 0.6023) |\n"
     ]
    },
    {
     "name": "stderr",
     "output_type": "stream",
     "text": [
      "[eval] 1000/1000: 100%|██████████| 1000/1000 [03:17<00:00,  5.05it/s, acc_nat=0.883, acc_rob=0.502]\n"
     ]
    },
    {
     "name": "stdout",
     "output_type": "stream",
     "text": [
      "Epoch 88 [0/383] | loss: 1.8201 (avg: 1.8201) | acc: 0.6172 (avg: 0.6172) |\n",
      "Epoch 88 [100/383] | loss: 1.7312 (avg: 1.7800) | acc: 0.5781 (avg: 0.6132) |\n",
      "Epoch 88 [200/383] | loss: 1.8580 (avg: 1.7749) | acc: 0.6016 (avg: 0.6146) |\n",
      "Epoch 88 [300/383] | loss: 1.8431 (avg: 1.7801) | acc: 0.6562 (avg: 0.6110) |\n"
     ]
    },
    {
     "name": "stderr",
     "output_type": "stream",
     "text": [
      "[eval] 1000/1000: 100%|██████████| 1000/1000 [03:14<00:00,  5.15it/s, acc_nat=0.888, acc_rob=0.509]\n"
     ]
    },
    {
     "name": "stdout",
     "output_type": "stream",
     "text": [
      "Epoch 89 [0/383] | loss: 1.7864 (avg: 1.7864) | acc: 0.5938 (avg: 0.5938) |\n",
      "Epoch 89 [100/383] | loss: 1.7362 (avg: 1.7776) | acc: 0.6250 (avg: 0.6195) |\n",
      "Epoch 89 [200/383] | loss: 1.8817 (avg: 1.7820) | acc: 0.5625 (avg: 0.6128) |\n",
      "Epoch 89 [300/383] | loss: 1.7668 (avg: 1.7834) | acc: 0.5859 (avg: 0.6107) |\n"
     ]
    },
    {
     "name": "stderr",
     "output_type": "stream",
     "text": [
      "[eval] 1000/1000: 100%|██████████| 1000/1000 [03:19<00:00,  5.02it/s, acc_nat=0.885, acc_rob=0.488]\n"
     ]
    },
    {
     "name": "stdout",
     "output_type": "stream",
     "text": [
      "Epoch 90 [0/383] | loss: 1.8486 (avg: 1.8486) | acc: 0.5156 (avg: 0.5156) |\n",
      "Epoch 90 [100/383] | loss: 1.7915 (avg: 1.7843) | acc: 0.6016 (avg: 0.6152) |\n",
      "Epoch 90 [200/383] | loss: 1.8854 (avg: 1.7862) | acc: 0.5703 (avg: 0.6089) |\n",
      "Epoch 90 [300/383] | loss: 1.7053 (avg: 1.7817) | acc: 0.5938 (avg: 0.6082) |\n"
     ]
    },
    {
     "name": "stderr",
     "output_type": "stream",
     "text": [
      "[eval] 1000/1000: 100%|██████████| 1000/1000 [03:18<00:00,  5.03it/s, acc_nat=0.867, acc_rob=0.499]\n"
     ]
    },
    {
     "name": "stdout",
     "output_type": "stream",
     "text": [
      "Epoch 91 [0/383] | loss: 1.7693 (avg: 1.7693) | acc: 0.6016 (avg: 0.6016) |\n",
      "Epoch 91 [100/383] | loss: 1.6601 (avg: 1.7669) | acc: 0.6719 (avg: 0.6144) |\n",
      "Epoch 91 [200/383] | loss: 1.7974 (avg: 1.7771) | acc: 0.6250 (avg: 0.6070) |\n",
      "Epoch 91 [300/383] | loss: 1.7819 (avg: 1.7807) | acc: 0.6250 (avg: 0.6040) |\n"
     ]
    },
    {
     "name": "stderr",
     "output_type": "stream",
     "text": [
      "[eval] 1000/1000: 100%|██████████| 1000/1000 [03:19<00:00,  5.02it/s, acc_nat=0.866, acc_rob=0.491]\n"
     ]
    },
    {
     "name": "stdout",
     "output_type": "stream",
     "text": [
      "Epoch 92 [0/383] | loss: 1.7435 (avg: 1.7435) | acc: 0.6328 (avg: 0.6328) |\n",
      "Epoch 92 [100/383] | loss: 1.8562 (avg: 1.7668) | acc: 0.5859 (avg: 0.6130) |\n",
      "Epoch 92 [200/383] | loss: 1.8091 (avg: 1.7810) | acc: 0.5781 (avg: 0.6097) |\n",
      "Epoch 92 [300/383] | loss: 1.7832 (avg: 1.7848) | acc: 0.5703 (avg: 0.6071) |\n"
     ]
    },
    {
     "name": "stderr",
     "output_type": "stream",
     "text": [
      "[eval] 1000/1000: 100%|██████████| 1000/1000 [03:22<00:00,  4.93it/s, acc_nat=0.856, acc_rob=0.496]\n"
     ]
    },
    {
     "name": "stdout",
     "output_type": "stream",
     "text": [
      "Epoch 93 [0/383] | loss: 1.8320 (avg: 1.8320) | acc: 0.6250 (avg: 0.6250) |\n",
      "Epoch 93 [100/383] | loss: 1.8302 (avg: 1.7882) | acc: 0.5859 (avg: 0.6031) |\n",
      "Epoch 93 [200/383] | loss: 1.7470 (avg: 1.7880) | acc: 0.6562 (avg: 0.5998) |\n",
      "Epoch 93 [300/383] | loss: 1.8588 (avg: 1.7876) | acc: 0.5625 (avg: 0.6011) |\n"
     ]
    },
    {
     "name": "stderr",
     "output_type": "stream",
     "text": [
      "[eval] 1000/1000: 100%|██████████| 1000/1000 [03:17<00:00,  5.05it/s, acc_nat=0.917, acc_rob=0.48]\n"
     ]
    },
    {
     "name": "stdout",
     "output_type": "stream",
     "text": [
      "Epoch 94 [0/383] | loss: 1.8170 (avg: 1.8170) | acc: 0.6328 (avg: 0.6328) |\n",
      "Epoch 94 [100/383] | loss: 1.8101 (avg: 1.7742) | acc: 0.5938 (avg: 0.6142) |\n",
      "Epoch 94 [200/383] | loss: 1.8460 (avg: 1.7752) | acc: 0.6094 (avg: 0.6123) |\n",
      "Epoch 94 [300/383] | loss: 1.7309 (avg: 1.7789) | acc: 0.5938 (avg: 0.6099) |\n"
     ]
    },
    {
     "name": "stderr",
     "output_type": "stream",
     "text": [
      "[eval] 1000/1000: 100%|██████████| 1000/1000 [03:19<00:00,  5.02it/s, acc_nat=0.893, acc_rob=0.535]\n"
     ]
    },
    {
     "name": "stdout",
     "output_type": "stream",
     "text": [
      "Epoch 95 [0/383] | loss: 1.7949 (avg: 1.7949) | acc: 0.5781 (avg: 0.5781) |\n",
      "Epoch 95 [100/383] | loss: 1.7907 (avg: 1.7721) | acc: 0.5781 (avg: 0.6111) |\n",
      "Epoch 95 [200/383] | loss: 1.8143 (avg: 1.7779) | acc: 0.5938 (avg: 0.6110) |\n",
      "Epoch 95 [300/383] | loss: 1.7214 (avg: 1.7820) | acc: 0.6875 (avg: 0.6080) |\n"
     ]
    },
    {
     "name": "stderr",
     "output_type": "stream",
     "text": [
      "[eval] 1000/1000: 100%|██████████| 1000/1000 [03:19<00:00,  5.01it/s, acc_nat=0.879, acc_rob=0.512]\n"
     ]
    },
    {
     "name": "stdout",
     "output_type": "stream",
     "text": [
      "Epoch 96 [0/383] | loss: 1.7696 (avg: 1.7696) | acc: 0.6250 (avg: 0.6250) |\n",
      "Epoch 96 [100/383] | loss: 1.8633 (avg: 1.7786) | acc: 0.6016 (avg: 0.6165) |\n",
      "Epoch 96 [200/383] | loss: 1.9178 (avg: 1.7824) | acc: 0.5078 (avg: 0.6145) |\n",
      "Epoch 96 [300/383] | loss: 1.7952 (avg: 1.7799) | acc: 0.6562 (avg: 0.6104) |\n"
     ]
    },
    {
     "name": "stderr",
     "output_type": "stream",
     "text": [
      "[eval] 1000/1000: 100%|██████████| 1000/1000 [03:14<00:00,  5.13it/s, acc_nat=0.906, acc_rob=0.511]\n"
     ]
    },
    {
     "name": "stdout",
     "output_type": "stream",
     "text": [
      "Epoch 97 [0/383] | loss: 1.7825 (avg: 1.7825) | acc: 0.6172 (avg: 0.6172) |\n",
      "Epoch 97 [100/383] | loss: 1.7890 (avg: 1.7763) | acc: 0.5703 (avg: 0.6183) |\n",
      "Epoch 97 [200/383] | loss: 1.8058 (avg: 1.7739) | acc: 0.5625 (avg: 0.6138) |\n",
      "Epoch 97 [300/383] | loss: 1.9453 (avg: 1.7792) | acc: 0.4844 (avg: 0.6092) |\n"
     ]
    },
    {
     "name": "stderr",
     "output_type": "stream",
     "text": [
      "[eval] 1000/1000: 100%|██████████| 1000/1000 [03:21<00:00,  4.97it/s, acc_nat=0.887, acc_rob=0.316]\n"
     ]
    },
    {
     "name": "stdout",
     "output_type": "stream",
     "text": [
      "Epoch 98 [0/383] | loss: 1.7975 (avg: 1.7975) | acc: 0.6406 (avg: 0.6406) |\n",
      "Epoch 98 [100/383] | loss: 1.7156 (avg: 1.7698) | acc: 0.6562 (avg: 0.6206) |\n",
      "Epoch 98 [200/383] | loss: 1.7852 (avg: 1.7743) | acc: 0.5938 (avg: 0.6168) |\n",
      "Epoch 98 [300/383] | loss: 1.8313 (avg: 1.7764) | acc: 0.6250 (avg: 0.6127) |\n"
     ]
    },
    {
     "name": "stderr",
     "output_type": "stream",
     "text": [
      "[eval] 1000/1000: 100%|██████████| 1000/1000 [03:18<00:00,  5.04it/s, acc_nat=0.901, acc_rob=0.484]\n"
     ]
    },
    {
     "name": "stdout",
     "output_type": "stream",
     "text": [
      "Epoch 99 [0/383] | loss: 1.8255 (avg: 1.8255) | acc: 0.6094 (avg: 0.6094) |\n",
      "Epoch 99 [100/383] | loss: 1.8150 (avg: 1.7748) | acc: 0.5156 (avg: 0.6040) |\n",
      "Epoch 99 [200/383] | loss: 1.7738 (avg: 1.7760) | acc: 0.6016 (avg: 0.6056) |\n",
      "Epoch 99 [300/383] | loss: 1.7114 (avg: 1.7798) | acc: 0.6094 (avg: 0.6035) |\n"
     ]
    },
    {
     "name": "stderr",
     "output_type": "stream",
     "text": [
      "[eval] 1000/1000: 100%|██████████| 1000/1000 [03:17<00:00,  5.06it/s, acc_nat=0.889, acc_rob=0.474]\n"
     ]
    },
    {
     "name": "stdout",
     "output_type": "stream",
     "text": [
      "Epoch 100 [0/383] | loss: 1.8512 (avg: 1.8512) | acc: 0.4766 (avg: 0.4766) |\n",
      "Epoch 100 [100/383] | loss: 1.7084 (avg: 1.7715) | acc: 0.6875 (avg: 0.6054) |\n",
      "Epoch 100 [200/383] | loss: 1.7117 (avg: 1.7703) | acc: 0.6484 (avg: 0.6069) |\n",
      "Epoch 100 [300/383] | loss: 1.7467 (avg: 1.7757) | acc: 0.6094 (avg: 0.6053) |\n"
     ]
    },
    {
     "name": "stderr",
     "output_type": "stream",
     "text": [
      "[eval] 1000/1000: 100%|██████████| 1000/1000 [03:24<00:00,  4.90it/s, acc_nat=0.888, acc_rob=0.482]\n"
     ]
    },
    {
     "name": "stdout",
     "output_type": "stream",
     "text": [
      "Epoch 101 [0/383] | loss: 1.7700 (avg: 1.7700) | acc: 0.6250 (avg: 0.6250) |\n",
      "Epoch 101 [100/383] | loss: 1.8505 (avg: 1.7681) | acc: 0.5547 (avg: 0.6115) |\n",
      "Epoch 101 [200/383] | loss: 1.8222 (avg: 1.7764) | acc: 0.5781 (avg: 0.6041) |\n",
      "Epoch 101 [300/383] | loss: 1.7524 (avg: 1.7832) | acc: 0.6406 (avg: 0.5997) |\n"
     ]
    },
    {
     "name": "stderr",
     "output_type": "stream",
     "text": [
      "[eval] 1000/1000: 100%|██████████| 1000/1000 [03:19<00:00,  5.00it/s, acc_nat=0.83, acc_rob=0.497]\n"
     ]
    },
    {
     "name": "stdout",
     "output_type": "stream",
     "text": [
      "Epoch 102 [0/383] | loss: 1.7703 (avg: 1.7703) | acc: 0.6484 (avg: 0.6484) |\n",
      "Epoch 102 [100/383] | loss: 1.8479 (avg: 1.7616) | acc: 0.5312 (avg: 0.6167) |\n",
      "Epoch 102 [200/383] | loss: 1.7183 (avg: 1.7707) | acc: 0.6250 (avg: 0.6119) |\n",
      "Epoch 102 [300/383] | loss: 1.9347 (avg: 1.7774) | acc: 0.5078 (avg: 0.6040) |\n"
     ]
    },
    {
     "name": "stderr",
     "output_type": "stream",
     "text": [
      "[eval] 1000/1000: 100%|██████████| 1000/1000 [03:20<00:00,  4.99it/s, acc_nat=0.876, acc_rob=0.481]\n"
     ]
    },
    {
     "name": "stdout",
     "output_type": "stream",
     "text": [
      "Epoch 103 [0/383] | loss: 1.7594 (avg: 1.7594) | acc: 0.6719 (avg: 0.6719) |\n",
      "Epoch 103 [100/383] | loss: 1.7288 (avg: 1.7612) | acc: 0.6641 (avg: 0.6157) |\n",
      "Epoch 103 [200/383] | loss: 1.8960 (avg: 1.7675) | acc: 0.5625 (avg: 0.6106) |\n",
      "Epoch 103 [300/383] | loss: 1.8703 (avg: 1.7708) | acc: 0.5938 (avg: 0.6066) |\n"
     ]
    },
    {
     "name": "stderr",
     "output_type": "stream",
     "text": [
      "[eval] 1000/1000: 100%|██████████| 1000/1000 [03:21<00:00,  4.97it/s, acc_nat=0.895, acc_rob=0.478]\n"
     ]
    },
    {
     "name": "stdout",
     "output_type": "stream",
     "text": [
      "Epoch 104 [0/383] | loss: 1.6989 (avg: 1.6989) | acc: 0.6406 (avg: 0.6406) |\n",
      "Epoch 104 [100/383] | loss: 1.6843 (avg: 1.7744) | acc: 0.6328 (avg: 0.6127) |\n",
      "Epoch 104 [200/383] | loss: 1.7216 (avg: 1.7778) | acc: 0.5703 (avg: 0.6078) |\n",
      "Epoch 104 [300/383] | loss: 1.8164 (avg: 1.7784) | acc: 0.5938 (avg: 0.6069) |\n"
     ]
    },
    {
     "name": "stderr",
     "output_type": "stream",
     "text": [
      "[eval] 1000/1000: 100%|██████████| 1000/1000 [03:19<00:00,  5.02it/s, acc_nat=0.845, acc_rob=0.479]\n"
     ]
    },
    {
     "name": "stdout",
     "output_type": "stream",
     "text": [
      "Epoch 105 [0/383] | loss: 1.7986 (avg: 1.7986) | acc: 0.6172 (avg: 0.6172) |\n",
      "Epoch 105 [100/383] | loss: 1.6847 (avg: 1.7298) | acc: 0.6953 (avg: 0.6556) |\n",
      "Epoch 105 [200/383] | loss: 1.7516 (avg: 1.7177) | acc: 0.6328 (avg: 0.6591) |\n",
      "Epoch 105 [300/383] | loss: 1.7187 (avg: 1.7069) | acc: 0.6953 (avg: 0.6715) |\n"
     ]
    },
    {
     "name": "stderr",
     "output_type": "stream",
     "text": [
      "[eval] 1000/1000: 100%|██████████| 1000/1000 [03:15<00:00,  5.10it/s, acc_nat=0.932, acc_rob=0.559]\n"
     ]
    },
    {
     "name": "stdout",
     "output_type": "stream",
     "text": [
      "Epoch 106 [0/383] | loss: 1.6452 (avg: 1.6452) | acc: 0.7266 (avg: 0.7266) |\n",
      "Epoch 106 [100/383] | loss: 1.7173 (avg: 1.6892) | acc: 0.6797 (avg: 0.7065) |\n",
      "Epoch 106 [200/383] | loss: 1.6443 (avg: 1.6903) | acc: 0.6797 (avg: 0.7051) |\n",
      "Epoch 106 [300/383] | loss: 1.6445 (avg: 1.6824) | acc: 0.6797 (avg: 0.7078) |\n"
     ]
    },
    {
     "name": "stderr",
     "output_type": "stream",
     "text": [
      "[eval] 1000/1000: 100%|██████████| 1000/1000 [03:19<00:00,  5.01it/s, acc_nat=0.936, acc_rob=0.561]\n"
     ]
    },
    {
     "name": "stdout",
     "output_type": "stream",
     "text": [
      "Epoch 107 [0/383] | loss: 1.6694 (avg: 1.6694) | acc: 0.7266 (avg: 0.7266) |\n",
      "Epoch 107 [100/383] | loss: 1.6828 (avg: 1.6712) | acc: 0.7188 (avg: 0.7126) |\n",
      "Epoch 107 [200/383] | loss: 1.7066 (avg: 1.6693) | acc: 0.6406 (avg: 0.7112) |\n",
      "Epoch 107 [300/383] | loss: 1.6039 (avg: 1.6675) | acc: 0.7266 (avg: 0.7138) |\n"
     ]
    },
    {
     "name": "stderr",
     "output_type": "stream",
     "text": [
      "[eval] 1000/1000: 100%|██████████| 1000/1000 [03:19<00:00,  5.00it/s, acc_nat=0.927, acc_rob=0.544]\n"
     ]
    },
    {
     "name": "stdout",
     "output_type": "stream",
     "text": [
      "Epoch 108 [0/383] | loss: 1.6967 (avg: 1.6967) | acc: 0.7422 (avg: 0.7422) |\n",
      "Epoch 108 [100/383] | loss: 1.5805 (avg: 1.6630) | acc: 0.7422 (avg: 0.7300) |\n",
      "Epoch 108 [200/383] | loss: 1.7689 (avg: 1.6608) | acc: 0.6953 (avg: 0.7287) |\n",
      "Epoch 108 [300/383] | loss: 1.6870 (avg: 1.6656) | acc: 0.6953 (avg: 0.7259) |\n"
     ]
    },
    {
     "name": "stderr",
     "output_type": "stream",
     "text": [
      "[eval] 1000/1000: 100%|██████████| 1000/1000 [03:28<00:00,  4.79it/s, acc_nat=0.942, acc_rob=0.566]\n"
     ]
    },
    {
     "name": "stdout",
     "output_type": "stream",
     "text": [
      "Epoch 109 [0/383] | loss: 1.6145 (avg: 1.6145) | acc: 0.7734 (avg: 0.7734) |\n",
      "Epoch 109 [100/383] | loss: 1.6469 (avg: 1.6566) | acc: 0.7188 (avg: 0.7388) |\n",
      "Epoch 109 [200/383] | loss: 1.7586 (avg: 1.6553) | acc: 0.6719 (avg: 0.7395) |\n",
      "Epoch 109 [300/383] | loss: 1.6124 (avg: 1.6544) | acc: 0.7734 (avg: 0.7394) |\n"
     ]
    },
    {
     "name": "stderr",
     "output_type": "stream",
     "text": [
      "[eval] 1000/1000: 100%|██████████| 1000/1000 [03:17<00:00,  5.07it/s, acc_nat=0.936, acc_rob=0.581]\n"
     ]
    },
    {
     "name": "stdout",
     "output_type": "stream",
     "text": [
      "Epoch 110 [0/383] | loss: 1.7141 (avg: 1.7141) | acc: 0.7344 (avg: 0.7344) |\n",
      "Epoch 110 [100/383] | loss: 1.5923 (avg: 1.6376) | acc: 0.7344 (avg: 0.7458) |\n",
      "Epoch 110 [200/383] | loss: 1.6694 (avg: 1.6456) | acc: 0.7031 (avg: 0.7427) |\n",
      "Epoch 110 [300/383] | loss: 1.6455 (avg: 1.6488) | acc: 0.7188 (avg: 0.7432) |\n"
     ]
    },
    {
     "name": "stderr",
     "output_type": "stream",
     "text": [
      "[eval] 1000/1000: 100%|██████████| 1000/1000 [03:20<00:00,  4.98it/s, acc_nat=0.935, acc_rob=0.577]\n"
     ]
    },
    {
     "name": "stdout",
     "output_type": "stream",
     "text": [
      "Epoch 111 [0/383] | loss: 1.5157 (avg: 1.5157) | acc: 0.8203 (avg: 0.8203) |\n",
      "Epoch 111 [100/383] | loss: 1.6995 (avg: 1.6403) | acc: 0.7734 (avg: 0.7555) |\n",
      "Epoch 111 [200/383] | loss: 1.5792 (avg: 1.6412) | acc: 0.7500 (avg: 0.7522) |\n",
      "Epoch 111 [300/383] | loss: 1.7991 (avg: 1.6437) | acc: 0.6562 (avg: 0.7501) |\n"
     ]
    },
    {
     "name": "stderr",
     "output_type": "stream",
     "text": [
      "[eval] 1000/1000: 100%|██████████| 1000/1000 [03:17<00:00,  5.07it/s, acc_nat=0.933, acc_rob=0.552]\n"
     ]
    },
    {
     "name": "stdout",
     "output_type": "stream",
     "text": [
      "Epoch 112 [0/383] | loss: 1.6543 (avg: 1.6543) | acc: 0.7812 (avg: 0.7812) |\n",
      "Epoch 112 [100/383] | loss: 1.7661 (avg: 1.6409) | acc: 0.6641 (avg: 0.7577) |\n",
      "Epoch 112 [200/383] | loss: 1.6365 (avg: 1.6446) | acc: 0.7578 (avg: 0.7566) |\n",
      "Epoch 112 [300/383] | loss: 1.6516 (avg: 1.6436) | acc: 0.7109 (avg: 0.7532) |\n"
     ]
    },
    {
     "name": "stderr",
     "output_type": "stream",
     "text": [
      "[eval] 1000/1000: 100%|██████████| 1000/1000 [03:20<00:00,  4.99it/s, acc_nat=0.939, acc_rob=0.573]\n"
     ]
    },
    {
     "name": "stdout",
     "output_type": "stream",
     "text": [
      "Epoch 113 [0/383] | loss: 1.6624 (avg: 1.6624) | acc: 0.7109 (avg: 0.7109) |\n",
      "Epoch 113 [100/383] | loss: 1.6601 (avg: 1.6428) | acc: 0.7734 (avg: 0.7623) |\n",
      "Epoch 113 [200/383] | loss: 1.6449 (avg: 1.6459) | acc: 0.7422 (avg: 0.7599) |\n",
      "Epoch 113 [300/383] | loss: 1.6798 (avg: 1.6446) | acc: 0.7578 (avg: 0.7584) |\n"
     ]
    },
    {
     "name": "stderr",
     "output_type": "stream",
     "text": [
      "[eval] 1000/1000: 100%|██████████| 1000/1000 [03:22<00:00,  4.94it/s, acc_nat=0.939, acc_rob=0.588]\n"
     ]
    },
    {
     "name": "stdout",
     "output_type": "stream",
     "text": [
      "Epoch 114 [0/383] | loss: 1.5356 (avg: 1.5356) | acc: 0.8594 (avg: 0.8594) |\n",
      "Epoch 114 [100/383] | loss: 1.6209 (avg: 1.6299) | acc: 0.8047 (avg: 0.7744) |\n",
      "Epoch 114 [200/383] | loss: 1.6283 (avg: 1.6291) | acc: 0.7969 (avg: 0.7700) |\n",
      "Epoch 114 [300/383] | loss: 1.5680 (avg: 1.6270) | acc: 0.8203 (avg: 0.7692) |\n"
     ]
    },
    {
     "name": "stderr",
     "output_type": "stream",
     "text": [
      "[eval] 1000/1000: 100%|██████████| 1000/1000 [03:16<00:00,  5.10it/s, acc_nat=0.927, acc_rob=0.582]\n"
     ]
    },
    {
     "name": "stdout",
     "output_type": "stream",
     "text": [
      "Epoch 115 [0/383] | loss: 1.5972 (avg: 1.5972) | acc: 0.8203 (avg: 0.8203) |\n",
      "Epoch 115 [100/383] | loss: 1.5305 (avg: 1.6314) | acc: 0.7891 (avg: 0.7659) |\n",
      "Epoch 115 [200/383] | loss: 1.6688 (avg: 1.6310) | acc: 0.7812 (avg: 0.7692) |\n",
      "Epoch 115 [300/383] | loss: 1.5791 (avg: 1.6321) | acc: 0.8047 (avg: 0.7667) |\n"
     ]
    },
    {
     "name": "stderr",
     "output_type": "stream",
     "text": [
      "[eval] 1000/1000: 100%|██████████| 1000/1000 [03:18<00:00,  5.05it/s, acc_nat=0.915, acc_rob=0.555]\n"
     ]
    },
    {
     "name": "stdout",
     "output_type": "stream",
     "text": [
      "Epoch 116 [0/383] | loss: 1.7299 (avg: 1.7299) | acc: 0.7109 (avg: 0.7109) |\n",
      "Epoch 116 [100/383] | loss: 1.5734 (avg: 1.6240) | acc: 0.8125 (avg: 0.7755) |\n",
      "Epoch 116 [200/383] | loss: 1.7240 (avg: 1.6246) | acc: 0.7734 (avg: 0.7780) |\n",
      "Epoch 116 [300/383] | loss: 1.6056 (avg: 1.6282) | acc: 0.8125 (avg: 0.7750) |\n"
     ]
    },
    {
     "name": "stderr",
     "output_type": "stream",
     "text": [
      "[eval] 1000/1000: 100%|██████████| 1000/1000 [03:19<00:00,  5.01it/s, acc_nat=0.908, acc_rob=0.592]\n"
     ]
    },
    {
     "name": "stdout",
     "output_type": "stream",
     "text": [
      "Epoch 117 [0/383] | loss: 1.5736 (avg: 1.5736) | acc: 0.7812 (avg: 0.7812) |\n",
      "Epoch 117 [100/383] | loss: 1.7164 (avg: 1.6176) | acc: 0.7422 (avg: 0.7844) |\n",
      "Epoch 117 [200/383] | loss: 1.6211 (avg: 1.6177) | acc: 0.8359 (avg: 0.7863) |\n",
      "Epoch 117 [300/383] | loss: 1.5986 (avg: 1.6175) | acc: 0.7266 (avg: 0.7854) |\n"
     ]
    },
    {
     "name": "stderr",
     "output_type": "stream",
     "text": [
      "[eval] 1000/1000: 100%|██████████| 1000/1000 [03:17<00:00,  5.07it/s, acc_nat=0.887, acc_rob=0.561]\n"
     ]
    },
    {
     "name": "stdout",
     "output_type": "stream",
     "text": [
      "Epoch 118 [0/383] | loss: 1.6583 (avg: 1.6583) | acc: 0.7891 (avg: 0.7891) |\n",
      "Epoch 118 [100/383] | loss: 1.5165 (avg: 1.6180) | acc: 0.7656 (avg: 0.7922) |\n",
      "Epoch 118 [200/383] | loss: 1.6490 (avg: 1.6185) | acc: 0.7734 (avg: 0.7925) |\n",
      "Epoch 118 [300/383] | loss: 1.6262 (avg: 1.6220) | acc: 0.7812 (avg: 0.7875) |\n"
     ]
    },
    {
     "name": "stderr",
     "output_type": "stream",
     "text": [
      "[eval] 1000/1000: 100%|██████████| 1000/1000 [03:19<00:00,  5.02it/s, acc_nat=0.855, acc_rob=0.596]\n"
     ]
    },
    {
     "name": "stdout",
     "output_type": "stream",
     "text": [
      "Epoch 119 [0/383] | loss: 1.5791 (avg: 1.5791) | acc: 0.8125 (avg: 0.8125) |\n",
      "Epoch 119 [100/383] | loss: 1.6563 (avg: 1.6222) | acc: 0.7266 (avg: 0.7886) |\n",
      "Epoch 119 [200/383] | loss: 1.6199 (avg: 1.6173) | acc: 0.7969 (avg: 0.7875) |\n",
      "Epoch 119 [300/383] | loss: 1.7327 (avg: 1.6183) | acc: 0.7656 (avg: 0.7863) |\n"
     ]
    },
    {
     "name": "stderr",
     "output_type": "stream",
     "text": [
      "[eval] 1000/1000: 100%|██████████| 1000/1000 [03:16<00:00,  5.09it/s, acc_nat=0.765, acc_rob=0.59]\n"
     ]
    },
    {
     "name": "stdout",
     "output_type": "stream",
     "text": [
      "Epoch 120 [0/383] | loss: 1.5944 (avg: 1.5944) | acc: 0.8125 (avg: 0.8125) |\n",
      "Epoch 120 [100/383] | loss: 1.6320 (avg: 1.6141) | acc: 0.7734 (avg: 0.7908) |\n",
      "Epoch 120 [200/383] | loss: 1.6034 (avg: 1.6224) | acc: 0.7969 (avg: 0.7903) |\n",
      "Epoch 120 [300/383] | loss: 1.7926 (avg: 1.6245) | acc: 0.7266 (avg: 0.7892) |\n"
     ]
    },
    {
     "name": "stderr",
     "output_type": "stream",
     "text": [
      "[eval] 1000/1000: 100%|██████████| 1000/1000 [03:18<00:00,  5.04it/s, acc_nat=0.824, acc_rob=0.557]\n"
     ]
    },
    {
     "name": "stdout",
     "output_type": "stream",
     "text": [
      "Epoch 121 [0/383] | loss: 1.5883 (avg: 1.5883) | acc: 0.8594 (avg: 0.8594) |\n",
      "Epoch 121 [100/383] | loss: 1.5968 (avg: 1.6152) | acc: 0.8125 (avg: 0.7946) |\n",
      "Epoch 121 [200/383] | loss: 1.6676 (avg: 1.6142) | acc: 0.7891 (avg: 0.7926) |\n",
      "Epoch 121 [300/383] | loss: 1.6429 (avg: 1.6155) | acc: 0.8125 (avg: 0.7904) |\n"
     ]
    },
    {
     "name": "stderr",
     "output_type": "stream",
     "text": [
      "[eval] 1000/1000: 100%|██████████| 1000/1000 [03:22<00:00,  4.94it/s, acc_nat=0.906, acc_rob=0.56]\n"
     ]
    },
    {
     "name": "stdout",
     "output_type": "stream",
     "text": [
      "Epoch 122 [0/383] | loss: 1.6113 (avg: 1.6113) | acc: 0.8203 (avg: 0.8203) |\n",
      "Epoch 122 [100/383] | loss: 1.6038 (avg: 1.6132) | acc: 0.8203 (avg: 0.7976) |\n",
      "Epoch 122 [200/383] | loss: 1.6172 (avg: 1.6103) | acc: 0.7188 (avg: 0.7974) |\n",
      "Epoch 122 [300/383] | loss: 1.5823 (avg: 1.6115) | acc: 0.7812 (avg: 0.7971) |\n"
     ]
    },
    {
     "name": "stderr",
     "output_type": "stream",
     "text": [
      "[eval] 1000/1000: 100%|██████████| 1000/1000 [03:20<00:00,  4.99it/s, acc_nat=0.912, acc_rob=0.551]\n"
     ]
    },
    {
     "name": "stdout",
     "output_type": "stream",
     "text": [
      "Epoch 123 [0/383] | loss: 1.6071 (avg: 1.6071) | acc: 0.8828 (avg: 0.8828) |\n",
      "Epoch 123 [100/383] | loss: 1.6616 (avg: 1.6102) | acc: 0.7188 (avg: 0.7924) |\n",
      "Epoch 123 [200/383] | loss: 1.5285 (avg: 1.6020) | acc: 0.7969 (avg: 0.7975) |\n",
      "Epoch 123 [300/383] | loss: 1.5267 (avg: 1.6051) | acc: 0.7812 (avg: 0.7981) |\n"
     ]
    },
    {
     "name": "stderr",
     "output_type": "stream",
     "text": [
      "[eval] 1000/1000: 100%|██████████| 1000/1000 [03:18<00:00,  5.04it/s, acc_nat=0.88, acc_rob=0.562]\n"
     ]
    },
    {
     "name": "stdout",
     "output_type": "stream",
     "text": [
      "Epoch 124 [0/383] | loss: 1.6459 (avg: 1.6459) | acc: 0.8047 (avg: 0.8047) |\n",
      "Epoch 124 [100/383] | loss: 1.7650 (avg: 1.6001) | acc: 0.7031 (avg: 0.8092) |\n",
      "Epoch 124 [200/383] | loss: 1.6542 (avg: 1.5992) | acc: 0.7969 (avg: 0.8064) |\n",
      "Epoch 124 [300/383] | loss: 1.6755 (avg: 1.6016) | acc: 0.7734 (avg: 0.8027) |\n"
     ]
    },
    {
     "name": "stderr",
     "output_type": "stream",
     "text": [
      "[eval] 1000/1000: 100%|██████████| 1000/1000 [03:18<00:00,  5.04it/s, acc_nat=0.681, acc_rob=0.533]\n"
     ]
    },
    {
     "name": "stdout",
     "output_type": "stream",
     "text": [
      "Epoch 125 [0/383] | loss: 1.6756 (avg: 1.6756) | acc: 0.7812 (avg: 0.7812) |\n",
      "Epoch 125 [100/383] | loss: 1.4590 (avg: 1.5959) | acc: 0.8516 (avg: 0.8082) |\n",
      "Epoch 125 [200/383] | loss: 1.6565 (avg: 1.5974) | acc: 0.7891 (avg: 0.8069) |\n",
      "Epoch 125 [300/383] | loss: 1.6029 (avg: 1.6012) | acc: 0.7812 (avg: 0.8043) |\n"
     ]
    },
    {
     "name": "stderr",
     "output_type": "stream",
     "text": [
      "[eval] 1000/1000: 100%|██████████| 1000/1000 [03:19<00:00,  5.01it/s, acc_nat=0.58, acc_rob=0.573]\n"
     ]
    },
    {
     "name": "stdout",
     "output_type": "stream",
     "text": [
      "Epoch 126 [0/383] | loss: 1.4882 (avg: 1.4882) | acc: 0.8281 (avg: 0.8281) |\n",
      "Epoch 126 [100/383] | loss: 1.5747 (avg: 1.5979) | acc: 0.8281 (avg: 0.8101) |\n",
      "Epoch 126 [200/383] | loss: 1.6170 (avg: 1.5944) | acc: 0.7812 (avg: 0.8123) |\n",
      "Epoch 126 [300/383] | loss: 1.6217 (avg: 1.5953) | acc: 0.8047 (avg: 0.8119) |\n"
     ]
    },
    {
     "name": "stderr",
     "output_type": "stream",
     "text": [
      "[eval] 1000/1000: 100%|██████████| 1000/1000 [03:38<00:00,  4.59it/s, acc_nat=0.711, acc_rob=0.567]\n"
     ]
    },
    {
     "name": "stdout",
     "output_type": "stream",
     "text": [
      "Epoch 127 [0/383] | loss: 1.5327 (avg: 1.5327) | acc: 0.7891 (avg: 0.7891) |\n",
      "Epoch 127 [100/383] | loss: 1.6015 (avg: 1.6025) | acc: 0.7969 (avg: 0.8150) |\n",
      "Epoch 127 [200/383] | loss: 1.6046 (avg: 1.6015) | acc: 0.8359 (avg: 0.8160) |\n",
      "Epoch 127 [300/383] | loss: 1.6284 (avg: 1.6029) | acc: 0.7969 (avg: 0.8142) |\n"
     ]
    },
    {
     "name": "stderr",
     "output_type": "stream",
     "text": [
      "[eval] 1000/1000: 100%|██████████| 1000/1000 [03:27<00:00,  4.82it/s, acc_nat=0.648, acc_rob=0.563]\n"
     ]
    },
    {
     "name": "stdout",
     "output_type": "stream",
     "text": [
      "Epoch 128 [0/383] | loss: 1.6172 (avg: 1.6172) | acc: 0.8281 (avg: 0.8281) |\n",
      "Epoch 128 [100/383] | loss: 1.5989 (avg: 1.5993) | acc: 0.8125 (avg: 0.8110) |\n",
      "Epoch 128 [200/383] | loss: 1.5513 (avg: 1.5966) | acc: 0.8047 (avg: 0.8157) |\n",
      "Epoch 128 [300/383] | loss: 1.6307 (avg: 1.5970) | acc: 0.8047 (avg: 0.8169) |\n"
     ]
    },
    {
     "name": "stderr",
     "output_type": "stream",
     "text": [
      "[eval] 1000/1000: 100%|██████████| 1000/1000 [03:22<00:00,  4.93it/s, acc_nat=0.455, acc_rob=0.573]\n"
     ]
    },
    {
     "name": "stdout",
     "output_type": "stream",
     "text": [
      "Epoch 129 [0/383] | loss: 1.5830 (avg: 1.5830) | acc: 0.8203 (avg: 0.8203) |\n",
      "Epoch 129 [100/383] | loss: 1.6186 (avg: 1.5848) | acc: 0.8359 (avg: 0.8221) |\n",
      "Epoch 129 [200/383] | loss: 1.6295 (avg: 1.5916) | acc: 0.8047 (avg: 0.8223) |\n",
      "Epoch 129 [300/383] | loss: 1.7231 (avg: 1.5941) | acc: 0.7969 (avg: 0.8199) |\n"
     ]
    },
    {
     "name": "stderr",
     "output_type": "stream",
     "text": [
      "[eval] 1000/1000: 100%|██████████| 1000/1000 [03:23<00:00,  4.93it/s, acc_nat=0.787, acc_rob=0.552]\n"
     ]
    },
    {
     "name": "stdout",
     "output_type": "stream",
     "text": [
      "Epoch 130 [0/383] | loss: 1.5438 (avg: 1.5438) | acc: 0.8516 (avg: 0.8516) |\n",
      "Epoch 130 [100/383] | loss: 1.5863 (avg: 1.5876) | acc: 0.8438 (avg: 0.8335) |\n",
      "Epoch 130 [200/383] | loss: 1.6707 (avg: 1.5953) | acc: 0.7578 (avg: 0.8289) |\n",
      "Epoch 130 [300/383] | loss: 1.6790 (avg: 1.5949) | acc: 0.7578 (avg: 0.8278) |\n"
     ]
    },
    {
     "name": "stderr",
     "output_type": "stream",
     "text": [
      "[eval] 1000/1000: 100%|██████████| 1000/1000 [03:34<00:00,  4.66it/s, acc_nat=0.7, acc_rob=0.576] \n"
     ]
    },
    {
     "name": "stdout",
     "output_type": "stream",
     "text": [
      "Epoch 131 [0/383] | loss: 1.6015 (avg: 1.6015) | acc: 0.7734 (avg: 0.7734) |\n",
      "Epoch 131 [100/383] | loss: 1.5484 (avg: 1.5824) | acc: 0.8281 (avg: 0.8349) |\n",
      "Epoch 131 [200/383] | loss: 1.5765 (avg: 1.5894) | acc: 0.7969 (avg: 0.8299) |\n",
      "Epoch 131 [300/383] | loss: 1.5099 (avg: 1.5915) | acc: 0.8750 (avg: 0.8291) |\n"
     ]
    },
    {
     "name": "stderr",
     "output_type": "stream",
     "text": [
      "[eval] 1000/1000: 100%|██████████| 1000/1000 [03:21<00:00,  4.96it/s, acc_nat=0.765, acc_rob=0.571]\n"
     ]
    },
    {
     "name": "stdout",
     "output_type": "stream",
     "text": [
      "Epoch 132 [0/383] | loss: 1.6218 (avg: 1.6218) | acc: 0.7734 (avg: 0.7734) |\n",
      "Epoch 132 [100/383] | loss: 1.5457 (avg: 1.5823) | acc: 0.8516 (avg: 0.8350) |\n",
      "Epoch 132 [200/383] | loss: 1.7065 (avg: 1.5857) | acc: 0.7734 (avg: 0.8324) |\n",
      "Epoch 132 [300/383] | loss: 1.5668 (avg: 1.5866) | acc: 0.8047 (avg: 0.8291) |\n"
     ]
    },
    {
     "name": "stderr",
     "output_type": "stream",
     "text": [
      "[eval] 1000/1000: 100%|██████████| 1000/1000 [03:20<00:00,  4.99it/s, acc_nat=0.799, acc_rob=0.544]\n"
     ]
    },
    {
     "name": "stdout",
     "output_type": "stream",
     "text": [
      "Epoch 133 [0/383] | loss: 1.6970 (avg: 1.6970) | acc: 0.8594 (avg: 0.8594) |\n",
      "Epoch 133 [100/383] | loss: 1.5225 (avg: 1.5922) | acc: 0.8594 (avg: 0.8325) |\n",
      "Epoch 133 [200/383] | loss: 1.6480 (avg: 1.5975) | acc: 0.8125 (avg: 0.8302) |\n",
      "Epoch 133 [300/383] | loss: 1.7452 (avg: 1.5959) | acc: 0.8359 (avg: 0.8302) |\n"
     ]
    },
    {
     "name": "stderr",
     "output_type": "stream",
     "text": [
      "[eval] 1000/1000: 100%|██████████| 1000/1000 [03:31<00:00,  4.73it/s, acc_nat=0.905, acc_rob=0.545]\n"
     ]
    },
    {
     "name": "stdout",
     "output_type": "stream",
     "text": [
      "Epoch 134 [0/383] | loss: 1.5940 (avg: 1.5940) | acc: 0.8516 (avg: 0.8516) |\n",
      "Epoch 134 [100/383] | loss: 1.5831 (avg: 1.5842) | acc: 0.8438 (avg: 0.8420) |\n",
      "Epoch 134 [200/383] | loss: 1.5842 (avg: 1.5872) | acc: 0.8125 (avg: 0.8382) |\n",
      "Epoch 134 [300/383] | loss: 1.4805 (avg: 1.5869) | acc: 0.8438 (avg: 0.8384) |\n"
     ]
    },
    {
     "name": "stderr",
     "output_type": "stream",
     "text": [
      "[eval] 1000/1000: 100%|██████████| 1000/1000 [03:21<00:00,  4.97it/s, acc_nat=0.778, acc_rob=0.561]\n"
     ]
    },
    {
     "name": "stdout",
     "output_type": "stream",
     "text": [
      "Epoch 135 [0/383] | loss: 1.6849 (avg: 1.6849) | acc: 0.8438 (avg: 0.8438) |\n",
      "Epoch 135 [100/383] | loss: 1.4639 (avg: 1.5861) | acc: 0.9219 (avg: 0.8458) |\n",
      "Epoch 135 [200/383] | loss: 1.6611 (avg: 1.5861) | acc: 0.8047 (avg: 0.8421) |\n",
      "Epoch 135 [300/383] | loss: 1.6050 (avg: 1.5857) | acc: 0.8672 (avg: 0.8419) |\n"
     ]
    },
    {
     "name": "stderr",
     "output_type": "stream",
     "text": [
      "[eval] 1000/1000: 100%|██████████| 1000/1000 [03:19<00:00,  5.02it/s, acc_nat=0.87, acc_rob=0.539]\n"
     ]
    },
    {
     "name": "stdout",
     "output_type": "stream",
     "text": [
      "Epoch 136 [0/383] | loss: 1.5375 (avg: 1.5375) | acc: 0.9141 (avg: 0.9141) |\n",
      "Epoch 136 [100/383] | loss: 1.6196 (avg: 1.5826) | acc: 0.8984 (avg: 0.8473) |\n",
      "Epoch 136 [200/383] | loss: 1.6171 (avg: 1.5853) | acc: 0.8750 (avg: 0.8468) |\n",
      "Epoch 136 [300/383] | loss: 1.5166 (avg: 1.5856) | acc: 0.8281 (avg: 0.8449) |\n"
     ]
    },
    {
     "name": "stderr",
     "output_type": "stream",
     "text": [
      "[eval] 1000/1000: 100%|██████████| 1000/1000 [03:19<00:00,  5.02it/s, acc_nat=0.794, acc_rob=0.57]\n"
     ]
    },
    {
     "name": "stdout",
     "output_type": "stream",
     "text": [
      "Epoch 137 [0/383] | loss: 1.3910 (avg: 1.3910) | acc: 0.9141 (avg: 0.9141) |\n",
      "Epoch 137 [100/383] | loss: 1.5771 (avg: 1.5718) | acc: 0.8828 (avg: 0.8528) |\n",
      "Epoch 137 [200/383] | loss: 1.5988 (avg: 1.5790) | acc: 0.8438 (avg: 0.8485) |\n",
      "Epoch 137 [300/383] | loss: 1.6668 (avg: 1.5843) | acc: 0.8438 (avg: 0.8468) |\n"
     ]
    },
    {
     "name": "stderr",
     "output_type": "stream",
     "text": [
      "[eval] 1000/1000: 100%|██████████| 1000/1000 [03:17<00:00,  5.05it/s, acc_nat=0.798, acc_rob=0.572]\n"
     ]
    },
    {
     "name": "stdout",
     "output_type": "stream",
     "text": [
      "Epoch 138 [0/383] | loss: 1.5923 (avg: 1.5923) | acc: 0.7891 (avg: 0.7891) |\n",
      "Epoch 138 [100/383] | loss: 1.6671 (avg: 1.5850) | acc: 0.7812 (avg: 0.8590) |\n",
      "Epoch 138 [200/383] | loss: 1.6279 (avg: 1.5784) | acc: 0.8203 (avg: 0.8580) |\n",
      "Epoch 138 [300/383] | loss: 1.5562 (avg: 1.5777) | acc: 0.8125 (avg: 0.8569) |\n"
     ]
    },
    {
     "name": "stderr",
     "output_type": "stream",
     "text": [
      "[eval] 1000/1000: 100%|██████████| 1000/1000 [03:22<00:00,  4.93it/s, acc_nat=0.648, acc_rob=0.565]\n"
     ]
    },
    {
     "name": "stdout",
     "output_type": "stream",
     "text": [
      "Epoch 139 [0/383] | loss: 1.5913 (avg: 1.5913) | acc: 0.8750 (avg: 0.8750) |\n",
      "Epoch 139 [100/383] | loss: 1.5407 (avg: 1.5723) | acc: 0.8594 (avg: 0.8629) |\n",
      "Epoch 139 [200/383] | loss: 1.6667 (avg: 1.5688) | acc: 0.8672 (avg: 0.8629) |\n",
      "Epoch 139 [300/383] | loss: 1.5612 (avg: 1.5755) | acc: 0.8594 (avg: 0.8602) |\n"
     ]
    },
    {
     "name": "stderr",
     "output_type": "stream",
     "text": [
      "[eval] 1000/1000: 100%|██████████| 1000/1000 [03:22<00:00,  4.94it/s, acc_nat=0.832, acc_rob=0.582]\n"
     ]
    },
    {
     "name": "stdout",
     "output_type": "stream",
     "text": [
      "Epoch 140 [0/383] | loss: 1.4624 (avg: 1.4624) | acc: 0.8672 (avg: 0.8672) |\n",
      "Epoch 140 [100/383] | loss: 1.6316 (avg: 1.5690) | acc: 0.8125 (avg: 0.8598) |\n",
      "Epoch 140 [200/383] | loss: 1.6238 (avg: 1.5723) | acc: 0.8281 (avg: 0.8609) |\n",
      "Epoch 140 [300/383] | loss: 1.5821 (avg: 1.5761) | acc: 0.8359 (avg: 0.8595) |\n"
     ]
    },
    {
     "name": "stderr",
     "output_type": "stream",
     "text": [
      "[eval] 1000/1000: 100%|██████████| 1000/1000 [03:19<00:00,  5.01it/s, acc_nat=0.846, acc_rob=0.589]\n"
     ]
    },
    {
     "name": "stdout",
     "output_type": "stream",
     "text": [
      "Epoch 141 [0/383] | loss: 1.6684 (avg: 1.6684) | acc: 0.8359 (avg: 0.8359) |\n",
      "Epoch 141 [100/383] | loss: 1.6201 (avg: 1.5699) | acc: 0.9141 (avg: 0.8674) |\n",
      "Epoch 141 [200/383] | loss: 1.6549 (avg: 1.5741) | acc: 0.8281 (avg: 0.8645) |\n",
      "Epoch 141 [300/383] | loss: 1.5843 (avg: 1.5775) | acc: 0.8438 (avg: 0.8605) |\n"
     ]
    },
    {
     "name": "stderr",
     "output_type": "stream",
     "text": [
      "[eval] 1000/1000: 100%|██████████| 1000/1000 [03:19<00:00,  5.00it/s, acc_nat=0.878, acc_rob=0.542]\n"
     ]
    },
    {
     "name": "stdout",
     "output_type": "stream",
     "text": [
      "Epoch 142 [0/383] | loss: 1.5485 (avg: 1.5485) | acc: 0.9141 (avg: 0.9141) |\n",
      "Epoch 142 [100/383] | loss: 1.5508 (avg: 1.5719) | acc: 0.8828 (avg: 0.8663) |\n",
      "Epoch 142 [200/383] | loss: 1.5137 (avg: 1.5756) | acc: 0.8906 (avg: 0.8642) |\n",
      "Epoch 142 [300/383] | loss: 1.7333 (avg: 1.5771) | acc: 0.8281 (avg: 0.8621) |\n"
     ]
    },
    {
     "name": "stderr",
     "output_type": "stream",
     "text": [
      "[eval] 1000/1000: 100%|██████████| 1000/1000 [03:22<00:00,  4.94it/s, acc_nat=0.929, acc_rob=0.525]\n"
     ]
    },
    {
     "name": "stdout",
     "output_type": "stream",
     "text": [
      "Epoch 143 [0/383] | loss: 1.5689 (avg: 1.5689) | acc: 0.8672 (avg: 0.8672) |\n",
      "Epoch 143 [100/383] | loss: 1.6038 (avg: 1.5826) | acc: 0.8359 (avg: 0.8524) |\n",
      "Epoch 143 [200/383] | loss: 1.5381 (avg: 1.5807) | acc: 0.8750 (avg: 0.8533) |\n",
      "Epoch 143 [300/383] | loss: 1.6311 (avg: 1.5772) | acc: 0.8125 (avg: 0.8573) |\n"
     ]
    },
    {
     "name": "stderr",
     "output_type": "stream",
     "text": [
      "[eval] 1000/1000: 100%|██████████| 1000/1000 [03:19<00:00,  5.02it/s, acc_nat=0.859, acc_rob=0.538]\n"
     ]
    },
    {
     "name": "stdout",
     "output_type": "stream",
     "text": [
      "Epoch 144 [0/383] | loss: 1.6619 (avg: 1.6619) | acc: 0.9141 (avg: 0.9141) |\n",
      "Epoch 144 [100/383] | loss: 1.6092 (avg: 1.5705) | acc: 0.8359 (avg: 0.8687) |\n",
      "Epoch 144 [200/383] | loss: 1.5455 (avg: 1.5727) | acc: 0.8594 (avg: 0.8645) |\n",
      "Epoch 144 [300/383] | loss: 1.5815 (avg: 1.5726) | acc: 0.8516 (avg: 0.8644) |\n"
     ]
    },
    {
     "name": "stderr",
     "output_type": "stream",
     "text": [
      "[eval] 1000/1000: 100%|██████████| 1000/1000 [03:22<00:00,  4.93it/s, acc_nat=0.843, acc_rob=0.542]\n"
     ]
    },
    {
     "name": "stdout",
     "output_type": "stream",
     "text": [
      "Epoch 145 [0/383] | loss: 1.6202 (avg: 1.6202) | acc: 0.8359 (avg: 0.8359) |\n",
      "Epoch 145 [100/383] | loss: 1.7089 (avg: 1.5696) | acc: 0.8672 (avg: 0.8734) |\n",
      "Epoch 145 [200/383] | loss: 1.5322 (avg: 1.5679) | acc: 0.8516 (avg: 0.8760) |\n",
      "Epoch 145 [300/383] | loss: 1.5290 (avg: 1.5706) | acc: 0.9141 (avg: 0.8741) |\n"
     ]
    },
    {
     "name": "stderr",
     "output_type": "stream",
     "text": [
      "[eval] 1000/1000: 100%|██████████| 1000/1000 [03:23<00:00,  4.91it/s, acc_nat=0.845, acc_rob=0.55]\n"
     ]
    },
    {
     "name": "stdout",
     "output_type": "stream",
     "text": [
      "Epoch 146 [0/383] | loss: 1.4885 (avg: 1.4885) | acc: 0.8750 (avg: 0.8750) |\n",
      "Epoch 146 [100/383] | loss: 1.4703 (avg: 1.5766) | acc: 0.9062 (avg: 0.8656) |\n",
      "Epoch 146 [200/383] | loss: 1.5433 (avg: 1.5782) | acc: 0.8672 (avg: 0.8674) |\n",
      "Epoch 146 [300/383] | loss: 1.5572 (avg: 1.5778) | acc: 0.8594 (avg: 0.8665) |\n"
     ]
    },
    {
     "name": "stderr",
     "output_type": "stream",
     "text": [
      "[eval] 1000/1000: 100%|██████████| 1000/1000 [03:25<00:00,  4.87it/s, acc_nat=0.748, acc_rob=0.564]\n"
     ]
    },
    {
     "name": "stdout",
     "output_type": "stream",
     "text": [
      "Epoch 147 [0/383] | loss: 1.5167 (avg: 1.5167) | acc: 0.8906 (avg: 0.8906) |\n",
      "Epoch 147 [100/383] | loss: 1.4842 (avg: 1.5717) | acc: 0.9141 (avg: 0.8737) |\n",
      "Epoch 147 [200/383] | loss: 1.5976 (avg: 1.5707) | acc: 0.9453 (avg: 0.8698) |\n",
      "Epoch 147 [300/383] | loss: 1.4746 (avg: 1.5683) | acc: 0.8359 (avg: 0.8710) |\n"
     ]
    },
    {
     "name": "stderr",
     "output_type": "stream",
     "text": [
      "[eval] 1000/1000: 100%|██████████| 1000/1000 [03:19<00:00,  5.01it/s, acc_nat=0.72, acc_rob=0.554]\n"
     ]
    },
    {
     "name": "stdout",
     "output_type": "stream",
     "text": [
      "Epoch 148 [0/383] | loss: 1.6470 (avg: 1.6470) | acc: 0.8672 (avg: 0.8672) |\n",
      "Epoch 148 [100/383] | loss: 1.5506 (avg: 1.5651) | acc: 0.8594 (avg: 0.8813) |\n",
      "Epoch 148 [200/383] | loss: 1.5536 (avg: 1.5661) | acc: 0.8984 (avg: 0.8828) |\n",
      "Epoch 148 [300/383] | loss: 1.5448 (avg: 1.5664) | acc: 0.9062 (avg: 0.8815) |\n"
     ]
    },
    {
     "name": "stderr",
     "output_type": "stream",
     "text": [
      "[eval] 1000/1000: 100%|██████████| 1000/1000 [03:19<00:00,  5.01it/s, acc_nat=0.345, acc_rob=0.6]\n"
     ]
    },
    {
     "name": "stdout",
     "output_type": "stream",
     "text": [
      "Epoch 149 [0/383] | loss: 1.6163 (avg: 1.6163) | acc: 0.8984 (avg: 0.8984) |\n",
      "Epoch 149 [100/383] | loss: 1.5211 (avg: 1.5690) | acc: 0.8828 (avg: 0.8798) |\n",
      "Epoch 149 [200/383] | loss: 1.6218 (avg: 1.5709) | acc: 0.8828 (avg: 0.8773) |\n",
      "Epoch 149 [300/383] | loss: 1.4940 (avg: 1.5682) | acc: 0.9141 (avg: 0.8786) |\n"
     ]
    },
    {
     "name": "stderr",
     "output_type": "stream",
     "text": [
      "[eval] 1000/1000: 100%|██████████| 1000/1000 [03:18<00:00,  5.03it/s, acc_nat=0.762, acc_rob=0.593]\n"
     ]
    },
    {
     "name": "stdout",
     "output_type": "stream",
     "text": [
      "Epoch 150 [0/383] | loss: 1.6549 (avg: 1.6549) | acc: 0.9219 (avg: 0.9219) |\n",
      "Epoch 150 [100/383] | loss: 1.5369 (avg: 1.5612) | acc: 0.8828 (avg: 0.8871) |\n",
      "Epoch 150 [200/383] | loss: 1.5519 (avg: 1.5662) | acc: 0.9062 (avg: 0.8891) |\n",
      "Epoch 150 [300/383] | loss: 1.5903 (avg: 1.5658) | acc: 0.9062 (avg: 0.8882) |\n"
     ]
    },
    {
     "name": "stderr",
     "output_type": "stream",
     "text": [
      "[eval] 1000/1000: 100%|██████████| 1000/1000 [03:20<00:00,  4.98it/s, acc_nat=0.435, acc_rob=0.596]\n"
     ]
    },
    {
     "name": "stdout",
     "output_type": "stream",
     "text": [
      "Epoch 151 [0/383] | loss: 1.4153 (avg: 1.4153) | acc: 0.9375 (avg: 0.9375) |\n",
      "Epoch 151 [100/383] | loss: 1.5410 (avg: 1.5689) | acc: 0.9219 (avg: 0.8931) |\n",
      "Epoch 151 [200/383] | loss: 1.6308 (avg: 1.5675) | acc: 0.8906 (avg: 0.8935) |\n",
      "Epoch 151 [300/383] | loss: 1.6815 (avg: 1.5661) | acc: 0.8516 (avg: 0.8918) |\n"
     ]
    },
    {
     "name": "stderr",
     "output_type": "stream",
     "text": [
      "[eval] 1000/1000: 100%|██████████| 1000/1000 [03:16<00:00,  5.08it/s, acc_nat=0.831, acc_rob=0.608]\n"
     ]
    },
    {
     "name": "stdout",
     "output_type": "stream",
     "text": [
      "Epoch 152 [0/383] | loss: 1.5896 (avg: 1.5896) | acc: 0.8516 (avg: 0.8516) |\n",
      "Epoch 152 [100/383] | loss: 1.5617 (avg: 1.5700) | acc: 0.8906 (avg: 0.8875) |\n",
      "Epoch 152 [200/383] | loss: 1.5003 (avg: 1.5665) | acc: 0.9297 (avg: 0.8925) |\n",
      "Epoch 152 [300/383] | loss: 1.4353 (avg: 1.5656) | acc: 0.9062 (avg: 0.8917) |\n"
     ]
    },
    {
     "name": "stderr",
     "output_type": "stream",
     "text": [
      "[eval] 1000/1000: 100%|██████████| 1000/1000 [03:18<00:00,  5.04it/s, acc_nat=0.604, acc_rob=0.595]\n"
     ]
    },
    {
     "name": "stdout",
     "output_type": "stream",
     "text": [
      "Epoch 153 [0/383] | loss: 1.4860 (avg: 1.4860) | acc: 0.9062 (avg: 0.9062) |\n",
      "Epoch 153 [100/383] | loss: 1.5784 (avg: 1.5655) | acc: 0.9219 (avg: 0.8919) |\n",
      "Epoch 153 [200/383] | loss: 1.5917 (avg: 1.5619) | acc: 0.8906 (avg: 0.8907) |\n",
      "Epoch 153 [300/383] | loss: 1.5485 (avg: 1.5619) | acc: 0.8750 (avg: 0.8923) |\n"
     ]
    },
    {
     "name": "stderr",
     "output_type": "stream",
     "text": [
      "[eval] 1000/1000: 100%|██████████| 1000/1000 [03:14<00:00,  5.14it/s, acc_nat=0.229, acc_rob=0.577]\n"
     ]
    },
    {
     "name": "stdout",
     "output_type": "stream",
     "text": [
      "Epoch 154 [0/383] | loss: 1.6083 (avg: 1.6083) | acc: 0.8984 (avg: 0.8984) |\n",
      "Epoch 154 [100/383] | loss: 1.5434 (avg: 1.5520) | acc: 0.9141 (avg: 0.9007) |\n",
      "Epoch 154 [200/383] | loss: 1.6167 (avg: 1.5588) | acc: 0.9062 (avg: 0.8990) |\n",
      "Epoch 154 [300/383] | loss: 1.6103 (avg: 1.5601) | acc: 0.8828 (avg: 0.8987) |\n"
     ]
    },
    {
     "name": "stderr",
     "output_type": "stream",
     "text": [
      "[eval] 1000/1000: 100%|██████████| 1000/1000 [03:20<00:00,  4.99it/s, acc_nat=0.279, acc_rob=0.564]\n"
     ]
    },
    {
     "name": "stdout",
     "output_type": "stream",
     "text": [
      "Epoch 155 [0/383] | loss: 1.5511 (avg: 1.5511) | acc: 0.8672 (avg: 0.8672) |\n",
      "Epoch 155 [100/383] | loss: 1.5271 (avg: 1.5630) | acc: 0.9531 (avg: 0.9101) |\n",
      "Epoch 155 [200/383] | loss: 1.5529 (avg: 1.5619) | acc: 0.8672 (avg: 0.9071) |\n",
      "Epoch 155 [300/383] | loss: 1.5929 (avg: 1.5619) | acc: 0.8984 (avg: 0.9072) |\n"
     ]
    },
    {
     "name": "stderr",
     "output_type": "stream",
     "text": [
      "[eval] 1000/1000: 100%|██████████| 1000/1000 [03:18<00:00,  5.05it/s, acc_nat=0.589, acc_rob=0.547]\n"
     ]
    },
    {
     "name": "stdout",
     "output_type": "stream",
     "text": [
      "Epoch 156 [0/383] | loss: 1.6327 (avg: 1.6327) | acc: 0.9062 (avg: 0.9062) |\n",
      "Epoch 156 [100/383] | loss: 1.6104 (avg: 1.5660) | acc: 0.8750 (avg: 0.9135) |\n",
      "Epoch 156 [200/383] | loss: 1.5388 (avg: 1.5610) | acc: 0.9375 (avg: 0.9121) |\n",
      "Epoch 156 [300/383] | loss: 1.5986 (avg: 1.5601) | acc: 0.9609 (avg: 0.9112) |\n"
     ]
    },
    {
     "name": "stderr",
     "output_type": "stream",
     "text": [
      "[eval] 1000/1000: 100%|██████████| 1000/1000 [03:19<00:00,  5.01it/s, acc_nat=0.285, acc_rob=0.629]\n"
     ]
    },
    {
     "name": "stdout",
     "output_type": "stream",
     "text": [
      "Epoch 157 [0/383] | loss: 1.5257 (avg: 1.5257) | acc: 0.9375 (avg: 0.9375) |\n",
      "Epoch 157 [100/383] | loss: 1.5862 (avg: 1.5499) | acc: 0.8984 (avg: 0.9228) |\n",
      "Epoch 157 [200/383] | loss: 1.5414 (avg: 1.5532) | acc: 0.9375 (avg: 0.9225) |\n",
      "Epoch 157 [300/383] | loss: 1.5177 (avg: 1.5505) | acc: 0.9609 (avg: 0.9255) |\n"
     ]
    },
    {
     "name": "stderr",
     "output_type": "stream",
     "text": [
      "[eval] 1000/1000: 100%|██████████| 1000/1000 [03:20<00:00,  4.98it/s, acc_nat=0.406, acc_rob=0.656]\n"
     ]
    },
    {
     "name": "stdout",
     "output_type": "stream",
     "text": [
      "Epoch 158 [0/383] | loss: 1.5652 (avg: 1.5652) | acc: 0.9141 (avg: 0.9141) |\n",
      "Epoch 158 [100/383] | loss: 1.5278 (avg: 1.5536) | acc: 0.9453 (avg: 0.9302) |\n",
      "Epoch 158 [200/383] | loss: 1.4181 (avg: 1.5482) | acc: 0.9375 (avg: 0.9314) |\n",
      "Epoch 158 [300/383] | loss: 1.5542 (avg: 1.5480) | acc: 0.9219 (avg: 0.9331) |\n"
     ]
    },
    {
     "name": "stderr",
     "output_type": "stream",
     "text": [
      "[eval] 1000/1000: 100%|██████████| 1000/1000 [03:25<00:00,  4.87it/s, acc_nat=0.357, acc_rob=0.647]\n"
     ]
    },
    {
     "name": "stdout",
     "output_type": "stream",
     "text": [
      "Epoch 159 [0/383] | loss: 1.5715 (avg: 1.5715) | acc: 0.8984 (avg: 0.8984) |\n",
      "Epoch 159 [100/383] | loss: 1.5831 (avg: 1.5394) | acc: 0.9375 (avg: 0.9389) |\n",
      "Epoch 159 [200/383] | loss: 1.5743 (avg: 1.5444) | acc: 0.9609 (avg: 0.9379) |\n",
      "Epoch 159 [300/383] | loss: 1.5327 (avg: 1.5457) | acc: 0.9453 (avg: 0.9391) |\n"
     ]
    },
    {
     "name": "stderr",
     "output_type": "stream",
     "text": [
      "[eval] 1000/1000: 100%|██████████| 1000/1000 [03:20<00:00,  5.00it/s, acc_nat=0.21, acc_rob=0.633]\n"
     ]
    },
    {
     "name": "stdout",
     "output_type": "stream",
     "text": [
      "Epoch 160 [0/383] | loss: 1.5623 (avg: 1.5623) | acc: 0.8984 (avg: 0.8984) |\n",
      "Epoch 160 [100/383] | loss: 1.5434 (avg: 1.5396) | acc: 0.9219 (avg: 0.9435) |\n",
      "Epoch 160 [200/383] | loss: 1.4204 (avg: 1.5420) | acc: 0.9453 (avg: 0.9442) |\n",
      "Epoch 160 [300/383] | loss: 1.5543 (avg: 1.5459) | acc: 0.9531 (avg: 0.9435) |\n"
     ]
    },
    {
     "name": "stderr",
     "output_type": "stream",
     "text": [
      "[eval] 1000/1000: 100%|██████████| 1000/1000 [03:19<00:00,  5.01it/s, acc_nat=0.22, acc_rob=0.589]\n"
     ]
    },
    {
     "name": "stdout",
     "output_type": "stream",
     "text": [
      "Epoch 161 [0/383] | loss: 1.5436 (avg: 1.5436) | acc: 0.9375 (avg: 0.9375) |\n",
      "Epoch 161 [100/383] | loss: 1.5398 (avg: 1.5346) | acc: 0.9688 (avg: 0.9435) |\n",
      "Epoch 161 [200/383] | loss: 1.5034 (avg: 1.5368) | acc: 0.9609 (avg: 0.9451) |\n",
      "Epoch 161 [300/383] | loss: 1.5669 (avg: 1.5388) | acc: 0.9609 (avg: 0.9464) |\n"
     ]
    },
    {
     "name": "stderr",
     "output_type": "stream",
     "text": [
      "[eval] 1000/1000: 100%|██████████| 1000/1000 [03:18<00:00,  5.04it/s, acc_nat=0.284, acc_rob=0.623]\n"
     ]
    },
    {
     "name": "stdout",
     "output_type": "stream",
     "text": [
      "Epoch 162 [0/383] | loss: 1.5418 (avg: 1.5418) | acc: 0.9531 (avg: 0.9531) |\n",
      "Epoch 162 [100/383] | loss: 1.5590 (avg: 1.5464) | acc: 0.9688 (avg: 0.9490) |\n",
      "Epoch 162 [200/383] | loss: 1.5634 (avg: 1.5418) | acc: 0.9141 (avg: 0.9483) |\n",
      "Epoch 162 [300/383] | loss: 1.5049 (avg: 1.5434) | acc: 0.9219 (avg: 0.9484) |\n"
     ]
    },
    {
     "name": "stderr",
     "output_type": "stream",
     "text": [
      "[eval] 1000/1000: 100%|██████████| 1000/1000 [03:19<00:00,  5.01it/s, acc_nat=0.192, acc_rob=0.608]\n"
     ]
    },
    {
     "name": "stdout",
     "output_type": "stream",
     "text": [
      "Epoch 163 [0/383] | loss: 1.4225 (avg: 1.4225) | acc: 0.9766 (avg: 0.9766) |\n",
      "Epoch 163 [100/383] | loss: 1.5941 (avg: 1.5389) | acc: 0.9453 (avg: 0.9541) |\n",
      "Epoch 163 [200/383] | loss: 1.5810 (avg: 1.5344) | acc: 0.9531 (avg: 0.9523) |\n",
      "Epoch 163 [300/383] | loss: 1.5234 (avg: 1.5369) | acc: 0.9609 (avg: 0.9513) |\n"
     ]
    },
    {
     "name": "stderr",
     "output_type": "stream",
     "text": [
      "[eval] 1000/1000: 100%|██████████| 1000/1000 [03:19<00:00,  5.02it/s, acc_nat=0.663, acc_rob=0.675]\n"
     ]
    },
    {
     "name": "stdout",
     "output_type": "stream",
     "text": [
      "Epoch 164 [0/383] | loss: 1.4635 (avg: 1.4635) | acc: 0.9766 (avg: 0.9766) |\n",
      "Epoch 164 [100/383] | loss: 1.5929 (avg: 1.5409) | acc: 0.9609 (avg: 0.9567) |\n",
      "Epoch 164 [200/383] | loss: 1.6097 (avg: 1.5384) | acc: 0.9531 (avg: 0.9557) |\n",
      "Epoch 164 [300/383] | loss: 1.5584 (avg: 1.5394) | acc: 0.9688 (avg: 0.9546) |\n"
     ]
    },
    {
     "name": "stderr",
     "output_type": "stream",
     "text": [
      "[eval] 1000/1000: 100%|██████████| 1000/1000 [03:19<00:00,  5.01it/s, acc_nat=0.619, acc_rob=0.603]\n"
     ]
    },
    {
     "name": "stdout",
     "output_type": "stream",
     "text": [
      "Epoch 165 [0/383] | loss: 1.5946 (avg: 1.5946) | acc: 0.9688 (avg: 0.9688) |\n",
      "Epoch 165 [100/383] | loss: 1.5970 (avg: 1.5453) | acc: 0.9766 (avg: 0.9513) |\n",
      "Epoch 165 [200/383] | loss: 1.5539 (avg: 1.5430) | acc: 0.9453 (avg: 0.9536) |\n",
      "Epoch 165 [300/383] | loss: 1.5595 (avg: 1.5451) | acc: 0.9375 (avg: 0.9532) |\n"
     ]
    },
    {
     "name": "stderr",
     "output_type": "stream",
     "text": [
      "[eval] 1000/1000: 100%|██████████| 1000/1000 [03:16<00:00,  5.08it/s, acc_nat=0.809, acc_rob=0.644]\n"
     ]
    },
    {
     "name": "stdout",
     "output_type": "stream",
     "text": [
      "Epoch 166 [0/383] | loss: 1.5474 (avg: 1.5474) | acc: 0.9453 (avg: 0.9453) |\n",
      "Epoch 166 [100/383] | loss: 1.6315 (avg: 1.5421) | acc: 0.9141 (avg: 0.9532) |\n",
      "Epoch 166 [200/383] | loss: 1.5193 (avg: 1.5381) | acc: 0.9688 (avg: 0.9541) |\n",
      "Epoch 166 [300/383] | loss: 1.4788 (avg: 1.5376) | acc: 0.9531 (avg: 0.9549) |\n"
     ]
    },
    {
     "name": "stderr",
     "output_type": "stream",
     "text": [
      "[eval] 1000/1000: 100%|██████████| 1000/1000 [03:20<00:00,  4.99it/s, acc_nat=0.483, acc_rob=0.601]\n"
     ]
    },
    {
     "name": "stdout",
     "output_type": "stream",
     "text": [
      "Epoch 167 [0/383] | loss: 1.5932 (avg: 1.5932) | acc: 0.9219 (avg: 0.9219) |\n",
      "Epoch 167 [100/383] | loss: 1.4944 (avg: 1.5441) | acc: 0.9297 (avg: 0.9554) |\n",
      "Epoch 167 [200/383] | loss: 1.5081 (avg: 1.5416) | acc: 0.9766 (avg: 0.9574) |\n",
      "Epoch 167 [300/383] | loss: 1.4701 (avg: 1.5432) | acc: 0.9141 (avg: 0.9563) |\n"
     ]
    },
    {
     "name": "stderr",
     "output_type": "stream",
     "text": [
      "[eval] 1000/1000: 100%|██████████| 1000/1000 [03:18<00:00,  5.04it/s, acc_nat=0.461, acc_rob=0.556]\n"
     ]
    },
    {
     "name": "stdout",
     "output_type": "stream",
     "text": [
      "Epoch 168 [0/383] | loss: 1.5162 (avg: 1.5162) | acc: 0.9766 (avg: 0.9766) |\n",
      "Epoch 168 [100/383] | loss: 1.5001 (avg: 1.5441) | acc: 0.9531 (avg: 0.9578) |\n",
      "Epoch 168 [200/383] | loss: 1.4493 (avg: 1.5450) | acc: 0.9453 (avg: 0.9589) |\n",
      "Epoch 168 [300/383] | loss: 1.5917 (avg: 1.5405) | acc: 0.9453 (avg: 0.9580) |\n"
     ]
    },
    {
     "name": "stderr",
     "output_type": "stream",
     "text": [
      "[eval] 1000/1000: 100%|██████████| 1000/1000 [03:32<00:00,  4.71it/s, acc_nat=0.416, acc_rob=0.575]\n"
     ]
    },
    {
     "name": "stdout",
     "output_type": "stream",
     "text": [
      "Epoch 169 [0/383] | loss: 1.5215 (avg: 1.5215) | acc: 0.9844 (avg: 0.9844) |\n",
      "Epoch 169 [100/383] | loss: 1.5203 (avg: 1.5435) | acc: 0.9609 (avg: 0.9605) |\n",
      "Epoch 169 [200/383] | loss: 1.5634 (avg: 1.5403) | acc: 0.9219 (avg: 0.9603) |\n",
      "Epoch 169 [300/383] | loss: 1.6576 (avg: 1.5408) | acc: 0.9141 (avg: 0.9592) |\n"
     ]
    },
    {
     "name": "stderr",
     "output_type": "stream",
     "text": [
      "[eval] 1000/1000: 100%|██████████| 1000/1000 [03:18<00:00,  5.05it/s, acc_nat=0.481, acc_rob=0.602]\n"
     ]
    },
    {
     "name": "stdout",
     "output_type": "stream",
     "text": [
      "Epoch 170 [0/383] | loss: 1.5455 (avg: 1.5455) | acc: 0.9688 (avg: 0.9688) |\n",
      "Epoch 170 [100/383] | loss: 1.5912 (avg: 1.5329) | acc: 0.9766 (avg: 0.9608) |\n",
      "Epoch 170 [200/383] | loss: 1.6488 (avg: 1.5371) | acc: 0.9609 (avg: 0.9590) |\n",
      "Epoch 170 [300/383] | loss: 1.5669 (avg: 1.5388) | acc: 0.9609 (avg: 0.9591) |\n"
     ]
    },
    {
     "name": "stderr",
     "output_type": "stream",
     "text": [
      "[eval] 383/1000:  38%|███▊      | 382/1000 [01:16<02:00,  5.14it/s, acc_nat=0.12, acc_rob=0.219] "
     ]
    }
   ],
   "source": [
    "os.environ['CUDA_VISIBLE_DEVICES'] = gpu\n",
    "os.makedirs(checkpoint, exist_ok=True)\n",
    "\n",
    "train_transform = transforms.Compose([\n",
    "    transforms.RandomCrop(32, padding=4),\n",
    "    transforms.RandomHorizontalFlip(),\n",
    "    transforms.ToTensor()])\n",
    "train_dataset, _ = get_dataloader(dataset, batch_size)\n",
    "num_samples = len(train_dataset)\n",
    "num_samples_for_train = int(num_samples * 0.98)\n",
    "num_samples_for_valid = num_samples - num_samples_for_train\n",
    "train_set, valid_set = random_split(train_dataset, [num_samples_for_train, num_samples_for_valid])\n",
    "train_dataloader = DataLoader(train_set, batch_size=batch_size, shuffle=True, drop_last=False)\n",
    "valid_dataloader = DataLoader(valid_set, batch_size=1, shuffle=True, drop_last=False)\n",
    "\n",
    "model = nn.DataParallel(get_network(model_type, num_classes).cuda())\n",
    "optimizer = optim.SGD(model.parameters(),lr=lr, momentum=momentum, weight_decay=weight_decay)\n",
    "\n",
    "scheduler = [int(total_epochs*0.5), int(total_epochs*0.75)]\n",
    "adjust_learning_rate = lr_scheduler.MultiStepLR(optimizer, scheduler, gamma=0.1)\n",
    "best_acc_nat, best_acc_rob = 0, 0\n",
    "\n",
    "for epoch in range(total_epochs):\n",
    "    training(epoch, model, train_dataloader, optimizer, num_classes,\n",
    "             lam1, lam2, gamma, epsilon, alpha, num_repeats)\n",
    "    test_acc_nat, test_acc_rob = evaluation(epoch, model, valid_dataloader, alpha, epsilon, num_repeats)\n",
    "    \n",
    "    is_best = best_acc_nat < test_acc_nat and best_acc_rob < test_acc_rob\n",
    "    best_acc_nat = max(best_acc_nat, test_acc_nat)\n",
    "    best_acc_rob = max(best_acc_rob, test_acc_rob)\n",
    "    save_checkpoint = {'state_dict': model.state_dict(),\n",
    "                       'best_acc_nat': best_acc_nat,\n",
    "                       'best_acc_rob': best_acc_rob,\n",
    "                       'optimizer': optimizer.state_dict(),\n",
    "                       'model_type': model_type,\n",
    "                       'dataset': dataset}\n",
    "    torch.save(save_checkpoint, os.path.join(checkpoint, 'model'))\n",
    "    if is_best:\n",
    "        torch.save(save_checkpoint, os.path.join(checkpoint, 'best_model'))\n",
    "    adjust_learning_rate.step()\n"
   ]
  },
  {
   "cell_type": "code",
   "execution_count": null,
   "id": "67273057-ddb6-4294-b7ae-3aa932ab0cea",
   "metadata": {},
   "outputs": [],
   "source": []
  }
 ],
 "metadata": {
  "kernelspec": {
   "display_name": "Python 3",
   "language": "python",
   "name": "python3"
  },
  "language_info": {
   "codemirror_mode": {
    "name": "ipython",
    "version": 3
   },
   "file_extension": ".py",
   "mimetype": "text/x-python",
   "name": "python",
   "nbconvert_exporter": "python",
   "pygments_lexer": "ipython3",
   "version": "3.6.9"
  }
 },
 "nbformat": 4,
 "nbformat_minor": 5
}
